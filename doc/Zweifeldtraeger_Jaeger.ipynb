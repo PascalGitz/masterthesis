{
 "cells": [
  {
   "cell_type": "markdown",
   "metadata": {},
   "source": [
    "# Zweifeldträger Schulbeispiel\n",
    "\n",
    "Das Vorlesungsbeispiel verfolgt das Ziel, die Verformungen eines Zweifeldträgers für zwei Betonstähle mit unterschiedlichen Duktilitätsklassen aufzuzeigen. @jager_stahlbeton_2009.\n",
    "\n",
    "![Statisches System des Zweifeldträgers mit Abmessungen versehen, daneben der Querschnitt mit Angaben zu der Längsbewehrung](../imgs/zweifeld_system.png){#fig-zweifeld_system}\n",
    "\n",
    "Zunächst wird die analytische Lösung vollumfänglich dargestellt und mit numerischen Werten substituiert. Abschliessend wird das Verformungsverhalten mit dem Federmodell nachmodelliert, bzw. numerisch approximiert."
   ]
  },
  {
   "cell_type": "markdown",
   "metadata": {},
   "source": [
    "## Allgemeines\n",
    "\n",
    "Vorgängig zu den Berechnungen werden die verwendeten Modelle kurz erläutert.\n",
    "\n",
    "### Modellbildung - Zuggurtmodell\n",
    "\n",
    "### Annahmen\n",
    "\n",
    "- Zwei unterschiedliche Stähle\n",
    "- konstant gerissene Biegesteifigkeit entlang der Stabachse\n",
    "\n",
    "### Parameter\n",
    "\n"
   ]
  },
  {
   "cell_type": "code",
   "execution_count": 1,
   "metadata": {},
   "outputs": [],
   "source": [
    "# | echo: false\n",
    "\n",
    "from packages import *"
   ]
  },
  {
   "cell_type": "markdown",
   "metadata": {},
   "source": [
    "#### Bewehrung"
   ]
  },
  {
   "cell_type": "code",
   "execution_count": 2,
   "metadata": {},
   "outputs": [
    {
     "data": {
      "text/markdown": [
       "$$\n",
       "\\begin{aligned}\n",
       "\\oslash_{x} & = 14 \\ \\mathrm{mm} \\quad & s_{x} & = 200 \\ \\mathrm{mm} \\quad & \\oslash_{y} & = 12 \\ \\mathrm{mm} \\\\ \n",
       "s_{y} & = 200 \\ \\mathrm{mm} \\quad & a_{s} & = 769.69 \\ \\frac{\\mathrm{mm}^{2}}{\\mathrm{m}} \\quad &  \n",
       " \\end{aligned}\n",
       "$$"
      ],
      "text/plain": [
       "<IPython.core.display.Markdown object>"
      ]
     },
     "metadata": {},
     "output_type": "display_data"
    }
   ],
   "source": [
    "# Längsbewehrung in X-Richtung gerichtet\n",
    "diam_x = 14 * mm\n",
    "\n",
    "# Teilung der Längsbewehrung\n",
    "s_x = 200 * mm\n",
    "\n",
    "# Längsbewehrung in Y-Richtung gerichtet\n",
    "diam_y = 12 * mm\n",
    "\n",
    "# Teilung der Längsbewehrung\n",
    "s_y = 200 * mm\n",
    "\n",
    "# Querschnittsfläche der Längsbewehrung, pro Längeneinheit\n",
    "a_s = (diam_x**2 / 4 * np.pi / s_x).to(mm**2 / m)\n",
    "\n",
    "put_out()"
   ]
  },
  {
   "cell_type": "markdown",
   "metadata": {},
   "source": [
    "#### Geometrie"
   ]
  },
  {
   "cell_type": "code",
   "execution_count": 3,
   "metadata": {},
   "outputs": [
    {
     "data": {
      "text/markdown": [
       "$$\n",
       "\\begin{aligned}\n",
       "c & = 20 \\ \\mathrm{mm} \\quad & h & = 300 \\ \\mathrm{mm} \\quad & b_{w} & = 1 \\ \\mathrm{m} \\\\ \n",
       "l & = 8 \\ \\mathrm{m} \\quad & d_{x} & = 261.0 \\ \\mathrm{mm} \\quad &  \n",
       " \\end{aligned}\n",
       "$$"
      ],
      "text/plain": [
       "<IPython.core.display.Markdown object>"
      ]
     },
     "metadata": {},
     "output_type": "display_data"
    }
   ],
   "source": [
    "# Betonüberdeckung\n",
    "c = 20 * mm\n",
    "\n",
    "# Plattenstärke\n",
    "h = 300 * mm\n",
    "\n",
    "# Streifenbreite\n",
    "b_w = 1 * m\n",
    "\n",
    "# Balkenlänge\n",
    "l = 8 * m\n",
    "\n",
    "# Statische Höhe in X-Richtung\n",
    "d_x = h - c - diam_y - 1 / 2 * diam_x\n",
    "\n",
    "put_out()"
   ]
  },
  {
   "cell_type": "markdown",
   "metadata": {},
   "source": [
    "#### Beton"
   ]
  },
  {
   "cell_type": "code",
   "execution_count": 4,
   "metadata": {},
   "outputs": [
    {
     "data": {
      "text/markdown": [
       "$$\n",
       "\\begin{aligned}\n",
       "f_{cc} & = 30.0 \\ \\frac{\\mathrm{N}}{\\mathrm{mm}^{2}} \\quad & f_{ct} & = 2.9 \\ \\frac{\\mathrm{N}}{\\mathrm{mm}^{2}} \\quad & f_{c} & = 24.14 \\ \\frac{\\mathrm{N}}{\\mathrm{mm}^{2}} \\\\ \n",
       "E_{c} & = 29.3 \\ \\frac{\\mathrm{kN}}{\\mathrm{mm}^{2}} \\quad & \\varepsilon_{cu} & = 5 \\ \\mathrm{‰} \\quad &  \n",
       " \\end{aligned}\n",
       "$$"
      ],
      "text/plain": [
       "<IPython.core.display.Markdown object>"
      ]
     },
     "metadata": {},
     "output_type": "display_data"
    }
   ],
   "source": [
    "# Zylinderdruckfestigkeit vorausgesetzt\n",
    "f_cc = 30 * N / mm**2\n",
    "\n",
    "# Betonzugfestigkeit, nicht einheitentreu\n",
    "f_ct = (0.3 * f_cc.m ** (2 / 3)) * N / mm**2\n",
    "\n",
    "# Effektive Betondruckfestigkeit, nicht einheitentreu\n",
    "f_c = (2.5 * f_cc.m ** (2 / 3)) * N / mm**2\n",
    "\n",
    "# Elastizitätsmodul des Betons\n",
    "E_c = 29.3 * kN / mm**2\n",
    "\n",
    "# Bruchstauchung Erfahrungswert\n",
    "varepsilon_cu = 5 * permille\n",
    "\n",
    "put_out()"
   ]
  },
  {
   "cell_type": "markdown",
   "metadata": {},
   "source": [
    "## Kaltverformter Betonstahl - B500A\n",
    "\n",
    "### Eigenschaften des Betonstahls\n",
    "\n",
    "Allgemein werden die Eigenschaften für den Betonstahl B500A mit einem Suffix $A$ gekennzeichnet.\n"
   ]
  },
  {
   "cell_type": "code",
   "execution_count": 5,
   "metadata": {},
   "outputs": [
    {
     "data": {
      "text/markdown": [
       "$$\n",
       "\\begin{aligned}\n",
       "f_{sy A} & = 570.0 \\ \\frac{\\mathrm{N}}{\\mathrm{mm}^{2}} \\quad & f_{su A} & = 600.0 \\ \\frac{\\mathrm{N}}{\\mathrm{mm}^{2}} \\quad & \\varepsilon_{sy A} & = 2.78 \\ \\mathrm{‰} \\\\ \n",
       "\\varepsilon_{su A} & = 25 \\ \\mathrm{‰} \\quad & E_{s A} & = 205.0 \\ \\frac{\\mathrm{kN}}{\\mathrm{mm}^{2}} \\quad & E_{sh A} & = 1350.0 \\ \\frac{\\mathrm{N}}{\\mathrm{mm}^{2}} \\end{aligned}\n",
       "$$"
      ],
      "text/plain": [
       "<IPython.core.display.Markdown object>"
      ]
     },
     "metadata": {},
     "output_type": "display_data"
    }
   ],
   "source": [
    "# Fliessgrenze\n",
    "f_sy_A = 570 * N / mm**2\n",
    "\n",
    "# Zugfestigkeit\n",
    "f_su_A = 600 * N / mm**2\n",
    "\n",
    "# Fliessdehnung\n",
    "varepsilon_sy_A = 2.78 * permille\n",
    "\n",
    "# Bruchdehnung\n",
    "varepsilon_su_A = 25 * permille\n",
    "\n",
    "# Elastizitätsmodul\n",
    "E_s_A = 205 * kN / mm**2\n",
    "\n",
    "# Verfestigungsmodul\n",
    "E_sh_A = 1350 * N / mm**2\n",
    "\n",
    "put_out()"
   ]
  },
  {
   "cell_type": "code",
   "execution_count": 6,
   "metadata": {},
   "outputs": [],
   "source": [
    "# | echo: false\n",
    "\n",
    "stress_b500a_array = np.array([0, f_sy_A.m, f_su_A.m]) * MPa\n",
    "strain_b500a_array = np.array([0, varepsilon_sy_A, varepsilon_su_A])\n",
    "\n",
    "\n",
    "fig_b500a, ax_b500a = plt.subplots()\n",
    "\n",
    "ax_b500a.plot(strain_b500a_array, stress_b500a_array.to(MPa).m, color=\"k\")\n",
    "\n",
    "# #lines\n",
    "# ax_b500a.axvline(x= varepsilon_sy_A.to(los), ymax= 0.6, ymin=0.1, color='black', linestyle='--')\n",
    "# ax_b500a.axvline(x= varepsilon_su_A.to(los), ymax= 0.6, ymin=0.1, color='black', linestyle='--')\n",
    "\n",
    "# Set axis labels\n",
    "ax_b500a.set_ylabel(r\"$\\sigma$ [N/mm$^2$]\")\n",
    "ax_b500a.set_xlabel(r\"$\\varepsilon_s$ [-]\")\n",
    "\n",
    "# Set limits\n",
    "ax_b500a.set_xlim(xmax=135 / 1000)\n",
    "ax_b500a.set_ylim(ymax=750)\n",
    "\n",
    "# Show the plot\n",
    "plt.tight_layout()\n",
    "plt.savefig(\"imgs/jag_stress_strain_b500a.svg\")\n",
    "plt.close()"
   ]
  },
  {
   "cell_type": "markdown",
   "metadata": {},
   "source": [
    "![Spannungs-Dehnungs-Beziehung des Betonstahls B500A](../imgs/jag_stress_strain_b500a_bearb.svg){#stress_strain_b500a}"
   ]
  },
  {
   "cell_type": "markdown",
   "metadata": {},
   "source": [
    "### Linear elastische - gerissene Biegesteifigkeit\n",
    "\n",
    "Querschnittsanalyse:\n"
   ]
  },
  {
   "cell_type": "code",
   "execution_count": 7,
   "metadata": {},
   "outputs": [
    {
     "data": {
      "text/markdown": [
       "$$\n",
       "\\begin{aligned}\n",
       "n & = 7.0 \\  \\end{aligned}\n",
       "$$"
      ],
      "text/plain": [
       "<IPython.core.display.Markdown object>"
      ]
     },
     "metadata": {},
     "output_type": "display_data"
    }
   ],
   "source": [
    "\n",
    "\n",
    "# Wertigkeit der Elastizitätsmodule\n",
    "n = E_s_A / E_c\n",
    "\n",
    "put_out()"
   ]
  },
  {
   "cell_type": "markdown",
   "metadata": {},
   "source": [
    "Die Druckzonenhöhe wird mittels dem Gleichgewicht der horizontalen Kräfte ermittelt"
   ]
  },
  {
   "cell_type": "code",
   "execution_count": 8,
   "metadata": {},
   "outputs": [],
   "source": [
    "# Mittels Sympy (CAS für Python) wird eine analytische Lösung der\n",
    "# Druckzonenhöhe für den gerissenen Querschnitt ermittelt.\n",
    "\n",
    "# Summe der horizontalen Kräfte\n",
    "sum_Fx = sp.sympify(\"1/2*x*b_w*sigma_c -sigma_s*a_s*b_w\")\n",
    "\n",
    "# Definition der Spannung in Abhängigkeit der Dehnungen\n",
    "expr_sigma_c = sp.sympify(\"varepsilon_c * E_c\")\n",
    "expr_sigma_s = sp.sympify(\"varepsilon_s * n * E_c\")\n",
    "\n",
    "# Die Beziehung zwischen der Stahl- und Betondehnung nach Hook\n",
    "expr_epsilon_c = sp.sympify(\"varepsilon_s /(d-x)*x\")\n",
    "\n",
    "# Substitution der Gleichungen\n",
    "sum_Fx_subs = sum_Fx.subs(\n",
    "    {\n",
    "        \"sigma_c\": expr_sigma_c.subs(\"varepsilon_c\", expr_epsilon_c),\n",
    "        \"sigma_s\": expr_sigma_s,\n",
    "    }\n",
    ")\n",
    "\n",
    "# Erstellen einer numerischen Funktion\n",
    "x_solve = sp.solve(sum_Fx_subs, \"x\")[1]\n",
    "x_solve_lambd = sp.lambdify((\"a_s\", \"b_w\", \"n\", \"d\"), x_solve)"
   ]
  },
  {
   "cell_type": "code",
   "execution_count": 9,
   "metadata": {},
   "outputs": [
    {
     "data": {
      "text/markdown": [
       "$$\n",
       "\\begin{aligned}\n",
       "x_{II} & = 47.91 \\ \\mathrm{mm} \\quad & I_{cII} & = 36650532.72 \\ \\mathrm{mm}^{4} \\quad & I_{sII} & = 244534349.46 \\ \\mathrm{mm}^{4} \\\\ \n",
       "I_{II} & = 281184882.18 \\ \\mathrm{mm}^{4} \\quad & EI_{II} & = 8238.72 \\ \\mathrm{kN} \\cdot \\mathrm{m}^{2} \\quad &  \n",
       " \\end{aligned}\n",
       "$$"
      ],
      "text/plain": [
       "<IPython.core.display.Markdown object>"
      ]
     },
     "metadata": {},
     "output_type": "display_data"
    }
   ],
   "source": [
    "# Druckzonenhöhe mit Parametern substituiert\n",
    "x_II = x_solve_lambd(a_s, b_w, n, d_x).to(mm)\n",
    "\n",
    "# Flächenmoment 2. Grades für den gerissenen Querschnitt\n",
    "I_cII = (b_w * x_II**3 / 12 + b_w * x_II * (x_II / 2) ** 2).to(mm**4)\n",
    "I_sII = (a_s * b_w * n * (d_x - x_II) ** 2).to(mm**4)\n",
    "I_II = (I_cII + I_sII).to(mm**4)\n",
    "\n",
    "# Gerissene Biegesteifigkeit\n",
    "EI_II = (E_c * I_II).to(kN * m**2)\n",
    "\n",
    "put_out()"
   ]
  },
  {
   "cell_type": "markdown",
   "metadata": {},
   "source": [
    "Damit ist die Biegesteifigkeit definiert."
   ]
  },
  {
   "cell_type": "markdown",
   "metadata": {},
   "source": [
    "### Hebelarm der inneren Kräfte"
   ]
  },
  {
   "cell_type": "markdown",
   "metadata": {},
   "source": [
    "Der Hebelarm der inneren Kräfte wird für den gesamten Träger als konstant angenommen.\n",
    "Dabei wird dem Beton die Zylinderdruckfestigkeit hinterlegt, sowie erreich der Stahl die Zugfestigkeit."
   ]
  },
  {
   "cell_type": "code",
   "execution_count": 10,
   "metadata": {},
   "outputs": [
    {
     "data": {
      "text/markdown": [
       "$$\n",
       "\\begin{aligned}\n",
       "x_{dv} & = 18.11 \\ \\mathrm{mm} \\quad & d_{v} & = 253.3 \\ \\mathrm{mm} \\quad & m_{us} & = 116.98 \\ \\mathrm{kN} \\end{aligned}\n",
       "$$"
      ],
      "text/plain": [
       "<IPython.core.display.Markdown object>"
      ]
     },
     "metadata": {},
     "output_type": "display_data"
    }
   ],
   "source": [
    "# Druckzonenhöhe für den Zustand\n",
    "x_dv = (a_s * b_w * f_su_A / (0.85 * f_cc * b_w)).to(mm)\n",
    "\n",
    "# Hebelarm der inneren Kräfte für diesen Zustand\n",
    "d_v = d_x - 1 / 2 * 0.85 * x_dv\n",
    "\n",
    "# Biegewiderstand für diesen Zustand\n",
    "m_us = (a_s * f_su_A * d_v).to(kN)\n",
    "\n",
    "put_out()"
   ]
  },
  {
   "cell_type": "markdown",
   "metadata": {},
   "source": [
    "### Rissabstand\n",
    "\n",
    "Frage an Hda, was hier gerechnet wird"
   ]
  },
  {
   "cell_type": "code",
   "execution_count": 11,
   "metadata": {},
   "outputs": [
    {
     "data": {
      "text/markdown": [
       "$$\n",
       "\\begin{aligned}\n",
       "h_{eff} & = 78.0 \\ \\mathrm{mm} \\quad & \\rho & = 0.99 \\ \\mathrm{\\%} \\quad & s_{r0} & = 351.19 \\ \\mathrm{mm} \\\\ \n",
       "s_{rl} & = 175.59 \\ \\mathrm{mm} \\quad & s_{r} & = 200 \\ \\mathrm{mm} \\quad &  \n",
       " \\end{aligned}\n",
       "$$"
      ],
      "text/plain": [
       "<IPython.core.display.Markdown object>"
      ]
     },
     "metadata": {},
     "output_type": "display_data"
    }
   ],
   "source": [
    "# Abschätzung der mitwirkenden Höhe der Betonzugzone\n",
    "h_eff = 2 * (h - d_x)\n",
    "\n",
    "# Geometrischer Bewehrungsgehalt\n",
    "rho = (a_s / h_eff).to(percent)\n",
    "\n",
    "# maximaler Rissabstand\n",
    "s_r0 = (diam_x * (1 - rho) / (4 * rho)).to(mm)\n",
    "\n",
    "# minimaler Rissabstand\n",
    "s_rl = 1 / 2 * s_r0\n",
    "\n",
    "# Annahme des Rissabstandes, entspricht dem Abstand der Querstäbe\n",
    "s_r = 200 * mm\n",
    "\n",
    "put_out()"
   ]
  },
  {
   "cell_type": "markdown",
   "metadata": {},
   "source": [
    "### Risselement bei Fliessbeginn "
   ]
  },
  {
   "cell_type": "code",
   "execution_count": 12,
   "metadata": {},
   "outputs": [
    {
     "data": {
      "text/markdown": [
       "$$\n",
       "\\begin{aligned}\n",
       "\\tau_{b0} & = 5.79 \\ \\frac{\\mathrm{N}}{\\mathrm{mm}^{2}} \\quad & \\sigma_{sy 3} & = 404.49 \\ \\frac{\\mathrm{N}}{\\mathrm{mm}^{2}} \\quad & \\varepsilon_{smy} & = 2.38 \\ \\mathrm{‰} \\\\ \n",
       "m_{y} & = 111.13 \\ \\mathrm{kN} \\quad &  \\quad &  \n",
       " \\end{aligned}\n",
       "$$"
      ],
      "text/plain": [
       "<IPython.core.display.Markdown object>"
      ]
     },
     "metadata": {},
     "output_type": "display_data"
    }
   ],
   "source": [
    "# Verbundschubspannung vor dem Fliessen\n",
    "tau_b0 = 2 * f_ct\n",
    "\n",
    "# minimale Stahlspannung\n",
    "sigma_sy_3 = f_sy_A - 4 * tau_b0 * s_r / 2 / diam_x\n",
    "\n",
    "# mittlere Stahldehnung\n",
    "varepsilon_smy = ((sigma_sy_3 + f_sy_A) / (E_s_A * 2)).to(permille)\n",
    "\n",
    "# Fliessmoment\n",
    "m_y = (a_s * f_sy_A * d_v).to(kN * m / m)\n",
    "\n",
    "put_out()"
   ]
  },
  {
   "cell_type": "markdown",
   "metadata": {},
   "source": [
    "### Risselement beim Erreichen der Zugfestigkeit"
   ]
  },
  {
   "cell_type": "code",
   "execution_count": 13,
   "metadata": {},
   "outputs": [
    {
     "data": {
      "text/markdown": [
       "$$\n",
       "\\begin{aligned}\n",
       "\\tau_{b1} & = 2.9 \\ \\frac{\\mathrm{N}}{\\mathrm{mm}^{2}} \\quad & \\Delta_{x pl} & = 36.25 \\ \\mathrm{mm} \\quad & \\Delta_{x el} & = 63.75 \\ \\mathrm{mm} \\\\ \n",
       "\\sigma_{su 3} & = 464.49 \\ \\frac{\\mathrm{N}}{\\mathrm{mm}^{2}} \\quad &  \\quad &  \n",
       " \\end{aligned}\n",
       "$$"
      ],
      "text/plain": [
       "<IPython.core.display.Markdown object>"
      ]
     },
     "metadata": {},
     "output_type": "display_data"
    }
   ],
   "source": [
    "# Verbundschubspannung vor dem Fliessen\n",
    "tau_b1 = f_ct\n",
    "\n",
    "# Plastischer Bereich\n",
    "Delta_x_pl = (f_su_A - f_sy_A) / (4 * tau_b1 / diam_x)\n",
    "\n",
    "# Elastischer Bereich\n",
    "Delta_x_el = s_r / 2 - Delta_x_pl\n",
    "\n",
    "# minimale Stahlspannung\n",
    "sigma_su_3 = f_sy_A - 4 * tau_b0 * Delta_x_el / diam_x\n",
    "\n",
    "put_out()"
   ]
  },
  {
   "cell_type": "code",
   "execution_count": 14,
   "metadata": {},
   "outputs": [
    {
     "data": {
      "text/markdown": [
       "$$\n",
       "\\begin{aligned}\n",
       "\\varepsilon_{s 1} & = 25 \\ \\mathrm{‰} \\quad & \\varepsilon_{s 2} & = 2.78 \\ \\mathrm{‰} \\quad & \\varepsilon_{s 3} & = 2.27 \\ \\mathrm{‰} \\\\ \n",
       "S_{1} & = 8.43 \\ \\mathrm{‰} \\quad & S_{2} & = 1.27 \\ \\mathrm{‰} \\quad & A_{1} & = 503.53 \\ \\mathrm{mm} \\cdot \\mathrm{‰} \\\\ \n",
       "A_{2} & = 160.83 \\ \\mathrm{mm} \\cdot \\mathrm{‰} \\quad & \\varepsilon_{sm} & = 6.69 \\ \\mathrm{‰} \\quad &  \n",
       " \\end{aligned}\n",
       "$$"
      ],
      "text/plain": [
       "<IPython.core.display.Markdown object>"
      ]
     },
     "metadata": {},
     "output_type": "display_data"
    }
   ],
   "source": [
    "# mittlere Stahldehnung\n",
    "varepsilon_s_1 = varepsilon_su_A\n",
    "varepsilon_s_2 = varepsilon_sy_A\n",
    "varepsilon_s_3 = (sigma_su_3 / E_s_A).to(permille)\n",
    "\n",
    "\n",
    "def center_trapez(a, b, b_1):\n",
    "    return (b**2 + a**2 + a * b + 2 * a * b_1 + b * b_1) / (3 * (a + b))\n",
    "\n",
    "\n",
    "def area_trapez(a, b, h):\n",
    "    return 1 / 2 * (a + b) * h\n",
    "\n",
    "\n",
    "# Schwerpunkte der beiden Trapeze\n",
    "S_1 = center_trapez(varepsilon_s_2, varepsilon_s_1, 0)\n",
    "S_2 = center_trapez(varepsilon_s_3, varepsilon_s_2, 0)\n",
    "\n",
    "# Flächen der beiden Trapeze\n",
    "A_1 = area_trapez(varepsilon_s_1, varepsilon_s_2, Delta_x_pl)\n",
    "A_2 = area_trapez(varepsilon_s_3, varepsilon_s_2, Delta_x_el)\n",
    "\n",
    "varepsilon_sm = (S_1 * A_1 + S_2 * A_2) / (A_1 + A_2)\n",
    "\n",
    "put_out()"
   ]
  },
  {
   "cell_type": "markdown",
   "metadata": {},
   "source": [
    "### Plastische Rotationswinkel\n"
   ]
  },
  {
   "cell_type": "code",
   "execution_count": 15,
   "metadata": {},
   "outputs": [
    {
     "data": {
      "text/markdown": [
       "$$\n",
       "\\begin{aligned}\n",
       "l_{pl} & = 522.0 \\ \\mathrm{mm} \\quad & \\Theta_{pl} & = 0.53 \\ \\mathrm{°} \\end{aligned}\n",
       "$$"
      ],
      "text/plain": [
       "<IPython.core.display.Markdown object>"
      ]
     },
     "metadata": {},
     "output_type": "display_data"
    }
   ],
   "source": [
    "# Annahme für die Länge des plastischen Gelenks\n",
    "l_pl = 2 * d_x\n",
    "\n",
    "# Plastischer Rotationswinkel, Rotationsbedarf für vollständige Umlagerung.\n",
    "Theta_pl = (l_pl * (varepsilon_sm - varepsilon_smy) / (d_x - x_dv)).to(deg)\n",
    "\n",
    "put_out()"
   ]
  },
  {
   "cell_type": "markdown",
   "metadata": {},
   "source": [
    "### Fliessen des Mittelauflagers"
   ]
  },
  {
   "cell_type": "code",
   "execution_count": 16,
   "metadata": {},
   "outputs": [
    {
     "data": {
      "text/markdown": [
       "$$\n",
       "\\begin{aligned}\n",
       "q_{y , B} & = 13.89 \\ \\frac{\\mathrm{kN}}{\\mathrm{m}} \\quad & w_{m y} & = 35.97 \\ \\mathrm{mm} \\end{aligned}\n",
       "$$"
      ],
      "text/plain": [
       "<IPython.core.display.Markdown object>"
      ]
     },
     "metadata": {},
     "output_type": "display_data"
    }
   ],
   "source": [
    "# Die Streckenlast zum Erreichen des Fliessens bei B\n",
    "q_y_comma_B = 8 * m_y * b_w / l**2\n",
    "\n",
    "# maximale Verformung im Feld\n",
    "w_m_y = (\n",
    "    5 * q_y_comma_B * l**4 / (384 * EI_II) - m_y * b_w * l**2 / (16 * EI_II)\n",
    ").to(mm)\n",
    "\n",
    "put_out()"
   ]
  },
  {
   "cell_type": "markdown",
   "metadata": {},
   "source": [
    "### Fliessbeginn im Feld"
   ]
  },
  {
   "cell_type": "code",
   "execution_count": 17,
   "metadata": {},
   "outputs": [
    {
     "data": {
      "text/markdown": [
       "$$\n",
       "\\begin{aligned}\n",
       "q_{y , F} & = 20.55 \\ \\frac{\\mathrm{kN}}{\\mathrm{m}} \\end{aligned}\n",
       "$$"
      ],
      "text/plain": [
       "<IPython.core.display.Markdown object>"
      ]
     },
     "metadata": {},
     "output_type": "display_data"
    }
   ],
   "source": [
    "# Streckenlast beim Fliessbeginn im Feld\n",
    "q_y_comma_F = (\n",
    "    (4 * m_y + 2 * m_us) / l**2 + 4 / l**2 * np.sqrt(m_y**2 + m_y * m_us)\n",
    ") * b_w\n",
    "\n",
    "put_out()"
   ]
  },
  {
   "cell_type": "markdown",
   "metadata": {},
   "source": [
    "#### Rotationsvermögen"
   ]
  },
  {
   "cell_type": "code",
   "execution_count": 18,
   "metadata": {},
   "outputs": [
    {
     "data": {
      "text/markdown": [
       "$$\n",
       "\\begin{aligned}\n",
       "\\alpha & = 0.88 \\ \\mathrm{°} \\quad & \\Theta_{erf} & = 1.76 \\ \\mathrm{°} \\quad & \\Theta_{pl} & = 0.53 \\ \\mathrm{°} \\end{aligned}\n",
       "$$"
      ],
      "text/plain": [
       "<IPython.core.display.Markdown object>"
      ]
     },
     "metadata": {},
     "output_type": "display_data"
    }
   ],
   "source": [
    "# Rotationswinkel (Verwendung der Arbeitsgleichung)\n",
    "alpha = (\n",
    "    (q_y_comma_F - q_y_comma_B) * l**3 / (24 * EI_II)\n",
    "    - (m_us - m_y) * b_w * l / (3 * EI_II)\n",
    ").to(deg)\n",
    "\n",
    "# Verformungsbedarf\n",
    "Theta_erf = 2 * alpha\n",
    "\n",
    "# Verformungsvermögen\n",
    "Theta_pl\n",
    "\n",
    "put_out()"
   ]
  },
  {
   "cell_type": "markdown",
   "metadata": {},
   "source": [
    "Das Verformungsvermögen ist nicht ausreichend."
   ]
  },
  {
   "cell_type": "code",
   "execution_count": 19,
   "metadata": {},
   "outputs": [
    {
     "data": {
      "text/markdown": [
       "$$\n",
       "\\begin{aligned}\n",
       "\\alpha_{max} & = 0.27 \\ \\mathrm{°} \\quad & \\Delta_{qu} & = 2.52 \\ \\frac{\\mathrm{kN}}{\\mathrm{m}} \\quad & q_{u B500A} & = 16.41 \\ \\frac{\\mathrm{kN}}{\\mathrm{m}} \\end{aligned}\n",
       "$$"
      ],
      "text/plain": [
       "<IPython.core.display.Markdown object>"
      ]
     },
     "metadata": {},
     "output_type": "display_data"
    }
   ],
   "source": [
    "# maximaler Rotationswinkel\n",
    "alpha_max = Theta_pl / 2\n",
    "\n",
    "# Streckenlast bis zum maximalen Rotationswinkel\n",
    "Delta_qu = (\n",
    "    (alpha_max + (m_us - m_y) * l * b_w / (3 * EI_II)) * 24 * EI_II / l**3\n",
    ").to(kN / m)\n",
    "\n",
    "# Traglast für B500A\n",
    "q_u_B500A = Delta_qu + q_y_comma_B\n",
    "\n",
    "put_out()"
   ]
  },
  {
   "cell_type": "code",
   "execution_count": 20,
   "metadata": {},
   "outputs": [
    {
     "data": {
      "text/markdown": [
       "$$\n",
       "\\begin{aligned}\n",
       "w_{m u} & = 49.46 \\ \\mathrm{mm} \\end{aligned}\n",
       "$$"
      ],
      "text/plain": [
       "<IPython.core.display.Markdown object>"
      ]
     },
     "metadata": {},
     "output_type": "display_data"
    }
   ],
   "source": [
    "# maximale Verformung im Feld\n",
    "w_m_u = (5 * q_u_B500A * l**4 / (384 * EI_II) - m_us * b_w * l**2 / (16 * EI_II)).to(mm)\n",
    "\n",
    "put_out()"
   ]
  },
  {
   "cell_type": "markdown",
   "metadata": {},
   "source": [
    "## Naturharter Stahl B500C\n",
    "\n",
    "### Eigenschaften des Betonstahls"
   ]
  },
  {
   "cell_type": "code",
   "execution_count": 21,
   "metadata": {},
   "outputs": [
    {
     "data": {
      "text/markdown": [
       "$$\n",
       "\\begin{aligned}\n",
       "f_{sy A A} & = 500.0 \\ \\frac{\\mathrm{N}}{\\mathrm{mm}^{2}} \\quad & f_{su A A} & = 600.0 \\ \\frac{\\mathrm{N}}{\\mathrm{mm}^{2}} \\quad & \\varepsilon_{sy A} & = 2.44 \\ \\mathrm{‰} \\\\ \n",
       "\\varepsilon_{sh} & = 20 \\ \\mathrm{‰} \\quad & \\varepsilon_{su A} & = 125 \\ \\mathrm{‰} \\quad & E_{s A} & = 205.0 \\ \\frac{\\mathrm{kN}}{\\mathrm{mm}^{2}} \\\\ \n",
       "E_{sh} & = 952.0 \\ \\frac{\\mathrm{N}}{\\mathrm{mm}^{2}} \\quad &  \\quad &  \n",
       " \\end{aligned}\n",
       "$$"
      ],
      "text/plain": [
       "<IPython.core.display.Markdown object>"
      ]
     },
     "metadata": {},
     "output_type": "display_data"
    }
   ],
   "source": [
    "f_sy_A_A = 500 * N / mm**2  # Fliessgrenze\n",
    "f_su_A_A = 600 * N / mm**2  # Zugfestigkeit\n",
    "varepsilon_sy_A = 2.439 * permille  # Fliessdehnung\n",
    "varepsilon_sh = 20 * permille  # Dehnung bei Verfestigungsbeginn\n",
    "varepsilon_su_A = 125 * permille  # Bruchdehnung\n",
    "E_s_A = 205 * kN / mm**2  # Elastizitätsmodul\n",
    "E_sh = 952 * N / mm**2  # Verfestigungsmodul\n",
    "\n",
    "put_out()"
   ]
  },
  {
   "cell_type": "code",
   "execution_count": 22,
   "metadata": {},
   "outputs": [],
   "source": [
    "# | echo: false\n",
    "\n",
    "stress_b500c_array = (\n",
    "    np.array([0, f_sy_A_A.m, f_sy_A_A.m, f_su_A_A.m]) * MPa\n",
    ")\n",
    "strain_b500c_array = np.array([0, varepsilon_sy_A, varepsilon_sh, varepsilon_su_A])\n",
    "\n",
    "\n",
    "fig_b500c, ax_b500c = plt.subplots()\n",
    "\n",
    "ax_b500c.plot(strain_b500c_array, stress_b500c_array.to(MPa).m, color=\"k\")\n",
    "\n",
    "\n",
    "# Set axis labels\n",
    "ax_b500c.set_ylabel(r\"$\\sigma$ [N/mm$^2$]\")\n",
    "ax_b500c.set_xlabel(r\"$\\varepsilon_s$ [-]\")\n",
    "\n",
    "# Set limits\n",
    "ax_b500c.set_xlim(xmax=125 / 1000)\n",
    "ax_b500c.set_ylim(ymax=750)\n",
    "\n",
    "# Show the plot\n",
    "plt.tight_layout()\n",
    "plt.savefig(\"imgs/jag_stress_strain_b500c.svg\")\n",
    "plt.close()"
   ]
  },
  {
   "cell_type": "markdown",
   "metadata": {},
   "source": [
    "![Spannungs-Dehnungs-Beziehung des Betonstahls B500C](../imgs/jag_stress_strain_b500c.svg){#stress_strain_b500c}"
   ]
  },
  {
   "cell_type": "markdown",
   "metadata": {},
   "source": [
    "### Vor dem Fliessen"
   ]
  },
  {
   "cell_type": "code",
   "execution_count": 23,
   "metadata": {},
   "outputs": [
    {
     "data": {
      "text/markdown": [
       "$$\n",
       "\\begin{aligned}\n",
       "\\varepsilon_{sm y} & = 2.04 \\ \\mathrm{‰} \\quad & m_{y} & = 97.48 \\ \\mathrm{kN} \\end{aligned}\n",
       "$$"
      ],
      "text/plain": [
       "<IPython.core.display.Markdown object>"
      ]
     },
     "metadata": {},
     "output_type": "display_data"
    }
   ],
   "source": [
    "# Mittlere Stahldehnung beim Fliessen\n",
    "varepsilon_sm_y = varepsilon_sy_A - tau_b0 * s_r / (diam_x * E_s_A)\n",
    "\n",
    "# Fliessmoment\n",
    "m_y = (a_s * f_sy_A_A * d_v).to(kN)\n",
    "put_out()"
   ]
  },
  {
   "cell_type": "markdown",
   "metadata": {},
   "source": [
    "### Versagensart des Querschnitts"
   ]
  },
  {
   "cell_type": "code",
   "execution_count": 24,
   "metadata": {},
   "outputs": [
    {
     "data": {
      "text/markdown": [
       "$$\n",
       "\\begin{aligned}\n",
       "\\sigma_{su 3} & = 517.24 \\ \\frac{\\mathrm{N}}{\\mathrm{mm}^{2}} \\quad & \\varepsilon_{su A 3} & = 38.11 \\ \\mathrm{‰} \\quad & \\varepsilon_{sm} & = 81.56 \\ \\mathrm{‰} \\end{aligned}\n",
       "$$"
      ],
      "text/plain": [
       "<IPython.core.display.Markdown object>"
      ]
     },
     "metadata": {},
     "output_type": "display_data"
    }
   ],
   "source": [
    "# Stahlspannung zwischen den Rissen\n",
    "sigma_su_3 = f_su_A_A - 4 * tau_b1 / diam_x * s_r / 2\n",
    "\n",
    "# Stahldehnung zwischen den Rissen\n",
    "varepsilon_su_A_3 = ((sigma_su_3 - f_sy_A_A) / E_sh + varepsilon_sh).to(permille)\n",
    "varepsilon_sm = (varepsilon_su_A_3 + varepsilon_su_A) / 2\n",
    "\n",
    "put_out()"
   ]
  },
  {
   "cell_type": "code",
   "execution_count": 25,
   "metadata": {},
   "outputs": [
    {
     "data": {
      "text/markdown": [
       "$$\n",
       "\\begin{aligned}\n",
       "\\varepsilon_{c} & = 6.08 \\ \\mathrm{‰} \\quad & \\varepsilon_{cu} & = 5 \\ \\mathrm{‰} \\end{aligned}\n",
       "$$"
      ],
      "text/plain": [
       "<IPython.core.display.Markdown object>"
      ]
     },
     "metadata": {},
     "output_type": "display_data"
    }
   ],
   "source": [
    "# Betonstauchung\n",
    "varepsilon_c = varepsilon_sm / (d_x - x_dv) * x_dv\n",
    "\n",
    "varepsilon_cu\n",
    "\n",
    "put_out()"
   ]
  },
  {
   "cell_type": "markdown",
   "metadata": {},
   "source": [
    "Die Betonbruchstauchung wird überschritten. Das bedeutet, es stellt sich ein Betondruckversagen vor einem Zerreissen der Bewehrung ein."
   ]
  },
  {
   "cell_type": "code",
   "execution_count": 26,
   "metadata": {},
   "outputs": [
    {
     "data": {
      "text/markdown": [
       "$$\n",
       "\\begin{aligned}\n",
       "\\varepsilon_{sm u} & = 67.06 \\ \\mathrm{‰} \\quad & \\varepsilon_{smax u} & = 110.5 \\ \\mathrm{‰} \\quad & \\sigma_{smax u} & = 586.2 \\ \\frac{\\mathrm{N}}{\\mathrm{mm}^{2}} \\\\ \n",
       "m_{u} & = 114.29 \\ \\mathrm{kN} \\quad &  \\quad &  \n",
       " \\end{aligned}\n",
       "$$"
      ],
      "text/plain": [
       "<IPython.core.display.Markdown object>"
      ]
     },
     "metadata": {},
     "output_type": "display_data"
    }
   ],
   "source": [
    "# Mittlere Stahldehnung beim Druckversagen\n",
    "varepsilon_sm_u = varepsilon_cu / x_dv * (d_x - x_dv)\n",
    "\n",
    "# Maximale Stahldehnung beim Druckversagen\n",
    "varepsilon_smax_u = varepsilon_su_A - (varepsilon_sm - varepsilon_sm_u)\n",
    "\n",
    "# Maximale Stahlspannung beim Druckversagen\n",
    "sigma_smax_u = f_su_A_A - (varepsilon_su_A - varepsilon_smax_u) * E_sh\n",
    "\n",
    "# Maximaler Biegewiderstand\n",
    "m_u = (a_s * sigma_smax_u * d_v).to(kN * m / m)\n",
    "put_out()"
   ]
  },
  {
   "cell_type": "markdown",
   "metadata": {},
   "source": [
    "### Verformungsvermögen"
   ]
  },
  {
   "cell_type": "code",
   "execution_count": 27,
   "metadata": {},
   "outputs": [
    {
     "data": {
      "text/markdown": [
       "$$\n",
       "\\begin{aligned}\n",
       "\\Theta_{pl max} & = 8.01 \\ \\mathrm{°} \\end{aligned}\n",
       "$$"
      ],
      "text/plain": [
       "<IPython.core.display.Markdown object>"
      ]
     },
     "metadata": {},
     "output_type": "display_data"
    }
   ],
   "source": [
    "# Plastischer Rotationswinkel, Rotationsbedarf für vollständige Umlagerung.\n",
    "Theta_pl_max = (l_pl * (varepsilon_sm_u - varepsilon_sm_y) / (d_x - x_dv)).to(deg)\n",
    "\n",
    "put_out()"
   ]
  },
  {
   "cell_type": "markdown",
   "metadata": {},
   "source": [
    "### Fliessen beim Mittelauflager"
   ]
  },
  {
   "cell_type": "code",
   "execution_count": 28,
   "metadata": {},
   "outputs": [
    {
     "data": {
      "text/markdown": [
       "$$\n",
       "\\begin{aligned}\n",
       "q_{y , B} & = 12.19 \\ \\frac{\\mathrm{kN}}{\\mathrm{m}} \\quad & w_{m y} & = 31.55 \\ \\mathrm{mm} \\end{aligned}\n",
       "$$"
      ],
      "text/plain": [
       "<IPython.core.display.Markdown object>"
      ]
     },
     "metadata": {},
     "output_type": "display_data"
    }
   ],
   "source": [
    "# Streckenlast beim Fliessen des Mittelauflagers\n",
    "q_y_comma_B = 8 * m_y / l**2 * b_w\n",
    "\n",
    "# Verformung beim Fliessen des Mittelauflagers\n",
    "w_m_y = (\n",
    "    5 * q_y_comma_B * l**4 / (384 * EI_II) - m_y * b_w * l**2 / (16 * EI_II)\n",
    ").to(mm)\n",
    "\n",
    "put_out()"
   ]
  },
  {
   "cell_type": "markdown",
   "metadata": {},
   "source": [
    "### Fliessbeginn im Feld"
   ]
  },
  {
   "cell_type": "markdown",
   "metadata": {},
   "source": [
    "#### Risselement beim Fliessen im Feld"
   ]
  },
  {
   "cell_type": "code",
   "execution_count": 29,
   "metadata": {},
   "outputs": [
    {
     "data": {
      "text/markdown": [
       "$$\n",
       "\\begin{aligned}\n",
       "m_{F} & = 97.48 \\ \\mathrm{kN} \\end{aligned}\n",
       "$$"
      ],
      "text/plain": [
       "<IPython.core.display.Markdown object>"
      ]
     },
     "metadata": {},
     "output_type": "display_data"
    }
   ],
   "source": [
    "# Im Feld wird das Fliessmoment erreicht\n",
    "m_F = m_y\n",
    "\n",
    "put_out()"
   ]
  },
  {
   "cell_type": "code",
   "execution_count": 30,
   "metadata": {},
   "outputs": [
    {
     "data": {
      "text/markdown": [
       "$$\n",
       "\\begin{aligned}\n",
       "\\Delta_{x pl} & = 28.5 \\ \\mathrm{mm} \\quad & \\Delta_{x el} & = 71.5 \\ \\mathrm{mm} \\quad & \\sigma_{s 2} & = 500.0 \\ \\frac{\\mathrm{N}}{\\mathrm{mm}^{2}} \\\\ \n",
       "\\sigma_{s 1} & = 523.59 \\ \\frac{\\mathrm{N}}{\\mathrm{mm}^{2}} \\quad & \\sigma_{s 3} & = 381.66 \\ \\frac{\\mathrm{N}}{\\mathrm{mm}^{2}} \\quad &  \n",
       " \\end{aligned}\n",
       "$$"
      ],
      "text/plain": [
       "<IPython.core.display.Markdown object>"
      ]
     },
     "metadata": {},
     "output_type": "display_data"
    }
   ],
   "source": [
    "# Fliessspannung wird vorausgesetzt\n",
    "\n",
    "Delta_x_pl = 28.5 * mm\n",
    "Delta_x_el = s_r / 2 - Delta_x_pl\n",
    "\n",
    "\n",
    "sigma_s_2 = 500 * N / mm**2\n",
    "sigma_s_1 = sigma_s_2 + 4 * tau_b1 / diam_x * Delta_x_pl\n",
    "sigma_s_3 = sigma_s_2 - 4 * tau_b0 / diam_x * Delta_x_el\n",
    "\n",
    "put_out()"
   ]
  },
  {
   "cell_type": "code",
   "execution_count": 31,
   "metadata": {},
   "outputs": [],
   "source": [
    "S_1 = center_trapez(sigma_s_2, sigma_s_1, 0 * MPa)\n",
    "S_2 = center_trapez(sigma_s_3, sigma_s_2, 0 * MPa)\n",
    "\n",
    "A_1 = area_trapez(sigma_s_1, sigma_s_2, Delta_x_pl)\n",
    "A_2 = area_trapez(sigma_s_2, sigma_s_3, Delta_x_el)"
   ]
  },
  {
   "cell_type": "code",
   "execution_count": 32,
   "metadata": {},
   "outputs": [
    {
     "data": {
      "text/markdown": [
       "$$\n",
       "\\begin{aligned}\n",
       "\\sigma_{sm} & = 232.56 \\ \\frac{\\mathrm{N}}{\\mathrm{mm}^{2}} \\end{aligned}\n",
       "$$"
      ],
      "text/plain": [
       "<IPython.core.display.Markdown object>"
      ]
     },
     "metadata": {},
     "output_type": "display_data"
    }
   ],
   "source": [
    "sigma_sm = (A_1 * S_1 + A_2 * S_2) / (A_1 + A_2)\n",
    "\n",
    "\n",
    "put_out()"
   ]
  },
  {
   "cell_type": "code",
   "execution_count": 33,
   "metadata": {},
   "outputs": [
    {
     "data": {
      "text/markdown": [
       "$$\n",
       "\\begin{aligned}\n",
       "\\varepsilon_{s 1} & = 44.77 \\ \\mathrm{‰} \\quad & \\varepsilon_{s 21} & = 20 \\ \\mathrm{‰} \\quad & \\varepsilon_{s 22} & = 2.44 \\ \\mathrm{‰} \\\\ \n",
       "\\varepsilon_{s 3} & = 1.86 \\ \\mathrm{‰} \\quad & S_{1} & = 16.98 \\ \\mathrm{‰} \\quad & S_{2} & = 1.08 \\ \\mathrm{‰} \\\\ \n",
       "A_{1} & = 923.04 \\ \\mathrm{mm} \\cdot \\mathrm{‰} \\quad & A_{2} & = 153.75 \\ \\mathrm{mm} \\cdot \\mathrm{‰} \\quad & \\varepsilon_{sm} & = 14.71 \\ \\mathrm{‰} \\end{aligned}\n",
       "$$"
      ],
      "text/plain": [
       "<IPython.core.display.Markdown object>"
      ]
     },
     "metadata": {},
     "output_type": "display_data"
    }
   ],
   "source": [
    "# Dehnungen\n",
    "\n",
    "varepsilon_s_1 = ((sigma_s_1 - sigma_s_2) / E_sh + varepsilon_sh).to(permille)\n",
    "varepsilon_s_21 = varepsilon_sh\n",
    "varepsilon_s_22 = varepsilon_sy_A\n",
    "varepsilon_s_3 = (sigma_s_3 / E_s_A).to(permille)\n",
    "\n",
    "S_1 = center_trapez(varepsilon_s_21, varepsilon_s_1, 0)\n",
    "S_2 = center_trapez(varepsilon_s_3, varepsilon_s_22, 0)\n",
    "\n",
    "A_1 = area_trapez(varepsilon_s_1, varepsilon_s_21, Delta_x_pl)\n",
    "A_2 = area_trapez(varepsilon_s_22, varepsilon_s_3, Delta_x_el)\n",
    "\n",
    "varepsilon_sm = (A_1 * S_1 + A_2 * S_2) / (A_1 + A_2)\n",
    "\n",
    "put_out()"
   ]
  },
  {
   "cell_type": "code",
   "execution_count": 34,
   "metadata": {},
   "outputs": [
    {
     "data": {
      "text/markdown": [
       "$$\n",
       "\\begin{aligned}\n",
       "\\Theta_{pl q y , F} & = 1.56 \\ \\mathrm{°} \\end{aligned}\n",
       "$$"
      ],
      "text/plain": [
       "<IPython.core.display.Markdown object>"
      ]
     },
     "metadata": {},
     "output_type": "display_data"
    }
   ],
   "source": [
    "Theta_pl_q_y_comma_F = (l_pl * (varepsilon_sm - varepsilon_sm_y) / (d_x - x_dv)).to(deg)\n",
    "\n",
    "put_out()"
   ]
  },
  {
   "cell_type": "code",
   "execution_count": 35,
   "metadata": {},
   "outputs": [],
   "source": [
    "# | echo:false\n",
    "\n",
    "ax_b500c.axvline(x=varepsilon_s_1.to(los), color=\"black\", linestyle=\"--\")\n",
    "ax_b500c.axhline(y=sigma_s_1.m, color=\"black\", linestyle=\"--\")\n",
    "\n",
    "# Show the updated plot\n",
    "plt.tight_layout()\n",
    "plt.figure(fig_b500c)\n",
    "plt.savefig(\"imgs/jag_stress_strain_b500c_with_vertical_line.svg\")\n",
    "plt.close()"
   ]
  },
  {
   "cell_type": "markdown",
   "metadata": {},
   "source": [
    "![Spannungs-Dehnungs-Verlauf des Betonstahls B500C mit markierter maximaler Dehnung](../imgs/jag_stress_strain_b500c_with_vertical_line.svg){#fig-stress_strain_b500c_marked}"
   ]
  },
  {
   "cell_type": "code",
   "execution_count": 36,
   "metadata": {},
   "outputs": [
    {
     "data": {
      "text/markdown": [
       "$$\n",
       "\\begin{aligned}\n",
       "\\sigma_{smax} & = 523.59 \\ \\frac{\\mathrm{N}}{\\mathrm{mm}^{2}} \\quad & m_{B} & = 102.08 \\ \\mathrm{kN} \\quad & q_{y , F} & = 18.0 \\ \\frac{\\mathrm{kN}}{\\mathrm{m}} \\end{aligned}\n",
       "$$"
      ],
      "text/plain": [
       "<IPython.core.display.Markdown object>"
      ]
     },
     "metadata": {},
     "output_type": "display_data"
    }
   ],
   "source": [
    "# Stahlspannung durch maximale Stahldehnung am Zugglied\n",
    "sigma_smax = (\n",
    "    np.interp(\n",
    "        x=varepsilon_s_1.to(los), fp=stress_b500c_array.m, xp=strain_b500c_array\n",
    "    )\n",
    "    * N\n",
    "    / mm**2\n",
    ")\n",
    "\n",
    "# Biegemoment resultiert daraus zu\n",
    "m_B = (a_s * sigma_smax * d_v).to(kN)\n",
    "\n",
    "# Streckenlast Fliessen im Feld, verfestigend über dem Auflager\n",
    "q_y_comma_F = (\n",
    "    (4 * m_F + 2 * m_B) / l**2 + 4 / l**2 * np.sqrt(m_F**2 + m_F * m_B)\n",
    ") * b_w\n",
    "put_out()"
   ]
  },
  {
   "cell_type": "code",
   "execution_count": 37,
   "metadata": {},
   "outputs": [
    {
     "data": {
      "text/markdown": [
       "$$\n",
       "\\begin{aligned}\n",
       "\\alpha & = 0.78 \\ \\mathrm{°} \\quad & \\Theta_{pl erf i} & = 1.55 \\ \\mathrm{°} \\quad & \\Delta_{\\Theta} & = -0.01 \\ \\mathrm{°} \\end{aligned}\n",
       "$$"
      ],
      "text/plain": [
       "<IPython.core.display.Markdown object>"
      ]
     },
     "metadata": {},
     "output_type": "display_data"
    }
   ],
   "source": [
    "# Kontrolle des Verformungsbedarfs\n",
    "alpha = (\n",
    "    (q_y_comma_F - q_y_comma_B) * l**3 / (24 * EI_II)\n",
    "    - (m_B - m_y) * b_w * l / (3 * EI_II)\n",
    ").to(deg)\n",
    "\n",
    "# Erforderliche Rotation\n",
    "Theta_pl_erf_i = 2 * alpha\n",
    "\n",
    "# Kontrolle ob das Verformungsvermögen gleich dem Verformungsbedarf ist\n",
    "Delta_Theta = Theta_pl_erf_i - Theta_pl_q_y_comma_F\n",
    "\n",
    "put_out()"
   ]
  },
  {
   "cell_type": "code",
   "execution_count": 38,
   "metadata": {},
   "outputs": [
    {
     "data": {
      "text/markdown": [
       "$$\n",
       "\\begin{aligned}\n",
       "w_{m y} & = 66.96 \\ \\mathrm{mm} \\end{aligned}\n",
       "$$"
      ],
      "text/plain": [
       "<IPython.core.display.Markdown object>"
      ]
     },
     "metadata": {},
     "output_type": "display_data"
    }
   ],
   "source": [
    "# Die Mittendurchbiegung beträgt\n",
    "w_m_y = (\n",
    "    5 * q_y_comma_F * l**4 / (384 * EI_II) - m_B * b_w * l**2 / (16 * EI_II)\n",
    ").to(mm)\n",
    "\n",
    "put_out()"
   ]
  },
  {
   "cell_type": "markdown",
   "metadata": {},
   "source": [
    "### Traglast "
   ]
  },
  {
   "cell_type": "code",
   "execution_count": 39,
   "metadata": {},
   "outputs": [
    {
     "data": {
      "text/markdown": [
       "$$\n",
       "\\begin{aligned}\n",
       "\\varepsilon_{s 2} & = 20 \\ \\mathrm{‰} \\quad & \\varepsilon_{s 1} & = 106.93 \\ \\mathrm{‰} \\quad & \\varepsilon_{sm u} & = 63.46 \\ \\mathrm{‰} \\end{aligned}\n",
       "$$"
      ],
      "text/plain": [
       "<IPython.core.display.Markdown object>"
      ]
     },
     "metadata": {},
     "output_type": "display_data"
    }
   ],
   "source": [
    "varepsilon_s_2 = varepsilon_sh\n",
    "varepsilon_s_1 = varepsilon_s_2 + 4 * tau_b1 * s_r / 2 / (diam_x * E_sh)\n",
    "\n",
    "varepsilon_sm_u = (varepsilon_s_2 + varepsilon_s_1) / 2\n",
    "put_out()"
   ]
  },
  {
   "cell_type": "code",
   "execution_count": 40,
   "metadata": {},
   "outputs": [
    {
     "data": {
      "text/markdown": [
       "$$\n",
       "\\begin{aligned}\n",
       "\\sigma_{s max} & = 582.79 \\ \\mathrm{MPa} \\quad & m_{B} & = 114.29 \\ \\mathrm{kN} \\quad & m_{F} & = 113.62 \\ \\mathrm{kN} \\\\ \n",
       "q_{u , F} & = 20.73 \\ \\frac{\\mathrm{kN}}{\\mathrm{m}} \\quad & \\Theta_{plf F} & = 7.56 \\ \\mathrm{°} \\quad & \\alpha & = 4.09 \\ \\mathrm{°} \\\\ \n",
       "\\Theta_{pl erf} & = 8.18 \\ \\mathrm{°} \\quad & \\Delta_{\\Theta} & = 0.17 \\ \\mathrm{°} \\quad &  \n",
       " \\end{aligned}\n",
       "$$"
      ],
      "text/plain": [
       "<IPython.core.display.Markdown object>"
      ]
     },
     "metadata": {},
     "output_type": "display_data"
    }
   ],
   "source": [
    "sigma_s_max = np.interp(varepsilon_s_1, strain_b500c_array, stress_b500c_array)\n",
    "\n",
    "m_B = m_u\n",
    "m_F = (a_s * sigma_s_max * d_v).to(kN)\n",
    "\n",
    "# Streckenlast Fliessen im Feld, verfestigend über dem Auflager\n",
    "q_u_comma_F = (\n",
    "    (4 * m_F + 2 * m_B) / l**2 + 4 / l**2 * np.sqrt(m_F**2 + m_F * m_B)\n",
    ") * b_w\n",
    "\n",
    "\n",
    "# Plastische rotation im Feld\n",
    "Theta_plf_F = (l_pl * (varepsilon_sm_u - varepsilon_sm_y) / (d_x - x_dv)).to(deg)\n",
    "\n",
    "\n",
    "# Kontrolle des Verformungsbedarfs\n",
    "alpha = (\n",
    "    q_u_comma_F * l**3 / (24 * EI_II)\n",
    "    - (m_B) * b_w * l / (3 * EI_II)\n",
    "    + 0.414 * Theta_plf_F\n",
    ").to(deg)\n",
    "\n",
    "# Erforderliche Rotation\n",
    "Theta_pl_erf = 2 * alpha\n",
    "\n",
    "# Kontrolle ob das Verformungsvermögen gleich dem Verformungsbedarf ist\n",
    "Delta_Theta = Theta_pl_erf - Theta_pl_max\n",
    "\n",
    "put_out()"
   ]
  },
  {
   "cell_type": "code",
   "execution_count": 41,
   "metadata": {},
   "outputs": [
    {
     "data": {
      "text/markdown": [
       "$$\n",
       "\\begin{aligned}\n",
       "w_{m y} & = 297.33 \\ \\mathrm{mm} \\end{aligned}\n",
       "$$"
      ],
      "text/plain": [
       "<IPython.core.display.Markdown object>"
      ]
     },
     "metadata": {},
     "output_type": "display_data"
    }
   ],
   "source": [
    "# Die Mittendurchbiegung beträgt\n",
    "w_m_y = (\n",
    "    5 * q_u_comma_F * l**4 / (384 * EI_II)\n",
    "    - m_B * b_w * l**2 / (16 * EI_II)\n",
    "    + 0.414 * Theta_plf_F * l / 2\n",
    ").to(mm)\n",
    "\n",
    "put_out()"
   ]
  }
 ],
 "metadata": {
  "kernelspec": {
   "display_name": "calc",
   "language": "python",
   "name": "python3"
  },
  "language_info": {
   "codemirror_mode": {
    "name": "ipython",
    "version": 3
   },
   "file_extension": ".py",
   "mimetype": "text/x-python",
   "name": "python",
   "nbconvert_exporter": "python",
   "pygments_lexer": "ipython3",
   "version": "3.11.9"
  }
 },
 "nbformat": 4,
 "nbformat_minor": 2
}
