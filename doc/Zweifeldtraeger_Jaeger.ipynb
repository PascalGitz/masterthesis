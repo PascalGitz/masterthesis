{
 "cells": [
  {
   "cell_type": "markdown",
   "metadata": {},
   "source": [
    "# Zweifeldträger Schulbeispiel\n",
    "\n",
    "Das Vorlesungsbeispiel verfolgt das Ziel, die Verformungen eines Zweifeldträgers für zwei Betonstähle mit unterschiedlichen Duktilitätsklassen aufzuzeigen. @jager_stahlbeton_2009.\n",
    "\n",
    "![Statisches System des Zweifeldträgers mit Abmessungen versehen, daneben der Querschnitt mit Angaben zu der Längsbewehrung](../imgs/zweifeld_system.png){#fig-zweifeld_system}\n",
    "\n",
    "Zunächst wird die analytische Lösung vollumfänglich dargestellt und mit numerischen Werten substituiert. Abschliessend wird das Verformungsverhalten mit dem Federmodell nachmodelliert, bzw. numerisch approximiert."
   ]
  },
  {
   "cell_type": "markdown",
   "metadata": {},
   "source": [
    "## Annahmen\n",
    "\n",
    "- Zwei unterschiedliche Stähle\n",
    "- konstant gerissene Biegesteifigkeit entlang der Stabachse"
   ]
  },
  {
   "cell_type": "code",
   "execution_count": 1,
   "metadata": {},
   "outputs": [],
   "source": [
    "from packages import *"
   ]
  },
  {
   "cell_type": "code",
   "execution_count": 2,
   "metadata": {},
   "outputs": [
    {
     "data": {
      "text/markdown": [
       "$$\n",
       "\\begin{aligned}\n",
       "\\oslash_{x} & = 14 \\ \\mathrm{mm} \\quad & s_{x} & = 200 \\ \\mathrm{mm} \\quad & \\oslash_{y} & = 12 \\ \\mathrm{mm} \\\\ \n",
       "s_{y} & = 200 \\ \\mathrm{mm} \\quad & c & = 20 \\ \\mathrm{mm} \\quad & h & = 300 \\ \\mathrm{mm} \\\\ \n",
       "b_{w} & = 1 \\ \\mathrm{m} \\quad & l & = 8 \\ \\mathrm{m} \\quad & d_{x} & = 261.0 \\ \\mathrm{mm} \\end{aligned}\n",
       "$$"
      ],
      "text/plain": [
       "<IPython.core.display.Markdown object>"
      ]
     },
     "metadata": {},
     "output_type": "display_data"
    }
   ],
   "source": [
    "diam_x = 14 * mm  # Längsbewehrung in X-Richtung gerichtet\n",
    "s_x = 200 * mm  # Teilung der Längsbewehrung\n",
    "diam_y = 12 * mm  # Längsbewehrung in Y-Richtung gerichtet\n",
    "s_y = 200 * mm  # Teilung der Längsbewehrung\n",
    "\n",
    "c = 20 * mm  # Betonüberdeckung\n",
    "h = 300 * mm  # Plattenstärke\n",
    "b_w = 1 * m  # Streifenbreite\n",
    "l = 8*m # Balkenlänge\n",
    "\n",
    "d_x = h - c - diam_y - 1 / 2 * diam_x  # Statische Höhe in X-Richtung\n",
    "\n",
    "put_out()"
   ]
  },
  {
   "cell_type": "markdown",
   "metadata": {},
   "source": [
    "## Kaltverformter Betonstahl B500A\n",
    "\n",
    "### Eigenschaften des Betonstahls\n"
   ]
  },
  {
   "cell_type": "code",
   "execution_count": 3,
   "metadata": {},
   "outputs": [
    {
     "data": {
      "text/markdown": [
       "$$\n",
       "\\begin{aligned}\n",
       "f_{sy} & = 570.0 \\ \\frac{\\mathrm{N}}{\\mathrm{mm}^{2}} \\quad & f_{su} & = 600.0 \\ \\frac{\\mathrm{N}}{\\mathrm{mm}^{2}} \\quad & \\varepsilon_{sy} & = 2.78 \\ \\mathrm{‰} \\\\ \n",
       "\\varepsilon_{su} & = 25 \\ \\mathrm{‰} \\quad & E_{s} & = 205.0 \\ \\frac{\\mathrm{kN}}{\\mathrm{mm}^{2}} \\quad & E_{sh} & = 1350.0 \\ \\frac{\\mathrm{N}}{\\mathrm{mm}^{2}} \\end{aligned}\n",
       "$$"
      ],
      "text/plain": [
       "<IPython.core.display.Markdown object>"
      ]
     },
     "metadata": {},
     "output_type": "display_data"
    }
   ],
   "source": [
    "f_sy = 570 * N / mm**2  # Fliessgrenze\n",
    "f_su = 600 * N / mm**2  # Zugfestigkeit\n",
    "varepsilon_sy = 2.78*permille  # Fliessdehnung\n",
    "varepsilon_su = 25*permille  # Bruchdehnung\n",
    "E_s = 205 * kN / mm**2  # Elastizitätsmodul\n",
    "E_sh = 1350 * N / mm**2  # Verfestigungsmodul\n",
    "\n",
    "put_out()"
   ]
  },
  {
   "cell_type": "code",
   "execution_count": 4,
   "metadata": {},
   "outputs": [],
   "source": [
    "# | echo: false\n",
    "\n",
    "stress_b500a_array = np.array([0, f_sy.magnitude, f_su.magnitude]) * MPa\n",
    "strain_b500a_array = np.array([0, varepsilon_sy, varepsilon_su])\n",
    "\n",
    "\n",
    "fig, ax = plt.subplots()\n",
    "\n",
    "ax.plot(strain_b500a_array, stress_b500a_array.to(MPa).magnitude, color=\"k\")\n",
    "\n",
    "\n",
    "# Set axis labels\n",
    "ax.set_ylabel(r\"$\\sigma$ [N/mm$^2$]\")\n",
    "ax.set_xlabel(r\"$\\varepsilon_s$ [-]\")\n",
    "\n",
    "# Set limits\n",
    "ax.set_xlim(xmax=125 / 1000)\n",
    "ax.set_ylim(ymax=750)\n",
    "\n",
    "# Show the plot\n",
    "plt.tight_layout()\n",
    "# plt.show()\n",
    "plt.savefig(\"imgs/stress_strain_b500a.svg\")\n",
    "plt.close()"
   ]
  },
  {
   "cell_type": "markdown",
   "metadata": {},
   "source": [
    "![Spannungs-Dehnungs-Beziehung des Betonstahls B500A](../imgs/stress_strain_b500a.svg){#stress_strain_b500a}"
   ]
  },
  {
   "cell_type": "markdown",
   "metadata": {},
   "source": [
    "### Eigenschaften des Betons"
   ]
  },
  {
   "cell_type": "code",
   "execution_count": 5,
   "metadata": {},
   "outputs": [
    {
     "data": {
      "text/markdown": [
       "$$\n",
       "\\begin{aligned}\n",
       "f_{cc} & = 30.0 \\ \\frac{\\mathrm{N}}{\\mathrm{mm}^{2}} \\quad & f_{ct} & = 2.9 \\ \\frac{\\mathrm{N}}{\\mathrm{mm}^{2}} \\quad & f_{c} & = 24.14 \\ \\frac{\\mathrm{N}}{\\mathrm{mm}^{2}} \\\\ \n",
       "E_{c} & = 29.3 \\ \\frac{\\mathrm{kN}}{\\mathrm{mm}^{2}} \\quad & \\varepsilon_{cu} & = 5 \\ \\mathrm{‰} \\quad &  \n",
       " \\end{aligned}\n",
       "$$"
      ],
      "text/plain": [
       "<IPython.core.display.Markdown object>"
      ]
     },
     "metadata": {},
     "output_type": "display_data"
    }
   ],
   "source": [
    "# Zylinderdruckfestigkeit vorausgesetzt\n",
    "f_cc = 30 * N / mm**2\n",
    "\n",
    "# Betonzugfestigkeit, nicht einheitentreu\n",
    "f_ct = (0.3 * f_cc.magnitude ** (2 / 3)) * N / mm**2 \n",
    "\n",
    "# Effektive Betondruckfestigkeit, nicht einheitentreu\n",
    "f_c = (2.5 * f_cc.magnitude ** (2 / 3)) * N / mm**2 \n",
    "\n",
    "# Elastizitätsmodul des Betons\n",
    "E_c = 29.3*kN/mm**2\n",
    "\n",
    "# Bruchstauchung Erfahrungswert\n",
    "varepsilon_cu = 5 *permille\n",
    "\n",
    "put_out()"
   ]
  },
  {
   "cell_type": "markdown",
   "metadata": {},
   "source": [
    "### Linear elastische - gerissene Biegesteifigkeit\n",
    "\n",
    "Querschnittsanalyse:\n"
   ]
  },
  {
   "cell_type": "code",
   "execution_count": 6,
   "metadata": {},
   "outputs": [
    {
     "data": {
      "text/markdown": [
       "$$\n",
       "\\begin{aligned}\n",
       "a_{s} & = 769.69 \\ \\frac{\\mathrm{mm}^{2}}{\\mathrm{m}} \\quad & n & = 7.0 \\  \\end{aligned}\n",
       "$$"
      ],
      "text/plain": [
       "<IPython.core.display.Markdown object>"
      ]
     },
     "metadata": {},
     "output_type": "display_data"
    }
   ],
   "source": [
    "# Querschnittsfläche der Längsbewehrung, pro Längeneinheit\n",
    "a_s = (diam_x**2 / 4 * np.pi / s_x).to(mm**2 / m)\n",
    "\n",
    "# Wertigkeit der Elastizitätsmodule\n",
    "n = E_s / E_c\n",
    "\n",
    "put_out()"
   ]
  },
  {
   "cell_type": "markdown",
   "metadata": {},
   "source": [
    "Die Druckzonenhöhe wird mittels dem Gleichgewicht der horizontalen Kräfte ermittelt"
   ]
  },
  {
   "cell_type": "code",
   "execution_count": 7,
   "metadata": {},
   "outputs": [],
   "source": [
    "# Mittels Sympy (CAS für Python) wird eine analytische Lösung der\n",
    "# Druckzonenhöhe für den gerissenen Querschnitt ermittelt.\n",
    "\n",
    "# Summe der horizontalen Kräfte\n",
    "sum_Fx = sp.sympify(\"1/2*x*b_w*sigma_c -sigma_s*a_s*b_w\")\n",
    "\n",
    "# Definition der Spannung in Abhängigkeit der Dehnungen\n",
    "expr_sigma_c = sp.sympify(\"varepsilon_c * E_c\")\n",
    "expr_sigma_s = sp.sympify(\"varepsilon_s * n * E_c\")\n",
    "\n",
    "# Die Beziehung zwischen der Stahl- und Betondehnung nach Hook\n",
    "expr_epsilon_c = sp.sympify(\"varepsilon_s /(d-x)*x\")\n",
    "\n",
    "# Substitution der Gleichungen\n",
    "sum_Fx_subs = sum_Fx.subs(\n",
    "    {\n",
    "        \"sigma_c\": expr_sigma_c.subs(\"varepsilon_c\", expr_epsilon_c),\n",
    "        \"sigma_s\": expr_sigma_s,\n",
    "    }\n",
    ")\n",
    "\n",
    "# Erstellen einer numerischen Funktion\n",
    "x_solve = sp.solve(sum_Fx_subs, \"x\")[1]\n",
    "x_solve_lambd = sp.lambdify((\"a_s\", \"b_w\", \"n\", \"d\"), x_solve)"
   ]
  },
  {
   "cell_type": "code",
   "execution_count": 8,
   "metadata": {},
   "outputs": [
    {
     "data": {
      "text/markdown": [
       "$$\n",
       "\\begin{aligned}\n",
       "x_{II} & = 47.91 \\ \\mathrm{mm} \\quad & I_{cII} & = 36650532.72 \\ \\mathrm{mm}^{4} \\quad & I_{sII} & = 244534349.46 \\ \\mathrm{mm}^{4} \\\\ \n",
       "I_{II} & = 281184882.18 \\ \\mathrm{mm}^{4} \\quad & EI_{II} & = 8238.72 \\ \\mathrm{kN} \\cdot \\mathrm{m}^{2} \\quad &  \n",
       " \\end{aligned}\n",
       "$$"
      ],
      "text/plain": [
       "<IPython.core.display.Markdown object>"
      ]
     },
     "metadata": {},
     "output_type": "display_data"
    }
   ],
   "source": [
    "# Druckzonenhöhe mit Parametern substituiert\n",
    "x_II = x_solve_lambd(a_s, b_w, n, d_x).to(mm)\n",
    "\n",
    "# Flächenmoment 2. Grades für den gerissenen Querschnitt\n",
    "I_cII = (b_w * x_II**3 / 12 + b_w * x_II * (x_II / 2) ** 2).to(mm**4)\n",
    "I_sII = (a_s * b_w * n * (d_x - x_II) ** 2).to(mm**4)\n",
    "I_II = (I_cII + I_sII).to(mm**4)\n",
    "\n",
    "# Gerissene Biegesteifigkeit\n",
    "EI_II = (E_c * I_II).to(kN * m**2)\n",
    "\n",
    "put_out()"
   ]
  },
  {
   "cell_type": "markdown",
   "metadata": {},
   "source": [
    "Damit ist die Biegesteifigkeit definiert."
   ]
  },
  {
   "cell_type": "markdown",
   "metadata": {},
   "source": [
    "### Hebelarm der inneren Kräfte"
   ]
  },
  {
   "cell_type": "markdown",
   "metadata": {},
   "source": [
    "Der Hebelarm der inneren Kräfte wird für den gesamten Träger als konstant angenommen.\n",
    "Dabei wird dem Beton die Zylinderdruckfestigkeit hinterlegt, sowie erreich der Stahl die Zugfestigkeit."
   ]
  },
  {
   "cell_type": "code",
   "execution_count": 9,
   "metadata": {},
   "outputs": [
    {
     "data": {
      "text/markdown": [
       "$$\n",
       "\\begin{aligned}\n",
       "x_{dv} & = 18.11 \\ \\mathrm{mm} \\quad & d_{v} & = 253.3 \\ \\mathrm{mm} \\quad & m_{us} & = 116.98 \\ \\mathrm{kN} \\end{aligned}\n",
       "$$"
      ],
      "text/plain": [
       "<IPython.core.display.Markdown object>"
      ]
     },
     "metadata": {},
     "output_type": "display_data"
    }
   ],
   "source": [
    "# Druckzonenhöhe für den Zustand\n",
    "x_dv = (a_s * b_w * f_su / (0.85 * f_cc * b_w)).to(mm)  \n",
    "\n",
    "# Hebelarm der inneren Kräfte für diesen Zustand\n",
    "d_v = d_x - 1 / 2 * 0.85 * x_dv  \n",
    "\n",
    "# Biegewiderstand für diesen Zustand\n",
    "m_us = (a_s * f_su * d_v).to(kN)\n",
    "\n",
    "put_out()"
   ]
  },
  {
   "cell_type": "markdown",
   "metadata": {},
   "source": [
    "### Rissabstand\n",
    "\n",
    "Frage an Hda, was hier gerechnet wird"
   ]
  },
  {
   "cell_type": "code",
   "execution_count": 10,
   "metadata": {},
   "outputs": [
    {
     "data": {
      "text/markdown": [
       "$$\n",
       "\\begin{aligned}\n",
       "h_{eff} & = 78.0 \\ \\mathrm{mm} \\quad & \\rho & = 0.99 \\ \\mathrm{\\%} \\quad & s_{r0} & = 351.19 \\ \\mathrm{mm} \\\\ \n",
       "s_{rl} & = 175.59 \\ \\mathrm{mm} \\quad & s_{r} & = 200 \\ \\mathrm{mm} \\quad &  \n",
       " \\end{aligned}\n",
       "$$"
      ],
      "text/plain": [
       "<IPython.core.display.Markdown object>"
      ]
     },
     "metadata": {},
     "output_type": "display_data"
    }
   ],
   "source": [
    "# Abschätzung der mitwirkenden Höhe der Betonzugzone\n",
    "h_eff = 2 * (h - d_x)  \n",
    "\n",
    "# Geometrischer Bewehrungsgehalt\n",
    "rho = (a_s / h_eff).to(percent)  \n",
    "\n",
    "# maximaler Rissabstand\n",
    "s_r0 = (diam_x * (1 - rho)  / (4 * rho)).to(mm)  \n",
    "\n",
    "# minimaler Rissabstand\n",
    "s_rl = 1/2 * s_r0 \n",
    "\n",
    "# Annahme des Rissabstandes, entspricht dem Abstand der Querstäbe\n",
    "s_r = 200 * mm  \n",
    "\n",
    "put_out()"
   ]
  },
  {
   "cell_type": "markdown",
   "metadata": {},
   "source": [
    "### Risselement bei Fliessbeginn "
   ]
  },
  {
   "cell_type": "code",
   "execution_count": 11,
   "metadata": {},
   "outputs": [
    {
     "data": {
      "text/markdown": [
       "$$\n",
       "\\begin{aligned}\n",
       "\\tau_{b0} & = 5.79 \\ \\frac{\\mathrm{N}}{\\mathrm{mm}^{2}} \\quad & \\sigma_{sy 3} & = 404.49 \\ \\frac{\\mathrm{N}}{\\mathrm{mm}^{2}} \\quad & \\varepsilon_{smy} & = 2.38 \\ \\mathrm{‰} \\\\ \n",
       "m_{y} & = 111.13 \\ \\mathrm{kN} \\quad &  \\quad &  \n",
       " \\end{aligned}\n",
       "$$"
      ],
      "text/plain": [
       "<IPython.core.display.Markdown object>"
      ]
     },
     "metadata": {},
     "output_type": "display_data"
    }
   ],
   "source": [
    "# Verbundschubspannung vor dem Fliessen\n",
    "tau_b0 = 2 * f_ct\n",
    "\n",
    "# minimale Stahlspannung\n",
    "sigma_sy_3 = f_sy - 4 * tau_b0 * s_r / 2 / diam_x\n",
    "\n",
    "# mittlere Stahldehnung\n",
    "varepsilon_smy = ((sigma_sy_3 + f_sy) / (E_s * 2)).to(permille)\n",
    "\n",
    "# Fliessmoment\n",
    "m_y = (a_s * f_sy * d_v).to(kN*m/m)\n",
    "\n",
    "put_out()"
   ]
  },
  {
   "cell_type": "markdown",
   "metadata": {},
   "source": [
    "### Risselement beim Erreichen der Zugfestigkeit"
   ]
  },
  {
   "cell_type": "code",
   "execution_count": 12,
   "metadata": {},
   "outputs": [
    {
     "data": {
      "text/markdown": [
       "$$\n",
       "\\begin{aligned}\n",
       "\\tau_{b1} & = 2.9 \\ \\frac{\\mathrm{N}}{\\mathrm{mm}^{2}} \\quad & \\Delta_{x pl} & = 36.25 \\ \\mathrm{mm} \\quad & \\Delta_{x el} & = 63.75 \\ \\mathrm{mm} \\\\ \n",
       "\\sigma_{su 3} & = 464.49 \\ \\frac{\\mathrm{N}}{\\mathrm{mm}^{2}} \\quad &  \\quad &  \n",
       " \\end{aligned}\n",
       "$$"
      ],
      "text/plain": [
       "<IPython.core.display.Markdown object>"
      ]
     },
     "metadata": {},
     "output_type": "display_data"
    }
   ],
   "source": [
    "# Verbundschubspannung vor dem Fliessen\n",
    "tau_b1 = f_ct\n",
    "\n",
    "# Plastischer Bereich\n",
    "Delta_x_pl = (f_su - f_sy) / (4*tau_b1 / diam_x)\n",
    "\n",
    "# Elastischer Bereich\n",
    "Delta_x_el = s_r /2 - Delta_x_pl\n",
    "\n",
    "# minimale Stahlspannung\n",
    "sigma_su_3 = f_sy - 4 * tau_b0 * Delta_x_el  / diam_x\n",
    "\n",
    "put_out()"
   ]
  },
  {
   "cell_type": "code",
   "execution_count": 13,
   "metadata": {},
   "outputs": [
    {
     "data": {
      "text/markdown": [
       "$$\n",
       "\\begin{aligned}\n",
       "\\varepsilon_{s 1} & = 25 \\ \\mathrm{‰} \\quad & \\varepsilon_{s 2} & = 2.78 \\ \\mathrm{‰} \\quad & \\varepsilon_{s 3} & = 2.27 \\ \\mathrm{‰} \\\\ \n",
       "S_{1} & = 8.43 \\ \\mathrm{‰} \\quad & S_{2} & = 1.27 \\ \\mathrm{‰} \\quad & A_{1} & = 503.53 \\ \\mathrm{mm} \\cdot \\mathrm{‰} \\\\ \n",
       "A_{2} & = 160.83 \\ \\mathrm{mm} \\cdot \\mathrm{‰} \\quad & \\varepsilon_{sm} & = 6.69 \\ \\mathrm{‰} \\quad &  \n",
       " \\end{aligned}\n",
       "$$"
      ],
      "text/plain": [
       "<IPython.core.display.Markdown object>"
      ]
     },
     "metadata": {},
     "output_type": "display_data"
    }
   ],
   "source": [
    "# mittlere Stahldehnung\n",
    "varepsilon_s_1 = varepsilon_su\n",
    "varepsilon_s_2 = varepsilon_sy\n",
    "varepsilon_s_3 = (sigma_su_3 / E_s).to(permille)\n",
    "\n",
    "def center_trapez(a, b, b_1):\n",
    "    return (b**2 + a**2 + a*b+2*a*b_1 + b*b_1) /(3*(a+b))\n",
    "\n",
    "def area_trapez(a, b, h):\n",
    "    return 1 / 2 * (a + b) * h\n",
    "\n",
    "# Schwerpunkte der beiden Trapeze\n",
    "S_1 = center_trapez(varepsilon_s_2, varepsilon_s_1, 0)\n",
    "S_2 = center_trapez(varepsilon_s_3, varepsilon_s_2, 0)\n",
    "\n",
    "# Flächen der beiden Trapeze\n",
    "A_1 = area_trapez(varepsilon_s_1, varepsilon_s_2, Delta_x_pl)\n",
    "A_2 = area_trapez(varepsilon_s_3, varepsilon_s_2, Delta_x_el)\n",
    "\n",
    "varepsilon_sm = ((S_1 * A_1 + S_2 * A_2) / (A_1 + A_2))\n",
    "\n",
    "put_out()"
   ]
  },
  {
   "cell_type": "code",
   "execution_count": 14,
   "metadata": {},
   "outputs": [
    {
     "data": {
      "text/html": [
       "63.74895409720498 mm"
      ],
      "text/latex": [
       "$63.74895409720498\\ \\mathrm{mm}$"
      ],
      "text/plain": [
       "<Quantity(63.7489541, 'millimeter')>"
      ]
     },
     "execution_count": 14,
     "metadata": {},
     "output_type": "execute_result"
    }
   ],
   "source": [
    "Delta_x_el"
   ]
  },
  {
   "cell_type": "markdown",
   "metadata": {},
   "source": [
    "### Plastische Rotationswinkel\n"
   ]
  },
  {
   "cell_type": "code",
   "execution_count": 15,
   "metadata": {},
   "outputs": [
    {
     "data": {
      "text/markdown": [
       "$$\n",
       "\\begin{aligned}\n",
       "l_{pl} & = 522.0 \\ \\mathrm{mm} \\quad & \\Theta_{pl} & = 0.53 \\ \\mathrm{°} \\end{aligned}\n",
       "$$"
      ],
      "text/plain": [
       "<IPython.core.display.Markdown object>"
      ]
     },
     "metadata": {},
     "output_type": "display_data"
    }
   ],
   "source": [
    "# Annahme für die Länge des plastischen Gelenks\n",
    "l_pl = 2 * d_x \n",
    "\n",
    "# Plastischer Rotationswinkel, Rotationsbedarf für vollständige Umlagerung.\n",
    "Theta_pl = (l_pl * (varepsilon_sm - varepsilon_smy) / (d_x - x_dv)).to(deg)\n",
    "\n",
    "put_out()"
   ]
  },
  {
   "cell_type": "markdown",
   "metadata": {},
   "source": [
    "### Fliessen des Mittelauflagers"
   ]
  },
  {
   "cell_type": "code",
   "execution_count": 16,
   "metadata": {},
   "outputs": [
    {
     "data": {
      "text/markdown": [
       "$$\n",
       "\\begin{aligned}\n",
       "q_{y , B} & = 13.89 \\ \\frac{\\mathrm{kN}}{\\mathrm{m}} \\quad & w_{m y} & = 35.97 \\ \\mathrm{mm} \\end{aligned}\n",
       "$$"
      ],
      "text/plain": [
       "<IPython.core.display.Markdown object>"
      ]
     },
     "metadata": {},
     "output_type": "display_data"
    }
   ],
   "source": [
    "# Die Streckenlast zum Erreichen des Fliessens bei B\n",
    "q_y_comma_B = 8 * m_y * b_w / l**2\n",
    "\n",
    "# maximale Verformung im Feld\n",
    "w_m_y = (5*q_y_comma_B*l**4/(384*EI_II) - m_y*b_w * l**2 / (16*EI_II)).to(mm)\n",
    "\n",
    "put_out()"
   ]
  },
  {
   "cell_type": "markdown",
   "metadata": {},
   "source": [
    "### Fliessbeginn im Feld"
   ]
  },
  {
   "cell_type": "code",
   "execution_count": 17,
   "metadata": {},
   "outputs": [
    {
     "data": {
      "text/markdown": [
       "$$\n",
       "\\begin{aligned}\n",
       "q_{y , F} & = 20.55 \\ \\frac{\\mathrm{kN}}{\\mathrm{m}} \\end{aligned}\n",
       "$$"
      ],
      "text/plain": [
       "<IPython.core.display.Markdown object>"
      ]
     },
     "metadata": {},
     "output_type": "display_data"
    }
   ],
   "source": [
    "# Streckenlast beim Fliessbeginn im Feld\n",
    "q_y_comma_F = ((4 * m_y + 2 * m_us)/ l**2 + 4/l**2 * np.sqrt(m_y**2 + m_y *m_us))*b_w\n",
    "\n",
    "put_out()"
   ]
  },
  {
   "cell_type": "markdown",
   "metadata": {},
   "source": [
    "#### Rotationsvermögen"
   ]
  },
  {
   "cell_type": "code",
   "execution_count": 18,
   "metadata": {},
   "outputs": [
    {
     "data": {
      "text/markdown": [
       "$$\n",
       "\\begin{aligned}\n",
       "\\alpha & = 0.88 \\ \\mathrm{°} \\quad & \\Theta_{erf} & = 1.76 \\ \\mathrm{°} \\quad & \\Theta_{pl} & = 0.53 \\ \\mathrm{°} \\end{aligned}\n",
       "$$"
      ],
      "text/plain": [
       "<IPython.core.display.Markdown object>"
      ]
     },
     "metadata": {},
     "output_type": "display_data"
    }
   ],
   "source": [
    "# Rotationswinkel (Verwendung der Arbeitsgleichung)\n",
    "alpha = ((q_y_comma_F - q_y_comma_B)* l**3 / (24*EI_II) - (m_us - m_y)*b_w*l/(3*EI_II)).to(deg)\n",
    "\n",
    "# Verformungsbedarf\n",
    "Theta_erf = 2 * alpha\n",
    "\n",
    "#Verformungsvermögen\n",
    "Theta_pl\n",
    "\n",
    "put_out()"
   ]
  },
  {
   "cell_type": "markdown",
   "metadata": {},
   "source": [
    "Das Verformungsvermögen ist nicht ausreichend."
   ]
  },
  {
   "cell_type": "code",
   "execution_count": 19,
   "metadata": {},
   "outputs": [
    {
     "data": {
      "text/markdown": [
       "$$\n",
       "\\begin{aligned}\n",
       "\\alpha_{max} & = 0.27 \\ \\mathrm{°} \\quad & \\Delta_{qu} & = 2.52 \\ \\frac{\\mathrm{kN}}{\\mathrm{m}} \\quad & q_{u B500A} & = 16.41 \\ \\frac{\\mathrm{kN}}{\\mathrm{m}} \\end{aligned}\n",
       "$$"
      ],
      "text/plain": [
       "<IPython.core.display.Markdown object>"
      ]
     },
     "metadata": {},
     "output_type": "display_data"
    }
   ],
   "source": [
    "# maximaler Rotationswinkel\n",
    "alpha_max = Theta_pl / 2\n",
    "\n",
    "# Streckenlast bis zum maximalen Rotationswinkel\n",
    "Delta_qu = ((alpha_max + (m_us - m_y)*l*b_w / (3*EI_II))*24*EI_II/l**3).to(kN/m)\n",
    "\n",
    "# Traglast für B500A\n",
    "q_u_B500A = Delta_qu + q_y_comma_B\n",
    "\n",
    "put_out()"
   ]
  },
  {
   "cell_type": "code",
   "execution_count": 20,
   "metadata": {},
   "outputs": [
    {
     "data": {
      "text/markdown": [
       "$$\n",
       "\\begin{aligned}\n",
       "w_{m u} & = 49.46 \\ \\mathrm{mm} \\end{aligned}\n",
       "$$"
      ],
      "text/plain": [
       "<IPython.core.display.Markdown object>"
      ]
     },
     "metadata": {},
     "output_type": "display_data"
    }
   ],
   "source": [
    "# maximale Verformung im Feld\n",
    "w_m_u = (5*q_u_B500A*l**4/(384*EI_II) - m_us*b_w * l**2 / (16*EI_II)).to(mm)\n",
    "\n",
    "put_out()"
   ]
  },
  {
   "cell_type": "markdown",
   "metadata": {},
   "source": [
    "## Naturharter Stahl B500C\n",
    "\n",
    "### Eigenschaften des Betonstahls"
   ]
  },
  {
   "cell_type": "code",
   "execution_count": 21,
   "metadata": {},
   "outputs": [
    {
     "data": {
      "text/markdown": [
       "$$\n",
       "\\begin{aligned}\n",
       "f_{sy} & = 500.0 \\ \\frac{\\mathrm{N}}{\\mathrm{mm}^{2}} \\quad & f_{su} & = 600.0 \\ \\frac{\\mathrm{N}}{\\mathrm{mm}^{2}} \\quad & \\varepsilon_{sy} & = 2.44 \\ \\mathrm{‰} \\\\ \n",
       "\\varepsilon_{sh} & = 20 \\ \\mathrm{‰} \\quad & \\varepsilon_{su} & = 125 \\ \\mathrm{‰} \\quad & E_{s} & = 205.0 \\ \\frac{\\mathrm{kN}}{\\mathrm{mm}^{2}} \\\\ \n",
       "E_{sh} & = 952.0 \\ \\frac{\\mathrm{N}}{\\mathrm{mm}^{2}} \\quad &  \\quad &  \n",
       " \\end{aligned}\n",
       "$$"
      ],
      "text/plain": [
       "<IPython.core.display.Markdown object>"
      ]
     },
     "metadata": {},
     "output_type": "display_data"
    }
   ],
   "source": [
    "f_sy = 500 * N / mm**2  # Fliessgrenze\n",
    "f_su = 600 * N / mm**2  # Zugfestigkeit\n",
    "varepsilon_sy = 2.439*permille  # Fliessdehnung\n",
    "varepsilon_sh = 20*permille # Dehnung bei Verfestigungsbeginn\n",
    "varepsilon_su = 125*permille  # Bruchdehnung\n",
    "E_s = 205 * kN / mm**2  # Elastizitätsmodul\n",
    "E_sh = 952 * N / mm**2  # Verfestigungsmodul\n",
    "\n",
    "put_out()"
   ]
  },
  {
   "cell_type": "code",
   "execution_count": 22,
   "metadata": {},
   "outputs": [],
   "source": [
    "# | echo: false\n",
    "\n",
    "stress_b500c_array = np.array([0, f_sy.magnitude, f_sy.magnitude, f_su.magnitude]) * MPa\n",
    "strain_b500c_array = np.array([0, varepsilon_sy, varepsilon_sh, varepsilon_su])\n",
    "\n",
    "\n",
    "fig, ax = plt.subplots()\n",
    "\n",
    "ax.plot(strain_b500c_array, stress_b500c_array.to(MPa).magnitude, color=\"k\")\n",
    "\n",
    "\n",
    "# Set axis labels\n",
    "ax.set_ylabel(r\"$\\sigma$ [N/mm$^2$]\")\n",
    "ax.set_xlabel(r\"$\\varepsilon_s$ [-]\")\n",
    "\n",
    "# Set limits\n",
    "ax.set_xlim(xmax=125 / 1000)\n",
    "ax.set_ylim(ymax=750)\n",
    "\n",
    "# Show the plot\n",
    "plt.tight_layout()\n",
    "# plt.show()\n",
    "plt.savefig(\"imgs/stress_strain_b500c.svg\")\n",
    "plt.close()"
   ]
  },
  {
   "cell_type": "markdown",
   "metadata": {},
   "source": [
    "![Spannungs-Dehnungs-Beziehung des Betonstahls B500C](../imgs/stress_strain_b500c.svg){#stress_strain_b500c}"
   ]
  },
  {
   "cell_type": "markdown",
   "metadata": {},
   "source": [
    "### Vor dem Fliessen"
   ]
  },
  {
   "cell_type": "code",
   "execution_count": 23,
   "metadata": {},
   "outputs": [
    {
     "data": {
      "text/markdown": [
       "$$\n",
       "\\begin{aligned}\n",
       "\\varepsilon_{sm y} & = 2.04 \\ \\mathrm{‰} \\quad & m_{y} & = 97.48 \\ \\mathrm{kN} \\end{aligned}\n",
       "$$"
      ],
      "text/plain": [
       "<IPython.core.display.Markdown object>"
      ]
     },
     "metadata": {},
     "output_type": "display_data"
    }
   ],
   "source": [
    "# Mittlere Stahldehnung beim Fliessen\n",
    "varepsilon_sm_y = varepsilon_sy - tau_b0 * s_r / (diam_x * E_s)\n",
    "\n",
    "# Fliessmoment\n",
    "m_y = (a_s * f_sy * d_v).to(kN)\n",
    "put_out()"
   ]
  },
  {
   "cell_type": "markdown",
   "metadata": {},
   "source": [
    "### Versagensart des Querschnitts"
   ]
  },
  {
   "cell_type": "code",
   "execution_count": 24,
   "metadata": {},
   "outputs": [
    {
     "data": {
      "text/markdown": [
       "$$\n",
       "\\begin{aligned}\n",
       "\\sigma_{su 3} & = 517.24 \\ \\frac{\\mathrm{N}}{\\mathrm{mm}^{2}} \\quad & \\varepsilon_{su 3} & = 38.11 \\ \\mathrm{‰} \\quad & \\varepsilon_{sm} & = 81.56 \\ \\mathrm{‰} \\end{aligned}\n",
       "$$"
      ],
      "text/plain": [
       "<IPython.core.display.Markdown object>"
      ]
     },
     "metadata": {},
     "output_type": "display_data"
    }
   ],
   "source": [
    "# Stahlspannung zwischen den Rissen\n",
    "sigma_su_3 = f_su - 4 * tau_b1 / diam_x*s_r /2  \n",
    "\n",
    "# Stahldehnung zwischen den Rissen\n",
    "varepsilon_su_3 = ((sigma_su_3- f_sy) / E_sh + varepsilon_sh).to(permille)\n",
    "varepsilon_sm = (varepsilon_su_3 + varepsilon_su)/2\n",
    "\n",
    "put_out()"
   ]
  },
  {
   "cell_type": "code",
   "execution_count": 25,
   "metadata": {},
   "outputs": [
    {
     "data": {
      "text/markdown": [
       "$$\n",
       "\\begin{aligned}\n",
       "\\varepsilon_{c} & = 6.08 \\ \\mathrm{‰} \\quad & \\varepsilon_{cu} & = 5 \\ \\mathrm{‰} \\end{aligned}\n",
       "$$"
      ],
      "text/plain": [
       "<IPython.core.display.Markdown object>"
      ]
     },
     "metadata": {},
     "output_type": "display_data"
    }
   ],
   "source": [
    "# Betonstauchung \n",
    "varepsilon_c =  varepsilon_sm / (d_x - x_dv) * x_dv\n",
    "\n",
    "varepsilon_cu\n",
    "\n",
    "put_out()"
   ]
  },
  {
   "cell_type": "markdown",
   "metadata": {},
   "source": [
    "Die Betonbruchstauchung wird überschritten. Das bedeutet, es stellt sich ein Betondruckversagen vor einem Zerreissen der Bewehrung ein."
   ]
  },
  {
   "cell_type": "code",
   "execution_count": 26,
   "metadata": {},
   "outputs": [
    {
     "data": {
      "text/markdown": [
       "$$\n",
       "\\begin{aligned}\n",
       "\\varepsilon_{sm u} & = 67.06 \\ \\mathrm{‰} \\quad & \\varepsilon_{smax u} & = 110.5 \\ \\mathrm{‰} \\quad & \\sigma_{smax u} & = 586.2 \\ \\frac{\\mathrm{N}}{\\mathrm{mm}^{2}} \\\\ \n",
       "m_{u} & = 114.29 \\ \\mathrm{kN} \\quad &  \\quad &  \n",
       " \\end{aligned}\n",
       "$$"
      ],
      "text/plain": [
       "<IPython.core.display.Markdown object>"
      ]
     },
     "metadata": {},
     "output_type": "display_data"
    }
   ],
   "source": [
    "# Mittlere Stahldehnung beim Druckversagen\n",
    "varepsilon_sm_u = varepsilon_cu / x_dv * (d_x - x_dv)\n",
    "\n",
    "# Maximale Stahldehnung beim Druckversagen\n",
    "varepsilon_smax_u = varepsilon_su - (varepsilon_sm-varepsilon_sm_u)\n",
    "\n",
    "# Maximale Stahlspannung beim Druckversagen\n",
    "sigma_smax_u = f_su - (varepsilon_su - varepsilon_smax_u)*E_sh\n",
    "\n",
    "# Maximaler Biegewiderstand\n",
    "m_u = (a_s * sigma_smax_u * d_v).to(kN*m/m)\n",
    "put_out()"
   ]
  },
  {
   "cell_type": "markdown",
   "metadata": {},
   "source": [
    "### Verformungsvermögen"
   ]
  },
  {
   "cell_type": "code",
   "execution_count": 27,
   "metadata": {},
   "outputs": [
    {
     "data": {
      "text/markdown": [
       "$$\n",
       "\\begin{aligned}\n",
       "\\Theta_{pl} & = 8.01 \\ \\mathrm{°} \\end{aligned}\n",
       "$$"
      ],
      "text/plain": [
       "<IPython.core.display.Markdown object>"
      ]
     },
     "metadata": {},
     "output_type": "display_data"
    }
   ],
   "source": [
    "# Plastischer Rotationswinkel, Rotationsbedarf für vollständige Umlagerung.\n",
    "Theta_pl = (l_pl * (varepsilon_sm_u - varepsilon_sm_y) / (d_x - x_dv)).to(deg)\n",
    "\n",
    "put_out()"
   ]
  },
  {
   "cell_type": "markdown",
   "metadata": {},
   "source": [
    "### Fliessen beim Mittelauflager"
   ]
  },
  {
   "cell_type": "code",
   "execution_count": 28,
   "metadata": {},
   "outputs": [
    {
     "data": {
      "text/markdown": [
       "$$\n",
       "\\begin{aligned}\n",
       "q_{y , B} & = 12.19 \\ \\frac{\\mathrm{kN}}{\\mathrm{m}} \\quad & w_{m y} & = 31.55 \\ \\mathrm{mm} \\end{aligned}\n",
       "$$"
      ],
      "text/plain": [
       "<IPython.core.display.Markdown object>"
      ]
     },
     "metadata": {},
     "output_type": "display_data"
    }
   ],
   "source": [
    "# Streckenlast beim Fliessen des Mittelauflagers\n",
    "q_y_comma_B = 8 * m_y/l**2*b_w\n",
    "\n",
    "# Verformung beim Fliessen des Mittelauflagers\n",
    "w_m_y = (5*q_y_comma_B*l**4/(384*EI_II) - m_y*b_w * l**2 /(16 * EI_II)).to(mm)\n",
    "\n",
    "put_out()"
   ]
  },
  {
   "cell_type": "markdown",
   "metadata": {},
   "source": [
    "### Fliessbeginn im Feld"
   ]
  },
  {
   "cell_type": "code",
   "execution_count": 29,
   "metadata": {},
   "outputs": [],
   "source": [
    "\n",
    "put_out()"
   ]
  },
  {
   "cell_type": "markdown",
   "metadata": {},
   "source": [
    "#### Risselement beim Fliessen im Feld"
   ]
  },
  {
   "cell_type": "code",
   "execution_count": 30,
   "metadata": {},
   "outputs": [
    {
     "data": {
      "text/markdown": [
       "$$\n",
       "\\begin{aligned}\n",
       "m_{F} & = 97.48 \\ \\mathrm{kN} \\end{aligned}\n",
       "$$"
      ],
      "text/plain": [
       "<IPython.core.display.Markdown object>"
      ]
     },
     "metadata": {},
     "output_type": "display_data"
    }
   ],
   "source": [
    "# Im Feld wird das Fliessmoment erreicht\n",
    "m_F = m_y\n",
    "\n",
    "put_out()"
   ]
  },
  {
   "cell_type": "code",
   "execution_count": 31,
   "metadata": {},
   "outputs": [
    {
     "data": {
      "text/markdown": [
       "$$\n",
       "\\begin{aligned}\n",
       "\\sigma_{s 2} & = 500.0 \\ \\frac{\\mathrm{N}}{\\mathrm{mm}^{2}} \\quad & \\sigma_{s 1} & = 530.0 \\ \\frac{\\mathrm{N}}{\\mathrm{mm}^{2}} \\quad & \\sigma_{s 3} & = 394.49 \\ \\frac{\\mathrm{N}}{\\mathrm{mm}^{2}} \\\\ \n",
       "S_{1} & = 257.57 \\ \\frac{\\mathrm{N}}{\\mathrm{mm}^{2}} \\quad & S_{2} & = 224.66 \\ \\frac{\\mathrm{N}}{\\mathrm{mm}^{2}} \\quad & A_{1} & = 18669.29 \\ \\frac{\\mathrm{N}}{\\mathrm{mm}} \\\\ \n",
       "A_{2} & = 28511.32 \\ \\frac{\\mathrm{N}}{\\mathrm{mm}} \\quad & \\sigma_{sm} & = 237.68 \\ \\frac{\\mathrm{N}}{\\mathrm{mm}^{2}} \\quad &  \n",
       " \\end{aligned}\n",
       "$$"
      ],
      "text/plain": [
       "<IPython.core.display.Markdown object>"
      ]
     },
     "metadata": {},
     "output_type": "display_data"
    }
   ],
   "source": [
    "# Fliessspannung wird vorausgesetzt\n",
    "sigma_s_2 = 500 *N/mm**2\n",
    "sigma_s_1 = sigma_s_2 + 4 * tau_b1 / diam_x * Delta_x_pl\n",
    "sigma_s_3 = sigma_s_2 - 4 * tau_b0 / diam_x * Delta_x_el\n",
    "\n",
    "\n",
    "S_1 = center_trapez(sigma_s_2, sigma_s_1, 0*MPa)\n",
    "S_2 = center_trapez(sigma_s_3, sigma_s_2, 0*MPa)\n",
    "\n",
    "A_1 = area_trapez(sigma_s_1, sigma_s_2, Delta_x_pl)\n",
    "A_2 = area_trapez(sigma_s_2, sigma_s_3, Delta_x_el)\n",
    "\n",
    "sigma_sm = (A_1 * S_1 + A_2 * S_2) / (A_1 + A_2)\n",
    "\n",
    "put_out()"
   ]
  },
  {
   "cell_type": "code",
   "execution_count": 32,
   "metadata": {},
   "outputs": [
    {
     "data": {
      "text/markdown": [
       "$$\n",
       "\\begin{aligned}\n",
       "\\varepsilon_{s 1} & = 51.51 \\ \\mathrm{‰} \\quad & \\varepsilon_{s 21} & = 20 \\ \\mathrm{‰} \\quad & \\varepsilon_{s 22} & = 2.44 \\ \\mathrm{‰} \\\\ \n",
       "\\varepsilon_{s 3} & = 1.92 \\ \\mathrm{‰} \\quad & S_{1} & = 19.04 \\ \\mathrm{‰} \\quad & S_{2} & = 1.1 \\ \\mathrm{‰} \\\\ \n",
       "A_{1} & = 1296.2 \\ \\mathrm{mm} \\cdot \\mathrm{‰} \\quad & A_{2} & = 139.08 \\ \\mathrm{mm} \\cdot \\mathrm{‰} \\quad & \\varepsilon_{sm} & = 17.3 \\ \\mathrm{‰} \\end{aligned}\n",
       "$$"
      ],
      "text/plain": [
       "<IPython.core.display.Markdown object>"
      ]
     },
     "metadata": {},
     "output_type": "display_data"
    }
   ],
   "source": [
    "# Dehnungen\n",
    "varepsilon_s_1 = ((sigma_s_1 - sigma_s_2) / E_sh + varepsilon_sh).to(permille)\n",
    "varepsilon_s_21 = varepsilon_sh\n",
    "varepsilon_s_22 = varepsilon_sy\n",
    "varepsilon_s_3 = (sigma_s_3 / E_s).to(permille)\n",
    "\n",
    "S_1 = center_trapez(varepsilon_s_21, varepsilon_s_1, 0)\n",
    "S_2 = center_trapez(varepsilon_s_3, varepsilon_s_22, 0)\n",
    "\n",
    "A_1 = area_trapez(varepsilon_s_1, varepsilon_s_21, Delta_x_pl)\n",
    "A_2 = area_trapez(varepsilon_s_22, varepsilon_s_3, Delta_x_el)\n",
    "\n",
    "varepsilon_sm = (A_1 * S_1 + A_2 * S_2) / (A_1 + A_2)\n",
    "\n",
    "\n",
    "put_out()"
   ]
  },
  {
   "cell_type": "code",
   "execution_count": 33,
   "metadata": {},
   "outputs": [],
   "source": [
    "\n",
    "Theta_pl_q_y_comma_F = (l_pl * (varepsilon_sm - varepsilon_sm_y) / (d_x - x_dv)).to(deg)\n",
    "\n",
    "\n",
    "# # Das Biegemoment über dem Mittelauflager ist iterativ zu bestimmen\n",
    "# m_B = a_s * sigma_sr_q_y * d_v \n",
    "\n",
    "# alpha = (q_y_comma_F - q_y_comma_B)*l**3 / (24*EI_II) - (m_B - m_F)*l / (3*EI_II)\n",
    "# Theta_pl_erf = 2 * alpha"
   ]
  },
  {
   "cell_type": "code",
   "execution_count": null,
   "metadata": {},
   "outputs": [],
   "source": []
  }
 ],
 "metadata": {
  "kernelspec": {
   "display_name": "calc",
   "language": "python",
   "name": "python3"
  },
  "language_info": {
   "codemirror_mode": {
    "name": "ipython",
    "version": 3
   },
   "file_extension": ".py",
   "mimetype": "text/x-python",
   "name": "python",
   "nbconvert_exporter": "python",
   "pygments_lexer": "ipython3",
   "version": "3.11.9"
  }
 },
 "nbformat": 4,
 "nbformat_minor": 2
}
