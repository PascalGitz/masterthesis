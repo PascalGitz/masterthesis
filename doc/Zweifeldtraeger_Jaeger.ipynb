{
 "cells": [
  {
   "cell_type": "markdown",
   "metadata": {},
   "source": [
    "# Einführungsbeispiel - Zweifeldträger\n",
    "\n",
    "Das Vorlesungsbeispiel verfolgt das Ziel, die Verformungen eines Zweifeldträgers für zwei Betonstähle mit unterschiedlichen Duktilitätsklassen aufzuzeigen. @jager_stahlbeton_2009.\n",
    "\n",
    "![Statisches System des Zweifeldträgers mit Abmessungen versehen, daneben der Querschnitt mit Angaben zu der Längsbewehrung](../imgs/zweifeld_system.png){#fig-zweifeld_system}\n",
    "\n",
    "Zunächst wird die analytische Lösung vollumfänglich dargestellt und mit numerischen Werten substituiert. Abschliessend wird das Verformungsverhalten mit dem Federmodell nachmodelliert, bzw. numerisch approximiert."
   ]
  },
  {
   "cell_type": "markdown",
   "metadata": {},
   "source": [
    "## Allgemeines\n",
    "\n",
    "### Annahmen\n",
    "\n",
    "- Zwei unterschiedliche Stähle\n",
    "- konstant gerissene Biegesteifigkeit entlang der Stabachse\n",
    "\n",
    "### Parameter\n",
    "\n"
   ]
  },
  {
   "cell_type": "code",
   "execution_count": 1,
   "metadata": {},
   "outputs": [],
   "source": [
    "from packages import *"
   ]
  },
  {
   "cell_type": "markdown",
   "metadata": {},
   "source": [
    "#### Bewehrung"
   ]
  },
  {
   "cell_type": "code",
   "execution_count": 2,
   "metadata": {},
   "outputs": [
    {
     "data": {
      "text/latex": [
       "$\\displaystyle \\oslash$"
      ],
      "text/plain": [
       "\\oslash"
      ]
     },
     "execution_count": 2,
     "metadata": {},
     "output_type": "execute_result"
    }
   ],
   "source": [
    "sp.sympify(\"Symbol('\\\\oslash')\")"
   ]
  },
  {
   "cell_type": "code",
   "execution_count": null,
   "metadata": {},
   "outputs": [],
   "source": []
  },
  {
   "cell_type": "code",
   "execution_count": 3,
   "metadata": {},
   "outputs": [
    {
     "data": {
      "text/markdown": [
       "$$\n",
       "\\begin{aligned}\n",
       "\\oslash_{x} & = 14 \\ \\mathrm{mm} \\quad & s_{x} & = 200 \\ \\mathrm{mm} \\quad & \\oslash_{y} & = 12 \\ \\mathrm{mm} \\\\ \n",
       "s_{y} & = 200 \\ \\mathrm{mm} \\quad &  \\quad &  \n",
       " \\end{aligned}\n",
       "$$"
      ],
      "text/plain": [
       "<IPython.core.display.Markdown object>"
      ]
     },
     "metadata": {},
     "output_type": "display_data"
    }
   ],
   "source": [
    "# Längsbewehrung in X-Richtung gerichtet\n",
    "diam_x = 14 * un.mm\n",
    "\n",
    "# Teilung der Längsbewehrung\n",
    "s_x = 200 * un.mm\n",
    "\n",
    "# Längsbewehrung in Y-Richtung gerichtet\n",
    "diam_y = 12 * un.mm\n",
    "\n",
    "# Teilung der Längsbewehrung\n",
    "s_y = 200 * un.mm\n",
    "\n",
    "put_out()"
   ]
  },
  {
   "cell_type": "code",
   "execution_count": 4,
   "metadata": {},
   "outputs": [
    {
     "data": {
      "text/markdown": [
       "$$\n",
       "\\begin{aligned}\n",
       "a_{s} & = \\frac{\\pi \\oslash_{x}^{2}}{4 s_{x}} = 769.69 \\ \\frac{\\mathrm{mm}^{2}}{\\mathrm{m}} \\end{aligned}\n",
       "$$"
      ],
      "text/plain": [
       "<IPython.core.display.Markdown object>"
      ]
     },
     "metadata": {},
     "output_type": "display_data"
    }
   ],
   "source": [
    "# Querschnittsfläche der Längsbewehrung, pro Längeneinheit\n",
    "a_s = (diam_x**2 / 4 * np.pi / s_x).to(un.mm**2 / un.m)\n",
    "\n",
    "put_out(symbolic=True)"
   ]
  },
  {
   "cell_type": "markdown",
   "metadata": {},
   "source": [
    "#### Geometrie"
   ]
  },
  {
   "cell_type": "code",
   "execution_count": 5,
   "metadata": {},
   "outputs": [
    {
     "data": {
      "text/markdown": [
       "$$\n",
       "\\begin{aligned}\n",
       "c & = 20 \\ \\mathrm{mm} \\quad & h & = 300 \\ \\mathrm{mm} \\quad & b_{w} & = 1 \\ \\mathrm{m} \\\\ \n",
       "l & = 8 \\ \\mathrm{m} \\quad &  \\quad &  \n",
       " \\end{aligned}\n",
       "$$"
      ],
      "text/plain": [
       "<IPython.core.display.Markdown object>"
      ]
     },
     "metadata": {},
     "output_type": "display_data"
    }
   ],
   "source": [
    "# Betonüberdeckung\n",
    "c = 20 * un.mm\n",
    "\n",
    "# Plattenstärke\n",
    "h = 300 * un.mm\n",
    "\n",
    "# Streifenbreite\n",
    "b_w = 1 * un.m\n",
    "\n",
    "# Balkenlänge\n",
    "l = 8 * un.m\n",
    "\n",
    "\n",
    "put_out()"
   ]
  },
  {
   "cell_type": "code",
   "execution_count": 6,
   "metadata": {},
   "outputs": [
    {
     "data": {
      "text/markdown": [
       "$$\n",
       "\\begin{aligned}\n",
       "d_{x} & = - \\frac{\\oslash_{x}}{2} - \\oslash_{y} - c + h = 261.0 \\ \\mathrm{mm} \\end{aligned}\n",
       "$$"
      ],
      "text/plain": [
       "<IPython.core.display.Markdown object>"
      ]
     },
     "metadata": {},
     "output_type": "display_data"
    }
   ],
   "source": [
    "# Statische Höhe in der Bewehrung in X-Richtung\n",
    "d_x = h - c - diam_y - 1 / 2 * diam_x\n",
    "\n",
    "put_out(symbolic=True)"
   ]
  },
  {
   "cell_type": "markdown",
   "metadata": {},
   "source": [
    "#### Beton"
   ]
  },
  {
   "cell_type": "code",
   "execution_count": 7,
   "metadata": {},
   "outputs": [
    {
     "data": {
      "text/markdown": [
       "$$\n",
       "\\begin{aligned}\n",
       "f_{cc} & = 30.0 \\ \\frac{\\mathrm{N}}{\\mathrm{mm}^{2}} \\quad & E_{c} & = 29.3 \\ \\frac{\\mathrm{kN}}{\\mathrm{mm}^{2}} \\quad & \\varepsilon_{cu} & = 5 \\ \\mathrm{‰} \\end{aligned}\n",
       "$$"
      ],
      "text/plain": [
       "<IPython.core.display.Markdown object>"
      ]
     },
     "metadata": {},
     "output_type": "display_data"
    }
   ],
   "source": [
    "# Zylinderdruckfestigkeit vorausgesetzt\n",
    "f_cc = 30 * un.N / un.mm**2\n",
    "\n",
    "# Elastizitätsmodul des Betons\n",
    "E_c = 29.3 * un.kN / un.mm**2\n",
    "\n",
    "# Bruchstauchung Erfahrungswert\n",
    "varepsilon_cu = 5 * un.permille\n",
    "\n",
    "put_out()\n"
   ]
  },
  {
   "cell_type": "code",
   "execution_count": 8,
   "metadata": {},
   "outputs": [
    {
     "data": {
      "text/markdown": [
       "$$\n",
       "\\begin{aligned}\n",
       "f_{ct} & = 0.3 f_{cc}^{\\frac{2}{3}} = 2.9 \\ \\frac{\\mathrm{N}}{\\mathrm{mm}^{2}} \\\\ \n",
       "f_{c} & = 2.5 f_{cc}^{\\frac{2}{3}} = 24.14 \\ \\frac{\\mathrm{N}}{\\mathrm{mm}^{2}} \\end{aligned}\n",
       "$$"
      ],
      "text/plain": [
       "<IPython.core.display.Markdown object>"
      ]
     },
     "metadata": {},
     "output_type": "display_data"
    }
   ],
   "source": [
    "# Betonzugfestigkeit, nicht einheitentreu\n",
    "f_ct = (0.3 * f_cc.m ** (2 / 3)) * un.N / un.mm**2\n",
    "\n",
    "# Effektive Betondruckfestigkeit, nicht einheitentreu\n",
    "f_c = (2.5 * f_cc.m ** (2 / 3)) * un.N / un.mm**2\n",
    "\n",
    "\n",
    "put_out(symbolic=True, evaluate=True, rows=1)"
   ]
  },
  {
   "cell_type": "markdown",
   "metadata": {},
   "source": [
    "### Modellbildung - Zuggurtmodell"
   ]
  },
  {
   "cell_type": "code",
   "execution_count": 9,
   "metadata": {},
   "outputs": [
    {
     "data": {
      "text/markdown": [
       "$$\n",
       "\\begin{aligned}\n",
       "\\tau_{b0} & = 2 f_{ct} = 5.79 \\ \\frac{\\mathrm{N}}{\\mathrm{mm}^{2}} \\\\ \n",
       "\\tau_{b1} & = f_{ct} = 2.9 \\ \\frac{\\mathrm{N}}{\\mathrm{mm}^{2}} \\end{aligned}\n",
       "$$"
      ],
      "text/plain": [
       "<IPython.core.display.Markdown object>"
      ]
     },
     "metadata": {},
     "output_type": "display_data"
    }
   ],
   "source": [
    "# Verbundschubspannung vor dem Fliessen\n",
    "tau_b0 = 2 * f_ct\n",
    "\n",
    "# Verbundschubspannung vor dem Fliessen\n",
    "tau_b1 = f_ct\n",
    "\n",
    "put_out(symbolic=True, rows=1)"
   ]
  },
  {
   "cell_type": "code",
   "execution_count": 10,
   "metadata": {},
   "outputs": [
    {
     "data": {
      "text/markdown": [
       "$$\n",
       "\\begin{aligned}\n",
       "h_{eff} & = - 2 d_{x} + 2 h = 78.0 \\ \\mathrm{mm} \\\\ \n",
       "\\rho & = \\frac{a_{s}}{h_{eff}} = 0.99 \\ \\mathrm{\\%} \\end{aligned}\n",
       "$$"
      ],
      "text/plain": [
       "<IPython.core.display.Markdown object>"
      ]
     },
     "metadata": {},
     "output_type": "display_data"
    }
   ],
   "source": [
    "# Abschätzung der mitwirkenden Höhe der Betonzugzone\n",
    "h_eff = 2 * (h - d_x)\n",
    "\n",
    "# Geometrischer Bewehrungsgehalt\n",
    "rho = (a_s / h_eff).to(un.percent)\n",
    "\n",
    "put_out(symbolic=True, rows=1)"
   ]
  },
  {
   "cell_type": "code",
   "execution_count": 11,
   "metadata": {},
   "outputs": [
    {
     "data": {
      "text/markdown": [
       "$$\n",
       "\\begin{aligned}\n",
       "s_{r0} & = \\frac{\\oslash_{x} \\left(1 - \\rho\\right)}{4 \\rho} = 351.19 \\ \\mathrm{mm} \\\\ \n",
       "s_{rl} & = \\frac{s_{r0}}{2} = 175.59 \\ \\mathrm{mm} \\end{aligned}\n",
       "$$"
      ],
      "text/plain": [
       "<IPython.core.display.Markdown object>"
      ]
     },
     "metadata": {},
     "output_type": "display_data"
    }
   ],
   "source": [
    "# maximaler Rissabstand\n",
    "s_r0 = (diam_x * (1 - rho) / (4 * rho)).to(un.mm)\n",
    "\n",
    "# minimaler Rissabstand\n",
    "s_rl = 1 / 2 * s_r0\n",
    "\n",
    "put_out(symbolic=True, rows=1)"
   ]
  },
  {
   "cell_type": "code",
   "execution_count": 12,
   "metadata": {},
   "outputs": [
    {
     "data": {
      "text/markdown": [
       "$$\n",
       "\\begin{aligned}\n",
       "s_{r} & = 200 \\ \\mathrm{mm} \\end{aligned}\n",
       "$$"
      ],
      "text/plain": [
       "<IPython.core.display.Markdown object>"
      ]
     },
     "metadata": {},
     "output_type": "display_data"
    }
   ],
   "source": [
    "# Annahme des Rissabstandes, entspricht dem Abstand der Querstäbe\n",
    "s_r = 200 * un.mm\n",
    "\n",
    "put_out()"
   ]
  },
  {
   "cell_type": "code",
   "execution_count": 13,
   "metadata": {},
   "outputs": [],
   "source": [
    "# Bestimmung der mittleren Stahldehnung\n",
    "\n",
    "def esm_bilinear(\n",
    "    E_s, E_sh, s_r, tau_b0, tau_b1, diam, sigma_sr, f_sy, f_su, epsilon_sy\n",
    "):\n",
    "    display(Markdown(\"Berechnungen nach @marti_tragverhalten_1999 Seite 156\"))\n",
    "    if sigma_sr <= f_sy:\n",
    "        display(Markdown(\"Gleichung 1\"))\n",
    "        return sigma_sr / E_s - tau_b0 * s_r / (E_s * diam)\n",
    "\n",
    "    if f_sy <= sigma_sr <= (f_sy + (2 * tau_b1 * s_r) / diam):\n",
    "        display(Markdown(\"Gleichung 2\"))\n",
    "        return (\n",
    "            (sigma_sr - f_sy) ** 2\n",
    "            * diam\n",
    "            / (4 * E_sh * tau_b1 * s_r)\n",
    "            * (1 - E_sh * tau_b0 / (E_s * tau_b1))\n",
    "            + (sigma_sr - f_sy) / E_s * tau_b0 / tau_b1\n",
    "            + (epsilon_sy - tau_b0 * s_r / (E_s * diam))\n",
    "        )\n",
    "\n",
    "    if (f_sy + 2 * tau_b1 * s_r / diam) <= sigma_sr <= f_su:\n",
    "        display(Markdown(\"Gleichung 3\"))\n",
    "        return (sigma_sr - f_sy) / E_sh + (epsilon_sy - tau_b1 * s_r / (E_sh * diam))\n",
    "    \n",
    "\n",
    "# Extending the function to include the equations from Fall B (D.6 to D.10).\n",
    "def esm_trilinear(sigma_max, f_sy, f_sh, fsu, E_s, E_sh1, E_sh2, tau_b0, tau_b1, tau_b2, diam, s_rm, epsilon_sy, epsilon_sh):\n",
    "    # Fall A (D.1 to D.5) logic remains the same:\n",
    "    # Equation D.1: for σ_max ≤ f_sy\n",
    "    if (f_sh - f_sy)*diam/(4*tau_b1) > s_r/2:\n",
    "        display(Markdown(f\"Da $f_{{sh}}-f_{{sy}} * \\\\frac{{\\\\oslash}}{{4\\cdot \\\\tau_{{b1}}}} = {(f_sh - f_sy) * diam /(4*tau_b1)} \\geq \\\\frac{{s_r}}{{2}} = {s_r/2}$ gilt, wird nach @alvarez_einfluss_1998 Seite 163 Fall A gerechnet\"))\n",
    "        if sigma_max <= f_sy:\n",
    "            display(Markdown(\"Gleichung 1\"))\n",
    "            esm = (sigma_max / E_s) - (tau_b0 * s_rm) / (E_s * diam)\n",
    "            return esm\n",
    "        \n",
    "        # Equation D.2: for f_sy < σ_max ≤ (f_sy + τ_b1 * s_rm / Ø)\n",
    "        elif f_sy < sigma_max <= (f_sy + (tau_b1 * s_rm / diam)):\n",
    "            display(Markdown(\"Gleichung 2\"))\n",
    "            term1 = (sigma_max - f_sy)**2 * diam / (4 * E_sh1 * tau_b1 * s_rm)\n",
    "            term2 = (1 - (E_sh1 * tau_b0) / (E_s * tau_b1)) * tau_b0 / E_s\n",
    "            term3 = epsilon_sy - (tau_b0 * s_rm) / (E_s * diam)\n",
    "            esm = term1 + term2 + term3\n",
    "            return esm\n",
    "        \n",
    "        # Equation D.3: for (f_sy + τ_b1 * s_rm / Ø) < σ_max ≤ f_sh\n",
    "        elif (f_sy + (tau_b1 * s_rm / diam)) < sigma_max <= f_sh:\n",
    "            display(Markdown(\"Gleichung 3\"))\n",
    "            esm = ((sigma_max - f_sy) / E_sh1) + epsilon_sy - (tau_b1 * s_rm) / (E_sh1 * diam)\n",
    "            return esm\n",
    "        \n",
    "        # Equation D.4: for f_sh < σ_max ≤ (f_sh + τ_b2 * s_rm / Ø)\n",
    "        elif f_sh < sigma_max <= (f_sh + (tau_b2 * s_rm / diam)):\n",
    "            display(Markdown(\"Gleichung 4\"))\n",
    "            term1 = (sigma_max - f_sh)**2 * diam / (4 * E_sh2 * tau_b2 * s_rm)\n",
    "            term2 = (1 - (E_sh2 * tau_b1) / (E_sh1 * tau_b2)) * tau_b1 / E_s\n",
    "            term3 = epsilon_sy - (tau_b2 * s_rm) / (E_sh2 * diam)\n",
    "            esm = term1 + term2 + term3\n",
    "            return esm\n",
    "        \n",
    "        # Equation D.5: for (f_sh + 2 * τ_b2 * s_rm / Ø) ≤ σ_max ≤ f_su\n",
    "        elif (f_sh + (2 * tau_b2 * s_rm / diam)) <= sigma_max <= fsu:\n",
    "            display(Markdown(\"Gleichung 5\"))\n",
    "            esm = ((sigma_max - f_sh) / E_sh2) + epsilon_sy - (tau_b2 * s_rm) / (E_sh2 * diam)\n",
    "            return esm\n",
    "    \n",
    "    elif (f_sh - f_sy)*diam/(4*tau_b1) <=s_r/2:\n",
    "        display(Markdown(f\"Da $f_{{sh}}-f_{{sy}} \\cdot \\\\frac{{\\\\oslash}}{{4\\cdot \\\\tau_{{b1}}}} = {(f_sh - f_sy) * diam /(4*tau_b1)} \\leq \\\\frac{{s_r}}{{2}} = {s_r/2}$ gilt, wird nach @alvarez_einfluss_1998 Seite 163 Fall B gerechnet\"))\n",
    "        # Fall B (D.6 to D.10) logic:\n",
    "        # Equation D.6: for σ_max ≤ f_sy\n",
    "        if sigma_max <= f_sy:\n",
    "            display(Markdown(\"Gleichung 1\"))\n",
    "            esm = (sigma_max / E_s) - (tau_b0 * s_rm) / (E_s * diam)\n",
    "            return esm\n",
    "\n",
    "        # Equation D.7: for f_sy < σ_max ≤ f_sh\n",
    "        elif f_sy < sigma_max <= f_sh:\n",
    "            display(Markdown(\"Gleichung 2\"))\n",
    "            term1 = ((sigma_max - f_sy)**2 * diam) / (4 * E_sh1 * tau_b1 * s_rm)\n",
    "            term2 = (1 - E_sh1 * tau_b0 / (E_s * tau_b1)) * tau_b0 / E_s\n",
    "            term3 = (sigma_max - f_sy) * tau_b0 / (E_s * tau_b1)\n",
    "            term4 = epsilon_sy - tau_b0 * s_rm / (E_s * diam)\n",
    "            esm = term1 + term2 + term3 + term4\n",
    "            return esm\n",
    "        \n",
    "        # Equation D.8: for f_sh ≤ σ_max ≤ (f_sh + τ_b2 * s_rm / Ø)\n",
    "        elif f_sh <= sigma_max <= (f_sh + 2 * tau_b2 * s_rm / diam - (f_sh - f_sy) * tau_b2 / tau_b1):\n",
    "            display(Markdown(\"Gleichung 3\"))\n",
    "            term1 = (sigma_max - f_sh)**2 * diam / (4 * E_sh2 * tau_b2 * s_rm)\n",
    "            term2 = (1 - (E_sh2 * tau_b0) / (E_s * tau_b1)) * tau_b0 / E_s\n",
    "            term3 = (sigma_max - f_sh) * tau_b1 / (E_s * tau_b2)\n",
    "            term4 = (epsilon_sy - epsilon_sh) / 2 * tau_b2 / tau_b1\n",
    "            term5 = (epsilon_sy - tau_b0 * s_rm / (E_s * diam)) * tau_b0 / tau_b1\n",
    "            esm = term1 + term2 + term3 + term4 + term5\n",
    "            return esm\n",
    "        \n",
    "        # Equation D.9: for f_sh + τ_b2 * s_rm / Ø ≤ σ_max ≤ f_su\n",
    "        elif (f_sh + 2 * tau_b2 * s_rm / diam - (f_sh - f_sy) * tau_b2 / tau_b1) <= sigma_max <= fsu:\n",
    "            display(Markdown(\"Gleichung 4\"))\n",
    "            term1 = (sigma_max - f_sh)**2 * diam / (4 * E_sh2 * tau_b2 * s_rm)\n",
    "            term2 = (1 - E_sh2 * tau_b1 / (E_sh1 * tau_b2)) * tau_b1 / E_s\n",
    "            term3 = (sigma_max - f_sh) * tau_b1 / E_sh1\n",
    "            term4 = (epsilon_sy - tau_b2 * s_rm / (E_sh2 * diam)) * tau_b2 / tau_b1\n",
    "            esm = term1 + term2 + term3 + term4\n",
    "            return esm\n",
    "        \n",
    "        # Equation D.10: for (f_sh + 2 * τ_b2 * s_rm / Ø) ≤ σ_max ≤ f_su\n",
    "        elif (f_sh + 2 * tau_b2 * s_rm / diam) <= sigma_max <= fsu:\n",
    "            display(Markdown(\"Gleichung 5\"))\n",
    "            esm = ((sigma_max - f_sh) / E_sh2) + epsilon_sh - (tau_b2 * s_rm) / (E_sh2 * diam)\n",
    "            return esm\n",
    "        \n",
    "    # If none of the conditions are met, return an error.\n",
    "    else:\n",
    "        raise ValueError(\"σ_max is out of the valid range\")\n",
    "\n",
    "# This function is now extended to handle both Fall A and Fall B scenarios (D.1 to D.10).\n",
    "\n"
   ]
  },
  {
   "cell_type": "markdown",
   "metadata": {},
   "source": [
    "### Plastischer Rotationswinkel\n",
    "\n",
    "Der Plastische Roatationswinkel gibt die Rotation eines plastischen Gelenks voraus. \n",
    "\n",
    "![Modell zur Abschätzung der plastischen Rotation](../imgs/plast_rotation.png){#fig-plast_rot}"
   ]
  },
  {
   "cell_type": "code",
   "execution_count": 14,
   "metadata": {},
   "outputs": [],
   "source": [
    "def Theta_plastisch(l_pl, epsilon_sm, epsilon_sm_y, d, x):\n",
    "    \"\"\"berechnet den plastischen Rotationswinkel\"\"\"\n",
    "    return l_pl * (epsilon_sm - epsilon_sm_y) / (d - x)"
   ]
  },
  {
   "cell_type": "markdown",
   "metadata": {},
   "source": [
    "## Kaltverformter Betonstahl - B500A\n",
    "\n",
    "### Eigenschaften des Betonstahls\n",
    "\n",
    "Allgemein werden die Eigenschaften für den Betonstahl B500A mit einem Suffix $A$ gekennzeichnet.\n"
   ]
  },
  {
   "cell_type": "code",
   "execution_count": 15,
   "metadata": {},
   "outputs": [
    {
     "data": {
      "text/markdown": [
       "$$\n",
       "\\begin{aligned}\n",
       "f_{sy A} & = 570.0 \\ \\frac{\\mathrm{N}}{\\mathrm{mm}^{2}} \\quad & f_{su A} & = 600.0 \\ \\frac{\\mathrm{N}}{\\mathrm{mm}^{2}} \\quad & \\varepsilon_{sy A} & = 2.78 \\ \\mathrm{‰} \\\\ \n",
       "\\varepsilon_{su A} & = 25 \\ \\mathrm{‰} \\quad & E_{s A} & = 205.0 \\ \\frac{\\mathrm{kN}}{\\mathrm{mm}^{2}} \\quad & E_{sh A} & = 1350.0 \\ \\frac{\\mathrm{N}}{\\mathrm{mm}^{2}} \\end{aligned}\n",
       "$$"
      ],
      "text/plain": [
       "<IPython.core.display.Markdown object>"
      ]
     },
     "metadata": {},
     "output_type": "display_data"
    }
   ],
   "source": [
    "# Fliessgrenze\n",
    "f_sy_A = 570 * un.N / un.mm**2\n",
    "\n",
    "# Zugfestigkeit\n",
    "f_su_A = 600 * un.N / un.mm**2\n",
    "\n",
    "# Fliessdehnung\n",
    "varepsilon_sy_A = 2.78 * un.permille\n",
    "\n",
    "# Bruchdehnung\n",
    "varepsilon_su_A = 25 * un.permille\n",
    "\n",
    "# Elastizitätsmodul\n",
    "E_s_A = 205 * un.kN / un.mm**2\n",
    "\n",
    "# Verfestigungsmodul\n",
    "E_sh_A = 1350 * un.N / un.mm**2\n",
    "\n",
    "put_out()"
   ]
  },
  {
   "cell_type": "code",
   "execution_count": 16,
   "metadata": {},
   "outputs": [],
   "source": [
    "# | echo: false\n",
    "\n",
    "stress_b500a_array = np.array([0, f_sy_A.m, f_su_A.m]) * un.MPa\n",
    "strain_b500a_array = np.array([0, varepsilon_sy_A, varepsilon_su_A])\n",
    "\n",
    "fig_b500a, ax_b500a = plt.subplots()\n",
    "ax_b500a.plot(strain_b500a_array, stress_b500a_array.to(un.MPa).m, color=\"k\")\n",
    "\n",
    "# Scientific Notation if needed\n",
    "apply_scientific_notation(ax_b500a, stress_b500a_array.m)\n",
    "\n",
    "# Set axis labels\n",
    "ax_b500a.set_ylabel(r\"$\\sigma$ [N/mm$^2$]\")\n",
    "ax_b500a.set_xlabel(r\"$\\varepsilon_s$ [-]\")\n",
    "\n",
    "# Set limits\n",
    "ax_b500a.set_xlim(xmax=135 / 1000)\n",
    "ax_b500a.set_ylim(ymax=750)\n",
    "\n",
    "# Show the plot\n",
    "# plt.tight_layout()\n",
    "plt.savefig(\"imgs/jag_stress_strain_b500a.svg\")\n",
    "plt.close()"
   ]
  },
  {
   "cell_type": "markdown",
   "metadata": {},
   "source": [
    "![Spannungs-Dehnungs-Beziehung des Betonstahls B500A](../imgs/jag_stress_strain_b500a_bearb.svg){#stress_strain_b500a}"
   ]
  },
  {
   "cell_type": "markdown",
   "metadata": {},
   "source": [
    "### Linear elastische - gerissene Biegesteifigkeit\n",
    "\n",
    "Wird fortan für sämtliche Verformungsberechnungen verwendet.\n",
    "Querschnittsanalyse:\n"
   ]
  },
  {
   "cell_type": "code",
   "execution_count": 17,
   "metadata": {},
   "outputs": [
    {
     "data": {
      "text/markdown": [
       "$$\n",
       "\\begin{aligned}\n",
       "n & = \\frac{E_{s A}}{E_{c}} = 7.0 \\  \\end{aligned}\n",
       "$$"
      ],
      "text/plain": [
       "<IPython.core.display.Markdown object>"
      ]
     },
     "metadata": {},
     "output_type": "display_data"
    }
   ],
   "source": [
    "# Wertigkeit der Elastizitätsmodule\n",
    "n = E_s_A / E_c\n",
    "\n",
    "put_out(symbolic=True)"
   ]
  },
  {
   "cell_type": "markdown",
   "metadata": {},
   "source": [
    "Die Druckzonenhöhe wird mittels dem Gleichgewicht der horizontalen Kräfte ermittelt"
   ]
  },
  {
   "cell_type": "code",
   "execution_count": 18,
   "metadata": {},
   "outputs": [],
   "source": [
    "# Mittels Sympy (CAS für Python) wird eine analytische Lösung der\n",
    "# Druckzonenhöhe für den gerissenen Querschnitt ermittelt.\n",
    "\n",
    "# Summe der horizontalen Kräfte\n",
    "sum_Fx = sp.sympify(\"1/2*x*b_w*sigma_c -sigma_s*a_s*b_w\")\n",
    "\n",
    "# Definition der Spannung in Abhängigkeit der Dehnungen\n",
    "expr_sigma_c = sp.sympify(\"varepsilon_c * E_c\")\n",
    "expr_sigma_s = sp.sympify(\"varepsilon_s * n * E_c\")\n",
    "\n",
    "# Die Beziehung zwischen der Stahl- und Betondehnung nach Hook\n",
    "expr_epsilon_c = sp.sympify(\"varepsilon_s /(d-x)*x\")\n",
    "\n",
    "# Substitution der Gleichungen\n",
    "sum_Fx_subs = sum_Fx.subs(\n",
    "    {\n",
    "        \"sigma_c\": expr_sigma_c.subs(\"varepsilon_c\", expr_epsilon_c),\n",
    "        \"sigma_s\": expr_sigma_s,\n",
    "    }\n",
    ")\n",
    "\n",
    "# Erstellen einer numerischen Funktion\n",
    "x_solve = sp.solve(sum_Fx_subs, \"x\")[1]\n",
    "x_solve_lambd = sp.lambdify((\"a_s\", \"b_w\", \"n\", \"d\"), x_solve)"
   ]
  },
  {
   "cell_type": "code",
   "execution_count": 19,
   "metadata": {},
   "outputs": [
    {
     "data": {
      "text/markdown": [
       "$$\n",
       "\\begin{aligned}\n",
       "x_{II} & = 47.91 \\ \\mathrm{mm} \\end{aligned}\n",
       "$$"
      ],
      "text/plain": [
       "<IPython.core.display.Markdown object>"
      ]
     },
     "metadata": {},
     "output_type": "display_data"
    }
   ],
   "source": [
    "# Druckzonenhöhe mit Parametern substituiert\n",
    "x_II = x_solve_lambd(a_s, b_w, n, d_x).to(un.mm)\n",
    "\n",
    "put_out(symbolic=False)"
   ]
  },
  {
   "cell_type": "code",
   "execution_count": 20,
   "metadata": {},
   "outputs": [
    {
     "data": {
      "text/markdown": [
       "$$\n",
       "\\begin{aligned}\n",
       "I_{cII} & = \\frac{b_{w} x_{II}^{3}}{12} + b_{w} x_{II} \\left(\\frac{x_{II}}{2}\\right)^{2} = 36650532.72 \\ \\mathrm{mm}^{4} \\\\ \n",
       "I_{sII} & = a_{s} b_{w} n \\left(d_{x} - x_{II}\\right)^{2} = 244534349.46 \\ \\mathrm{mm}^{4} \\\\ \n",
       "I_{II} & = I_{cII} + I_{sII} = 281184882.18 \\ \\mathrm{mm}^{4} \\end{aligned}\n",
       "$$"
      ],
      "text/plain": [
       "<IPython.core.display.Markdown object>"
      ]
     },
     "metadata": {},
     "output_type": "display_data"
    }
   ],
   "source": [
    "# Flächenmoment 2. Grades für den Beton\n",
    "I_cII = (b_w * x_II**3 / 12 + b_w * x_II * (x_II / 2) ** 2).to(un.mm**4)\n",
    "\n",
    "# Flächenmoment 2. Grades für den Betonstahl\n",
    "I_sII = (a_s * b_w * n * (d_x - x_II) ** 2).to(un.mm**4)\n",
    "\n",
    "# Flächenmoment 2. Grades für den gerissenen Querschnitt\n",
    "I_II = (I_cII + I_sII).to(un.mm**4)\n",
    "\n",
    "put_out(symbolic=True, rows=1, evaluate=False)"
   ]
  },
  {
   "cell_type": "code",
   "execution_count": 21,
   "metadata": {},
   "outputs": [
    {
     "data": {
      "text/markdown": [
       "$$\n",
       "\\begin{aligned}\n",
       "EI_{II} & = E_{c} I_{II} = 8238.72 \\ \\mathrm{kN} \\cdot \\mathrm{m}^{2} \\end{aligned}\n",
       "$$"
      ],
      "text/plain": [
       "<IPython.core.display.Markdown object>"
      ]
     },
     "metadata": {},
     "output_type": "display_data"
    }
   ],
   "source": [
    "# Gerissene Biegesteifigkeit\n",
    "EI_II = (E_c * I_II).to(un.kN * un.m**2)\n",
    "\n",
    "put_out(symbolic=True)"
   ]
  },
  {
   "cell_type": "markdown",
   "metadata": {},
   "source": [
    "### Hebelarm der inneren Kräfte"
   ]
  },
  {
   "cell_type": "markdown",
   "metadata": {},
   "source": [
    "Der Hebelarm der inneren Kräfte wird für den gesamten Träger als konstant angenommen.\n",
    "Dabei wird dem Beton die Zylinderdruckfestigkeit hinterlegt, sowie erreicht der Stahl die Zugfestigkeit. "
   ]
  },
  {
   "cell_type": "code",
   "execution_count": 22,
   "metadata": {},
   "outputs": [
    {
     "data": {
      "text/markdown": [
       "$$\n",
       "\\begin{aligned}\n",
       "x_{dv A} & = \\frac{a_{s} b_{w} f_{su A}}{0.85 b_{w} f_{cc}} = 18.11 \\ \\mathrm{mm} \\\\ \n",
       "d_{v A} & = d_{x} - 1 \\cdot \\frac{1}{2} \\cdot 0.85 x_{dv A} = 253.3 \\ \\mathrm{mm} \\\\ \n",
       "m_{u A} & = a_{s} d_{v A} f_{su A} = 116.98 \\ \\frac{\\mathrm{kNm}}{\\mathrm{m}} \\end{aligned}\n",
       "$$"
      ],
      "text/plain": [
       "<IPython.core.display.Markdown object>"
      ]
     },
     "metadata": {},
     "output_type": "display_data"
    }
   ],
   "source": [
    "# Druckzonenhöhe für den Biegewiderstand\n",
    "x_dv_A = (a_s * b_w * f_su_A / (0.85 * f_cc * b_w)).to(un.mm)\n",
    "\n",
    "# Hebelarm der inneren Kräfte für den Biegewiderstand\n",
    "d_v_A = d_x - 1 / 2 * 0.85 * x_dv_A \n",
    "\n",
    "# Biegewiderstand\n",
    "m_u_A = (a_s * f_su_A * d_v_A).to(un.kNm / un.m)\n",
    "\n",
    "put_out(symbolic=True, evaluate=False, rows=1)"
   ]
  },
  {
   "cell_type": "markdown",
   "metadata": {},
   "source": [
    "### Grenzzustände des Zugglieds"
   ]
  },
  {
   "cell_type": "markdown",
   "metadata": {},
   "source": [
    "#### Risselement bei Fliessbeginn - Zustand $Z1$\n",
    "\n",
    "Zunächst wird ein Grenzzustand betrachtet, bei dem das Risselement gerade beim Fliessbeginn steht."
   ]
  },
  {
   "cell_type": "code",
   "execution_count": 23,
   "metadata": {},
   "outputs": [
    {
     "data": {
      "text/markdown": [
       "$$\n",
       "\\begin{aligned}\n",
       "\\sigma_{1 sZ1} & = f_{sy A} = 570.0 \\ \\frac{\\mathrm{N}}{\\mathrm{mm}^{2}} \\\\ \n",
       "\\sigma_{2 sZ1} & = f_{sy A} - \\frac{2 s_{r} \\tau_{b0}}{\\oslash_{x}} = 404.49 \\ \\frac{\\mathrm{N}}{\\mathrm{mm}^{2}} \\\\ \n",
       "\\varepsilon_{1 sZ1} & = \\frac{\\sigma_{1 sZ1}}{E_{s A}} = 2.78 \\ \\mathrm{‰} \\\\ \n",
       "\\varepsilon_{2 sZ1} & = \\frac{\\sigma_{2 sZ1}}{E_{s A}} = 1.97 \\ \\mathrm{‰} \\end{aligned}\n",
       "$$"
      ],
      "text/plain": [
       "<IPython.core.display.Markdown object>"
      ]
     },
     "metadata": {},
     "output_type": "display_data"
    }
   ],
   "source": [
    "# Stahlspannungen\n",
    "sigma_1_sZ1 = f_sy_A\n",
    "sigma_2_sZ1 = f_sy_A - 4 * tau_b0 * s_r / 2 / diam_x\n",
    "\n",
    "\n",
    "# Stahldehnungen\n",
    "varepsilon_1_sZ1 = (sigma_1_sZ1 / E_s_A).to(un.permille)\n",
    "varepsilon_2_sZ1 = (sigma_2_sZ1 / E_s_A).to(un.permille)\n",
    "\n",
    "put_out(symbolic=True, rows=1)"
   ]
  },
  {
   "cell_type": "code",
   "execution_count": 24,
   "metadata": {},
   "outputs": [
    {
     "data": {
      "text/markdown": [
       "Berechnungen nach @marti_tragverhalten_1999 Seite 156"
      ],
      "text/plain": [
       "<IPython.core.display.Markdown object>"
      ]
     },
     "metadata": {},
     "output_type": "display_data"
    },
    {
     "data": {
      "text/markdown": [
       "Gleichung 1"
      ],
      "text/plain": [
       "<IPython.core.display.Markdown object>"
      ]
     },
     "metadata": {},
     "output_type": "display_data"
    },
    {
     "data": {
      "text/markdown": [
       "$$\n",
       "\\begin{aligned}\n",
       "\\varepsilon_{m sZ1} & = 2.38 \\ \\mathrm{‰} \\end{aligned}\n",
       "$$"
      ],
      "text/plain": [
       "<IPython.core.display.Markdown object>"
      ]
     },
     "metadata": {},
     "output_type": "display_data"
    }
   ],
   "source": [
    "# Mittlere Stahldehnung nach \n",
    "varepsilon_m_sZ1 = esm_bilinear(E_s_A, E_sh_A, s_r, tau_b0, tau_b1, diam_x, f_sy_A, f_sy_A, f_su_A, varepsilon_sy_A).to(un.permille)\n",
    "\n",
    "put_out()\n"
   ]
  },
  {
   "cell_type": "code",
   "execution_count": 25,
   "metadata": {},
   "outputs": [
    {
     "data": {
      "text/markdown": [
       "$$\n",
       "\\begin{aligned}\n",
       "m_{y A} & = a_{s} d_{v A} f_{sy A} = 111.13 \\ \\frac{\\mathrm{kNm}}{\\mathrm{m}} \\end{aligned}\n",
       "$$"
      ],
      "text/plain": [
       "<IPython.core.display.Markdown object>"
      ]
     },
     "metadata": {},
     "output_type": "display_data"
    }
   ],
   "source": [
    "# Fliessmoment\n",
    "m_y_A = (a_s * f_sy_A * d_v_A).to(un.kNm / un.m)\n",
    "\n",
    "put_out(symbolic=True)"
   ]
  },
  {
   "cell_type": "code",
   "execution_count": 26,
   "metadata": {},
   "outputs": [],
   "source": [
    "# | echo: false\n",
    "\n",
    "\n",
    "def plot_stress_strain(\n",
    "    coordinates,\n",
    "    filename,\n",
    "    strain_mean=0,\n",
    "    strain=False,\n",
    "    stress=True,\n",
    "):\n",
    "\n",
    "    # Plot the polygon\n",
    "    x, y = zip(*coordinates)  # Unzip the coordinates into x and y\n",
    "\n",
    "    fig, ax = plt.subplots()\n",
    "\n",
    "    if strain == True:\n",
    "        stress = False\n",
    "        xlabel = r\"$x$ [un.mm]\"\n",
    "        ylabel = r\"$\\varepsilon$ [-]\"\n",
    "        # Plot the coordiantes\n",
    "        ax.plot(x + (x[0],), y + (y[0],), \"black\")\n",
    "        ax.fill(x, y, color=\"darkgray\", alpha=0.2)\n",
    "        ax.axhline(strain_mean, linestyle='--', color = 'black')\n",
    "\n",
    "    if stress == True:\n",
    "        xlabel = r\"$x$ [un.mm]\"\n",
    "        ylabel = r\"$\\sigma$ [un.N/un.mm$^2$]\"\n",
    "        # Plot the coordiantes\n",
    "        ax.plot(x + (x[0],), y + (y[0],), \"black\")\n",
    "\n",
    "    # Scientific Notation if needed\n",
    "    apply_scientific_notation(ax, np.array(y))\n",
    "\n",
    "    # Add labels and show the plot\n",
    "    ax.set_ylabel(ylabel)\n",
    "    ax.set_xlabel(xlabel)\n",
    "\n",
    "    # plt.show()\n",
    "    # Save the plot to the specified file\n",
    "    plt.savefig(filename)\n",
    "    plt.close()"
   ]
  },
  {
   "cell_type": "code",
   "execution_count": 27,
   "metadata": {},
   "outputs": [],
   "source": [
    "# | echo: false\n",
    "\n",
    "coords_a1_stress = [\n",
    "    (0, 0),\n",
    "    (s_r.m / 2, 0),\n",
    "    (s_r.m / 2, sigma_2_sZ1.m),\n",
    "    (0, sigma_1_sZ1.m),\n",
    "]\n",
    "\n",
    "plot_stress_strain(coords_a1_stress, \"imgs/jag_stress_a1.svg\", stress=True)\n",
    "\n",
    "\n",
    "coords_a1_strain = [\n",
    "    (0, 0),\n",
    "    (s_r.m / 2, 0),\n",
    "    (s_r.m / 2, varepsilon_2_sZ1),\n",
    "    (0, varepsilon_1_sZ1),\n",
    "]\n",
    "\n",
    "plot_stress_strain(coords_a1_strain, \"imgs/jag_strain_a1.svg\", strain=True,strain_mean=varepsilon_m_sZ1.to(un.los))"
   ]
  },
  {
   "cell_type": "markdown",
   "metadata": {},
   "source": [
    "::: {#fig-jag_zustand_a1 layout-ncol=2}\n",
    "![Spannungsverlauf entlang des Zugglieds auf halbem Rissabstand](../imgs/jag_stress_a1.svg){#fig-jag_stress_a1}\n",
    "\n",
    "![Dehnungsverlauf entlang des Zugglieds auf halbem Rissabstand](../imgs/jag_strain_a1.svg){#fig-jag_strain_a1}\n",
    "\n",
    "Spannungs- und Dehnungsverlauf entlang der Hälfte des Rissabstands für den Zustand $A1$\n",
    ":::"
   ]
  },
  {
   "cell_type": "markdown",
   "metadata": {},
   "source": [
    "#### Risselement beim Erreichen der Zugfestigkeit - Zustand $A2$\n",
    "\n",
    "Innerhalb des Risselements befindet sich der Betonstahl über der Fliessgrenze, sowohl bereichsweise unterhalb der Fliessgrenze. Dies führt zu den folgenden Spannungs- und Dehnungsverteilungen."
   ]
  },
  {
   "cell_type": "code",
   "execution_count": 28,
   "metadata": {},
   "outputs": [
    {
     "data": {
      "text/markdown": [
       "$$\n",
       "\\begin{aligned}\n",
       "\\Delta_{x pl Z2} & = \\frac{f_{su A} - f_{sy A}}{4 \\frac{1}{\\oslash_{x}} \\tau_{b1}} = 36.25 \\ \\mathrm{mm} \\\\ \n",
       "\\Delta_{x el Z2} & = - \\Delta_{x pl Z2} + \\frac{s_{r}}{2} = 63.75 \\ \\mathrm{mm} \\end{aligned}\n",
       "$$"
      ],
      "text/plain": [
       "<IPython.core.display.Markdown object>"
      ]
     },
     "metadata": {},
     "output_type": "display_data"
    }
   ],
   "source": [
    "# Plastischer Bereich\n",
    "Delta_x_pl_Z2 = (f_su_A - f_sy_A) / (4 * tau_b1 / diam_x)\n",
    "\n",
    "# Elastischer Bereich\n",
    "Delta_x_el_Z2 = s_r / 2 - Delta_x_pl_Z2\n",
    "\n",
    "put_out(symbolic=True, evaluate=False, rows=1)"
   ]
  },
  {
   "cell_type": "code",
   "execution_count": 29,
   "metadata": {},
   "outputs": [
    {
     "data": {
      "text/markdown": [
       "$$\n",
       "\\begin{aligned}\n",
       "\\sigma_{3 sZ2} & = - \\frac{4 \\Delta_{x el Z2} \\tau_{b0}}{\\oslash_{x}} + f_{sy A} = 464.49 \\ \\frac{\\mathrm{N}}{\\mathrm{mm}^{2}} \\\\ \n",
       "\\sigma_{2 sZ2} & = f_{sy A} = 570.0 \\ \\frac{\\mathrm{N}}{\\mathrm{mm}^{2}} \\\\ \n",
       "\\sigma_{1 sZ2} & = \\frac{4 \\Delta_{x pl Z2} \\tau_{b1}}{\\oslash_{x}} + f_{sy A} = 600.0 \\ \\frac{\\mathrm{N}}{\\mathrm{mm}^{2}} \\\\ \n",
       "\\varepsilon_{1 sZ2} & = \\varepsilon_{su A} = 25 \\ \\mathrm{‰} \\\\ \n",
       "\\varepsilon_{2 sZ2} & = \\varepsilon_{sy A} = 2.78 \\ \\mathrm{‰} \\\\ \n",
       "\\varepsilon_{3 sZ2} & = \\frac{\\sigma_{3 sZ2}}{E_{s A}} = 2.27 \\ \\mathrm{‰} \\end{aligned}\n",
       "$$"
      ],
      "text/plain": [
       "<IPython.core.display.Markdown object>"
      ]
     },
     "metadata": {},
     "output_type": "display_data"
    }
   ],
   "source": [
    "# Stahlspannungen\n",
    "sigma_3_sZ2 = f_sy_A - 4 * tau_b0 * Delta_x_el_Z2 / diam_x\n",
    "sigma_2_sZ2 = f_sy_A\n",
    "sigma_1_sZ2 = f_sy_A + 4 * tau_b1 * Delta_x_pl_Z2 / diam_x\n",
    "\n",
    "# Stahldehnung\n",
    "varepsilon_1_sZ2 = varepsilon_su_A\n",
    "varepsilon_2_sZ2 = varepsilon_sy_A\n",
    "varepsilon_3_sZ2 = (sigma_3_sZ2 / E_s_A).to(un.permille)\n",
    "\n",
    "put_out(symbolic=True, rows=1, evaluate=False)"
   ]
  },
  {
   "cell_type": "code",
   "execution_count": 30,
   "metadata": {},
   "outputs": [
    {
     "data": {
      "text/markdown": [
       "Berechnungen nach @marti_tragverhalten_1999 Seite 156"
      ],
      "text/plain": [
       "<IPython.core.display.Markdown object>"
      ]
     },
     "metadata": {},
     "output_type": "display_data"
    },
    {
     "data": {
      "text/markdown": [
       "Gleichung 2"
      ],
      "text/plain": [
       "<IPython.core.display.Markdown object>"
      ]
     },
     "metadata": {},
     "output_type": "display_data"
    },
    {
     "data": {
      "text/markdown": [
       "$$\n",
       "\\begin{aligned}\n",
       "\\varepsilon_{m sZ2} & = 6.64 \\ \\mathrm{‰} \\end{aligned}\n",
       "$$"
      ],
      "text/plain": [
       "<IPython.core.display.Markdown object>"
      ]
     },
     "metadata": {},
     "output_type": "display_data"
    }
   ],
   "source": [
    "# Mittlere Stahldehnung\n",
    "varepsilon_m_sZ2 = esm_bilinear(\n",
    "    E_s_A, E_sh_A, s_r, tau_b0, tau_b1, diam_x, f_su_A, f_sy_A, f_su_A, varepsilon_sy_A\n",
    ").to(un.permille)\n",
    "\n",
    "put_out()"
   ]
  },
  {
   "cell_type": "code",
   "execution_count": 31,
   "metadata": {},
   "outputs": [],
   "source": [
    "# | echo: false\n",
    "\n",
    "coords_Z2_stress = [\n",
    "    (0, 0), \n",
    "    (Delta_x_pl_Z2.m, 0), \n",
    "    (s_r.m / 2, 0), \n",
    "    (s_r.m / 2, sigma_3_sZ2.m), \n",
    "    (Delta_x_pl_Z2.m, sigma_2_sZ2.m),\n",
    "    (0, sigma_1_sZ2.m)\n",
    "    ]\n",
    "\n",
    "plot_stress_strain(coords_Z2_stress, \"imgs/jag_stress_a2.svg\", stress=True)\n",
    "\n",
    "\n",
    "coords_Z2_strain = [\n",
    "    (0, 0),\n",
    "    (Delta_x_pl_Z2.m, 0),\n",
    "    (s_r.m / 2, 0),\n",
    "    (s_r.m / 2, varepsilon_3_sZ2),\n",
    "    (Delta_x_pl_Z2.m, varepsilon_2_sZ2),\n",
    "    (0, varepsilon_1_sZ2),\n",
    "]\n",
    "\n",
    "plot_stress_strain(coords_Z2_strain, \"imgs/jag_strain_a2.svg\", strain=True)"
   ]
  },
  {
   "cell_type": "markdown",
   "metadata": {},
   "source": [
    "::: {#fig-jag_zustand_a2 layout-ncol=2}\n",
    "![Spannungsverlauf entlang des Zugglieds auf halbem Rissabstand](../imgs/jag_stress_a2.svg){#fig-jag_stress_a2}\n",
    "\n",
    "![Dehnungsverlauf entlang des Zugglieds auf halbem Rissabstand](../imgs/jag_strain_a2.svg){#fig-jag_strain_a2}\n",
    "\n",
    "Spannungs- und Dehnungsverlauf entlang der Hälfte des Rissabstands für den Zustand $A2$\n",
    ":::"
   ]
  },
  {
   "cell_type": "markdown",
   "metadata": {},
   "source": [
    "### Systemanalyse \n",
    "\n",
    "Nun wird das System analysiert, sprich der Zweifeldträger."
   ]
  },
  {
   "cell_type": "markdown",
   "metadata": {},
   "source": [
    "#### Fliessen des Mittelauflagers - Zustand $S1$"
   ]
  },
  {
   "cell_type": "code",
   "execution_count": 32,
   "metadata": {},
   "outputs": [
    {
     "data": {
      "text/markdown": [
       "$$\n",
       "\\begin{aligned}\n",
       "q_{S1 A} & = \\frac{8 b_{w} m_{y A}}{l^{2}} = 13.89 \\ \\frac{\\mathrm{kN}}{\\mathrm{m}} \\\\ \n",
       "w_{S1 A} & = \\frac{5 l^{4} q_{S1 A}}{384 EI_{II}} - \\frac{b_{w} l^{2} m_{y A}}{16 EI_{II}} = 35.97 \\ \\mathrm{mm} \\end{aligned}\n",
       "$$"
      ],
      "text/plain": [
       "<IPython.core.display.Markdown object>"
      ]
     },
     "metadata": {},
     "output_type": "display_data"
    }
   ],
   "source": [
    "# Die Streckenlast zum Erreichen des Fliessens bei B\n",
    "q_S1_A = (8 * m_y_A*b_w / l**2).to(un.kN/un.m)\n",
    "\n",
    "# maximale Verformung im Feld \n",
    "w_S1_A = (5 * q_S1_A * l**4 / (384 * EI_II) - m_y_A*b_w * l**2 / (16 * EI_II)).to(un.mm)\n",
    "\n",
    "put_out(symbolic=True, evaluate=False, rows=1)"
   ]
  },
  {
   "cell_type": "markdown",
   "metadata": {},
   "source": [
    "#### Fliessbeginn im Feld - Zustand $S2$\n",
    "\n",
    "![Fliessen im Feld](../imgs/jag_fliessen_feld.png)"
   ]
  },
  {
   "cell_type": "code",
   "execution_count": 33,
   "metadata": {},
   "outputs": [
    {
     "data": {
      "text/markdown": [
       "$$\n",
       "\\begin{aligned}\n",
       "q_{S2 A} & = b_{w} \\left(\\frac{2 m_{u A} + 4 m_{y A}}{l^{2}} + \\frac{4 \\sqrt{m_{u A} m_{y A} + m_{y A}^{2}}}{l^{2}}\\right) = 20.55 \\ \\frac{\\mathrm{kN}}{\\mathrm{m}} \\end{aligned}\n",
       "$$"
      ],
      "text/plain": [
       "<IPython.core.display.Markdown object>"
      ]
     },
     "metadata": {},
     "output_type": "display_data"
    }
   ],
   "source": [
    "# Streckenlast beim Fliessbeginn im Feld\n",
    "q_S2_A = (((4 * m_y_A + 2 * m_u_A) / l**2 + 4 / l**2 * np.sqrt(m_y_A**2 + m_y_A * m_u_A))*b_w).to(un.kN/un.m)\n",
    "\n",
    "put_out(symbolic=True, evaluate=False, rows=1)"
   ]
  },
  {
   "cell_type": "markdown",
   "metadata": {},
   "source": [
    "##### Kontrolle der Duktilität"
   ]
  },
  {
   "cell_type": "code",
   "execution_count": 34,
   "metadata": {},
   "outputs": [
    {
     "data": {
      "text/markdown": [
       "$$\n",
       "\\begin{aligned}\n",
       "\\alpha_{A} & = \\frac{l^{3} \\left(- q_{S1 A} + q_{S2 A}\\right)}{24 EI_{II}} - \\frac{b_{w} l \\left(m_{u A} - m_{y A}\\right)}{3 EI_{II}} = 0.88 \\ \\mathrm{°} \\\\ \n",
       "\\Theta_{erf S2 A} & = 2 \\alpha_{A} = 1.76 \\ \\mathrm{°} \\\\ \n",
       "l_{pl} & = 2 d_{x} = 522.0 \\ \\mathrm{mm} \\end{aligned}\n",
       "$$"
      ],
      "text/plain": [
       "<IPython.core.display.Markdown object>"
      ]
     },
     "metadata": {},
     "output_type": "display_data"
    }
   ],
   "source": [
    "# Rotationswinkel (Verwendung der Arbeitsgleichung)\n",
    "alpha_A = ((q_S2_A - q_S1_A) * l**3 / (24 * EI_II) - (m_u_A - m_y_A) * b_w * l / (3 * EI_II)).to(un.deg)\n",
    "\n",
    "# Verformungsbedarf\n",
    "Theta_erf_S2_A = 2 * alpha_A\n",
    "\n",
    "# Annahme für die Länge des Gelenks\n",
    "l_pl = 2 * d_x\n",
    "\n",
    "put_out(symbolic=True, evaluate=False, rows=1)"
   ]
  },
  {
   "cell_type": "code",
   "execution_count": 35,
   "metadata": {},
   "outputs": [
    {
     "data": {
      "text/markdown": [
       "$$\n",
       "\\begin{aligned}\n",
       "\\Theta_{pl A} & = \\Theta_{plastisch}{\\left(l_{pl},\\varepsilon_{m sZ2},\\varepsilon_{m sZ1},d_{x},x_{dv A} \\right)} = 0.53 \\ \\mathrm{°} \\end{aligned}\n",
       "$$"
      ],
      "text/plain": [
       "<IPython.core.display.Markdown object>"
      ]
     },
     "metadata": {},
     "output_type": "display_data"
    }
   ],
   "source": [
    "# Verformungsvermögen\n",
    "Theta_pl_A = Theta_plastisch(l_pl, varepsilon_m_sZ2, varepsilon_m_sZ1, d_x, x_dv_A).to(un.deg)\n",
    "\n",
    "put_out(symbolic=True)"
   ]
  },
  {
   "cell_type": "markdown",
   "metadata": {},
   "source": [
    "Das Verformungsvermögen ist nicht ausreichend."
   ]
  },
  {
   "cell_type": "markdown",
   "metadata": {},
   "source": [
    "#### Ermittlung der Traglast\n",
    "\n",
    "Da das Verformungsvermögen nicht ausreicht, wird mittels der maximalen Gelenkrotation die Traglast bestimmt."
   ]
  },
  {
   "cell_type": "code",
   "execution_count": 36,
   "metadata": {},
   "outputs": [
    {
     "data": {
      "text/markdown": [
       "$$\n",
       "\\begin{aligned}\n",
       "\\alpha_{u A} & = \\frac{\\Theta_{pl A}}{2} = 0.26 \\ \\mathrm{°} \\\\ \n",
       "\\Delta_{q A} & = \\left(\\alpha_{u A} + \\frac{b_{w} l \\left(m_{u A} - m_{y A}\\right)}{3 EI_{II}}\\right) 24 EI_{II} \\frac{1}{l^{3}} = 2.5 \\ \\frac{\\mathrm{kN}}{\\mathrm{m}} \\\\ \n",
       "q_{u A} & = \\Delta_{q A} + q_{S1 A} = 16.39 \\ \\frac{\\mathrm{kN}}{\\mathrm{m}} \\end{aligned}\n",
       "$$"
      ],
      "text/plain": [
       "<IPython.core.display.Markdown object>"
      ]
     },
     "metadata": {},
     "output_type": "display_data"
    }
   ],
   "source": [
    "# maximaler Rotationswinkel\n",
    "alpha_u_A = Theta_pl_A / 2\n",
    "\n",
    "# Streckenlast bis zum maximalen Rotationswinkel\n",
    "Delta_q_A = ((alpha_u_A + (m_u_A - m_y_A) * l * b_w / (3 * EI_II)) * 24 * EI_II / l**3).to(un.kN / un.m)\n",
    "\n",
    "# Traglast für B500A\n",
    "q_u_A = Delta_q_A + q_S1_A\n",
    "\n",
    "put_out(symbolic=True, evaluate=False, rows=1)"
   ]
  },
  {
   "cell_type": "code",
   "execution_count": 37,
   "metadata": {},
   "outputs": [
    {
     "data": {
      "text/markdown": [
       "$$\n",
       "\\begin{aligned}\n",
       "w_{u A} & = \\frac{5 l^{4} q_{u A}}{384 EI_{II}} - \\frac{b_{w} l^{2} m_{u A}}{16 EI_{II}} = 49.33 \\ \\mathrm{mm} \\end{aligned}\n",
       "$$"
      ],
      "text/plain": [
       "<IPython.core.display.Markdown object>"
      ]
     },
     "metadata": {},
     "output_type": "display_data"
    }
   ],
   "source": [
    "# maximale Verformung im Feld\n",
    "w_u_A = (5 * q_u_A * l**4 / (384 * EI_II) - m_u_A * b_w * l**2 / (16 * EI_II)).to(un.mm)\n",
    "\n",
    "put_out(symbolic=True, evaluate=False)"
   ]
  },
  {
   "cell_type": "markdown",
   "metadata": {},
   "source": [
    "## Naturharter Stahl B500C\n",
    "\n",
    "### Eigenschaften des Betonstahls"
   ]
  },
  {
   "cell_type": "code",
   "execution_count": 38,
   "metadata": {},
   "outputs": [
    {
     "data": {
      "text/markdown": [
       "$$\n",
       "\\begin{aligned}\n",
       "f_{sy C} & = 500.0 \\ \\frac{\\mathrm{N}}{\\mathrm{mm}^{2}} \\quad & f_{su C} & = 600.0 \\ \\frac{\\mathrm{N}}{\\mathrm{mm}^{2}} \\quad & \\varepsilon_{sy C} & = 2.44 \\ \\mathrm{‰} \\\\ \n",
       "\\varepsilon_{sh C} & = 20 \\ \\mathrm{‰} \\quad & \\varepsilon_{su C} & = 125 \\ \\mathrm{‰} \\quad & E_{s C} & = 205.0 \\ \\frac{\\mathrm{kN}}{\\mathrm{mm}^{2}} \\\\ \n",
       "E_{sh C} & = 952.0 \\ \\frac{\\mathrm{N}}{\\mathrm{mm}^{2}} \\quad &  \\quad &  \n",
       " \\end{aligned}\n",
       "$$"
      ],
      "text/plain": [
       "<IPython.core.display.Markdown object>"
      ]
     },
     "metadata": {},
     "output_type": "display_data"
    }
   ],
   "source": [
    "f_sy_C = 500 * un.N / un.mm**2  # Fliessgrenze\n",
    "f_su_C = 600 * un.N / un.mm**2  # Zugfestigkeit\n",
    "varepsilon_sy_C = 2.439 * un.permille  # Fliessdehnung\n",
    "varepsilon_sh_C = 20 * un.permille  # Dehnung bei Verfestigungsbeginn\n",
    "varepsilon_su_C = 125 * un.permille  # Bruchdehnung\n",
    "E_s_C= 205 * un.kN / un.mm**2  # Elastizitätsmodul\n",
    "E_sh_C = 952 * un.N / un.mm**2  # Verfestigungsmodul\n",
    "\n",
    "put_out()"
   ]
  },
  {
   "cell_type": "code",
   "execution_count": 39,
   "metadata": {},
   "outputs": [],
   "source": [
    "# | echo: false\n",
    "\n",
    "stress_C_array = np.array([0, f_sy_C.m, f_sy_C.m, f_su_C.m]) * un.MPa\n",
    "strain_C_array = np.array([0, varepsilon_sy_C, varepsilon_sh_C, varepsilon_su_C])\n",
    "\n",
    "\n",
    "fig_b500c, ax_b500c = plt.subplots()\n",
    "\n",
    "ax_b500c.plot(strain_C_array, stress_C_array.to(un.MPa).m, color=\"k\")\n",
    "\n",
    "\n",
    "# Set axis labels\n",
    "ax_b500c.set_ylabel(r\"$\\sigma$ [un.N/un.mm$^2$]\")\n",
    "ax_b500c.set_xlabel(r\"$\\varepsilon_s$ [-]\")\n",
    "\n",
    "# Set limits\n",
    "ax_b500c.set_xlim(xmax=125 / 1000)\n",
    "ax_b500c.set_ylim(ymax=750)\n",
    "\n",
    "# Show the plot\n",
    "# plt.tight_layout()\n",
    "plt.savefig(\"imgs/jag_stress_strain_b500c.svg\")\n",
    "plt.close()"
   ]
  },
  {
   "cell_type": "markdown",
   "metadata": {},
   "source": [
    "![Spannungs-Dehnungs-Beziehung des Betonstahls B500C](../imgs/jag_stress_strain_b500c.svg){#stress_strain_b500c}"
   ]
  },
  {
   "cell_type": "markdown",
   "metadata": {},
   "source": [
    "### Gernzzustände des Zugglieds"
   ]
  },
  {
   "cell_type": "markdown",
   "metadata": {},
   "source": [
    "#### Risselement bei Fliessbeginn - Z3"
   ]
  },
  {
   "cell_type": "code",
   "execution_count": 40,
   "metadata": {},
   "outputs": [
    {
     "data": {
      "text/markdown": [
       "$$\n",
       "\\begin{aligned}\n",
       "\\sigma_{1 sZ3} & = 500.0 \\ \\frac{\\mathrm{N}}{\\mathrm{mm}^{2}} \\quad & \\sigma_{2 sZ3} & = 334.49 \\ \\frac{\\mathrm{N}}{\\mathrm{mm}^{2}} \\quad & \\varepsilon_{1 sZ3} & = 2.44 \\ \\mathrm{‰} \\\\ \n",
       "\\varepsilon_{2 sZ3} & = 1.63 \\ \\mathrm{‰} \\quad &  \\quad &  \n",
       " \\end{aligned}\n",
       "$$"
      ],
      "text/plain": [
       "<IPython.core.display.Markdown object>"
      ]
     },
     "metadata": {},
     "output_type": "display_data"
    }
   ],
   "source": [
    "# Stahlspannungen\n",
    "sigma_1_sZ3 = f_sy_C\n",
    "sigma_2_sZ3 = f_sy_C - 4 * tau_b0 * s_r / 2 / diam_x\n",
    "\n",
    "\n",
    "# Stahldehnungen\n",
    "varepsilon_1_sZ3 = (sigma_1_sZ3 / E_s_C).to(un.permille)\n",
    "varepsilon_2_sZ3 = (sigma_2_sZ3 / E_s_C).to(un.permille)\n",
    "\n",
    "put_out()"
   ]
  },
  {
   "cell_type": "code",
   "execution_count": 41,
   "metadata": {},
   "outputs": [
    {
     "data": {
      "text/markdown": [
       "Da $f_{sh}-f_{sy} \\cdot \\frac{\\oslash}{4\\cdot \\tau_{b1}} = 0.0\\ \\mathrm{mm} \\leq \\frac{s_r}{2} = 100.0\\ \\mathrm{mm}$ gilt, wird nach @alvarez_einfluss_1998 Seite 163 Fall B gerechnet"
      ],
      "text/plain": [
       "<IPython.core.display.Markdown object>"
      ]
     },
     "metadata": {},
     "output_type": "display_data"
    },
    {
     "data": {
      "text/markdown": [
       "Gleichung 1"
      ],
      "text/plain": [
       "<IPython.core.display.Markdown object>"
      ]
     },
     "metadata": {},
     "output_type": "display_data"
    },
    {
     "data": {
      "text/markdown": [
       "$$\n",
       "\\begin{aligned}\n",
       "\\varepsilon_{m sZ3} & = 2.04 \\ \\mathrm{‰} \\quad & m_{y A} & = 97.48 \\ \\mathrm{kN} \\end{aligned}\n",
       "$$"
      ],
      "text/plain": [
       "<IPython.core.display.Markdown object>"
      ]
     },
     "metadata": {},
     "output_type": "display_data"
    }
   ],
   "source": [
    "# Mittlere Stahldehnung beim Fliessen\n",
    "varepsilon_m_sZ3 = esm_trilinear(f_sy_C, f_sy_C, f_sy_C, f_su_C, E_s_C, E_s_C*0, E_sh_C, tau_b0, tau_b1, tau_b1*0, diam_x, s_r, varepsilon_sy_C, varepsilon_sh_C).to(un.permille)\n",
    "\n",
    "# Fliessmoment\n",
    "m_y_A = (a_s * f_sy_C * d_v_A).to(un.kN)\n",
    "\n",
    "put_out()"
   ]
  },
  {
   "cell_type": "markdown",
   "metadata": {},
   "source": [
    "### Versagensart des Querschnitts"
   ]
  },
  {
   "cell_type": "code",
   "execution_count": 42,
   "metadata": {},
   "outputs": [
    {
     "data": {
      "text/markdown": [
       "$$\n",
       "\\begin{aligned}\n",
       "\\sigma_{su 3} & = 517.24 \\ \\frac{\\mathrm{N}}{\\mathrm{mm}^{2}} \\quad & \\varepsilon_{su A 3} & = 38.11 \\ \\mathrm{‰} \\quad & \\varepsilon_{sm} & = 31.56 \\ \\mathrm{‰} \\end{aligned}\n",
       "$$"
      ],
      "text/plain": [
       "<IPython.core.display.Markdown object>"
      ]
     },
     "metadata": {},
     "output_type": "display_data"
    }
   ],
   "source": [
    "# Stahlspannung zwischen den Rissen\n",
    "sigma_su_3 = f_su_C - 4 * tau_b1 / diam_x * s_r / 2\n",
    "\n",
    "# Stahldehnung zwischen den Rissen\n",
    "varepsilon_su_A_3 = ((sigma_su_3 - f_sy_C) / E_sh_C + varepsilon_sh_C).to(un.permille)\n",
    "varepsilon_sm = (varepsilon_su_A_3 + varepsilon_su_A) / 2\n",
    "\n",
    "put_out()"
   ]
  },
  {
   "cell_type": "code",
   "execution_count": 43,
   "metadata": {},
   "outputs": [
    {
     "data": {
      "text/markdown": [
       "$$\n",
       "\\begin{aligned}\n",
       "\\varepsilon_{c} & = 2.35 \\ \\mathrm{‰} \\end{aligned}\n",
       "$$"
      ],
      "text/plain": [
       "<IPython.core.display.Markdown object>"
      ]
     },
     "metadata": {},
     "output_type": "display_data"
    }
   ],
   "source": [
    "# Betonstauchung\n",
    "varepsilon_c = varepsilon_sm / (d_x - x_dv_A) * x_dv_A\n",
    "\n",
    "varepsilon_cu\n",
    "\n",
    "put_out()"
   ]
  },
  {
   "cell_type": "markdown",
   "metadata": {},
   "source": [
    "Die Betonbruchstauchung wird überschritten. Das bedeutet, es stellt sich ein Betondruckversagen vor einem Zerreissen der Bewehrung ein."
   ]
  },
  {
   "cell_type": "code",
   "execution_count": 44,
   "metadata": {},
   "outputs": [
    {
     "data": {
      "text/markdown": [
       "$$\n",
       "\\begin{aligned}\n",
       "\\varepsilon_{sm u} & = 67.06 \\ \\mathrm{‰} \\quad & \\varepsilon_{smax u} & = 60.5 \\ \\mathrm{‰} \\quad & \\sigma_{smax u} & = 633.8 \\ \\frac{\\mathrm{N}}{\\mathrm{mm}^{2}} \\\\ \n",
       "m_{u} & = 123.57 \\ \\frac{\\mathrm{kNm}}{\\mathrm{m}} \\quad &  \\quad &  \n",
       " \\end{aligned}\n",
       "$$"
      ],
      "text/plain": [
       "<IPython.core.display.Markdown object>"
      ]
     },
     "metadata": {},
     "output_type": "display_data"
    }
   ],
   "source": [
    "# Mittlere Stahldehnung beim Druckversagen\n",
    "varepsilon_sm_u = varepsilon_cu / x_dv_A * (d_x - x_dv_A)\n",
    "\n",
    "# Maximale Stahldehnung beim Druckversagen\n",
    "varepsilon_smax_u = varepsilon_su_A - (varepsilon_sm - varepsilon_sm_u)\n",
    "\n",
    "# Maximale Stahlspannung beim Druckversagen\n",
    "sigma_smax_u = f_su_C - (varepsilon_su_A - varepsilon_smax_u) * E_sh_C\n",
    "\n",
    "# Maximaler Biegewiderstand\n",
    "m_u = (a_s * sigma_smax_u * d_v_A).to(un.kNm / un.m)\n",
    "put_out()"
   ]
  },
  {
   "cell_type": "markdown",
   "metadata": {},
   "source": [
    "### Verformungsvermögen"
   ]
  },
  {
   "cell_type": "code",
   "execution_count": 45,
   "metadata": {},
   "outputs": [
    {
     "data": {
      "text/markdown": [
       "$$\n",
       "\\begin{aligned}\n",
       "\\Theta_{pl max} & = 8.01 \\ \\mathrm{°} \\end{aligned}\n",
       "$$"
      ],
      "text/plain": [
       "<IPython.core.display.Markdown object>"
      ]
     },
     "metadata": {},
     "output_type": "display_data"
    }
   ],
   "source": [
    "# Plastischer Rotationswinkel, Rotationsbedarf für vollständige Umlagerung.\n",
    "Theta_pl_max = (l_pl * (varepsilon_sm_u - varepsilon_m_sZ3) / (d_x - x_dv_A)).to(un.deg)\n",
    "\n",
    "put_out()"
   ]
  },
  {
   "cell_type": "markdown",
   "metadata": {},
   "source": [
    "### Fliessen beim Mittelauflager"
   ]
  },
  {
   "cell_type": "code",
   "execution_count": 46,
   "metadata": {},
   "outputs": [
    {
     "data": {
      "text/markdown": [
       "$$\n",
       "\\begin{aligned}\n",
       "q_{y comma B} & = 12.19 \\ \\frac{\\mathrm{kN}}{\\mathrm{m}} \\quad & w_{m y} & = 31.55 \\ \\mathrm{mm} \\end{aligned}\n",
       "$$"
      ],
      "text/plain": [
       "<IPython.core.display.Markdown object>"
      ]
     },
     "metadata": {},
     "output_type": "display_data"
    }
   ],
   "source": [
    "# Streckenlast beim Fliessen des Mittelauflagers\n",
    "q_y_comma_B = 8 * m_y_A / l**2 * b_w\n",
    "\n",
    "# Verformung beim Fliessen des Mittelauflagers\n",
    "w_m_y = (\n",
    "    5 * q_y_comma_B * l**4 / (384 * EI_II) - m_y_A * b_w * l**2 / (16 * EI_II)\n",
    ").to(un.mm)\n",
    "\n",
    "put_out()"
   ]
  },
  {
   "cell_type": "markdown",
   "metadata": {},
   "source": [
    "### Fliessbeginn im Feld"
   ]
  },
  {
   "cell_type": "markdown",
   "metadata": {},
   "source": [
    "#### Risselement beim Fliessen im Feld"
   ]
  },
  {
   "cell_type": "code",
   "execution_count": 47,
   "metadata": {},
   "outputs": [
    {
     "data": {
      "text/markdown": [
       "$$\n",
       "\\begin{aligned}\n",
       "m_{F} & = 97.48 \\ \\mathrm{kN} \\end{aligned}\n",
       "$$"
      ],
      "text/plain": [
       "<IPython.core.display.Markdown object>"
      ]
     },
     "metadata": {},
     "output_type": "display_data"
    }
   ],
   "source": [
    "# Im Feld wird das Fliessmoment erreicht\n",
    "m_F = m_y_A\n",
    "\n",
    "put_out()"
   ]
  },
  {
   "cell_type": "code",
   "execution_count": 48,
   "metadata": {},
   "outputs": [
    {
     "data": {
      "text/markdown": [
       "$$\n",
       "\\begin{aligned}\n",
       "\\Delta_{x pl} & = 28.5 \\ \\mathrm{mm} \\quad & \\Delta_{x el Z2} & = 71.5 \\ \\mathrm{mm} \\quad & \\sigma_{s 2} & = 500.0 \\ \\frac{\\mathrm{N}}{\\mathrm{mm}^{2}} \\\\ \n",
       "\\sigma_{s 1} & = 523.59 \\ \\frac{\\mathrm{N}}{\\mathrm{mm}^{2}} \\quad & \\sigma_{s 3} & = 381.66 \\ \\frac{\\mathrm{N}}{\\mathrm{mm}^{2}} \\quad &  \n",
       " \\end{aligned}\n",
       "$$"
      ],
      "text/plain": [
       "<IPython.core.display.Markdown object>"
      ]
     },
     "metadata": {},
     "output_type": "display_data"
    }
   ],
   "source": [
    "# Fliessspannung wird vorausgesetzt\n",
    "\n",
    "Delta_x_pl = 28.5 * un.mm\n",
    "Delta_x_el_Z2 = s_r / 2 - Delta_x_pl\n",
    "\n",
    "\n",
    "sigma_s_2 = 500 * un.N / un.mm**2\n",
    "sigma_s_1 = sigma_s_2 + 4 * tau_b1 / diam_x * Delta_x_pl\n",
    "sigma_s_3 = sigma_s_2 - 4 * tau_b0 / diam_x * Delta_x_el_Z2\n",
    "\n",
    "put_out()"
   ]
  },
  {
   "cell_type": "code",
   "execution_count": 49,
   "metadata": {},
   "outputs": [
    {
     "data": {
      "text/markdown": [
       "$$\n",
       "\\begin{aligned}\n",
       "\\varepsilon_{1 sZ2} & = 44.77 \\ \\mathrm{‰} \\quad & \\varepsilon_{s 21} & = 20 \\ \\mathrm{‰} \\quad & \\varepsilon_{s 22} & = 2.78 \\ \\mathrm{‰} \\\\ \n",
       "\\varepsilon_{3 sZ2} & = 1.86 \\ \\mathrm{‰} \\quad &  \\quad &  \n",
       " \\end{aligned}\n",
       "$$"
      ],
      "text/plain": [
       "<IPython.core.display.Markdown object>"
      ]
     },
     "metadata": {},
     "output_type": "display_data"
    }
   ],
   "source": [
    "# Dehnungen\n",
    "\n",
    "varepsilon_1_sZ2 = ((sigma_s_1 - sigma_s_2) / E_sh_C + varepsilon_sh_C).to(un.permille)\n",
    "varepsilon_s_21 = varepsilon_sh_C\n",
    "varepsilon_s_22 = varepsilon_sy_A\n",
    "varepsilon_3_sZ2 = (sigma_s_3 / E_s_A).to(un.permille)\n",
    "\n",
    "put_out()"
   ]
  },
  {
   "cell_type": "code",
   "execution_count": 50,
   "metadata": {},
   "outputs": [
    {
     "data": {
      "text/markdown": [
       "$$\n",
       "\\begin{aligned}\n",
       "\\Theta_{pl q y comma F} & = -611.79 \\ \\mathrm{°} \\end{aligned}\n",
       "$$"
      ],
      "text/plain": [
       "<IPython.core.display.Markdown object>"
      ]
     },
     "metadata": {},
     "output_type": "display_data"
    }
   ],
   "source": [
    "Theta_pl_q_y_comma_F = (l_pl * (varepsilon_sm - 5) / (d_x - x_dv_A)).to(\n",
    "    un.deg\n",
    ")\n",
    "\n",
    "put_out()"
   ]
  },
  {
   "cell_type": "code",
   "execution_count": 51,
   "metadata": {},
   "outputs": [],
   "source": [
    "# | echo:false\n",
    "\n",
    "ax_b500c.axvline(x=varepsilon_1_sZ2.to(un.los), color=\"black\", linestyle=\"--\")\n",
    "ax_b500c.axhline(y=sigma_s_1.m, color=\"black\", linestyle=\"--\")\n",
    "\n",
    "# Show the updated plot\n",
    "# plt.tight_layout()\n",
    "plt.figure(fig_b500c)\n",
    "plt.savefig(\"imgs/jag_stress_strain_b500c_with_vertical_line.svg\")\n",
    "plt.close()"
   ]
  },
  {
   "cell_type": "markdown",
   "metadata": {},
   "source": [
    "![Spannungs-Dehnungs-Verlauf des Betonstahls B500C mit markierter maximaler Dehnung](../imgs/jag_stress_strain_b500c_with_vertical_line.svg){#fig-stress_strain_b500c_marked}"
   ]
  },
  {
   "cell_type": "code",
   "execution_count": 52,
   "metadata": {},
   "outputs": [
    {
     "data": {
      "text/markdown": [
       "$$\n",
       "\\begin{aligned}\n",
       "\\sigma_{smax} & = 523.59 \\ \\frac{\\mathrm{N}}{\\mathrm{mm}^{2}} \\quad & m_{B} & = 102.08 \\ \\mathrm{kN} \\quad & q_{S2} & = 18.0 \\ \\frac{\\mathrm{kN}}{\\mathrm{m}} \\end{aligned}\n",
       "$$"
      ],
      "text/plain": [
       "<IPython.core.display.Markdown object>"
      ]
     },
     "metadata": {},
     "output_type": "display_data"
    }
   ],
   "source": [
    "# Stahlspannung durch maximale Stahldehnung am Zugglied\n",
    "sigma_smax = (\n",
    "    np.interp(\n",
    "        x=varepsilon_1_sZ2.to(un.los), fp=stress_C_array.m, xp=strain_C_array\n",
    "    )\n",
    "    * un.N\n",
    "    / un.mm**2\n",
    ")\n",
    "\n",
    "# Biegemoment resultiert daraus zu\n",
    "m_B = (a_s * sigma_smax * d_v_A).to(un.kN)\n",
    "\n",
    "# Streckenlast Fliessen im Feld, verfestigend über dem Auflager\n",
    "q_S2 = (\n",
    "    (4 * m_F + 2 * m_B) / l**2 + 4 / l**2 * np.sqrt(m_F**2 + m_F * m_B)\n",
    ") * b_w\n",
    "put_out()"
   ]
  },
  {
   "cell_type": "code",
   "execution_count": 53,
   "metadata": {},
   "outputs": [
    {
     "data": {
      "text/markdown": [
       "$$\n",
       "\\begin{aligned}\n",
       "\\alpha & = 0.78 \\ \\mathrm{°} \\quad & \\Theta_{pl erf i} & = 1.55 \\ \\mathrm{°} \\quad & \\Delta_{\\Theta} & = 613.35 \\ \\mathrm{°} \\end{aligned}\n",
       "$$"
      ],
      "text/plain": [
       "<IPython.core.display.Markdown object>"
      ]
     },
     "metadata": {},
     "output_type": "display_data"
    }
   ],
   "source": [
    "# Kontrolle des Verformungsbedarfs\n",
    "alpha = (\n",
    "    (q_S2 - q_y_comma_B) * l**3 / (24 * EI_II)\n",
    "    - (m_B - m_y_A) * b_w * l / (3 * EI_II)\n",
    ").to(un.deg)\n",
    "\n",
    "# Erforderliche Rotation\n",
    "Theta_pl_erf_i = 2 * alpha\n",
    "\n",
    "# Kontrolle ob das Verformungsvermögen gleich dem Verformungsbedarf ist\n",
    "Delta_Theta = Theta_pl_erf_i - Theta_pl_q_y_comma_F\n",
    "\n",
    "put_out()"
   ]
  },
  {
   "cell_type": "code",
   "execution_count": 54,
   "metadata": {},
   "outputs": [
    {
     "data": {
      "text/markdown": [
       "$$\n",
       "\\begin{aligned}\n",
       "w_{m y} & = 66.96 \\ \\mathrm{mm} \\end{aligned}\n",
       "$$"
      ],
      "text/plain": [
       "<IPython.core.display.Markdown object>"
      ]
     },
     "metadata": {},
     "output_type": "display_data"
    }
   ],
   "source": [
    "# Die Mittendurchbiegung beträgt\n",
    "w_m_y = (\n",
    "    5 * q_S2 * l**4 / (384 * EI_II) - m_B * b_w * l**2 / (16 * EI_II)\n",
    ").to(un.mm)\n",
    "\n",
    "put_out()"
   ]
  },
  {
   "cell_type": "markdown",
   "metadata": {},
   "source": [
    "### Traglast "
   ]
  },
  {
   "cell_type": "code",
   "execution_count": 55,
   "metadata": {},
   "outputs": [
    {
     "data": {
      "text/markdown": [
       "$$\n",
       "\\begin{aligned}\n",
       "\\varepsilon_{2 sZ2} & = 20 \\ \\mathrm{‰} \\quad & \\varepsilon_{1 sZ2} & = 106.93 \\ \\mathrm{‰} \\quad & \\varepsilon_{sm u} & = 63.46 \\ \\mathrm{‰} \\end{aligned}\n",
       "$$"
      ],
      "text/plain": [
       "<IPython.core.display.Markdown object>"
      ]
     },
     "metadata": {},
     "output_type": "display_data"
    }
   ],
   "source": [
    "varepsilon_2_sZ2 = varepsilon_sh_C\n",
    "varepsilon_1_sZ2 = varepsilon_2_sZ2 + 4 * tau_b1 * s_r / 2 / (diam_x * E_sh_C)\n",
    "\n",
    "varepsilon_sm_u = (varepsilon_2_sZ2 + varepsilon_1_sZ2) / 2\n",
    "put_out()"
   ]
  },
  {
   "cell_type": "code",
   "execution_count": 56,
   "metadata": {},
   "outputs": [
    {
     "data": {
      "text/markdown": [
       "$$\n",
       "\\begin{aligned}\n",
       "\\sigma_{s max} & = 582.79 \\ \\mathrm{MPa} \\quad & m_{B} & = 123.57 \\ \\frac{\\mathrm{kNm}}{\\mathrm{m}} \\quad & m_{F} & = 113.62 \\ \\mathrm{kN} \\\\ \n",
       "q_{u F 4} & = 21.22 \\ \\frac{\\mathrm{kN}}{\\mathrm{m}} \\quad & \\Theta_{plf F} & = 7.56 \\ \\mathrm{°} \\quad & \\alpha & = 3.99 \\ \\mathrm{°} \\\\ \n",
       "\\Theta_{pl erf} & = 7.98 \\ \\mathrm{°} \\quad & \\Delta_{\\Theta} & = -0.03 \\ \\mathrm{°} \\quad &  \n",
       " \\end{aligned}\n",
       "$$"
      ],
      "text/plain": [
       "<IPython.core.display.Markdown object>"
      ]
     },
     "metadata": {},
     "output_type": "display_data"
    }
   ],
   "source": [
    "sigma_s_max = np.interp(varepsilon_1_sZ2, strain_C_array, stress_C_array)\n",
    "\n",
    "m_B = m_u\n",
    "m_F = (a_s * sigma_s_max * d_v_A).to(un.kN)\n",
    "\n",
    "# Streckenlast Fliessen im Feld, verfestigend über dem Auflager\n",
    "q_u_F_4 = (\n",
    "    (4 * m_F + 2 * m_B) / l**2 + 4 / l**2 * np.sqrt(m_F**2 + m_F * m_B)\n",
    ") * b_w\n",
    "\n",
    "\n",
    "# Plastische rotation im Feld\n",
    "Theta_plf_F = (l_pl * (varepsilon_sm_u - varepsilon_m_sZ3) / (d_x - x_dv_A)).to(un.deg)\n",
    "\n",
    "\n",
    "# Kontrolle des Verformungsbedarfs\n",
    "alpha = (\n",
    "    q_u_F_4 * l**3 / (24 * EI_II)\n",
    "    - (m_B) * b_w * l / (3 * EI_II)\n",
    "    + 0.414 * Theta_plf_F\n",
    ").to(un.deg)\n",
    "\n",
    "# Erforderliche Rotation\n",
    "Theta_pl_erf = 2 * alpha\n",
    "\n",
    "# Kontrolle ob das Verformungsvermögen gleich dem Verformungsbedarf ist\n",
    "Delta_Theta = Theta_pl_erf - Theta_pl_max\n",
    "\n",
    "put_out()"
   ]
  },
  {
   "cell_type": "code",
   "execution_count": 57,
   "metadata": {},
   "outputs": [
    {
     "data": {
      "text/markdown": [
       "$$\n",
       "\\begin{aligned}\n",
       "w_{m y} & = \\frac{0.414 \\Theta_{plf F} l}{2} + \\frac{5 l^{4} q_{u F 4}}{384 EI_{II}} - \\frac{b_{w} l^{2} m_{B}}{16 EI_{II}} = 296.02 \\ \\mathrm{mm} \\end{aligned}\n",
       "$$"
      ],
      "text/plain": [
       "<IPython.core.display.Markdown object>"
      ]
     },
     "metadata": {},
     "output_type": "display_data"
    }
   ],
   "source": [
    "# Die Mittendurchbiegung beträgt\n",
    "w_m_y = (5 * q_u_F_4 * l**4 / (384 * EI_II)- m_B * b_w * l**2 / (16 * EI_II)+ 0.414 * Theta_plf_F * l / 2).to(un.mm)\n",
    "\n",
    "put_out(symbolic=True, evaluate=False)"
   ]
  },
  {
   "cell_type": "code",
   "execution_count": null,
   "metadata": {},
   "outputs": [],
   "source": []
  }
 ],
 "metadata": {
  "kernelspec": {
   "display_name": "calc",
   "language": "python",
   "name": "python3"
  },
  "language_info": {
   "codemirror_mode": {
    "name": "ipython",
    "version": 3
   },
   "file_extension": ".py",
   "mimetype": "text/x-python",
   "name": "python",
   "nbconvert_exporter": "python",
   "pygments_lexer": "ipython3",
   "version": "3.11.9"
  }
 },
 "nbformat": 4,
 "nbformat_minor": 2
}
