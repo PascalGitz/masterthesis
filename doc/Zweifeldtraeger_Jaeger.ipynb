{
 "cells": [
  {
   "cell_type": "markdown",
   "metadata": {},
   "source": [
    "# Einführungsbeispiel - Zweifeldträger\n",
    "\n",
    "Das Vorlesungsbeispiel verfolgt das Ziel, die Verformungen eines Zweifeldträgers für zwei Betonstähle mit unterschiedlichen Duktilitätsklassen aufzuzeigen. @jager_stahlbeton_2009.\n",
    "\n",
    "![Statisches System des Zweifeldträgers mit Abmessungen versehen, daneben der Querschnitt mit Angaben zu der Längsbewehrung](../imgs/zweifeld_system.png){#fig-zweifeld_system}\n",
    "\n",
    "Zunächst wird die analytische Lösung vollumfänglich dargestellt und mit numerischen Werten substituiert. Abschliessend wird das Verformungsverhalten mit dem Federmodell nachmodelliert, bzw. numerisch approximiert."
   ]
  },
  {
   "cell_type": "markdown",
   "metadata": {},
   "source": [
    "## Allgemeines\n",
    "\n",
    "### Annahmen\n",
    "\n",
    "- Zwei unterschiedliche Stähle\n",
    "- konstant gerissene Biegesteifigkeit entlang der Stabachse\n",
    "\n",
    "### Parameter\n",
    "\n"
   ]
  },
  {
   "cell_type": "code",
   "execution_count": 1,
   "metadata": {},
   "outputs": [],
   "source": [
    "# | echo: false\n",
    "\n",
    "from packages import *"
   ]
  },
  {
   "cell_type": "markdown",
   "metadata": {},
   "source": [
    "#### Bewehrung"
   ]
  },
  {
   "cell_type": "code",
   "execution_count": 2,
   "metadata": {},
   "outputs": [
    {
     "data": {
      "text/markdown": [
       "$$\n",
       "\\begin{aligned}\n",
       "\\oslash_{x} & = 14 \\ \\mathrm{mm} \\quad & s_{x} & = 200 \\ \\mathrm{mm} \\quad & \\oslash_{y} & = 12 \\ \\mathrm{mm} \\\\ \n",
       "s_{y} & = 200 \\ \\mathrm{mm} \\quad & a_{s} & = 769.69 \\ \\frac{\\mathrm{mm}^{2}}{\\mathrm{m}} \\quad &  \n",
       " \\end{aligned}\n",
       "$$"
      ],
      "text/plain": [
       "<IPython.core.display.Markdown object>"
      ]
     },
     "metadata": {},
     "output_type": "display_data"
    }
   ],
   "source": [
    "# Längsbewehrung in X-Richtung gerichtet\n",
    "diam_x = 14 * mm\n",
    "\n",
    "# Teilung der Längsbewehrung\n",
    "s_x = 200 * mm\n",
    "\n",
    "# Längsbewehrung in Y-Richtung gerichtet\n",
    "diam_y = 12 * mm\n",
    "\n",
    "# Teilung der Längsbewehrung\n",
    "s_y = 200 * mm\n",
    "\n",
    "# Querschnittsfläche der Längsbewehrung, pro Längeneinheit\n",
    "a_s = (diam_x**2 / 4 * np.pi / s_x).to(mm**2 / m)\n",
    "\n",
    "put_out()"
   ]
  },
  {
   "cell_type": "markdown",
   "metadata": {},
   "source": [
    "#### Geometrie"
   ]
  },
  {
   "cell_type": "code",
   "execution_count": 3,
   "metadata": {},
   "outputs": [
    {
     "data": {
      "text/markdown": [
       "$$\n",
       "\\begin{aligned}\n",
       "c & = 20 \\ \\mathrm{mm} \\quad & h & = 300 \\ \\mathrm{mm} \\quad & b_{w} & = 1 \\ \\mathrm{m} \\\\ \n",
       "l & = 8 \\ \\mathrm{m} \\quad & d_{x} & = 261.0 \\ \\mathrm{mm} \\quad &  \n",
       " \\end{aligned}\n",
       "$$"
      ],
      "text/plain": [
       "<IPython.core.display.Markdown object>"
      ]
     },
     "metadata": {},
     "output_type": "display_data"
    }
   ],
   "source": [
    "# Betonüberdeckung\n",
    "c = 20 * mm\n",
    "\n",
    "# Plattenstärke\n",
    "h = 300 * mm\n",
    "\n",
    "# Streifenbreite\n",
    "b_w = 1 * m\n",
    "\n",
    "# Balkenlänge\n",
    "l = 8 * m\n",
    "\n",
    "# Statische Höhe in der Bewehrung in X-Richtung\n",
    "d_x = h - c - diam_y - 1 / 2 * diam_x\n",
    "\n",
    "put_out()"
   ]
  },
  {
   "cell_type": "markdown",
   "metadata": {},
   "source": [
    "#### Beton"
   ]
  },
  {
   "cell_type": "code",
   "execution_count": 4,
   "metadata": {},
   "outputs": [
    {
     "data": {
      "text/markdown": [
       "$$\n",
       "\\begin{aligned}\n",
       "f_{cc} & = 30.0 \\ \\frac{\\mathrm{N}}{\\mathrm{mm}^{2}} \\quad & f_{ct} & = 2.9 \\ \\frac{\\mathrm{N}}{\\mathrm{mm}^{2}} \\quad & f_{c} & = 24.14 \\ \\frac{\\mathrm{N}}{\\mathrm{mm}^{2}} \\\\ \n",
       "E_{c} & = 29.3 \\ \\frac{\\mathrm{kN}}{\\mathrm{mm}^{2}} \\quad & \\varepsilon_{cu} & = 5 \\ \\mathrm{‰} \\quad &  \n",
       " \\end{aligned}\n",
       "$$"
      ],
      "text/plain": [
       "<IPython.core.display.Markdown object>"
      ]
     },
     "metadata": {},
     "output_type": "display_data"
    }
   ],
   "source": [
    "# Zylinderdruckfestigkeit vorausgesetzt\n",
    "f_cc = 30 * N / mm**2\n",
    "\n",
    "# Betonzugfestigkeit, nicht einheitentreu\n",
    "f_ct = (0.3 * f_cc.m ** (2 / 3)) * N / mm**2\n",
    "\n",
    "# Effektive Betondruckfestigkeit, nicht einheitentreu\n",
    "f_c = (2.5 * f_cc.m ** (2 / 3)) * N / mm**2\n",
    "\n",
    "# Elastizitätsmodul des Betons\n",
    "E_c = 29.3 * kN / mm**2\n",
    "\n",
    "# Bruchstauchung Erfahrungswert\n",
    "varepsilon_cu = 5 * permille\n",
    "\n",
    "put_out()"
   ]
  },
  {
   "cell_type": "markdown",
   "metadata": {},
   "source": [
    "### Modellbildung - Zuggurtmodell"
   ]
  },
  {
   "cell_type": "code",
   "execution_count": 5,
   "metadata": {},
   "outputs": [
    {
     "data": {
      "text/markdown": [
       "$$\n",
       "\\begin{aligned}\n",
       "\\tau_{b0} & = 5.79 \\ \\frac{\\mathrm{N}}{\\mathrm{mm}^{2}} \\quad & \\tau_{b1} & = 2.9 \\ \\frac{\\mathrm{N}}{\\mathrm{mm}^{2}} \\end{aligned}\n",
       "$$"
      ],
      "text/plain": [
       "<IPython.core.display.Markdown object>"
      ]
     },
     "metadata": {},
     "output_type": "display_data"
    }
   ],
   "source": [
    "# Verbundschubspannung vor dem Fliessen\n",
    "tau_b0 = 2 * f_ct\n",
    "\n",
    "# Verbundschubspannung vor dem Fliessen\n",
    "tau_b1 = f_ct\n",
    "\n",
    "put_out()"
   ]
  },
  {
   "cell_type": "code",
   "execution_count": 6,
   "metadata": {},
   "outputs": [
    {
     "data": {
      "text/markdown": [
       "$$\n",
       "\\begin{aligned}\n",
       "h_{eff} & = 78.0 \\ \\mathrm{mm} \\quad & \\rho & = 0.99 \\ \\mathrm{\\%} \\end{aligned}\n",
       "$$"
      ],
      "text/plain": [
       "<IPython.core.display.Markdown object>"
      ]
     },
     "metadata": {},
     "output_type": "display_data"
    }
   ],
   "source": [
    "# Abschätzung der mitwirkenden Höhe der Betonzugzone\n",
    "h_eff = 2 * (h - d_x)\n",
    "\n",
    "# Geometrischer Bewehrungsgehalt\n",
    "rho = (a_s / h_eff).to(percent)\n",
    "\n",
    "put_out()"
   ]
  },
  {
   "cell_type": "code",
   "execution_count": 7,
   "metadata": {},
   "outputs": [
    {
     "data": {
      "text/markdown": [
       "$$\n",
       "\\begin{aligned}\n",
       "s_{r0} & = 351.19 \\ \\mathrm{mm} \\quad & s_{rl} & = 175.59 \\ \\mathrm{mm} \\quad & s_{r} & = 200 \\ \\mathrm{mm} \\end{aligned}\n",
       "$$"
      ],
      "text/plain": [
       "<IPython.core.display.Markdown object>"
      ]
     },
     "metadata": {},
     "output_type": "display_data"
    }
   ],
   "source": [
    "# maximaler Rissabstand\n",
    "s_r0 = (diam_x * (1 - rho) / (4 * rho)).to(mm)\n",
    "\n",
    "# minimaler Rissabstand\n",
    "s_rl = 1 / 2 * s_r0\n",
    "\n",
    "# Annahme des Rissabstandes, entspricht dem Abstand der Querstäbe\n",
    "s_r = 200 * mm\n",
    "\n",
    "put_out()"
   ]
  },
  {
   "cell_type": "markdown",
   "metadata": {},
   "source": [
    "## Kaltverformter Betonstahl - B500A\n",
    "\n",
    "### Eigenschaften des Betonstahls\n",
    "\n",
    "Allgemein werden die Eigenschaften für den Betonstahl B500A mit einem Suffix $A$ gekennzeichnet.\n"
   ]
  },
  {
   "cell_type": "code",
   "execution_count": 8,
   "metadata": {},
   "outputs": [
    {
     "data": {
      "text/markdown": [
       "$$\n",
       "\\begin{aligned}\n",
       "f_{sy A} & = 570.0 \\ \\frac{\\mathrm{N}}{\\mathrm{mm}^{2}} \\quad & f_{su A} & = 600.0 \\ \\frac{\\mathrm{N}}{\\mathrm{mm}^{2}} \\quad & \\varepsilon_{sy A} & = 2.78 \\ \\mathrm{‰} \\\\ \n",
       "\\varepsilon_{su A} & = 25 \\ \\mathrm{‰} \\quad & E_{s A} & = 205.0 \\ \\frac{\\mathrm{kN}}{\\mathrm{mm}^{2}} \\quad & E_{sh A} & = 1350.0 \\ \\frac{\\mathrm{N}}{\\mathrm{mm}^{2}} \\end{aligned}\n",
       "$$"
      ],
      "text/plain": [
       "<IPython.core.display.Markdown object>"
      ]
     },
     "metadata": {},
     "output_type": "display_data"
    }
   ],
   "source": [
    "# Fliessgrenze\n",
    "f_sy_A = 570 * N / mm**2\n",
    "\n",
    "# Zugfestigkeit\n",
    "f_su_A = 600 * N / mm**2\n",
    "\n",
    "# Fliessdehnung\n",
    "varepsilon_sy_A = 2.78 * permille\n",
    "\n",
    "# Bruchdehnung\n",
    "varepsilon_su_A = 25 * permille\n",
    "\n",
    "# Elastizitätsmodul\n",
    "E_s_A = 205 * kN / mm**2\n",
    "\n",
    "# Verfestigungsmodul\n",
    "E_sh_A = 1350 * N / mm**2\n",
    "\n",
    "put_out()"
   ]
  },
  {
   "cell_type": "code",
   "execution_count": 9,
   "metadata": {},
   "outputs": [],
   "source": [
    "# | echo: false\n",
    "\n",
    "stress_b500a_array = np.array([0, f_sy_A.m, f_su_A.m]) * MPa\n",
    "strain_b500a_array = np.array([0, varepsilon_sy_A, varepsilon_su_A])\n",
    "\n",
    "\n",
    "fig_b500a, ax_b500a = plt.subplots()\n",
    "\n",
    "ax_b500a.plot(strain_b500a_array, stress_b500a_array.to(MPa).m, color=\"k\")\n",
    "\n",
    "# #lines\n",
    "# ax_b500a.axvline(x= varepsilon_sy_A.to(los), ymax= 0.6, ymin=0.1, color='black', linestyle='--')\n",
    "# ax_b500a.axvline(x= varepsilon_su_A.to(los), ymax= 0.6, ymin=0.1, color='black', linestyle='--')\n",
    "\n",
    "# Set axis labels\n",
    "ax_b500a.set_ylabel(r\"$\\sigma$ [N/mm$^2$]\")\n",
    "ax_b500a.set_xlabel(r\"$\\varepsilon_s$ [-]\")\n",
    "\n",
    "# Set limits\n",
    "ax_b500a.set_xlim(xmax=135 / 1000)\n",
    "ax_b500a.set_ylim(ymax=750)\n",
    "\n",
    "# Show the plot\n",
    "plt.tight_layout()\n",
    "plt.savefig(\"imgs/jag_stress_strain_b500a.svg\")\n",
    "plt.close()"
   ]
  },
  {
   "cell_type": "markdown",
   "metadata": {},
   "source": [
    "![Spannungs-Dehnungs-Beziehung des Betonstahls B500A](../imgs/jag_stress_strain_b500a_bearb.svg){#stress_strain_b500a}"
   ]
  },
  {
   "cell_type": "markdown",
   "metadata": {},
   "source": [
    "### Linear elastische - gerissene Biegesteifigkeit\n",
    "\n",
    "Wird fortan für sämtliche Verformungsberechnungen verwendet.\n",
    "Querschnittsanalyse:\n"
   ]
  },
  {
   "cell_type": "code",
   "execution_count": 10,
   "metadata": {},
   "outputs": [
    {
     "data": {
      "text/markdown": [
       "$$\n",
       "\\begin{aligned}\n",
       "n & = 7.0 \\  \\end{aligned}\n",
       "$$"
      ],
      "text/plain": [
       "<IPython.core.display.Markdown object>"
      ]
     },
     "metadata": {},
     "output_type": "display_data"
    }
   ],
   "source": [
    "# Wertigkeit der Elastizitätsmodule\n",
    "n = E_s_A / E_c\n",
    "\n",
    "put_out()"
   ]
  },
  {
   "cell_type": "markdown",
   "metadata": {},
   "source": [
    "Die Druckzonenhöhe wird mittels dem Gleichgewicht der horizontalen Kräfte ermittelt"
   ]
  },
  {
   "cell_type": "code",
   "execution_count": 11,
   "metadata": {},
   "outputs": [],
   "source": [
    "# Mittels Sympy (CAS für Python) wird eine analytische Lösung der\n",
    "# Druckzonenhöhe für den gerissenen Querschnitt ermittelt.\n",
    "\n",
    "# Summe der horizontalen Kräfte\n",
    "sum_Fx = sp.sympify(\"1/2*x*b_w*sigma_c -sigma_s*a_s*b_w\")\n",
    "\n",
    "# Definition der Spannung in Abhängigkeit der Dehnungen\n",
    "expr_sigma_c = sp.sympify(\"varepsilon_c * E_c\")\n",
    "expr_sigma_s = sp.sympify(\"varepsilon_s * n * E_c\")\n",
    "\n",
    "# Die Beziehung zwischen der Stahl- und Betondehnung nach Hook\n",
    "expr_epsilon_c = sp.sympify(\"varepsilon_s /(d-x)*x\")\n",
    "\n",
    "# Substitution der Gleichungen\n",
    "sum_Fx_subs = sum_Fx.subs(\n",
    "    {\n",
    "        \"sigma_c\": expr_sigma_c.subs(\"varepsilon_c\", expr_epsilon_c),\n",
    "        \"sigma_s\": expr_sigma_s,\n",
    "    }\n",
    ")\n",
    "\n",
    "# Erstellen einer numerischen Funktion\n",
    "x_solve = sp.solve(sum_Fx_subs, \"x\")[1]\n",
    "x_solve_lambd = sp.lambdify((\"a_s\", \"b_w\", \"n\", \"d\"), x_solve)"
   ]
  },
  {
   "cell_type": "code",
   "execution_count": 12,
   "metadata": {},
   "outputs": [
    {
     "data": {
      "text/markdown": [
       "$$\n",
       "\\begin{aligned}\n",
       "x_{II} & = 47.91 \\ \\mathrm{mm} \\end{aligned}\n",
       "$$"
      ],
      "text/plain": [
       "<IPython.core.display.Markdown object>"
      ]
     },
     "metadata": {},
     "output_type": "display_data"
    }
   ],
   "source": [
    "# Druckzonenhöhe mit Parametern substituiert\n",
    "x_II = x_solve_lambd(a_s, b_w, n, d_x).to(mm)\n",
    "\n",
    "put_out()"
   ]
  },
  {
   "cell_type": "code",
   "execution_count": 13,
   "metadata": {},
   "outputs": [
    {
     "data": {
      "text/markdown": [
       "$$\n",
       "\\begin{aligned}\n",
       "I_{cII} & = 36650532.72 \\ \\mathrm{mm}^{4} \\quad & I_{sII} & = 244534349.46 \\ \\mathrm{mm}^{4} \\quad & I_{II} & = 281184882.18 \\ \\mathrm{mm}^{4} \\end{aligned}\n",
       "$$"
      ],
      "text/plain": [
       "<IPython.core.display.Markdown object>"
      ]
     },
     "metadata": {},
     "output_type": "display_data"
    }
   ],
   "source": [
    "# Flächenmoment 2. Grades für den Beton\n",
    "I_cII = (b_w * x_II**3 / 12 + b_w * x_II * (x_II / 2) ** 2).to(mm**4)\n",
    "\n",
    "\n",
    "# Flächenmoment 2. Grades für den Betonstahl\n",
    "I_sII = (a_s * b_w * n * (d_x - x_II) ** 2).to(mm**4)\n",
    "\n",
    "# Flächenmoment 2. Grades für den gerissenen Querschnitt\n",
    "I_II = (I_cII + I_sII).to(mm**4)\n",
    "\n",
    "put_out()"
   ]
  },
  {
   "cell_type": "code",
   "execution_count": 14,
   "metadata": {},
   "outputs": [
    {
     "data": {
      "text/markdown": [
       "$$\n",
       "\\begin{aligned}\n",
       "EI_{II} & = 8238.72 \\ \\mathrm{kN} \\cdot \\mathrm{m}^{2} \\end{aligned}\n",
       "$$"
      ],
      "text/plain": [
       "<IPython.core.display.Markdown object>"
      ]
     },
     "metadata": {},
     "output_type": "display_data"
    }
   ],
   "source": [
    "# Gerissene Biegesteifigkeit\n",
    "EI_II = (E_c * I_II).to(kN * m**2)\n",
    "\n",
    "put_out()"
   ]
  },
  {
   "cell_type": "markdown",
   "metadata": {},
   "source": [
    "### Hebelarm der inneren Kräfte"
   ]
  },
  {
   "cell_type": "markdown",
   "metadata": {},
   "source": [
    "Der Hebelarm der inneren Kräfte wird für den gesamten Träger als konstant angenommen.\n",
    "Dabei wird dem Beton die Zylinderdruckfestigkeit hinterlegt, sowie erreicht der Stahl die Zugfestigkeit. "
   ]
  },
  {
   "cell_type": "code",
   "execution_count": 15,
   "metadata": {},
   "outputs": [
    {
     "data": {
      "text/markdown": [
       "$$\n",
       "\\begin{aligned}\n",
       "x_{dv A} & = 18.11 \\ \\mathrm{mm} \\quad & dv_{A} & = 253.3 \\ \\mathrm{mm} \\quad & m_{u A} & = 116.98 \\ \\frac{\\mathrm{kNm}}{\\mathrm{m}} \\end{aligned}\n",
       "$$"
      ],
      "text/plain": [
       "<IPython.core.display.Markdown object>"
      ]
     },
     "metadata": {},
     "output_type": "display_data"
    }
   ],
   "source": [
    "# Druckzonenhöhe für den Biegewiderstand\n",
    "x_dv_A = (a_s * b_w * f_su_A / (0.85 * f_cc * b_w)).to(mm)\n",
    "\n",
    "# Hebelarm der inneren Kräfte für den Biegewiderstand\n",
    "dv_A = d_x - 1 / 2 * 0.85 * x_dv_A\n",
    "\n",
    "# Biegewiderstand\n",
    "m_u_A = (a_s * f_su_A * dv_A).to(kNm / m)\n",
    "\n",
    "put_out()"
   ]
  },
  {
   "cell_type": "markdown",
   "metadata": {},
   "source": [
    "### Risselement bei Fliessbeginn - Zustand $A1$"
   ]
  },
  {
   "cell_type": "code",
   "execution_count": 16,
   "metadata": {},
   "outputs": [
    {
     "data": {
      "text/markdown": [
       "$$\n",
       "\\begin{aligned}\n",
       "\\sigma_{3 sA1} & = 404.49 \\ \\frac{\\mathrm{N}}{\\mathrm{mm}^{2}} \\quad & \\varepsilon_{smy} & = 2.38 \\ \\mathrm{‰} \\quad & m_{y} & = 111.13 \\ \\frac{\\mathrm{kNm}}{\\mathrm{m}} \\end{aligned}\n",
       "$$"
      ],
      "text/plain": [
       "<IPython.core.display.Markdown object>"
      ]
     },
     "metadata": {},
     "output_type": "display_data"
    }
   ],
   "source": [
    "# minimale Stahlspannung\n",
    "sigma_3_sA1 = f_sy_A - 4 * tau_b0 * s_r / 2 / diam_x\n",
    "\n",
    "# mittlere Stahldehnung\n",
    "varepsilon_smy = ((sigma_3_sA1 + f_sy_A) / (E_s_A * 2)).to(permille)\n",
    "\n",
    "# Fliessmoment\n",
    "m_y = (a_s * f_sy_A * dv_A).to(kNm / m)\n",
    "\n",
    "put_out()"
   ]
  },
  {
   "cell_type": "code",
   "execution_count": 17,
   "metadata": {},
   "outputs": [],
   "source": [
    "# | echo: false\n",
    "\n",
    "def plot_stress_strain(\n",
    "    coordinates, filename,strain=False, stress=True,\n",
    "):\n",
    "    # Create a Polygon object\n",
    "    polygon = Polygon(coordinates)\n",
    "\n",
    "    # Get the centroid of the polygon\n",
    "    centroid = polygon.centroid\n",
    "\n",
    "    # Plot the polygon\n",
    "    x, y = zip(*coordinates)  # Unzip the coordinates into x and y\n",
    "\n",
    "\n",
    "    fig, ax = plt.subplots()\n",
    "\n",
    "    if strain==True:\n",
    "        stress=False\n",
    "        xlabel=r\"$x$ [mm]\"\n",
    "        ylabel=r\"$\\varepsilon$ [-]\"\n",
    "        # Plot the coordiantes\n",
    "        ax.plot(x + (x[0],), y + (y[0],), \"black\")\n",
    "        centroid_coords = f\"{centroid.y*1000:.2f}\"\n",
    "        ax.fill(x, y, color='lightgray', alpha=0.4)\n",
    "\n",
    "    if stress == True:\n",
    "        xlabel=r\"$x$ [mm]\"\n",
    "        ylabel=r\"$\\sigma$ [N/mm$^2$]\"\n",
    "        # Plot the coordiantes\n",
    "        ax.plot(x + (x[0],), y + (y[0],), \"black\")\n",
    "        centroid_coords = f\"{centroid.y:.2f} N/mm$^2$\"\n",
    "\n",
    "    # Plot the centroid\n",
    "    ax.plot(centroid.x, centroid.y, \"black\", marker=\"+\", markersize=5)\n",
    "    # Add text box at the centroid with the coordinates   \n",
    "    offset = 1.05\n",
    "    ax.text(centroid.x*offset, centroid.y*offset, centroid_coords,\n",
    "            ha='left', va='bottom')\n",
    "\n",
    "    # Add labels and show the plot\n",
    "    ax.set_ylabel(ylabel)\n",
    "    ax.ticklabel_format(style=\"sci\",  axis=\"y\", scilimits=(0,0))\n",
    "    ax.set_xlabel(xlabel)\n",
    "\n",
    "    # helps with svg export\n",
    "    plt.tight_layout()\n",
    "\n",
    "    # Save the plot to the specified file\n",
    "    plt.savefig(filename)\n",
    "    plt.show()"
   ]
  },
  {
   "cell_type": "code",
   "execution_count": 18,
   "metadata": {},
   "outputs": [
    {
     "data": {
      "image/svg+xml": [
       "<?xml version=\"1.0\" encoding=\"utf-8\" standalone=\"no\"?>\n",
       "<!DOCTYPE svg PUBLIC \"-//W3C//DTD SVG 1.1//EN\"\n",
       "  \"http://www.w3.org/Graphics/SVG/1.1/DTD/svg11.dtd\">\n",
       "<svg xmlns:xlink=\"http://www.w3.org/1999/xlink\" width=\"167.276313pt\" height=\"150.190866pt\" viewBox=\"0 0 167.276313 150.190866\" xmlns=\"http://www.w3.org/2000/svg\" version=\"1.1\">\n",
       " <metadata>\n",
       "  <rdf:RDF xmlns:dc=\"http://purl.org/dc/elements/1.1/\" xmlns:cc=\"http://creativecommons.org/ns#\" xmlns:rdf=\"http://www.w3.org/1999/02/22-rdf-syntax-ns#\">\n",
       "   <cc:Work>\n",
       "    <dc:type rdf:resource=\"http://purl.org/dc/dcmitype/StillImage\"/>\n",
       "    <dc:date>2024-10-02T16:04:26.063699</dc:date>\n",
       "    <dc:format>image/svg+xml</dc:format>\n",
       "    <dc:creator>\n",
       "     <cc:Agent>\n",
       "      <dc:title>Matplotlib v3.9.1, https://matplotlib.org/</dc:title>\n",
       "     </cc:Agent>\n",
       "    </dc:creator>\n",
       "   </cc:Work>\n",
       "  </rdf:RDF>\n",
       " </metadata>\n",
       " <defs>\n",
       "  <style type=\"text/css\">*{stroke-linejoin: round; stroke-linecap: butt}</style>\n",
       " </defs>\n",
       " <g id=\"figure_1\">\n",
       "  <g id=\"patch_1\">\n",
       "   <path d=\"M 0 150.190866 \n",
       "L 167.276313 150.190866 \n",
       "L 167.276313 0 \n",
       "L 0 0 \n",
       "z\n",
       "\" style=\"fill: #ffffff\"/>\n",
       "  </g>\n",
       "  <g id=\"axes_1\">\n",
       "   <g id=\"patch_2\">\n",
       "    <path d=\"M 29.534462 118.443679 \n",
       "L 159.638876 118.443679 \n",
       "L 159.638876 16.145508 \n",
       "L 29.534462 16.145508 \n",
       "z\n",
       "\" style=\"fill: #ffffff\"/>\n",
       "   </g>\n",
       "   <g id=\"matplotlib.axis_1\">\n",
       "    <g id=\"xtick_1\">\n",
       "     <g id=\"line2d_1\">\n",
       "      <path d=\"M 35.448299 118.443679 \n",
       "L 35.448299 16.145508 \n",
       "\" clip-path=\"url(#p546273d7e6)\" style=\"fill: none; stroke-dasharray: 0.74,0.32; stroke-dashoffset: 0; stroke: #808080; stroke-opacity: 0.7; stroke-width: 0.2\"/>\n",
       "     </g>\n",
       "     <g id=\"line2d_2\">\n",
       "      <defs>\n",
       "       <path id=\"m0e4942c126\" d=\"M 0 0 \n",
       "L 0 -3.5 \n",
       "\" style=\"stroke: #000000; stroke-width: 0.5\"/>\n",
       "      </defs>\n",
       "      <g>\n",
       "       <use xlink:href=\"#m0e4942c126\" x=\"35.448299\" y=\"118.443679\" style=\"stroke: #000000; stroke-width: 0.5\"/>\n",
       "      </g>\n",
       "     </g>\n",
       "     <g id=\"text_1\">\n",
       "      <!-- $\\mathdefault{0}$ -->\n",
       "      <g transform=\"translate(33.331207 127.47848) scale(0.08 -0.08)\">\n",
       "       <defs>\n",
       "        <path id=\"CMR17-30\" d=\"M 2688 2038 \n",
       "C 2688 2430 2682 3099 2413 3613 \n",
       "C 2176 4063 1798 4224 1466 4224 \n",
       "C 1158 4224 768 4082 525 3620 \n",
       "C 269 3137 243 2539 243 2038 \n",
       "C 243 1671 250 1112 448 623 \n",
       "C 723 -39 1216 -128 1466 -128 \n",
       "C 1760 -128 2208 -7 2470 604 \n",
       "C 2662 1048 2688 1568 2688 2038 \n",
       "z\n",
       "M 1466 -26 \n",
       "C 1056 -26 813 328 723 816 \n",
       "C 653 1196 653 1749 653 2109 \n",
       "C 653 2604 653 3015 736 3407 \n",
       "C 858 3954 1216 4121 1466 4121 \n",
       "C 1728 4121 2067 3947 2189 3420 \n",
       "C 2272 3054 2278 2623 2278 2109 \n",
       "C 2278 1691 2278 1176 2202 797 \n",
       "C 2067 96 1690 -26 1466 -26 \n",
       "z\n",
       "\" transform=\"scale(0.015625)\"/>\n",
       "       </defs>\n",
       "       <use xlink:href=\"#CMR17-30\" transform=\"scale(0.996264)\"/>\n",
       "      </g>\n",
       "     </g>\n",
       "    </g>\n",
       "    <g id=\"xtick_2\">\n",
       "     <g id=\"line2d_3\">\n",
       "      <path d=\"M 65.017484 118.443679 \n",
       "L 65.017484 16.145508 \n",
       "\" clip-path=\"url(#p546273d7e6)\" style=\"fill: none; stroke-dasharray: 0.74,0.32; stroke-dashoffset: 0; stroke: #808080; stroke-opacity: 0.7; stroke-width: 0.2\"/>\n",
       "     </g>\n",
       "     <g id=\"line2d_4\">\n",
       "      <g>\n",
       "       <use xlink:href=\"#m0e4942c126\" x=\"65.017484\" y=\"118.443679\" style=\"stroke: #000000; stroke-width: 0.5\"/>\n",
       "      </g>\n",
       "     </g>\n",
       "     <g id=\"text_2\">\n",
       "      <!-- $\\mathdefault{25}$ -->\n",
       "      <g transform=\"translate(60.783301 127.47848) scale(0.08 -0.08)\">\n",
       "       <defs>\n",
       "        <path id=\"CMR17-32\" d=\"M 2669 990 \n",
       "L 2554 990 \n",
       "C 2490 537 2438 460 2413 422 \n",
       "C 2381 371 1920 371 1830 371 \n",
       "L 602 371 \n",
       "C 832 620 1280 1073 1824 1596 \n",
       "C 2214 1966 2669 2400 2669 3033 \n",
       "C 2669 3788 2067 4224 1395 4224 \n",
       "C 691 4224 262 3603 262 3027 \n",
       "C 262 2777 448 2745 525 2745 \n",
       "C 589 2745 781 2783 781 3007 \n",
       "C 781 3206 614 3264 525 3264 \n",
       "C 486 3264 448 3257 422 3244 \n",
       "C 544 3788 915 4057 1306 4057 \n",
       "C 1862 4057 2227 3616 2227 3033 \n",
       "C 2227 2477 1901 1998 1536 1583 \n",
       "L 262 147 \n",
       "L 262 0 \n",
       "L 2515 0 \n",
       "L 2669 990 \n",
       "z\n",
       "\" transform=\"scale(0.015625)\"/>\n",
       "        <path id=\"CMR17-35\" d=\"M 730 3750 \n",
       "C 794 3724 1056 3641 1325 3641 \n",
       "C 1920 3641 2246 3961 2432 4140 \n",
       "C 2432 4191 2432 4224 2394 4224 \n",
       "C 2387 4224 2374 4224 2323 4198 \n",
       "C 2099 4102 1837 4032 1517 4032 \n",
       "C 1325 4032 1037 4055 723 4191 \n",
       "C 653 4224 640 4224 634 4224 \n",
       "C 602 4224 595 4217 595 4090 \n",
       "L 595 2231 \n",
       "C 595 2113 595 2080 659 2080 \n",
       "C 691 2080 704 2093 736 2139 \n",
       "C 941 2435 1222 2560 1542 2560 \n",
       "C 1766 2560 2246 2415 2246 1293 \n",
       "C 2246 1087 2246 716 2054 422 \n",
       "C 1894 159 1645 25 1370 25 \n",
       "C 947 25 518 319 403 812 \n",
       "C 429 806 480 793 506 793 \n",
       "C 589 793 749 838 749 1036 \n",
       "C 749 1209 627 1280 506 1280 \n",
       "C 358 1280 262 1190 262 1011 \n",
       "C 262 454 704 -128 1382 -128 \n",
       "C 2042 -128 2669 441 2669 1267 \n",
       "C 2669 2054 2170 2662 1549 2662 \n",
       "C 1222 2662 947 2540 730 2304 \n",
       "L 730 3750 \n",
       "z\n",
       "\" transform=\"scale(0.015625)\"/>\n",
       "       </defs>\n",
       "       <use xlink:href=\"#CMR17-32\" transform=\"scale(0.996264)\"/>\n",
       "       <use xlink:href=\"#CMR17-35\" transform=\"translate(45.690477 0) scale(0.996264)\"/>\n",
       "      </g>\n",
       "     </g>\n",
       "    </g>\n",
       "    <g id=\"xtick_3\">\n",
       "     <g id=\"line2d_5\">\n",
       "      <path d=\"M 94.586669 118.443679 \n",
       "L 94.586669 16.145508 \n",
       "\" clip-path=\"url(#p546273d7e6)\" style=\"fill: none; stroke-dasharray: 0.74,0.32; stroke-dashoffset: 0; stroke: #808080; stroke-opacity: 0.7; stroke-width: 0.2\"/>\n",
       "     </g>\n",
       "     <g id=\"line2d_6\">\n",
       "      <g>\n",
       "       <use xlink:href=\"#m0e4942c126\" x=\"94.586669\" y=\"118.443679\" style=\"stroke: #000000; stroke-width: 0.5\"/>\n",
       "      </g>\n",
       "     </g>\n",
       "     <g id=\"text_3\">\n",
       "      <!-- $\\mathdefault{50}$ -->\n",
       "      <g transform=\"translate(90.352486 127.47848) scale(0.08 -0.08)\">\n",
       "       <use xlink:href=\"#CMR17-35\" transform=\"scale(0.996264)\"/>\n",
       "       <use xlink:href=\"#CMR17-30\" transform=\"translate(45.690477 0) scale(0.996264)\"/>\n",
       "      </g>\n",
       "     </g>\n",
       "    </g>\n",
       "    <g id=\"xtick_4\">\n",
       "     <g id=\"line2d_7\">\n",
       "      <path d=\"M 124.155854 118.443679 \n",
       "L 124.155854 16.145508 \n",
       "\" clip-path=\"url(#p546273d7e6)\" style=\"fill: none; stroke-dasharray: 0.74,0.32; stroke-dashoffset: 0; stroke: #808080; stroke-opacity: 0.7; stroke-width: 0.2\"/>\n",
       "     </g>\n",
       "     <g id=\"line2d_8\">\n",
       "      <g>\n",
       "       <use xlink:href=\"#m0e4942c126\" x=\"124.155854\" y=\"118.443679\" style=\"stroke: #000000; stroke-width: 0.5\"/>\n",
       "      </g>\n",
       "     </g>\n",
       "     <g id=\"text_4\">\n",
       "      <!-- $\\mathdefault{75}$ -->\n",
       "      <g transform=\"translate(119.921671 127.47848) scale(0.08 -0.08)\">\n",
       "       <defs>\n",
       "        <path id=\"CMR17-37\" d=\"M 2886 3955 \n",
       "L 2886 4096 \n",
       "L 1382 4096 \n",
       "C 634 4096 621 4166 595 4288 \n",
       "L 480 4288 \n",
       "L 294 3104 \n",
       "L 410 3104 \n",
       "C 429 3226 474 3552 550 3673 \n",
       "C 589 3724 1062 3724 1171 3724 \n",
       "L 2579 3724 \n",
       "L 1869 2670 \n",
       "C 1395 1961 1069 1003 1069 166 \n",
       "C 1069 89 1069 -128 1299 -128 \n",
       "C 1530 -128 1530 89 1530 172 \n",
       "L 1530 466 \n",
       "C 1530 1514 1709 2204 2003 2644 \n",
       "L 2886 3955 \n",
       "z\n",
       "\" transform=\"scale(0.015625)\"/>\n",
       "       </defs>\n",
       "       <use xlink:href=\"#CMR17-37\" transform=\"scale(0.996264)\"/>\n",
       "       <use xlink:href=\"#CMR17-35\" transform=\"translate(45.690477 0) scale(0.996264)\"/>\n",
       "      </g>\n",
       "     </g>\n",
       "    </g>\n",
       "    <g id=\"xtick_5\">\n",
       "     <g id=\"line2d_9\">\n",
       "      <path d=\"M 153.725039 118.443679 \n",
       "L 153.725039 16.145508 \n",
       "\" clip-path=\"url(#p546273d7e6)\" style=\"fill: none; stroke-dasharray: 0.74,0.32; stroke-dashoffset: 0; stroke: #808080; stroke-opacity: 0.7; stroke-width: 0.2\"/>\n",
       "     </g>\n",
       "     <g id=\"line2d_10\">\n",
       "      <g>\n",
       "       <use xlink:href=\"#m0e4942c126\" x=\"153.725039\" y=\"118.443679\" style=\"stroke: #000000; stroke-width: 0.5\"/>\n",
       "      </g>\n",
       "     </g>\n",
       "     <g id=\"text_5\">\n",
       "      <!-- $\\mathdefault{100}$ -->\n",
       "      <g transform=\"translate(147.373765 127.47848) scale(0.08 -0.08)\">\n",
       "       <defs>\n",
       "        <path id=\"CMR17-31\" d=\"M 1702 4083 \n",
       "C 1702 4217 1696 4224 1606 4224 \n",
       "C 1357 3927 979 3833 621 3820 \n",
       "C 602 3820 570 3820 563 3808 \n",
       "C 557 3795 557 3782 557 3648 \n",
       "C 755 3648 1088 3686 1344 3839 \n",
       "L 1344 467 \n",
       "C 1344 243 1331 166 781 166 \n",
       "L 589 166 \n",
       "L 589 0 \n",
       "C 896 6 1216 12 1523 12 \n",
       "C 1830 12 2150 6 2458 0 \n",
       "L 2458 166 \n",
       "L 2266 166 \n",
       "C 1715 166 1702 236 1702 467 \n",
       "L 1702 4083 \n",
       "z\n",
       "\" transform=\"scale(0.015625)\"/>\n",
       "       </defs>\n",
       "       <use xlink:href=\"#CMR17-31\" transform=\"scale(0.996264)\"/>\n",
       "       <use xlink:href=\"#CMR17-30\" transform=\"translate(45.690477 0) scale(0.996264)\"/>\n",
       "       <use xlink:href=\"#CMR17-30\" transform=\"translate(91.380954 0) scale(0.996264)\"/>\n",
       "      </g>\n",
       "     </g>\n",
       "    </g>\n",
       "    <g id=\"text_6\">\n",
       "     <!-- $x$ [mm] -->\n",
       "     <g transform=\"translate(79.009638 140.500206) scale(0.1 -0.1)\">\n",
       "      <defs>\n",
       "       <path id=\"CMMI12-78\" d=\"M 3034 2624 \n",
       "C 2829 2585 2752 2431 2752 2310 \n",
       "C 2752 2156 2874 2105 2963 2105 \n",
       "C 3155 2105 3290 2271 3290 2444 \n",
       "C 3290 2694 2982 2816 2714 2816 \n",
       "C 2323 2816 2106 2451 2048 2329 \n",
       "C 1901 2790 1504 2816 1389 2816 \n",
       "C 736 2816 390 1993 390 1849 \n",
       "C 390 1823 416 1790 461 1790 \n",
       "C 512 1790 525 1829 538 1855 \n",
       "C 755 2572 1184 2687 1370 2687 \n",
       "C 1658 2687 1715 2438 1715 2284 \n",
       "C 1715 2143 1677 1993 1600 1678 \n",
       "L 1382 778 \n",
       "C 1286 390 1101 64 762 64 \n",
       "C 730 64 570 64 435 126 \n",
       "C 666 166 717 358 717 435 \n",
       "C 717 563 621 640 499 640 \n",
       "C 346 640 179 505 179 300 \n",
       "C 179 57 480 -64 755 -64 \n",
       "C 1062 -64 1280 153 1414 415 \n",
       "C 1517 64 1837 -64 2074 -64 \n",
       "C 2726 -64 3072 751 3072 896 \n",
       "C 3072 929 3046 955 3008 955 \n",
       "C 2950 955 2944 922 2925 870 \n",
       "C 2752 300 2381 64 2093 64 \n",
       "C 1869 64 1747 204 1747 467 \n",
       "C 1747 607 1773 712 1875 1146 \n",
       "L 2099 2039 \n",
       "C 2195 2425 2413 2687 2707 2687 \n",
       "C 2720 2687 2899 2687 3034 2624 \n",
       "z\n",
       "\" transform=\"scale(0.015625)\"/>\n",
       "       <path id=\"CMR17-5b\" d=\"M 1504 -1600 \n",
       "L 1504 -1376 \n",
       "L 902 -1376 \n",
       "L 902 4575 \n",
       "L 1504 4575 \n",
       "L 1504 4800 \n",
       "L 678 4800 \n",
       "L 678 -1600 \n",
       "L 1504 -1600 \n",
       "z\n",
       "\" transform=\"scale(0.015625)\"/>\n",
       "       <path id=\"CMR17-6d\" d=\"M 4326 1954 \n",
       "C 4326 2276 4269 2816 3507 2816 \n",
       "C 3072 2816 2771 2520 2656 2173 \n",
       "L 2650 2173 \n",
       "C 2573 2700 2195 2816 1837 2816 \n",
       "C 1331 2816 1069 2424 973 2166 \n",
       "L 966 2166 \n",
       "L 966 2816 \n",
       "L 211 2745 \n",
       "L 211 2578 \n",
       "C 589 2578 646 2540 646 2231 \n",
       "L 646 443 \n",
       "C 646 198 621 166 211 166 \n",
       "L 211 0 \n",
       "C 365 12 646 12 813 12 \n",
       "C 979 12 1267 12 1421 0 \n",
       "L 1421 166 \n",
       "C 1011 166 986 192 986 443 \n",
       "L 986 1678 \n",
       "C 986 2269 1344 2713 1792 2713 \n",
       "C 2266 2713 2317 2289 2317 1980 \n",
       "L 2317 443 \n",
       "C 2317 198 2291 166 1882 166 \n",
       "L 1882 0 \n",
       "C 2035 12 2317 12 2483 12 \n",
       "C 2650 12 2938 12 3091 0 \n",
       "L 3091 166 \n",
       "C 2682 166 2656 192 2656 443 \n",
       "L 2656 1678 \n",
       "C 2656 2269 3014 2713 3462 2713 \n",
       "C 3936 2713 3987 2289 3987 1980 \n",
       "L 3987 443 \n",
       "C 3987 198 3962 166 3552 166 \n",
       "L 3552 0 \n",
       "C 3706 12 3987 12 4154 12 \n",
       "C 4320 12 4608 12 4762 0 \n",
       "L 4762 166 \n",
       "C 4352 166 4326 192 4326 443 \n",
       "L 4326 1954 \n",
       "z\n",
       "\" transform=\"scale(0.015625)\"/>\n",
       "       <path id=\"CMR17-5d\" d=\"M 915 4800 \n",
       "L 90 4800 \n",
       "L 90 4575 \n",
       "L 691 4575 \n",
       "L 691 -1376 \n",
       "L 90 -1376 \n",
       "L 90 -1600 \n",
       "L 915 -1600 \n",
       "L 915 4800 \n",
       "z\n",
       "\" transform=\"scale(0.015625)\"/>\n",
       "      </defs>\n",
       "      <use xlink:href=\"#CMMI12-78\" transform=\"scale(0.996264)\"/>\n",
       "      <use xlink:href=\"#CMR17-5b\" transform=\"translate(85.510026 0) scale(0.996264)\"/>\n",
       "      <use xlink:href=\"#CMR17-6d\" transform=\"translate(110.381084 0) scale(0.996264)\"/>\n",
       "      <use xlink:href=\"#CMR17-6d\" transform=\"translate(187.300674 0) scale(0.996264)\"/>\n",
       "      <use xlink:href=\"#CMR17-5d\" transform=\"translate(264.220264 0) scale(0.996264)\"/>\n",
       "     </g>\n",
       "    </g>\n",
       "   </g>\n",
       "   <g id=\"matplotlib.axis_2\">\n",
       "    <g id=\"ytick_1\">\n",
       "     <g id=\"line2d_11\">\n",
       "      <path d=\"M 29.534462 113.793762 \n",
       "L 159.638876 113.793762 \n",
       "\" clip-path=\"url(#p546273d7e6)\" style=\"fill: none; stroke-dasharray: 0.74,0.32; stroke-dashoffset: 0; stroke: #808080; stroke-opacity: 0.7; stroke-width: 0.2\"/>\n",
       "     </g>\n",
       "     <g id=\"line2d_12\">\n",
       "      <defs>\n",
       "       <path id=\"ma376f7b265\" d=\"M 0 0 \n",
       "L 3.5 0 \n",
       "\" style=\"stroke: #000000; stroke-width: 0.5\"/>\n",
       "      </defs>\n",
       "      <g>\n",
       "       <use xlink:href=\"#ma376f7b265\" x=\"29.534462\" y=\"113.793762\" style=\"stroke: #000000; stroke-width: 0.5\"/>\n",
       "      </g>\n",
       "     </g>\n",
       "     <g id=\"text_7\">\n",
       "      <!-- $\\mathdefault{0}$ -->\n",
       "      <g transform=\"translate(21.800279 116.561163) scale(0.08 -0.08)\">\n",
       "       <use xlink:href=\"#CMR17-30\" transform=\"scale(0.996264)\"/>\n",
       "      </g>\n",
       "     </g>\n",
       "    </g>\n",
       "    <g id=\"ytick_2\">\n",
       "     <g id=\"line2d_13\">\n",
       "      <path d=\"M 29.534462 81.162766 \n",
       "L 159.638876 81.162766 \n",
       "\" clip-path=\"url(#p546273d7e6)\" style=\"fill: none; stroke-dasharray: 0.74,0.32; stroke-dashoffset: 0; stroke: #808080; stroke-opacity: 0.7; stroke-width: 0.2\"/>\n",
       "     </g>\n",
       "     <g id=\"line2d_14\">\n",
       "      <g>\n",
       "       <use xlink:href=\"#ma376f7b265\" x=\"29.534462\" y=\"81.162766\" style=\"stroke: #000000; stroke-width: 0.5\"/>\n",
       "      </g>\n",
       "     </g>\n",
       "     <g id=\"text_8\">\n",
       "      <!-- $\\mathdefault{2}$ -->\n",
       "      <g transform=\"translate(21.800279 83.930167) scale(0.08 -0.08)\">\n",
       "       <use xlink:href=\"#CMR17-32\" transform=\"scale(0.996264)\"/>\n",
       "      </g>\n",
       "     </g>\n",
       "    </g>\n",
       "    <g id=\"ytick_3\">\n",
       "     <g id=\"line2d_15\">\n",
       "      <path d=\"M 29.534462 48.531771 \n",
       "L 159.638876 48.531771 \n",
       "\" clip-path=\"url(#p546273d7e6)\" style=\"fill: none; stroke-dasharray: 0.74,0.32; stroke-dashoffset: 0; stroke: #808080; stroke-opacity: 0.7; stroke-width: 0.2\"/>\n",
       "     </g>\n",
       "     <g id=\"line2d_16\">\n",
       "      <g>\n",
       "       <use xlink:href=\"#ma376f7b265\" x=\"29.534462\" y=\"48.531771\" style=\"stroke: #000000; stroke-width: 0.5\"/>\n",
       "      </g>\n",
       "     </g>\n",
       "     <g id=\"text_9\">\n",
       "      <!-- $\\mathdefault{4}$ -->\n",
       "      <g transform=\"translate(21.800279 51.299172) scale(0.08 -0.08)\">\n",
       "       <defs>\n",
       "        <path id=\"CMR17-34\" d=\"M 2150 4147 \n",
       "C 2150 4281 2144 4288 2029 4288 \n",
       "L 128 1254 \n",
       "L 128 1088 \n",
       "L 1779 1088 \n",
       "L 1779 460 \n",
       "C 1779 230 1766 166 1318 166 \n",
       "L 1197 166 \n",
       "L 1197 0 \n",
       "C 1402 12 1747 12 1965 12 \n",
       "C 2182 12 2528 12 2733 0 \n",
       "L 2733 166 \n",
       "L 2611 166 \n",
       "C 2163 166 2150 230 2150 460 \n",
       "L 2150 1088 \n",
       "L 2803 1088 \n",
       "L 2803 1254 \n",
       "L 2150 1254 \n",
       "L 2150 4147 \n",
       "z\n",
       "M 1798 3723 \n",
       "L 1798 1254 \n",
       "L 256 1254 \n",
       "L 1798 3723 \n",
       "z\n",
       "\" transform=\"scale(0.015625)\"/>\n",
       "       </defs>\n",
       "       <use xlink:href=\"#CMR17-34\" transform=\"scale(0.996264)\"/>\n",
       "      </g>\n",
       "     </g>\n",
       "    </g>\n",
       "    <g id=\"text_10\">\n",
       "     <!-- $\\sigma$ [N/mm$^2$] -->\n",
       "     <g transform=\"translate(15.309619 91.511124) rotate(-90) scale(0.1 -0.1)\">\n",
       "      <defs>\n",
       "       <path id=\"CMMI12-1b\" d=\"M 3251 2406 \n",
       "C 3334 2406 3546 2406 3546 2611 \n",
       "C 3546 2752 3424 2752 3309 2752 \n",
       "L 1894 2752 \n",
       "C 934 2752 243 1685 243 932 \n",
       "C 243 389 595 -64 1171 -64 \n",
       "C 1926 -64 2752 746 2752 1704 \n",
       "C 2752 1953 2694 2195 2541 2406 \n",
       "L 3251 2406 \n",
       "z\n",
       "M 1178 64 \n",
       "C 851 64 614 312 614 753 \n",
       "C 614 1136 845 2406 1786 2406 \n",
       "C 2061 2406 2368 2272 2368 1780 \n",
       "C 2368 1557 2266 1021 2042 651 \n",
       "C 1811 274 1466 64 1178 64 \n",
       "z\n",
       "\" transform=\"scale(0.015625)\"/>\n",
       "       <path id=\"CMR17-4e\" d=\"M 1312 4275 \n",
       "C 1267 4345 1261 4352 1139 4352 \n",
       "L 326 4352 \n",
       "L 326 4185 \n",
       "L 448 4185 \n",
       "C 704 4185 819 4153 838 4147 \n",
       "L 838 624 \n",
       "C 838 465 838 166 326 166 \n",
       "L 326 0 \n",
       "C 474 12 742 12 902 12 \n",
       "C 1062 12 1331 12 1478 0 \n",
       "L 1478 166 \n",
       "C 966 166 966 465 966 624 \n",
       "L 966 4057 \n",
       "C 1011 4019 1011 4007 1056 3943 \n",
       "L 3430 76 \n",
       "C 3475 0 3494 0 3526 0 \n",
       "C 3590 0 3590 19 3590 140 \n",
       "L 3590 3726 \n",
       "C 3590 3885 3590 4185 4102 4185 \n",
       "L 4102 4352 \n",
       "C 3955 4339 3686 4339 3526 4339 \n",
       "C 3366 4339 3098 4339 2950 4352 \n",
       "L 2950 4185 \n",
       "C 3462 4185 3462 3885 3462 3726 \n",
       "L 3462 777 \n",
       "L 1312 4275 \n",
       "z\n",
       "\" transform=\"scale(0.015625)\"/>\n",
       "       <path id=\"CMR17-2f\" d=\"M 2605 4575 \n",
       "C 2637 4658 2637 4671 2637 4684 \n",
       "C 2637 4761 2579 4800 2528 4800 \n",
       "C 2451 4800 2426 4748 2400 4671 \n",
       "L 326 -1376 \n",
       "C 294 -1460 294 -1472 294 -1485 \n",
       "C 294 -1562 352 -1600 403 -1600 \n",
       "C 480 -1600 506 -1549 531 -1472 \n",
       "L 2605 4575 \n",
       "z\n",
       "\" transform=\"scale(0.015625)\"/>\n",
       "      </defs>\n",
       "      <use xlink:href=\"#CMMI12-1b\" transform=\"scale(0.996264)\"/>\n",
       "      <use xlink:href=\"#CMR17-5b\" transform=\"translate(89.09602 0) scale(0.996264)\"/>\n",
       "      <use xlink:href=\"#CMR17-4e\" transform=\"translate(113.967078 0) scale(0.996264)\"/>\n",
       "      <use xlink:href=\"#CMR17-2f\" transform=\"translate(183.039508 0) scale(0.996264)\"/>\n",
       "      <use xlink:href=\"#CMR17-6d\" transform=\"translate(228.729985 0) scale(0.996264)\"/>\n",
       "      <use xlink:href=\"#CMR17-6d\" transform=\"translate(305.649575 0) scale(0.996264)\"/>\n",
       "      <use xlink:href=\"#CMR17-32\" transform=\"translate(382.569165 36.153639) scale(0.697382)\"/>\n",
       "      <use xlink:href=\"#CMR17-5d\" transform=\"translate(415.050479 0) scale(0.996264)\"/>\n",
       "     </g>\n",
       "    </g>\n",
       "    <g id=\"text_11\">\n",
       "     <!-- $\\times\\mathdefault{10^{2}}\\mathdefault{}$ -->\n",
       "     <g transform=\"translate(29.534462 13.145508) scale(0.08 -0.08)\">\n",
       "      <defs>\n",
       "       <path id=\"CMSY10-2\" d=\"M 2490 1775 \n",
       "L 1210 3046 \n",
       "C 1133 3123 1120 3136 1069 3136 \n",
       "C 1005 3136 941 3078 941 3008 \n",
       "C 941 2963 954 2950 1024 2880 \n",
       "L 2304 1596 \n",
       "L 1024 313 \n",
       "C 954 243 941 230 941 185 \n",
       "C 941 115 1005 57 1069 57 \n",
       "C 1120 57 1133 70 1210 147 \n",
       "L 2483 1418 \n",
       "L 3808 95 \n",
       "C 3821 89 3866 57 3904 57 \n",
       "C 3981 57 4032 115 4032 185 \n",
       "C 4032 198 4032 223 4013 255 \n",
       "C 4006 268 2989 1271 2669 1596 \n",
       "L 3840 2765 \n",
       "C 3872 2803 3968 2886 4000 2925 \n",
       "C 4006 2937 4032 2963 4032 3008 \n",
       "C 4032 3078 3981 3136 3904 3136 \n",
       "C 3853 3136 3827 3110 3757 3040 \n",
       "L 2490 1775 \n",
       "z\n",
       "\" transform=\"scale(0.015625)\"/>\n",
       "      </defs>\n",
       "      <use xlink:href=\"#CMSY10-2\" transform=\"scale(0.996264)\"/>\n",
       "      <use xlink:href=\"#CMR17-31\" transform=\"translate(77.487468 0) scale(0.996264)\"/>\n",
       "      <use xlink:href=\"#CMR17-30\" transform=\"translate(123.177945 0) scale(0.996264)\"/>\n",
       "      <use xlink:href=\"#CMR17-32\" transform=\"translate(168.868422 36.153639) scale(0.697382)\"/>\n",
       "     </g>\n",
       "    </g>\n",
       "   </g>\n",
       "   <g id=\"line2d_17\">\n",
       "    <path d=\"M 35.448299 113.793762 \n",
       "L 153.725039 113.793762 \n",
       "L 153.725039 47.799608 \n",
       "L 35.448299 20.795425 \n",
       "L 35.448299 113.793762 \n",
       "\" clip-path=\"url(#p546273d7e6)\" style=\"fill: none; stroke: #000000; stroke-width: 0.7; stroke-linecap: square\"/>\n",
       "   </g>\n",
       "   <g id=\"line2d_18\">\n",
       "    <path d=\"M 91.238537 73.663427 \n",
       "\" clip-path=\"url(#p546273d7e6)\" style=\"fill: none; stroke: #000000; stroke-width: 0.7; stroke-linecap: square\"/>\n",
       "    <defs>\n",
       "     <path id=\"mfd6e675b19\" d=\"M -2.5 0 \n",
       "L 2.5 0 \n",
       "M 0 2.5 \n",
       "L 0 -2.5 \n",
       "\" style=\"stroke: #000000\"/>\n",
       "    </defs>\n",
       "    <g clip-path=\"url(#p546273d7e6)\">\n",
       "     <use xlink:href=\"#mfd6e675b19\" x=\"91.238537\" y=\"73.663427\" style=\"stroke: #000000\"/>\n",
       "    </g>\n",
       "   </g>\n",
       "   <g id=\"patch_3\">\n",
       "    <path d=\"M 29.534462 118.443679 \n",
       "L 29.534462 16.145508 \n",
       "\" style=\"fill: none; stroke: #000000; stroke-width: 0.5; stroke-linejoin: miter; stroke-linecap: square\"/>\n",
       "   </g>\n",
       "   <g id=\"patch_4\">\n",
       "    <path d=\"M 159.638876 118.443679 \n",
       "L 159.638876 16.145508 \n",
       "\" style=\"fill: none; stroke: #000000; stroke-width: 0.5; stroke-linejoin: miter; stroke-linecap: square\"/>\n",
       "   </g>\n",
       "   <g id=\"patch_5\">\n",
       "    <path d=\"M 29.534462 118.443679 \n",
       "L 159.638876 118.443679 \n",
       "\" style=\"fill: none; stroke: #000000; stroke-width: 0.5; stroke-linejoin: miter; stroke-linecap: square\"/>\n",
       "   </g>\n",
       "   <g id=\"patch_6\">\n",
       "    <path d=\"M 29.534462 16.145508 \n",
       "L 159.638876 16.145508 \n",
       "\" style=\"fill: none; stroke: #000000; stroke-width: 0.5; stroke-linejoin: miter; stroke-linecap: square\"/>\n",
       "   </g>\n",
       "   <g id=\"text_12\">\n",
       "    <!-- 245.96 N/mm$^2$ -->\n",
       "    <g transform=\"translate(94.028049 69.664382) scale(0.08 -0.08)\">\n",
       "     <defs>\n",
       "      <path id=\"CMR17-2e\" d=\"M 1062 262 \n",
       "C 1062 422 934 524 800 524 \n",
       "C 672 524 538 422 538 262 \n",
       "C 538 102 666 0 800 0 \n",
       "C 928 0 1062 102 1062 262 \n",
       "z\n",
       "\" transform=\"scale(0.015625)\"/>\n",
       "      <path id=\"CMR17-39\" d=\"M 2253 1871 \n",
       "C 2253 448 1670 25 1190 25 \n",
       "C 1043 25 685 43 538 281 \n",
       "C 704 256 826 345 826 505 \n",
       "C 826 678 685 736 595 736 \n",
       "C 538 736 365 710 365 492 \n",
       "C 365 68 742 -128 1203 -128 \n",
       "C 1939 -128 2688 665 2688 2090 \n",
       "C 2688 3857 1971 4224 1485 4224 \n",
       "C 851 4224 243 3664 243 2800 \n",
       "C 243 2000 762 1408 1414 1408 \n",
       "C 1952 1408 2189 1910 2253 2122 \n",
       "L 2253 1871 \n",
       "z\n",
       "M 1427 1510 \n",
       "C 1254 1510 1011 1542 813 1929 \n",
       "C 678 2181 678 2477 678 2793 \n",
       "C 678 3174 678 3438 858 3722 \n",
       "C 947 3857 1114 4076 1485 4076 \n",
       "C 2240 4076 2240 2909 2240 2651 \n",
       "C 2240 2193 2035 1510 1427 1510 \n",
       "z\n",
       "\" transform=\"scale(0.015625)\"/>\n",
       "      <path id=\"CMR17-36\" d=\"M 678 2198 \n",
       "C 678 3712 1395 4076 1811 4076 \n",
       "C 1946 4076 2272 4049 2400 3782 \n",
       "C 2298 3782 2106 3782 2106 3558 \n",
       "C 2106 3385 2246 3328 2336 3328 \n",
       "C 2394 3328 2566 3353 2566 3571 \n",
       "C 2566 3987 2246 4224 1805 4224 \n",
       "C 1043 4224 243 3411 243 2011 \n",
       "C 243 257 966 -128 1478 -128 \n",
       "C 2099 -128 2688 431 2688 1295 \n",
       "C 2688 2101 2170 2688 1517 2688 \n",
       "C 1126 2688 838 2430 678 1979 \n",
       "L 678 2198 \n",
       "z\n",
       "M 1478 25 \n",
       "C 691 25 691 1212 691 1450 \n",
       "C 691 1914 909 2585 1504 2585 \n",
       "C 1613 2585 1926 2585 2138 2140 \n",
       "C 2253 1889 2253 1624 2253 1302 \n",
       "C 2253 954 2253 696 2118 438 \n",
       "C 1978 173 1773 25 1478 25 \n",
       "z\n",
       "\" transform=\"scale(0.015625)\"/>\n",
       "     </defs>\n",
       "     <use xlink:href=\"#CMR17-32\" transform=\"scale(0.996264)\"/>\n",
       "     <use xlink:href=\"#CMR17-34\" transform=\"translate(45.690477 0) scale(0.996264)\"/>\n",
       "     <use xlink:href=\"#CMR17-35\" transform=\"translate(91.380954 0) scale(0.996264)\"/>\n",
       "     <use xlink:href=\"#CMR17-2e\" transform=\"translate(137.071431 0) scale(0.996264)\"/>\n",
       "     <use xlink:href=\"#CMR17-39\" transform=\"translate(161.94249 0) scale(0.996264)\"/>\n",
       "     <use xlink:href=\"#CMR17-36\" transform=\"translate(207.632967 0) scale(0.996264)\"/>\n",
       "     <use xlink:href=\"#CMR17-4e\" transform=\"translate(283.39941 0) scale(0.996264)\"/>\n",
       "     <use xlink:href=\"#CMR17-2f\" transform=\"translate(352.47184 0) scale(0.996264)\"/>\n",
       "     <use xlink:href=\"#CMR17-6d\" transform=\"translate(398.162317 0) scale(0.996264)\"/>\n",
       "     <use xlink:href=\"#CMR17-6d\" transform=\"translate(475.081907 0) scale(0.996264)\"/>\n",
       "     <use xlink:href=\"#CMR17-32\" transform=\"translate(552.001497 36.153639) scale(0.697382)\"/>\n",
       "    </g>\n",
       "   </g>\n",
       "  </g>\n",
       " </g>\n",
       " <defs>\n",
       "  <clipPath id=\"p546273d7e6\">\n",
       "   <rect x=\"29.534462\" y=\"16.145508\" width=\"130.104414\" height=\"102.29817\"/>\n",
       "  </clipPath>\n",
       " </defs>\n",
       "</svg>\n"
      ],
      "text/plain": [
       "<Figure size 236.22x212.598 with 1 Axes>"
      ]
     },
     "metadata": {},
     "output_type": "display_data"
    },
    {
     "data": {
      "image/svg+xml": [
       "<?xml version=\"1.0\" encoding=\"utf-8\" standalone=\"no\"?>\n",
       "<!DOCTYPE svg PUBLIC \"-//W3C//DTD SVG 1.1//EN\"\n",
       "  \"http://www.w3.org/Graphics/SVG/1.1/DTD/svg11.dtd\">\n",
       "<svg xmlns:xlink=\"http://www.w3.org/1999/xlink\" width=\"167.24733pt\" height=\"150.190866pt\" viewBox=\"0 0 167.24733 150.190866\" xmlns=\"http://www.w3.org/2000/svg\" version=\"1.1\">\n",
       " <metadata>\n",
       "  <rdf:RDF xmlns:dc=\"http://purl.org/dc/elements/1.1/\" xmlns:cc=\"http://creativecommons.org/ns#\" xmlns:rdf=\"http://www.w3.org/1999/02/22-rdf-syntax-ns#\">\n",
       "   <cc:Work>\n",
       "    <dc:type rdf:resource=\"http://purl.org/dc/dcmitype/StillImage\"/>\n",
       "    <dc:date>2024-10-02T16:04:27.858155</dc:date>\n",
       "    <dc:format>image/svg+xml</dc:format>\n",
       "    <dc:creator>\n",
       "     <cc:Agent>\n",
       "      <dc:title>Matplotlib v3.9.1, https://matplotlib.org/</dc:title>\n",
       "     </cc:Agent>\n",
       "    </dc:creator>\n",
       "   </cc:Work>\n",
       "  </rdf:RDF>\n",
       " </metadata>\n",
       " <defs>\n",
       "  <style type=\"text/css\">*{stroke-linejoin: round; stroke-linecap: butt}</style>\n",
       " </defs>\n",
       " <g id=\"figure_1\">\n",
       "  <g id=\"patch_1\">\n",
       "   <path d=\"M 0 150.190866 \n",
       "L 167.24733 150.190866 \n",
       "L 167.24733 0 \n",
       "L 0 0 \n",
       "z\n",
       "\" style=\"fill: #ffffff\"/>\n",
       "  </g>\n",
       "  <g id=\"axes_1\">\n",
       "   <g id=\"patch_2\">\n",
       "    <path d=\"M 28.896823 118.443679 \n",
       "L 159.638876 118.443679 \n",
       "L 159.638876 16.145508 \n",
       "L 28.896823 16.145508 \n",
       "z\n",
       "\" style=\"fill: #ffffff\"/>\n",
       "   </g>\n",
       "   <g id=\"matplotlib.axis_1\">\n",
       "    <g id=\"xtick_1\">\n",
       "     <g id=\"line2d_1\">\n",
       "      <path d=\"M 34.839644 118.443679 \n",
       "L 34.839644 16.145508 \n",
       "\" clip-path=\"url(#pdbf0166320)\" style=\"fill: none; stroke-dasharray: 0.74,0.32; stroke-dashoffset: 0; stroke: #808080; stroke-opacity: 0.7; stroke-width: 0.2\"/>\n",
       "     </g>\n",
       "     <g id=\"line2d_2\">\n",
       "      <defs>\n",
       "       <path id=\"m74ad8fe6f5\" d=\"M 0 0 \n",
       "L 0 -3.5 \n",
       "\" style=\"stroke: #000000; stroke-width: 0.5\"/>\n",
       "      </defs>\n",
       "      <g>\n",
       "       <use xlink:href=\"#m74ad8fe6f5\" x=\"34.839644\" y=\"118.443679\" style=\"stroke: #000000; stroke-width: 0.5\"/>\n",
       "      </g>\n",
       "     </g>\n",
       "     <g id=\"text_1\">\n",
       "      <!-- $\\mathdefault{0}$ -->\n",
       "      <g transform=\"translate(32.722552 127.47848) scale(0.08 -0.08)\">\n",
       "       <defs>\n",
       "        <path id=\"CMR17-30\" d=\"M 2688 2038 \n",
       "C 2688 2430 2682 3099 2413 3613 \n",
       "C 2176 4063 1798 4224 1466 4224 \n",
       "C 1158 4224 768 4082 525 3620 \n",
       "C 269 3137 243 2539 243 2038 \n",
       "C 243 1671 250 1112 448 623 \n",
       "C 723 -39 1216 -128 1466 -128 \n",
       "C 1760 -128 2208 -7 2470 604 \n",
       "C 2662 1048 2688 1568 2688 2038 \n",
       "z\n",
       "M 1466 -26 \n",
       "C 1056 -26 813 328 723 816 \n",
       "C 653 1196 653 1749 653 2109 \n",
       "C 653 2604 653 3015 736 3407 \n",
       "C 858 3954 1216 4121 1466 4121 \n",
       "C 1728 4121 2067 3947 2189 3420 \n",
       "C 2272 3054 2278 2623 2278 2109 \n",
       "C 2278 1691 2278 1176 2202 797 \n",
       "C 2067 96 1690 -26 1466 -26 \n",
       "z\n",
       "\" transform=\"scale(0.015625)\"/>\n",
       "       </defs>\n",
       "       <use xlink:href=\"#CMR17-30\" transform=\"scale(0.996264)\"/>\n",
       "      </g>\n",
       "     </g>\n",
       "    </g>\n",
       "    <g id=\"xtick_2\">\n",
       "     <g id=\"line2d_3\">\n",
       "      <path d=\"M 64.553747 118.443679 \n",
       "L 64.553747 16.145508 \n",
       "\" clip-path=\"url(#pdbf0166320)\" style=\"fill: none; stroke-dasharray: 0.74,0.32; stroke-dashoffset: 0; stroke: #808080; stroke-opacity: 0.7; stroke-width: 0.2\"/>\n",
       "     </g>\n",
       "     <g id=\"line2d_4\">\n",
       "      <g>\n",
       "       <use xlink:href=\"#m74ad8fe6f5\" x=\"64.553747\" y=\"118.443679\" style=\"stroke: #000000; stroke-width: 0.5\"/>\n",
       "      </g>\n",
       "     </g>\n",
       "     <g id=\"text_2\">\n",
       "      <!-- $\\mathdefault{25}$ -->\n",
       "      <g transform=\"translate(60.319564 127.47848) scale(0.08 -0.08)\">\n",
       "       <defs>\n",
       "        <path id=\"CMR17-32\" d=\"M 2669 990 \n",
       "L 2554 990 \n",
       "C 2490 537 2438 460 2413 422 \n",
       "C 2381 371 1920 371 1830 371 \n",
       "L 602 371 \n",
       "C 832 620 1280 1073 1824 1596 \n",
       "C 2214 1966 2669 2400 2669 3033 \n",
       "C 2669 3788 2067 4224 1395 4224 \n",
       "C 691 4224 262 3603 262 3027 \n",
       "C 262 2777 448 2745 525 2745 \n",
       "C 589 2745 781 2783 781 3007 \n",
       "C 781 3206 614 3264 525 3264 \n",
       "C 486 3264 448 3257 422 3244 \n",
       "C 544 3788 915 4057 1306 4057 \n",
       "C 1862 4057 2227 3616 2227 3033 \n",
       "C 2227 2477 1901 1998 1536 1583 \n",
       "L 262 147 \n",
       "L 262 0 \n",
       "L 2515 0 \n",
       "L 2669 990 \n",
       "z\n",
       "\" transform=\"scale(0.015625)\"/>\n",
       "        <path id=\"CMR17-35\" d=\"M 730 3750 \n",
       "C 794 3724 1056 3641 1325 3641 \n",
       "C 1920 3641 2246 3961 2432 4140 \n",
       "C 2432 4191 2432 4224 2394 4224 \n",
       "C 2387 4224 2374 4224 2323 4198 \n",
       "C 2099 4102 1837 4032 1517 4032 \n",
       "C 1325 4032 1037 4055 723 4191 \n",
       "C 653 4224 640 4224 634 4224 \n",
       "C 602 4224 595 4217 595 4090 \n",
       "L 595 2231 \n",
       "C 595 2113 595 2080 659 2080 \n",
       "C 691 2080 704 2093 736 2139 \n",
       "C 941 2435 1222 2560 1542 2560 \n",
       "C 1766 2560 2246 2415 2246 1293 \n",
       "C 2246 1087 2246 716 2054 422 \n",
       "C 1894 159 1645 25 1370 25 \n",
       "C 947 25 518 319 403 812 \n",
       "C 429 806 480 793 506 793 \n",
       "C 589 793 749 838 749 1036 \n",
       "C 749 1209 627 1280 506 1280 \n",
       "C 358 1280 262 1190 262 1011 \n",
       "C 262 454 704 -128 1382 -128 \n",
       "C 2042 -128 2669 441 2669 1267 \n",
       "C 2669 2054 2170 2662 1549 2662 \n",
       "C 1222 2662 947 2540 730 2304 \n",
       "L 730 3750 \n",
       "z\n",
       "\" transform=\"scale(0.015625)\"/>\n",
       "       </defs>\n",
       "       <use xlink:href=\"#CMR17-32\" transform=\"scale(0.996264)\"/>\n",
       "       <use xlink:href=\"#CMR17-35\" transform=\"translate(45.690477 0) scale(0.996264)\"/>\n",
       "      </g>\n",
       "     </g>\n",
       "    </g>\n",
       "    <g id=\"xtick_3\">\n",
       "     <g id=\"line2d_5\">\n",
       "      <path d=\"M 94.267849 118.443679 \n",
       "L 94.267849 16.145508 \n",
       "\" clip-path=\"url(#pdbf0166320)\" style=\"fill: none; stroke-dasharray: 0.74,0.32; stroke-dashoffset: 0; stroke: #808080; stroke-opacity: 0.7; stroke-width: 0.2\"/>\n",
       "     </g>\n",
       "     <g id=\"line2d_6\">\n",
       "      <g>\n",
       "       <use xlink:href=\"#m74ad8fe6f5\" x=\"94.267849\" y=\"118.443679\" style=\"stroke: #000000; stroke-width: 0.5\"/>\n",
       "      </g>\n",
       "     </g>\n",
       "     <g id=\"text_3\">\n",
       "      <!-- $\\mathdefault{50}$ -->\n",
       "      <g transform=\"translate(90.033667 127.47848) scale(0.08 -0.08)\">\n",
       "       <use xlink:href=\"#CMR17-35\" transform=\"scale(0.996264)\"/>\n",
       "       <use xlink:href=\"#CMR17-30\" transform=\"translate(45.690477 0) scale(0.996264)\"/>\n",
       "      </g>\n",
       "     </g>\n",
       "    </g>\n",
       "    <g id=\"xtick_4\">\n",
       "     <g id=\"line2d_7\">\n",
       "      <path d=\"M 123.981952 118.443679 \n",
       "L 123.981952 16.145508 \n",
       "\" clip-path=\"url(#pdbf0166320)\" style=\"fill: none; stroke-dasharray: 0.74,0.32; stroke-dashoffset: 0; stroke: #808080; stroke-opacity: 0.7; stroke-width: 0.2\"/>\n",
       "     </g>\n",
       "     <g id=\"line2d_8\">\n",
       "      <g>\n",
       "       <use xlink:href=\"#m74ad8fe6f5\" x=\"123.981952\" y=\"118.443679\" style=\"stroke: #000000; stroke-width: 0.5\"/>\n",
       "      </g>\n",
       "     </g>\n",
       "     <g id=\"text_4\">\n",
       "      <!-- $\\mathdefault{75}$ -->\n",
       "      <g transform=\"translate(119.74777 127.47848) scale(0.08 -0.08)\">\n",
       "       <defs>\n",
       "        <path id=\"CMR17-37\" d=\"M 2886 3955 \n",
       "L 2886 4096 \n",
       "L 1382 4096 \n",
       "C 634 4096 621 4166 595 4288 \n",
       "L 480 4288 \n",
       "L 294 3104 \n",
       "L 410 3104 \n",
       "C 429 3226 474 3552 550 3673 \n",
       "C 589 3724 1062 3724 1171 3724 \n",
       "L 2579 3724 \n",
       "L 1869 2670 \n",
       "C 1395 1961 1069 1003 1069 166 \n",
       "C 1069 89 1069 -128 1299 -128 \n",
       "C 1530 -128 1530 89 1530 172 \n",
       "L 1530 466 \n",
       "C 1530 1514 1709 2204 2003 2644 \n",
       "L 2886 3955 \n",
       "z\n",
       "\" transform=\"scale(0.015625)\"/>\n",
       "       </defs>\n",
       "       <use xlink:href=\"#CMR17-37\" transform=\"scale(0.996264)\"/>\n",
       "       <use xlink:href=\"#CMR17-35\" transform=\"translate(45.690477 0) scale(0.996264)\"/>\n",
       "      </g>\n",
       "     </g>\n",
       "    </g>\n",
       "    <g id=\"xtick_5\">\n",
       "     <g id=\"line2d_9\">\n",
       "      <path d=\"M 153.696055 118.443679 \n",
       "L 153.696055 16.145508 \n",
       "\" clip-path=\"url(#pdbf0166320)\" style=\"fill: none; stroke-dasharray: 0.74,0.32; stroke-dashoffset: 0; stroke: #808080; stroke-opacity: 0.7; stroke-width: 0.2\"/>\n",
       "     </g>\n",
       "     <g id=\"line2d_10\">\n",
       "      <g>\n",
       "       <use xlink:href=\"#m74ad8fe6f5\" x=\"153.696055\" y=\"118.443679\" style=\"stroke: #000000; stroke-width: 0.5\"/>\n",
       "      </g>\n",
       "     </g>\n",
       "     <g id=\"text_5\">\n",
       "      <!-- $\\mathdefault{100}$ -->\n",
       "      <g transform=\"translate(147.344781 127.47848) scale(0.08 -0.08)\">\n",
       "       <defs>\n",
       "        <path id=\"CMR17-31\" d=\"M 1702 4083 \n",
       "C 1702 4217 1696 4224 1606 4224 \n",
       "C 1357 3927 979 3833 621 3820 \n",
       "C 602 3820 570 3820 563 3808 \n",
       "C 557 3795 557 3782 557 3648 \n",
       "C 755 3648 1088 3686 1344 3839 \n",
       "L 1344 467 \n",
       "C 1344 243 1331 166 781 166 \n",
       "L 589 166 \n",
       "L 589 0 \n",
       "C 896 6 1216 12 1523 12 \n",
       "C 1830 12 2150 6 2458 0 \n",
       "L 2458 166 \n",
       "L 2266 166 \n",
       "C 1715 166 1702 236 1702 467 \n",
       "L 1702 4083 \n",
       "z\n",
       "\" transform=\"scale(0.015625)\"/>\n",
       "       </defs>\n",
       "       <use xlink:href=\"#CMR17-31\" transform=\"scale(0.996264)\"/>\n",
       "       <use xlink:href=\"#CMR17-30\" transform=\"translate(45.690477 0) scale(0.996264)\"/>\n",
       "       <use xlink:href=\"#CMR17-30\" transform=\"translate(91.380954 0) scale(0.996264)\"/>\n",
       "      </g>\n",
       "     </g>\n",
       "    </g>\n",
       "    <g id=\"text_6\">\n",
       "     <!-- $x$ [mm] -->\n",
       "     <g transform=\"translate(78.690819 140.500206) scale(0.1 -0.1)\">\n",
       "      <defs>\n",
       "       <path id=\"CMMI12-78\" d=\"M 3034 2624 \n",
       "C 2829 2585 2752 2431 2752 2310 \n",
       "C 2752 2156 2874 2105 2963 2105 \n",
       "C 3155 2105 3290 2271 3290 2444 \n",
       "C 3290 2694 2982 2816 2714 2816 \n",
       "C 2323 2816 2106 2451 2048 2329 \n",
       "C 1901 2790 1504 2816 1389 2816 \n",
       "C 736 2816 390 1993 390 1849 \n",
       "C 390 1823 416 1790 461 1790 \n",
       "C 512 1790 525 1829 538 1855 \n",
       "C 755 2572 1184 2687 1370 2687 \n",
       "C 1658 2687 1715 2438 1715 2284 \n",
       "C 1715 2143 1677 1993 1600 1678 \n",
       "L 1382 778 \n",
       "C 1286 390 1101 64 762 64 \n",
       "C 730 64 570 64 435 126 \n",
       "C 666 166 717 358 717 435 \n",
       "C 717 563 621 640 499 640 \n",
       "C 346 640 179 505 179 300 \n",
       "C 179 57 480 -64 755 -64 \n",
       "C 1062 -64 1280 153 1414 415 \n",
       "C 1517 64 1837 -64 2074 -64 \n",
       "C 2726 -64 3072 751 3072 896 \n",
       "C 3072 929 3046 955 3008 955 \n",
       "C 2950 955 2944 922 2925 870 \n",
       "C 2752 300 2381 64 2093 64 \n",
       "C 1869 64 1747 204 1747 467 \n",
       "C 1747 607 1773 712 1875 1146 \n",
       "L 2099 2039 \n",
       "C 2195 2425 2413 2687 2707 2687 \n",
       "C 2720 2687 2899 2687 3034 2624 \n",
       "z\n",
       "\" transform=\"scale(0.015625)\"/>\n",
       "       <path id=\"CMR17-5b\" d=\"M 1504 -1600 \n",
       "L 1504 -1376 \n",
       "L 902 -1376 \n",
       "L 902 4575 \n",
       "L 1504 4575 \n",
       "L 1504 4800 \n",
       "L 678 4800 \n",
       "L 678 -1600 \n",
       "L 1504 -1600 \n",
       "z\n",
       "\" transform=\"scale(0.015625)\"/>\n",
       "       <path id=\"CMR17-6d\" d=\"M 4326 1954 \n",
       "C 4326 2276 4269 2816 3507 2816 \n",
       "C 3072 2816 2771 2520 2656 2173 \n",
       "L 2650 2173 \n",
       "C 2573 2700 2195 2816 1837 2816 \n",
       "C 1331 2816 1069 2424 973 2166 \n",
       "L 966 2166 \n",
       "L 966 2816 \n",
       "L 211 2745 \n",
       "L 211 2578 \n",
       "C 589 2578 646 2540 646 2231 \n",
       "L 646 443 \n",
       "C 646 198 621 166 211 166 \n",
       "L 211 0 \n",
       "C 365 12 646 12 813 12 \n",
       "C 979 12 1267 12 1421 0 \n",
       "L 1421 166 \n",
       "C 1011 166 986 192 986 443 \n",
       "L 986 1678 \n",
       "C 986 2269 1344 2713 1792 2713 \n",
       "C 2266 2713 2317 2289 2317 1980 \n",
       "L 2317 443 \n",
       "C 2317 198 2291 166 1882 166 \n",
       "L 1882 0 \n",
       "C 2035 12 2317 12 2483 12 \n",
       "C 2650 12 2938 12 3091 0 \n",
       "L 3091 166 \n",
       "C 2682 166 2656 192 2656 443 \n",
       "L 2656 1678 \n",
       "C 2656 2269 3014 2713 3462 2713 \n",
       "C 3936 2713 3987 2289 3987 1980 \n",
       "L 3987 443 \n",
       "C 3987 198 3962 166 3552 166 \n",
       "L 3552 0 \n",
       "C 3706 12 3987 12 4154 12 \n",
       "C 4320 12 4608 12 4762 0 \n",
       "L 4762 166 \n",
       "C 4352 166 4326 192 4326 443 \n",
       "L 4326 1954 \n",
       "z\n",
       "\" transform=\"scale(0.015625)\"/>\n",
       "       <path id=\"CMR17-5d\" d=\"M 915 4800 \n",
       "L 90 4800 \n",
       "L 90 4575 \n",
       "L 691 4575 \n",
       "L 691 -1376 \n",
       "L 90 -1376 \n",
       "L 90 -1600 \n",
       "L 915 -1600 \n",
       "L 915 4800 \n",
       "z\n",
       "\" transform=\"scale(0.015625)\"/>\n",
       "      </defs>\n",
       "      <use xlink:href=\"#CMMI12-78\" transform=\"scale(0.996264)\"/>\n",
       "      <use xlink:href=\"#CMR17-5b\" transform=\"translate(85.510026 0) scale(0.996264)\"/>\n",
       "      <use xlink:href=\"#CMR17-6d\" transform=\"translate(110.381084 0) scale(0.996264)\"/>\n",
       "      <use xlink:href=\"#CMR17-6d\" transform=\"translate(187.300674 0) scale(0.996264)\"/>\n",
       "      <use xlink:href=\"#CMR17-5d\" transform=\"translate(264.220264 0) scale(0.996264)\"/>\n",
       "     </g>\n",
       "    </g>\n",
       "   </g>\n",
       "   <g id=\"matplotlib.axis_2\">\n",
       "    <g id=\"ytick_1\">\n",
       "     <g id=\"line2d_11\">\n",
       "      <path d=\"M 28.896823 113.793762 \n",
       "L 159.638876 113.793762 \n",
       "\" clip-path=\"url(#pdbf0166320)\" style=\"fill: none; stroke-dasharray: 0.74,0.32; stroke-dashoffset: 0; stroke: #808080; stroke-opacity: 0.7; stroke-width: 0.2\"/>\n",
       "     </g>\n",
       "     <g id=\"line2d_12\">\n",
       "      <defs>\n",
       "       <path id=\"md79b0bcd29\" d=\"M 0 0 \n",
       "L 3.5 0 \n",
       "\" style=\"stroke: #000000; stroke-width: 0.5\"/>\n",
       "      </defs>\n",
       "      <g>\n",
       "       <use xlink:href=\"#md79b0bcd29\" x=\"28.896823\" y=\"113.793762\" style=\"stroke: #000000; stroke-width: 0.5\"/>\n",
       "      </g>\n",
       "     </g>\n",
       "     <g id=\"text_7\">\n",
       "      <!-- $\\mathdefault{0}$ -->\n",
       "      <g transform=\"translate(21.16264 116.561163) scale(0.08 -0.08)\">\n",
       "       <use xlink:href=\"#CMR17-30\" transform=\"scale(0.996264)\"/>\n",
       "      </g>\n",
       "     </g>\n",
       "    </g>\n",
       "    <g id=\"ytick_2\">\n",
       "     <g id=\"line2d_13\">\n",
       "      <path d=\"M 28.896823 80.346992 \n",
       "L 159.638876 80.346992 \n",
       "\" clip-path=\"url(#pdbf0166320)\" style=\"fill: none; stroke-dasharray: 0.74,0.32; stroke-dashoffset: 0; stroke: #808080; stroke-opacity: 0.7; stroke-width: 0.2\"/>\n",
       "     </g>\n",
       "     <g id=\"line2d_14\">\n",
       "      <g>\n",
       "       <use xlink:href=\"#md79b0bcd29\" x=\"28.896823\" y=\"80.346992\" style=\"stroke: #000000; stroke-width: 0.5\"/>\n",
       "      </g>\n",
       "     </g>\n",
       "     <g id=\"text_8\">\n",
       "      <!-- $\\mathdefault{1}$ -->\n",
       "      <g transform=\"translate(21.16264 83.114392) scale(0.08 -0.08)\">\n",
       "       <use xlink:href=\"#CMR17-31\" transform=\"scale(0.996264)\"/>\n",
       "      </g>\n",
       "     </g>\n",
       "    </g>\n",
       "    <g id=\"ytick_3\">\n",
       "     <g id=\"line2d_15\">\n",
       "      <path d=\"M 28.896823 46.900221 \n",
       "L 159.638876 46.900221 \n",
       "\" clip-path=\"url(#pdbf0166320)\" style=\"fill: none; stroke-dasharray: 0.74,0.32; stroke-dashoffset: 0; stroke: #808080; stroke-opacity: 0.7; stroke-width: 0.2\"/>\n",
       "     </g>\n",
       "     <g id=\"line2d_16\">\n",
       "      <g>\n",
       "       <use xlink:href=\"#md79b0bcd29\" x=\"28.896823\" y=\"46.900221\" style=\"stroke: #000000; stroke-width: 0.5\"/>\n",
       "      </g>\n",
       "     </g>\n",
       "     <g id=\"text_9\">\n",
       "      <!-- $\\mathdefault{2}$ -->\n",
       "      <g transform=\"translate(21.16264 49.667622) scale(0.08 -0.08)\">\n",
       "       <use xlink:href=\"#CMR17-32\" transform=\"scale(0.996264)\"/>\n",
       "      </g>\n",
       "     </g>\n",
       "    </g>\n",
       "    <g id=\"text_10\">\n",
       "     <!-- $\\varepsilon$ [-] -->\n",
       "     <g transform=\"translate(14.67198 75.705755) rotate(-90) scale(0.1 -0.1)\">\n",
       "      <defs>\n",
       "       <path id=\"CMMI12-22\" d=\"M 890 1427 \n",
       "C 1094 1344 1312 1344 1434 1344 \n",
       "C 1600 1344 1933 1344 1933 1554 \n",
       "C 1933 1683 1811 1728 1485 1728 \n",
       "C 1325 1728 1133 1708 909 1612 \n",
       "C 710 1708 634 1853 634 1991 \n",
       "C 634 2379 1261 2604 1830 2604 \n",
       "C 1939 2604 2170 2604 2438 2410 \n",
       "C 2477 2385 2496 2366 2541 2366 \n",
       "C 2618 2366 2701 2448 2701 2523 \n",
       "C 2701 2636 2330 2880 1888 2880 \n",
       "C 1171 2880 493 2454 493 1991 \n",
       "C 493 1759 646 1612 755 1508 \n",
       "C 384 1288 166 953 166 649 \n",
       "C 166 221 563 -128 1178 -128 \n",
       "C 2022 -128 2362 426 2362 513 \n",
       "C 2362 544 2336 568 2304 568 \n",
       "C 2272 568 2259 550 2234 513 \n",
       "C 2163 395 1997 147 1235 147 \n",
       "C 838 147 314 246 314 686 \n",
       "C 314 897 474 1213 890 1427 \n",
       "z\n",
       "M 1088 1517 \n",
       "C 1261 1599 1427 1599 1472 1599 \n",
       "C 1651 1599 1683 1581 1786 1545 \n",
       "C 1677 1472 1664 1472 1434 1472 \n",
       "C 1318 1472 1216 1472 1088 1517 \n",
       "z\n",
       "\" transform=\"scale(0.015625)\"/>\n",
       "       <path id=\"CMR17-2d\" d=\"M 1632 1254 \n",
       "L 1632 1536 \n",
       "L 26 1536 \n",
       "L 26 1254 \n",
       "L 1632 1254 \n",
       "z\n",
       "\" transform=\"scale(0.015625)\"/>\n",
       "      </defs>\n",
       "      <use xlink:href=\"#CMMI12-22\" transform=\"scale(0.996264)\"/>\n",
       "      <use xlink:href=\"#CMR17-5b\" transform=\"translate(75.726159 0) scale(0.996264)\"/>\n",
       "      <use xlink:href=\"#CMR17-2d\" transform=\"translate(100.597217 0) scale(0.996264)\"/>\n",
       "      <use xlink:href=\"#CMR17-5d\" transform=\"translate(130.673184 0) scale(0.996264)\"/>\n",
       "     </g>\n",
       "    </g>\n",
       "    <g id=\"text_11\">\n",
       "     <!-- $\\times\\mathdefault{10^{−3}}\\mathdefault{}$ -->\n",
       "     <g transform=\"translate(28.896823 13.145508) scale(0.08 -0.08)\">\n",
       "      <defs>\n",
       "       <path id=\"CMSY10-2\" d=\"M 2490 1775 \n",
       "L 1210 3046 \n",
       "C 1133 3123 1120 3136 1069 3136 \n",
       "C 1005 3136 941 3078 941 3008 \n",
       "C 941 2963 954 2950 1024 2880 \n",
       "L 2304 1596 \n",
       "L 1024 313 \n",
       "C 954 243 941 230 941 185 \n",
       "C 941 115 1005 57 1069 57 \n",
       "C 1120 57 1133 70 1210 147 \n",
       "L 2483 1418 \n",
       "L 3808 95 \n",
       "C 3821 89 3866 57 3904 57 \n",
       "C 3981 57 4032 115 4032 185 \n",
       "C 4032 198 4032 223 4013 255 \n",
       "C 4006 268 2989 1271 2669 1596 \n",
       "L 3840 2765 \n",
       "C 3872 2803 3968 2886 4000 2925 \n",
       "C 4006 2937 4032 2963 4032 3008 \n",
       "C 4032 3078 3981 3136 3904 3136 \n",
       "C 3853 3136 3827 3110 3757 3040 \n",
       "L 2490 1775 \n",
       "z\n",
       "\" transform=\"scale(0.015625)\"/>\n",
       "       <path id=\"CMSY10-0\" d=\"M 4218 1472 \n",
       "C 4326 1472 4442 1472 4442 1600 \n",
       "C 4442 1728 4326 1728 4218 1728 \n",
       "L 755 1728 \n",
       "C 646 1728 531 1728 531 1600 \n",
       "C 531 1472 646 1472 755 1472 \n",
       "L 4218 1472 \n",
       "z\n",
       "\" transform=\"scale(0.015625)\"/>\n",
       "       <path id=\"CMR17-33\" d=\"M 1414 2176 \n",
       "C 1984 2176 2234 1673 2234 1094 \n",
       "C 2234 322 1824 25 1453 25 \n",
       "C 1114 25 563 193 390 691 \n",
       "C 422 678 454 678 486 678 \n",
       "C 640 678 755 780 755 947 \n",
       "C 755 1132 614 1216 486 1216 \n",
       "C 378 1216 211 1164 211 927 \n",
       "C 211 335 787 -128 1466 -128 \n",
       "C 2176 -128 2720 432 2720 1087 \n",
       "C 2720 1718 2208 2176 1600 2246 \n",
       "C 2086 2347 2554 2776 2554 3353 \n",
       "C 2554 3856 2048 4224 1472 4224 \n",
       "C 890 4224 378 3862 378 3347 \n",
       "C 378 3123 544 3084 627 3084 \n",
       "C 762 3084 877 3167 877 3334 \n",
       "C 877 3500 762 3584 627 3584 \n",
       "C 602 3584 570 3584 544 3571 \n",
       "C 730 3999 1235 4076 1459 4076 \n",
       "C 1683 4076 2106 3966 2106 3347 \n",
       "C 2106 3167 2080 2851 1862 2574 \n",
       "C 1670 2329 1453 2316 1242 2297 \n",
       "C 1210 2297 1062 2284 1037 2284 \n",
       "C 992 2278 966 2272 966 2227 \n",
       "C 966 2182 973 2176 1101 2176 \n",
       "L 1414 2176 \n",
       "z\n",
       "\" transform=\"scale(0.015625)\"/>\n",
       "      </defs>\n",
       "      <use xlink:href=\"#CMSY10-2\" transform=\"scale(0.996264)\"/>\n",
       "      <use xlink:href=\"#CMR17-31\" transform=\"translate(77.487468 0) scale(0.996264)\"/>\n",
       "      <use xlink:href=\"#CMR17-30\" transform=\"translate(123.177945 0) scale(0.996264)\"/>\n",
       "      <use xlink:href=\"#CMSY10-0\" transform=\"translate(168.868422 36.153639) scale(0.697382)\"/>\n",
       "      <use xlink:href=\"#CMR17-33\" transform=\"translate(223.109415 36.153639) scale(0.697382)\"/>\n",
       "     </g>\n",
       "    </g>\n",
       "   </g>\n",
       "   <g id=\"patch_3\">\n",
       "    <path d=\"M 34.839644 113.793762 \n",
       "L 153.696055 113.793762 \n",
       "L 153.696055 47.799608 \n",
       "L 34.839644 20.795425 \n",
       "z\n",
       "\" clip-path=\"url(#pdbf0166320)\" style=\"fill: #d3d3d3; opacity: 0.4; stroke: #d3d3d3; stroke-width: 0.5; stroke-linejoin: miter\"/>\n",
       "   </g>\n",
       "   <g id=\"line2d_17\">\n",
       "    <path d=\"M 34.839644 113.793762 \n",
       "L 153.696055 113.793762 \n",
       "L 153.696055 47.799608 \n",
       "L 34.839644 20.795425 \n",
       "L 34.839644 113.793762 \n",
       "\" clip-path=\"url(#pdbf0166320)\" style=\"fill: none; stroke: #000000; stroke-width: 0.7; stroke-linecap: square\"/>\n",
       "   </g>\n",
       "   <g id=\"line2d_18\">\n",
       "    <path d=\"M 90.903309 73.663427 \n",
       "\" clip-path=\"url(#pdbf0166320)\" style=\"fill: none; stroke: #000000; stroke-width: 0.7; stroke-linecap: square\"/>\n",
       "    <defs>\n",
       "     <path id=\"m5e8d104244\" d=\"M -2.5 0 \n",
       "L 2.5 0 \n",
       "M 0 2.5 \n",
       "L 0 -2.5 \n",
       "\" style=\"stroke: #000000\"/>\n",
       "    </defs>\n",
       "    <g clip-path=\"url(#pdbf0166320)\">\n",
       "     <use xlink:href=\"#m5e8d104244\" x=\"90.903309\" y=\"73.663427\" style=\"stroke: #000000\"/>\n",
       "    </g>\n",
       "   </g>\n",
       "   <g id=\"patch_4\">\n",
       "    <path d=\"M 28.896823 118.443679 \n",
       "L 28.896823 16.145508 \n",
       "\" style=\"fill: none; stroke: #000000; stroke-width: 0.5; stroke-linejoin: miter; stroke-linecap: square\"/>\n",
       "   </g>\n",
       "   <g id=\"patch_5\">\n",
       "    <path d=\"M 159.638876 118.443679 \n",
       "L 159.638876 16.145508 \n",
       "\" style=\"fill: none; stroke: #000000; stroke-width: 0.5; stroke-linejoin: miter; stroke-linecap: square\"/>\n",
       "   </g>\n",
       "   <g id=\"patch_6\">\n",
       "    <path d=\"M 28.896823 118.443679 \n",
       "L 159.638876 118.443679 \n",
       "\" style=\"fill: none; stroke: #000000; stroke-width: 0.5; stroke-linejoin: miter; stroke-linecap: square\"/>\n",
       "   </g>\n",
       "   <g id=\"patch_7\">\n",
       "    <path d=\"M 28.896823 16.145508 \n",
       "L 159.638876 16.145508 \n",
       "\" style=\"fill: none; stroke: #000000; stroke-width: 0.5; stroke-linejoin: miter; stroke-linecap: square\"/>\n",
       "   </g>\n",
       "   <g id=\"text_12\">\n",
       "    <!-- 1.20 -->\n",
       "    <g transform=\"translate(93.706492 70.107165) scale(0.08 -0.08)\">\n",
       "     <defs>\n",
       "      <path id=\"CMR17-2e\" d=\"M 1062 262 \n",
       "C 1062 422 934 524 800 524 \n",
       "C 672 524 538 422 538 262 \n",
       "C 538 102 666 0 800 0 \n",
       "C 928 0 1062 102 1062 262 \n",
       "z\n",
       "\" transform=\"scale(0.015625)\"/>\n",
       "     </defs>\n",
       "     <use xlink:href=\"#CMR17-31\" transform=\"scale(0.996264)\"/>\n",
       "     <use xlink:href=\"#CMR17-2e\" transform=\"translate(45.690477 0) scale(0.996264)\"/>\n",
       "     <use xlink:href=\"#CMR17-32\" transform=\"translate(70.561536 0) scale(0.996264)\"/>\n",
       "     <use xlink:href=\"#CMR17-30\" transform=\"translate(116.252013 0) scale(0.996264)\"/>\n",
       "    </g>\n",
       "   </g>\n",
       "  </g>\n",
       " </g>\n",
       " <defs>\n",
       "  <clipPath id=\"pdbf0166320\">\n",
       "   <rect x=\"28.896823\" y=\"16.145508\" width=\"130.742053\" height=\"102.29817\"/>\n",
       "  </clipPath>\n",
       " </defs>\n",
       "</svg>\n"
      ],
      "text/plain": [
       "<Figure size 236.22x212.598 with 1 Axes>"
      ]
     },
     "metadata": {},
     "output_type": "display_data"
    }
   ],
   "source": [
    "coords_a1_sigma = [(0, 0), (s_r.m / 2, 0), (s_r.m / 2, sigma_3_sA1.m), (0, f_sy_A.m)]\n",
    "\n",
    "plot_stress_strain(coords_a1_sigma,\"imgs/jag_stress_a1.svg\", stress=True)\n",
    "\n",
    "\n",
    "coords_a1_strain = [(0, 0), (s_r.m / 2, 0), (s_r.m / 2, sigma_3_sA1/E_s_A), (0, f_sy_A/E_s_A)]\n",
    "\n",
    "plot_stress_strain(coords_a1_strain,\"imgs/jag_strain_a1.svg\",strain=True)"
   ]
  },
  {
   "cell_type": "markdown",
   "metadata": {},
   "source": [
    "::: {#fig-jag_zustand_a1 layout-ncol=2}\n",
    "![Spannungsverlauf entlang des Zugglieds auf halbem Rissabstand](../imgs/jag_stress_a1.svg){#fig-jag_stress_a1}\n",
    "\n",
    "![Dehnungsverlauf entlang des Zugglieds auf halbem Rissabstand](../imgs/jag_strain_a1.svg){#fig-jag_strain_a1}\n",
    "\n",
    "Spannungs- und Dehnungsverlauf entlang der Hälfte des Rissabstands für den Zustand $A1$\n",
    ":::"
   ]
  },
  {
   "cell_type": "markdown",
   "metadata": {},
   "source": [
    "### Risselement beim Erreichen der Zugfestigkeit"
   ]
  },
  {
   "cell_type": "code",
   "execution_count": 19,
   "metadata": {},
   "outputs": [
    {
     "data": {
      "text/markdown": [
       "$$\n",
       "\\begin{aligned}\n",
       "\\Delta_{x pl} & = 36.25 \\ \\mathrm{mm} \\quad & \\Delta_{x el} & = 63.75 \\ \\mathrm{mm} \\quad & \\sigma_{su 3} & = 464.49 \\ \\frac{\\mathrm{N}}{\\mathrm{mm}^{2}} \\end{aligned}\n",
       "$$"
      ],
      "text/plain": [
       "<IPython.core.display.Markdown object>"
      ]
     },
     "metadata": {},
     "output_type": "display_data"
    }
   ],
   "source": [
    "# Plastischer Bereich\n",
    "Delta_x_pl = (f_su_A - f_sy_A) / (4 * tau_b1 / diam_x)\n",
    "\n",
    "# Elastischer Bereich\n",
    "Delta_x_el = s_r / 2 - Delta_x_pl\n",
    "\n",
    "# minimale Stahlspannung\n",
    "sigma_su_3 = f_sy_A - 4 * tau_b0 * Delta_x_el / diam_x\n",
    "\n",
    "put_out()"
   ]
  },
  {
   "cell_type": "code",
   "execution_count": 20,
   "metadata": {},
   "outputs": [
    {
     "data": {
      "text/markdown": [
       "$$\n",
       "\\begin{aligned}\n",
       "\\varepsilon_{s 1} & = 25 \\ \\mathrm{‰} \\quad & \\varepsilon_{s 2} & = 2.78 \\ \\mathrm{‰} \\quad & \\varepsilon_{s 3} & = 2.27 \\ \\mathrm{‰} \\\\ \n",
       "S_{1} & = 8.43 \\ \\mathrm{‰} \\quad & S_{2} & = 1.27 \\ \\mathrm{‰} \\quad & A_{1} & = 503.53 \\ \\mathrm{mm} \\cdot \\mathrm{‰} \\\\ \n",
       "A_{2} & = 160.83 \\ \\mathrm{mm} \\cdot \\mathrm{‰} \\quad & \\varepsilon_{sm} & = 6.69 \\ \\mathrm{‰} \\quad &  \n",
       " \\end{aligned}\n",
       "$$"
      ],
      "text/plain": [
       "<IPython.core.display.Markdown object>"
      ]
     },
     "metadata": {},
     "output_type": "display_data"
    }
   ],
   "source": [
    "# mittlere Stahldehnung\n",
    "varepsilon_s_1 = varepsilon_su_A\n",
    "varepsilon_s_2 = varepsilon_sy_A\n",
    "varepsilon_s_3 = (sigma_su_3 / E_s_A).to(permille)\n",
    "\n",
    "\n",
    "def center_trapez(a, b, b_1):\n",
    "    return (b**2 + a**2 + a * b + 2 * a * b_1 + b * b_1) / (3 * (a + b))\n",
    "\n",
    "\n",
    "def area_trapez(a, b, h):\n",
    "    return 1 / 2 * (a + b) * h\n",
    "\n",
    "\n",
    "# Schwerpunkte der beiden Trapeze\n",
    "S_1 = center_trapez(varepsilon_s_2, varepsilon_s_1, 0)\n",
    "S_2 = center_trapez(varepsilon_s_3, varepsilon_s_2, 0)\n",
    "\n",
    "# Flächen der beiden Trapeze\n",
    "A_1 = area_trapez(varepsilon_s_1, varepsilon_s_2, Delta_x_pl)\n",
    "A_2 = area_trapez(varepsilon_s_3, varepsilon_s_2, Delta_x_el)\n",
    "\n",
    "varepsilon_sm = (S_1 * A_1 + S_2 * A_2) / (A_1 + A_2)\n",
    "\n",
    "put_out()"
   ]
  },
  {
   "cell_type": "markdown",
   "metadata": {},
   "source": [
    "### Plastische Rotationswinkel\n"
   ]
  },
  {
   "cell_type": "code",
   "execution_count": 21,
   "metadata": {},
   "outputs": [
    {
     "data": {
      "text/markdown": [
       "$$\n",
       "\\begin{aligned}\n",
       "l_{pl} & = 522.0 \\ \\mathrm{mm} \\quad & \\Theta_{pl} & = 0.53 \\ \\mathrm{°} \\end{aligned}\n",
       "$$"
      ],
      "text/plain": [
       "<IPython.core.display.Markdown object>"
      ]
     },
     "metadata": {},
     "output_type": "display_data"
    }
   ],
   "source": [
    "# Annahme für die Länge des plastischen Gelenks\n",
    "l_pl = 2 * d_x\n",
    "\n",
    "# Plastischer Rotationswinkel, Rotationsbedarf für vollständige Umlagerung.\n",
    "Theta_pl = (l_pl * (varepsilon_sm - varepsilon_smy) / (d_x - x_dv_A)).to(deg)\n",
    "\n",
    "put_out()"
   ]
  },
  {
   "cell_type": "markdown",
   "metadata": {},
   "source": [
    "### Fliessen des Mittelauflagers"
   ]
  },
  {
   "cell_type": "code",
   "execution_count": 22,
   "metadata": {},
   "outputs": [
    {
     "data": {
      "text/markdown": [
       "$$\n",
       "\\begin{aligned}\n",
       "q_{y , B} & = 13.89 \\ \\frac{\\mathrm{kNm}}{\\mathrm{m}^{2}} \\quad & w_{m y} & = 35.97 \\ \\mathrm{mm} \\end{aligned}\n",
       "$$"
      ],
      "text/plain": [
       "<IPython.core.display.Markdown object>"
      ]
     },
     "metadata": {},
     "output_type": "display_data"
    }
   ],
   "source": [
    "# Die Streckenlast zum Erreichen des Fliessens bei B\n",
    "q_y_comma_B = 8 * m_y * b_w / l**2\n",
    "\n",
    "# maximale Verformung im Feld\n",
    "w_m_y = (\n",
    "    5 * q_y_comma_B * l**4 / (384 * EI_II) - m_y * b_w * l**2 / (16 * EI_II)\n",
    ").to(mm)\n",
    "\n",
    "put_out()"
   ]
  },
  {
   "cell_type": "markdown",
   "metadata": {},
   "source": [
    "### Fliessbeginn im Feld"
   ]
  },
  {
   "cell_type": "code",
   "execution_count": 23,
   "metadata": {},
   "outputs": [
    {
     "data": {
      "text/markdown": [
       "$$\n",
       "\\begin{aligned}\n",
       "q_{y , F} & = 20.55 \\ \\frac{\\mathrm{kN}}{\\mathrm{m}} \\end{aligned}\n",
       "$$"
      ],
      "text/plain": [
       "<IPython.core.display.Markdown object>"
      ]
     },
     "metadata": {},
     "output_type": "display_data"
    }
   ],
   "source": [
    "# Streckenlast beim Fliessbeginn im Feld\n",
    "q_y_comma_F = (\n",
    "    ((4 * m_y + 2 * m_u_A) / l**2 + 4 / l**2 * np.sqrt(m_y**2 + m_y * m_u_A)) * b_w\n",
    ").to(kN / m)\n",
    "\n",
    "put_out()"
   ]
  },
  {
   "cell_type": "markdown",
   "metadata": {},
   "source": [
    "#### Rotationsvermögen"
   ]
  },
  {
   "cell_type": "code",
   "execution_count": 24,
   "metadata": {},
   "outputs": [
    {
     "data": {
      "text/markdown": [
       "$$\n",
       "\\begin{aligned}\n",
       "\\alpha & = 0.88 \\ \\mathrm{°} \\quad & \\Theta_{erf} & = 1.76 \\ \\mathrm{°} \\quad & \\Theta_{pl} & = 0.53 \\ \\mathrm{°} \\end{aligned}\n",
       "$$"
      ],
      "text/plain": [
       "<IPython.core.display.Markdown object>"
      ]
     },
     "metadata": {},
     "output_type": "display_data"
    }
   ],
   "source": [
    "# Rotationswinkel (Verwendung der Arbeitsgleichung)\n",
    "alpha = (\n",
    "    (q_y_comma_F - q_y_comma_B) * l**3 / (24 * EI_II)\n",
    "    - (m_u_A - m_y) * b_w * l / (3 * EI_II)\n",
    ").to(deg)\n",
    "\n",
    "# Verformungsbedarf\n",
    "Theta_erf = 2 * alpha\n",
    "\n",
    "# Verformungsvermögen\n",
    "Theta_pl\n",
    "\n",
    "put_out()"
   ]
  },
  {
   "cell_type": "markdown",
   "metadata": {},
   "source": [
    "Das Verformungsvermögen ist nicht ausreichend."
   ]
  },
  {
   "cell_type": "code",
   "execution_count": 25,
   "metadata": {},
   "outputs": [
    {
     "data": {
      "text/markdown": [
       "$$\n",
       "\\begin{aligned}\n",
       "\\alpha_{max} & = 0.27 \\ \\mathrm{°} \\quad & \\Delta_{qu} & = 2.52 \\ \\frac{\\mathrm{kN}}{\\mathrm{m}} \\quad & q_{u B500A} & = 16.41 \\ \\frac{\\mathrm{kN}}{\\mathrm{m}} \\end{aligned}\n",
       "$$"
      ],
      "text/plain": [
       "<IPython.core.display.Markdown object>"
      ]
     },
     "metadata": {},
     "output_type": "display_data"
    }
   ],
   "source": [
    "# maximaler Rotationswinkel\n",
    "alpha_max = Theta_pl / 2\n",
    "\n",
    "# Streckenlast bis zum maximalen Rotationswinkel\n",
    "Delta_qu = (\n",
    "    (alpha_max + (m_u_A - m_y) * l * b_w / (3 * EI_II)) * 24 * EI_II / l**3\n",
    ").to(kN / m)\n",
    "\n",
    "# Traglast für B500A\n",
    "q_u_B500A = Delta_qu + q_y_comma_B\n",
    "\n",
    "put_out()"
   ]
  },
  {
   "cell_type": "code",
   "execution_count": 26,
   "metadata": {},
   "outputs": [
    {
     "data": {
      "text/markdown": [
       "$$\n",
       "\\begin{aligned}\n",
       "w_{m u} & = 49.46 \\ \\mathrm{mm} \\end{aligned}\n",
       "$$"
      ],
      "text/plain": [
       "<IPython.core.display.Markdown object>"
      ]
     },
     "metadata": {},
     "output_type": "display_data"
    }
   ],
   "source": [
    "# maximale Verformung im Feld\n",
    "w_m_u = (\n",
    "    5 * q_u_B500A * l**4 / (384 * EI_II) - m_u_A * b_w * l**2 / (16 * EI_II)\n",
    ").to(mm)\n",
    "\n",
    "put_out()"
   ]
  },
  {
   "cell_type": "markdown",
   "metadata": {},
   "source": [
    "## Naturharter Stahl B500C\n",
    "\n",
    "### Eigenschaften des Betonstahls"
   ]
  },
  {
   "cell_type": "code",
   "execution_count": 27,
   "metadata": {},
   "outputs": [
    {
     "data": {
      "text/markdown": [
       "$$\n",
       "\\begin{aligned}\n",
       "f_{sy A A} & = 500.0 \\ \\frac{\\mathrm{N}}{\\mathrm{mm}^{2}} \\quad & f_{su A A} & = 600.0 \\ \\frac{\\mathrm{N}}{\\mathrm{mm}^{2}} \\quad & \\varepsilon_{sy A} & = 2.44 \\ \\mathrm{‰} \\\\ \n",
       "\\varepsilon_{sh} & = 20 \\ \\mathrm{‰} \\quad & \\varepsilon_{su A} & = 125 \\ \\mathrm{‰} \\quad & E_{s A} & = 205.0 \\ \\frac{\\mathrm{kN}}{\\mathrm{mm}^{2}} \\\\ \n",
       "E_{sh} & = 952.0 \\ \\frac{\\mathrm{N}}{\\mathrm{mm}^{2}} \\quad &  \\quad &  \n",
       " \\end{aligned}\n",
       "$$"
      ],
      "text/plain": [
       "<IPython.core.display.Markdown object>"
      ]
     },
     "metadata": {},
     "output_type": "display_data"
    }
   ],
   "source": [
    "f_sy_A_A = 500 * N / mm**2  # Fliessgrenze\n",
    "f_su_A_A = 600 * N / mm**2  # Zugfestigkeit\n",
    "varepsilon_sy_A = 2.439 * permille  # Fliessdehnung\n",
    "varepsilon_sh = 20 * permille  # Dehnung bei Verfestigungsbeginn\n",
    "varepsilon_su_A = 125 * permille  # Bruchdehnung\n",
    "E_s_A = 205 * kN / mm**2  # Elastizitätsmodul\n",
    "E_sh = 952 * N / mm**2  # Verfestigungsmodul\n",
    "\n",
    "put_out()"
   ]
  },
  {
   "cell_type": "code",
   "execution_count": 28,
   "metadata": {},
   "outputs": [],
   "source": [
    "# | echo: false\n",
    "\n",
    "stress_b500c_array = np.array([0, f_sy_A_A.m, f_sy_A_A.m, f_su_A_A.m]) * MPa\n",
    "strain_b500c_array = np.array([0, varepsilon_sy_A, varepsilon_sh, varepsilon_su_A])\n",
    "\n",
    "\n",
    "fig_b500c, ax_b500c = plt.subplots()\n",
    "\n",
    "ax_b500c.plot(strain_b500c_array, stress_b500c_array.to(MPa).m, color=\"k\")\n",
    "\n",
    "\n",
    "# Set axis labels\n",
    "ax_b500c.set_ylabel(r\"$\\sigma$ [N/mm$^2$]\")\n",
    "ax_b500c.set_xlabel(r\"$\\varepsilon_s$ [-]\")\n",
    "\n",
    "# Set limits\n",
    "ax_b500c.set_xlim(xmax=125 / 1000)\n",
    "ax_b500c.set_ylim(ymax=750)\n",
    "\n",
    "# Show the plot\n",
    "plt.tight_layout()\n",
    "plt.savefig(\"imgs/jag_stress_strain_b500c.svg\")\n",
    "plt.close()"
   ]
  },
  {
   "cell_type": "markdown",
   "metadata": {},
   "source": [
    "![Spannungs-Dehnungs-Beziehung des Betonstahls B500C](../imgs/jag_stress_strain_b500c.svg){#stress_strain_b500c}"
   ]
  },
  {
   "cell_type": "markdown",
   "metadata": {},
   "source": [
    "### Vor dem Fliessen"
   ]
  },
  {
   "cell_type": "code",
   "execution_count": 29,
   "metadata": {},
   "outputs": [
    {
     "data": {
      "text/markdown": [
       "$$\n",
       "\\begin{aligned}\n",
       "\\varepsilon_{sm y} & = 2.04 \\ \\mathrm{‰} \\quad & m_{y} & = 97.48 \\ \\mathrm{kN} \\end{aligned}\n",
       "$$"
      ],
      "text/plain": [
       "<IPython.core.display.Markdown object>"
      ]
     },
     "metadata": {},
     "output_type": "display_data"
    }
   ],
   "source": [
    "# Mittlere Stahldehnung beim Fliessen\n",
    "varepsilon_sm_y = varepsilon_sy_A - tau_b0 * s_r / (diam_x * E_s_A)\n",
    "\n",
    "# Fliessmoment\n",
    "m_y = (a_s * f_sy_A_A * dv_A).to(kN)\n",
    "put_out()"
   ]
  },
  {
   "cell_type": "markdown",
   "metadata": {},
   "source": [
    "### Versagensart des Querschnitts"
   ]
  },
  {
   "cell_type": "code",
   "execution_count": 30,
   "metadata": {},
   "outputs": [
    {
     "data": {
      "text/markdown": [
       "$$\n",
       "\\begin{aligned}\n",
       "\\sigma_{su 3} & = 517.24 \\ \\frac{\\mathrm{N}}{\\mathrm{mm}^{2}} \\quad & \\varepsilon_{su A 3} & = 38.11 \\ \\mathrm{‰} \\quad & \\varepsilon_{sm} & = 81.56 \\ \\mathrm{‰} \\end{aligned}\n",
       "$$"
      ],
      "text/plain": [
       "<IPython.core.display.Markdown object>"
      ]
     },
     "metadata": {},
     "output_type": "display_data"
    }
   ],
   "source": [
    "# Stahlspannung zwischen den Rissen\n",
    "sigma_su_3 = f_su_A_A - 4 * tau_b1 / diam_x * s_r / 2\n",
    "\n",
    "# Stahldehnung zwischen den Rissen\n",
    "varepsilon_su_A_3 = ((sigma_su_3 - f_sy_A_A) / E_sh + varepsilon_sh).to(permille)\n",
    "varepsilon_sm = (varepsilon_su_A_3 + varepsilon_su_A) / 2\n",
    "\n",
    "put_out()"
   ]
  },
  {
   "cell_type": "code",
   "execution_count": 31,
   "metadata": {},
   "outputs": [
    {
     "data": {
      "text/markdown": [
       "$$\n",
       "\\begin{aligned}\n",
       "\\varepsilon_{c} & = 6.08 \\ \\mathrm{‰} \\quad & \\varepsilon_{cu} & = 5 \\ \\mathrm{‰} \\end{aligned}\n",
       "$$"
      ],
      "text/plain": [
       "<IPython.core.display.Markdown object>"
      ]
     },
     "metadata": {},
     "output_type": "display_data"
    }
   ],
   "source": [
    "# Betonstauchung\n",
    "varepsilon_c = varepsilon_sm / (d_x - x_dv_A) * x_dv_A\n",
    "\n",
    "varepsilon_cu\n",
    "\n",
    "put_out()"
   ]
  },
  {
   "cell_type": "markdown",
   "metadata": {},
   "source": [
    "Die Betonbruchstauchung wird überschritten. Das bedeutet, es stellt sich ein Betondruckversagen vor einem Zerreissen der Bewehrung ein."
   ]
  },
  {
   "cell_type": "code",
   "execution_count": 32,
   "metadata": {},
   "outputs": [
    {
     "data": {
      "text/markdown": [
       "$$\n",
       "\\begin{aligned}\n",
       "\\varepsilon_{sm u} & = 67.06 \\ \\mathrm{‰} \\quad & \\varepsilon_{smax u} & = 110.5 \\ \\mathrm{‰} \\quad & \\sigma_{smax u} & = 586.2 \\ \\frac{\\mathrm{N}}{\\mathrm{mm}^{2}} \\\\ \n",
       "m_{u} & = 114.29 \\ \\frac{\\mathrm{kNm}}{\\mathrm{m}} \\quad &  \\quad &  \n",
       " \\end{aligned}\n",
       "$$"
      ],
      "text/plain": [
       "<IPython.core.display.Markdown object>"
      ]
     },
     "metadata": {},
     "output_type": "display_data"
    }
   ],
   "source": [
    "# Mittlere Stahldehnung beim Druckversagen\n",
    "varepsilon_sm_u = varepsilon_cu / x_dv_A * (d_x - x_dv_A)\n",
    "\n",
    "# Maximale Stahldehnung beim Druckversagen\n",
    "varepsilon_smax_u = varepsilon_su_A - (varepsilon_sm - varepsilon_sm_u)\n",
    "\n",
    "# Maximale Stahlspannung beim Druckversagen\n",
    "sigma_smax_u = f_su_A_A - (varepsilon_su_A - varepsilon_smax_u) * E_sh\n",
    "\n",
    "# Maximaler Biegewiderstand\n",
    "m_u = (a_s * sigma_smax_u * dv_A).to(kNm / m)\n",
    "put_out()"
   ]
  },
  {
   "cell_type": "markdown",
   "metadata": {},
   "source": [
    "### Verformungsvermögen"
   ]
  },
  {
   "cell_type": "code",
   "execution_count": 33,
   "metadata": {},
   "outputs": [
    {
     "data": {
      "text/markdown": [
       "$$\n",
       "\\begin{aligned}\n",
       "\\Theta_{pl max} & = 8.01 \\ \\mathrm{°} \\end{aligned}\n",
       "$$"
      ],
      "text/plain": [
       "<IPython.core.display.Markdown object>"
      ]
     },
     "metadata": {},
     "output_type": "display_data"
    }
   ],
   "source": [
    "# Plastischer Rotationswinkel, Rotationsbedarf für vollständige Umlagerung.\n",
    "Theta_pl_max = (l_pl * (varepsilon_sm_u - varepsilon_sm_y) / (d_x - x_dv_A)).to(deg)\n",
    "\n",
    "put_out()"
   ]
  },
  {
   "cell_type": "markdown",
   "metadata": {},
   "source": [
    "### Fliessen beim Mittelauflager"
   ]
  },
  {
   "cell_type": "code",
   "execution_count": 34,
   "metadata": {},
   "outputs": [
    {
     "data": {
      "text/markdown": [
       "$$\n",
       "\\begin{aligned}\n",
       "q_{y , B} & = 12.19 \\ \\frac{\\mathrm{kN}}{\\mathrm{m}} \\quad & w_{m y} & = 31.55 \\ \\mathrm{mm} \\end{aligned}\n",
       "$$"
      ],
      "text/plain": [
       "<IPython.core.display.Markdown object>"
      ]
     },
     "metadata": {},
     "output_type": "display_data"
    }
   ],
   "source": [
    "# Streckenlast beim Fliessen des Mittelauflagers\n",
    "q_y_comma_B = 8 * m_y / l**2 * b_w\n",
    "\n",
    "# Verformung beim Fliessen des Mittelauflagers\n",
    "w_m_y = (\n",
    "    5 * q_y_comma_B * l**4 / (384 * EI_II) - m_y * b_w * l**2 / (16 * EI_II)\n",
    ").to(mm)\n",
    "\n",
    "put_out()"
   ]
  },
  {
   "cell_type": "markdown",
   "metadata": {},
   "source": [
    "### Fliessbeginn im Feld"
   ]
  },
  {
   "cell_type": "markdown",
   "metadata": {},
   "source": [
    "#### Risselement beim Fliessen im Feld"
   ]
  },
  {
   "cell_type": "code",
   "execution_count": 35,
   "metadata": {},
   "outputs": [
    {
     "data": {
      "text/markdown": [
       "$$\n",
       "\\begin{aligned}\n",
       "m_{F} & = 97.48 \\ \\mathrm{kN} \\end{aligned}\n",
       "$$"
      ],
      "text/plain": [
       "<IPython.core.display.Markdown object>"
      ]
     },
     "metadata": {},
     "output_type": "display_data"
    }
   ],
   "source": [
    "# Im Feld wird das Fliessmoment erreicht\n",
    "m_F = m_y\n",
    "\n",
    "put_out()"
   ]
  },
  {
   "cell_type": "code",
   "execution_count": 36,
   "metadata": {},
   "outputs": [
    {
     "data": {
      "text/markdown": [
       "$$\n",
       "\\begin{aligned}\n",
       "\\Delta_{x pl} & = 28.5 \\ \\mathrm{mm} \\quad & \\Delta_{x el} & = 71.5 \\ \\mathrm{mm} \\quad & \\sigma_{s 2} & = 500.0 \\ \\frac{\\mathrm{N}}{\\mathrm{mm}^{2}} \\\\ \n",
       "\\sigma_{s 1} & = 523.59 \\ \\frac{\\mathrm{N}}{\\mathrm{mm}^{2}} \\quad & \\sigma_{s 3} & = 381.66 \\ \\frac{\\mathrm{N}}{\\mathrm{mm}^{2}} \\quad &  \n",
       " \\end{aligned}\n",
       "$$"
      ],
      "text/plain": [
       "<IPython.core.display.Markdown object>"
      ]
     },
     "metadata": {},
     "output_type": "display_data"
    }
   ],
   "source": [
    "# Fliessspannung wird vorausgesetzt\n",
    "\n",
    "Delta_x_pl = 28.5 * mm\n",
    "Delta_x_el = s_r / 2 - Delta_x_pl\n",
    "\n",
    "\n",
    "sigma_s_2 = 500 * N / mm**2\n",
    "sigma_s_1 = sigma_s_2 + 4 * tau_b1 / diam_x * Delta_x_pl\n",
    "sigma_s_3 = sigma_s_2 - 4 * tau_b0 / diam_x * Delta_x_el\n",
    "\n",
    "put_out()"
   ]
  },
  {
   "cell_type": "code",
   "execution_count": 37,
   "metadata": {},
   "outputs": [],
   "source": [
    "S_1 = center_trapez(sigma_s_2, sigma_s_1, 0 * MPa)\n",
    "S_2 = center_trapez(sigma_s_3, sigma_s_2, 0 * MPa)\n",
    "\n",
    "A_1 = area_trapez(sigma_s_1, sigma_s_2, Delta_x_pl)\n",
    "A_2 = area_trapez(sigma_s_2, sigma_s_3, Delta_x_el)"
   ]
  },
  {
   "cell_type": "code",
   "execution_count": 38,
   "metadata": {},
   "outputs": [
    {
     "data": {
      "text/markdown": [
       "$$\n",
       "\\begin{aligned}\n",
       "\\sigma_{sm} & = 232.56 \\ \\frac{\\mathrm{N}}{\\mathrm{mm}^{2}} \\end{aligned}\n",
       "$$"
      ],
      "text/plain": [
       "<IPython.core.display.Markdown object>"
      ]
     },
     "metadata": {},
     "output_type": "display_data"
    }
   ],
   "source": [
    "sigma_sm = (A_1 * S_1 + A_2 * S_2) / (A_1 + A_2)\n",
    "\n",
    "\n",
    "put_out()"
   ]
  },
  {
   "cell_type": "code",
   "execution_count": 39,
   "metadata": {},
   "outputs": [
    {
     "data": {
      "text/markdown": [
       "$$\n",
       "\\begin{aligned}\n",
       "\\varepsilon_{s 1} & = 44.77 \\ \\mathrm{‰} \\quad & \\varepsilon_{s 21} & = 20 \\ \\mathrm{‰} \\quad & \\varepsilon_{s 22} & = 2.44 \\ \\mathrm{‰} \\\\ \n",
       "\\varepsilon_{s 3} & = 1.86 \\ \\mathrm{‰} \\quad & S_{1} & = 16.98 \\ \\mathrm{‰} \\quad & S_{2} & = 1.08 \\ \\mathrm{‰} \\\\ \n",
       "A_{1} & = 923.04 \\ \\mathrm{mm} \\cdot \\mathrm{‰} \\quad & A_{2} & = 153.75 \\ \\mathrm{mm} \\cdot \\mathrm{‰} \\quad & \\varepsilon_{sm} & = 14.71 \\ \\mathrm{‰} \\end{aligned}\n",
       "$$"
      ],
      "text/plain": [
       "<IPython.core.display.Markdown object>"
      ]
     },
     "metadata": {},
     "output_type": "display_data"
    }
   ],
   "source": [
    "# Dehnungen\n",
    "\n",
    "varepsilon_s_1 = ((sigma_s_1 - sigma_s_2) / E_sh + varepsilon_sh).to(permille)\n",
    "varepsilon_s_21 = varepsilon_sh\n",
    "varepsilon_s_22 = varepsilon_sy_A\n",
    "varepsilon_s_3 = (sigma_s_3 / E_s_A).to(permille)\n",
    "\n",
    "S_1 = center_trapez(varepsilon_s_21, varepsilon_s_1, 0)\n",
    "S_2 = center_trapez(varepsilon_s_3, varepsilon_s_22, 0)\n",
    "\n",
    "A_1 = area_trapez(varepsilon_s_1, varepsilon_s_21, Delta_x_pl)\n",
    "A_2 = area_trapez(varepsilon_s_22, varepsilon_s_3, Delta_x_el)\n",
    "\n",
    "varepsilon_sm = (A_1 * S_1 + A_2 * S_2) / (A_1 + A_2)\n",
    "\n",
    "put_out()"
   ]
  },
  {
   "cell_type": "code",
   "execution_count": 40,
   "metadata": {},
   "outputs": [
    {
     "data": {
      "text/markdown": [
       "$$\n",
       "\\begin{aligned}\n",
       "\\Theta_{pl q y , F} & = 1.56 \\ \\mathrm{°} \\quad & deg & = \\mathrm{°} \\end{aligned}\n",
       "$$"
      ],
      "text/plain": [
       "<IPython.core.display.Markdown object>"
      ]
     },
     "metadata": {},
     "output_type": "display_data"
    }
   ],
   "source": [
    "Theta_pl_q_y_comma_F = (l_pl * (varepsilon_sm - varepsilon_sm_y) / (d_x - x_dv_A)).to(\n",
    "    deg\n",
    ")\n",
    "\n",
    "put_out()"
   ]
  },
  {
   "cell_type": "code",
   "execution_count": 41,
   "metadata": {},
   "outputs": [],
   "source": [
    "# | echo:false\n",
    "\n",
    "ax_b500c.axvline(x=varepsilon_s_1.to(los), color=\"black\", linestyle=\"--\")\n",
    "ax_b500c.axhline(y=sigma_s_1.m, color=\"black\", linestyle=\"--\")\n",
    "\n",
    "# Show the updated plot\n",
    "plt.tight_layout()\n",
    "plt.figure(fig_b500c)\n",
    "plt.savefig(\"imgs/jag_stress_strain_b500c_with_vertical_line.svg\")\n",
    "plt.close()"
   ]
  },
  {
   "cell_type": "markdown",
   "metadata": {},
   "source": [
    "![Spannungs-Dehnungs-Verlauf des Betonstahls B500C mit markierter maximaler Dehnung](../imgs/jag_stress_strain_b500c_with_vertical_line.svg){#fig-stress_strain_b500c_marked}"
   ]
  },
  {
   "cell_type": "code",
   "execution_count": 42,
   "metadata": {},
   "outputs": [
    {
     "data": {
      "text/markdown": [
       "$$\n",
       "\\begin{aligned}\n",
       "\\sigma_{smax} & = 523.59 \\ \\frac{\\mathrm{N}}{\\mathrm{mm}^{2}} \\quad & m_{B} & = 102.08 \\ \\mathrm{kN} \\quad & q_{y , F} & = 18.0 \\ \\frac{\\mathrm{kN}}{\\mathrm{m}} \\end{aligned}\n",
       "$$"
      ],
      "text/plain": [
       "<IPython.core.display.Markdown object>"
      ]
     },
     "metadata": {},
     "output_type": "display_data"
    }
   ],
   "source": [
    "# Stahlspannung durch maximale Stahldehnung am Zugglied\n",
    "sigma_smax = (\n",
    "    np.interp(x=varepsilon_s_1.to(los), fp=stress_b500c_array.m, xp=strain_b500c_array)\n",
    "    * N\n",
    "    / mm**2\n",
    ")\n",
    "\n",
    "# Biegemoment resultiert daraus zu\n",
    "m_B = (a_s * sigma_smax * dv_A).to(kN)\n",
    "\n",
    "# Streckenlast Fliessen im Feld, verfestigend über dem Auflager\n",
    "q_y_comma_F = (\n",
    "    (4 * m_F + 2 * m_B) / l**2 + 4 / l**2 * np.sqrt(m_F**2 + m_F * m_B)\n",
    ") * b_w\n",
    "put_out()"
   ]
  },
  {
   "cell_type": "code",
   "execution_count": 43,
   "metadata": {},
   "outputs": [
    {
     "data": {
      "text/markdown": [
       "$$\n",
       "\\begin{aligned}\n",
       "\\alpha & = 0.78 \\ \\mathrm{°} \\quad & \\Theta_{pl erf i} & = 1.55 \\ \\mathrm{°} \\quad & \\Delta_{\\Theta} & = -0.01 \\ \\mathrm{°} \\end{aligned}\n",
       "$$"
      ],
      "text/plain": [
       "<IPython.core.display.Markdown object>"
      ]
     },
     "metadata": {},
     "output_type": "display_data"
    }
   ],
   "source": [
    "# Kontrolle des Verformungsbedarfs\n",
    "alpha = (\n",
    "    (q_y_comma_F - q_y_comma_B) * l**3 / (24 * EI_II)\n",
    "    - (m_B - m_y) * b_w * l / (3 * EI_II)\n",
    ").to(deg)\n",
    "\n",
    "# Erforderliche Rotation\n",
    "Theta_pl_erf_i = 2 * alpha\n",
    "\n",
    "# Kontrolle ob das Verformungsvermögen gleich dem Verformungsbedarf ist\n",
    "Delta_Theta = Theta_pl_erf_i - Theta_pl_q_y_comma_F\n",
    "\n",
    "put_out()"
   ]
  },
  {
   "cell_type": "code",
   "execution_count": 44,
   "metadata": {},
   "outputs": [
    {
     "data": {
      "text/markdown": [
       "$$\n",
       "\\begin{aligned}\n",
       "w_{m y} & = 66.96 \\ \\mathrm{mm} \\end{aligned}\n",
       "$$"
      ],
      "text/plain": [
       "<IPython.core.display.Markdown object>"
      ]
     },
     "metadata": {},
     "output_type": "display_data"
    }
   ],
   "source": [
    "# Die Mittendurchbiegung beträgt\n",
    "w_m_y = (\n",
    "    5 * q_y_comma_F * l**4 / (384 * EI_II) - m_B * b_w * l**2 / (16 * EI_II)\n",
    ").to(mm)\n",
    "\n",
    "put_out()"
   ]
  },
  {
   "cell_type": "markdown",
   "metadata": {},
   "source": [
    "### Traglast "
   ]
  },
  {
   "cell_type": "code",
   "execution_count": 45,
   "metadata": {},
   "outputs": [
    {
     "data": {
      "text/markdown": [
       "$$\n",
       "\\begin{aligned}\n",
       "\\varepsilon_{s 2} & = 20 \\ \\mathrm{‰} \\quad & \\varepsilon_{s 1} & = 106.93 \\ \\mathrm{‰} \\quad & \\varepsilon_{sm u} & = 63.46 \\ \\mathrm{‰} \\end{aligned}\n",
       "$$"
      ],
      "text/plain": [
       "<IPython.core.display.Markdown object>"
      ]
     },
     "metadata": {},
     "output_type": "display_data"
    }
   ],
   "source": [
    "varepsilon_s_2 = varepsilon_sh\n",
    "varepsilon_s_1 = varepsilon_s_2 + 4 * tau_b1 * s_r / 2 / (diam_x * E_sh)\n",
    "\n",
    "varepsilon_sm_u = (varepsilon_s_2 + varepsilon_s_1) / 2\n",
    "put_out()"
   ]
  },
  {
   "cell_type": "code",
   "execution_count": 46,
   "metadata": {},
   "outputs": [
    {
     "data": {
      "text/markdown": [
       "$$\n",
       "\\begin{aligned}\n",
       "\\sigma_{s max} & = 582.79 \\ \\mathrm{MPa} \\quad & m_{B} & = 114.29 \\ \\frac{\\mathrm{kNm}}{\\mathrm{m}} \\quad & m_{F} & = 113.62 \\ \\mathrm{kN} \\\\ \n",
       "q_{u , F} & = 20.73 \\ \\frac{\\mathrm{kN}}{\\mathrm{m}} \\quad & \\Theta_{plf F} & = 7.56 \\ \\mathrm{°} \\quad & \\alpha & = 4.09 \\ \\mathrm{°} \\\\ \n",
       "\\Theta_{pl erf} & = 8.18 \\ \\mathrm{°} \\quad & \\Delta_{\\Theta} & = 0.17 \\ \\mathrm{°} \\quad &  \n",
       " \\end{aligned}\n",
       "$$"
      ],
      "text/plain": [
       "<IPython.core.display.Markdown object>"
      ]
     },
     "metadata": {},
     "output_type": "display_data"
    }
   ],
   "source": [
    "sigma_s_max = np.interp(varepsilon_s_1, strain_b500c_array, stress_b500c_array)\n",
    "\n",
    "m_B = m_u\n",
    "m_F = (a_s * sigma_s_max * dv_A).to(kN)\n",
    "\n",
    "# Streckenlast Fliessen im Feld, verfestigend über dem Auflager\n",
    "q_u_comma_F = (\n",
    "    (4 * m_F + 2 * m_B) / l**2 + 4 / l**2 * np.sqrt(m_F**2 + m_F * m_B)\n",
    ") * b_w\n",
    "\n",
    "\n",
    "# Plastische rotation im Feld\n",
    "Theta_plf_F = (l_pl * (varepsilon_sm_u - varepsilon_sm_y) / (d_x - x_dv_A)).to(deg)\n",
    "\n",
    "\n",
    "# Kontrolle des Verformungsbedarfs\n",
    "alpha = (\n",
    "    q_u_comma_F * l**3 / (24 * EI_II)\n",
    "    - (m_B) * b_w * l / (3 * EI_II)\n",
    "    + 0.414 * Theta_plf_F\n",
    ").to(deg)\n",
    "\n",
    "# Erforderliche Rotation\n",
    "Theta_pl_erf = 2 * alpha\n",
    "\n",
    "# Kontrolle ob das Verformungsvermögen gleich dem Verformungsbedarf ist\n",
    "Delta_Theta = Theta_pl_erf - Theta_pl_max\n",
    "\n",
    "put_out()"
   ]
  },
  {
   "cell_type": "code",
   "execution_count": 47,
   "metadata": {},
   "outputs": [
    {
     "data": {
      "text/markdown": [
       "$$\n",
       "\\begin{aligned}\n",
       "w_{m y} & = 297.33 \\ \\mathrm{mm} \\end{aligned}\n",
       "$$"
      ],
      "text/plain": [
       "<IPython.core.display.Markdown object>"
      ]
     },
     "metadata": {},
     "output_type": "display_data"
    }
   ],
   "source": [
    "# Die Mittendurchbiegung beträgt\n",
    "w_m_y = (\n",
    "    5 * q_u_comma_F * l**4 / (384 * EI_II)\n",
    "    - m_B * b_w * l**2 / (16 * EI_II)\n",
    "    + 0.414 * Theta_plf_F * l / 2\n",
    ").to(mm)\n",
    "\n",
    "put_out()"
   ]
  }
 ],
 "metadata": {
  "kernelspec": {
   "display_name": "calc",
   "language": "python",
   "name": "python3"
  },
  "language_info": {
   "codemirror_mode": {
    "name": "ipython",
    "version": 3
   },
   "file_extension": ".py",
   "mimetype": "text/x-python",
   "name": "python",
   "nbconvert_exporter": "python",
   "pygments_lexer": "ipython3",
   "version": "3.11.9"
  }
 },
 "nbformat": 4,
 "nbformat_minor": 2
}
