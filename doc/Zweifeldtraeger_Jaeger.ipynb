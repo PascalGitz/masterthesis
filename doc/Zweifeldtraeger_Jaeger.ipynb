{
 "cells": [
  {
   "cell_type": "markdown",
   "metadata": {},
   "source": [
    "# Einführungsbeispiel - Zweifeldträger\n",
    "\n",
    "Das Vorlesungsbeispiel verfolgt das Ziel, die Verformungen eines Zweifeldträgers für zwei Betonstähle mit unterschiedlichen Duktilitätsklassen aufzuzeigen. @jager_stahlbeton_2009.\n",
    "\n",
    "![Statisches System des Zweifeldträgers mit Abmessungen versehen](../imgs/jag_system.svg){#fig-jag_system}\n",
    "\n",
    "![Querschnitt des Plattenstreifens](../imgs/jag_system_qs.svg){#fig-jag_system_qs}\n",
    "\n",
    "Zunächst wird die analytische Lösung vollumfänglich dargestellt und mit numerischen Werten substituiert. Abschliessend wird das Verformungsverhalten mit dem Federmodell nachmodelliert, bzw. numerisch approximiert."
   ]
  },
  {
   "cell_type": "markdown",
   "metadata": {},
   "source": [
    "## Allgemeines\n",
    "\n",
    "### Annahmen\n",
    "\n",
    "- Zwei unterschiedliche Stähle\n",
    "- konstant gerissene Biegesteifigkeit entlang der Stabachse\n",
    "\n",
    "### Parameter\n",
    "\n"
   ]
  },
  {
   "cell_type": "code",
   "execution_count": 1,
   "metadata": {},
   "outputs": [],
   "source": [
    "from packages import *"
   ]
  },
  {
   "cell_type": "markdown",
   "metadata": {},
   "source": [
    "#### Bewehrung\n",
    "\n",
    "Zunächst folgen die Parameter der Bewehrung mit den entsprechenden Symbolbezeichnungen"
   ]
  },
  {
   "cell_type": "code",
   "execution_count": 2,
   "metadata": {},
   "outputs": [
    {
     "data": {
      "text/markdown": [
       "$$\n",
       "\\begin{aligned}\n",
       "\\oslash_{x}& = 14 \\ \\mathrm{mm} \\quad & s_{x}& = 200 \\ \\mathrm{mm} \\quad & \\oslash_{y}& = 12 \\ \\mathrm{mm} \\\\ \n",
       "s_{y}& = 200 \\ \\mathrm{mm} \\quad &  \\quad &  \n",
       " \\end{aligned}\n",
       "$$"
      ],
      "text/plain": [
       "<IPython.core.display.Markdown object>"
      ]
     },
     "metadata": {},
     "output_type": "display_data"
    }
   ],
   "source": [
    "# Längsbewehrung in X-Richtung gerichtet\n",
    "diam_x = 14 * un.mm\n",
    "\n",
    "# Teilung der Längsbewehrung\n",
    "s_x = 200 * un.mm\n",
    "\n",
    "# Längsbewehrung in Y-Richtung gerichtet\n",
    "diam_y = 12 * un.mm\n",
    "\n",
    "# Teilung der Längsbewehrung\n",
    "s_y = 200 * un.mm\n",
    "\n",
    "put_out(symbolic=False)"
   ]
  },
  {
   "cell_type": "markdown",
   "metadata": {},
   "source": [
    "Der Querschnitt der Längsbewehrung für den Meterstreifen beträgt dabei:"
   ]
  },
  {
   "cell_type": "code",
   "execution_count": 3,
   "metadata": {},
   "outputs": [
    {
     "data": {
      "text/markdown": [
       "$$\n",
       "\\begin{aligned}\n",
       "a_{s}& = \\frac{\\pi \\cdot \\oslash_{x}^{2}}{4 \\cdot s_{x}} = 769.69 \\ \\frac{\\mathrm{mm}^{2}}{\\mathrm{m}} \\quad &  \\quad &  \n",
       " \\end{aligned}\n",
       "$$"
      ],
      "text/plain": [
       "<IPython.core.display.Markdown object>"
      ]
     },
     "metadata": {},
     "output_type": "display_data"
    }
   ],
   "source": [
    "# Querschnittsfläche der Längsbewehrung, pro Längeneinheit\n",
    "a_s = (diam_x**2 / 4 * np.pi / s_x).to(un.mm**2 / un.m)\n",
    "\n",
    "put_out(symbolic=True)"
   ]
  },
  {
   "cell_type": "markdown",
   "metadata": {},
   "source": [
    "#### Geometrie\n",
    "\n",
    "Die verwendeten Parameter der Geoemtrie sind hier gezeigt."
   ]
  },
  {
   "cell_type": "code",
   "execution_count": 4,
   "metadata": {},
   "outputs": [
    {
     "data": {
      "text/markdown": [
       "$$\n",
       "\\begin{aligned}\n",
       "c& = 20 \\ \\mathrm{mm} \\quad & h& = 300 \\ \\mathrm{mm} \\quad & b_{w}& = 1 \\ \\mathrm{m} \\\\ \n",
       "l& = 8 \\ \\mathrm{m} \\quad &  \\quad &  \n",
       " \\end{aligned}\n",
       "$$"
      ],
      "text/plain": [
       "<IPython.core.display.Markdown object>"
      ]
     },
     "metadata": {},
     "output_type": "display_data"
    }
   ],
   "source": [
    "# Betonüberdeckung\n",
    "c = 20 * un.mm\n",
    "\n",
    "# Plattenstärke\n",
    "h = 300 * un.mm\n",
    "\n",
    "# Streifenbreite\n",
    "b_w = 1 * un.m\n",
    "\n",
    "# Balkenlänge\n",
    "l = 8 * un.m\n",
    "\n",
    "\n",
    "put_out()"
   ]
  },
  {
   "cell_type": "markdown",
   "metadata": {},
   "source": [
    "Daraus lässt sich die statische Höhe der Längsbeweherung in $X$-Richtung bestimmen:"
   ]
  },
  {
   "cell_type": "code",
   "execution_count": 5,
   "metadata": {},
   "outputs": [
    {
     "data": {
      "text/markdown": [
       "$$\n",
       "\\begin{aligned}\n",
       "d_{x}& = - \\frac{1 \\cdot \\oslash_{x}}{2} - \\oslash_{y} - c + h = 261.0 \\ \\mathrm{mm} \\quad &  \\quad &  \n",
       " \\end{aligned}\n",
       "$$"
      ],
      "text/plain": [
       "<IPython.core.display.Markdown object>"
      ]
     },
     "metadata": {},
     "output_type": "display_data"
    }
   ],
   "source": [
    "# Statische Höhe in der Bewehrung in X-Richtung\n",
    "d_x = h - c - diam_y - 1 / 2 * diam_x\n",
    "\n",
    "put_out(symbolic=True)"
   ]
  },
  {
   "cell_type": "markdown",
   "metadata": {},
   "source": [
    "#### Beton"
   ]
  },
  {
   "cell_type": "markdown",
   "metadata": {},
   "source": [
    "Für den Beton gilt die Zylinderdruckfestigkeit, der Elastizitätsmodul und die Bruchstauchung:"
   ]
  },
  {
   "cell_type": "code",
   "execution_count": 6,
   "metadata": {},
   "outputs": [
    {
     "data": {
      "text/markdown": [
       "$$\n",
       "\\begin{aligned}\n",
       "f_{cc}& = 30.0 \\ \\frac{\\mathrm{N}}{\\mathrm{mm}^{2}} \\quad & E_{c}& = 29.3 \\ \\frac{\\mathrm{kN}}{\\mathrm{mm}^{2}} \\quad & \\varepsilon_{cu}& = 5 \\ \\mathrm{‰} \\end{aligned}\n",
       "$$"
      ],
      "text/plain": [
       "<IPython.core.display.Markdown object>"
      ]
     },
     "metadata": {},
     "output_type": "display_data"
    }
   ],
   "source": [
    "# Zylinderdruckfestigkeit vorausgesetzt\n",
    "f_cc = 30 * un.N / un.mm**2\n",
    "\n",
    "# Elastizitätsmodul des Betons\n",
    "E_c = 29.3 * un.kN / un.mm**2\n",
    "\n",
    "# Bruchstauchung Erfahrungswert\n",
    "varepsilon_cu = 5 * un.permille\n",
    "\n",
    "put_out()\n"
   ]
  },
  {
   "cell_type": "markdown",
   "metadata": {},
   "source": [
    "Daraus wird mit empirischen Ansätzen eine Bauteilfestigkeit und eine Betonzugfestigkeit bestimmt."
   ]
  },
  {
   "cell_type": "code",
   "execution_count": 7,
   "metadata": {},
   "outputs": [
    {
     "data": {
      "text/markdown": [
       "$$\n",
       "\\begin{aligned}\n",
       "f_{ct}& = 0.3 \\cdot f_{cc}^{\\frac{2}{3}} = 2.9 \\ \\frac{\\mathrm{N}}{\\mathrm{mm}^{2}} \\\\ \n",
       "f_{c}& = 2.5 \\cdot f_{cc}^{\\frac{2}{3}} = 24.14 \\ \\frac{\\mathrm{N}}{\\mathrm{mm}^{2}} \\end{aligned}\n",
       "$$"
      ],
      "text/plain": [
       "<IPython.core.display.Markdown object>"
      ]
     },
     "metadata": {},
     "output_type": "display_data"
    }
   ],
   "source": [
    "# Betonzugfestigkeit, nicht einheitentreu\n",
    "f_ct = (0.3 * f_cc.m ** (2 / 3)) * un.N / un.mm**2\n",
    "\n",
    "# Effektive Betondruckfestigkeit, nicht einheitentreu\n",
    "f_c = (2.5 * f_cc.m ** (2 / 3)) * un.N / un.mm**2\n",
    "\n",
    "\n",
    "put_out(symbolic=True, evaluate=False, rows=1)"
   ]
  },
  {
   "cell_type": "markdown",
   "metadata": {},
   "source": [
    "### Modellbildung - Zuggurtmodell"
   ]
  },
  {
   "cell_type": "code",
   "execution_count": 8,
   "metadata": {},
   "outputs": [
    {
     "data": {
      "text/markdown": [
       "$$\n",
       "\\begin{aligned}\n",
       "\\tau_{b0}& = 2 \\cdot f_{ct} = 5.79 \\ \\frac{\\mathrm{N}}{\\mathrm{mm}^{2}} \\\\ \n",
       "\\tau_{b1}& = f_{ct} = 2.9 \\ \\frac{\\mathrm{N}}{\\mathrm{mm}^{2}} \\end{aligned}\n",
       "$$"
      ],
      "text/plain": [
       "<IPython.core.display.Markdown object>"
      ]
     },
     "metadata": {},
     "output_type": "display_data"
    }
   ],
   "source": [
    "# Verbundschubspannung vor dem Fliessen\n",
    "tau_b0 = 2 * f_ct\n",
    "\n",
    "# Verbundschubspannung vor dem Fliessen\n",
    "tau_b1 = f_ct\n",
    "\n",
    "put_out(symbolic=True, rows=1)"
   ]
  },
  {
   "cell_type": "code",
   "execution_count": 9,
   "metadata": {},
   "outputs": [
    {
     "data": {
      "text/markdown": [
       "$$\n",
       "\\begin{aligned}\n",
       "h_{eff}& = 2 \\cdot \\left(- d_{x} + h\\right) = 78.0 \\ \\mathrm{mm} \\\\ \n",
       "\\rho& = \\frac{a_{s}}{h_{eff}} = 0.99 \\ \\mathrm{\\%} \\end{aligned}\n",
       "$$"
      ],
      "text/plain": [
       "<IPython.core.display.Markdown object>"
      ]
     },
     "metadata": {},
     "output_type": "display_data"
    }
   ],
   "source": [
    "# Abschätzung der mitwirkenden Höhe der Betonzugzone\n",
    "h_eff = 2 * (h - d_x)\n",
    "\n",
    "# Geometrischer Bewehrungsgehalt\n",
    "rho = (a_s / h_eff).to(un.percent)\n",
    "\n",
    "put_out(symbolic=True, rows=1)"
   ]
  },
  {
   "cell_type": "code",
   "execution_count": 10,
   "metadata": {},
   "outputs": [
    {
     "data": {
      "text/markdown": [
       "$$\n",
       "\\begin{aligned}\n",
       "s_{r0}& = \\frac{\\oslash_{x} \\cdot \\left(1 - \\rho\\right)}{4 \\cdot \\rho} = 351.19 \\ \\mathrm{mm} \\\\ \n",
       "s_{rl}& = 1 \\cdot \\frac{1}{2} \\cdot s_{r0} = 175.59 \\ \\mathrm{mm} \\end{aligned}\n",
       "$$"
      ],
      "text/plain": [
       "<IPython.core.display.Markdown object>"
      ]
     },
     "metadata": {},
     "output_type": "display_data"
    }
   ],
   "source": [
    "# maximaler Rissabstand\n",
    "s_r0 = (diam_x * (1 - rho) / (4 * rho)).to(un.mm)\n",
    "\n",
    "# minimaler Rissabstand\n",
    "s_rl = 1 / 2 * s_r0\n",
    "\n",
    "put_out(symbolic=True, rows=1)"
   ]
  },
  {
   "cell_type": "code",
   "execution_count": 11,
   "metadata": {},
   "outputs": [
    {
     "data": {
      "text/markdown": [
       "$$\n",
       "\\begin{aligned}\n",
       "s_{r}& = 200 \\ \\mathrm{mm} \\quad &  \\quad &  \n",
       " \\end{aligned}\n",
       "$$"
      ],
      "text/plain": [
       "<IPython.core.display.Markdown object>"
      ]
     },
     "metadata": {},
     "output_type": "display_data"
    }
   ],
   "source": [
    "# Annahme des Rissabstandes, entspricht dem Abstand der Querstäbe\n",
    "s_r = 200 * un.mm\n",
    "\n",
    "put_out()"
   ]
  },
  {
   "cell_type": "code",
   "execution_count": 12,
   "metadata": {},
   "outputs": [],
   "source": [
    "# Bestimmung der mittleren Stahldehnung\n",
    "\n",
    "def varepsilon_sm_bilinear(\n",
    "    E_s, E_sh, s_r, tau_b0, tau_b1, diam, sigma_sr, f_sy, f_su, epsilon_sy\n",
    "):\n",
    "    display(Markdown(\"Berechnungen nach @marti_tragverhalten_1999 Seite 156\"))\n",
    "    if sigma_sr <= f_sy:\n",
    "        display(Markdown(\"Gleichung 1\"))\n",
    "        return sigma_sr / E_s - tau_b0 * s_r / (E_s * diam)\n",
    "\n",
    "    if f_sy <= sigma_sr <= (f_sy + (2 * tau_b1 * s_r) / diam):\n",
    "        display(Markdown(\"Gleichung 2\"))\n",
    "        return (\n",
    "            (sigma_sr - f_sy) ** 2\n",
    "            * diam\n",
    "            / (4 * E_sh * tau_b1 * s_r)\n",
    "            * (1 - E_sh * tau_b0 / (E_s * tau_b1))\n",
    "            + (sigma_sr - f_sy) / E_s * tau_b0 / tau_b1\n",
    "            + (epsilon_sy - tau_b0 * s_r / (E_s * diam))\n",
    "        )\n",
    "\n",
    "    if (f_sy + 2 * tau_b1 * s_r / diam) <= sigma_sr <= f_su:\n",
    "        display(Markdown(\"Gleichung 3\"))\n",
    "        return (sigma_sr - f_sy) / E_sh + (epsilon_sy - tau_b1 * s_r / (E_sh * diam))\n",
    "    \n",
    "\n",
    "# Extending the function to include the equations from Fall B (D.6 to D.10).\n",
    "def varepsilon_sm_trilinear(sigma_max, f_sy, f_sh, fsu, E_s, E_sh1, E_sh2, tau_b0, tau_b1, tau_b2, diam, s_rm, epsilon_sy, epsilon_sh):\n",
    "    # Fall A (D.1 to D.5) logic remains the same:\n",
    "    # Equation D.1: for σ_max ≤ f_sy\n",
    "    if (f_sh - f_sy)*diam/(4*tau_b1) > s_r/2:\n",
    "        display(Markdown(f\"Da $f_{{sh}}-f_{{sy}} * \\\\frac{{\\\\oslash}}{{4\\cdot \\\\tau_{{b1}}}} = {(f_sh - f_sy) * diam /(4*tau_b1)} \\geq \\\\frac{{s_r}}{{2}} = {s_r/2}$ gilt, wird nach @alvarez_einfluss_1998 Seite 163 Fall A gerechnet\"))\n",
    "        if sigma_max <= f_sy:\n",
    "            display(Markdown(\"Gleichung 1\"))\n",
    "            esm = (sigma_max / E_s) - (tau_b0 * s_rm) / (E_s * diam)\n",
    "            return esm\n",
    "        \n",
    "        # Equation D.2: for f_sy < σ_max ≤ (f_sy + τ_b1 * s_rm / Ø)\n",
    "        elif f_sy < sigma_max <= (f_sy + (tau_b1 * s_rm / diam)):\n",
    "            display(Markdown(\"Gleichung 2\"))\n",
    "            term1 = (sigma_max - f_sy)**2 * diam / (4 * E_sh1 * tau_b1 * s_rm)\n",
    "            term2 = (1 - (E_sh1 * tau_b0) / (E_s * tau_b1)) * tau_b0 / E_s\n",
    "            term3 = epsilon_sy - (tau_b0 * s_rm) / (E_s * diam)\n",
    "            esm = term1 + term2 + term3\n",
    "            return esm\n",
    "        \n",
    "        # Equation D.3: for (f_sy + τ_b1 * s_rm / Ø) < σ_max ≤ f_sh\n",
    "        elif (f_sy + (tau_b1 * s_rm / diam)) < sigma_max <= f_sh:\n",
    "            display(Markdown(\"Gleichung 3\"))\n",
    "            esm = ((sigma_max - f_sy) / E_sh1) + epsilon_sy - (tau_b1 * s_rm) / (E_sh1 * diam)\n",
    "            return esm\n",
    "        \n",
    "        # Equation D.4: for f_sh < σ_max ≤ (f_sh + τ_b2 * s_rm / Ø)\n",
    "        elif f_sh < sigma_max <= (f_sh + (tau_b2 * s_rm / diam)):\n",
    "            display(Markdown(\"Gleichung 4\"))\n",
    "            term1 = (sigma_max - f_sh)**2 * diam / (4 * E_sh2 * tau_b2 * s_rm)\n",
    "            term2 = (1 - (E_sh2 * tau_b1) / (E_sh1 * tau_b2)) * tau_b1 / E_s\n",
    "            term3 = epsilon_sy - (tau_b2 * s_rm) / (E_sh2 * diam)\n",
    "            esm = term1 + term2 + term3\n",
    "            return esm\n",
    "        \n",
    "        # Equation D.5: for (f_sh + 2 * τ_b2 * s_rm / Ø) ≤ σ_max ≤ f_su\n",
    "        elif (f_sh + (2 * tau_b2 * s_rm / diam)) <= sigma_max <= fsu:\n",
    "            display(Markdown(\"Gleichung 5\"))\n",
    "            esm = ((sigma_max - f_sh) / E_sh2) + epsilon_sy - (tau_b2 * s_rm) / (E_sh2 * diam)\n",
    "            return esm\n",
    "    \n",
    "    elif (f_sh - f_sy)*diam/(4*tau_b1) <=s_r/2:\n",
    "        display(Markdown(f\"Da $f_{{sh}}-f_{{sy}} \\cdot \\\\frac{{\\\\oslash}}{{4\\cdot \\\\tau_{{b1}}}} = {(f_sh - f_sy) * diam /(4*tau_b1)} \\leq \\\\frac{{s_r}}{{2}} = {s_r/2}$ gilt, wird nach @alvarez_einfluss_1998 Seite 163 Fall B gerechnet\"))\n",
    "        # Fall B (D.6 to D.10) logic:\n",
    "        # Equation D.6: for σ_max ≤ f_sy\n",
    "        if sigma_max <= f_sy:\n",
    "            display(Markdown(\"Gleichung 1\"))\n",
    "            esm = (sigma_max / E_s) - (tau_b0 * s_rm) / (E_s * diam)\n",
    "            return esm\n",
    "\n",
    "        # Equation D.7: for f_sy < σ_max ≤ f_sh\n",
    "        elif f_sy < sigma_max <= f_sh:\n",
    "            display(Markdown(\"Gleichung 2\"))\n",
    "            term1 = ((sigma_max - f_sy)**2 * diam) / (4 * E_sh1 * tau_b1 * s_rm)\n",
    "            term2 = (1 - E_sh1 * tau_b0 / (E_s * tau_b1)) * tau_b0 / E_s\n",
    "            term3 = (sigma_max - f_sy) * tau_b0 / (E_s * tau_b1)\n",
    "            term4 = epsilon_sy - tau_b0 * s_rm / (E_s * diam)\n",
    "            esm = term1 + term2 + term3 + term4\n",
    "            return esm\n",
    "        \n",
    "        # Equation D.8: for f_sh ≤ σ_max ≤ (f_sh + τ_b2 * s_rm / Ø)\n",
    "        elif f_sh <= sigma_max <= (f_sh + 2 * tau_b2 * s_rm / diam - (f_sh - f_sy) * tau_b2 / tau_b1):\n",
    "            display(Markdown(\"Gleichung 3\"))\n",
    "            term1 = (sigma_max - f_sh)**2 * diam / (4 * E_sh2 * tau_b2 * s_rm)\n",
    "            term2 = (1 - (E_sh2 * tau_b0) / (E_s * tau_b1)) * tau_b0 / E_s\n",
    "            term3 = (sigma_max - f_sh) * tau_b1 / (E_s * tau_b2)\n",
    "            term4 = (epsilon_sy - epsilon_sh) / 2 * tau_b2 / tau_b1\n",
    "            term5 = (epsilon_sy - tau_b0 * s_rm / (E_s * diam)) * tau_b0 / tau_b1\n",
    "            esm = term1 + term2 + term3 + term4 + term5\n",
    "            return esm\n",
    "        \n",
    "        # Equation D.9: for f_sh + τ_b2 * s_rm / Ø ≤ σ_max ≤ f_su\n",
    "        elif (f_sh + 2 * tau_b2 * s_rm / diam - (f_sh - f_sy) * tau_b2 / tau_b1) <= sigma_max <= fsu:\n",
    "            display(Markdown(\"Gleichung 4\"))\n",
    "            term1 = (sigma_max - f_sh)**2 * diam / (4 * E_sh2 * tau_b2 * s_rm)\n",
    "            term2 = (1 - E_sh2 * tau_b1 / (E_sh1 * tau_b2)) * tau_b1 / E_s\n",
    "            term3 = (sigma_max - f_sh) * tau_b1 / E_sh1\n",
    "            term4 = (epsilon_sy - tau_b2 * s_rm / (E_sh2 * diam)) * tau_b2 / tau_b1\n",
    "            esm = term1 + term2 + term3 + term4\n",
    "            return esm\n",
    "        \n",
    "        # Equation D.10: for (f_sh + 2 * τ_b2 * s_rm / Ø) ≤ σ_max ≤ f_su\n",
    "        elif (f_sh + 2 * tau_b2 * s_rm / diam) <= sigma_max <= fsu:\n",
    "            display(Markdown(\"Gleichung 5\"))\n",
    "            esm = ((sigma_max - f_sh) / E_sh2) + epsilon_sh - (tau_b2 * s_rm) / (E_sh2 * diam)\n",
    "            return esm\n",
    "        \n",
    "    # If none of the conditions are met, return an error.\n",
    "    else:\n",
    "        raise ValueError(\"σ_max is out of the valid range\")\n",
    "\n",
    "# This function is now extended to handle both Fall A and Fall B scenarios (D.1 to D.10).\n",
    "\n"
   ]
  },
  {
   "cell_type": "markdown",
   "metadata": {},
   "source": []
  },
  {
   "cell_type": "markdown",
   "metadata": {},
   "source": [
    "## Kaltverformter Betonstahl - B500A\n",
    "\n",
    "### Eigenschaften des Betonstahls\n",
    "\n",
    "Allgemein werden die Eigenschaften für den Betonstahl B500A mit einem Suffix $A$ gekennzeichnet.\n"
   ]
  },
  {
   "cell_type": "code",
   "execution_count": 13,
   "metadata": {},
   "outputs": [
    {
     "data": {
      "text/markdown": [
       "$$\n",
       "\\begin{aligned}\n",
       "f_{sy , A}& = 570.0 \\ \\frac{\\mathrm{N}}{\\mathrm{mm}^{2}} \\quad & f_{su , A}& = 600.0 \\ \\frac{\\mathrm{N}}{\\mathrm{mm}^{2}} \\quad & \\varepsilon_{sy , A}& = 2.78 \\ \\mathrm{‰} \\\\ \n",
       "\\varepsilon_{su , A}& = 25 \\ \\mathrm{‰} \\quad & E_{s , A}& = 205.0 \\ \\frac{\\mathrm{kN}}{\\mathrm{mm}^{2}} \\quad & E_{sh , A}& = 1350.0 \\ \\frac{\\mathrm{N}}{\\mathrm{mm}^{2}} \\end{aligned}\n",
       "$$"
      ],
      "text/plain": [
       "<IPython.core.display.Markdown object>"
      ]
     },
     "metadata": {},
     "output_type": "display_data"
    }
   ],
   "source": [
    "# Fliessgrenze\n",
    "f_sy_com_A = 570 * un.N / un.mm**2\n",
    "\n",
    "# Zugfestigkeit\n",
    "f_su_com_A = 600 * un.N / un.mm**2\n",
    "\n",
    "# Fliessdehnung\n",
    "varepsilon_sy_com_A = 2.78 * un.permille\n",
    "\n",
    "# Bruchdehnung\n",
    "varepsilon_su_com_A = 25 * un.permille\n",
    "\n",
    "# Elastizitätsmodul\n",
    "E_s_com_A = 205 * un.kN / un.mm**2\n",
    "\n",
    "# Verfestigungsmodul\n",
    "E_sh_com_A = 1350 * un.N / un.mm**2\n",
    "\n",
    "put_out()"
   ]
  },
  {
   "cell_type": "code",
   "execution_count": 14,
   "metadata": {},
   "outputs": [],
   "source": [
    "# | echo: false\n",
    "\n",
    "stress_b500a_array = np.array([0, f_sy_com_A.m, f_su_com_A.m]) * un.MPa\n",
    "strain_b500a_array = np.array([0, varepsilon_sy_com_A, varepsilon_su_com_A])\n",
    "\n",
    "fig_b500a, ax_b500a = plt.subplots()\n",
    "ax_b500a.plot(strain_b500a_array, stress_b500a_array.to(un.MPa).m, color=\"k\")\n",
    "\n",
    "# Scientific Notation if needed\n",
    "apply_scientific_notation(ax_b500a, stress_b500a_array.m)\n",
    "\n",
    "# Set axis labels\n",
    "ax_b500a.set_ylabel(r\"$\\sigma$ [N/mm$^2$]\")\n",
    "ax_b500a.set_xlabel(r\"$\\varepsilon_s$ [-]\")\n",
    "\n",
    "# Set limits\n",
    "ax_b500a.set_xlim(xmax=135 / 1000)\n",
    "ax_b500a.set_ylim(ymax=750)\n",
    "\n",
    "# Show the plot\n",
    "# plt.tight_layout()\n",
    "plt.savefig(\"imgs/jag_stress_strain_b500a.svg\")\n",
    "plt.close()"
   ]
  },
  {
   "cell_type": "markdown",
   "metadata": {},
   "source": [
    "![Spannungs-Dehnungs-Beziehung des Betonstahls B500A](../imgs/jag_stress_strain_b500a_bearb.svg){#stress_strain_b500a}"
   ]
  },
  {
   "cell_type": "markdown",
   "metadata": {},
   "source": [
    "### Linear elastische - gerissene Biegesteifigkeit\n",
    "\n",
    "Wird fortan für sämtliche Verformungsberechnungen verwendet.\n",
    "Querschnittsanalyse:\n",
    "\n",
    "![Querschnittsanalyse Fliessen der Zugbewehrung, Beton völlig elastisch](../imgs/jag_gerissene_steifigkeit_bearb.svg){#fig-jag_gerissene_steifigkeit}\n"
   ]
  },
  {
   "cell_type": "code",
   "execution_count": 15,
   "metadata": {},
   "outputs": [
    {
     "data": {
      "text/markdown": [
       "$$\n",
       "\\begin{aligned}\n",
       "n& = \\frac{E_{s , A}}{E_{c}} = 7.0 \\  \\quad &  \\quad &  \n",
       " \\end{aligned}\n",
       "$$"
      ],
      "text/plain": [
       "<IPython.core.display.Markdown object>"
      ]
     },
     "metadata": {},
     "output_type": "display_data"
    }
   ],
   "source": [
    "# Wertigkeit der Elastizitätsmodule\n",
    "n = E_s_com_A / E_c\n",
    "\n",
    "put_out(symbolic=True)"
   ]
  },
  {
   "cell_type": "markdown",
   "metadata": {},
   "source": [
    "Die Druckzonenhöhe wird mittels dem Gleichgewicht der horizontalen Kräfte ermittelt"
   ]
  },
  {
   "cell_type": "code",
   "execution_count": 16,
   "metadata": {},
   "outputs": [],
   "source": [
    "# Mittels Sympy (CAS für Python) wird eine analytische Lösung der\n",
    "# Druckzonenhöhe für den gerissenen Querschnitt ermittelt.\n",
    "\n",
    "# Summe der horizontalen Kräfte\n",
    "sum_Fx = sp.sympify(\"1/2*x*b_w*sigma_c -sigma_s*a_s*b_w\")\n",
    "\n",
    "# Definition der Spannung in Abhängigkeit der Dehnungen\n",
    "expr_sigma_c = sp.sympify(\"varepsilon_c * E_c\")\n",
    "expr_sigma_s = sp.sympify(\"varepsilon_s * n * E_c\")\n",
    "\n",
    "# Die Beziehung zwischen der Stahl- und Betondehnung nach Hook\n",
    "expr_epsilon_c = sp.sympify(\"varepsilon_s /(d-x)*x\")\n",
    "\n",
    "# Substitution der Gleichungen\n",
    "sum_Fx_subs = sum_Fx.subs(\n",
    "    {\n",
    "        \"sigma_c\": expr_sigma_c.subs(\"varepsilon_c\", expr_epsilon_c),\n",
    "        \"sigma_s\": expr_sigma_s,\n",
    "    }\n",
    ")\n",
    "\n",
    "# Erstellen einer numerischen Funktion\n",
    "x_solve = sp.solve(sum_Fx_subs, \"x\")[1]\n",
    "x_solve_lambd = sp.lambdify((\"a_s\", \"b_w\", \"n\", \"d\"), x_solve)"
   ]
  },
  {
   "cell_type": "code",
   "execution_count": 17,
   "metadata": {},
   "outputs": [
    {
     "data": {
      "text/markdown": [
       "$$\n",
       "\\begin{aligned}\n",
       "x_{II}& = 47.91 \\ \\mathrm{mm} \\quad &  \\quad &  \n",
       " \\end{aligned}\n",
       "$$"
      ],
      "text/plain": [
       "<IPython.core.display.Markdown object>"
      ]
     },
     "metadata": {},
     "output_type": "display_data"
    }
   ],
   "source": [
    "# Druckzonenhöhe mit Parametern substituiert\n",
    "x_II = x_solve_lambd(a_s, b_w, n, d_x).to(un.mm)\n",
    "\n",
    "put_out(symbolic=False)"
   ]
  },
  {
   "cell_type": "markdown",
   "metadata": {},
   "source": [
    "Damit lässt sich das Flächenträgheitsmoment bestimmen für den gerissenen Querschnitt:"
   ]
  },
  {
   "cell_type": "code",
   "execution_count": 18,
   "metadata": {},
   "outputs": [
    {
     "data": {
      "text/markdown": [
       "$$\n",
       "\\begin{aligned}\n",
       "I_{cII}& = \\frac{b_{w} \\cdot x_{II}^{3}}{12} + b_{w} \\cdot x_{II} \\cdot \\left(\\frac{x_{II}}{2}\\right)^{2} = 36650532.72 \\ \\mathrm{mm}^{4} \\\\ \n",
       "I_{sII}& = a_{s} \\cdot b_{w} \\cdot n \\cdot \\left(d_{x} - x_{II}\\right)^{2} = 244534349.46 \\ \\mathrm{mm}^{4} \\\\ \n",
       "I_{II}& = I_{cII} + I_{sII} = 281184882.18 \\ \\mathrm{mm}^{4} \\end{aligned}\n",
       "$$"
      ],
      "text/plain": [
       "<IPython.core.display.Markdown object>"
      ]
     },
     "metadata": {},
     "output_type": "display_data"
    }
   ],
   "source": [
    "# Flächenmoment 2. Grades für den Beton\n",
    "I_cII = (b_w * x_II**3 / 12 + b_w * x_II * (x_II / 2) ** 2).to(un.mm**4)\n",
    "\n",
    "# Flächenmoment 2. Grades für den Betonstahl\n",
    "I_sII = (a_s * b_w * n * (d_x - x_II) ** 2).to(un.mm**4)\n",
    "\n",
    "# Flächenmoment 2. Grades für den gerissenen Querschnitt\n",
    "I_II = (I_cII + I_sII).to(un.mm**4)\n",
    "\n",
    "put_out(symbolic=True, rows=1, evaluate=False)"
   ]
  },
  {
   "cell_type": "markdown",
   "metadata": {},
   "source": [
    "Abschliessend folgt die gerissene Biegesteifigkeit zu:"
   ]
  },
  {
   "cell_type": "code",
   "execution_count": 19,
   "metadata": {},
   "outputs": [
    {
     "data": {
      "text/markdown": [
       "$$\n",
       "\\begin{aligned}\n",
       "EI_{II , A}& = E_{c} \\cdot I_{II} = 8238.72 \\ \\mathrm{kN} \\cdot \\mathrm{m}^{2} \\quad &  \\quad &  \n",
       " \\end{aligned}\n",
       "$$"
      ],
      "text/plain": [
       "<IPython.core.display.Markdown object>"
      ]
     },
     "metadata": {},
     "output_type": "display_data"
    }
   ],
   "source": [
    "# Gerissene Biegesteifigkeit\n",
    "EI_II_com_A = (E_c * I_II).to(un.kN * un.m**2)\n",
    "\n",
    "put_out(symbolic=True)"
   ]
  },
  {
   "cell_type": "markdown",
   "metadata": {},
   "source": [
    "### Hebelarm der inneren Kräfte"
   ]
  },
  {
   "cell_type": "markdown",
   "metadata": {},
   "source": [
    "Der Hebelarm der inneren Kräfte wird für den gesamten Träger als konstant angenommen.\n",
    "Dabei wird dem Beton die Zylinderdruckfestigkeit hinterlegt, sowie erreicht der Stahl die Zugfestigkeit. \n",
    "\n",
    "![Querschnittsanalyse zur Bestimmung des Hebelarms der inneren Kräfte](../imgs/jag_hebelarm_A.png){#fig-jag_hebelarm_A}"
   ]
  },
  {
   "cell_type": "code",
   "execution_count": 20,
   "metadata": {},
   "outputs": [
    {
     "data": {
      "text/markdown": [
       "$$\n",
       "\\begin{aligned}\n",
       "x_{u , A}& = \\frac{a_{s} \\cdot b_{w} \\cdot f_{su , A}}{0.85 \\cdot b_{w} \\cdot f_{cc}} = 18.11 \\ \\mathrm{mm} \\\\ \n",
       "z_{, A}& = d_{x} - 1 \\cdot \\frac{1}{2} \\cdot 0.85 \\cdot x_{u , A} = 253.3 \\ \\mathrm{mm} \\\\ \n",
       "m_{u , A}& = a_{s} \\cdot f_{su , A} \\cdot z_{, A} = 116.98 \\ \\frac{\\mathrm{kNm}}{\\mathrm{m}} \\end{aligned}\n",
       "$$"
      ],
      "text/plain": [
       "<IPython.core.display.Markdown object>"
      ]
     },
     "metadata": {},
     "output_type": "display_data"
    }
   ],
   "source": [
    "# Druckzonenhöhe für den Biegewiderstand\n",
    "x_u_com_A = (a_s * b_w * f_su_com_A / (0.85 * f_cc * b_w)).to(un.mm)\n",
    "\n",
    "# Hebelarm der inneren Kräfte für den Biegewiderstand\n",
    "z_com_A = d_x - 1 / 2 * 0.85 * x_u_com_A \n",
    "\n",
    "# Biegewiderstand\n",
    "m_u_com_A = (a_s * f_su_com_A * z_com_A).to(un.kNm / un.m)\n",
    "\n",
    "put_out(symbolic=True, evaluate=False, rows=1)"
   ]
  },
  {
   "cell_type": "markdown",
   "metadata": {},
   "source": [
    "### Grenzzustände des Zugglieds\n",
    "\n",
    "Nun werden zwei Grenzzustände des Zugglieds betrachtet. Zum Einen bei Fliessbeginn, zum anderen beim Erreichen der Zugfestigkeit. Dies dient zur Ermittlung der mittleren Stahldehnung beim Erreichen eines Fliessgelenks und einem plastischen Gelenk."
   ]
  },
  {
   "cell_type": "markdown",
   "metadata": {},
   "source": [
    "#### Risselement bei Fliessbeginn - Zustand $A1$\n",
    "\n",
    "Zunächst wird ein Grenzzustand betrachtet, bei dem das Risselement gerade beim Fliessbeginn steht."
   ]
  },
  {
   "cell_type": "code",
   "execution_count": 21,
   "metadata": {},
   "outputs": [
    {
     "data": {
      "text/markdown": [
       "$$\n",
       "\\begin{aligned}\n",
       "\\sigma_{1 s , A1}& = f_{sy , A} = 570.0 \\ \\frac{\\mathrm{N}}{\\mathrm{mm}^{2}} \\\\ \n",
       "\\sigma_{2 s , A1}& = f_{sy , A} - \\frac{4 \\cdot s_{r} \\cdot \\tau_{b0}}{2 \\cdot \\oslash_{x}} = 404.49 \\ \\frac{\\mathrm{N}}{\\mathrm{mm}^{2}} \\\\ \n",
       "\\varepsilon_{1 s , A1}& = \\frac{\\sigma_{1 s , A1}}{E_{s , A}} = 2.78 \\ \\mathrm{‰} \\\\ \n",
       "\\varepsilon_{2 s , A1}& = \\frac{\\sigma_{2 s , A1}}{E_{s , A}} = 1.97 \\ \\mathrm{‰} \\end{aligned}\n",
       "$$"
      ],
      "text/plain": [
       "<IPython.core.display.Markdown object>"
      ]
     },
     "metadata": {},
     "output_type": "display_data"
    }
   ],
   "source": [
    "# Stahlspannungen\n",
    "sigma_1_s_com_A1 = f_sy_com_A\n",
    "sigma_2_s_com_A1 = f_sy_com_A - 4 * tau_b0 * s_r / 2 / diam_x\n",
    "\n",
    "\n",
    "# Stahldehnungen\n",
    "varepsilon_1_s_com_A1 = (sigma_1_s_com_A1 / E_s_com_A).to(un.permille)\n",
    "varepsilon_2_s_com_A1 = (sigma_2_s_com_A1 / E_s_com_A).to(un.permille)\n",
    "\n",
    "put_out(symbolic=True, rows=1)"
   ]
  },
  {
   "cell_type": "markdown",
   "metadata": {},
   "source": [
    "Dabei stellt sich die folgende mittlere Stahldehnung ein."
   ]
  },
  {
   "cell_type": "code",
   "execution_count": 22,
   "metadata": {},
   "outputs": [
    {
     "data": {
      "text/markdown": [
       "Berechnungen nach @marti_tragverhalten_1999 Seite 156"
      ],
      "text/plain": [
       "<IPython.core.display.Markdown object>"
      ]
     },
     "metadata": {},
     "output_type": "display_data"
    },
    {
     "data": {
      "text/markdown": [
       "Gleichung 1"
      ],
      "text/plain": [
       "<IPython.core.display.Markdown object>"
      ]
     },
     "metadata": {},
     "output_type": "display_data"
    },
    {
     "data": {
      "text/markdown": [
       "$$\n",
       "\\begin{aligned}\n",
       "\\varepsilon_{m s , A1}& = 2.38 \\ \\mathrm{‰} \\quad &  \\quad &  \n",
       " \\end{aligned}\n",
       "$$"
      ],
      "text/plain": [
       "<IPython.core.display.Markdown object>"
      ]
     },
     "metadata": {},
     "output_type": "display_data"
    }
   ],
   "source": [
    "# Mittlere Stahldehnung nach \n",
    "varepsilon_m_s_com_A1 = varepsilon_sm_bilinear(E_s_com_A, E_sh_com_A, s_r, tau_b0, tau_b1, diam_x, f_sy_com_A, f_sy_com_A, f_su_com_A, varepsilon_sy_com_A).to(un.permille)\n",
    "\n",
    "put_out()\n"
   ]
  },
  {
   "cell_type": "markdown",
   "metadata": {},
   "source": [
    "Das Fliessmoment beträgt dabei:"
   ]
  },
  {
   "cell_type": "code",
   "execution_count": 23,
   "metadata": {},
   "outputs": [
    {
     "data": {
      "text/markdown": [
       "$$\n",
       "\\begin{aligned}\n",
       "m_{y , A}& = a_{s} \\cdot f_{sy , A} \\cdot z_{, A} = 111.13 \\ \\frac{\\mathrm{kNm}}{\\mathrm{m}} \\quad &  \\quad &  \n",
       " \\end{aligned}\n",
       "$$"
      ],
      "text/plain": [
       "<IPython.core.display.Markdown object>"
      ]
     },
     "metadata": {},
     "output_type": "display_data"
    }
   ],
   "source": [
    "# Fliessmoment\n",
    "m_y_com_A = (a_s * f_sy_com_A * z_com_A).to(un.kNm / un.m)\n",
    "\n",
    "put_out(symbolic=True)"
   ]
  },
  {
   "cell_type": "code",
   "execution_count": 24,
   "metadata": {},
   "outputs": [],
   "source": [
    "# | echo: false\n",
    "\n",
    "\n",
    "def plot_stress_strain(\n",
    "    coordinates,\n",
    "    filename,\n",
    "    strain_mean=0,\n",
    "    strain=False,\n",
    "    stress=True,\n",
    "):\n",
    "\n",
    "    # Plot the polygon\n",
    "    x, y = zip(*coordinates)  # Unzip the coordinates into x and y\n",
    "\n",
    "    fig, ax = plt.subplots()\n",
    "\n",
    "    if strain == True:\n",
    "        stress = False\n",
    "        y = np.array(y)*1000  # Convert to permille\n",
    "        xlabel = r\"$x$ [mm]\"\n",
    "        permille = '$10^{-3}$'\n",
    "        ylabel = rf\"$\\varepsilon$ [{permille}]\"\n",
    "        \n",
    "        # Append the first point to close the polygon\n",
    "        x = np.append(x, x[0])\n",
    "        y = np.append(y, y[0])\n",
    "\n",
    "        # Plot the coordinates\n",
    "        ax.plot(x, y, \"black\")\n",
    "        ax.fill(x, y, color=\"darkgray\", alpha=0.2)\n",
    "        ax.axhline(strain_mean, linestyle='--', color = 'black')\n",
    "\n",
    "    if stress == True:\n",
    "        xlabel = r\"$x$ [mm]\"\n",
    "        ylabel = r\"$\\sigma$ [N/mm$^2$]\"\n",
    "        \n",
    "        # Append the first point to close the polygon\n",
    "        x = np.append(x, x[0])\n",
    "        y = np.append(y, y[0])\n",
    "\n",
    "        # Plot the coordinates\n",
    "        ax.plot(x, y, \"black\")\n",
    "\n",
    "\n",
    "    # Add labels and show the plot\n",
    "    ax.set_ylabel(ylabel)\n",
    "    ax.set_xlabel(xlabel)\n",
    "\n",
    "    # Save the plot to the specified file\n",
    "    plt.savefig(filename)\n",
    "    plt.close()\n"
   ]
  },
  {
   "cell_type": "code",
   "execution_count": 25,
   "metadata": {},
   "outputs": [],
   "source": [
    "# | echo: false\n",
    "\n",
    "coords_a1_stress = [\n",
    "    (0, 0),\n",
    "    (s_r.m / 2, 0),\n",
    "    (s_r.m / 2, sigma_2_s_com_A1.m),\n",
    "    (0, sigma_1_s_com_A1.m),\n",
    "]\n",
    "\n",
    "plot_stress_strain(coords_a1_stress, \"imgs/jag_stress_a1.svg\", stress=True)\n",
    "\n",
    "\n",
    "coords_a1_strain = [\n",
    "    (0, 0),\n",
    "    (s_r.m / 2, 0),\n",
    "    (s_r.m / 2, varepsilon_2_s_com_A1),\n",
    "    (0, varepsilon_1_s_com_A1),\n",
    "]\n",
    "\n",
    "plot_stress_strain(coords_a1_strain, \"imgs/jag_strain_a1.svg\", strain=True,strain_mean=varepsilon_m_s_com_A1.m)"
   ]
  },
  {
   "cell_type": "markdown",
   "metadata": {},
   "source": [
    "::: {#fig-jag_zustand_a1 layout-ncol=2}\n",
    "![Spannungsverlauf entlang des Zugglieds auf halbem Rissabstand](../imgs/jag_stress_a1.svg){#fig-jag_stress_a1}\n",
    "\n",
    "![Dehnungsverlauf entlang des Zugglieds auf halbem Rissabstand](../imgs/jag_strain_a1.svg){#fig-jag_strain_a1}\n",
    "\n",
    "Spannungs- und Dehnungsverlauf entlang der Hälfte des Rissabstands für den Zustand $A1$\n",
    ":::"
   ]
  },
  {
   "cell_type": "markdown",
   "metadata": {},
   "source": [
    "#### Risselement beim Erreichen der Zugfestigkeit - Zustand $A2$\n",
    "\n",
    "Innerhalb des Risselements befindet sich der Betonstahl über der Fliessgrenze, sowohl bereichsweise unterhalb der Fliessgrenze. Dies führt zu den folgenden Spannungs- und Dehnungsverteilungen.\n",
    "\n",
    "Dazu wird zunächst der Bereich bestimmt, in dem die Bewehrung sich im plastischen Bereich befindet innerhalb des Zugglieds:"
   ]
  },
  {
   "cell_type": "code",
   "execution_count": 26,
   "metadata": {},
   "outputs": [
    {
     "data": {
      "text/markdown": [
       "$$\n",
       "\\begin{aligned}\n",
       "\\Delta_{x pl , A2}& = \\frac{f_{su , A} - f_{sy , A}}{4 \\cdot \\frac{1}{\\oslash_{x}} \\cdot \\tau_{b1}} = 36.25 \\ \\mathrm{mm} \\\\ \n",
       "\\Delta_{x el , A2}& = - \\Delta_{x pl , A2} + \\frac{s_{r}}{2} = 63.75 \\ \\mathrm{mm} \\end{aligned}\n",
       "$$"
      ],
      "text/plain": [
       "<IPython.core.display.Markdown object>"
      ]
     },
     "metadata": {},
     "output_type": "display_data"
    }
   ],
   "source": [
    "# Plastischer Bereich\n",
    "Delta_x_pl_com_A2 = (f_su_com_A - f_sy_com_A) / (4 * tau_b1 / diam_x)\n",
    "\n",
    "# Elastischer Bereich\n",
    "Delta_x_el_com_A2 = s_r / 2 - Delta_x_pl_com_A2\n",
    "\n",
    "put_out(symbolic=True, evaluate=False, rows=1)"
   ]
  },
  {
   "cell_type": "markdown",
   "metadata": {},
   "source": [
    "Die entsprechenden Spannungen und Dehnungen sin die folgenden. Dargestellt sind diese in der @fig-jag_zustand_a2."
   ]
  },
  {
   "cell_type": "code",
   "execution_count": 27,
   "metadata": {},
   "outputs": [
    {
     "data": {
      "text/markdown": [
       "$$\n",
       "\\begin{aligned}\n",
       "\\sigma_{3 s , A2}& = - \\frac{4 \\cdot \\Delta_{x el , A2} \\cdot \\tau_{b0}}{\\oslash_{x}} + f_{sy , A} = 464.49 \\ \\frac{\\mathrm{N}}{\\mathrm{mm}^{2}} \\\\ \n",
       "\\sigma_{2 s , A2}& = f_{sy , A} = 570.0 \\ \\frac{\\mathrm{N}}{\\mathrm{mm}^{2}} \\\\ \n",
       "\\sigma_{1 s , A2}& = \\frac{4 \\cdot \\Delta_{x pl , A2} \\cdot \\tau_{b1}}{\\oslash_{x}} + f_{sy , A} = 600.0 \\ \\frac{\\mathrm{N}}{\\mathrm{mm}^{2}} \\\\ \n",
       "\\varepsilon_{1 s , A2}& = \\varepsilon_{su , A} = 25 \\ \\mathrm{‰} \\\\ \n",
       "\\varepsilon_{2 s , A2}& = \\varepsilon_{sy , A} = 2.78 \\ \\mathrm{‰} \\\\ \n",
       "\\varepsilon_{3 s , A2}& = \\frac{\\sigma_{3 s , A2}}{E_{s , A}} = 2.27 \\ \\mathrm{‰} \\end{aligned}\n",
       "$$"
      ],
      "text/plain": [
       "<IPython.core.display.Markdown object>"
      ]
     },
     "metadata": {},
     "output_type": "display_data"
    }
   ],
   "source": [
    "# Stahlspannungen\n",
    "sigma_3_s_com_A2 = f_sy_com_A - 4 * tau_b0 * Delta_x_el_com_A2 / diam_x\n",
    "sigma_2_s_com_A2 = f_sy_com_A\n",
    "sigma_1_s_com_A2 = f_sy_com_A + 4 * tau_b1 * Delta_x_pl_com_A2 / diam_x\n",
    "\n",
    "# Stahldehnung\n",
    "varepsilon_1_s_com_A2 = varepsilon_su_com_A\n",
    "varepsilon_2_s_com_A2 = varepsilon_sy_com_A\n",
    "varepsilon_3_s_com_A2 = (sigma_3_s_com_A2 / E_s_com_A).to(un.permille)\n",
    "\n",
    "put_out(symbolic=True, rows=1, evaluate=False)"
   ]
  },
  {
   "cell_type": "markdown",
   "metadata": {},
   "source": [
    "Und die mittlere Stahldehnung beträgt dabei:"
   ]
  },
  {
   "cell_type": "code",
   "execution_count": 28,
   "metadata": {},
   "outputs": [
    {
     "data": {
      "text/markdown": [
       "Berechnungen nach @marti_tragverhalten_1999 Seite 156"
      ],
      "text/plain": [
       "<IPython.core.display.Markdown object>"
      ]
     },
     "metadata": {},
     "output_type": "display_data"
    },
    {
     "data": {
      "text/markdown": [
       "Gleichung 2"
      ],
      "text/plain": [
       "<IPython.core.display.Markdown object>"
      ]
     },
     "metadata": {},
     "output_type": "display_data"
    },
    {
     "data": {
      "text/markdown": [
       "$$\n",
       "\\begin{aligned}\n",
       "\\varepsilon_{m s , A2}& = 6.64 \\ \\mathrm{‰} \\quad &  \\quad &  \n",
       " \\end{aligned}\n",
       "$$"
      ],
      "text/plain": [
       "<IPython.core.display.Markdown object>"
      ]
     },
     "metadata": {},
     "output_type": "display_data"
    }
   ],
   "source": [
    "# Mittlere Stahldehnung\n",
    "varepsilon_m_s_com_A2 = varepsilon_sm_bilinear(\n",
    "    E_s_com_A, E_sh_com_A, s_r, tau_b0, tau_b1, diam_x, f_su_com_A, f_sy_com_A, f_su_com_A, varepsilon_sy_com_A\n",
    ").to(un.permille)\n",
    "\n",
    "put_out()"
   ]
  },
  {
   "cell_type": "code",
   "execution_count": 29,
   "metadata": {},
   "outputs": [],
   "source": [
    "# | echo: false\n",
    "\n",
    "coords_A2_stress = [\n",
    "    (0, 0), \n",
    "    (Delta_x_pl_com_A2.m, 0), \n",
    "    (s_r.m / 2, 0), \n",
    "    (s_r.m / 2, sigma_3_s_com_A2.m), \n",
    "    (Delta_x_pl_com_A2.m, sigma_2_s_com_A2.m),\n",
    "    (0, sigma_1_s_com_A2.m)\n",
    "    ]\n",
    "\n",
    "plot_stress_strain(coords_A2_stress, \"imgs/jag_stress_a2.svg\", stress=True)\n",
    "\n",
    "\n",
    "coords_Z2_strain = [\n",
    "    (0, 0),\n",
    "    (Delta_x_pl_com_A2.m, 0),\n",
    "    (s_r.m / 2, 0),\n",
    "    (s_r.m / 2, varepsilon_3_s_com_A2),\n",
    "    (Delta_x_pl_com_A2.m, varepsilon_2_s_com_A2),\n",
    "    (0, varepsilon_1_s_com_A2),\n",
    "]\n",
    "\n",
    "plot_stress_strain(coords_Z2_strain, \"imgs/jag_strain_a2.svg\", strain=True, strain_mean=varepsilon_m_s_com_A2.m)"
   ]
  },
  {
   "cell_type": "markdown",
   "metadata": {},
   "source": [
    "::: {#fig-jag_zustand_a2 layout-ncol=2}\n",
    "![Spannungsverlauf entlang des Zugglieds auf halbem Rissabstand](../imgs/jag_stress_a2.svg){#fig-jag_stress_a2}\n",
    "\n",
    "![Dehnungsverlauf entlang des Zugglieds auf halbem Rissabstand](../imgs/jag_strain_a2.svg){#fig-jag_strain_a2}\n",
    "\n",
    "Spannungs- und Dehnungsverlauf entlang der Hälfte des Rissabstands für den Zustand $A2$\n",
    ":::"
   ]
  },
  {
   "cell_type": "markdown",
   "metadata": {},
   "source": [
    "#### Zusammenfassung\n",
    "\n",
    "Zusammenfassend sind die Werte erneut aufgezeigt. Fliessen und Erreichen der Zugfestigkeit:"
   ]
  },
  {
   "cell_type": "code",
   "execution_count": 30,
   "metadata": {},
   "outputs": [
    {
     "data": {
      "text/markdown": [
       "$$\n",
       "\\begin{aligned}\n",
       "\\varepsilon_{m s , A1}& = 2.38 \\ \\mathrm{‰} \\quad & m_{y , A}& = 111.13 \\ \\frac{\\mathrm{kNm}}{\\mathrm{m}} \\\\ \n",
       "\\varepsilon_{m s , A2}& = 6.64 \\ \\mathrm{‰} \\quad & m_{u , A}& = 116.98 \\ \\frac{\\mathrm{kNm}}{\\mathrm{m}} \\end{aligned}\n",
       "$$"
      ],
      "text/plain": [
       "<IPython.core.display.Markdown object>"
      ]
     },
     "metadata": {},
     "output_type": "display_data"
    }
   ],
   "source": [
    "varepsilon_m_s_com_A1\n",
    "m_y_com_A\n",
    "varepsilon_m_s_com_A2\n",
    "m_u_com_A\n",
    "\n",
    "\n",
    "put_out(symbolic=False, rows=2)"
   ]
  },
  {
   "cell_type": "markdown",
   "metadata": {},
   "source": [
    "### Systemanalyse \n",
    "\n",
    "Nun wird das System analysiert, sprich der Zweifeldträger."
   ]
  },
  {
   "cell_type": "markdown",
   "metadata": {},
   "source": [
    "#### Fliessen des Mittelauflagers - Zustand $SA1$\n",
    "\n",
    "Zunächst wird sich ein Fliessgelenk beim Mittelauflager ausbilden. Dazu wird nun die zugehörige Streckenlast berechnet und die entsprechende Felddeformation ermittelt."
   ]
  },
  {
   "cell_type": "code",
   "execution_count": 31,
   "metadata": {},
   "outputs": [
    {
     "data": {
      "text/markdown": [
       "$$\n",
       "\\begin{aligned}\n",
       "q_{SA1}& = \\frac{8 \\cdot b_{w} \\cdot m_{y , A}}{l^{2}} = 13.89 \\ \\frac{\\mathrm{kN}}{\\mathrm{m}} \\\\ \n",
       "w_{SA1}& = \\frac{5 \\cdot l^{4} \\cdot q_{SA1}}{384 \\cdot EI_{II , A}} - \\frac{b_{w} \\cdot l^{2} \\cdot m_{y , A}}{16 \\cdot EI_{II , A}} = 35.97 \\ \\mathrm{mm} \\end{aligned}\n",
       "$$"
      ],
      "text/plain": [
       "<IPython.core.display.Markdown object>"
      ]
     },
     "metadata": {},
     "output_type": "display_data"
    }
   ],
   "source": [
    "# Die Streckenlast zum Erreichen des Fliessens bei B\n",
    "q_SA1 = (8 * m_y_com_A*b_w / l**2).to(un.kN/un.m)\n",
    "\n",
    "# maximale Verformung im Feld \n",
    "w_SA1 = (5 * q_SA1 * l**4 / (384 * EI_II_com_A) - m_y_com_A*b_w * l**2 / (16 * EI_II_com_A)).to(un.mm)\n",
    "\n",
    "put_out(symbolic=True, evaluate=False, rows=1)"
   ]
  },
  {
   "cell_type": "markdown",
   "metadata": {},
   "source": [
    "#### Fliessbeginn im Feld - Zustand $SA2$\n",
    "\n",
    "Beim Zustand zwei wird das Feldmoment ermittelt. Dabei wird beim Mittelauflager der Biegewiderstand hinterlegt. Im Feld wird das Fliessmoment angenommen.\n",
    "\n",
    "![Fliessen im Feld](../imgs/jag_fliessen_feld.png)"
   ]
  },
  {
   "cell_type": "markdown",
   "metadata": {},
   "source": [
    "Daraus lässt sich die entsprechende Streckenlast ermitteln. Dies bedingt eine ausreichende Umlagerung, sprich Rotationsvermögen des Mittelauflagers."
   ]
  },
  {
   "cell_type": "code",
   "execution_count": 32,
   "metadata": {},
   "outputs": [
    {
     "data": {
      "text/markdown": [
       "$$\n",
       "\\begin{aligned}\n",
       "q_{SA2}& = b_{w} \\cdot \\left(\\frac{2 \\cdot m_{u , A} + 4 \\cdot m_{y , A}}{l^{2}} + \\frac{4 \\cdot \\sqrt{m_{u , A} \\cdot m_{y , A} + m_{y , A}^{2}}}{l^{2}}\\right) = 20.55 \\ \\frac{\\mathrm{kN}}{\\mathrm{m}} \\end{aligned}\n",
       "$$"
      ],
      "text/plain": [
       "<IPython.core.display.Markdown object>"
      ]
     },
     "metadata": {},
     "output_type": "display_data"
    }
   ],
   "source": [
    "# Streckenlast beim Fliessbeginn im Feld\n",
    "q_SA2 = (((4 * m_y_com_A + 2 * m_u_com_A) / l**2 + 4 / l**2 * np.sqrt(m_y_com_A**2 + m_y_com_A * m_u_com_A))*b_w).to(un.kN/un.m)\n",
    "\n",
    "put_out(symbolic=True, evaluate=False, rows=1)"
   ]
  },
  {
   "cell_type": "markdown",
   "metadata": {},
   "source": [
    "##### Kontrolle der Duktilität\n",
    "\n",
    "Ob das Rotationsvermögen ausreichend ist, wird folglich bestimmt. Der benötigte Rotationswinkel kann mithilfe der Arbeitsgleichung bestimmt werden."
   ]
  },
  {
   "cell_type": "code",
   "execution_count": 33,
   "metadata": {},
   "outputs": [
    {
     "data": {
      "text/markdown": [
       "$$\n",
       "\\begin{aligned}\n",
       "\\alpha_{SA2}& = \\frac{l^{3} \\cdot \\left(- q_{SA1} + q_{SA2}\\right)}{24 \\cdot EI_{II , A}} - \\frac{b_{w} \\cdot l \\cdot \\left(m_{u , A} - m_{y , A}\\right)}{3 \\cdot EI_{II , A}} = 0.88 \\ \\mathrm{°} \\\\ \n",
       "\\Theta_{SA2 , erf}& = 2 \\cdot \\alpha_{SA2} = 1.76 \\ \\mathrm{°} \\end{aligned}\n",
       "$$"
      ],
      "text/plain": [
       "<IPython.core.display.Markdown object>"
      ]
     },
     "metadata": {},
     "output_type": "display_data"
    }
   ],
   "source": [
    "# Rotationswinkel (Verwendung der Arbeitsgleichung)\n",
    "alpha_SA2 = ((q_SA2 - q_SA1) * l**3 / (24 * EI_II_com_A) - (m_u_com_A - m_y_com_A) * b_w * l / (3 * EI_II_com_A)).to(un.deg)\n",
    "\n",
    "# Verformungsbedarf\n",
    "Theta_SA2_com_erf = 2 * alpha_SA2\n",
    "\n",
    "\n",
    "put_out(symbolic=True, evaluate=False, rows=1)"
   ]
  },
  {
   "cell_type": "markdown",
   "metadata": {},
   "source": [
    "\n",
    "\n",
    "Der Plastische Roatationswinkel gibt die Rotation eines plastischen Gelenks voraus. \n",
    "\n",
    "![Modell zur Abschätzung der plastischen Rotation, nachgezeichnet nach @kaufmann_2_2017](../imgs/plast_rotation.png){#fig-plast_rot}"
   ]
  },
  {
   "cell_type": "markdown",
   "metadata": {},
   "source": [
    "Dabei wird eine Länge des Gelenks angenommen, hier entspricht diese der doppelten statischen Höhe. Für den Betonstahl B500A gilt daher die folgende maximale plastische Roatation - sprich das Verformungsvermögen:"
   ]
  },
  {
   "cell_type": "code",
   "execution_count": 34,
   "metadata": {},
   "outputs": [
    {
     "data": {
      "text/markdown": [
       "$$\n",
       "\\begin{aligned}\n",
       "l_{pl}& = 2 \\cdot d_{x} = 522.0 \\ \\mathrm{mm} \\\\ \n",
       "\\Theta_{max , A}& = \\frac{l_{pl} \\cdot \\left(- \\varepsilon_{m s , A1} + \\varepsilon_{m s , A2}\\right)}{d_{x} - x_{u , A}} = 0.53 \\ \\mathrm{°} \\end{aligned}\n",
       "$$"
      ],
      "text/plain": [
       "<IPython.core.display.Markdown object>"
      ]
     },
     "metadata": {},
     "output_type": "display_data"
    }
   ],
   "source": [
    "# Annahme für die Länge des Gelenks\n",
    "l_pl = 2 * d_x\n",
    "\n",
    "# Verformungsvermögen\n",
    "Theta_max_com_A = (l_pl * (varepsilon_m_s_com_A2 - varepsilon_m_s_com_A1) / (d_x - x_u_com_A)).to(un.deg)\n",
    "\n",
    "\n",
    "put_out(symbolic=True, rows=1)"
   ]
  },
  {
   "cell_type": "markdown",
   "metadata": {},
   "source": [
    "Das Verformungsvermögen ist nicht ausreichend."
   ]
  },
  {
   "cell_type": "markdown",
   "metadata": {},
   "source": [
    "#### Ermittlung der Traglast\n",
    "\n",
    "Da das Verformungsvermögen nicht ausreicht, wird mittels dem Verformungsvermögen die Traglast bestimmt. Dabei wird der Rotationswinkel vorgegeben und die daraus resultierende Differenz der Streckenlast zum Zustand $SA1$ ermittelt. Aus der Addition der beiden Zustände folgt die Traglast, welche das Verformungsvermögen einhält."
   ]
  },
  {
   "cell_type": "code",
   "execution_count": 35,
   "metadata": {},
   "outputs": [
    {
     "data": {
      "text/markdown": [
       "$$\n",
       "\\begin{aligned}\n",
       "\\alpha_{u , A}& = \\frac{\\Theta_{max , A}}{2} = 0.26 \\ \\mathrm{°} \\\\ \n",
       "\\Delta_{q , A}& = \\left(\\alpha_{u , A} + \\frac{b_{w} \\cdot l \\cdot \\left(m_{u , A} - m_{y , A}\\right)}{3 \\cdot EI_{II , A}}\\right) \\cdot 24 \\cdot EI_{II , A} \\cdot \\frac{1}{l^{3}} = 2.5 \\ \\frac{\\mathrm{kN}}{\\mathrm{m}} \\\\ \n",
       "q_{u , A}& = \\Delta_{q , A} + q_{SA1} = 16.39 \\ \\frac{\\mathrm{kN}}{\\mathrm{m}} \\end{aligned}\n",
       "$$"
      ],
      "text/plain": [
       "<IPython.core.display.Markdown object>"
      ]
     },
     "metadata": {},
     "output_type": "display_data"
    }
   ],
   "source": [
    "# maximaler Rotationswinkel\n",
    "alpha_u_com_A = Theta_max_com_A / 2\n",
    "\n",
    "# Streckenlast bis zum maximalen Rotationswinkel\n",
    "Delta_q_com_A = ((alpha_u_com_A + (m_u_com_A - m_y_com_A) * l * b_w / (3 * EI_II_com_A)) * 24 * EI_II_com_A / l**3).to(un.kN / un.m)\n",
    "\n",
    "# Traglast für B500A\n",
    "q_u_com_A = Delta_q_com_A + q_SA1\n",
    "\n",
    "put_out(symbolic=True, evaluate=False, rows=1)"
   ]
  },
  {
   "cell_type": "markdown",
   "metadata": {},
   "source": [
    "Dazu lässt sich für die Traglast ebenfalls die Felddurchbiegung bestimmen."
   ]
  },
  {
   "cell_type": "code",
   "execution_count": 36,
   "metadata": {},
   "outputs": [
    {
     "data": {
      "text/markdown": [
       "$$\n",
       "\\begin{aligned}\n",
       "w_{SA2}& = \\frac{5 \\cdot l^{4} \\cdot q_{u , A}}{384 \\cdot EI_{II , A}} - \\frac{b_{w} \\cdot l^{2} \\cdot m_{u , A}}{16 \\cdot EI_{II , A}} = 49.33 \\ \\mathrm{mm} \\quad &  \\quad &  \n",
       " \\end{aligned}\n",
       "$$"
      ],
      "text/plain": [
       "<IPython.core.display.Markdown object>"
      ]
     },
     "metadata": {},
     "output_type": "display_data"
    }
   ],
   "source": [
    "# maximale Verformung im Feld\n",
    "w_SA2 = (5 * q_u_com_A * l**4 / (384 * EI_II_com_A) - m_u_com_A * b_w * l**2 / (16 * EI_II_com_A)).to(un.mm)\n",
    "\n",
    "put_out(symbolic=True, evaluate=False)"
   ]
  },
  {
   "cell_type": "markdown",
   "metadata": {},
   "source": [
    "### Federmodell\n",
    "\n",
    "Folgend wird das System  mit dem Federmodell nachgerechnet."
   ]
  },
  {
   "cell_type": "markdown",
   "metadata": {},
   "source": [
    "#### Momenten-Krümmungs-Beziehung\n",
    "\n",
    "Dazu wird eine Momenten-Krümmungs-Beziehung benötigt. Dabei wird das Zuggurtmodell nicht berücksichtigt."
   ]
  },
  {
   "cell_type": "code",
   "execution_count": 37,
   "metadata": {},
   "outputs": [
    {
     "data": {
      "text/markdown": [
       "$$\n",
       "\\begin{aligned}\n",
       "\\chi_{y , A}& = \\frac{b_{w} \\cdot m_{y , A}}{EI_{II , A}} = 0.013 \\ \\frac{1}{\\mathrm{m}} \\\\ \n",
       "EI_{II , A}& = E_{c} \\cdot I_{II} = 8238.717 \\ \\mathrm{kN} \\cdot \\mathrm{m}^{2} \\\\ \n",
       "\\chi_{u , A}& = \\frac{\\varepsilon_{1 s , A2}}{- x_{u , A} + z_{, A}} = 0.106 \\ \\frac{1}{\\mathrm{m}} \\\\ \n",
       "m_{y , A}& = a_{s} \\cdot f_{sy , A} \\cdot z_{, A} = 111.13 \\ \\frac{\\mathrm{kNm}}{\\mathrm{m}} \\\\ \n",
       "m_{u , A}& = a_{s} \\cdot f_{su , A} \\cdot z_{, A} = 116.979 \\ \\frac{\\mathrm{kNm}}{\\mathrm{m}} \\end{aligned}\n",
       "$$"
      ],
      "text/plain": [
       "<IPython.core.display.Markdown object>"
      ]
     },
     "metadata": {},
     "output_type": "display_data"
    }
   ],
   "source": [
    "chi_y_com_A = (m_y_com_A*b_w / EI_II_com_A).to(1/un.m)\n",
    "EI_II_com_A\n",
    "\n",
    "chi_u_com_A = (varepsilon_1_s_com_A2 / (z_com_A - x_u_com_A)).to(1/un.m)\n",
    "\n",
    "m_y_com_A\n",
    "m_u_com_A\n",
    "\n",
    "\n",
    "put_out(symbolic=True, rows = 1, precision=3)"
   ]
  },
  {
   "cell_type": "markdown",
   "metadata": {},
   "source": [
    "Dargestellt ist dies in der @fig-jag_m_chi_b500a"
   ]
  },
  {
   "cell_type": "code",
   "execution_count": 38,
   "metadata": {},
   "outputs": [],
   "source": [
    "momente_b500a = np.array([0, m_y_com_A.m, m_u_com_A.m])\n",
    "\n",
    "chi_b500a = np.array([0, chi_y_com_A.m, chi_u_com_A.m])\n",
    "\n",
    "\n",
    "fig_m_chi_b500a, ax_m_chi_b500a = plt.subplots()\n",
    "\n",
    "\n",
    "ax_m_chi_b500a.plot(chi_b500a, momente_b500a, color='black')\n",
    "\n",
    "# Add labels and show the plot\n",
    "ax_m_chi_b500a.set_ylabel(\"$M$ [kNm]\")\n",
    "ax_m_chi_b500a.set_xlabel(\"$\\chi$ [1/m]\")\n",
    "\n",
    "# Save the plot to the specified file\n",
    "plt.savefig(\"imgs/jag_m_chi_b500a.svg\")\n",
    "plt.close()"
   ]
  },
  {
   "cell_type": "markdown",
   "metadata": {},
   "source": [
    "![Momenten-Krümmungs-Beziehung approximiert mit punktueller Querschnittsanalyse](../imgs/jag_m_chi_b500a.svg){#fig-jag_m_chi_b500a}\n"
   ]
  },
  {
   "cell_type": "markdown",
   "metadata": {},
   "source": [
    "#### Modellierung"
   ]
  },
  {
   "cell_type": "markdown",
   "metadata": {},
   "source": [
    "Die Elementlänge der Starren Stäbe im Federmodell:"
   ]
  },
  {
   "cell_type": "code",
   "execution_count": 39,
   "metadata": {},
   "outputs": [
    {
     "data": {
      "text/markdown": [
       "$$\n",
       "\\begin{aligned}\n",
       "l_{El}& = 0.1 \\ \\mathrm{m} \\quad &  \\quad &  \n",
       " \\end{aligned}\n",
       "$$"
      ],
      "text/plain": [
       "<IPython.core.display.Markdown object>"
      ]
     },
     "metadata": {},
     "output_type": "display_data"
    }
   ],
   "source": [
    "l_El = 0.1*un.m\n",
    "put_out()\n"
   ]
  },
  {
   "cell_type": "markdown",
   "metadata": {},
   "source": [
    "Damit lässt sich die Fliessverdrehung und Bruchverdrehung definieren."
   ]
  },
  {
   "cell_type": "code",
   "execution_count": 40,
   "metadata": {},
   "outputs": [
    {
     "data": {
      "text/markdown": [
       "$$\n",
       "\\begin{aligned}\n",
       "\\Theta_{y , A}& = \\chi_{y , A} \\cdot l_{El} = 0.00135 \\ \\mathrm{rad} \\\\ \n",
       "\\Theta_{u , A}& = \\chi_{u , A} \\cdot l_{El} = 0.01063 \\ \\mathrm{rad} \\end{aligned}\n",
       "$$"
      ],
      "text/plain": [
       "<IPython.core.display.Markdown object>"
      ]
     },
     "metadata": {},
     "output_type": "display_data"
    }
   ],
   "source": [
    "Theta_y_com_A = (chi_y_com_A * l_El).to(un.rad)\n",
    "Theta_u_com_A = (chi_u_com_A * l_El).to(un.rad)\n",
    "\n",
    "put_out(symbolic=True, precision = 5, rows = 1)"
   ]
  },
  {
   "cell_type": "markdown",
   "metadata": {},
   "source": [
    "#### Resultate"
   ]
  },
  {
   "cell_type": "markdown",
   "metadata": {},
   "source": [
    "Abschliessend sind die Rotationen der Gelenke im Modell händisch zu kontrollieren.\n",
    "\n",
    "##### Zustand $SA1$\n",
    "\n",
    "![Verlauf der Biegemomente für den Zustand $SA1$, numerisch berechnet mit AxisVM Federmodell für den Betonstahl B500A](../imgs/jag_feder_my_SA1.png){#fig-jag_feder_my_SA1}\n",
    "\n",
    "![Verlauf der Verformungen für den Zustand $SA1$, numerisch berechnet mit AxisVM Federmodell für den Betonstahl B500A](../imgs/jag_feder_deformation_SA1.png){#fig-jag_feder_deformation_SA1}\n",
    "\n",
    "![Verlauf der Gelenkverdrehungen für den Zustand $SA1$, numerisch berechnet mit AxisVM Federmodell für den Betonstahl B500A](../imgs/jag_feder_rot_SA1.png){#fig-jag_feder_rot_SA1}\n"
   ]
  },
  {
   "cell_type": "code",
   "execution_count": 41,
   "metadata": {},
   "outputs": [
    {
     "data": {
      "text/markdown": [
       "$$\n",
       "\\begin{aligned}\n",
       "\\Theta_{SA1 , FEM}& = 0.0014 \\ \\mathrm{rad} \\quad & \\Theta_{y , A}& = 0.0013 \\ \\mathrm{rad} \\\\ \n",
       "w_{SA1 , FEM}& = 37.4 \\ \\mathrm{mm} \\quad & w_{SA1}& = 35.97 \\ \\mathrm{mm} \\end{aligned}\n",
       "$$"
      ],
      "text/plain": [
       "<IPython.core.display.Markdown object>"
      ]
     },
     "metadata": {},
     "output_type": "display_data"
    }
   ],
   "source": [
    "Theta_SA1_com_FEM = (0.00135*un.rad).to(un.rad)\n",
    "Theta_y_com_A\n",
    "\n",
    "w_SA1_com_FEM = 37.4*un.mm\n",
    "w_SA1\n",
    "put_out(precision=4, rows=2)"
   ]
  },
  {
   "cell_type": "markdown",
   "metadata": {},
   "source": [
    "\n",
    "##### Zustand $SA2$\n",
    "\n",
    "![Verlauf der Biegemomente für den Zustand $SA2$, numerisch berechnet mit AxisVM Federmodell für den Betonstahl B500A](../imgs/jag_feder_my_SA2.png){#fig-jag_feder_my_SA2}\n",
    "\n",
    "![Verlauf der Verformungen für den Zustand $SA2$, numerisch berechnet mit AxisVM Federmodell für den Betonstahl B500A](../imgs/jag_feder_deformationen_SA2.png){#fig-jag_feder_deformation_SA2}\n",
    "\n",
    "![Verlauf der Gelenkverdrehungen für den Zustand $SA2$, numerisch berechnet mit AxisVM Federmodell für den Betonstahl B500A](../imgs/jag_feder_rot_SA2.png){#fig-jag_feder_rot_SA2}\n",
    "\n",
    "\n"
   ]
  },
  {
   "cell_type": "code",
   "execution_count": 42,
   "metadata": {},
   "outputs": [
    {
     "data": {
      "text/markdown": [
       "$$\n",
       "\\begin{aligned}\n",
       "\\Theta_{SA2 , FEM}& = 0.0106 \\ \\mathrm{rad} \\quad & \\Theta_{max , A}& = 0.0092 \\ \\mathrm{rad} \\\\ \n",
       "w_{SA2 , FEM}& = 50.5 \\ \\mathrm{mm} \\quad & w_{SA2}& = 49.3262 \\ \\mathrm{mm} \\end{aligned}\n",
       "$$"
      ],
      "text/plain": [
       "<IPython.core.display.Markdown object>"
      ]
     },
     "metadata": {},
     "output_type": "display_data"
    }
   ],
   "source": [
    "Theta_SA2_com_FEM = (0.01058*un.rad).to(un.rad)\n",
    "Theta_max_com_A = Theta_max_com_A.to(un.rad)\n",
    "\n",
    "w_SA2_com_FEM = 50.5*un.mm\n",
    "w_SA2\n",
    "put_out(rows = 2, precision=4)"
   ]
  },
  {
   "cell_type": "markdown",
   "metadata": {},
   "source": [
    "## Naturharter Stahl B500C\n",
    "\n",
    "### Eigenschaften des Betonstahls"
   ]
  },
  {
   "cell_type": "code",
   "execution_count": 43,
   "metadata": {},
   "outputs": [
    {
     "data": {
      "text/markdown": [
       "$$\n",
       "\\begin{aligned}\n",
       "f_{sy , C}& = 500.0 \\ \\frac{\\mathrm{N}}{\\mathrm{mm}^{2}} \\quad & f_{su , C}& = 600.0 \\ \\frac{\\mathrm{N}}{\\mathrm{mm}^{2}} \\quad & \\varepsilon_{sy , C}& = 2.44 \\ \\mathrm{‰} \\\\ \n",
       "\\varepsilon_{sh , C}& = 20 \\ \\mathrm{‰} \\quad & \\varepsilon_{su , C}& = 125 \\ \\mathrm{‰} \\quad & E_{s , C}& = 205.0 \\ \\frac{\\mathrm{kN}}{\\mathrm{mm}^{2}} \\\\ \n",
       "E_{sh , C}& = 952.0 \\ \\frac{\\mathrm{N}}{\\mathrm{mm}^{2}} \\quad &  \\quad &  \n",
       " \\end{aligned}\n",
       "$$"
      ],
      "text/plain": [
       "<IPython.core.display.Markdown object>"
      ]
     },
     "metadata": {},
     "output_type": "display_data"
    }
   ],
   "source": [
    "f_sy_com_C = 500 * un.N / un.mm**2  # Fliessgrenze\n",
    "f_su_com_C = 600 * un.N / un.mm**2  # Zugfestigkeit\n",
    "varepsilon_sy_com_C = 2.439 * un.permille  # Fliessdehnung\n",
    "varepsilon_sh_com_C = 20 * un.permille  # Dehnung bei Verfestigungsbeginn\n",
    "varepsilon_su_com_C = 125 * un.permille  # Bruchdehnung\n",
    "E_s_com_C= 205 * un.kN / un.mm**2  # Elastizitätsmodul\n",
    "E_sh_com_C = 952 * un.N / un.mm**2  # Verfestigungsmodul\n",
    "\n",
    "put_out()"
   ]
  },
  {
   "cell_type": "code",
   "execution_count": 44,
   "metadata": {},
   "outputs": [],
   "source": [
    "# | echo: false\n",
    "\n",
    "stress_C_array = np.array([0, f_sy_com_C.m, f_sy_com_C.m, f_su_com_C.m]) * un.MPa\n",
    "strain_C_array = np.array([0, varepsilon_sy_com_C, varepsilon_sh_com_C, varepsilon_su_com_C])\n",
    "\n",
    "\n",
    "fig_b500c, ax_b500c = plt.subplots()\n",
    "\n",
    "ax_b500c.plot(strain_C_array, stress_C_array.to(un.MPa).m, color=\"k\")\n",
    "\n",
    "\n",
    "# Set axis labels\n",
    "ax_b500c.set_ylabel(r\"$\\sigma$ [N/mm$^2$]\")\n",
    "ax_b500c.set_xlabel(r\"$\\varepsilon_s$ [-]\")\n",
    "\n",
    "# Set limits\n",
    "ax_b500c.set_xlim(xmax=135 / 1000)\n",
    "ax_b500c.set_ylim(ymax=750)\n",
    "\n",
    "# Show the plot\n",
    "# plt.tight_layout()\n",
    "plt.savefig(\"imgs/jag_stress_strain_b500c.svg\")\n",
    "plt.close()"
   ]
  },
  {
   "cell_type": "markdown",
   "metadata": {},
   "source": [
    "![Spannungs-Dehnungs-Beziehung des Betonstahls B500C](../imgs/jag_stress_strain_b500c.svg){#stress_strain_b500c}"
   ]
  },
  {
   "cell_type": "markdown",
   "metadata": {},
   "source": [
    "### Linear elastische - gerissene Biegesteifigkeit\n",
    "\n",
    "Die Querschnittsanalyse wird von der Berechnung des kaltverformten Betonstahls übernommen."
   ]
  },
  {
   "cell_type": "code",
   "execution_count": 45,
   "metadata": {},
   "outputs": [
    {
     "data": {
      "text/markdown": [
       "$$\n",
       "\\begin{aligned}\n",
       "EI_{II , C}& = EI_{II , A} = 8238.72 \\ \\mathrm{kN} \\cdot \\mathrm{m}^{2} \\\\ \n",
       "x_{dv , C}& = x_{u , A} = 18.11 \\ \\mathrm{mm} \\\\ \n",
       "d_{v , C}& = z_{, A} = 253.3 \\ \\mathrm{mm} \\\\ \n",
       "m_{u , C}& = m_{u , A} = 116.98 \\ \\frac{\\mathrm{kNm}}{\\mathrm{m}} \\end{aligned}\n",
       "$$"
      ],
      "text/plain": [
       "<IPython.core.display.Markdown object>"
      ]
     },
     "metadata": {},
     "output_type": "display_data"
    }
   ],
   "source": [
    "EI_II_com_C = EI_II_com_A\n",
    "x_dv_com_C = x_u_com_A\n",
    "d_v_com_C = z_com_A\n",
    "m_u_com_C = m_u_com_A\n",
    "\n",
    "\n",
    "put_out(symbolic=True, rows=1)\n"
   ]
  },
  {
   "cell_type": "markdown",
   "metadata": {},
   "source": [
    "### Gernzzustände des Zugglieds"
   ]
  },
  {
   "cell_type": "markdown",
   "metadata": {},
   "source": [
    "#### Risselement bei Fliessbeginn - Zustand $C1$"
   ]
  },
  {
   "cell_type": "code",
   "execution_count": 46,
   "metadata": {},
   "outputs": [
    {
     "data": {
      "text/markdown": [
       "$$\n",
       "\\begin{aligned}\n",
       "\\sigma_{1 s , C1}& = f_{sy , C} = 500.0 \\ \\frac{\\mathrm{N}}{\\mathrm{mm}^{2}} \\\\ \n",
       "\\sigma_{2 s , C1}& = f_{sy , C} - \\frac{4 \\cdot s_{r} \\cdot \\tau_{b0}}{2 \\cdot \\oslash_{x}} = 334.49 \\ \\frac{\\mathrm{N}}{\\mathrm{mm}^{2}} \\\\ \n",
       "\\varepsilon_{1 s , C1}& = \\frac{\\sigma_{1 s , C1}}{E_{s , C}} = 2.44 \\ \\mathrm{‰} \\\\ \n",
       "\\varepsilon_{2 s , C1}& = \\frac{\\sigma_{2 s , C1}}{E_{s , C}} = 1.63 \\ \\mathrm{‰} \\end{aligned}\n",
       "$$"
      ],
      "text/plain": [
       "<IPython.core.display.Markdown object>"
      ]
     },
     "metadata": {},
     "output_type": "display_data"
    }
   ],
   "source": [
    "# Stahlspannungen\n",
    "sigma_1_s_com_C1 = f_sy_com_C\n",
    "sigma_2_s_com_C1 = f_sy_com_C - 4 * tau_b0 * s_r / 2 / diam_x\n",
    "\n",
    "\n",
    "# Stahldehnungen\n",
    "varepsilon_1_s_com_C1 = (sigma_1_s_com_C1 / E_s_com_C).to(un.permille)\n",
    "varepsilon_2_s_com_C1 = (sigma_2_s_com_C1 / E_s_com_C).to(un.permille)\n",
    "\n",
    "put_out(symbolic=True, rows=1)"
   ]
  },
  {
   "cell_type": "code",
   "execution_count": 47,
   "metadata": {},
   "outputs": [
    {
     "data": {
      "text/markdown": [
       "Da $f_{sh}-f_{sy} \\cdot \\frac{\\oslash}{4\\cdot \\tau_{b1}} = 0.0\\ \\mathrm{mm} \\leq \\frac{s_r}{2} = 100.0\\ \\mathrm{mm}$ gilt, wird nach @alvarez_einfluss_1998 Seite 163 Fall B gerechnet"
      ],
      "text/plain": [
       "<IPython.core.display.Markdown object>"
      ]
     },
     "metadata": {},
     "output_type": "display_data"
    },
    {
     "data": {
      "text/markdown": [
       "Gleichung 1"
      ],
      "text/plain": [
       "<IPython.core.display.Markdown object>"
      ]
     },
     "metadata": {},
     "output_type": "display_data"
    },
    {
     "data": {
      "text/markdown": [
       "$$\n",
       "\\begin{aligned}\n",
       "\\varepsilon_{m s , C1}& = 2.04 \\ \\mathrm{‰} \\quad &  \\quad &  \n",
       " \\end{aligned}\n",
       "$$"
      ],
      "text/plain": [
       "<IPython.core.display.Markdown object>"
      ]
     },
     "metadata": {},
     "output_type": "display_data"
    }
   ],
   "source": [
    "# Mittlere Stahldehnung beim Fliessen\n",
    "varepsilon_m_s_com_C1 = varepsilon_sm_trilinear(f_sy_com_C, f_sy_com_C, f_sy_com_C, f_su_com_C, E_s_com_C, E_s_com_C*0, E_sh_com_C, tau_b0, tau_b1, tau_b1*0, diam_x, s_r, varepsilon_sy_com_C, varepsilon_sh_com_C).to(un.permille)\n",
    "\n",
    "put_out()"
   ]
  },
  {
   "cell_type": "code",
   "execution_count": 48,
   "metadata": {},
   "outputs": [
    {
     "data": {
      "text/markdown": [
       "$$\n",
       "\\begin{aligned}\n",
       "m_{y , C}& = a_{s} \\cdot d_{v , C} \\cdot f_{sy , C} = 97.48 \\ \\mathrm{kN} \\quad &  \\quad &  \n",
       " \\end{aligned}\n",
       "$$"
      ],
      "text/plain": [
       "<IPython.core.display.Markdown object>"
      ]
     },
     "metadata": {},
     "output_type": "display_data"
    }
   ],
   "source": [
    "# Fliessmoment\n",
    "m_y_com_C = (a_s * f_sy_com_C * d_v_com_C).to(un.kN)\n",
    "\n",
    "put_out(symbolic=True)"
   ]
  },
  {
   "cell_type": "code",
   "execution_count": 49,
   "metadata": {},
   "outputs": [],
   "source": [
    "# | echo: false\n",
    "\n",
    "coords_c1_stress = [\n",
    "    (0, 0),\n",
    "    (s_r.m / 2, 0),\n",
    "    (s_r.m / 2, sigma_2_s_com_C1.m),\n",
    "    (0, sigma_1_s_com_C1.m),\n",
    "]\n",
    "\n",
    "plot_stress_strain(coords_c1_stress, \"imgs/jag_stress_c1.svg\", stress=True)\n",
    "\n",
    "\n",
    "coords_c1_strain = [\n",
    "    (0, 0),\n",
    "    (s_r.m / 2, 0),\n",
    "    (s_r.m / 2, varepsilon_2_s_com_C1),\n",
    "    (0, varepsilon_1_s_com_C1),\n",
    "]\n",
    "\n",
    "plot_stress_strain(coords_c1_strain, \"imgs/jag_strain_c1.svg\", strain=True,strain_mean=varepsilon_m_s_com_C1.m)"
   ]
  },
  {
   "cell_type": "markdown",
   "metadata": {},
   "source": [
    "::: {#fig-jag_zustand_c1 layout-ncol=2}\n",
    "![Spannungsverlauf entlang des Zugglieds auf halbem Rissabstand](../imgs/jag_stress_c1.svg){#fig-jag_stress_c1}\n",
    "\n",
    "![Dehnungsverlauf entlang des Zugglieds auf halbem Rissabstand](../imgs/jag_strain_c1.svg){#fig-jag_strain_c1}\n",
    "\n",
    "Spannungs- und Dehnungsverlauf entlang der Hälfte des Rissabstands für den Zustand $C1$\n",
    ":::"
   ]
  },
  {
   "cell_type": "markdown",
   "metadata": {},
   "source": [
    "#### Risselement beim Erreichen der Zugfestigkeit - Zustand $C2$\n",
    "\n",
    "Innerhalb des Risselements befindet sich der Betonstahl über der Fliessgrenze. Dies führt zu den folgenden Spannungs- und Dehnungsverteilungen."
   ]
  },
  {
   "cell_type": "code",
   "execution_count": 50,
   "metadata": {},
   "outputs": [
    {
     "data": {
      "text/markdown": [
       "$$\n",
       "\\begin{aligned}\n",
       "\\sigma_{1 s , C2}& = f_{su , C} = 600.0 \\ \\frac{\\mathrm{N}}{\\mathrm{mm}^{2}} \\\\ \n",
       "\\sigma_{2 s , C2}& = f_{su , C} - \\frac{4 \\cdot s_{r} \\cdot \\tau_{b1}}{2 \\cdot \\oslash_{x}} = 517.24 \\ \\frac{\\mathrm{N}}{\\mathrm{mm}^{2}} \\\\ \n",
       "\\varepsilon_{1 s , C2}& = \\varepsilon_{sh , C} + \\frac{- f_{sy , C} + \\sigma_{2 s , C2}}{E_{sh , C}} = 38.11 \\ \\mathrm{‰} \\\\ \n",
       "\\varepsilon_{2 s , C2}& = \\varepsilon_{su , C} = 125 \\ \\mathrm{‰} \\end{aligned}\n",
       "$$"
      ],
      "text/plain": [
       "<IPython.core.display.Markdown object>"
      ]
     },
     "metadata": {},
     "output_type": "display_data"
    }
   ],
   "source": [
    "# Stahlspannung zwischen den Rissen\n",
    "sigma_1_s_com_C2 = f_su_com_C\n",
    "sigma_2_s_com_C2 = f_su_com_C - 4 * tau_b1 / diam_x * s_r / 2\n",
    "\n",
    "# Stahldehnung zwischen den Rissen\n",
    "varepsilon_1_s_com_C2 = ((sigma_2_s_com_C2 - f_sy_com_C) / E_sh_com_C + varepsilon_sh_com_C).to(un.permille)\n",
    "varepsilon_2_s_com_C2 = varepsilon_su_com_C\n",
    "\n",
    "put_out(symbolic=True, rows=1)"
   ]
  },
  {
   "cell_type": "code",
   "execution_count": 51,
   "metadata": {},
   "outputs": [
    {
     "data": {
      "text/markdown": [
       "$$\n",
       "\\begin{aligned}\n",
       "\\varepsilon_{m s , C2}& = 81.56 \\ \\mathrm{‰} \\quad &  \\quad &  \n",
       " \\end{aligned}\n",
       "$$"
      ],
      "text/plain": [
       "<IPython.core.display.Markdown object>"
      ]
     },
     "metadata": {},
     "output_type": "display_data"
    }
   ],
   "source": [
    "\n",
    "varepsilon_m_s_com_C2 = (varepsilon_1_s_com_C2 + varepsilon_2_s_com_C2) / 2\n",
    "\n",
    "put_out()"
   ]
  },
  {
   "cell_type": "markdown",
   "metadata": {},
   "source": [
    "Kontrolliert wird die Betonstauchung. Es zeigt sich, dass sich ein Betondruckversagen einstellt. Die Betonbruchstauchung basiert auf einem Erfahrungswert."
   ]
  },
  {
   "cell_type": "code",
   "execution_count": 52,
   "metadata": {},
   "outputs": [
    {
     "data": {
      "text/markdown": [
       "$$\n",
       "\\begin{aligned}\n",
       "\\varepsilon_{c , C2}& = 6.08 \\ \\mathrm{‰} \\quad & \\varepsilon_{cu}& = 5 \\ \\mathrm{‰} \\quad &  \n",
       " \\end{aligned}\n",
       "$$"
      ],
      "text/plain": [
       "<IPython.core.display.Markdown object>"
      ]
     },
     "metadata": {},
     "output_type": "display_data"
    }
   ],
   "source": [
    "# Betonstauchung\n",
    "varepsilon_c_com_C2 = varepsilon_m_s_com_C2 / (d_x - x_u_com_A) * x_u_com_A\n",
    "\n",
    "varepsilon_cu\n",
    "\n",
    "put_out()"
   ]
  },
  {
   "cell_type": "markdown",
   "metadata": {},
   "source": [
    "Die zulässige mittlere Stahldehnung beträgt folglich:"
   ]
  },
  {
   "cell_type": "code",
   "execution_count": 53,
   "metadata": {},
   "outputs": [
    {
     "data": {
      "text/markdown": [
       "$$\n",
       "\\begin{aligned}\n",
       "\\varepsilon_{m s , adm}& = \\frac{\\varepsilon_{cu} \\cdot \\left(d_{x} - x_{dv , C}\\right)}{x_{dv , C}} = 67.06 \\ \\mathrm{‰} \\quad &  \\quad &  \n",
       " \\end{aligned}\n",
       "$$"
      ],
      "text/plain": [
       "<IPython.core.display.Markdown object>"
      ]
     },
     "metadata": {},
     "output_type": "display_data"
    }
   ],
   "source": [
    "varepsilon_m_s_com_adm = varepsilon_cu * (d_x - x_dv_com_C)/x_dv_com_C\n",
    "put_out(symbolic=True)\n"
   ]
  },
  {
   "cell_type": "markdown",
   "metadata": {},
   "source": [
    "Damit folgen die Dehnungen für diesen Zustand zu:"
   ]
  },
  {
   "cell_type": "code",
   "execution_count": 54,
   "metadata": {},
   "outputs": [
    {
     "data": {
      "text/markdown": [
       "$$\n",
       "\\begin{aligned}\n",
       "\\varepsilon_{1 s , C2}& = \\tau_{b1} \\cdot 4 \\cdot s_{r} \\cdot \\frac{1}{4} \\cdot \\frac{1}{E_{sh , C} \\cdot \\oslash_{x}} + \\varepsilon_{m s , adm} = 110.52 \\ \\mathrm{‰} \\\\ \n",
       "\\varepsilon_{2 s , C2}& = - \\frac{4 \\cdot s_{r} \\cdot \\tau_{b1}}{4 \\cdot E_{sh , C} \\cdot \\oslash_{x}} + \\varepsilon_{m s , adm} = 23.59 \\ \\mathrm{‰} \\\\ \n",
       "\\sigma_{1 s , C2}& = E_{sh , C} \\cdot \\left(\\varepsilon_{1 s , C2} - \\varepsilon_{sh , C}\\right) + f_{sy , C} = 586.18 \\ \\frac{\\mathrm{N}}{\\mathrm{mm}^{2}} \\\\ \n",
       "\\sigma_{2 s , C2}& = E_{sh , C} \\cdot \\left(\\varepsilon_{2 s , C2} - \\varepsilon_{sh , C}\\right) + f_{sy , C} = 503.42 \\ \\frac{\\mathrm{N}}{\\mathrm{mm}^{2}} \\end{aligned}\n",
       "$$"
      ],
      "text/plain": [
       "<IPython.core.display.Markdown object>"
      ]
     },
     "metadata": {},
     "output_type": "display_data"
    }
   ],
   "source": [
    "# Stahldehnung zwischen den Rissen\n",
    "varepsilon_1_s_com_C2 = varepsilon_m_s_com_adm + tau_b1 * 4* s_r/4 / (diam_x*E_sh_com_C)\n",
    "varepsilon_2_s_com_C2 = varepsilon_m_s_com_adm - tau_b1 * 4 * s_r/4/ (diam_x*E_sh_com_C)\n",
    "# Stahlspannung zwischen den Rissen\n",
    "sigma_1_s_com_C2 = f_sy_com_C + (varepsilon_1_s_com_C2 - varepsilon_sh_com_C)*E_sh_com_C\n",
    "sigma_2_s_com_C2 = f_sy_com_C + (varepsilon_2_s_com_C2 - varepsilon_sh_com_C)*E_sh_com_C\n",
    "\n",
    "\n",
    "put_out(symbolic=True, rows=1)"
   ]
  },
  {
   "cell_type": "markdown",
   "metadata": {},
   "source": [
    "Und der Biegewiderstand:"
   ]
  },
  {
   "cell_type": "code",
   "execution_count": 55,
   "metadata": {},
   "outputs": [
    {
     "data": {
      "text/markdown": [
       "$$\n",
       "\\begin{aligned}\n",
       "m_{u , C}& = a_{s} \\cdot d_{v , C} \\cdot \\sigma_{1 s , C2} = 114.28 \\ \\frac{\\mathrm{kNm}}{\\mathrm{m}} \\quad &  \\quad &  \n",
       " \\end{aligned}\n",
       "$$"
      ],
      "text/plain": [
       "<IPython.core.display.Markdown object>"
      ]
     },
     "metadata": {},
     "output_type": "display_data"
    }
   ],
   "source": [
    "m_u_com_C = (a_s * sigma_1_s_com_C2 * d_v_com_C).to(un.kNm/un.m)\n",
    "\n",
    "put_out(symbolic=True)"
   ]
  },
  {
   "cell_type": "code",
   "execution_count": 56,
   "metadata": {},
   "outputs": [],
   "source": [
    "# | echo: false\n",
    "\n",
    "coords_c2_stress = [\n",
    "    (0, 0),\n",
    "    (s_r.m / 2, 0),\n",
    "    (s_r.m / 2, sigma_2_s_com_C2.m),\n",
    "    (0, sigma_1_s_com_C2.m),\n",
    "]\n",
    "\n",
    "plot_stress_strain(coords_c2_stress, \"imgs/jag_stress_c2.svg\", stress=True)\n",
    "\n",
    "\n",
    "coords_c2_strain = [\n",
    "    (0, 0),\n",
    "    (s_r.m / 2, 0),\n",
    "    (s_r.m / 2, varepsilon_2_s_com_C2),\n",
    "    (0, varepsilon_1_s_com_C2),\n",
    "]\n",
    "\n",
    "plot_stress_strain(coords_c2_strain, \"imgs/jag_strain_c2.svg\", strain=True,strain_mean=varepsilon_m_s_com_adm.m)"
   ]
  },
  {
   "cell_type": "markdown",
   "metadata": {},
   "source": [
    "::: {#fig-jag_zustand_c2 layout-ncol=2}\n",
    "![Spannungsverlauf entlang des Zugglieds auf halbem Rissabstand](../imgs/jag_stress_c2.svg){#fig-jag_stress_c2}\n",
    "\n",
    "![Dehnungsverlauf entlang des Zugglieds auf halbem Rissabstand](../imgs/jag_strain_c2.svg){#fig-jag_strain_c2}\n",
    "\n",
    "Spannungs- und Dehnungsverlauf entlang der Hälfte des Rissabstands für den Zustand $C2$\n",
    ":::"
   ]
  },
  {
   "cell_type": "markdown",
   "metadata": {},
   "source": [
    "### Systemanalyse"
   ]
  },
  {
   "cell_type": "markdown",
   "metadata": {},
   "source": [
    "#### Verformungsvermögen"
   ]
  },
  {
   "cell_type": "code",
   "execution_count": 57,
   "metadata": {},
   "outputs": [
    {
     "data": {
      "text/markdown": [
       "$$\n",
       "\\begin{aligned}\n",
       "\\Theta_{max , pl}& = \\frac{l_{pl} \\cdot \\left(- \\varepsilon_{m s , C1} + \\varepsilon_{m s , adm}\\right)}{d_{x} - x_{dv , C}} = 8.01 \\ \\mathrm{°} \\quad &  \\quad &  \n",
       " \\end{aligned}\n",
       "$$"
      ],
      "text/plain": [
       "<IPython.core.display.Markdown object>"
      ]
     },
     "metadata": {},
     "output_type": "display_data"
    }
   ],
   "source": [
    "# Plastischer Rotationswinkel, Rotationsbedarf für vollständige Umlagerung.\n",
    "Theta_max_com_pl = (l_pl * (varepsilon_m_s_com_adm - varepsilon_m_s_com_C1) / (d_x - x_dv_com_C)).to(un.deg)\n",
    "\n",
    "put_out(symbolic=True)"
   ]
  },
  {
   "cell_type": "markdown",
   "metadata": {},
   "source": [
    "#### Fliessen des Mittelauflager - Zustand $SC1$"
   ]
  },
  {
   "cell_type": "code",
   "execution_count": 58,
   "metadata": {},
   "outputs": [
    {
     "data": {
      "text/markdown": [
       "$$\n",
       "\\begin{aligned}\n",
       "q_{SC1}& = \\frac{8 \\cdot b_{w} \\cdot m_{y , C}}{l^{2}} = 12.19 \\ \\frac{\\mathrm{kN}}{\\mathrm{m}} \\\\ \n",
       "w_{SC1}& = \\frac{5 \\cdot l^{4} \\cdot q_{SC1}}{384 \\cdot EI_{II , C}} - \\frac{b_{w} \\cdot l^{2} \\cdot m_{y , C}}{16 \\cdot EI_{II , C}} = 31.55 \\ \\mathrm{mm} \\end{aligned}\n",
       "$$"
      ],
      "text/plain": [
       "<IPython.core.display.Markdown object>"
      ]
     },
     "metadata": {},
     "output_type": "display_data"
    }
   ],
   "source": [
    "# Streckenlast beim Fliessen des Mittelauflagers\n",
    "q_SC1 = 8 * m_y_com_C / l**2 * b_w\n",
    "\n",
    "# Verformung beim Fliessen des Mittelauflagers\n",
    "w_SC1 = (5 * q_SC1 * l**4 / (384 * EI_II_com_C) - m_y_com_C * b_w * l**2 / (16 * EI_II_com_C)).to(un.mm)\n",
    "\n",
    "put_out(symbolic=True, rows=1)"
   ]
  },
  {
   "cell_type": "markdown",
   "metadata": {},
   "source": [
    "#### Fliessbeginn im Feld - Zustand $SC2$"
   ]
  },
  {
   "cell_type": "code",
   "execution_count": 59,
   "metadata": {},
   "outputs": [
    {
     "data": {
      "text/markdown": [
       "$$\n",
       "\\begin{aligned}\n",
       "m_{SC2}& = m_{y , A} = 111.13 \\ \\frac{\\mathrm{kNm}}{\\mathrm{m}} \\quad &  \\quad &  \n",
       " \\end{aligned}\n",
       "$$"
      ],
      "text/plain": [
       "<IPython.core.display.Markdown object>"
      ]
     },
     "metadata": {},
     "output_type": "display_data"
    }
   ],
   "source": [
    "# Im Feld wird das Fliessmoment erreicht\n",
    "m_SC2 = m_y_com_A\n",
    "\n",
    "put_out(symbolic=True)"
   ]
  },
  {
   "cell_type": "code",
   "execution_count": 60,
   "metadata": {},
   "outputs": [
    {
     "data": {
      "text/markdown": [
       "$$\n",
       "\\begin{aligned}\n",
       "\\Delta_{x pl , SC2}& = \\Delta_{x pl , A2} = 36.25 \\ \\mathrm{mm} \\\\ \n",
       "\\Delta_{x el , SC2}& = - \\Delta_{x pl , SC2} + \\frac{s_{r}}{2} = 63.75 \\ \\mathrm{mm} \\\\ \n",
       "\\sigma_{2 s , SC2}& = 500 = 500.0 \\ \\frac{\\mathrm{N}}{\\mathrm{mm}^{2}} \\\\ \n",
       "\\sigma_{1 s , SC2}& = \\frac{4 \\cdot \\Delta_{x pl , SC2} \\cdot \\tau_{b1}}{\\oslash_{x}} + \\sigma_{2 s , SC2} = 530.0 \\ \\frac{\\mathrm{N}}{\\mathrm{mm}^{2}} \\\\ \n",
       "\\sigma_{3 s , SC2}& = - \\frac{4 \\cdot \\Delta_{x el , SC2} \\cdot \\tau_{b0}}{\\oslash_{x}} + \\sigma_{2 s , SC2} = 394.49 \\ \\frac{\\mathrm{N}}{\\mathrm{mm}^{2}} \\end{aligned}\n",
       "$$"
      ],
      "text/plain": [
       "<IPython.core.display.Markdown object>"
      ]
     },
     "metadata": {},
     "output_type": "display_data"
    }
   ],
   "source": [
    "# Fliessspannung wird vorausgesetzt\n",
    "Delta_x_pl_com_SC2 = Delta_x_pl_com_A2\n",
    "Delta_x_el_com_SC2 = s_r / 2 - Delta_x_pl_com_SC2\n",
    "\n",
    "\n",
    "sigma_2_s_com_SC2 = 500 * un.N / un.mm**2\n",
    "sigma_1_s_com_SC2 = sigma_2_s_com_SC2 + 4 * tau_b1 / diam_x * Delta_x_pl_com_SC2\n",
    "sigma_3_s_com_SC2 = sigma_2_s_com_SC2 - 4 * tau_b0 / diam_x * Delta_x_el_com_SC2\n",
    "\n",
    "put_out(symbolic=True, rows=1)"
   ]
  },
  {
   "cell_type": "code",
   "execution_count": 61,
   "metadata": {},
   "outputs": [
    {
     "data": {
      "text/markdown": [
       "$$\n",
       "\\begin{aligned}\n",
       "\\varepsilon_{1 s , SC2}& = \\varepsilon_{sh , C} + \\frac{\\sigma_{1 s , SC2} - \\sigma_{2 s , SC2}}{E_{sh , C}} = 51.51 \\ \\mathrm{‰} \\\\ \n",
       "\\varepsilon_{21 s , SC2}& = \\varepsilon_{sh , C} = 20 \\ \\mathrm{‰} \\\\ \n",
       "\\varepsilon_{22 s , SC2}& = \\varepsilon_{sy , A} = 2.78 \\ \\mathrm{‰} \\\\ \n",
       "\\varepsilon_{3 s , SC2}& = \\frac{\\sigma_{3 s , SC2}}{E_{s , A}} = 1.92 \\ \\mathrm{‰} \\end{aligned}\n",
       "$$"
      ],
      "text/plain": [
       "<IPython.core.display.Markdown object>"
      ]
     },
     "metadata": {},
     "output_type": "display_data"
    }
   ],
   "source": [
    "# Dehnungen\n",
    "varepsilon_1_s_com_SC2 = ((sigma_1_s_com_SC2 - sigma_2_s_com_SC2) / E_sh_com_C + varepsilon_sh_com_C).to(un.permille)\n",
    "varepsilon_21_s_com_SC2 = varepsilon_sh_com_C\n",
    "varepsilon_22_s_com_SC2 = varepsilon_sy_com_A\n",
    "varepsilon_3_s_com_SC2 = (sigma_3_s_com_SC2 / E_s_com_A).to(un.permille)\n",
    "\n",
    "put_out(symbolic=True, rows=1)"
   ]
  },
  {
   "cell_type": "code",
   "execution_count": 62,
   "metadata": {},
   "outputs": [
    {
     "data": {
      "text/markdown": [
       "$$\n",
       "\\begin{aligned}\n",
       "\\tau_{b2}& = \\frac{\\tau_{b1}}{2} = 1.45 \\ \\frac{\\mathrm{N}}{\\mathrm{mm}^{2}} \\quad &  \\quad &  \n",
       " \\end{aligned}\n",
       "$$"
      ],
      "text/plain": [
       "<IPython.core.display.Markdown object>"
      ]
     },
     "metadata": {},
     "output_type": "display_data"
    }
   ],
   "source": [
    "tau_b2 = tau_b1 /2 \n",
    "put_out(symbolic=True)"
   ]
  },
  {
   "cell_type": "code",
   "execution_count": 63,
   "metadata": {},
   "outputs": [
    {
     "data": {
      "text/markdown": [
       "Da $f_{sh}-f_{sy} \\cdot \\frac{\\oslash}{4\\cdot \\tau_{b1}} = 0.0\\ \\mathrm{mm} \\leq \\frac{s_r}{2} = 100.0\\ \\mathrm{mm}$ gilt, wird nach @alvarez_einfluss_1998 Seite 163 Fall B gerechnet"
      ],
      "text/plain": [
       "<IPython.core.display.Markdown object>"
      ]
     },
     "metadata": {},
     "output_type": "display_data"
    },
    {
     "data": {
      "text/markdown": [
       "Gleichung 3"
      ],
      "text/plain": [
       "<IPython.core.display.Markdown object>"
      ]
     },
     "metadata": {},
     "output_type": "display_data"
    },
    {
     "data": {
      "text/markdown": [
       "$$\n",
       "\\begin{aligned}\n",
       "\\varepsilon_{m s , SC2}& = 14.33 \\ \\mathrm{‰} \\\\ \n",
       "\\varepsilon_{m s , SC2}& = 14.33 \\ \\mathrm{‰} \\end{aligned}\n",
       "$$"
      ],
      "text/plain": [
       "<IPython.core.display.Markdown object>"
      ]
     },
     "metadata": {},
     "output_type": "display_data"
    }
   ],
   "source": [
    "varepsilon_m_s_com_SC2 = varepsilon_sm_trilinear(sigma_1_s_com_SC2, f_sy_com_C,f_sy_com_C, f_su_com_C, E_s_com_C, E_sh_com_C*0, E_sh_com_C, tau_b0, tau_b1, tau_b2, diam_x, s_r, varepsilon_sy_com_C, varepsilon_sh_com_C).to(un.permille)\n",
    "\n",
    "varepsilon_m_s_com_SC2 = 14.33*un.permille\n",
    "put_out(rows=1)"
   ]
  },
  {
   "cell_type": "code",
   "execution_count": 64,
   "metadata": {},
   "outputs": [],
   "source": [
    "# | echo: false\n",
    "\n",
    "coords_SC2_stress = [\n",
    "    (0, 0), \n",
    "    (Delta_x_pl_com_SC2.m, 0), \n",
    "    (s_r.m / 2, 0), \n",
    "    (s_r.m / 2, sigma_3_s_com_SC2.m), \n",
    "    (Delta_x_pl_com_SC2.m, sigma_2_s_com_SC2.m),\n",
    "    (0, sigma_1_s_com_SC2.m)\n",
    "    ]\n",
    "\n",
    "plot_stress_strain(coords_SC2_stress, \"imgs/jag_stress_sc2.svg\", stress=True)\n",
    "\n",
    "\n",
    "coords_SC2_strain = [\n",
    "    (0, 0),\n",
    "    (Delta_x_pl_com_SC2.m, 0),\n",
    "    (s_r.m / 2, 0),\n",
    "    (s_r.m / 2, varepsilon_3_s_com_SC2),\n",
    "    (Delta_x_pl_com_SC2.m, varepsilon_22_s_com_SC2),\n",
    "    (Delta_x_pl_com_SC2.m, varepsilon_21_s_com_SC2),\n",
    "    (0, varepsilon_1_s_com_SC2),\n",
    "]\n",
    "\n",
    "plot_stress_strain(coords_SC2_strain, \"imgs/jag_strain_sc2.svg\", strain=True, strain_mean=varepsilon_m_s_com_SC2.m)"
   ]
  },
  {
   "cell_type": "markdown",
   "metadata": {},
   "source": [
    "::: {#fig-jag_zustand_sc2 layout-ncol=2}\n",
    "![Spannungsverlauf entlang des Zugglieds auf halbem Rissabstand](../imgs/jag_stress_sc2.svg){#fig-jag_stress_sc2}\n",
    "\n",
    "![Dehnungsverlauf entlang des Zugglieds auf halbem Rissabstand](../imgs/jag_strain_sc2.svg){#fig-jag_strain_sc2}\n",
    "\n",
    "Spannungs- und Dehnungsverlauf entlang der Hälfte des Rissabstands für den Zustand $SC2$\n",
    ":::"
   ]
  },
  {
   "cell_type": "code",
   "execution_count": 65,
   "metadata": {},
   "outputs": [
    {
     "data": {
      "text/markdown": [
       "$$\n",
       "\\begin{aligned}\n",
       "\\Theta_{SC2 , pl}& = \\frac{l_{pl} \\cdot \\left(- \\varepsilon_{m s , C1} + \\varepsilon_{m s , SC2}\\right)}{d_{x} - x_{dv , C}} = 1.51 \\ \\mathrm{°} \\quad &  \\quad &  \n",
       " \\end{aligned}\n",
       "$$"
      ],
      "text/plain": [
       "<IPython.core.display.Markdown object>"
      ]
     },
     "metadata": {},
     "output_type": "display_data"
    }
   ],
   "source": [
    "Theta_SC2_com_pl = (l_pl * (varepsilon_m_s_com_SC2 - varepsilon_m_s_com_C1) / (d_x - x_dv_com_C)).to(un.deg)\n",
    "\n",
    "put_out(symbolic=True)"
   ]
  },
  {
   "cell_type": "code",
   "execution_count": 66,
   "metadata": {},
   "outputs": [
    {
     "data": {
      "text/markdown": [
       "$$\n",
       "\\begin{aligned}\n",
       "m_{SC2}& = a_{s} \\cdot \\sigma_{1 s , SC2} \\cdot z_{, A} = 103.33 \\ \\mathrm{kN} \\\\ \n",
       "q_{SC2}& = b_{w} \\cdot \\left(\\frac{2 \\cdot m_{SC2} + 4 \\cdot m_{y , C}}{l^{2}} + \\frac{4 \\cdot \\sqrt{m_{SC2} \\cdot m_{y , C} + m_{y , C}^{2}}}{l^{2}}\\right) = 18.07 \\ \\frac{\\mathrm{kN}}{\\mathrm{m}} \\end{aligned}\n",
       "$$"
      ],
      "text/plain": [
       "<IPython.core.display.Markdown object>"
      ]
     },
     "metadata": {},
     "output_type": "display_data"
    }
   ],
   "source": [
    "# Biegemoment resultiert daraus zu\n",
    "m_SC2 = (a_s * sigma_1_s_com_SC2 * z_com_A).to(un.kN)\n",
    "\n",
    "# Streckenlast Fliessen im Feld, verfestigend über dem Auflager\n",
    "q_SC2 = ((4 * m_y_com_C + 2 * m_SC2) / l**2 + 4 / l**2 * np.sqrt(m_y_com_C**2 + m_y_com_C * m_SC2)) * b_w\n",
    "put_out(symbolic=True, rows=1)"
   ]
  },
  {
   "cell_type": "code",
   "execution_count": 67,
   "metadata": {},
   "outputs": [
    {
     "data": {
      "text/markdown": [
       "$$\n",
       "\\begin{aligned}\n",
       "\\alpha_{SC2}& = \\frac{l^{3} \\cdot \\left(- q_{SC1} + q_{SC2}\\right)}{24 \\cdot EI_{II , C}} - \\frac{b_{w} \\cdot l \\cdot \\left(m_{SC2} - m_{y , C}\\right)}{3 \\cdot EI_{II , C}} = 0.76 \\ \\mathrm{°} \\\\ \n",
       "\\Theta_{SC2 , erf}& = 2 \\cdot \\alpha_{SC2} = 1.53 \\ \\mathrm{°} \\\\ \n",
       "\\Delta_{\\Theta SC3}& = \\Theta_{SC2 , erf} - \\Theta_{SC2 , pl} = 0.01 \\ \\mathrm{°} \\end{aligned}\n",
       "$$"
      ],
      "text/plain": [
       "<IPython.core.display.Markdown object>"
      ]
     },
     "metadata": {},
     "output_type": "display_data"
    }
   ],
   "source": [
    "# Kontrolle des Verformungsbedarfs\n",
    "alpha_SC2 = ((q_SC2 - q_SC1) * l**3 / (24 * EI_II_com_C)- (m_SC2 - m_y_com_C)  * l*b_w / (3 * EI_II_com_C)).to(un.deg)\n",
    "\n",
    "# Erforderliche Rotation\n",
    "Theta_SC2_com_erf = 2 * alpha_SC2\n",
    "\n",
    "# Kontrolle ob das Verformungsvermögen gleich dem Verformungsbedarf ist\n",
    "Delta_Theta_SC3 = Theta_SC2_com_erf - Theta_SC2_com_pl\n",
    "\n",
    "put_out(symbolic=True, rows=1)"
   ]
  },
  {
   "cell_type": "code",
   "execution_count": 68,
   "metadata": {},
   "outputs": [
    {
     "data": {
      "text/markdown": [
       "$$\n",
       "\\begin{aligned}\n",
       "w_{SC2}& = \\frac{5 \\cdot l^{4} \\cdot q_{SC2}}{384 \\cdot EI_{II , A}} - \\frac{b_{w} \\cdot l^{2} \\cdot m_{SC2}}{16 \\cdot EI_{II , A}} = 66.78 \\ \\mathrm{mm} \\quad &  \\quad &  \n",
       " \\end{aligned}\n",
       "$$"
      ],
      "text/plain": [
       "<IPython.core.display.Markdown object>"
      ]
     },
     "metadata": {},
     "output_type": "display_data"
    }
   ],
   "source": [
    "# Die Mittendurchbiegung beträgt\n",
    "w_SC2 = (5 * q_SC2 * l**4 / (384 * EI_II_com_A) - m_SC2 * b_w * l**2 / (16 * EI_II_com_A)).to(un.mm)\n",
    "\n",
    "put_out(symbolic=True)"
   ]
  },
  {
   "cell_type": "markdown",
   "metadata": {},
   "source": [
    "#### Ermittlung der Traglast - Zustand $SC3$\n",
    "\n"
   ]
  },
  {
   "cell_type": "code",
   "execution_count": 69,
   "metadata": {},
   "outputs": [
    {
     "data": {
      "text/markdown": [
       "$$\n",
       "\\begin{aligned}\n",
       "\\varepsilon_{2 s , SC3}& = \\varepsilon_{sh , C} = 20 \\ \\mathrm{‰} \\\\ \n",
       "\\varepsilon_{1 s , SC3}& = \\frac{4 \\cdot s_{r} \\cdot \\tau_{b1}}{2 \\cdot E_{sh , C} \\cdot \\oslash_{x}} + \\varepsilon_{2 s , SC3} = 106.93 \\ \\mathrm{‰} \\\\ \n",
       "\\varepsilon_{m s , SC3}& = \\frac{\\varepsilon_{1 s , SC3} + \\varepsilon_{2 s , SC3}}{2} = 63.46 \\ \\mathrm{‰} \\\\ \n",
       "\\sigma_{1 s , SC3}& = E_{sh , C} \\cdot \\left(\\varepsilon_{1 s , SC3} - \\varepsilon_{2 s , SC3}\\right) + f_{sy , C} = 582.76 \\ \\frac{\\mathrm{N}}{\\mathrm{mm}^{2}} \\\\ \n",
       "\\sigma_{2 s , SC3}& = f_{sy , C} = 500.0 \\ \\frac{\\mathrm{N}}{\\mathrm{mm}^{2}} \\end{aligned}\n",
       "$$"
      ],
      "text/plain": [
       "<IPython.core.display.Markdown object>"
      ]
     },
     "metadata": {},
     "output_type": "display_data"
    }
   ],
   "source": [
    "varepsilon_2_s_com_SC3 = varepsilon_sh_com_C\n",
    "varepsilon_1_s_com_SC3 = varepsilon_2_s_com_SC3 + 4 * tau_b1 * s_r / 2 / (diam_x * E_sh_com_C)\n",
    "varepsilon_m_s_com_SC3 = (varepsilon_2_s_com_SC3 + varepsilon_1_s_com_SC3) / 2\n",
    "\n",
    "sigma_1_s_com_SC3 = ((varepsilon_1_s_com_SC3 - varepsilon_2_s_com_SC3) * E_sh_com_C + f_sy_com_C).to(un.N/un.mm**2)\n",
    "sigma_2_s_com_SC3 = (f_sy_com_C).to(un.N/un.mm**2)\n",
    "put_out(symbolic=True, rows=1)"
   ]
  },
  {
   "cell_type": "code",
   "execution_count": 70,
   "metadata": {},
   "outputs": [],
   "source": [
    "# | echo: false\n",
    "\n",
    "coords_sc3_stress = [\n",
    "    (0, 0),\n",
    "    (s_r.m / 2, 0),\n",
    "    (s_r.m / 2, sigma_2_s_com_SC3.m),\n",
    "    (0, sigma_1_s_com_SC3.m),\n",
    "]\n",
    "\n",
    "plot_stress_strain(coords_sc3_stress, \"imgs/jag_stress_sc3.svg\", stress=True)\n",
    "\n",
    "\n",
    "coords_sc3_strain = [\n",
    "    (0, 0),\n",
    "    (s_r.m / 2, 0),\n",
    "    (s_r.m / 2, varepsilon_2_s_com_SC3),\n",
    "    (0, varepsilon_1_s_com_SC3),\n",
    "]\n",
    "\n",
    "plot_stress_strain(coords_sc3_strain, \"imgs/jag_strain_sc3.svg\", strain=True, strain_mean=varepsilon_m_s_com_SC3.m)"
   ]
  },
  {
   "cell_type": "markdown",
   "metadata": {},
   "source": [
    "::: {#fig-jag_zustand_sc3 layout-ncol=2}\n",
    "![Spannungsverlauf entlang des Zugglieds auf halbem Rissabstand](../imgs/jag_stress_sc3.svg){#fig-jag_stress_sc3}\n",
    "\n",
    "![Dehnungsverlauf entlang des Zugglieds auf halbem Rissabstand](../imgs/jag_strain_sc3.svg){#fig-jag_strain_sc3}\n",
    "\n",
    "Spannungs- und Dehnungsverlauf entlang der Hälfte des Rissabstands für die Traglast\n",
    ":::"
   ]
  },
  {
   "cell_type": "code",
   "execution_count": 71,
   "metadata": {},
   "outputs": [
    {
     "data": {
      "text/markdown": [
       "$$\n",
       "\\begin{aligned}\n",
       "m_{SC3}& = a_{s} \\cdot d_{v , C} \\cdot \\sigma_{1 s , SC3} = 113.62 \\ \\frac{\\mathrm{kNm}}{\\mathrm{m}} \\end{aligned}\n",
       "$$"
      ],
      "text/plain": [
       "<IPython.core.display.Markdown object>"
      ]
     },
     "metadata": {},
     "output_type": "display_data"
    }
   ],
   "source": [
    "m_SC3 = (a_s * sigma_1_s_com_SC3 * d_v_com_C).to(un.kNm/un.m)\n",
    "put_out(symbolic=True, rows = 1)\n"
   ]
  },
  {
   "cell_type": "code",
   "execution_count": 72,
   "metadata": {},
   "outputs": [
    {
     "data": {
      "text/markdown": [
       "$$\n",
       "\\begin{aligned}\n",
       "q_{SC3}& = b_{w} \\cdot \\left(\\frac{4 \\cdot m_{SC3} + 2 \\cdot m_{u , C}}{l^{2}} + \\frac{4 \\cdot \\sqrt{m_{SC3}^{2} + m_{SC3} \\cdot m_{u , C}}}{l^{2}}\\right) = 20.73 \\ \\frac{\\mathrm{kN}}{\\mathrm{m}} \\quad &  \\quad &  \n",
       " \\end{aligned}\n",
       "$$"
      ],
      "text/plain": [
       "<IPython.core.display.Markdown object>"
      ]
     },
     "metadata": {},
     "output_type": "display_data"
    }
   ],
   "source": [
    "\n",
    "# Streckenlast Fliessen im Feld, verfestigend über dem Auflager\n",
    "q_SC3 = (((4 * m_SC3 + 2 * m_u_com_C) / l**2 + 4 / l**2 * np.sqrt(m_SC3**2 + m_SC3 * m_u_com_C)) * b_w).to(un.kN/un.m)\n",
    "\n",
    "put_out(symbolic=True)\n"
   ]
  },
  {
   "cell_type": "code",
   "execution_count": 73,
   "metadata": {},
   "outputs": [
    {
     "data": {
      "text/markdown": [
       "$$\n",
       "\\begin{aligned}\n",
       "\\Theta_{SC3 , F}& = \\frac{l_{pl} \\cdot \\left(- \\varepsilon_{m s , C1} + \\varepsilon_{m s , SC3}\\right)}{d_{x} - x_{u , A}} = 7.56 \\ \\mathrm{°} \\\\ \n",
       "\\alpha_{SC2}& = 0.414 \\cdot \\Theta_{SC3 , F} + \\frac{l^{3} \\cdot q_{SC3}}{24 \\cdot EI_{II , A}} - \\frac{b_{w} \\cdot l \\cdot m_{u , C}}{3 \\cdot EI_{II , A}} = 4.09 \\ \\mathrm{°} \\\\ \n",
       "\\Theta_{SC3 , erf}& = 2 \\cdot \\alpha_{SC2} = 8.18 \\ \\mathrm{°} \\end{aligned}\n",
       "$$"
      ],
      "text/plain": [
       "<IPython.core.display.Markdown object>"
      ]
     },
     "metadata": {},
     "output_type": "display_data"
    }
   ],
   "source": [
    "\n",
    "# Plastische rotation im Feld\n",
    "Theta_SC3_com_F = (l_pl * (varepsilon_m_s_com_SC3 - varepsilon_m_s_com_C1) / (d_x - x_u_com_A)).to(un.deg)\n",
    "\n",
    "\n",
    "# Kontrolle des Verformungsbedarfs\n",
    "alpha_SC2 = (q_SC3 * l**3 / (24 * EI_II_com_A)- (m_u_com_C) * b_w * l / (3 * EI_II_com_A)+ 0.414 * Theta_SC3_com_F).to(un.deg)\n",
    "\n",
    "# Erforderliche Rotation\n",
    "Theta_SC3_com_erf = 2 * alpha_SC2\n",
    "\n",
    "\n",
    "put_out(symbolic=True, rows = 1)"
   ]
  },
  {
   "cell_type": "code",
   "execution_count": 74,
   "metadata": {},
   "outputs": [
    {
     "data": {
      "text/markdown": [
       "$$\n",
       "\\begin{aligned}\n",
       "\\Theta_{max , pl}& = 8.01 \\ \\mathrm{°} \\quad &  \\quad &  \n",
       " \\end{aligned}\n",
       "$$"
      ],
      "text/plain": [
       "<IPython.core.display.Markdown object>"
      ]
     },
     "metadata": {},
     "output_type": "display_data"
    }
   ],
   "source": [
    "Theta_max_com_pl\n",
    "\n",
    "put_out()"
   ]
  },
  {
   "cell_type": "code",
   "execution_count": 75,
   "metadata": {},
   "outputs": [
    {
     "data": {
      "text/markdown": [
       "$$\n",
       "\\begin{aligned}\n",
       "\\Delta_{\\Theta SC3}& = \\Theta_{SC3 , erf} - \\Theta_{max , pl} = 0.17 \\ \\mathrm{°} \\end{aligned}\n",
       "$$"
      ],
      "text/plain": [
       "<IPython.core.display.Markdown object>"
      ]
     },
     "metadata": {},
     "output_type": "display_data"
    }
   ],
   "source": [
    "# Kontrolle ob das Verformungsvermögen gleich dem Verformungsbedarf ist\n",
    "Delta_Theta_SC3 = Theta_SC3_com_erf - Theta_max_com_pl\n",
    "\n",
    "put_out(symbolic=True, rows = 1)"
   ]
  },
  {
   "cell_type": "code",
   "execution_count": 76,
   "metadata": {},
   "outputs": [
    {
     "data": {
      "text/markdown": [
       "$$\n",
       "\\begin{aligned}\n",
       "w_{SC3}& = \\frac{0.414 \\cdot \\Theta_{SC3 , F} \\cdot l}{2} + \\frac{5 \\cdot l^{4} \\cdot q_{SC3}}{384 \\cdot EI_{II , C}} - \\frac{b_{w} \\cdot l^{2} \\cdot m_{u , C}}{16 \\cdot EI_{II , A}} = 297.33 \\ \\mathrm{mm} \\quad &  \\quad &  \n",
       " \\end{aligned}\n",
       "$$"
      ],
      "text/plain": [
       "<IPython.core.display.Markdown object>"
      ]
     },
     "metadata": {},
     "output_type": "display_data"
    }
   ],
   "source": [
    "# Die Mittendurchbiegung beträgt\n",
    "w_SC3 = (5 * q_SC3 * l**4 / (384 * EI_II_com_C)- m_u_com_C * b_w * l**2 / (16 * EI_II_com_A)+ 0.414 * Theta_SC3_com_F * l / 2).to(un.mm)\n",
    "\n",
    "put_out(symbolic=True, evaluate=False)"
   ]
  },
  {
   "cell_type": "markdown",
   "metadata": {},
   "source": [
    "### Federmodell"
   ]
  },
  {
   "cell_type": "markdown",
   "metadata": {},
   "source": [
    "#### Momenten-Krümmungs-Beziehung"
   ]
  },
  {
   "cell_type": "code",
   "execution_count": 77,
   "metadata": {},
   "outputs": [
    {
     "data": {
      "text/markdown": [
       "$$\n",
       "\\begin{aligned}\n",
       "\\chi_{y , C}& = \\frac{b_{w} \\cdot m_{y , C}}{EI_{II , C}} = 0.0118 \\ \\frac{1}{\\mathrm{m}} \\\\ \n",
       "\\chi_{sh , C}& = \\frac{\\varepsilon_{sh , C}}{d_{v , C} - x_{dv , C}} = 0.085 \\ \\frac{1}{\\mathrm{m}} \\\\ \n",
       "\\chi_{u , C}& = \\frac{\\varepsilon_{1 s , C2}}{d_{v , C} - x_{dv , C}} = 0.4699 \\ \\frac{1}{\\mathrm{m}} \\\\ \n",
       "m_{y , C}& = a_{s} \\cdot d_{v , C} \\cdot f_{sy , C} = 97.4825 \\ \\mathrm{kN} \\\\ \n",
       "m_{u , C}& = a_{s} \\cdot d_{v , C} \\cdot \\sigma_{1 s , C2} = 114.2841 \\ \\frac{\\mathrm{kNm}}{\\mathrm{m}} \\end{aligned}\n",
       "$$"
      ],
      "text/plain": [
       "<IPython.core.display.Markdown object>"
      ]
     },
     "metadata": {},
     "output_type": "display_data"
    }
   ],
   "source": [
    "chi_y_com_C = (m_y_com_C*b_w / EI_II_com_C).to(1/un.m)\n",
    "chi_sh_com_C = (varepsilon_sh_com_C / (d_v_com_C - x_dv_com_C)).to(1/un.m)\n",
    "chi_u_com_C = (varepsilon_1_s_com_C2 / (d_v_com_C - x_dv_com_C)).to(1/un.m)\n",
    "\n",
    "\n",
    "m_y_com_C\n",
    "m_u_com_C\n",
    "\n",
    "put_out(symbolic=True, rows = 1, precision=4)"
   ]
  },
  {
   "cell_type": "code",
   "execution_count": 78,
   "metadata": {},
   "outputs": [],
   "source": [
    "momente_b500c = np.array([0, m_y_com_C.m, m_y_com_C.m, m_u_com_C.m])\n",
    "\n",
    "chi_b500c = np.array([0, chi_y_com_C.m, chi_sh_com_C.m, chi_u_com_C.m])\n",
    "\n",
    "\n",
    "fig_m_chi_b500c, ax_m_chi_b500c = plt.subplots()\n",
    "\n",
    "\n",
    "ax_m_chi_b500c.plot(chi_b500c, momente_b500c, color='black')\n",
    "\n",
    "# Add labels and show the plot\n",
    "ax_m_chi_b500c.set_ylabel(\"$M$ [kNm]\")\n",
    "ax_m_chi_b500c.set_xlabel(\"$\\chi$ [1/m]\")\n",
    "\n",
    "# Save the plot to the specified file\n",
    "plt.savefig(\"imgs/jag_m_chi_b500c.svg\")\n",
    "plt.close()"
   ]
  },
  {
   "cell_type": "markdown",
   "metadata": {},
   "source": [
    "![Momenten-Krümmungs-Beziehung approximiert mit punktueller Querschnittsanalyse für den Betonstahl B500C](../imgs/jag_m_chi_b500c.svg){#fig-jag_m_chi_b500c}\n"
   ]
  },
  {
   "cell_type": "markdown",
   "metadata": {},
   "source": [
    "#### Modellierung"
   ]
  },
  {
   "cell_type": "code",
   "execution_count": 79,
   "metadata": {},
   "outputs": [
    {
     "data": {
      "text/markdown": [
       "$$\n",
       "\\begin{aligned}\n",
       "l_{El}& = 0.1 \\ \\mathrm{m} \\quad &  \\quad &  \n",
       " \\end{aligned}\n",
       "$$"
      ],
      "text/plain": [
       "<IPython.core.display.Markdown object>"
      ]
     },
     "metadata": {},
     "output_type": "display_data"
    }
   ],
   "source": [
    "l_El = 0.1*un.m\n",
    "put_out()\n"
   ]
  },
  {
   "cell_type": "code",
   "execution_count": 80,
   "metadata": {},
   "outputs": [
    {
     "data": {
      "text/markdown": [
       "$$\n",
       "\\begin{aligned}\n",
       "\\Theta_{y , C}& = \\chi_{y , C} \\cdot l_{El} = 0.0011832 \\ \\mathrm{rad} \\\\ \n",
       "\\Theta_{sh , C}& = \\chi_{sh , C} \\cdot l_{El} = 0.0085037 \\ \\mathrm{rad} \\\\ \n",
       "\\Theta_{u , C}& = \\chi_{u , C} \\cdot l_{El} = 0.0469924 \\ \\mathrm{rad} \\end{aligned}\n",
       "$$"
      ],
      "text/plain": [
       "<IPython.core.display.Markdown object>"
      ]
     },
     "metadata": {},
     "output_type": "display_data"
    }
   ],
   "source": [
    "Theta_y_com_C = (chi_y_com_C * l_El).to(un.rad)\n",
    "Theta_sh_com_C = (chi_sh_com_C * l_El).to(un.rad)\n",
    "Theta_u_com_C = (chi_u_com_C * l_El).to(un.rad)\n",
    "\n",
    "put_out(symbolic=True, precision = 7, rows = 1)"
   ]
  },
  {
   "cell_type": "markdown",
   "metadata": {},
   "source": [
    "Abschliessend sind die Rotationen der Gelenke im Modell händisch zu kontrollieren.\n",
    "\n",
    "##### Zustand $SC1$\n",
    "\n",
    "![Verlauf der Biegemomente für den Zustand $SA1$, numerisch berechnet mit AxisVM Federmodell für den Betonstahl B500A](../imgs/jag_feder_my_SA1.png){#fig-jag_feder_my_SA1}\n",
    "\n",
    "![Verlauf der Verformungen für den Zustand $SA1$, numerisch berechnet mit AxisVM Federmodell für den Betonstahl B500A](../imgs/jag_feder_deformation_SA1.png){#fig-jag_feder_deformation_SA1}\n",
    "\n",
    "![Verlauf der Gelenkverdrehungen für den Zustand $SA1$, numerisch berechnet mit AxisVM Federmodell für den Betonstahl B500A](../imgs/jag_feder_rot_SA1.png){#fig-jag_feder_rot_SA1}\n",
    "\n"
   ]
  },
  {
   "cell_type": "code",
   "execution_count": 81,
   "metadata": {},
   "outputs": [
    {
     "data": {
      "text/markdown": [
       "$$\n",
       "\\begin{aligned}\n",
       "q_{SC1}& = 12.19 \\ \\frac{\\mathrm{kN}}{\\mathrm{m}} \\quad & w_{SC1}& = 31.55 \\ \\mathrm{mm} \\quad &  \n",
       " \\end{aligned}\n",
       "$$"
      ],
      "text/plain": [
       "<IPython.core.display.Markdown object>"
      ]
     },
     "metadata": {},
     "output_type": "display_data"
    }
   ],
   "source": [
    "q_SC1\n",
    "w_SC1\n",
    "put_out()"
   ]
  },
  {
   "cell_type": "markdown",
   "metadata": {},
   "source": [
    "\n",
    "##### Zustand $SC2$\n",
    "\n",
    "![Verlauf der Biegemomente für den Zustand $SA2$, numerisch berechnet mit AxisVM Federmodell für den Betonstahl B500A](../imgs/jag_feder_my_SA2.png){#fig-jag_feder_my_SA2}\n",
    "\n",
    "![Verlauf der Verformungen für den Zustand $SA2$, numerisch berechnet mit AxisVM Federmodell für den Betonstahl B500A](../imgs/jag_feder_deformationen_SA2.png){#fig-jag_feder_deformation_SA2}\n",
    "\n",
    "![Verlauf der Gelenkverdrehungen für den Zustand $SA2$, numerisch berechnet mit AxisVM Federmodell für den Betonstahl B500A](../imgs/jag_feder_rot_SA2.png){#fig-jag_feder_rot_SA2}\n",
    "\n",
    "\n"
   ]
  },
  {
   "cell_type": "code",
   "execution_count": 82,
   "metadata": {},
   "outputs": [
    {
     "data": {
      "text/markdown": [
       "$$\n",
       "\\begin{aligned}\n",
       "q_{SC2}& = 18.07 \\ \\frac{\\mathrm{kN}}{\\mathrm{m}} \\quad & w_{SC2}& = 66.78 \\ \\mathrm{mm} \\quad &  \n",
       " \\end{aligned}\n",
       "$$"
      ],
      "text/plain": [
       "<IPython.core.display.Markdown object>"
      ]
     },
     "metadata": {},
     "output_type": "display_data"
    }
   ],
   "source": [
    "q_SC2\n",
    "w_SC2\n",
    "put_out()"
   ]
  },
  {
   "cell_type": "code",
   "execution_count": 83,
   "metadata": {},
   "outputs": [
    {
     "data": {
      "text/markdown": [
       "$$\n",
       "\\begin{aligned}\n",
       "q_{SC3}& = 20.73 \\ \\frac{\\mathrm{kN}}{\\mathrm{m}} \\quad & w_{SC3}& = 297.33 \\ \\mathrm{mm} \\quad &  \n",
       " \\end{aligned}\n",
       "$$"
      ],
      "text/plain": [
       "<IPython.core.display.Markdown object>"
      ]
     },
     "metadata": {},
     "output_type": "display_data"
    }
   ],
   "source": [
    "q_SC3\n",
    "w_SC3\n",
    "put_out()"
   ]
  },
  {
   "cell_type": "code",
   "execution_count": null,
   "metadata": {},
   "outputs": [],
   "source": []
  }
 ],
 "metadata": {
  "kernelspec": {
   "display_name": "calc",
   "language": "python",
   "name": "python3"
  },
  "language_info": {
   "codemirror_mode": {
    "name": "ipython",
    "version": 3
   },
   "file_extension": ".py",
   "mimetype": "text/x-python",
   "name": "python",
   "nbconvert_exporter": "python",
   "pygments_lexer": "ipython3",
   "version": "3.11.9"
  }
 },
 "nbformat": 4,
 "nbformat_minor": 2
}
