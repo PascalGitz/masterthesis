{
 "cells": [
  {
   "cell_type": "code",
   "execution_count": 1,
   "metadata": {},
   "outputs": [],
   "source": [
    "from packages import *"
   ]
  },
  {
   "cell_type": "markdown",
   "metadata": {},
   "source": [
    "# Torsionsweicher Träggerrost\n",
    "\n",
    "Das folgende Beispiel ist aus @marti_baustatik_2014 entnommen. Dieses dient als einführendes Beispiel in die Modellierung von Trägerrosten. In der @fig-marti_rost_gr ist der Grundriss des Trägerrosts dargestellt. Es handelt sich um insgesamt 16 torsionsweiche Stäbe, welche an den Enden eingespannt sind.\n",
    "\n",
    "![Grundriss des torsionsweichen Trägerrosts](../imgs/marti_traegerrost_gr.png){#fig-marti_rost_gr}\n",
    "\n",
    "Im Beispiel wird eine analytische Lösung zur Traglast aufgezeigt. Das Ziel ist es, mittels dem Federmodell eine numerische Lösung des unteren Grenzwerts der Traglast zu erhalten.\n",
    "\n",
    "\n",
    "\n",
    "\n"
   ]
  },
  {
   "cell_type": "markdown",
   "metadata": {},
   "source": [
    "\n",
    "## Analytische Lösung nach Marti\n",
    "\n",
    "Die Analytische Lösung basiert auf dem Traglastverfahren. Mittels einem zulässigen Mechanismus wird ein oberer Grenzwert der Traglast hergeleitet. In der @fig-marti_mechanismus sind zwei Stäbe dargestellt. Aus symmetriegründen lässt sich der obere Grenzwert des gesamten Trägerrosts anhand dieser Darstellung ermitteln.\n",
    "\n",
    "![Mechanismus eines Stabs des Trägerrosts](../imgs/marti_traegerrost_mechanismus.png){#fig-marti_mechanismus}\n",
    "\n"
   ]
  },
  {
   "cell_type": "markdown",
   "metadata": {},
   "source": [
    "Die äussere Arbeit $W_a$ des dargestellten Systems in @fig-marti_mechanismus beträgt dabei für die am Rand gelegenen Stäbe (Punkte 2'45):\n",
    "\n",
    "$$\n",
    "W_{a,2'45} = 4 \\cdot \\left( Q \\cdot \\frac{1}{3} + Q \\cdot \\frac{1}{9} \\right)\n",
    "$$\n",
    "\n",
    "Und für die Innenträger:\n",
    "\n",
    "$$\n",
    "W_{a,123} = 4 \\cdot \\left( Q \\cdot 1 + Q \\cdot \\frac{1}{3} \\right)\n",
    "$$\n",
    "\n",
    "\n",
    "Die innere Arbeit beträgt:\n",
    "\n",
    "$$\n",
    "W_i = 8 \\cdot \\left(M_u' + M_u\\right) \\cdot \\left(\\frac{1}{3l} +\\frac{1}{9l}\\right)\n",
    "$$\n",
    "\n",
    "\n",
    "Durch das abschliessende Gleichsetzen der Arbeiten und das Lösen nach $Q$ folgt der obere Grenzwert der Traglast zu:\n",
    "\n",
    "$$\n",
    "Q = \\frac{M_u + M_u'}{2l}\n",
    "$$\n",
    "\n",
    "\n",
    "Die Plastizitätskontrolle ist in der @fig-marti_plastizitaetskontrolle gezeigt. Dabei wird eine Lastverteilung von je einer Hälfte $Q$ in $x$ und $y$ Richtung angenommen.\n",
    "\n",
    "![Plastizitätskontrolle anhand der Schnittgrössen](../imgs/marti_traegerrost_schnittgroessen.png){#fig-marti_plastizitaetskontrolle}\n",
    "\n",
    "Aus der Plastizitätskontrolle geht heraus, dass der Biegewiderstand nirgends überschritten wird, somit deckt sich der untere und obere Grenzwert der Traglast, sprich die Traglast $Q_u$ wurde gefunden.\n",
    "\n",
    "\n",
    "$$\n",
    "Q_u = \\frac{M_u + M_u'}{2l}\n",
    "$$\n",
    "\n"
   ]
  },
  {
   "cell_type": "markdown",
   "metadata": {},
   "source": [
    "## Analytische Lösung Pascal \n",
    "\n",
    "![Trägerrost nachgezeichnet](../imgs/rost_pascal.png){#fig-rost_pascal}\n",
    "\n",
    "Dies wird kurz verifiziert\n"
   ]
  },
  {
   "cell_type": "markdown",
   "metadata": {},
   "source": [
    "### Oberer Grenzwert"
   ]
  },
  {
   "cell_type": "code",
   "execution_count": 2,
   "metadata": {},
   "outputs": [],
   "source": [
    "l, Q, M_u, M_apos_u = sp.symbols(\"l, Q, M_u, M'u\")"
   ]
  },
  {
   "cell_type": "markdown",
   "metadata": {},
   "source": [
    "![Schnitt A-A](../imgs/aa_pascal.png){#fig-schnitt_aa}\n",
    "\n"
   ]
  },
  {
   "cell_type": "markdown",
   "metadata": {},
   "source": [
    "![Schnitt B-B](../imgs/bb_pascal.png){#fig-schnitt_bb}"
   ]
  },
  {
   "cell_type": "code",
   "execution_count": 3,
   "metadata": {},
   "outputs": [
    {
     "data": {
      "text/latex": [
       "$\\displaystyle 7.11111111111111 Q$"
      ],
      "text/plain": [
       "7.11111111111111*Q"
      ]
     },
     "execution_count": 3,
     "metadata": {},
     "output_type": "execute_result"
    }
   ],
   "source": [
    "W_A_aa = 2 * (Q * (1/3) + Q)\n",
    "W_A_bb = 2 * (Q * (1/9) + Q * (1/3))\n",
    "\n",
    "W_A = 2 * (W_A_aa + W_A_bb)\n",
    "\n",
    "W_A"
   ]
  },
  {
   "cell_type": "code",
   "execution_count": 4,
   "metadata": {},
   "outputs": [
    {
     "data": {
      "text/latex": [
       "$\\displaystyle \\frac{32 M'u}{9 l} + \\frac{32 M_{u}}{9 l}$"
      ],
      "text/plain": [
       "32*M'u/(9*l) + 32*M_u/(9*l)"
      ]
     },
     "execution_count": 4,
     "metadata": {},
     "output_type": "execute_result"
    }
   ],
   "source": [
    "W_I_aa = 2 * (M_apos_u * 1/(3*l) + M_u * (1/(3*l)))\n",
    "W_I_bb = 2 * (M_apos_u * 1/(9*l) + M_u * (1/(9*l)))\n",
    "\n",
    "W_I = 4 *  (W_I_aa + W_I_bb)\n",
    "\n",
    "W_I"
   ]
  },
  {
   "cell_type": "code",
   "execution_count": 5,
   "metadata": {},
   "outputs": [
    {
     "data": {
      "text/latex": [
       "$\\displaystyle \\frac{0.5 \\left(M'u + M_{u}\\right)}{l}$"
      ],
      "text/plain": [
       "0.5*(M'u + M_u)/l"
      ]
     },
     "execution_count": 5,
     "metadata": {},
     "output_type": "execute_result"
    }
   ],
   "source": [
    "Q_upper = sp.solve(sp.Eq(W_A, W_I), Q)[0]\n",
    "Q_upper"
   ]
  },
  {
   "cell_type": "markdown",
   "metadata": {},
   "source": [
    "Der obere Grenzwert stimmt mit der Lösung von Marti überein."
   ]
  },
  {
   "cell_type": "markdown",
   "metadata": {},
   "source": [
    "### Unterer Grenzwert\n",
    "\n",
    "Zunächst gilt es die Lastaufteilung im Trägerrost zu bestimmen. Gemäss Marti wird die Einzellast je zur Hälfte in $x$ und $y$ Richtung abgetragen. Aufgrund der Geometrie des Trägerrost ist dies jedoch nicht korrekt.\n",
    "\n",
    "![Lastaufteilung des Trägerrosts im Grundriss](../imgs/lastaufteilung_pascal.png){#fig-lastaufteilung_traegerrost}\n",
    "\n",
    "Aus der Lastaufteilung geht hervor, dass der Schnitt B-B die massgebenden Lasten aufweist. Der untere Grenzwert der Traglast wird dementsprechend an diesem bestimmt. Dargestellt ist der Schnitt B-B in der @fig-bb_lastaufteilung.\n",
    "\n",
    "![Lastaufteilung im Schnitt B-B](../imgs/bb_unterer_grenzwert.png){#fig-bb_lastaufteilung}"
   ]
  },
  {
   "cell_type": "markdown",
   "metadata": {},
   "source": [
    "Mittels Gleichgewicht der Momente um den Punkt $A$ folgt der untere Grenzwert der Traglast zu:"
   ]
  },
  {
   "cell_type": "code",
   "execution_count": 6,
   "metadata": {},
   "outputs": [
    {
     "data": {
      "text/latex": [
       "$\\displaystyle \\frac{0.44 \\left(M'u + M_{u}\\right)}{l}$"
      ],
      "text/plain": [
       "0.44*(M'u + M_u)/l"
      ]
     },
     "execution_count": 6,
     "metadata": {},
     "output_type": "execute_result"
    }
   ],
   "source": [
    "sum_M_A = 3/4 * Q * l + 1/2 * Q * 3*l  - M_u - M_apos_u\n",
    "Q_lower = sp.solve(sum_M_A, Q)[0]\n",
    "\n",
    "Q_lower.evalf(2)"
   ]
  },
  {
   "cell_type": "markdown",
   "metadata": {},
   "source": [
    "Es zeigt sich, dass sich der obere und untere Grenzwert nicht decken. Die Traglast befindet sich in diesen Grenzen."
   ]
  },
  {
   "cell_type": "markdown",
   "metadata": {},
   "source": [
    "## Numerische Lösung\n",
    "\n",
    "Das erwähnte Ziel, mittels dem Federmodell den unteren Grenzwert der Traglast zu berechnen, wird folgend dargestellt.\n",
    "Dabei werden zunächst numerische Werte definiert.\n",
    "\n"
   ]
  },
  {
   "cell_type": "code",
   "execution_count": 7,
   "metadata": {},
   "outputs": [
    {
     "data": {
      "text/markdown": [
       "$$\n",
       "\\begin{aligned}\n",
       "l & = 1 \\ \\mathrm{m} \\quad & M_{u} & = 100 \\ \\mathrm{kN} \\cdot \\mathrm{m} \\quad & M'_{u} & = 100 \\ \\mathrm{kN} \\cdot \\mathrm{m} \\\\ \n",
       "Q_{lower} & = 88.89 \\ \\mathrm{kN} \\quad & Q_{upper} & = 100.0 \\ \\mathrm{kN} \\quad &  \n",
       " \\end{aligned}\n",
       "$$"
      ],
      "text/plain": [
       "<IPython.core.display.Markdown object>"
      ]
     },
     "metadata": {},
     "output_type": "display_data"
    }
   ],
   "source": [
    "l = 1*m \n",
    "M_u = 100*kN*m\n",
    "M_apos_u = 100*kN*m\n",
    "\n",
    "Q_lower = 0.44444444444*(M_u + M_apos_u) /l\n",
    "Q_upper = 0.5*(M_u + M_apos_u) /l\n",
    "\n",
    "put_out()"
   ]
  },
  {
   "cell_type": "markdown",
   "metadata": {},
   "source": [
    "Der Trägerrost wurde mittels dem Federmodell nachmodelliert. Dabei sind biegestarre, jedoch torsionsweiche Stäbe mittels Stabendgelenken gekoppelt. Dargestellt in der @fig-rfem_marti_geom.\n",
    "\n",
    "![Statisches Modell in RFEM des Trägerrosts](../imgs/marti_rfem_geom.png){#fig-rfem_marti_geom}\n",
    "\n",
    "![Gelenkdefinition in RFEM des Trägerrosts](../imgs/marti_rfem_gelenk.png){#fig-rfem_marti_gelenk}\n",
    "\n",
    "Den Gelenken wurde die Defintion gemäss @fig-rfem_marti_gelenk hinterlegt. Dabei wurde der Biegewiderstand in positiver und negativer Dimension angesetzt, ab dem Erreichen des Biegewiderstands fliesst das Gelenk. Dies führt dazu, dass sich die Biegemomente umlagern, sprich der Biegewiderstand auch in Trägermitte erreicht werden kann.\n",
    "\n",
    "![Biegemomente in RFEM des Trägerrosts](../imgs/marti_rfem_res.png){#fig-rfem_marti_res}\n",
    "\n",
    "Mit der Belastung aus dem unteren Grenzwert stellen sich exakt die Extremwerte der Biegemomente $M_u$ und $M'_u$ in den innen liegenden Stäben ein. Das Federmodell liefert den exakten unteren Grenzwert der Traglast. Dargestell in der @fig-rfem_marti_res."
   ]
  }
 ],
 "metadata": {
  "kernelspec": {
   "display_name": "calc",
   "language": "python",
   "name": "python3"
  },
  "language_info": {
   "codemirror_mode": {
    "name": "ipython",
    "version": 3
   },
   "file_extension": ".py",
   "mimetype": "text/x-python",
   "name": "python",
   "nbconvert_exporter": "python",
   "pygments_lexer": "ipython3",
   "version": "3.11.9"
  }
 },
 "nbformat": 4,
 "nbformat_minor": 2
}
