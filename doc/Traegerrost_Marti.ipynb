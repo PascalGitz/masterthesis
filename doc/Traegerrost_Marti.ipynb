{
 "cells": [
  {
   "cell_type": "code",
   "execution_count": 1,
   "metadata": {},
   "outputs": [],
   "source": [
    "from packages import *"
   ]
  },
  {
   "cell_type": "markdown",
   "metadata": {},
   "source": [
    "# Torsionsweicher Träggerrost\n",
    "\n",
    "Das folgende Beispiel ist aus @marti_baustatik_2014 entnommen. Dieses dient als einführendes Beispiel in die Modellierung von Trägerrosten. \n",
    "\n",
    "![Grundriss des torsionsweichen Trägerrosts](../imgs/marti_traegerrost_gr.png){#fig-marti_rost_gr}\n",
    "\n",
    "Im Beispiel wird eine analytische Lösung zur Traglast aufgezeigt. Das Ziel ist es, mittels dem Federmodell eine numerische Lösung der Traglast zu erhalten.\n",
    "\n",
    "\n",
    "\n",
    "\n"
   ]
  },
  {
   "cell_type": "markdown",
   "metadata": {},
   "source": [
    "\n",
    "## Analytische Lösung nach Marti\n",
    "\n",
    "Die Analytische Lösung basiert auf dem Traglastverfahren. Mittels der Ermittlung eines zulässigen Mechanismus wird ein oberer Grenzwert der Traglast hergeleitet. In der @fig-marti_mechanismus sind zwei Stäbe dargestellt. Aus symmetriegründen lässt sich der obere Grenzwert des gesamten Trägerrost anhand dieser Darstellung ermitteln.\n",
    "\n",
    "![Mechanismus eines Stabs des Trägerrosts](../imgs/marti_traegerrost_mechanismus.png){#fig-marti_mechanismus}\n",
    "\n"
   ]
  },
  {
   "cell_type": "markdown",
   "metadata": {},
   "source": [
    "Die äussere Arbeit $W_a$ des dargestellten Systems in @fig-marti_mechanismus beträgt dabei für die am Rand gelegenen Stäbe (Punkte 2'45):\n",
    "\n",
    "$$\n",
    "W_{a,2'45} = 4 \\cdot \\left( Q \\cdot \\frac{1}{3} + Q \\cdot \\frac{1}{9} \\right)\n",
    "$$\n",
    "\n",
    "Und für die Innenträger:\n",
    "\n",
    "$$\n",
    "W_{a,123} = 4 \\cdot \\left( Q \\cdot 1 + Q \\cdot \\frac{1}{3} \\right)\n",
    "$$\n",
    "\n",
    "\n",
    "Die innere Arbeit beträgt:\n",
    "\n",
    "$$\n",
    "W_i = 8 \\cdot \\left(M_u' + M_u\\right) \\cdot \\left(\\frac{1}{3l} +\\frac{1}{9l}\\right)\n",
    "$$\n",
    "\n",
    "\n",
    "Durch das abschliessende Gleichsetzen der Arbeiten und das Lösen nach $Q$ folgt der obere Grenzwert der Traglast $Q_u$ zu:\n",
    "\n",
    "$$\n",
    "Q_u = \\frac{M_u + M_u'}{2l}\n",
    "$$\n",
    "\n",
    "Die Plastizitätskontrolle liefert die Erkenntniss, dass dies die Traglast bestimmt, bzw. der untere und der obere Grenzwert gleichwertig sind.\n",
    "\n",
    "![Plastizitätskontrolle anhand der Schnittgrössen](../imgs/marti_traegerrost_schnittgroessen.png){#fig-marti_plastizitaetskontrolle}\n"
   ]
  },
  {
   "cell_type": "markdown",
   "metadata": {},
   "source": [
    "## Analytische Lösung Pascal \n",
    "\n",
    "![Trägerrost nachgezeichnet](../imgs/rost_pascal.png){#fig-rost_pascal}\n",
    "\n"
   ]
  },
  {
   "cell_type": "code",
   "execution_count": 2,
   "metadata": {},
   "outputs": [],
   "source": [
    "l, Q_z, M_u, M_apos_u = sp.symbols(\"l, Q_z, M_u, M'u\")"
   ]
  },
  {
   "cell_type": "markdown",
   "metadata": {},
   "source": [
    "![Schnitt A-A](../imgs/aa_pascal.png){#fig-schnitt_aa}\n",
    "\n"
   ]
  },
  {
   "cell_type": "markdown",
   "metadata": {},
   "source": [
    "![Schnitt B-B](../imgs/bb_pascal.png){#fig-schnitt_bb}"
   ]
  },
  {
   "cell_type": "code",
   "execution_count": 3,
   "metadata": {},
   "outputs": [
    {
     "data": {
      "text/latex": [
       "$\\displaystyle 7.11111111111111 Q_{z}$"
      ],
      "text/plain": [
       "7.11111111111111*Q_z"
      ]
     },
     "execution_count": 3,
     "metadata": {},
     "output_type": "execute_result"
    }
   ],
   "source": [
    "W_A_aa = 2 * (Q_z * (1/3) + Q_z)\n",
    "W_A_bb = 2 * (Q_z * (1/9) + Q_z * 1/3)\n",
    "\n",
    "W_A = 2 * (W_A_aa + W_A_bb)\n",
    "\n",
    "W_A"
   ]
  },
  {
   "cell_type": "code",
   "execution_count": 4,
   "metadata": {},
   "outputs": [
    {
     "data": {
      "text/latex": [
       "$\\displaystyle \\frac{32 M'u}{9 l} + \\frac{32 M_{u}}{9 l}$"
      ],
      "text/plain": [
       "32*M'u/(9*l) + 32*M_u/(9*l)"
      ]
     },
     "execution_count": 4,
     "metadata": {},
     "output_type": "execute_result"
    }
   ],
   "source": [
    "W_I_aa = 2 * (M_apos_u * 1/(3*l) + M_u * (1/(3*l)))\n",
    "W_I_bb = 2 * (M_apos_u * 1/(9*l) + M_u * (1/(9*l)))\n",
    "\n",
    "W_I = 4 *  (W_I_aa + W_I_bb)\n",
    "\n",
    "W_I"
   ]
  },
  {
   "cell_type": "code",
   "execution_count": 5,
   "metadata": {},
   "outputs": [
    {
     "data": {
      "text/latex": [
       "$\\displaystyle \\frac{0.5 \\left(M'u + M_{u}\\right)}{l}$"
      ],
      "text/plain": [
       "0.5*(M'u + M_u)/l"
      ]
     },
     "execution_count": 5,
     "metadata": {},
     "output_type": "execute_result"
    }
   ],
   "source": [
    "Q_z_solve = sp.solve(sp.Eq(W_A, W_I), Q_z)[0]\n",
    "Q_z_solve"
   ]
  },
  {
   "cell_type": "markdown",
   "metadata": {},
   "source": [
    "## Numerische Lösung\n",
    "\n",
    "Zur ermittlung der numerischen Lösung werden die Variablen mit numerischen Grössen ersetzt.\n"
   ]
  },
  {
   "cell_type": "code",
   "execution_count": 8,
   "metadata": {},
   "outputs": [
    {
     "data": {
      "text/markdown": [
       "$$\n",
       "\\begin{aligned}\n",
       "l & = 1 \\ \\mathrm{m} \\quad & M_{u} & = 100 \\ \\mathrm{kN} \\cdot \\mathrm{m} \\quad & M'_{u} & = 100 \\ \\mathrm{kN} \\cdot \\mathrm{m} \\\\ \n",
       "Q_{u} & = 100.0 \\ \\mathrm{kN} \\quad & \\text{kontrolle} & = 150.0 \\ \\mathrm{kN} \\cdot \\mathrm{m} \\quad &  \n",
       " \\end{aligned}\n",
       "$$"
      ],
      "text/plain": [
       "<IPython.core.display.Markdown object>"
      ]
     },
     "metadata": {},
     "output_type": "display_data"
    }
   ],
   "source": [
    "l = 1*m \n",
    "M_u = 100*kN*m\n",
    "M_apos_u = 100*kN*m\n",
    "\n",
    "Q_u = 0.5*(M_u + M_apos_u) /l\n",
    "\n",
    "\n",
    "\n",
    "put_out()"
   ]
  },
  {
   "cell_type": "code",
   "execution_count": null,
   "metadata": {},
   "outputs": [],
   "source": []
  }
 ],
 "metadata": {
  "kernelspec": {
   "display_name": "calc",
   "language": "python",
   "name": "python3"
  },
  "language_info": {
   "codemirror_mode": {
    "name": "ipython",
    "version": 3
   },
   "file_extension": ".py",
   "mimetype": "text/x-python",
   "name": "python",
   "nbconvert_exporter": "python",
   "pygments_lexer": "ipython3",
   "version": "3.11.9"
  }
 },
 "nbformat": 4,
 "nbformat_minor": 2
}
