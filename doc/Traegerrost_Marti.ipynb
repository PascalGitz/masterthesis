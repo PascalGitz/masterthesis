{
 "cells": [
  {
   "cell_type": "markdown",
   "metadata": {},
   "source": [
    "# Torsionsweicher Träggerrost\n",
    "\n",
    "Das folgende Beispiel ist aus @marti_baustatik_2014 entnommen. Dieses dient als einführendes Beispiel in die Modellierung von Trägerrosten mit dem Federmodell. In der @fig-trm_uebersicht ist der Grundriss des Trägerrosts dargestellt. Es handelt sich um insgesamt 16 torsionsweiche Stäbe, welche an den Enden eingespannt sind.\n",
    "\n",
    "![Grundriss des torsionsweichen Trägerrosts, neugezeichnet nach @marti_baustatik_2014](../imgs/trm_uebersicht.svg){#fig-trm_uebersicht}\n",
    "\n",
    "Im Beispiel wird eine analytische Lösung zur Traglast aufgezeigt. Das Ziel ist es, mittels dem Federmodell eine numerische Lösung des unteren Grenzwerts der Traglast zu erhalten.\n",
    "\n",
    "\n",
    "\n",
    "\n"
   ]
  },
  {
   "cell_type": "markdown",
   "metadata": {},
   "source": [
    "## Analytische Lösung\n",
    "\n",
    "Die Analytische Lösung basiert auf dem Traglastverfahren. Mittels einem zulässigen Mechanismus wird ein oberer Grenzwert der Traglast hergeleitet. In der @fig-trm_schnitt sind zwei Stäbe dargestellt. Aus symmetriegründen lässt sich der obere Grenzwert des gesamten Trägerrosts anhand dieser Darstellung ermitteln.\n",
    "\n",
    "![Schnitt des torsionsweichen Trägerrosts, mit dem angenommenen Mechanismus für den Innen- und Aussenträger](../imgs/trm_schnitt.svg){#fig-trm_schnitt}\n",
    "\n"
   ]
  },
  {
   "cell_type": "markdown",
   "metadata": {},
   "source": [
    "Die äussere Arbeit $W_a$ des dargestellten Systems in @fig-trm_schnitt beträgt dabei für die am Rand gelegenen Stäbe (Punkte 2'45):\n",
    "\n",
    "$$\n",
    "W_{a,2'45} = 4 \\cdot \\left( Q \\cdot \\frac{1}{3} + Q \\cdot \\frac{1}{9} \\right)\n",
    "$$\n",
    "\n",
    "Und für die Innenträger:\n",
    "\n",
    "$$\n",
    "W_{a,123} = 4 \\cdot \\left( Q \\cdot 1 + Q \\cdot \\frac{1}{3} \\right)\n",
    "$$\n",
    "\n",
    "\n",
    "Sowie beträgt die innere Arbeit:\n",
    "\n",
    "$$\n",
    "W_i = 8 \\cdot \\left(M_u' + M_u\\right) \\cdot \\left(\\frac{1}{3l} +\\frac{1}{9l}\\right)\n",
    "$$\n",
    "\n",
    "Durch das abschliessende Gleichsetzen der Arbeiten und das Lösen nach $Q$ folgt der obere Grenzwert der Traglast zu:\n",
    "\n",
    "$$\n",
    "Q = \\frac{M_u + M_u'}{2l}\n",
    "$$\n",
    "\n",
    "Die Plastizitätskontrolle ist in der @fig-trm_schnitt_my und @fig-trm_schnitt_vz gezeigt. Dabei wird eine Lastverteilung von je einer Hälfte $Q$ in $x$ und $y$ Richtung angenommen. Welche sich nach vollständigen Umlagern der Biegemomente einstellt.\n",
    "\n",
    "![Plastizitätskontrolle anhand der Schnittgrössen der Biegemomente](../imgs/trm_schnitt_my.svg){#fig-trm_schnitt_my}\n",
    "\n",
    "![Plastizitätskontrolle anhand der Schnittgrössen der Querkräfte](../imgs/trm_schnitt_vz.svg){#fig-trm_schnitt_vz}\n",
    "\n",
    "Aus der Plastizitätskontrolle geht heraus, dass der Biegewiderstand nirgends überschritten wird, somit deckt sich der untere und obere Grenzwert der Traglast, sprich die Traglast $Q_u$ wurde gefunden.\n",
    "\n",
    "\n",
    "$$\n",
    "Q_u = \\frac{M_u + M_u'}{2l}\n",
    "$$\n",
    "\n"
   ]
  },
  {
   "cell_type": "markdown",
   "metadata": {},
   "source": [
    "## Numerische Lösung\n",
    "\n",
    "Abschliessend wird die analytische Lösung mit der numerischen Lösung verglichen. Dabei wird ein Federmodell erstellt.\n",
    "Zunächst sind die Variablen mit numerischen Werten zu substituieren:"
   ]
  },
  {
   "cell_type": "code",
   "execution_count": 1,
   "metadata": {},
   "outputs": [],
   "source": [
    "# | echo: false\n",
    "\n",
    "from packages import *"
   ]
  },
  {
   "cell_type": "code",
   "execution_count": 2,
   "metadata": {},
   "outputs": [
    {
     "data": {
      "text/markdown": [
       "$$\n",
       "\\begin{aligned}\n",
       "l& = 1 = 1 \\ \\mathrm{m} \\quad & M_{u}& = 100 = 100 \\ \\mathrm{kN} \\cdot \\mathrm{m} \\quad & {M}'_{u}& = 100 = 100 \\ \\mathrm{kN} \\cdot \\mathrm{m} \\\\ \n",
       "Q_{u}& = \\frac{0.5 \\cdot \\left(M_{u} + {M}'_{u}\\right)}{l} = 100.0 \\ \\mathrm{kN} \\quad &  \\quad &  \n",
       " \\end{aligned}\n",
       "$$"
      ],
      "text/plain": [
       "<IPython.core.display.Markdown object>"
      ]
     },
     "metadata": {},
     "output_type": "display_data"
    }
   ],
   "source": [
    "# Rastergrösse\n",
    "l = 1 * un.m  \n",
    "\n",
    "# Positiver Biegewiderstand\n",
    "M_u = 100 * un.kN * un.m  \n",
    "\n",
    "# Negativer Biegewiderstand\n",
    "M_apos_u = 100 * un.kN * un.m  \n",
    "\n",
    "# Traglast\n",
    "Q_u = 0.5 * (M_u + M_apos_u) / l\n",
    "\n",
    "put_out(symbolic=True)"
   ]
  },
  {
   "cell_type": "markdown",
   "metadata": {},
   "source": [
    "Der Trägerrost wurde mittels dem Federmodell nachmodelliert. Dabei sind biegestarre, jedoch torsionsweiche Stäbe mittels Stabendgelenken gekoppelt. Dargestellt in der @fig-trm_geom.\n",
    "\n",
    "![Statisches Modell in AxisVM des Trägerrosts](../imgs/trm_system.svg){#fig-trm_geom}\n"
   ]
  },
  {
   "cell_type": "code",
   "execution_count": 3,
   "metadata": {},
   "outputs": [],
   "source": [
    "# | echo: false\n",
    "\n",
    "radians = np.linspace(-0.2, 0.2, 100)\n",
    "M = np.piecewise(radians, [radians < 0, radians > 0], [-100, 100])\n",
    "\n",
    "fig, ax = plt.subplots()\n",
    "\n",
    "ax.plot(radians, M, linestyle=\"-\", color=\"k\")\n",
    "ax.plot(radians, radians * 0, color=\"gray\")\n",
    "\n",
    "# Set axis labels\n",
    "ax.set_xlabel(r\"$\\varphi$ [rad]\")\n",
    "ax.set_ylabel(r\"$M$ [kNm]\")\n",
    "\n",
    "# Set limits\n",
    "# ax.set_xlim([-0.2, 0.2])\n",
    "# ax.set_ylim([-101, 101])\n",
    "\n",
    "# Show the plot\n",
    "plt.tight_layout()\n",
    "plt.savefig(\"imgs/trm_gelenkdef.svg\")\n",
    "plt.close()"
   ]
  },
  {
   "cell_type": "markdown",
   "metadata": {},
   "source": [
    "![Ideal-plastisches Momenten-Verdrehungs-Verhalten der Gelenke](../imgs/trm_gelenkdef.svg){#fig-trm_gelenkdef}\n"
   ]
  },
  {
   "cell_type": "markdown",
   "metadata": {},
   "source": []
  },
  {
   "cell_type": "markdown",
   "metadata": {},
   "source": [
    "Den Gelenken wurde die Defintion gemäss @fig-trm_gelenkdef hinterlegt. Dabei wurde der Biegewiderstand in positiver und negativer Dimension angesetzt, ab dem Erreichen des Biegewiderstands fliesst das Gelenk. Dies führt dazu, dass sich die Biegemomente umlagern, sprich der Biegewiderstand auch in Trägermitte erreicht werden kann.\n",
    "\n",
    "![Biegemomente des Trägerrosts bei einer Belastung von 58 un.kN, erste plastische Gelenke entstehen bei der Lagerung der Innenträger](../imgs/trm_my58.svg){#fig-trm_my58}\n",
    "\n",
    "![Biegemomente des Trägerrosts bei einer Belastung von 88 un.kN, plastische Gelenke entstehen bei der Lagerung der Aussenträger](../imgs/trm_my88.svg){#fig-trm_my88}\n",
    "\n",
    "![Biegemomente des Trägerrosts bei einer Belastung von 94 un.kN, plastische Gelenke entstehen im Feld der Innenträger](../imgs/trm_my94.svg){#fig-trm_my94}\n",
    "\n",
    "![Biegemomente des Trägerrosts bei einer Belastung von 100 un.kN, plastische Gelenke entstehen im Feld der Aussenträger](../imgs/trm_my100.svg){#fig-trm_my100}\n",
    "\n",
    "\n",
    "![Querkräfte des Trägerrosts bei einer Belastung von 58 un.kN, erste plastische Gelenke entstehen bei der Lagerung der Innenträger](../imgs/trm_vz58.svg){#fig-trm_vz58}\n",
    "\n",
    "![Querkräfte des Trägerrosts bei einer Belastung von 88 un.kN, plastische Gelenke entstehen bei der Lagerung der Aussenträger](../imgs/trm_vz88.svg){#fig-trm_vz88}\n",
    "\n",
    "![Querkräfte des Trägerrosts bei einer Belastung von 94 un.kN, plastische Gelenke entstehen im Feld der Innenträger](../imgs/trm_vz94.svg){#fig-trm_vz94}\n",
    "\n",
    "![Querkräfte des Trägerrosts bei einer Belastung von 100 un.kN, plastische Gelenke entstehen im Feld der Aussenträger](../imgs/trm_vz100.svg){#fig-trm_vz100}\n",
    "\n",
    "Mit der Belastung aus dem unteren Grenzwert stellen sich exakt die Extremwerte der Biegemomente $M_u$ und $M'_u$ in den innen liegenden Stäben ein. Das Federmodell liefert den exakten unteren Grenzwert der Traglast. Dargestell in der @fig-trm_my100."
   ]
  }
 ],
 "metadata": {
  "kernelspec": {
   "display_name": "calc",
   "language": "python",
   "name": "python3"
  },
  "language_info": {
   "codemirror_mode": {
    "name": "ipython",
    "version": 3
   },
   "file_extension": ".py",
   "mimetype": "text/x-python",
   "name": "python",
   "nbconvert_exporter": "python",
   "pygments_lexer": "ipython3",
   "version": "3.11.9"
  }
 },
 "nbformat": 4,
 "nbformat_minor": 2
}
