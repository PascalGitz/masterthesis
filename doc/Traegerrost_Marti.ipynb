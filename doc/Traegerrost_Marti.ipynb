{
 "cells": [
  {
   "cell_type": "code",
   "execution_count": 1,
   "metadata": {},
   "outputs": [],
   "source": [
    "from packages import *"
   ]
  },
  {
   "cell_type": "markdown",
   "metadata": {},
   "source": [
    "# Torsionsweicher Träggerrost\n",
    "\n",
    "Das folgende Beispiel ist aus @marti_baustatik_2014 entnommen. Dieses dient als einführendes Beispiel in die Modellierung von Trägerrosten mit dem Federmodell. In der @fig-marti_rost_gr ist der Grundriss des Trägerrosts dargestellt. Es handelt sich um insgesamt 16 torsionsweiche Stäbe, welche an den Enden eingespannt sind.\n",
    "\n",
    "![Grundriss des torsionsweichen Trägerrosts](../imgs/marti_traegerrost_gr.png){#fig-marti_rost_gr}\n",
    "\n",
    "Im Beispiel wird eine analytische Lösung zur Traglast aufgezeigt. Das Ziel ist es, mittels dem Federmodell eine numerische Lösung des unteren Grenzwerts der Traglast zu erhalten.\n",
    "\n",
    "\n",
    "\n",
    "\n"
   ]
  },
  {
   "cell_type": "markdown",
   "metadata": {},
   "source": [
    "## Analytische Lösung\n",
    "\n",
    "Die Analytische Lösung basiert auf dem Traglastverfahren. Mittels einem zulässigen Mechanismus wird ein oberer Grenzwert der Traglast hergeleitet. In der @fig-marti_mechanismus sind zwei Stäbe dargestellt. Aus symmetriegründen lässt sich der obere Grenzwert des gesamten Trägerrosts anhand dieser Darstellung ermitteln.\n",
    "\n",
    "![Mechanismus eines Stabs des Trägerrosts](../imgs/marti_traegerrost_mechanismus.png){#fig-marti_mechanismus}\n",
    "\n"
   ]
  },
  {
   "cell_type": "markdown",
   "metadata": {},
   "source": [
    "Die äussere Arbeit $W_a$ des dargestellten Systems in @fig-marti_mechanismus beträgt dabei für die am Rand gelegenen Stäbe (Punkte 2'45):\n",
    "\n",
    "$$\n",
    "W_{a,2'45} = 4 \\cdot \\left( Q \\cdot \\frac{1}{3} + Q \\cdot \\frac{1}{9} \\right)\n",
    "$$\n",
    "\n",
    "Und für die Innenträger:\n",
    "\n",
    "$$\n",
    "W_{a,123} = 4 \\cdot \\left( Q \\cdot 1 + Q \\cdot \\frac{1}{3} \\right)\n",
    "$$\n",
    "\n",
    "\n",
    "Sowie beträgt die innere Arbeit:\n",
    "\n",
    "$$\n",
    "W_i = 8 \\cdot \\left(M_u' + M_u\\right) \\cdot \\left(\\frac{1}{3l} +\\frac{1}{9l}\\right)\n",
    "$$\n",
    "\n",
    "Durch das abschliessende Gleichsetzen der Arbeiten und das Lösen nach $Q$ folgt der obere Grenzwert der Traglast zu:\n",
    "\n",
    "$$\n",
    "Q = \\frac{M_u + M_u'}{2l}\n",
    "$$\n",
    "\n",
    "Die Plastizitätskontrolle ist in der @fig-marti_plastizitaetskontrolle gezeigt. Dabei wird eine Lastverteilung von je einer Hälfte $Q$ in $x$ und $y$ Richtung angenommen.\n",
    "\n",
    "![Plastizitätskontrolle anhand der Schnittgrössen](../imgs/marti_traegerrost_schnittgroessen.png){#fig-marti_plastizitaetskontrolle}\n",
    "\n",
    "Aus der Plastizitätskontrolle geht heraus, dass der Biegewiderstand nirgends überschritten wird, somit deckt sich der untere und obere Grenzwert der Traglast, sprich die Traglast $Q_u$ wurde gefunden.\n",
    "\n",
    "\n",
    "$$\n",
    "Q_u = \\frac{M_u + M_u'}{2l}\n",
    "$$\n",
    "\n"
   ]
  },
  {
   "cell_type": "markdown",
   "metadata": {},
   "source": [
    "## Numerische Lösung\n",
    "\n",
    "Abschliessend wird die analytische Lösung mit der numerischen Lösung verglichen. Dabei wird ein Federmodell erstellt.\n",
    "Zunächst sind die Variablen mit numerischen Werten zu substituieren:"
   ]
  },
  {
   "cell_type": "code",
   "execution_count": 2,
   "metadata": {},
   "outputs": [
    {
     "data": {
      "text/markdown": [
       "$$\n",
       "\\begin{aligned}\n",
       "l & = 1 \\ \\mathrm{m} \\quad & M_{u} & = 100 \\ \\mathrm{kN} \\cdot \\mathrm{m} \\quad & M'_{u} & = 100 \\ \\mathrm{kN} \\cdot \\mathrm{m} \\\\ \n",
       "Q_{u} & = 100.0 \\ \\mathrm{kN} \\quad &  \\quad &  \n",
       " \\end{aligned}\n",
       "$$"
      ],
      "text/plain": [
       "<IPython.core.display.Markdown object>"
      ]
     },
     "metadata": {},
     "output_type": "display_data"
    }
   ],
   "source": [
    "l = 1*m \n",
    "M_u = 100*kN*m\n",
    "M_apos_u = 100*kN*m\n",
    "\n",
    "Q_u = 0.5*(M_u + M_apos_u) /l\n",
    "\n",
    "put_out()"
   ]
  },
  {
   "cell_type": "markdown",
   "metadata": {},
   "source": [
    "Der Trägerrost wurde mittels dem Federmodell nachmodelliert. Dabei sind biegestarre, jedoch torsionsweiche Stäbe mittels Stabendgelenken gekoppelt. Dargestellt in der @fig-AxisVM_marti_geom.\n",
    "\n",
    "![Statisches Modell in AxisVM des Trägerrosts](../imgs/marti_fem_geom.png){#fig-fem_marti_geom}\n",
    "\n",
    "![Gelenkdefinition in AxisVM des Trägerrosts](../imgs/marti_fem_gelenk.png){#fig-AxisVM_marti_gelenk}\n",
    "\n",
    "Den Gelenken wurde die Defintion gemäss @fig-AxisVM_marti_gelenk hinterlegt. Dabei wurde der Biegewiderstand in positiver und negativer Dimension angesetzt, ab dem Erreichen des Biegewiderstands fliesst das Gelenk. Dies führt dazu, dass sich die Biegemomente umlagern, sprich der Biegewiderstand auch in Trägermitte erreicht werden kann.\n",
    "\n",
    "![Biegemomente in AxisVM des Trägerrosts](../imgs/marti_fem_my.png){#fig-AxisVM_marti_res}\n",
    "\n",
    "Mit der Belastung aus dem unteren Grenzwert stellen sich exakt die Extremwerte der Biegemomente $M_u$ und $M'_u$ in den innen liegenden Stäben ein. Das Federmodell liefert den exakten unteren Grenzwert der Traglast. Dargestell in der @fig-AxisVM_marti_res."
   ]
  },
  {
   "cell_type": "markdown",
   "metadata": {},
   "source": [
    "# Torsionsteifer Trägerrost"
   ]
  },
  {
   "cell_type": "code",
   "execution_count": 3,
   "metadata": {},
   "outputs": [
    {
     "data": {
      "text/markdown": [
       "$$\n",
       "\\begin{aligned}\n",
       "Q_{lower , tors} & = 120.6 \\ \\mathrm{kN} \\end{aligned}\n",
       "$$"
      ],
      "text/plain": [
       "<IPython.core.display.Markdown object>"
      ]
     },
     "metadata": {},
     "output_type": "display_data"
    }
   ],
   "source": [
    "Q_lower_comma_tors = 1.206 * Q_u\n",
    "\n",
    "put_out()"
   ]
  },
  {
   "cell_type": "code",
   "execution_count": 4,
   "metadata": {},
   "outputs": [
    {
     "data": {
      "text/plain": [
       "99.0"
      ]
     },
     "execution_count": 4,
     "metadata": {},
     "output_type": "execute_result"
    }
   ],
   "source": [
    "0.9*110"
   ]
  },
  {
   "cell_type": "code",
   "execution_count": null,
   "metadata": {},
   "outputs": [],
   "source": []
  }
 ],
 "metadata": {
  "kernelspec": {
   "display_name": "calc",
   "language": "python",
   "name": "python3"
  },
  "language_info": {
   "codemirror_mode": {
    "name": "ipython",
    "version": 3
   },
   "file_extension": ".py",
   "mimetype": "text/x-python",
   "name": "python",
   "nbconvert_exporter": "python",
   "pygments_lexer": "ipython3",
   "version": "3.11.9"
  }
 },
 "nbformat": 4,
 "nbformat_minor": 2
}
