{
 "cells": [
  {
   "cell_type": "markdown",
   "metadata": {},
   "source": [
    "# Quadratplatte\n",
    "\n",
    "\n",
    "In diesem Beispiel wird die Traglast einer Quadratplatte berechnet. Das Beispiel ist so gewählt, dass der untere Grenzwert und der obere Grenzwert der Traglastberechnung zusammenfallen. Somit die eindeutige Traglast bestimmt werden kann. Dies gilt für eine einfach gelagerte Quadratplatte.\n",
    "\n",
    "\n",
    "## Analytische Lösung\n",
    "\n",
    "![Systemskizze zur analytischen Lösung der Traglast einer Rechteckplatte](../imgs/quad_analytisch.png)\n",
    "\n",
    "In @marti_baustatik_2014 im Kapitel 25.5.3 wird die Bestimmung der Traglast einer Rechteckplatte aufgezeigt. Dabei lässt sich die Traglast folgend eingrenzen:\n",
    "$$\n",
    "8(1+ \\beta + \\beta^2) \\leq \\frac{q_u b^2}{m_u} \\leq \\frac{24}{(\\sqrt{3+\\beta^2} - \\beta)^2}\n",
    "$$\n",
    "\n",
    "\n",
    "\n",
    "dabei entspricht:\n",
    "\n",
    "$$\n",
    "\\beta = \\frac{b}{a}\n",
    "$$\n",
    "\n",
    "Wird die Beziehung auf eine Quadratplatte $a = b$ angewendet, so folgt $\\beta = 1$ und die Beziehung:\n",
    "\n",
    "\n",
    "$$\n",
    "\\frac{24 m_u}{a^2} \\leq q_u \\leq \\frac{24 m_u}{a^2} \n",
    "$$\n",
    "\n",
    "\n",
    "Die Traglast ist somit eindeutig bestimmt.\n",
    "\n",
    "\n",
    "## Numerische Näherung\n"
   ]
  },
  {
   "cell_type": "code",
   "execution_count": 1,
   "metadata": {},
   "outputs": [],
   "source": [
    "from packages import *"
   ]
  },
  {
   "cell_type": "code",
   "execution_count": 4,
   "metadata": {},
   "outputs": [
    {
     "data": {
      "text/markdown": [
       "$$\n",
       "\\begin{aligned}\n",
       "m_{u}& = 100.0 \\ \\frac{\\mathrm{kNm}}{\\mathrm{m}} \\\\ \n",
       "a& = 5 \\ \\mathrm{m} \\\\ \n",
       "q_{u}& = \\frac{24 \\cdot m_{u}}{a^{2}} = 96.0 \\ \\frac{\\mathrm{kN}}{\\mathrm{m}^{2}} \\end{aligned}\n",
       "$$"
      ],
      "text/plain": [
       "<IPython.core.display.Markdown object>"
      ]
     },
     "metadata": {},
     "output_type": "display_data"
    }
   ],
   "source": [
    "m_u = 100*un.kNm/un.m\n",
    "a = 5 *un.m\n",
    "\n",
    "q_u = (24 * m_u / a**2).to(un.kN/un.m**2)\n",
    "\n",
    "\n",
    "put_out(symbolic=True, rows = 1)"
   ]
  },
  {
   "cell_type": "code",
   "execution_count": null,
   "metadata": {},
   "outputs": [],
   "source": []
  }
 ],
 "metadata": {
  "kernelspec": {
   "display_name": "calc",
   "language": "python",
   "name": "python3"
  },
  "language_info": {
   "codemirror_mode": {
    "name": "ipython",
    "version": 3
   },
   "file_extension": ".py",
   "mimetype": "text/x-python",
   "name": "python",
   "nbconvert_exporter": "python",
   "pygments_lexer": "ipython3",
   "version": "3.11.9"
  }
 },
 "nbformat": 4,
 "nbformat_minor": 2
}
