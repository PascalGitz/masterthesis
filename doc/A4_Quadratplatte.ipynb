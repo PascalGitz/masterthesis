{
 "cells": [
  {
   "cell_type": "markdown",
   "metadata": {},
   "source": [
    "# Quadratplatte\n",
    "\n",
    "\n",
    "In diesem Beispiel wird die Biegetraglast einer Quadratplatte berechnet. Das Beispiel ist so gewählt, dass der untere Grenzwert und der obere Grenzwert der Biegetraglastberechnung zusammenfallen. Somit die eindeutige Biegetraglast bestimmt werden kann. Dies gilt für eine einfach gelagerte Quadratplatte.\n",
    "\n",
    "\n",
    "## Analytische Lösung\n",
    "\n",
    "![Systemskizze zur analytischen Lösung der Biegetraglast einer Rechteckplatte](../imgs/quad_analytisch.png)\n",
    "\n",
    "In @marti_baustatik_2014 im Kapitel 25.5.3 wird die Bestimmung der Biegetraglast einer Rechteckplatte aufgezeigt. Dabei lässt sich die Biegetraglast folgend eingrenzen:\n",
    "$$\n",
    "8(1+ \\beta + \\beta^2) \\leq \\frac{q_u b^2}{m_u} \\leq \\frac{24}{(\\sqrt{3+\\beta^2} - \\beta)^2}\n",
    "$$\n",
    "\n",
    "\n",
    "\n",
    "dabei entspricht:\n",
    "\n",
    "$$\n",
    "\\beta = \\frac{b}{a}\n",
    "$$\n",
    "\n",
    "Wird die Beziehung auf eine Quadratplatte $a = b$ angewendet, so folgt $\\beta = 1$ und die Beziehung:\n",
    "\n",
    "\n",
    "$$\n",
    "\\frac{24 m_u}{a^2} \\leq q_u \\leq \\frac{24 m_u}{a^2} \n",
    "$$\n",
    "\n",
    "\n",
    "Die Biegetraglast ist somit eindeutig bestimmt.\n",
    "\n",
    "\n",
    "## Trägerrost\n",
    "\n",
    "Zunächst werden numerische Werte definiert.\n"
   ]
  },
  {
   "cell_type": "code",
   "execution_count": 1,
   "metadata": {},
   "outputs": [],
   "source": [
    "from packages import *"
   ]
  },
  {
   "cell_type": "code",
   "execution_count": 2,
   "metadata": {},
   "outputs": [
    {
     "data": {
      "text/markdown": [
       "$$\n",
       "\\begin{aligned}\n",
       "m_{u}& = 100.0 \\ \\frac{\\mathrm{kNm}}{\\mathrm{m}} \\\\ \n",
       "a& = 5 \\ \\mathrm{m} \\\\ \n",
       "q_{u}& = \\frac{24 \\cdot m_{u}}{a^{2}} = 96.0 \\ \\frac{\\mathrm{kN}}{\\mathrm{m}^{2}} \\end{aligned}\n",
       "$$"
      ],
      "text/plain": [
       "<IPython.core.display.Markdown object>"
      ]
     },
     "metadata": {},
     "output_type": "display_data"
    }
   ],
   "source": [
    "m_u = 100*un.kNm/un.m\n",
    "a = 5 *un.m\n",
    "\n",
    "q_u = (24 * m_u / a**2).to(un.kN/un.m**2)\n",
    "\n",
    "\n",
    "put_out(symbolic=True, rows = 1)"
   ]
  },
  {
   "cell_type": "markdown",
   "metadata": {},
   "source": [
    "Dabei beträgt die Knotenlast:"
   ]
  },
  {
   "cell_type": "code",
   "execution_count": 3,
   "metadata": {},
   "outputs": [
    {
     "data": {
      "text/markdown": [
       "$$\n",
       "\\begin{aligned}\n",
       "l_{El}& = 0.1 \\ \\mathrm{m} \\end{aligned}\n",
       "$$"
      ],
      "text/plain": [
       "<IPython.core.display.Markdown object>"
      ]
     },
     "metadata": {},
     "output_type": "display_data"
    }
   ],
   "source": [
    "l_El = 0.1*un.m\n",
    "\n",
    "\n",
    "\n",
    "put_out(symbolic=True, rows = 1)"
   ]
  },
  {
   "cell_type": "code",
   "execution_count": 4,
   "metadata": {},
   "outputs": [
    {
     "data": {
      "text/html": [
       "0.9600000000000002 kN"
      ],
      "text/latex": [
       "$0.9600000000000002\\ \\mathrm{kN}$"
      ],
      "text/plain": [
       "<Quantity(0.96, 'kilonewton')>"
      ]
     },
     "execution_count": 4,
     "metadata": {},
     "output_type": "execute_result"
    }
   ],
   "source": [
    "q_u * l_El**2"
   ]
  },
  {
   "cell_type": "code",
   "execution_count": 5,
   "metadata": {},
   "outputs": [
    {
     "data": {
      "text/markdown": [
       "$$\n",
       "\\begin{aligned}\n",
       "M_{u}& = l_{El} \\cdot m_{u} = 10.0 \\ \\mathrm{kNm} \\quad &  \\quad &  \n",
       " \\end{aligned}\n",
       "$$"
      ],
      "text/plain": [
       "<IPython.core.display.Markdown object>"
      ]
     },
     "metadata": {},
     "output_type": "display_data"
    }
   ],
   "source": [
    "M_u = m_u * l_El\n",
    "\n",
    "put_out(symbolic=True)"
   ]
  },
  {
   "cell_type": "markdown",
   "metadata": {},
   "source": [
    "Das Abbruchkriterium der Berechnung liegt dabei beim Nichtkonvergieren der Berechnung (Vergleichbar mit einem Mechanismus des Tragsystems).\n"
   ]
  },
  {
   "cell_type": "code",
   "execution_count": 6,
   "metadata": {},
   "outputs": [
    {
     "data": {
      "text/markdown": [
       "$$\n",
       "\\begin{aligned}\n",
       "\\eta_{last}& = 0.17 \\\\ \n",
       "F_{u}& = \\eta_{last} \\cdot 2104 \\cdot 3.3 = 1159.51 \\ \\mathrm{kN} \\\\ \n",
       "F_{u rand}& = \\eta_{last} \\cdot \\left(2597 - 2104\\right) \\cdot 1.65 = 135.85 \\ \\mathrm{kN} \\\\ \n",
       "q_{u rost fein}& = \\frac{F_{u} + F_{u rand}}{a^{2}} = 51.81 \\ \\frac{\\mathrm{kN}}{\\mathrm{m}^{2}} \\\\ \n",
       "\\eta_{rost fein}& = \\frac{q_{u rost fein}}{q_{u}} = 53.97 \\ \\mathrm{\\%} \\end{aligned}\n",
       "$$"
      ],
      "text/plain": [
       "<IPython.core.display.Markdown object>"
      ]
     },
     "metadata": {},
     "output_type": "display_data"
    }
   ],
   "source": [
    "eta_last = 0.167\n",
    "\n",
    "F_u = eta_last*2104 * 3.3*un.kN\n",
    "F_u_rand = eta_last * (2597-2104) * 1.65*un.kN\n",
    "\n",
    "\n",
    "q_u_rost_fein = (F_u + F_u_rand) / a**2\n",
    "\n",
    "eta_rost_fein = (q_u_rost_fein / q_u).to(un.percent)\n",
    "put_out(symbolic=True, rows = 1)"
   ]
  },
  {
   "cell_type": "code",
   "execution_count": 11,
   "metadata": {},
   "outputs": [
    {
     "data": {
      "text/plain": [
       "25"
      ]
     },
     "execution_count": 11,
     "metadata": {},
     "output_type": "execute_result"
    }
   ],
   "source": [
    "5*5"
   ]
  },
  {
   "cell_type": "code",
   "execution_count": 10,
   "metadata": {},
   "outputs": [
    {
     "data": {
      "text/plain": [
       "0.26"
      ]
     },
     "execution_count": 10,
     "metadata": {},
     "output_type": "execute_result"
    }
   ],
   "source": [
    "2600*0.01**2"
   ]
  },
  {
   "cell_type": "code",
   "execution_count": 7,
   "metadata": {},
   "outputs": [
    {
     "data": {
      "text/markdown": [
       "$$\n",
       "\\begin{aligned}\n",
       "\\eta_{last}& = 0.5 \\\\ \n",
       "F_{u}& = \\eta_{last} \\cdot 2104 \\cdot 1.1 = 1157.2 \\ \\mathrm{kN} \\\\ \n",
       "F_{u rand}& = \\eta_{last} \\cdot \\left(2597 - 2104\\right) \\cdot 0.55 = 135.58 \\ \\mathrm{kN} \\\\ \n",
       "q_{u rost fein}& = \\frac{F_{u} + F_{u rand}}{a^{2}} = 51.71 \\ \\frac{\\mathrm{kN}}{\\mathrm{m}^{2}} \\\\ \n",
       "\\eta_{rost fein}& = \\frac{q_{u rost fein}}{q_{u}} = 53.87 \\ \\mathrm{\\%} \\end{aligned}\n",
       "$$"
      ],
      "text/plain": [
       "<IPython.core.display.Markdown object>"
      ]
     },
     "metadata": {},
     "output_type": "display_data"
    }
   ],
   "source": [
    "eta_last = 0.5\n",
    "\n",
    "F_u = eta_last*2104 * 1.1*un.kN\n",
    "F_u_rand = eta_last * (2597-2104) * 0.55*un.kN\n",
    "\n",
    "\n",
    "q_u_rost_fein = (F_u + F_u_rand) / a**2\n",
    "\n",
    "eta_rost_fein = (q_u_rost_fein / q_u).to(un.percent)\n",
    "\n",
    "put_out(symbolic=True, rows = 1)"
   ]
  },
  {
   "cell_type": "code",
   "execution_count": 8,
   "metadata": {},
   "outputs": [
    {
     "data": {
      "text/markdown": [
       "$$\n",
       "\\begin{aligned}\n",
       "\\eta_{last}& = 0.56 \\\\ \n",
       "F_{u}& = 0.56 \\cdot 48 = 26.88 \\ \\mathrm{kN} \\\\ \n",
       "F_{u rand}& = 0.56 \\cdot 24 = 13.44 \\ \\mathrm{kN} \\\\ \n",
       "q_{u rost}& = \\frac{F_{u} \\cdot 81 + F_{u rand} \\cdot 4 \\cdot 9}{a^{2}} = 106.44 \\ \\frac{\\mathrm{kN}}{\\mathrm{m}^{2}} \\\\ \n",
       "\\eta_{rost}& = \\frac{q_{u rost}}{q_{u}} = 110.88 \\ \\mathrm{\\%} \\end{aligned}\n",
       "$$"
      ],
      "text/plain": [
       "<IPython.core.display.Markdown object>"
      ]
     },
     "metadata": {},
     "output_type": "display_data"
    }
   ],
   "source": [
    "eta_last = 0.56\n",
    "\n",
    "F_u = 0.56*48*un.kN\n",
    "\n",
    "F_u_rand = 0.56*24*un.kN\n",
    "\n",
    "q_u_rost = (F_u * 81 + F_u_rand * 4*9)/a**2\n",
    "\n",
    "eta_rost = (q_u_rost / q_u).to(un.percent)\n",
    "put_out(symbolic=True, rows = 1)"
   ]
  },
  {
   "cell_type": "markdown",
   "metadata": {},
   "source": [
    "Mit dem Trägerrost wird die Traglast um 10 % überschätzt"
   ]
  },
  {
   "cell_type": "markdown",
   "metadata": {},
   "source": [
    "## Traglastmodul Cubus"
   ]
  },
  {
   "cell_type": "markdown",
   "metadata": {},
   "source": [
    "Der Biegewiderstand kann hier nicht explizit eingegeben werden, sonder wird berechnet anhand der gegebenen Geometrie.\n",
    "Dazu wird zunächst der passende Querschnitt ermittelt um den Biegewiderstand $m_u$ zu erreichen."
   ]
  },
  {
   "cell_type": "code",
   "execution_count": 9,
   "metadata": {},
   "outputs": [
    {
     "data": {
      "text/markdown": [
       "$$\n",
       "\\begin{aligned}\n",
       "h& = 25 \\ \\mathrm{cm} \\quad & d& = 0.9 \\cdot h = 22.5 \\ \\mathrm{cm} \\quad & b_{w}& = 1 \\ \\mathrm{m} \\\\ \n",
       "f_{sy}& = 500 \\ \\mathrm{MPa} \\quad & f_{c}& = 20 \\ \\mathrm{MPa} \\quad & a_{s}& = 7.54 \\ \\frac{\\mathrm{cm}^{2}}{\\mathrm{m}} \\\\ \n",
       "x& = \\frac{a_{s} \\cdot f_{sy}}{0.85 \\cdot b_{w} \\cdot f_{c}} = 22.18 \\ \\mathrm{mm} \\quad & m& = a_{s} \\cdot f_{sy} \\cdot \\left(d - 0.425 \\cdot x\\right) = 81.27 \\ \\frac{\\mathrm{kNm}}{\\mathrm{m}} \\quad &  \n",
       " \\end{aligned}\n",
       "$$"
      ],
      "text/plain": [
       "<IPython.core.display.Markdown object>"
      ]
     },
     "metadata": {},
     "output_type": "display_data"
    }
   ],
   "source": [
    "h = 25*un.cm\n",
    "\n",
    "d = 0.9*h\n",
    "b_w = 1*un.m\n",
    "f_sy = 500*un.MPa\n",
    "f_c = 20 *un.MPa\n",
    "a_s = 7.54*un.cm**2/un.m\n",
    "x = (a_s * f_sy /(0.85*f_c*b_w)*un.m).to(un.mm)\n",
    "m = (a_s * f_sy * (d-0.425*x)).to(un.kNm/un.m)\n",
    "\n",
    "put_out(symbolic=True)"
   ]
  },
  {
   "cell_type": "code",
   "execution_count": null,
   "metadata": {},
   "outputs": [],
   "source": []
  }
 ],
 "metadata": {
  "kernelspec": {
   "display_name": "calc",
   "language": "python",
   "name": "python3"
  },
  "language_info": {
   "codemirror_mode": {
    "name": "ipython",
    "version": 3
   },
   "file_extension": ".py",
   "mimetype": "text/x-python",
   "name": "python",
   "nbconvert_exporter": "python",
   "pygments_lexer": "ipython3",
   "version": "3.11.9"
  }
 },
 "nbformat": 4,
 "nbformat_minor": 2
}
