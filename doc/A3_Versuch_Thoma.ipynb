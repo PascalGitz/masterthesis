{
 "cells": [
  {
   "cell_type": "code",
   "execution_count": 1,
   "metadata": {},
   "outputs": [],
   "source": [
    "from packages import *"
   ]
  },
  {
   "cell_type": "markdown",
   "metadata": {},
   "source": [
    "# Versuchsnachrechnung Zweifeldplatte\n",
    "\n",
    "Nachrechnung des Plattenversuchs aus @thoma_plattenversuche_2010. Gleiche Kraftintensität auf allen Zylindern. Eigengewicht hat keinen Einfluss auf Messung, Nullsetzung bei Belastungsbeginn.\n",
    "\n",
    "\n",
    "![Isometrische Ansicht des Versuchsaufbaus, dargestellt sind der Versuchsaufbau, die Lagerung mit den Zylindern, die Krafteinleitung mittels den Zugstangen](../imgs/tho_aufbau_iso.svg){#fig-tho_aufbau_iso}\n",
    "\n",
    "Der Grundriss und die Längsansicht sich in der @fig-tho_aufbau_gr gezeigt. Beide Felder sind quatratförmig. Diese sind auf Gleitlagern gelagt.\n",
    "\n",
    "![Grundriss und Längsansicht, Lasteineinleitung, Lagerposition und die Plattenabmessungen sind vermasst](../imgs/tho_aufbau_gr.svg){#fig-tho_aufbau_gr}"
   ]
  },
  {
   "cell_type": "markdown",
   "metadata": {},
   "source": [
    "## Versuchsbeschrieb\n",
    "\n",
    "Nach dem Einbringen des Körpers wurde eine Nullmessung durchgeführt. Die Last wurde gleichmässigen auf sämtliche Zugstangen verteilt. Die Kraft wurde inkrementiell gesteigert bis der Bruch durch Zerreissen der oberen Längsbewehrungen im mittleren\n",
    "Auflagerbereich eintrat."
   ]
  },
  {
   "cell_type": "markdown",
   "metadata": {},
   "source": [
    "### Berechnungsgrössen"
   ]
  },
  {
   "cell_type": "markdown",
   "metadata": {},
   "source": [
    "Die verwendeten Berechnungsparameter werden folgend aufgezeigt."
   ]
  },
  {
   "cell_type": "markdown",
   "metadata": {},
   "source": [
    "#### Betonstahl \n",
    "\n",
    "Die Platte ist kreuzweise mit einer Biegebewehrung mit Durchmesser 10 mm und einer 150 mm Teilung versehen. Dies gilt für die obere und untere Bewehrung. Am Rand sind Abschlussbügel verlegt. Zudem ist über dem Mittelauflager eine Querkraftbewehrung eingelegt. Da generell in dieser Arbeit keine Querkraftthemen bearbeitet werden, ist diese auf der @fig-tho_biegebewehrung_iso nicht dargestellt.\n",
    "\n",
    "![Biegebewehrung der Platte](../imgs/tho_biegebewehrung_iso.svg){#fig-tho_biegebewehrung_iso}"
   ]
  },
  {
   "cell_type": "markdown",
   "metadata": {},
   "source": [
    "Die Querschnittsfläche der Biegebewehrung pro Laufmeter beträgt folglich:"
   ]
  },
  {
   "cell_type": "code",
   "execution_count": 2,
   "metadata": {},
   "outputs": [
    {
     "data": {
      "text/markdown": [
       "$$\n",
       "\\begin{aligned}\n",
       "\\oslash_{s}& = 10 \\ \\mathrm{mm} \\quad & s& = 150 \\ \\mathrm{mm} \\quad & a_{s}& = \\frac{\\pi \\cdot \\oslash_{s}^{2}}{4 \\cdot s} = 523.6 \\ \\frac{\\mathrm{mm}^{2}}{\\mathrm{m}} \\end{aligned}\n",
       "$$"
      ],
      "text/plain": [
       "<IPython.core.display.Markdown object>"
      ]
     },
     "metadata": {},
     "output_type": "display_data"
    }
   ],
   "source": [
    "diam_s = 10*un.mm\n",
    "\n",
    "s = 150*un.mm\n",
    "a_s = (diam_s**2*np.pi /4 /s).to(un.mm**2/un.m)\n",
    "\n",
    "put_out(symbolic=True)"
   ]
  },
  {
   "cell_type": "markdown",
   "metadata": {},
   "source": [
    "Aus dem Versuchsbericht wurden die folgenden Eigenschaften der Biegebewehrung entnommen. Die Zugfestigkeit, Fliessgrenze, Elastizitätsmodul, Fliessdehnung und Bruchdehnung."
   ]
  },
  {
   "cell_type": "code",
   "execution_count": 3,
   "metadata": {},
   "outputs": [
    {
     "data": {
      "text/markdown": [
       "$$\n",
       "\\begin{aligned}\n",
       "f_{su}& = 558.6 \\ \\frac{\\mathrm{N}}{\\mathrm{mm}^{2}} \\quad & f_{sy}& = 445.6 \\ \\frac{\\mathrm{N}}{\\mathrm{mm}^{2}} \\quad & E_{s}& = 196.5 \\ \\frac{\\mathrm{kN}}{\\mathrm{mm}^{2}} \\\\ \n",
       "\\varepsilon_{sy}& = \\frac{f_{sy}}{E_{s}} = 2.27 \\ \\mathrm{‰} \\quad & \\varepsilon_{su}& = 80.8 \\ \\mathrm{‰} \\quad &  \n",
       " \\end{aligned}\n",
       "$$"
      ],
      "text/plain": [
       "<IPython.core.display.Markdown object>"
      ]
     },
     "metadata": {},
     "output_type": "display_data"
    }
   ],
   "source": [
    "f_su = 558.6*un.N/un.mm**2\n",
    "f_sy = 445.6*un.N/un.mm**2\n",
    "\n",
    "E_s = 196.5*un.kN/un.mm**2\n",
    "\n",
    "eps_sy = (f_sy / E_s).to(un.permille)\n",
    "eps_su = 80.8*un.permille\n",
    "\n",
    "put_out(symbolic=True)"
   ]
  },
  {
   "cell_type": "markdown",
   "metadata": {},
   "source": [
    "#### Beton \n",
    "\n",
    "Ebenso wurden die Eigenschaften des Betons aus dem Versuchsbericht entnommen, sowie mittels empirischen Ansätzen umgerechnet. Die Zylinderdruckfestigkeit und der Elastizitätsmodul wurden aus dem Bericht entnommen. Die Bauteildruckfestigkeit und Zugfestigkeiten wurden berechnet. Sowie wird eine Bruchstauchung angenommen."
   ]
  },
  {
   "cell_type": "code",
   "execution_count": 4,
   "metadata": {},
   "outputs": [
    {
     "data": {
      "text/markdown": [
       "$$\n",
       "\\begin{aligned}\n",
       "f_{cc}& = 28.61 \\ \\frac{\\mathrm{N}}{\\mathrm{mm}^{2}} \\quad & E_{c}& = 22.9 \\ \\frac{\\mathrm{kN}}{\\mathrm{mm}^{2}} \\quad & f_{c}& = 2.7 \\cdot f_{cc}^{\\frac{2}{3}} = 25.26 \\ \\frac{\\mathrm{N}}{\\mathrm{mm}^{2}} \\\\ \n",
       "f_{ct}& = 0.3 \\cdot f_{cc}^{\\frac{2}{3}} = 2.81 \\ \\frac{\\mathrm{N}}{\\mathrm{mm}^{2}} \\quad & \\varepsilon_{cu}& = 5.0 \\ \\mathrm{‰} \\quad &  \n",
       " \\end{aligned}\n",
       "$$"
      ],
      "text/plain": [
       "<IPython.core.display.Markdown object>"
      ]
     },
     "metadata": {},
     "output_type": "display_data"
    }
   ],
   "source": [
    "f_cc = 28.61*un.N/un.mm**2\n",
    "E_c = 22.9*un.kN/un.mm**2\n",
    "\n",
    "f_c = (2.7* f_cc.m**(2/3))*un.N/un.mm**2\n",
    "f_ct = (0.3* f_cc.m**(2/3))*un.N/un.mm**2\n",
    "\n",
    "eps_cu = 5.*un.permille\n",
    "\n",
    "put_out(symbolic=True, rows = 3)"
   ]
  },
  {
   "cell_type": "markdown",
   "metadata": {},
   "source": [
    "#### Geometrie\n",
    "\n",
    "Bezüglich der Geometrie wurden die Plattenstärke und Bewehrungsüberdeckung aus dem Bericht übernommen."
   ]
  },
  {
   "cell_type": "code",
   "execution_count": 5,
   "metadata": {},
   "outputs": [
    {
     "data": {
      "text/markdown": [
       "$$\n",
       "\\begin{aligned}\n",
       "h& = 200 \\ \\mathrm{mm} \\quad & c_{nom}& = 20 \\ \\mathrm{mm} \\quad &  \n",
       " \\end{aligned}\n",
       "$$"
      ],
      "text/plain": [
       "<IPython.core.display.Markdown object>"
      ]
     },
     "metadata": {},
     "output_type": "display_data"
    }
   ],
   "source": [
    "h = 200*un.mm\n",
    "c_nom = 20*un.mm\n",
    "\n",
    "put_out()"
   ]
  },
  {
   "cell_type": "markdown",
   "metadata": {},
   "source": [
    "### Versuchsergebnisse"
   ]
  },
  {
   "cell_type": "markdown",
   "metadata": {},
   "source": [
    "Aus dem Versuchsbericht geht eine Traglast von 978 kN pro Feld hervor. Dies entspricht der Summe der einzelnen Zugstangen pro Feld. Folglich beträgt die Traglast pro Einzellast:"
   ]
  },
  {
   "cell_type": "code",
   "execution_count": 6,
   "metadata": {},
   "outputs": [
    {
     "data": {
      "text/markdown": [
       "$$\n",
       "\\begin{aligned}\n",
       "F_{u}& = \\frac{978}{12} = 81.5 \\ \\mathrm{kN} \\quad &  \\quad &  \n",
       " \\end{aligned}\n",
       "$$"
      ],
      "text/plain": [
       "<IPython.core.display.Markdown object>"
      ]
     },
     "metadata": {},
     "output_type": "display_data"
    }
   ],
   "source": [
    "F_u = 978*un.kN / 12\n",
    "\n",
    "put_out(symbolic=True)"
   ]
  },
  {
   "cell_type": "markdown",
   "metadata": {},
   "source": [
    "![Position der Wegaufnehmer, vermasst auf Lagerachsen](../imgs/tho_messung_gr.svg){#fig-tho_messung_gr}"
   ]
  },
  {
   "cell_type": "markdown",
   "metadata": {},
   "source": [
    "Die Messung $V10$ ist in der @fig-tho_res_V10 gezeigt. Dabei ist auf der Ordinate die Summe der Einzelkräfte pro Feld aufgezeigt und auf der Abszisse die Verformung an der Stelle $V10$."
   ]
  },
  {
   "cell_type": "code",
   "execution_count": 7,
   "metadata": {},
   "outputs": [],
   "source": [
    "DF_res_V10 = pd.read_csv('imgs/tho_res_V10.csv')\n"
   ]
  },
  {
   "cell_type": "code",
   "execution_count": 8,
   "metadata": {},
   "outputs": [],
   "source": [
    "# | echo: false\n",
    "\n",
    "\n",
    "fig_res_V10, ax_res_V10 = plt.subplots()\n",
    "ax_res_V10.plot(DF_res_V10.iloc[:,0], DF_res_V10.iloc[:,1], color=\"k\")\n",
    "\n",
    "\n",
    "# Set axis labels\n",
    "ax_res_V10.set_ylabel(r\"$F$ [kN]\")\n",
    "ax_res_V10.set_xlabel(r\"$w_{V10}$ [mm]\")\n",
    "\n",
    "\n",
    "fig_res_V10.savefig(\"imgs/tho_res_V10.svg\")\n",
    "plt.close()"
   ]
  },
  {
   "cell_type": "markdown",
   "metadata": {},
   "source": [
    "![Kraft-Verformungs-Diagramm an der Stelle $V10$, entnommen aus dem Versuchsbericht](../imgs/tho_res_V10.svg){#fig-tho_res_V10}"
   ]
  },
  {
   "cell_type": "markdown",
   "metadata": {},
   "source": [
    "## Modellierung\n",
    "\n",
    "Die @fig-tho_rost_iso zeigt ein schematisches Trägerrostmodell. Dies dient als statisches System. Dabei werden an den entsprechenden Stellen die Einzellasten eingeführt. Die Auflager sind 1-dimensional, sprich lagern lediglich Kräfte in globaler $Z$-Richtung.\n",
    "\n",
    "![Ein Trägerrostmodell zur Ermittlung des Biegeverhaltens. Der Abstand der Balken ist hier lediglich schematisch gezeigt](../imgs/tho_rost_iso.svg){#fig-tho_rost_iso}\n",
    "\n",
    "Folgende Effekte werden beim Modell berücksichtigt:\n",
    "- Biegetragverhalten\n",
    "- Drillmomente, sprich Torsion der Stäbe im Trägerrost."
   ]
  },
  {
   "cell_type": "markdown",
   "metadata": {},
   "source": [
    "### Baustoffe"
   ]
  },
  {
   "cell_type": "code",
   "execution_count": 9,
   "metadata": {},
   "outputs": [],
   "source": [
    "DF_b500b = pd.read_csv('imgs/tho_stress_strain_b500b.csv')\n",
    "DF_b500b['x'] = DF_b500b['x']/100\n",
    "\n"
   ]
  },
  {
   "cell_type": "code",
   "execution_count": 10,
   "metadata": {},
   "outputs": [],
   "source": [
    "# | echo: false\n",
    "\n",
    "stress_b500b_array = np.array([0, f_sy.m, f_su.m]) * un.MPa\n",
    "strain_b500b_array = np.array([0, eps_sy.to(un.los), eps_su.to(un.los)])\n",
    "\n",
    "fig_b500b, ax_b500b = plt.subplots()\n",
    "ax_b500b.plot(strain_b500b_array, stress_b500b_array.to(un.MPa).m, color=\"k\")\n",
    "ax_b500b.plot(DF_b500b.iloc[:,0], DF_b500b.iloc[:,1], color=\"gray\", alpha=0.5)\n",
    "\n",
    "# Scientific Notation if needed\n",
    "apply_scientific_notation(ax_b500b, stress_b500b_array.m)\n",
    "\n",
    "# Set axis labels\n",
    "ax_b500b.set_ylabel(r\"$\\sigma$ [N/mm$^2$]\")\n",
    "ax_b500b.set_xlabel(r\"$\\varepsilon_s$ [-]\")\n",
    "\n",
    "# Set limits\n",
    "# ax_b500b.set_xlim(xmax=140 / 1000)\n",
    "# ax_b500b.set_ylim(ymax=700)\n",
    "\n",
    "# Show the plot\n",
    "# plt.tight_layout()\n",
    "plt.savefig(\"imgs/tho_stress_strain_b500b.svg\")\n",
    "plt.close()"
   ]
  },
  {
   "cell_type": "markdown",
   "metadata": {},
   "source": [
    "Zunächst wird das Verhalten der Baustoffe modelliert. Für den Betonstahl wird ein bilinearer Verlauf gewählt. Dargestellt als Spannungs-Dehnungs-Diagramm ist dies in @fig-tho_stress_strain_b500b. Grau hinterlegt ist der Spannungs-Dehnungs-Verlauf aus den Zugproben."
   ]
  },
  {
   "cell_type": "markdown",
   "metadata": {},
   "source": [
    "![Spannungs-Dehnungs-Diagramm des Betonstahls B500B mit grau hinterlegten Versuchsdaten und die Idealisierung eines bilinearen Verlaufs](../imgs/tho_stress_strain_b500b.svg){#fig-tho_stress_strain_b500b}"
   ]
  },
  {
   "cell_type": "markdown",
   "metadata": {},
   "source": [
    "Für den Beton gilt die Darstellung in @fig-tho_stress_strain_c. Die Zugfestigkeit des Betons wird berücksichtigt."
   ]
  },
  {
   "cell_type": "code",
   "execution_count": 11,
   "metadata": {},
   "outputs": [],
   "source": [
    "# | echo: false\n",
    "\n",
    "stress_c_array = np.array([f_ct.m, -f_c.m, -f_c.m]) * un.MPa\n",
    "strain_c_array = np.array([f_ct/E_c, -f_c/E_c, -eps_cu.to(un.los)])\n",
    "\n",
    "fig_c, ax_c = plt.subplots()\n",
    "ax_c.plot(strain_c_array, stress_c_array.to(un.MPa).m, color=\"k\")\n",
    "\n",
    "# Scientific Notation if needed\n",
    "apply_scientific_notation(ax_c, stress_c_array.m)\n",
    "\n",
    "# Set axis labels\n",
    "ax_c.set_ylabel(r\"$\\sigma$ [N/mm$^2$]\")\n",
    "ax_c.set_xlabel(r\"$\\varepsilon_c$ [-]\")\n",
    "\n",
    "# Set limits\n",
    "# ax_c.set_xlim(xmax=7 / 1000)\n",
    "# ax_c.set_ylim(ymax=50)\n",
    "\n",
    "# Show the plot\n",
    "# plt.tight_layout()\n",
    "plt.savefig(\"imgs/tho_stress_strain_c.svg\")\n",
    "plt.close()"
   ]
  },
  {
   "cell_type": "markdown",
   "metadata": {},
   "source": [
    "![Spannungs-Dehnungs-Diagramm des Betons, linear elastischer - ideal plastischer Verlauf](../imgs/tho_stress_strain_c.svg){#fig-tho_stress_strain_c}"
   ]
  },
  {
   "cell_type": "markdown",
   "metadata": {},
   "source": [
    "### Biegeverhalten\n",
    "\n",
    "Basierend auf den Modellen der Baustoffe kann der Querschnitt bei steigender Krümmung untersucht werden. Dies führt zu einem Momenten-Krümmungs-Diagramm. "
   ]
  },
  {
   "cell_type": "markdown",
   "metadata": {},
   "source": [
    "\n",
    "![Querschnittsanalyse](../imgs/thesis_skizzen-2.jpg)\n",
    "\n"
   ]
  },
  {
   "cell_type": "markdown",
   "metadata": {},
   "source": [
    "Zunächst wird das Rissmoment betrachtet:"
   ]
  },
  {
   "cell_type": "code",
   "execution_count": 12,
   "metadata": {},
   "outputs": [
    {
     "data": {
      "text/markdown": [
       "$$\n",
       "\\begin{aligned}\n",
       "b_{w}& = 0.1 \\ \\mathrm{m} \\quad & z& = \\frac{2 \\cdot h}{3} = 133.33 \\ \\mathrm{mm} \\quad & F_{c}& = \\frac{b_{w} \\cdot f_{ct} \\cdot h}{4} = 14.03 \\ \\mathrm{kN} \\\\ \n",
       "M_{r}& = F_{c} \\cdot z = 1.87 \\ \\mathrm{kNm} \\quad & \\chi_{r}& = \\frac{2 \\cdot f_{ct}}{E_{c} \\cdot h} = 1.23 \\ \\frac{1}{\\mathrm{km}} \\quad &  \n",
       " \\end{aligned}\n",
       "$$"
      ],
      "text/plain": [
       "<IPython.core.display.Markdown object>"
      ]
     },
     "metadata": {},
     "output_type": "display_data"
    }
   ],
   "source": [
    "b_w =0.1*un.m\n",
    "z = h - 2/3 * h/2\n",
    "F_c = (h/2 * f_ct * b_w *1/2).to(un.kN)\n",
    "M_r = (F_c * z).to(un.kNm)\n",
    "\n",
    "chi_r = (f_ct/E_c /(h/2)).to(1/un.km)\n",
    "\n",
    "put_out(symbolic=True, evaluate=True)"
   ]
  },
  {
   "cell_type": "markdown",
   "metadata": {},
   "source": [
    "Fliessen der Zugbewehrung. Dabei wird ein dreieckiger Spannungsverlauf für den Beton angesetzt.\n"
   ]
  },
  {
   "cell_type": "code",
   "execution_count": 13,
   "metadata": {},
   "outputs": [
    {
     "data": {
      "text/markdown": [
       "$$\n",
       "\\begin{aligned}\n",
       "A_{s}& = a_{s} \\cdot b_{w} = 52.36 \\ \\mathrm{mm}^{2} \\quad & \\sigma_{s 2}& = 500.0 \\ \\frac{\\mathrm{N}}{\\mathrm{mm}^{2}} \\quad & {d}'& = - \\frac{\\oslash_{s}}{2} - c_{nom} + h = 175.0 \\ \\mathrm{mm} \\\\ \n",
       "x& = \\frac{A_{s} \\cdot f_{sy}}{1 \\cdot \\frac{1}{2} \\cdot b_{w} \\cdot f_{c}} = 18.48 \\ \\mathrm{mm} \\quad &  \\quad &  \n",
       " \\end{aligned}\n",
       "$$"
      ],
      "text/plain": [
       "<IPython.core.display.Markdown object>"
      ]
     },
     "metadata": {},
     "output_type": "display_data"
    }
   ],
   "source": [
    "A_s = a_s*b_w\n",
    "sigma_s_2 = 500*un.N/un.mm**2\n",
    "d_apos = h - c_nom - diam_s / 2\n",
    "x = ((A_s*f_sy) / (f_c*b_w*1/2 )).to(un.mm)\n",
    "put_out(symbolic=True)\n",
    "\n"
   ]
  },
  {
   "cell_type": "markdown",
   "metadata": {},
   "source": [
    "Nun wird kontrolliert ob der Beton sich noch im elastischen Bereich befindet:"
   ]
  },
  {
   "cell_type": "code",
   "execution_count": 14,
   "metadata": {},
   "outputs": [
    {
     "data": {
      "text/markdown": [
       "$$\n",
       "\\begin{aligned}\n",
       "\\varepsilon_{c}& = \\frac{f_{sy} \\cdot x}{E_{s} \\cdot \\left({d}' - x\\right)} = 0.27 \\ \\mathrm{‰} \\quad & \\sigma_{c}& = E_{c} \\cdot \\varepsilon_{c} = 6.13 \\ \\frac{\\mathrm{N}}{\\mathrm{mm}^{2}} \\quad & f_{c}& = 2.7 \\cdot f_{cc}^{\\frac{2}{3}} = 25.26 \\ \\frac{\\mathrm{N}}{\\mathrm{mm}^{2}} \\end{aligned}\n",
       "$$"
      ],
      "text/plain": [
       "<IPython.core.display.Markdown object>"
      ]
     },
     "metadata": {},
     "output_type": "display_data"
    }
   ],
   "source": [
    "eps_c = (f_sy / E_s  / (d_apos - x) * x).to(un.permille)\n",
    "sigma_c = (eps_c * E_c).to(un.N/un.mm**2)\n",
    "f_c\n",
    "\n",
    "put_out(symbolic=True)\n"
   ]
  },
  {
   "cell_type": "markdown",
   "metadata": {},
   "source": [
    "Die Spannung bei der Randfaser ist deutlich kleiner als die Druckfestigkeit. Folglich plastifiziert der Beton bei Weitem noch nicht."
   ]
  },
  {
   "cell_type": "code",
   "execution_count": 15,
   "metadata": {},
   "outputs": [
    {
     "data": {
      "text/markdown": [
       "$$\n",
       "\\begin{aligned}\n",
       "z& = {d}' - 1 \\cdot \\frac{1}{3} \\cdot x = 168.84 \\ \\mathrm{mm} \\quad & F_{s}& = A_{s} \\cdot f_{sy} = 23.33 \\ \\mathrm{kN} \\\\ \n",
       "M_{y}& = F_{s} \\cdot z = 3.94 \\ \\mathrm{kNm} \\quad & \\chi_{y}& = \\frac{\\varepsilon_{sy}}{{d}' - x} = 14.49 \\ \\frac{1}{\\mathrm{km}} \\end{aligned}\n",
       "$$"
      ],
      "text/plain": [
       "<IPython.core.display.Markdown object>"
      ]
     },
     "metadata": {},
     "output_type": "display_data"
    }
   ],
   "source": [
    "z = d_apos - 1/3*x\n",
    "F_s = (A_s * f_sy ).to(un.kN)\n",
    "M_y = (F_s * z).to(un.kNm)\n",
    "chi_y = (eps_sy /(d_apos-x)).to(1/un.km)\n",
    "\n",
    "put_out(symbolic=True,rows=2)"
   ]
  },
  {
   "cell_type": "markdown",
   "metadata": {},
   "source": [
    "Abschliessend lässt sich der Biegewiderstand bestimmen. Dem Beton wird ein vollständiges Plastifizieren vorausgesetzt. Dabei wird dem Stahl eine Dehnung vorausgesetzt.\n",
    "\n",
    "![Querschnittsanalyse](../imgs/thesis_skizzen-3.jpg)"
   ]
  },
  {
   "cell_type": "markdown",
   "metadata": {},
   "source": [
    "Dabei wird die Stahlspannung anhand der gewählten Dehnung bestimmt:"
   ]
  },
  {
   "cell_type": "code",
   "execution_count": 16,
   "metadata": {},
   "outputs": [
    {
     "data": {
      "text/markdown": [
       "$$\n",
       "\\begin{aligned}\n",
       "\\varepsilon_{s}& = 63 \\ \\mathrm{‰} \\quad & \\sigma_{s}& = 532.99 \\ \\frac{\\mathrm{N}}{\\mathrm{mm}^{2}} \\quad & f_{su}& = 558.6 \\ \\frac{\\mathrm{N}}{\\mathrm{mm}^{2}} \\end{aligned}\n",
       "$$"
      ],
      "text/plain": [
       "<IPython.core.display.Markdown object>"
      ]
     },
     "metadata": {},
     "output_type": "display_data"
    }
   ],
   "source": [
    "eps_s = 63*un.permille\n",
    "sigma_s = np.interp(eps_s.to(un.los), strain_b500b_array, stress_b500b_array).to(un.N/un.mm**2)\n",
    "f_su\n",
    "put_out()"
   ]
  },
  {
   "cell_type": "markdown",
   "metadata": {},
   "source": [
    "Die Stahldehnung wird iterativ bestimmt, damit sich eine Betonstauchung der Randfaser entsprechend der Bruchstauchung einstellt."
   ]
  },
  {
   "cell_type": "code",
   "execution_count": 17,
   "metadata": {},
   "outputs": [
    {
     "data": {
      "text/markdown": [
       "$$\n",
       "\\begin{aligned}\n",
       "x& = \\frac{A_{s} \\cdot \\sigma_{s}}{0.85 \\cdot b_{w} \\cdot f_{c}} = 13.0 \\ \\mathrm{mm} \\quad & \\varepsilon_{c}& = \\frac{\\varepsilon_{s} \\cdot x}{{d}' - x} = 5.06 \\ \\mathrm{‰} \\quad & \\varepsilon_{cu}& = 5.0 \\ \\mathrm{‰} \\end{aligned}\n",
       "$$"
      ],
      "text/plain": [
       "<IPython.core.display.Markdown object>"
      ]
     },
     "metadata": {},
     "output_type": "display_data"
    }
   ],
   "source": [
    "x = ((A_s*sigma_s) / (f_c*b_w*0.85)).to(un.mm)\n",
    "eps_c = (eps_s  / (d_apos - x) * x).to(un.permille)\n",
    "eps_cu\n",
    "\n",
    "put_out(symbolic=True)\n"
   ]
  },
  {
   "cell_type": "markdown",
   "metadata": {},
   "source": [
    "Der Biegewiderstand ist somit begrenzt durch ein Betondruckversagen. Der entsprechende Widerstand und die entsprechende Bruchkrümmung betragen:"
   ]
  },
  {
   "cell_type": "code",
   "execution_count": 18,
   "metadata": {},
   "outputs": [
    {
     "data": {
      "text/markdown": [
       "$$\n",
       "\\begin{aligned}\n",
       "z& = {d}' - 0.425 \\cdot x = 169.48 \\ \\mathrm{mm} \\quad & F_{s}& = A_{s} \\cdot \\sigma_{s} = 27.91 \\ \\mathrm{kN} \\\\ \n",
       "M_{u}& = F_{s} \\cdot z = 4.73 \\ \\mathrm{kNm} \\quad & \\chi_{u}& = \\frac{\\varepsilon_{s}}{{d}' - x} = 388.89 \\ \\frac{1}{\\mathrm{km}} \\end{aligned}\n",
       "$$"
      ],
      "text/plain": [
       "<IPython.core.display.Markdown object>"
      ]
     },
     "metadata": {},
     "output_type": "display_data"
    }
   ],
   "source": [
    "z = d_apos - 0.425*x\n",
    "F_s = (A_s * sigma_s).to(un.kN)\n",
    "M_u = (F_s * z).to(un.kNm)\n",
    "chi_u = (eps_s /(d_apos-x)).to(1/un.km)\n",
    "\n",
    "put_out(symbolic=True,rows=2, evaluate=True)"
   ]
  },
  {
   "cell_type": "markdown",
   "metadata": {},
   "source": [
    "#### Zugversteifung \n",
    "\n",
    "Zur punktuellen Betrachtung des Querschnitts kann das Mitwirken des Betons zwischen den Rissen berücksichtigt werden. Dabei wird der Ansatz nach Marti @spathelf_gebrauchstauglichkeit_2022 verwendet für den gerissenen Bereich. Dabei wird eine Differenzkrümmung bestimmt:"
   ]
  },
  {
   "cell_type": "code",
   "execution_count": 19,
   "metadata": {},
   "outputs": [
    {
     "data": {
      "text/markdown": [
       "$$\n",
       "\\begin{aligned}\n",
       "\\lambda& = 1 \\\\ \n",
       "EI_{II}& = \\frac{M_{y}}{\\chi_{y}} = 271.91 \\ \\mathrm{kN} \\cdot \\mathrm{m}^{2} \\\\ \n",
       "n& = \\frac{E_{s}}{E_{c}} = 8.58 \\  \\\\ \n",
       "\\rho_{eff}& = \\frac{1}{\\frac{E_{s} \\cdot M_{r} \\cdot \\left({d}' - x\\right)}{EI_{II} \\cdot f_{ct}} - n + 1} = 1.42 \\ \\mathrm{\\%} \\\\ \n",
       "\\Delta_{\\chi}& = \\frac{f_{ct} \\cdot \\lambda \\cdot \\left(1 - \\rho_{eff}\\right)}{2 \\cdot E_{s} \\cdot \\rho_{eff} \\cdot \\left({d}' - x\\right)} = 3.06 \\ \\frac{1}{\\mathrm{km}} \\end{aligned}\n",
       "$$"
      ],
      "text/plain": [
       "<IPython.core.display.Markdown object>"
      ]
     },
     "metadata": {},
     "output_type": "display_data"
    }
   ],
   "source": [
    "lamda = 1\n",
    "EI_II = (M_y / chi_y).to(un.kN*un.m**2)\n",
    "n = E_s / E_c\n",
    "\n",
    "rho_eff = ((1 + E_s*M_r*(d_apos-x)/(EI_II*f_ct) - n)**-1).to(un.percent)\n",
    "\n",
    "Delta_chi = (lamda / 2 * f_ct * (1 - rho_eff) /(rho_eff * E_s * (d_apos-x))).to(1/un.km)\n",
    "\n",
    "put_out(symbolic=True, rows = 1)"
   ]
  },
  {
   "cell_type": "markdown",
   "metadata": {},
   "source": [
    "Die Querschnittsanalyse ist abschliessend in der @fig-tho_M_chi zusammengefasst."
   ]
  },
  {
   "cell_type": "code",
   "execution_count": 20,
   "metadata": {},
   "outputs": [],
   "source": [
    "# | echo: false\n",
    "\n",
    "My_qs_array = np.array([0, M_r.m, M_r.m, M_y.m, M_u.m]) * un.kNm\n",
    "chi_qs_array_zuggurt = np.array([0, chi_r.m, (chi_y / M_y * M_r - Delta_chi).m, chi_y.m-Delta_chi.m, chi_u.m])/un.km\n",
    "\n",
    "fig_M_chi, ax_M_chi = plt.subplots()\n",
    "ax_M_chi.plot(chi_qs_array_zuggurt.to(1/un.km).m, My_qs_array.to(un.kNm).m, color=\"k\")\n",
    "\n",
    "# Scientific Notation if needed\n",
    "apply_scientific_notation(ax_M_chi, chi_qs_array_zuggurt.m)\n",
    "\n",
    "# Set axis labels\n",
    "ax_M_chi.set_ylabel(r\"$M$ [kNm]\")\n",
    "ax_M_chi.set_xlabel(r\"$\\chi$ [1/km]\")\n",
    "\n",
    "# Set limits\n",
    "# ax_b500b.set_xlim(xmax=140 / 1000)\n",
    "# ax_b500b.set_ylim(ymax=700)\n",
    "\n",
    "# Show the plot\n",
    "# plt.tight_layout()\n",
    "plt.savefig(\"imgs/tho_M_chi.svg\")\n",
    "plt.close()"
   ]
  },
  {
   "cell_type": "markdown",
   "metadata": {},
   "source": [
    "![Momenten-Krümmungs-Beziehung des Querschnitts](../imgs/tho_M_chi.svg){#fig-tho_M_chi}"
   ]
  },
  {
   "cell_type": "markdown",
   "metadata": {},
   "source": [
    "Aufgrund der identischen Bewehrung in beide Richtungen gilt das Momenten-Krümmungs-Diagramm für beide Richtungen. Obwohl sich kleine Differenzen bei der statischen Höhe ergeben."
   ]
  },
  {
   "cell_type": "markdown",
   "metadata": {},
   "source": [
    "### Trägerrost"
   ]
  },
  {
   "cell_type": "code",
   "execution_count": 21,
   "metadata": {},
   "outputs": [
    {
     "data": {
      "text/markdown": [
       "$$\n",
       "\\begin{aligned}\n",
       "l_{El}& = b_{w} = 0.1 \\ \\mathrm{m} \\\\ \n",
       "n_{gelenk}& = 2 \\\\ \n",
       "\\varphi& = \\frac{\\chi_{qs Matrix zuggurt} \\cdot l_{El}}{n_{gelenk}} = \\left[\\begin{matrix}0.0\\\\6.127 \\cdot 10^{-5}\\\\0.00019092\\\\0.00057129\\\\0.01944436\\end{matrix}\\right] \\ \\mathrm{rad} \\\\ \n",
       "My_{qs Matrix}& = My_{qs Matrix} = \\left[\\begin{matrix}0.0\\\\1.87086263\\\\1.87086263\\\\3.93933519\\\\4.72957488\\end{matrix}\\right] \\ \\mathrm{kNm} \\end{aligned}\n",
       "$$"
      ],
      "text/plain": [
       "<IPython.core.display.Markdown object>"
      ]
     },
     "metadata": {},
     "output_type": "display_data"
    }
   ],
   "source": [
    "l_El = b_w\n",
    "n_gelenk = 2 #2 bei Stab anfang und ende\n",
    "varphi = (chi_qs_array_zuggurt * l_El).to(un.rad)/n_gelenk\n",
    "\n",
    "My_qs_array\n",
    "put_out(symbolic=True, precision = 8, rows = 1)"
   ]
  },
  {
   "cell_type": "code",
   "execution_count": 22,
   "metadata": {},
   "outputs": [],
   "source": [
    "# | echo: false\n",
    "\n",
    "phi_qs_array = (chi_qs_array_zuggurt * l_El).to(un.rad)\n",
    "\n",
    "fig_M_phi, ax_M_phi = plt.subplots()\n",
    "ax_M_phi.plot(phi_qs_array.to(un.rad).m, My_qs_array.to(un.kNm).m, color=\"k\")\n",
    "\n",
    "\n",
    "# Set axis labels\n",
    "ax_M_phi.set_ylabel(r\"$M$ [kNm]\")\n",
    "ax_M_phi.set_xlabel(r\"$\\varphi$ [rad]\")\n",
    "\n",
    "# Set limits\n",
    "# ax_b500b.set_xlim(xmax=140 / 1000)\n",
    "# ax_b500b.set_ylim(ymax=700)\n",
    "\n",
    "# Show the plot\n",
    "# plt.tight_layout()\n",
    "plt.savefig(\"imgs/tho_M_phi.svg\")\n",
    "plt.close()"
   ]
  },
  {
   "cell_type": "markdown",
   "metadata": {},
   "source": [
    "::: {#fig-tho_biegung layout-ncol=2}\n",
    "\n",
    "![Momenten-Krümmungs-Beziehung des Querschnitts](../imgs/tho_M_chi.svg){#fig-tho_M_chi}\n",
    "\n",
    "![Momenten-Verdrehungs-Beziehung des Querschnitts](../imgs/tho_M_phi.svg){#fig-tho_M_phi}\n",
    "\n",
    "Momenten-Krümmungs-Beziehung und Momenten-Verdrehungs-Beziehung für die Platte in globale $X$ und $Y$ Richtung.\n",
    ":::"
   ]
  },
  {
   "cell_type": "markdown",
   "metadata": {},
   "source": [
    "### Plastische Gelenke"
   ]
  },
  {
   "cell_type": "code",
   "execution_count": 23,
   "metadata": {},
   "outputs": [
    {
     "data": {
      "text/markdown": [
       "$$\n",
       "\\begin{aligned}\n",
       "\\varepsilon_{u , adm}& = \\frac{\\varepsilon_{cu} \\cdot \\left({d}' - x\\right)}{x} = 62.31 \\ \\mathrm{‰} \\quad &  \\quad &  \n",
       " \\end{aligned}\n",
       "$$"
      ],
      "text/plain": [
       "<IPython.core.display.Markdown object>"
      ]
     },
     "metadata": {},
     "output_type": "display_data"
    }
   ],
   "source": [
    "eps_u_com_adm = eps_cu * (d_apos - x) / x\n",
    "\n",
    "put_out(symbolic=True)"
   ]
  },
  {
   "cell_type": "code",
   "execution_count": 24,
   "metadata": {},
   "outputs": [
    {
     "data": {
      "text/markdown": [
       "$$\n",
       "\\begin{aligned}\n",
       "l_{pl}& = 2 \\cdot {d}' = 350.0 \\ \\mathrm{mm} \\\\ \n",
       "\\varepsilon_{cu}& = 5.0 \\ \\mathrm{‰} \\\\ \n",
       "\\Theta_{max}& = l_{pl} \\cdot \\left(\\frac{\\varepsilon_{cu}}{x} - \\frac{\\varepsilon_{sy}}{{d}' - x}\\right) = 0.13 \\ \\mathrm{rad} \\\\ \n",
       "\\Theta_{max gelenk}& = \\frac{\\Theta_{max}}{2} = 0.065 \\ \\mathrm{rad} \\end{aligned}\n",
       "$$"
      ],
      "text/plain": [
       "<IPython.core.display.Markdown object>"
      ]
     },
     "metadata": {},
     "output_type": "display_data"
    }
   ],
   "source": [
    "# Annahme für die Länge des Gelenks\n",
    "l_pl = 2 * d_apos\n",
    "\n",
    "eps_cu\n",
    "# Verformungsvermögen\n",
    "Theta_max = (l_pl * (eps_cu / x  - eps_sy / (d_apos -x))).to(un.rad)\n",
    "Theta_max_gelenk = Theta_max / 2 \n",
    "\n",
    "put_out(symbolic=True, rows = 1, precision = 3)"
   ]
  },
  {
   "cell_type": "markdown",
   "metadata": {},
   "source": [
    "Die Momenten-Krümmungs-Beziehung wird mit dem plastischen Rotationsvermögen erweitert:"
   ]
  },
  {
   "cell_type": "code",
   "execution_count": 25,
   "metadata": {},
   "outputs": [
    {
     "data": {
      "image/svg+xml": [
       "<?xml version=\"1.0\" encoding=\"utf-8\" standalone=\"no\"?>\n",
       "<!DOCTYPE svg PUBLIC \"-//W3C//DTD SVG 1.1//EN\"\n",
       "  \"http://www.w3.org/Graphics/SVG/1.1/DTD/svg11.dtd\">\n",
       "<svg xmlns:xlink=\"http://www.w3.org/1999/xlink\" width=\"155.151941pt\" height=\"146.096794pt\" viewBox=\"0 0 155.151941 146.096794\" xmlns=\"http://www.w3.org/2000/svg\" version=\"1.1\">\n",
       " <metadata>\n",
       "  <rdf:RDF xmlns:dc=\"http://purl.org/dc/elements/1.1/\" xmlns:cc=\"http://creativecommons.org/ns#\" xmlns:rdf=\"http://www.w3.org/1999/02/22-rdf-syntax-ns#\">\n",
       "   <cc:Work>\n",
       "    <dc:type rdf:resource=\"http://purl.org/dc/dcmitype/StillImage\"/>\n",
       "    <dc:date>2024-11-04T16:53:40.139791</dc:date>\n",
       "    <dc:format>image/svg+xml</dc:format>\n",
       "    <dc:creator>\n",
       "     <cc:Agent>\n",
       "      <dc:title>Matplotlib v3.9.2, https://matplotlib.org/</dc:title>\n",
       "     </cc:Agent>\n",
       "    </dc:creator>\n",
       "   </cc:Work>\n",
       "  </rdf:RDF>\n",
       " </metadata>\n",
       " <defs>\n",
       "  <style type=\"text/css\">*{stroke-linejoin: round; stroke-linecap: butt}</style>\n",
       " </defs>\n",
       " <g id=\"figure_1\">\n",
       "  <g id=\"patch_1\">\n",
       "   <path d=\"M 0 146.096794 \n",
       "L 155.151941 146.096794 \n",
       "L 155.151941 0 \n",
       "L 0 0 \n",
       "z\n",
       "\" style=\"fill: #ffffff\"/>\n",
       "  </g>\n",
       "  <g id=\"axes_1\">\n",
       "   <g id=\"patch_2\">\n",
       "    <path d=\"M 28.896823 114.349606 \n",
       "L 147.951941 114.349606 \n",
       "L 147.951941 7.2 \n",
       "L 28.896823 7.2 \n",
       "z\n",
       "\" style=\"fill: #ffffff\"/>\n",
       "   </g>\n",
       "   <g id=\"matplotlib.axis_1\">\n",
       "    <g id=\"xtick_1\">\n",
       "     <g id=\"line2d_1\">\n",
       "      <path d=\"M 34.308419 114.349606 \n",
       "L 34.308419 7.2 \n",
       "\" clip-path=\"url(#pad87a9fc77)\" style=\"fill: none; stroke-dasharray: 0.74,0.32; stroke-dashoffset: 0; stroke: #808080; stroke-opacity: 0.7; stroke-width: 0.2\"/>\n",
       "     </g>\n",
       "     <g id=\"line2d_2\">\n",
       "      <defs>\n",
       "       <path id=\"m0511504765\" d=\"M 0 0 \n",
       "L 0 -3.5 \n",
       "\" style=\"stroke: #000000; stroke-width: 0.5\"/>\n",
       "      </defs>\n",
       "      <g>\n",
       "       <use xlink:href=\"#m0511504765\" x=\"34.308419\" y=\"114.349606\" style=\"stroke: #000000; stroke-width: 0.5\"/>\n",
       "      </g>\n",
       "     </g>\n",
       "     <g id=\"text_1\">\n",
       "      <!-- $\\mathdefault{0.00}$ -->\n",
       "      <g transform=\"translate(26.780983 123.384408) scale(0.08 -0.08)\">\n",
       "       <defs>\n",
       "        <path id=\"CMR17-30\" d=\"M 2688 2025 \n",
       "C 2688 2416 2682 3080 2413 3591 \n",
       "C 2176 4039 1798 4198 1466 4198 \n",
       "C 1158 4198 768 4058 525 3597 \n",
       "C 269 3118 243 2524 243 2025 \n",
       "C 243 1661 250 1106 448 619 \n",
       "C 723 -39 1216 -128 1466 -128 \n",
       "C 1760 -128 2208 -7 2470 600 \n",
       "C 2662 1042 2688 1559 2688 2025 \n",
       "z\n",
       "M 1466 -26 \n",
       "C 1056 -26 813 325 723 812 \n",
       "C 653 1188 653 1738 653 2096 \n",
       "C 653 2588 653 2997 736 3387 \n",
       "C 858 3929 1216 4096 1466 4096 \n",
       "C 1728 4096 2067 3923 2189 3400 \n",
       "C 2272 3036 2278 2607 2278 2096 \n",
       "C 2278 1680 2278 1169 2202 792 \n",
       "C 2067 95 1690 -26 1466 -26 \n",
       "z\n",
       "\" transform=\"scale(0.015625)\"/>\n",
       "        <path id=\"CMMI12-3a\" d=\"M 1178 307 \n",
       "C 1178 492 1024 619 870 619 \n",
       "C 685 619 557 466 557 313 \n",
       "C 557 128 710 0 864 0 \n",
       "C 1050 0 1178 153 1178 307 \n",
       "z\n",
       "\" transform=\"scale(0.015625)\"/>\n",
       "       </defs>\n",
       "       <use xlink:href=\"#CMR17-30\" transform=\"scale(0.996264)\"/>\n",
       "       <use xlink:href=\"#CMMI12-3a\" transform=\"translate(45.690477 0) scale(0.996264)\"/>\n",
       "       <use xlink:href=\"#CMR17-30\" transform=\"translate(72.787654 0) scale(0.996264)\"/>\n",
       "       <use xlink:href=\"#CMR17-30\" transform=\"translate(118.478131 0) scale(0.996264)\"/>\n",
       "      </g>\n",
       "     </g>\n",
       "    </g>\n",
       "    <g id=\"xtick_2\">\n",
       "     <g id=\"line2d_3\">\n",
       "      <path d=\"M 67.681668 114.349606 \n",
       "L 67.681668 7.2 \n",
       "\" clip-path=\"url(#pad87a9fc77)\" style=\"fill: none; stroke-dasharray: 0.74,0.32; stroke-dashoffset: 0; stroke: #808080; stroke-opacity: 0.7; stroke-width: 0.2\"/>\n",
       "     </g>\n",
       "     <g id=\"line2d_4\">\n",
       "      <g>\n",
       "       <use xlink:href=\"#m0511504765\" x=\"67.681668\" y=\"114.349606\" style=\"stroke: #000000; stroke-width: 0.5\"/>\n",
       "      </g>\n",
       "     </g>\n",
       "     <g id=\"text_2\">\n",
       "      <!-- $\\mathdefault{0.02}$ -->\n",
       "      <g transform=\"translate(60.154232 123.384408) scale(0.08 -0.08)\">\n",
       "       <defs>\n",
       "        <path id=\"CMR17-32\" d=\"M 2669 989 \n",
       "L 2554 989 \n",
       "C 2490 536 2438 459 2413 420 \n",
       "C 2381 369 1920 369 1830 369 \n",
       "L 602 369 \n",
       "C 832 619 1280 1072 1824 1597 \n",
       "C 2214 1967 2669 2402 2669 3035 \n",
       "C 2669 3790 2067 4224 1395 4224 \n",
       "C 691 4224 262 3604 262 3030 \n",
       "C 262 2780 448 2748 525 2748 \n",
       "C 589 2748 781 2787 781 3010 \n",
       "C 781 3207 614 3264 525 3264 \n",
       "C 486 3264 448 3258 422 3245 \n",
       "C 544 3790 915 4058 1306 4058 \n",
       "C 1862 4058 2227 3617 2227 3035 \n",
       "C 2227 2479 1901 2000 1536 1584 \n",
       "L 262 146 \n",
       "L 262 0 \n",
       "L 2515 0 \n",
       "L 2669 989 \n",
       "z\n",
       "\" transform=\"scale(0.015625)\"/>\n",
       "       </defs>\n",
       "       <use xlink:href=\"#CMR17-30\" transform=\"scale(0.996264)\"/>\n",
       "       <use xlink:href=\"#CMMI12-3a\" transform=\"translate(45.690477 0) scale(0.996264)\"/>\n",
       "       <use xlink:href=\"#CMR17-30\" transform=\"translate(72.787654 0) scale(0.996264)\"/>\n",
       "       <use xlink:href=\"#CMR17-32\" transform=\"translate(118.478131 0) scale(0.996264)\"/>\n",
       "      </g>\n",
       "     </g>\n",
       "    </g>\n",
       "    <g id=\"xtick_3\">\n",
       "     <g id=\"line2d_5\">\n",
       "      <path d=\"M 101.054918 114.349606 \n",
       "L 101.054918 7.2 \n",
       "\" clip-path=\"url(#pad87a9fc77)\" style=\"fill: none; stroke-dasharray: 0.74,0.32; stroke-dashoffset: 0; stroke: #808080; stroke-opacity: 0.7; stroke-width: 0.2\"/>\n",
       "     </g>\n",
       "     <g id=\"line2d_6\">\n",
       "      <g>\n",
       "       <use xlink:href=\"#m0511504765\" x=\"101.054918\" y=\"114.349606\" style=\"stroke: #000000; stroke-width: 0.5\"/>\n",
       "      </g>\n",
       "     </g>\n",
       "     <g id=\"text_3\">\n",
       "      <!-- $\\mathdefault{0.04}$ -->\n",
       "      <g transform=\"translate(93.527481 123.384408) scale(0.08 -0.08)\">\n",
       "       <defs>\n",
       "        <path id=\"CMR17-34\" d=\"M 2150 4122 \n",
       "C 2150 4256 2144 4256 2029 4256 \n",
       "L 128 1254 \n",
       "L 128 1088 \n",
       "L 1779 1088 \n",
       "L 1779 457 \n",
       "C 1779 224 1766 160 1318 160 \n",
       "L 1197 160 \n",
       "L 1197 0 \n",
       "C 1402 0 1747 0 1965 0 \n",
       "C 2182 0 2528 0 2733 0 \n",
       "L 2733 160 \n",
       "L 2611 160 \n",
       "C 2163 160 2150 224 2150 457 \n",
       "L 2150 1088 \n",
       "L 2803 1088 \n",
       "L 2803 1254 \n",
       "L 2150 1254 \n",
       "L 2150 4122 \n",
       "z\n",
       "M 1798 3703 \n",
       "L 1798 1254 \n",
       "L 256 1254 \n",
       "L 1798 3703 \n",
       "z\n",
       "\" transform=\"scale(0.015625)\"/>\n",
       "       </defs>\n",
       "       <use xlink:href=\"#CMR17-30\" transform=\"scale(0.996264)\"/>\n",
       "       <use xlink:href=\"#CMMI12-3a\" transform=\"translate(45.690477 0) scale(0.996264)\"/>\n",
       "       <use xlink:href=\"#CMR17-30\" transform=\"translate(72.787654 0) scale(0.996264)\"/>\n",
       "       <use xlink:href=\"#CMR17-34\" transform=\"translate(118.478131 0) scale(0.996264)\"/>\n",
       "      </g>\n",
       "     </g>\n",
       "    </g>\n",
       "    <g id=\"xtick_4\">\n",
       "     <g id=\"line2d_7\">\n",
       "      <path d=\"M 134.428167 114.349606 \n",
       "L 134.428167 7.2 \n",
       "\" clip-path=\"url(#pad87a9fc77)\" style=\"fill: none; stroke-dasharray: 0.74,0.32; stroke-dashoffset: 0; stroke: #808080; stroke-opacity: 0.7; stroke-width: 0.2\"/>\n",
       "     </g>\n",
       "     <g id=\"line2d_8\">\n",
       "      <g>\n",
       "       <use xlink:href=\"#m0511504765\" x=\"134.428167\" y=\"114.349606\" style=\"stroke: #000000; stroke-width: 0.5\"/>\n",
       "      </g>\n",
       "     </g>\n",
       "     <g id=\"text_4\">\n",
       "      <!-- $\\mathdefault{0.06}$ -->\n",
       "      <g transform=\"translate(126.900731 123.384408) scale(0.08 -0.08)\">\n",
       "       <defs>\n",
       "        <path id=\"CMR17-36\" d=\"M 678 2176 \n",
       "C 678 3690 1395 4032 1811 4032 \n",
       "C 1946 4032 2272 4009 2400 3776 \n",
       "C 2298 3776 2106 3776 2106 3553 \n",
       "C 2106 3381 2246 3323 2336 3323 \n",
       "C 2394 3323 2566 3348 2566 3560 \n",
       "C 2566 3954 2246 4179 1805 4179 \n",
       "C 1043 4179 243 3390 243 1984 \n",
       "C 243 253 966 -128 1478 -128 \n",
       "C 2099 -128 2688 427 2688 1283 \n",
       "C 2688 2081 2170 2662 1517 2662 \n",
       "C 1126 2662 838 2407 678 1960 \n",
       "L 678 2176 \n",
       "z\n",
       "M 1478 25 \n",
       "C 691 25 691 1200 691 1436 \n",
       "C 691 1896 909 2560 1504 2560 \n",
       "C 1613 2560 1926 2560 2138 2120 \n",
       "C 2253 1870 2253 1609 2253 1289 \n",
       "C 2253 944 2253 690 2118 434 \n",
       "C 1978 171 1773 25 1478 25 \n",
       "z\n",
       "\" transform=\"scale(0.015625)\"/>\n",
       "       </defs>\n",
       "       <use xlink:href=\"#CMR17-30\" transform=\"scale(0.996264)\"/>\n",
       "       <use xlink:href=\"#CMMI12-3a\" transform=\"translate(45.690477 0) scale(0.996264)\"/>\n",
       "       <use xlink:href=\"#CMR17-30\" transform=\"translate(72.787654 0) scale(0.996264)\"/>\n",
       "       <use xlink:href=\"#CMR17-36\" transform=\"translate(118.478131 0) scale(0.996264)\"/>\n",
       "      </g>\n",
       "     </g>\n",
       "    </g>\n",
       "    <g id=\"text_5\">\n",
       "     <!-- $\\varphi$ [rad] -->\n",
       "     <g transform=\"translate(73.528824 136.406134) scale(0.1 -0.1)\">\n",
       "      <defs>\n",
       "       <path id=\"CMMI12-27\" d=\"M 1926 280 \n",
       "C 1818 280 1722 280 1722 312 \n",
       "C 1722 325 1830 926 1869 1067 \n",
       "C 2074 1884 2560 2472 3117 2472 \n",
       "C 3533 2472 3725 2159 3725 1808 \n",
       "C 3725 1080 2906 280 1926 280 \n",
       "z\n",
       "M 1651 -51 \n",
       "C 1690 -57 1754 -64 1869 -64 \n",
       "C 2918 -64 3885 945 3885 1954 \n",
       "C 3885 2344 3712 2816 3174 2816 \n",
       "C 2253 2816 1862 1519 1504 318 \n",
       "C 768 458 461 848 461 1276 \n",
       "C 461 1449 595 2133 966 2592 \n",
       "C 1037 2676 1037 2689 1037 2702 \n",
       "C 1037 2753 986 2753 973 2753 \n",
       "C 800 2753 314 1820 314 1213 \n",
       "C 314 497 877 107 1395 -7 \n",
       "L 1062 -1088 \n",
       "C 1030 -1184 1030 -1196 1030 -1222 \n",
       "C 1030 -1376 1184 -1376 1197 -1376 \n",
       "C 1261 -1376 1376 -1351 1427 -1223 \n",
       "C 1446 -1166 1626 -178 1651 -51 \n",
       "z\n",
       "\" transform=\"scale(0.015625)\"/>\n",
       "       <path id=\"CMR17-5b\" d=\"M 1504 -1600 \n",
       "L 1504 -1377 \n",
       "L 902 -1377 \n",
       "L 902 4544 \n",
       "L 1504 4544 \n",
       "L 1504 4767 \n",
       "L 678 4767 \n",
       "L 678 -1600 \n",
       "L 1504 -1600 \n",
       "z\n",
       "\" transform=\"scale(0.015625)\"/>\n",
       "       <path id=\"CMR17-72\" d=\"M 960 1497 \n",
       "C 960 2112 1222 2688 1702 2688 \n",
       "C 1747 2688 1792 2682 1837 2662 \n",
       "C 1837 2662 1696 2617 1696 2452 \n",
       "C 1696 2298 1818 2234 1914 2234 \n",
       "C 1990 2234 2131 2279 2131 2458 \n",
       "C 2131 2663 1926 2790 1709 2790 \n",
       "C 1222 2790 1011 2317 947 2093 \n",
       "L 941 2093 \n",
       "L 941 2790 \n",
       "L 198 2720 \n",
       "L 198 2554 \n",
       "C 576 2554 634 2515 634 2208 \n",
       "L 634 428 \n",
       "C 634 184 608 153 198 153 \n",
       "L 198 -13 \n",
       "C 352 0 646 0 813 0 \n",
       "C 998 0 1325 0 1498 -13 \n",
       "L 1498 153 \n",
       "C 1037 153 960 153 960 440 \n",
       "L 960 1497 \n",
       "z\n",
       "\" transform=\"scale(0.015625)\"/>\n",
       "       <path id=\"CMR17-61\" d=\"M 2304 1653 \n",
       "C 2304 2072 2304 2294 2035 2543 \n",
       "C 1798 2752 1523 2816 1306 2816 \n",
       "C 800 2816 435 2407 435 1971 \n",
       "C 435 1728 627 1728 666 1728 \n",
       "C 749 1728 896 1778 896 1954 \n",
       "C 896 2112 774 2181 666 2181 \n",
       "C 640 2181 608 2174 589 2168 \n",
       "C 723 2592 1069 2714 1293 2714 \n",
       "C 1613 2714 1965 2429 1965 1885 \n",
       "L 1965 1600 \n",
       "C 1587 1600 1133 1549 774 1357 \n",
       "C 371 1133 256 813 256 570 \n",
       "C 256 77 832 -64 1171 -64 \n",
       "C 1523 -64 1850 139 1990 511 \n",
       "C 2003 233 2182 -18 2464 -18 \n",
       "C 2598 -18 2938 70 2938 567 \n",
       "L 2938 920 \n",
       "L 2822 920 \n",
       "L 2822 562 \n",
       "C 2822 178 2650 128 2566 128 \n",
       "C 2304 128 2304 458 2304 738 \n",
       "L 2304 1653 \n",
       "z\n",
       "M 1965 870 \n",
       "C 1965 317 1568 38 1216 38 \n",
       "C 896 38 646 275 646 570 \n",
       "C 646 761 730 1100 1101 1305 \n",
       "C 1408 1478 1760 1504 1965 1504 \n",
       "L 1965 870 \n",
       "z\n",
       "\" transform=\"scale(0.015625)\"/>\n",
       "       <path id=\"CMR17-64\" d=\"M 1869 4326 \n",
       "L 1869 4160 \n",
       "C 2246 4160 2304 4122 2304 3820 \n",
       "L 2304 2345 \n",
       "C 2278 2377 2016 2790 1498 2790 \n",
       "C 845 2790 211 2208 211 1364 \n",
       "C 211 525 806 -64 1434 -64 \n",
       "C 1978 -64 2259 337 2291 380 \n",
       "L 2291 -63 \n",
       "L 3066 -63 \n",
       "L 3066 128 \n",
       "C 2688 128 2630 166 2630 473 \n",
       "L 2630 4396 \n",
       "L 1869 4326 \n",
       "z\n",
       "M 2291 755 \n",
       "C 2291 563 2176 390 2029 262 \n",
       "C 1811 70 1594 38 1472 38 \n",
       "C 1286 38 621 134 621 1356 \n",
       "C 621 2612 1363 2688 1530 2688 \n",
       "C 1824 2688 2061 2522 2208 2291 \n",
       "C 2291 2157 2291 2138 2291 2023 \n",
       "L 2291 755 \n",
       "z\n",
       "\" transform=\"scale(0.015625)\"/>\n",
       "       <path id=\"CMR17-5d\" d=\"M 915 4767 \n",
       "L 90 4767 \n",
       "L 90 4544 \n",
       "L 691 4544 \n",
       "L 691 -1377 \n",
       "L 90 -1377 \n",
       "L 90 -1600 \n",
       "L 915 -1600 \n",
       "L 915 4767 \n",
       "z\n",
       "\" transform=\"scale(0.015625)\"/>\n",
       "      </defs>\n",
       "      <use xlink:href=\"#CMMI12-27\" transform=\"scale(0.996264)\"/>\n",
       "      <use xlink:href=\"#CMR17-5b\" transform=\"translate(93.97903 0) scale(0.996264)\"/>\n",
       "      <use xlink:href=\"#CMR17-72\" transform=\"translate(118.850089 0) scale(0.996264)\"/>\n",
       "      <use xlink:href=\"#CMR17-61\" transform=\"translate(154.130856 0) scale(0.996264)\"/>\n",
       "      <use xlink:href=\"#CMR17-64\" transform=\"translate(199.821333 0) scale(0.996264)\"/>\n",
       "      <use xlink:href=\"#CMR17-5d\" transform=\"translate(250.716703 0) scale(0.996264)\"/>\n",
       "     </g>\n",
       "    </g>\n",
       "   </g>\n",
       "   <g id=\"matplotlib.axis_2\">\n",
       "    <g id=\"ytick_1\">\n",
       "     <g id=\"line2d_9\">\n",
       "      <path d=\"M 28.896823 109.47917 \n",
       "L 147.951941 109.47917 \n",
       "\" clip-path=\"url(#pad87a9fc77)\" style=\"fill: none; stroke-dasharray: 0.74,0.32; stroke-dashoffset: 0; stroke: #808080; stroke-opacity: 0.7; stroke-width: 0.2\"/>\n",
       "     </g>\n",
       "     <g id=\"line2d_10\">\n",
       "      <defs>\n",
       "       <path id=\"m9ce4a60886\" d=\"M 0 0 \n",
       "L 3.5 0 \n",
       "\" style=\"stroke: #000000; stroke-width: 0.5\"/>\n",
       "      </defs>\n",
       "      <g>\n",
       "       <use xlink:href=\"#m9ce4a60886\" x=\"28.896823\" y=\"109.47917\" style=\"stroke: #000000; stroke-width: 0.5\"/>\n",
       "      </g>\n",
       "     </g>\n",
       "     <g id=\"text_6\">\n",
       "      <!-- $\\mathdefault{0}$ -->\n",
       "      <g transform=\"translate(21.16264 112.246571) scale(0.08 -0.08)\">\n",
       "       <use xlink:href=\"#CMR17-30\" transform=\"scale(0.996264)\"/>\n",
       "      </g>\n",
       "     </g>\n",
       "    </g>\n",
       "    <g id=\"ytick_2\">\n",
       "     <g id=\"line2d_11\">\n",
       "      <path d=\"M 28.896823 88.883506 \n",
       "L 147.951941 88.883506 \n",
       "\" clip-path=\"url(#pad87a9fc77)\" style=\"fill: none; stroke-dasharray: 0.74,0.32; stroke-dashoffset: 0; stroke: #808080; stroke-opacity: 0.7; stroke-width: 0.2\"/>\n",
       "     </g>\n",
       "     <g id=\"line2d_12\">\n",
       "      <g>\n",
       "       <use xlink:href=\"#m9ce4a60886\" x=\"28.896823\" y=\"88.883506\" style=\"stroke: #000000; stroke-width: 0.5\"/>\n",
       "      </g>\n",
       "     </g>\n",
       "     <g id=\"text_7\">\n",
       "      <!-- $\\mathdefault{1}$ -->\n",
       "      <g transform=\"translate(21.16264 91.650907) scale(0.08 -0.08)\">\n",
       "       <defs>\n",
       "        <path id=\"CMR17-31\" d=\"M 1702 4058 \n",
       "C 1702 4192 1696 4192 1606 4192 \n",
       "C 1357 3916 979 3827 621 3827 \n",
       "C 602 3827 570 3827 563 3808 \n",
       "C 557 3795 557 3782 557 3648 \n",
       "C 755 3648 1088 3686 1344 3839 \n",
       "L 1344 461 \n",
       "C 1344 236 1331 160 781 160 \n",
       "L 589 160 \n",
       "L 589 0 \n",
       "C 896 0 1216 0 1523 0 \n",
       "C 1830 0 2150 0 2458 0 \n",
       "L 2458 160 \n",
       "L 2266 160 \n",
       "C 1715 160 1702 230 1702 458 \n",
       "L 1702 4058 \n",
       "z\n",
       "\" transform=\"scale(0.015625)\"/>\n",
       "       </defs>\n",
       "       <use xlink:href=\"#CMR17-31\" transform=\"scale(0.996264)\"/>\n",
       "      </g>\n",
       "     </g>\n",
       "    </g>\n",
       "    <g id=\"ytick_3\">\n",
       "     <g id=\"line2d_13\">\n",
       "      <path d=\"M 28.896823 68.287842 \n",
       "L 147.951941 68.287842 \n",
       "\" clip-path=\"url(#pad87a9fc77)\" style=\"fill: none; stroke-dasharray: 0.74,0.32; stroke-dashoffset: 0; stroke: #808080; stroke-opacity: 0.7; stroke-width: 0.2\"/>\n",
       "     </g>\n",
       "     <g id=\"line2d_14\">\n",
       "      <g>\n",
       "       <use xlink:href=\"#m9ce4a60886\" x=\"28.896823\" y=\"68.287842\" style=\"stroke: #000000; stroke-width: 0.5\"/>\n",
       "      </g>\n",
       "     </g>\n",
       "     <g id=\"text_8\">\n",
       "      <!-- $\\mathdefault{2}$ -->\n",
       "      <g transform=\"translate(21.16264 71.055243) scale(0.08 -0.08)\">\n",
       "       <use xlink:href=\"#CMR17-32\" transform=\"scale(0.996264)\"/>\n",
       "      </g>\n",
       "     </g>\n",
       "    </g>\n",
       "    <g id=\"ytick_4\">\n",
       "     <g id=\"line2d_15\">\n",
       "      <path d=\"M 28.896823 47.692179 \n",
       "L 147.951941 47.692179 \n",
       "\" clip-path=\"url(#pad87a9fc77)\" style=\"fill: none; stroke-dasharray: 0.74,0.32; stroke-dashoffset: 0; stroke: #808080; stroke-opacity: 0.7; stroke-width: 0.2\"/>\n",
       "     </g>\n",
       "     <g id=\"line2d_16\">\n",
       "      <g>\n",
       "       <use xlink:href=\"#m9ce4a60886\" x=\"28.896823\" y=\"47.692179\" style=\"stroke: #000000; stroke-width: 0.5\"/>\n",
       "      </g>\n",
       "     </g>\n",
       "     <g id=\"text_9\">\n",
       "      <!-- $\\mathdefault{3}$ -->\n",
       "      <g transform=\"translate(21.16264 50.45958) scale(0.08 -0.08)\">\n",
       "       <defs>\n",
       "        <path id=\"CMR17-33\" d=\"M 1414 2157 \n",
       "C 1984 2157 2234 1662 2234 1090 \n",
       "C 2234 320 1824 25 1453 25 \n",
       "C 1114 25 563 194 390 693 \n",
       "C 422 680 454 680 486 680 \n",
       "C 640 680 755 782 755 948 \n",
       "C 755 1133 614 1216 486 1216 \n",
       "C 378 1216 211 1165 211 926 \n",
       "C 211 335 787 -128 1466 -128 \n",
       "C 2176 -128 2720 430 2720 1085 \n",
       "C 2720 1707 2208 2157 1600 2227 \n",
       "C 2086 2328 2554 2756 2554 3329 \n",
       "C 2554 3820 2048 4179 1472 4179 \n",
       "C 890 4179 378 3829 378 3329 \n",
       "C 378 3110 544 3072 627 3072 \n",
       "C 762 3072 877 3155 877 3321 \n",
       "C 877 3486 762 3569 627 3569 \n",
       "C 602 3569 570 3569 544 3557 \n",
       "C 730 3959 1235 4032 1459 4032 \n",
       "C 1683 4032 2106 3925 2106 3320 \n",
       "C 2106 3143 2080 2828 1862 2550 \n",
       "C 1670 2304 1453 2304 1242 2284 \n",
       "C 1210 2284 1062 2269 1037 2269 \n",
       "C 992 2263 966 2257 966 2208 \n",
       "C 966 2163 973 2157 1101 2157 \n",
       "L 1414 2157 \n",
       "z\n",
       "\" transform=\"scale(0.015625)\"/>\n",
       "       </defs>\n",
       "       <use xlink:href=\"#CMR17-33\" transform=\"scale(0.996264)\"/>\n",
       "      </g>\n",
       "     </g>\n",
       "    </g>\n",
       "    <g id=\"ytick_5\">\n",
       "     <g id=\"line2d_17\">\n",
       "      <path d=\"M 28.896823 27.096515 \n",
       "L 147.951941 27.096515 \n",
       "\" clip-path=\"url(#pad87a9fc77)\" style=\"fill: none; stroke-dasharray: 0.74,0.32; stroke-dashoffset: 0; stroke: #808080; stroke-opacity: 0.7; stroke-width: 0.2\"/>\n",
       "     </g>\n",
       "     <g id=\"line2d_18\">\n",
       "      <g>\n",
       "       <use xlink:href=\"#m9ce4a60886\" x=\"28.896823\" y=\"27.096515\" style=\"stroke: #000000; stroke-width: 0.5\"/>\n",
       "      </g>\n",
       "     </g>\n",
       "     <g id=\"text_10\">\n",
       "      <!-- $\\mathdefault{4}$ -->\n",
       "      <g transform=\"translate(21.16264 29.863916) scale(0.08 -0.08)\">\n",
       "       <use xlink:href=\"#CMR17-34\" transform=\"scale(0.996264)\"/>\n",
       "      </g>\n",
       "     </g>\n",
       "    </g>\n",
       "    <g id=\"text_11\">\n",
       "     <!-- $M$ [kNm] -->\n",
       "     <g transform=\"translate(14.67198 81.094471) rotate(-90) scale(0.1 -0.1)\">\n",
       "      <defs>\n",
       "       <path id=\"CMMI12-4d\" d=\"M 5811 3886 \n",
       "C 5869 4103 5882 4167 6336 4167 \n",
       "C 6458 4167 6515 4167 6515 4288 \n",
       "C 6515 4352 6470 4352 6349 4352 \n",
       "L 5581 4352 \n",
       "C 5421 4352 5414 4346 5344 4243 \n",
       "L 3008 562 \n",
       "L 2528 4211 \n",
       "C 2509 4352 2502 4352 2336 4352 \n",
       "L 1542 4352 \n",
       "C 1421 4352 1363 4352 1363 4231 \n",
       "C 1363 4167 1421 4167 1517 4167 \n",
       "C 1907 4167 1907 4116 1907 4046 \n",
       "C 1907 4034 1907 3995 1882 3899 \n",
       "L 1062 634 \n",
       "C 986 327 838 186 410 186 \n",
       "C 390 186 314 186 314 73 \n",
       "C 314 0 371 0 397 0 \n",
       "C 525 0 851 0 979 0 \n",
       "L 1286 0 \n",
       "C 1376 0 1485 0 1574 0 \n",
       "C 1619 0 1690 0 1690 122 \n",
       "C 1690 180 1626 186 1600 186 \n",
       "C 1389 186 1184 224 1184 454 \n",
       "C 1184 518 1184 524 1210 613 \n",
       "L 2093 4129 \n",
       "L 2099 4129 \n",
       "L 2630 172 \n",
       "C 2650 19 2656 0 2714 0 \n",
       "C 2784 0 2816 51 2848 109 \n",
       "L 5421 4161 \n",
       "L 5427 4161 \n",
       "L 4499 473 \n",
       "C 4442 250 4429 186 3981 186 \n",
       "C 3859 186 3795 186 3795 70 \n",
       "C 3795 0 3853 0 3891 0 \n",
       "C 4000 0 4128 0 4237 0 \n",
       "L 4992 0 \n",
       "C 5101 0 5235 0 5344 0 \n",
       "C 5395 0 5466 0 5466 122 \n",
       "C 5466 186 5408 186 5312 186 \n",
       "C 4922 186 4922 234 4922 294 \n",
       "C 4922 301 4922 345 4934 396 \n",
       "L 5811 3886 \n",
       "z\n",
       "\" transform=\"scale(0.015625)\"/>\n",
       "       <path id=\"CMR17-6b\" d=\"M 1670 1673 \n",
       "C 1664 1686 1632 1724 1632 1743 \n",
       "C 1632 1756 2086 2171 2144 2222 \n",
       "C 2509 2528 2739 2560 2906 2560 \n",
       "L 2906 2733 \n",
       "C 2867 2733 2854 2733 2848 2720 \n",
       "L 2534 2720 \n",
       "C 2355 2720 2080 2720 1907 2733 \n",
       "L 1907 2566 \n",
       "C 1997 2559 2061 2508 2061 2419 \n",
       "C 2061 2291 1933 2170 1926 2170 \n",
       "L 960 1289 \n",
       "L 960 4396 \n",
       "L 198 4326 \n",
       "L 198 4160 \n",
       "C 576 4160 634 4122 634 3817 \n",
       "L 634 426 \n",
       "C 634 184 608 153 198 153 \n",
       "L 198 -13 \n",
       "C 352 0 634 0 794 0 \n",
       "C 954 0 1235 0 1389 -13 \n",
       "L 1389 153 \n",
       "C 979 153 954 178 954 428 \n",
       "L 954 1130 \n",
       "L 1395 1532 \n",
       "L 2042 574 \n",
       "C 2118 459 2182 369 2182 286 \n",
       "C 2182 172 2067 153 1990 153 \n",
       "L 1990 -13 \n",
       "C 2144 0 2419 0 2579 0 \n",
       "C 2694 0 2931 0 3040 0 \n",
       "L 3040 153 \n",
       "C 2739 153 2669 210 2477 491 \n",
       "L 1670 1673 \n",
       "z\n",
       "\" transform=\"scale(0.015625)\"/>\n",
       "       <path id=\"CMR17-4e\" d=\"M 1312 4250 \n",
       "C 1267 4320 1261 4320 1139 4320 \n",
       "L 326 4320 \n",
       "L 326 4160 \n",
       "L 448 4160 \n",
       "C 704 4160 819 4129 838 4122 \n",
       "L 838 610 \n",
       "C 838 451 838 153 326 153 \n",
       "L 326 -13 \n",
       "C 474 0 742 0 902 0 \n",
       "C 1062 0 1331 0 1478 -13 \n",
       "L 1478 153 \n",
       "C 966 153 966 451 966 610 \n",
       "L 966 4033 \n",
       "C 1011 3995 1011 3982 1056 3919 \n",
       "L 3430 76 \n",
       "C 3475 0 3494 0 3526 0 \n",
       "C 3590 0 3590 19 3590 139 \n",
       "L 3590 3705 \n",
       "C 3590 3863 3590 4160 4102 4160 \n",
       "L 4102 4326 \n",
       "C 3955 4320 3686 4320 3526 4320 \n",
       "C 3366 4320 3098 4320 2950 4326 \n",
       "L 2950 4160 \n",
       "C 3462 4160 3462 3862 3462 3703 \n",
       "L 3462 763 \n",
       "L 1312 4250 \n",
       "z\n",
       "\" transform=\"scale(0.015625)\"/>\n",
       "       <path id=\"CMR17-6d\" d=\"M 4326 1933 \n",
       "C 4326 2252 4269 2790 3507 2790 \n",
       "C 3072 2790 2771 2496 2656 2151 \n",
       "L 2650 2151 \n",
       "C 2573 2676 2195 2790 1837 2790 \n",
       "C 1331 2790 1069 2400 973 2144 \n",
       "L 966 2144 \n",
       "L 966 2790 \n",
       "L 211 2720 \n",
       "L 211 2554 \n",
       "C 589 2554 646 2515 646 2208 \n",
       "L 646 428 \n",
       "C 646 184 621 153 211 153 \n",
       "L 211 -13 \n",
       "C 365 0 646 0 813 0 \n",
       "C 979 0 1267 0 1421 -13 \n",
       "L 1421 153 \n",
       "C 1011 153 986 178 986 428 \n",
       "L 986 1658 \n",
       "C 986 2247 1344 2688 1792 2688 \n",
       "C 2266 2688 2317 2266 2317 1958 \n",
       "L 2317 428 \n",
       "C 2317 184 2291 153 1882 153 \n",
       "L 1882 -13 \n",
       "C 2035 0 2317 0 2483 0 \n",
       "C 2650 0 2938 0 3091 -13 \n",
       "L 3091 153 \n",
       "C 2682 153 2656 178 2656 428 \n",
       "L 2656 1658 \n",
       "C 2656 2247 3014 2688 3462 2688 \n",
       "C 3936 2688 3987 2266 3987 1958 \n",
       "L 3987 428 \n",
       "C 3987 184 3962 153 3552 153 \n",
       "L 3552 -13 \n",
       "C 3706 0 3987 0 4154 0 \n",
       "C 4320 0 4608 0 4762 -13 \n",
       "L 4762 153 \n",
       "C 4352 153 4326 178 4326 428 \n",
       "L 4326 1933 \n",
       "z\n",
       "\" transform=\"scale(0.015625)\"/>\n",
       "      </defs>\n",
       "      <use xlink:href=\"#CMMI12-4d\" transform=\"scale(0.996264)\"/>\n",
       "      <use xlink:href=\"#CMR17-5b\" transform=\"translate(134.856045 0) scale(0.996264)\"/>\n",
       "      <use xlink:href=\"#CMR17-6b\" transform=\"translate(159.727104 0) scale(0.996264)\"/>\n",
       "      <use xlink:href=\"#CMR17-4e\" transform=\"translate(208.02002 0) scale(0.996264)\"/>\n",
       "      <use xlink:href=\"#CMR17-6d\" transform=\"translate(277.092449 0) scale(0.996264)\"/>\n",
       "      <use xlink:href=\"#CMR17-5d\" transform=\"translate(354.012039 0) scale(0.996264)\"/>\n",
       "     </g>\n",
       "    </g>\n",
       "   </g>\n",
       "   <g id=\"line2d_19\">\n",
       "    <path d=\"M 34.308419 109.47917 \n",
       "L 34.512906 70.947512 \n",
       "L 34.945593 70.947512 \n",
       "L 36.214986 28.345947 \n",
       "L 99.200582 12.070437 \n",
       "\" clip-path=\"url(#pad87a9fc77)\" style=\"fill: none; stroke: #000000; stroke-width: 0.7; stroke-linecap: square\"/>\n",
       "   </g>\n",
       "   <g id=\"line2d_20\">\n",
       "    <path d=\"M 99.200582 12.070437 \n",
       "L 142.540345 12.070437 \n",
       "\" clip-path=\"url(#pad87a9fc77)\" style=\"fill: none; stroke: #ff0000; stroke-width: 0.7; stroke-linecap: square\"/>\n",
       "   </g>\n",
       "   <g id=\"patch_3\">\n",
       "    <path d=\"M 28.896823 114.349606 \n",
       "L 28.896823 7.2 \n",
       "\" style=\"fill: none; stroke: #000000; stroke-width: 0.5; stroke-linejoin: miter; stroke-linecap: square\"/>\n",
       "   </g>\n",
       "   <g id=\"patch_4\">\n",
       "    <path d=\"M 147.951941 114.349606 \n",
       "L 147.951941 7.2 \n",
       "\" style=\"fill: none; stroke: #000000; stroke-width: 0.5; stroke-linejoin: miter; stroke-linecap: square\"/>\n",
       "   </g>\n",
       "   <g id=\"patch_5\">\n",
       "    <path d=\"M 28.896823 114.349606 \n",
       "L 147.951941 114.349606 \n",
       "\" style=\"fill: none; stroke: #000000; stroke-width: 0.5; stroke-linejoin: miter; stroke-linecap: square\"/>\n",
       "   </g>\n",
       "   <g id=\"patch_6\">\n",
       "    <path d=\"M 28.896823 7.2 \n",
       "L 147.951941 7.2 \n",
       "\" style=\"fill: none; stroke: #000000; stroke-width: 0.5; stroke-linejoin: miter; stroke-linecap: square\"/>\n",
       "   </g>\n",
       "  </g>\n",
       " </g>\n",
       " <defs>\n",
       "  <clipPath id=\"pad87a9fc77\">\n",
       "   <rect x=\"28.896823\" y=\"7.2\" width=\"119.055118\" height=\"107.149606\"/>\n",
       "  </clipPath>\n",
       " </defs>\n",
       "</svg>\n"
      ],
      "text/plain": [
       "<Figure size 236.22x212.598 with 1 Axes>"
      ]
     },
     "execution_count": 25,
     "metadata": {},
     "output_type": "execute_result"
    }
   ],
   "source": [
    "theta_array = np.array([max(phi_qs_array), Theta_max_gelenk])\n",
    "M_pl_array = np.array([M_u.m, M_u.m])\n",
    "\n",
    "\n",
    "ax_M_phi.plot(theta_array,  M_pl_array, color='red')\n",
    " \n",
    "fig_M_phi.savefig(\"imgs/tho_M_phi_theta_max.svg\")\n",
    "fig_M_phi"
   ]
  },
  {
   "cell_type": "markdown",
   "metadata": {},
   "source": [
    "### Drillsteifigkeit"
   ]
  },
  {
   "cell_type": "markdown",
   "metadata": {},
   "source": [
    "Das Torsionsträgheitsmoment für einen Rechteckquerschnitt approximiert:"
   ]
  },
  {
   "cell_type": "code",
   "execution_count": 26,
   "metadata": {},
   "outputs": [
    {
     "data": {
      "text/markdown": [
       "$$\n",
       "\\begin{aligned}\n",
       "\\beta_{Ix}& = 0.23 \\\\ \n",
       "I_{x}& = b_{w}^{3} \\cdot \\beta_{Ix} \\cdot h = 45800000.0 \\ \\mathrm{mm}^{4} \\end{aligned}\n",
       "$$"
      ],
      "text/plain": [
       "<IPython.core.display.Markdown object>"
      ]
     },
     "metadata": {},
     "output_type": "display_data"
    }
   ],
   "source": [
    "beta_Ix =  0.229\n",
    "I_x = (beta_Ix * h* b_w**3).to(un.mm**4) \n",
    "\n",
    "put_out(symbolic=True, rows = 1)"
   ]
  },
  {
   "cell_type": "markdown",
   "metadata": {},
   "source": [
    "Dabei folgt die Steifigkeit eines Gelenks zu:"
   ]
  },
  {
   "cell_type": "code",
   "execution_count": 27,
   "metadata": {},
   "outputs": [
    {
     "data": {
      "text/markdown": [
       "$$\n",
       "\\begin{aligned}\n",
       "\\nu& = 0.2 \\\\ \n",
       "G_{c}& = \\frac{E_{c}}{2 \\cdot \\left(\\nu + 1\\right)} = 9.54 \\ \\frac{\\mathrm{kN}}{\\mathrm{mm}^{2}} \\\\ \n",
       "GI& = \\frac{G_{c} \\cdot I_{x}}{l_{El}} = 4370.08 \\ \\frac{\\mathrm{kN} \\cdot \\mathrm{m}}{\\mathrm{rad}} \\\\ \n",
       "GI_{II}& = 0.2 \\cdot GI \\cdot n_{gelenk} = 1748.03 \\ \\frac{\\mathrm{kN} \\cdot \\mathrm{m}}{\\mathrm{rad}} \\end{aligned}\n",
       "$$"
      ],
      "text/plain": [
       "<IPython.core.display.Markdown object>"
      ]
     },
     "metadata": {},
     "output_type": "display_data"
    }
   ],
   "source": [
    "nu = 0.2\n",
    "G_c = E_c / (2*(1+nu))\n",
    "\n",
    "GI = (I_x * G_c/l_El).to(un.kN*un.m /un.rad)\n",
    "GI_II = 0.2* GI*n_gelenk\n",
    "\n",
    "put_out(symbolic=True, rows = 1)"
   ]
  },
  {
   "cell_type": "code",
   "execution_count": 28,
   "metadata": {},
   "outputs": [
    {
     "data": {
      "text/markdown": [
       "$$\n",
       "\\begin{aligned}\n",
       "k_{r}& = E_{c} \\cdot h^{3} \\cdot \\frac{1}{12 \\cdot \\left(1 - \\nu\\right)} \\cdot \\frac{1}{n_{gelenk}} \\cdot 0.2 = 1908.33 \\ \\frac{\\mathrm{kN} \\cdot \\mathrm{m}}{\\mathrm{rad}} \\quad &  \\quad &  \n",
       " \\end{aligned}\n",
       "$$"
      ],
      "text/plain": [
       "<IPython.core.display.Markdown object>"
      ]
     },
     "metadata": {},
     "output_type": "display_data"
    }
   ],
   "source": [
    "\n",
    "k_r = (E_c * (h)**3 / (12*(1-nu))).to(un.kN*un.m/un.rad) /( n_gelenk) *0.2\n",
    "\n",
    "put_out(symbolic=True)"
   ]
  },
  {
   "cell_type": "markdown",
   "metadata": {},
   "source": [
    "## Modellergebnisse"
   ]
  },
  {
   "cell_type": "code",
   "execution_count": 29,
   "metadata": {},
   "outputs": [],
   "source": [
    "DF_rost_axis_V10 = pd.read_excel('calc/tho_axis_res.xlsx', sheet_name='V10')\n",
    "DF_rost_axis_V10['eZ_1 [mm]']= -1*DF_rost_axis_V10['eZ_1 [mm]']\n",
    "\n",
    "DF_rost_axis_V10_ohne_zuggurt = pd.read_excel('calc/tho_axis_res.xlsx', sheet_name='V10_ohne_zuggurt')\n",
    "DF_rost_axis_V10_ohne_zuggurt['eZ_1 [mm]']= -1*DF_rost_axis_V10_ohne_zuggurt['eZ_1 [mm]']\n",
    "\n",
    "\n",
    "ax_res_V10.plot(DF_rost_axis_V10.iloc[:,1],  DF_rost_axis_V10.iloc[:,2]*F_u.to(un.kN).m*12/20, label='Federmodell', color='gray')\n",
    "ax_res_V10.plot(DF_rost_axis_V10_ohne_zuggurt.iloc[:,1],  DF_rost_axis_V10_ohne_zuggurt.iloc[:,2]*F_u.to(un.kN).m*12/20, color='gray', linestyle='dashed')\n",
    " \n",
    "fig_res_V10.legend()\n",
    "fig_res_V10.savefig(\"imgs/tho_res_V10_calc.svg\")\n",
    "plt.close()\n"
   ]
  },
  {
   "cell_type": "markdown",
   "metadata": {},
   "source": [
    "![Modellergebnisse, Last-Verformungs-Diagramm an der Stelle $V10$](../imgs/tho_res_V10_calc.svg){#fig-tho_res_V10_calc}"
   ]
  }
 ],
 "metadata": {
  "kernelspec": {
   "display_name": "calc",
   "language": "python",
   "name": "python3"
  },
  "language_info": {
   "codemirror_mode": {
    "name": "ipython",
    "version": 3
   },
   "file_extension": ".py",
   "mimetype": "text/x-python",
   "name": "python",
   "nbconvert_exporter": "python",
   "pygments_lexer": "ipython3",
   "version": "3.11.9"
  }
 },
 "nbformat": 4,
 "nbformat_minor": 2
}
