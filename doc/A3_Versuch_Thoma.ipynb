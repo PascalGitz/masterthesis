{
 "cells": [
  {
   "cell_type": "code",
   "execution_count": 1,
   "metadata": {},
   "outputs": [],
   "source": [
    "from packages import *"
   ]
  },
  {
   "cell_type": "markdown",
   "metadata": {},
   "source": [
    "# Versuchsnachrechnung Zweifeldplatte\n",
    "\n",
    "Nachrechnung des Plattenversuchs aus @thoma_plattenversuche_2010. Gleiche Kraftintensität auf allen Zylindern. Eigengewicht hat keinen Einfluss auf Messung, Nullsetzung bei Belastungsbeginn.\n",
    "\n",
    "\n",
    "![Isometrische Ansicht des Versuchsaufbaus, dargestellt sind der Versuchsaufbau, die Lagerung mit den Zylindern, die Krafteinleitung mittels den Zugstangen](../imgs/tho_aufbau_iso.svg){#fig-tho_aufbau_iso}\n",
    "\n",
    "![Grundriss und Längsansicht, Lasteineinleitung, Lagerposition und die Plattenabmessungen sind vermasst](../imgs/tho_aufbau_gr.svg){#fig-tho_aufbau_gr}"
   ]
  },
  {
   "cell_type": "markdown",
   "metadata": {},
   "source": [
    "## Versuchsbeschrieb"
   ]
  },
  {
   "cell_type": "markdown",
   "metadata": {},
   "source": [
    "### Berechnungsgrössen"
   ]
  },
  {
   "cell_type": "markdown",
   "metadata": {},
   "source": [
    "#### Betonstahl \n",
    "\n",
    "![Biegebewehrung der Platte](../imgs/tho_biegebewehrung_iso.svg){#fig-tho_biegebewehrung_iso}"
   ]
  },
  {
   "cell_type": "code",
   "execution_count": 2,
   "metadata": {},
   "outputs": [
    {
     "data": {
      "text/markdown": [
       "$$\n",
       "\\begin{aligned}\n",
       "\\oslash_{s}& = 10 \\ \\mathrm{mm} \\quad & s& = 150 \\ \\mathrm{mm} \\quad & a_{s}& = \\frac{\\pi \\cdot \\oslash_{s}^{2}}{4 \\cdot s} = 523.6 \\ \\frac{\\mathrm{mm}^{2}}{\\mathrm{m}} \\end{aligned}\n",
       "$$"
      ],
      "text/plain": [
       "<IPython.core.display.Markdown object>"
      ]
     },
     "metadata": {},
     "output_type": "display_data"
    }
   ],
   "source": [
    "diam_s = 10*un.mm\n",
    "\n",
    "s = 150*un.mm\n",
    "a_s = (diam_s**2*np.pi /4 /s).to(un.mm**2/un.m)\n",
    "\n",
    "put_out(symbolic=True)"
   ]
  },
  {
   "cell_type": "code",
   "execution_count": 3,
   "metadata": {},
   "outputs": [
    {
     "data": {
      "text/markdown": [
       "$$\n",
       "\\begin{aligned}\n",
       "f_{su}& = 558.6 \\ \\frac{\\mathrm{N}}{\\mathrm{mm}^{2}} \\quad & f_{sy}& = 445.6 \\ \\frac{\\mathrm{N}}{\\mathrm{mm}^{2}} \\quad & E_{s}& = 196.5 \\ \\frac{\\mathrm{kN}}{\\mathrm{mm}^{2}} \\\\ \n",
       "\\varepsilon_{sy}& = \\frac{f_{sy}}{E_{s}} = 2.27 \\ \\mathrm{‰} \\quad & \\varepsilon_{su}& = 80.8 \\ \\mathrm{‰} \\quad &  \n",
       " \\end{aligned}\n",
       "$$"
      ],
      "text/plain": [
       "<IPython.core.display.Markdown object>"
      ]
     },
     "metadata": {},
     "output_type": "display_data"
    }
   ],
   "source": [
    "f_su = 558.6*un.N/un.mm**2\n",
    "f_sy = 445.6*un.N/un.mm**2\n",
    "\n",
    "E_s = 196.5*un.kN/un.mm**2\n",
    "\n",
    "eps_sy = (f_sy / E_s).to(un.permille)\n",
    "eps_su = 80.8*un.permille\n",
    "\n",
    "put_out(symbolic=True)"
   ]
  },
  {
   "cell_type": "code",
   "execution_count": 4,
   "metadata": {},
   "outputs": [],
   "source": [
    "DF_b500b = pd.read_csv('imgs/tho_stress_strain_b500b.csv')\n",
    "DF_b500b['x'] = DF_b500b['x']/100\n",
    "\n"
   ]
  },
  {
   "cell_type": "code",
   "execution_count": 5,
   "metadata": {},
   "outputs": [],
   "source": [
    "# | echo: false\n",
    "\n",
    "stress_b500b_array = np.array([0, f_sy.m, f_su.m]) * un.MPa\n",
    "strain_b500b_array = np.array([0, eps_sy.to(un.los), eps_su.to(un.los)])\n",
    "\n",
    "fig_b500b, ax_b500b = plt.subplots()\n",
    "ax_b500b.plot(strain_b500b_array, stress_b500b_array.to(un.MPa).m, color=\"k\")\n",
    "ax_b500b.plot(DF_b500b.iloc[:,0], DF_b500b.iloc[:,1], color=\"gray\", alpha=0.5)\n",
    "\n",
    "# Scientific Notation if needed\n",
    "apply_scientific_notation(ax_b500b, stress_b500b_array.m)\n",
    "\n",
    "# Set axis labels\n",
    "ax_b500b.set_ylabel(r\"$\\sigma$ [N/mm$^2$]\")\n",
    "ax_b500b.set_xlabel(r\"$\\varepsilon_s$ [-]\")\n",
    "\n",
    "# Set limits\n",
    "# ax_b500b.set_xlim(xmax=140 / 1000)\n",
    "# ax_b500b.set_ylim(ymax=700)\n",
    "\n",
    "# Show the plot\n",
    "# plt.tight_layout()\n",
    "plt.savefig(\"imgs/tho_stress_strain_b500b.svg\")\n",
    "plt.close()"
   ]
  },
  {
   "cell_type": "markdown",
   "metadata": {},
   "source": [
    "![Spannungs-Dehnungs-Diagramm des Betonstahls B500B mit grau hinterlegten Versuchsdaten und die Idealisierung eines bilinearen Verlaufs](../imgs/tho_stress_strain_b500b.svg){#fig-tho_stress_strain_b500b}"
   ]
  },
  {
   "cell_type": "markdown",
   "metadata": {},
   "source": [
    "#### Beton "
   ]
  },
  {
   "cell_type": "code",
   "execution_count": 6,
   "metadata": {},
   "outputs": [
    {
     "data": {
      "text/markdown": [
       "$$\n",
       "\\begin{aligned}\n",
       "f_{cc}& = 28.61 \\ \\frac{\\mathrm{N}}{\\mathrm{mm}^{2}} \\quad & E_{c}& = 22.9 \\ \\frac{\\mathrm{kN}}{\\mathrm{mm}^{2}} \\quad & f_{c}& = 2.7 \\cdot f_{cc}^{\\frac{2}{3}} = 25.26 \\ \\frac{\\mathrm{N}}{\\mathrm{mm}^{2}} \\\\ \n",
       "f_{ct}& = 0.3 \\cdot f_{cc}^{\\frac{2}{3}} = 2.81 \\ \\frac{\\mathrm{N}}{\\mathrm{mm}^{2}} \\quad & \\varepsilon_{cu}& = 5.0 \\ \\mathrm{‰} \\quad &  \n",
       " \\end{aligned}\n",
       "$$"
      ],
      "text/plain": [
       "<IPython.core.display.Markdown object>"
      ]
     },
     "metadata": {},
     "output_type": "display_data"
    }
   ],
   "source": [
    "f_cc = 28.61*un.N/un.mm**2\n",
    "E_c = 22.9*un.kN/un.mm**2\n",
    "\n",
    "f_c = (2.7* f_cc.m**(2/3))*un.N/un.mm**2\n",
    "f_ct = (0.3* f_cc.m**(2/3))*un.N/un.mm**2\n",
    "\n",
    "eps_cu = 5.*un.permille\n",
    "\n",
    "put_out(symbolic=True, rows = 3)"
   ]
  },
  {
   "cell_type": "code",
   "execution_count": 7,
   "metadata": {},
   "outputs": [
    {
     "data": {
      "image/svg+xml": [
       "<?xml version=\"1.0\" encoding=\"utf-8\" standalone=\"no\"?>\n",
       "<!DOCTYPE svg PUBLIC \"-//W3C//DTD SVG 1.1//EN\"\n",
       "  \"http://www.w3.org/Graphics/SVG/1.1/DTD/svg11.dtd\">\n",
       "<svg xmlns:xlink=\"http://www.w3.org/1999/xlink\" width=\"166.610269pt\" height=\"146.096794pt\" viewBox=\"0 0 166.610269 146.096794\" xmlns=\"http://www.w3.org/2000/svg\" version=\"1.1\">\n",
       " <metadata>\n",
       "  <rdf:RDF xmlns:dc=\"http://purl.org/dc/elements/1.1/\" xmlns:cc=\"http://creativecommons.org/ns#\" xmlns:rdf=\"http://www.w3.org/1999/02/22-rdf-syntax-ns#\">\n",
       "   <cc:Work>\n",
       "    <dc:type rdf:resource=\"http://purl.org/dc/dcmitype/StillImage\"/>\n",
       "    <dc:date>2024-10-29T15:13:40.961022</dc:date>\n",
       "    <dc:format>image/svg+xml</dc:format>\n",
       "    <dc:creator>\n",
       "     <cc:Agent>\n",
       "      <dc:title>Matplotlib v3.9.2, https://matplotlib.org/</dc:title>\n",
       "     </cc:Agent>\n",
       "    </dc:creator>\n",
       "   </cc:Work>\n",
       "  </rdf:RDF>\n",
       " </metadata>\n",
       " <defs>\n",
       "  <style type=\"text/css\">*{stroke-linejoin: round; stroke-linecap: butt}</style>\n",
       " </defs>\n",
       " <g id=\"figure_1\">\n",
       "  <g id=\"patch_1\">\n",
       "   <path d=\"M 0 146.096794 \n",
       "L 166.610269 146.096794 \n",
       "L 166.610269 0 \n",
       "L 0 0 \n",
       "z\n",
       "\" style=\"fill: #ffffff\"/>\n",
       "  </g>\n",
       "  <g id=\"axes_1\">\n",
       "   <g id=\"patch_2\">\n",
       "    <path d=\"M 40.355151 114.349606 \n",
       "L 159.410269 114.349606 \n",
       "L 159.410269 7.2 \n",
       "L 40.355151 7.2 \n",
       "z\n",
       "\" style=\"fill: #ffffff\"/>\n",
       "   </g>\n",
       "   <g id=\"matplotlib.axis_1\">\n",
       "    <g id=\"xtick_1\">\n",
       "     <g id=\"line2d_1\">\n",
       "      <path d=\"M 66.895291 114.349606 \n",
       "L 66.895291 7.2 \n",
       "\" clip-path=\"url(#peb26c63776)\" style=\"fill: none; stroke-dasharray: 0.74,0.32; stroke-dashoffset: 0; stroke: #808080; stroke-opacity: 0.7; stroke-width: 0.2\"/>\n",
       "     </g>\n",
       "     <g id=\"line2d_2\">\n",
       "      <defs>\n",
       "       <path id=\"m40b7491999\" d=\"M 0 0 \n",
       "L 0 -3.5 \n",
       "\" style=\"stroke: #000000; stroke-width: 0.5\"/>\n",
       "      </defs>\n",
       "      <g>\n",
       "       <use xlink:href=\"#m40b7491999\" x=\"66.895291\" y=\"114.349606\" style=\"stroke: #000000; stroke-width: 0.5\"/>\n",
       "      </g>\n",
       "     </g>\n",
       "     <g id=\"text_1\">\n",
       "      <!-- $\\mathdefault{−4}$ -->\n",
       "      <g transform=\"translate(61.484946 123.384408) scale(0.08 -0.08)\">\n",
       "       <defs>\n",
       "        <path id=\"CMSY10-0\" d=\"M 4218 1472 \n",
       "C 4326 1472 4442 1472 4442 1600 \n",
       "C 4442 1728 4326 1728 4218 1728 \n",
       "L 755 1728 \n",
       "C 646 1728 531 1728 531 1600 \n",
       "C 531 1472 646 1472 755 1472 \n",
       "L 4218 1472 \n",
       "z\n",
       "\" transform=\"scale(0.015625)\"/>\n",
       "        <path id=\"CMR17-34\" d=\"M 2150 4122 \n",
       "C 2150 4256 2144 4256 2029 4256 \n",
       "L 128 1254 \n",
       "L 128 1088 \n",
       "L 1779 1088 \n",
       "L 1779 457 \n",
       "C 1779 224 1766 160 1318 160 \n",
       "L 1197 160 \n",
       "L 1197 0 \n",
       "C 1402 0 1747 0 1965 0 \n",
       "C 2182 0 2528 0 2733 0 \n",
       "L 2733 160 \n",
       "L 2611 160 \n",
       "C 2163 160 2150 224 2150 457 \n",
       "L 2150 1088 \n",
       "L 2803 1088 \n",
       "L 2803 1254 \n",
       "L 2150 1254 \n",
       "L 2150 4122 \n",
       "z\n",
       "M 1798 3703 \n",
       "L 1798 1254 \n",
       "L 256 1254 \n",
       "L 1798 3703 \n",
       "z\n",
       "\" transform=\"scale(0.015625)\"/>\n",
       "       </defs>\n",
       "       <use xlink:href=\"#CMSY10-0\" transform=\"scale(0.996264)\"/>\n",
       "       <use xlink:href=\"#CMR17-34\" transform=\"translate(77.487468 0) scale(0.996264)\"/>\n",
       "      </g>\n",
       "     </g>\n",
       "    </g>\n",
       "    <g id=\"xtick_2\">\n",
       "     <g id=\"line2d_3\">\n",
       "      <path d=\"M 109.152377 114.349606 \n",
       "L 109.152377 7.2 \n",
       "\" clip-path=\"url(#peb26c63776)\" style=\"fill: none; stroke-dasharray: 0.74,0.32; stroke-dashoffset: 0; stroke: #808080; stroke-opacity: 0.7; stroke-width: 0.2\"/>\n",
       "     </g>\n",
       "     <g id=\"line2d_4\">\n",
       "      <g>\n",
       "       <use xlink:href=\"#m40b7491999\" x=\"109.152377\" y=\"114.349606\" style=\"stroke: #000000; stroke-width: 0.5\"/>\n",
       "      </g>\n",
       "     </g>\n",
       "     <g id=\"text_2\">\n",
       "      <!-- $\\mathdefault{−2}$ -->\n",
       "      <g transform=\"translate(103.742032 123.384408) scale(0.08 -0.08)\">\n",
       "       <defs>\n",
       "        <path id=\"CMR17-32\" d=\"M 2669 989 \n",
       "L 2554 989 \n",
       "C 2490 536 2438 459 2413 420 \n",
       "C 2381 369 1920 369 1830 369 \n",
       "L 602 369 \n",
       "C 832 619 1280 1072 1824 1597 \n",
       "C 2214 1967 2669 2402 2669 3035 \n",
       "C 2669 3790 2067 4224 1395 4224 \n",
       "C 691 4224 262 3604 262 3030 \n",
       "C 262 2780 448 2748 525 2748 \n",
       "C 589 2748 781 2787 781 3010 \n",
       "C 781 3207 614 3264 525 3264 \n",
       "C 486 3264 448 3258 422 3245 \n",
       "C 544 3790 915 4058 1306 4058 \n",
       "C 1862 4058 2227 3617 2227 3035 \n",
       "C 2227 2479 1901 2000 1536 1584 \n",
       "L 262 146 \n",
       "L 262 0 \n",
       "L 2515 0 \n",
       "L 2669 989 \n",
       "z\n",
       "\" transform=\"scale(0.015625)\"/>\n",
       "       </defs>\n",
       "       <use xlink:href=\"#CMSY10-0\" transform=\"scale(0.996264)\"/>\n",
       "       <use xlink:href=\"#CMR17-32\" transform=\"translate(77.487468 0) scale(0.996264)\"/>\n",
       "      </g>\n",
       "     </g>\n",
       "    </g>\n",
       "    <g id=\"xtick_3\">\n",
       "     <g id=\"line2d_5\">\n",
       "      <path d=\"M 151.409463 114.349606 \n",
       "L 151.409463 7.2 \n",
       "\" clip-path=\"url(#peb26c63776)\" style=\"fill: none; stroke-dasharray: 0.74,0.32; stroke-dashoffset: 0; stroke: #808080; stroke-opacity: 0.7; stroke-width: 0.2\"/>\n",
       "     </g>\n",
       "     <g id=\"line2d_6\">\n",
       "      <g>\n",
       "       <use xlink:href=\"#m40b7491999\" x=\"151.409463\" y=\"114.349606\" style=\"stroke: #000000; stroke-width: 0.5\"/>\n",
       "      </g>\n",
       "     </g>\n",
       "     <g id=\"text_3\">\n",
       "      <!-- $\\mathdefault{0}$ -->\n",
       "      <g transform=\"translate(149.292372 123.384408) scale(0.08 -0.08)\">\n",
       "       <defs>\n",
       "        <path id=\"CMR17-30\" d=\"M 2688 2025 \n",
       "C 2688 2416 2682 3080 2413 3591 \n",
       "C 2176 4039 1798 4198 1466 4198 \n",
       "C 1158 4198 768 4058 525 3597 \n",
       "C 269 3118 243 2524 243 2025 \n",
       "C 243 1661 250 1106 448 619 \n",
       "C 723 -39 1216 -128 1466 -128 \n",
       "C 1760 -128 2208 -7 2470 600 \n",
       "C 2662 1042 2688 1559 2688 2025 \n",
       "z\n",
       "M 1466 -26 \n",
       "C 1056 -26 813 325 723 812 \n",
       "C 653 1188 653 1738 653 2096 \n",
       "C 653 2588 653 2997 736 3387 \n",
       "C 858 3929 1216 4096 1466 4096 \n",
       "C 1728 4096 2067 3923 2189 3400 \n",
       "C 2272 3036 2278 2607 2278 2096 \n",
       "C 2278 1680 2278 1169 2202 792 \n",
       "C 2067 95 1690 -26 1466 -26 \n",
       "z\n",
       "\" transform=\"scale(0.015625)\"/>\n",
       "       </defs>\n",
       "       <use xlink:href=\"#CMR17-30\" transform=\"scale(0.996264)\"/>\n",
       "      </g>\n",
       "     </g>\n",
       "    </g>\n",
       "    <g id=\"text_4\">\n",
       "     <!-- $\\varepsilon_c$ [-] -->\n",
       "     <g transform=\"translate(89.442286 136.406134) scale(0.1 -0.1)\">\n",
       "      <defs>\n",
       "       <path id=\"CMMI12-22\" d=\"M 890 1427 \n",
       "C 1094 1345 1312 1345 1434 1345 \n",
       "C 1600 1345 1933 1345 1933 1550 \n",
       "C 1933 1678 1811 1728 1485 1728 \n",
       "C 1325 1728 1133 1709 909 1613 \n",
       "C 710 1708 634 1852 634 1990 \n",
       "C 634 2379 1261 2606 1830 2606 \n",
       "C 1939 2606 2170 2606 2438 2411 \n",
       "C 2477 2387 2496 2367 2541 2367 \n",
       "C 2618 2367 2701 2449 2701 2526 \n",
       "C 2701 2639 2330 2880 1888 2880 \n",
       "C 1171 2880 493 2449 493 1972 \n",
       "C 493 1734 646 1586 755 1509 \n",
       "C 384 1301 166 961 166 652 \n",
       "C 166 219 563 -128 1178 -128 \n",
       "C 2022 -128 2362 424 2362 512 \n",
       "C 2362 543 2336 568 2304 568 \n",
       "C 2272 568 2259 549 2234 512 \n",
       "C 2163 395 1997 146 1235 146 \n",
       "C 838 146 314 245 314 686 \n",
       "C 314 898 474 1214 890 1427 \n",
       "z\n",
       "M 1088 1518 \n",
       "C 1261 1600 1427 1600 1472 1600 \n",
       "C 1651 1600 1683 1583 1786 1545 \n",
       "C 1677 1472 1664 1472 1434 1472 \n",
       "C 1318 1472 1216 1472 1088 1518 \n",
       "z\n",
       "\" transform=\"scale(0.015625)\"/>\n",
       "       <path id=\"CMMI12-63\" d=\"M 2502 2431 \n",
       "C 2381 2431 2323 2431 2234 2355 \n",
       "C 2195 2323 2125 2227 2125 2125 \n",
       "C 2125 1997 2221 1920 2342 1920 \n",
       "C 2496 1920 2669 2044 2669 2292 \n",
       "C 2669 2588 2374 2816 1933 2816 \n",
       "C 1094 2816 256 1903 256 996 \n",
       "C 256 441 602 -64 1254 -64 \n",
       "C 2125 -64 2675 622 2675 706 \n",
       "C 2675 744 2637 776 2611 776 \n",
       "C 2592 776 2586 770 2528 713 \n",
       "C 2118 162 1510 64 1267 64 \n",
       "C 826 64 685 446 685 764 \n",
       "C 685 988 794 1605 1024 2039 \n",
       "C 1190 2338 1536 2682 1939 2682 \n",
       "C 2022 2682 2374 2682 2502 2431 \n",
       "z\n",
       "\" transform=\"scale(0.015625)\"/>\n",
       "       <path id=\"CMR17-5b\" d=\"M 1504 -1600 \n",
       "L 1504 -1377 \n",
       "L 902 -1377 \n",
       "L 902 4544 \n",
       "L 1504 4544 \n",
       "L 1504 4767 \n",
       "L 678 4767 \n",
       "L 678 -1600 \n",
       "L 1504 -1600 \n",
       "z\n",
       "\" transform=\"scale(0.015625)\"/>\n",
       "       <path id=\"CMR17-2d\" d=\"M 1632 1216 \n",
       "L 1632 1496 \n",
       "L 26 1496 \n",
       "L 26 1216 \n",
       "L 1632 1216 \n",
       "z\n",
       "\" transform=\"scale(0.015625)\"/>\n",
       "       <path id=\"CMR17-5d\" d=\"M 915 4767 \n",
       "L 90 4767 \n",
       "L 90 4544 \n",
       "L 691 4544 \n",
       "L 691 -1377 \n",
       "L 90 -1377 \n",
       "L 90 -1600 \n",
       "L 915 -1600 \n",
       "L 915 4767 \n",
       "z\n",
       "\" transform=\"scale(0.015625)\"/>\n",
       "      </defs>\n",
       "      <use xlink:href=\"#CMMI12-22\" transform=\"scale(0.996264)\"/>\n",
       "      <use xlink:href=\"#CMMI12-63\" transform=\"translate(45.650192 -14.943915) scale(0.697382)\"/>\n",
       "      <use xlink:href=\"#CMR17-5b\" transform=\"translate(105.612422 0) scale(0.996264)\"/>\n",
       "      <use xlink:href=\"#CMR17-2d\" transform=\"translate(130.483481 0) scale(0.996264)\"/>\n",
       "      <use xlink:href=\"#CMR17-5d\" transform=\"translate(160.559447 0) scale(0.996264)\"/>\n",
       "     </g>\n",
       "    </g>\n",
       "    <g id=\"text_5\">\n",
       "     <!-- $\\times\\mathdefault{10^{−3}}\\mathdefault{}$ -->\n",
       "     <g transform=\"translate(134.946345 133.879662) scale(0.08 -0.08)\">\n",
       "      <defs>\n",
       "       <path id=\"CMSY10-2\" d=\"M 2490 1785 \n",
       "L 1210 3059 \n",
       "C 1133 3136 1120 3148 1069 3148 \n",
       "C 1005 3148 941 3091 941 3020 \n",
       "C 941 2976 954 2963 1024 2892 \n",
       "L 2304 1606 \n",
       "L 1024 320 \n",
       "C 954 249 941 236 941 192 \n",
       "C 941 121 1005 64 1069 64 \n",
       "C 1120 64 1133 76 1210 153 \n",
       "L 2483 1427 \n",
       "L 3808 102 \n",
       "C 3821 96 3866 64 3904 64 \n",
       "C 3981 64 4032 121 4032 192 \n",
       "C 4032 204 4032 230 4013 262 \n",
       "C 4006 275 2989 1280 2669 1606 \n",
       "L 3840 2777 \n",
       "C 3872 2816 3968 2899 4000 2937 \n",
       "C 4006 2950 4032 2976 4032 3020 \n",
       "C 4032 3091 3981 3148 3904 3148 \n",
       "C 3853 3148 3827 3123 3757 3052 \n",
       "L 2490 1785 \n",
       "z\n",
       "\" transform=\"scale(0.015625)\"/>\n",
       "       <path id=\"CMR17-31\" d=\"M 1702 4058 \n",
       "C 1702 4192 1696 4192 1606 4192 \n",
       "C 1357 3916 979 3827 621 3827 \n",
       "C 602 3827 570 3827 563 3808 \n",
       "C 557 3795 557 3782 557 3648 \n",
       "C 755 3648 1088 3686 1344 3839 \n",
       "L 1344 461 \n",
       "C 1344 236 1331 160 781 160 \n",
       "L 589 160 \n",
       "L 589 0 \n",
       "C 896 0 1216 0 1523 0 \n",
       "C 1830 0 2150 0 2458 0 \n",
       "L 2458 160 \n",
       "L 2266 160 \n",
       "C 1715 160 1702 230 1702 458 \n",
       "L 1702 4058 \n",
       "z\n",
       "\" transform=\"scale(0.015625)\"/>\n",
       "       <path id=\"CMR17-33\" d=\"M 1414 2157 \n",
       "C 1984 2157 2234 1662 2234 1090 \n",
       "C 2234 320 1824 25 1453 25 \n",
       "C 1114 25 563 194 390 693 \n",
       "C 422 680 454 680 486 680 \n",
       "C 640 680 755 782 755 948 \n",
       "C 755 1133 614 1216 486 1216 \n",
       "C 378 1216 211 1165 211 926 \n",
       "C 211 335 787 -128 1466 -128 \n",
       "C 2176 -128 2720 430 2720 1085 \n",
       "C 2720 1707 2208 2157 1600 2227 \n",
       "C 2086 2328 2554 2756 2554 3329 \n",
       "C 2554 3820 2048 4179 1472 4179 \n",
       "C 890 4179 378 3829 378 3329 \n",
       "C 378 3110 544 3072 627 3072 \n",
       "C 762 3072 877 3155 877 3321 \n",
       "C 877 3486 762 3569 627 3569 \n",
       "C 602 3569 570 3569 544 3557 \n",
       "C 730 3959 1235 4032 1459 4032 \n",
       "C 1683 4032 2106 3925 2106 3320 \n",
       "C 2106 3143 2080 2828 1862 2550 \n",
       "C 1670 2304 1453 2304 1242 2284 \n",
       "C 1210 2284 1062 2269 1037 2269 \n",
       "C 992 2263 966 2257 966 2208 \n",
       "C 966 2163 973 2157 1101 2157 \n",
       "L 1414 2157 \n",
       "z\n",
       "\" transform=\"scale(0.015625)\"/>\n",
       "      </defs>\n",
       "      <use xlink:href=\"#CMSY10-2\" transform=\"scale(0.996264)\"/>\n",
       "      <use xlink:href=\"#CMR17-31\" transform=\"translate(77.487468 0) scale(0.996264)\"/>\n",
       "      <use xlink:href=\"#CMR17-30\" transform=\"translate(123.177945 0) scale(0.996264)\"/>\n",
       "      <use xlink:href=\"#CMSY10-0\" transform=\"translate(168.868422 36.153639) scale(0.697382)\"/>\n",
       "      <use xlink:href=\"#CMR17-33\" transform=\"translate(223.109415 36.153639) scale(0.697382)\"/>\n",
       "     </g>\n",
       "    </g>\n",
       "   </g>\n",
       "   <g id=\"matplotlib.axis_2\">\n",
       "    <g id=\"ytick_1\">\n",
       "     <g id=\"line2d_7\">\n",
       "      <path d=\"M 40.355151 91.232928 \n",
       "L 159.410269 91.232928 \n",
       "\" clip-path=\"url(#peb26c63776)\" style=\"fill: none; stroke-dasharray: 0.74,0.32; stroke-dashoffset: 0; stroke: #808080; stroke-opacity: 0.7; stroke-width: 0.2\"/>\n",
       "     </g>\n",
       "     <g id=\"line2d_8\">\n",
       "      <defs>\n",
       "       <path id=\"m0d92c0dcfb\" d=\"M 0 0 \n",
       "L 3.5 0 \n",
       "\" style=\"stroke: #000000; stroke-width: 0.5\"/>\n",
       "      </defs>\n",
       "      <g>\n",
       "       <use xlink:href=\"#m0d92c0dcfb\" x=\"40.355151\" y=\"91.232928\" style=\"stroke: #000000; stroke-width: 0.5\"/>\n",
       "      </g>\n",
       "     </g>\n",
       "     <g id=\"text_6\">\n",
       "      <!-- $\\mathdefault{−20}$ -->\n",
       "      <g transform=\"translate(21.800279 94.000329) scale(0.08 -0.08)\">\n",
       "       <use xlink:href=\"#CMSY10-0\" transform=\"scale(0.996264)\"/>\n",
       "       <use xlink:href=\"#CMR17-32\" transform=\"translate(77.487468 0) scale(0.996264)\"/>\n",
       "       <use xlink:href=\"#CMR17-30\" transform=\"translate(123.177945 0) scale(0.996264)\"/>\n",
       "      </g>\n",
       "     </g>\n",
       "    </g>\n",
       "    <g id=\"ytick_2\">\n",
       "     <g id=\"line2d_9\">\n",
       "      <path d=\"M 40.355151 56.522119 \n",
       "L 159.410269 56.522119 \n",
       "\" clip-path=\"url(#peb26c63776)\" style=\"fill: none; stroke-dasharray: 0.74,0.32; stroke-dashoffset: 0; stroke: #808080; stroke-opacity: 0.7; stroke-width: 0.2\"/>\n",
       "     </g>\n",
       "     <g id=\"line2d_10\">\n",
       "      <g>\n",
       "       <use xlink:href=\"#m0d92c0dcfb\" x=\"40.355151\" y=\"56.522119\" style=\"stroke: #000000; stroke-width: 0.5\"/>\n",
       "      </g>\n",
       "     </g>\n",
       "     <g id=\"text_7\">\n",
       "      <!-- $\\mathdefault{−10}$ -->\n",
       "      <g transform=\"translate(21.800279 59.28952) scale(0.08 -0.08)\">\n",
       "       <use xlink:href=\"#CMSY10-0\" transform=\"scale(0.996264)\"/>\n",
       "       <use xlink:href=\"#CMR17-31\" transform=\"translate(77.487468 0) scale(0.996264)\"/>\n",
       "       <use xlink:href=\"#CMR17-30\" transform=\"translate(123.177945 0) scale(0.996264)\"/>\n",
       "      </g>\n",
       "     </g>\n",
       "    </g>\n",
       "    <g id=\"ytick_3\">\n",
       "     <g id=\"line2d_11\">\n",
       "      <path d=\"M 40.355151 21.81131 \n",
       "L 159.410269 21.81131 \n",
       "\" clip-path=\"url(#peb26c63776)\" style=\"fill: none; stroke-dasharray: 0.74,0.32; stroke-dashoffset: 0; stroke: #808080; stroke-opacity: 0.7; stroke-width: 0.2\"/>\n",
       "     </g>\n",
       "     <g id=\"line2d_12\">\n",
       "      <g>\n",
       "       <use xlink:href=\"#m0d92c0dcfb\" x=\"40.355151\" y=\"21.81131\" style=\"stroke: #000000; stroke-width: 0.5\"/>\n",
       "      </g>\n",
       "     </g>\n",
       "     <g id=\"text_8\">\n",
       "      <!-- $\\mathdefault{0}$ -->\n",
       "      <g transform=\"translate(32.620968 24.578711) scale(0.08 -0.08)\">\n",
       "       <use xlink:href=\"#CMR17-30\" transform=\"scale(0.996264)\"/>\n",
       "      </g>\n",
       "     </g>\n",
       "    </g>\n",
       "    <g id=\"text_9\">\n",
       "     <!-- $\\sigma$ [N/mm$^2$] -->\n",
       "     <g transform=\"translate(15.309619 84.991334) rotate(-90) scale(0.1 -0.1)\">\n",
       "      <defs>\n",
       "       <path id=\"CMMI12-1b\" d=\"M 3251 2408 \n",
       "C 3334 2408 3546 2408 3546 2612 \n",
       "C 3546 2752 3424 2752 3309 2752 \n",
       "L 1894 2752 \n",
       "C 934 2752 243 1686 243 932 \n",
       "C 243 390 595 -64 1171 -64 \n",
       "C 1926 -64 2752 747 2752 1705 \n",
       "C 2752 1954 2694 2196 2541 2408 \n",
       "L 3251 2408 \n",
       "z\n",
       "M 1178 64 \n",
       "C 851 64 614 313 614 754 \n",
       "C 614 1137 845 2408 1786 2408 \n",
       "C 2061 2408 2368 2274 2368 1781 \n",
       "C 2368 1558 2266 1021 2042 652 \n",
       "C 1811 275 1466 64 1178 64 \n",
       "z\n",
       "\" transform=\"scale(0.015625)\"/>\n",
       "       <path id=\"CMR17-4e\" d=\"M 1312 4250 \n",
       "C 1267 4320 1261 4320 1139 4320 \n",
       "L 326 4320 \n",
       "L 326 4160 \n",
       "L 448 4160 \n",
       "C 704 4160 819 4129 838 4122 \n",
       "L 838 610 \n",
       "C 838 451 838 153 326 153 \n",
       "L 326 -13 \n",
       "C 474 0 742 0 902 0 \n",
       "C 1062 0 1331 0 1478 -13 \n",
       "L 1478 153 \n",
       "C 966 153 966 451 966 610 \n",
       "L 966 4033 \n",
       "C 1011 3995 1011 3982 1056 3919 \n",
       "L 3430 76 \n",
       "C 3475 0 3494 0 3526 0 \n",
       "C 3590 0 3590 19 3590 139 \n",
       "L 3590 3705 \n",
       "C 3590 3863 3590 4160 4102 4160 \n",
       "L 4102 4326 \n",
       "C 3955 4320 3686 4320 3526 4320 \n",
       "C 3366 4320 3098 4320 2950 4326 \n",
       "L 2950 4160 \n",
       "C 3462 4160 3462 3862 3462 3703 \n",
       "L 3462 763 \n",
       "L 1312 4250 \n",
       "z\n",
       "\" transform=\"scale(0.015625)\"/>\n",
       "       <path id=\"CMR17-2f\" d=\"M 2605 4545 \n",
       "C 2637 4627 2637 4640 2637 4653 \n",
       "C 2637 4729 2579 4768 2528 4768 \n",
       "C 2451 4768 2426 4717 2400 4640 \n",
       "L 326 -1377 \n",
       "C 294 -1460 294 -1473 294 -1486 \n",
       "C 294 -1562 352 -1600 403 -1600 \n",
       "C 480 -1600 506 -1549 531 -1473 \n",
       "L 2605 4545 \n",
       "z\n",
       "\" transform=\"scale(0.015625)\"/>\n",
       "       <path id=\"CMR17-6d\" d=\"M 4326 1933 \n",
       "C 4326 2252 4269 2790 3507 2790 \n",
       "C 3072 2790 2771 2496 2656 2151 \n",
       "L 2650 2151 \n",
       "C 2573 2676 2195 2790 1837 2790 \n",
       "C 1331 2790 1069 2400 973 2144 \n",
       "L 966 2144 \n",
       "L 966 2790 \n",
       "L 211 2720 \n",
       "L 211 2554 \n",
       "C 589 2554 646 2515 646 2208 \n",
       "L 646 428 \n",
       "C 646 184 621 153 211 153 \n",
       "L 211 -13 \n",
       "C 365 0 646 0 813 0 \n",
       "C 979 0 1267 0 1421 -13 \n",
       "L 1421 153 \n",
       "C 1011 153 986 178 986 428 \n",
       "L 986 1658 \n",
       "C 986 2247 1344 2688 1792 2688 \n",
       "C 2266 2688 2317 2266 2317 1958 \n",
       "L 2317 428 \n",
       "C 2317 184 2291 153 1882 153 \n",
       "L 1882 -13 \n",
       "C 2035 0 2317 0 2483 0 \n",
       "C 2650 0 2938 0 3091 -13 \n",
       "L 3091 153 \n",
       "C 2682 153 2656 178 2656 428 \n",
       "L 2656 1658 \n",
       "C 2656 2247 3014 2688 3462 2688 \n",
       "C 3936 2688 3987 2266 3987 1958 \n",
       "L 3987 428 \n",
       "C 3987 184 3962 153 3552 153 \n",
       "L 3552 -13 \n",
       "C 3706 0 3987 0 4154 0 \n",
       "C 4320 0 4608 0 4762 -13 \n",
       "L 4762 153 \n",
       "C 4352 153 4326 178 4326 428 \n",
       "L 4326 1933 \n",
       "z\n",
       "\" transform=\"scale(0.015625)\"/>\n",
       "      </defs>\n",
       "      <use xlink:href=\"#CMMI12-1b\" transform=\"scale(0.996264)\"/>\n",
       "      <use xlink:href=\"#CMR17-5b\" transform=\"translate(89.09602 0) scale(0.996264)\"/>\n",
       "      <use xlink:href=\"#CMR17-4e\" transform=\"translate(113.967078 0) scale(0.996264)\"/>\n",
       "      <use xlink:href=\"#CMR17-2f\" transform=\"translate(183.039508 0) scale(0.996264)\"/>\n",
       "      <use xlink:href=\"#CMR17-6d\" transform=\"translate(228.729985 0) scale(0.996264)\"/>\n",
       "      <use xlink:href=\"#CMR17-6d\" transform=\"translate(305.649575 0) scale(0.996264)\"/>\n",
       "      <use xlink:href=\"#CMR17-32\" transform=\"translate(382.569165 36.153639) scale(0.697382)\"/>\n",
       "      <use xlink:href=\"#CMR17-5d\" transform=\"translate(415.050479 0) scale(0.996264)\"/>\n",
       "     </g>\n",
       "    </g>\n",
       "   </g>\n",
       "   <g id=\"line2d_13\">\n",
       "    <path d=\"M 153.998673 12.070437 \n",
       "L 128.106576 109.47917 \n",
       "L 45.766747 109.47917 \n",
       "\" clip-path=\"url(#peb26c63776)\" style=\"fill: none; stroke: #000000; stroke-width: 0.7; stroke-linecap: square\"/>\n",
       "   </g>\n",
       "   <g id=\"patch_3\">\n",
       "    <path d=\"M 40.355151 114.349606 \n",
       "L 40.355151 7.2 \n",
       "\" style=\"fill: none; stroke: #000000; stroke-width: 0.5; stroke-linejoin: miter; stroke-linecap: square\"/>\n",
       "   </g>\n",
       "   <g id=\"patch_4\">\n",
       "    <path d=\"M 159.410269 114.349606 \n",
       "L 159.410269 7.2 \n",
       "\" style=\"fill: none; stroke: #000000; stroke-width: 0.5; stroke-linejoin: miter; stroke-linecap: square\"/>\n",
       "   </g>\n",
       "   <g id=\"patch_5\">\n",
       "    <path d=\"M 40.355151 114.349606 \n",
       "L 159.410269 114.349606 \n",
       "\" style=\"fill: none; stroke: #000000; stroke-width: 0.5; stroke-linejoin: miter; stroke-linecap: square\"/>\n",
       "   </g>\n",
       "   <g id=\"patch_6\">\n",
       "    <path d=\"M 40.355151 7.2 \n",
       "L 159.410269 7.2 \n",
       "\" style=\"fill: none; stroke: #000000; stroke-width: 0.5; stroke-linejoin: miter; stroke-linecap: square\"/>\n",
       "   </g>\n",
       "  </g>\n",
       " </g>\n",
       " <defs>\n",
       "  <clipPath id=\"peb26c63776\">\n",
       "   <rect x=\"40.355151\" y=\"7.2\" width=\"119.055118\" height=\"107.149606\"/>\n",
       "  </clipPath>\n",
       " </defs>\n",
       "</svg>\n"
      ],
      "text/plain": [
       "<Figure size 236.22x212.598 with 1 Axes>"
      ]
     },
     "metadata": {},
     "output_type": "display_data"
    }
   ],
   "source": [
    "# | echo: false\n",
    "\n",
    "stress_c_array = np.array([f_ct.m, -f_c.m, -f_c.m]) * un.MPa\n",
    "strain_c_array = np.array([f_ct/E_c, -f_c/E_c, -eps_cu.to(un.los)])\n",
    "\n",
    "fig_c, ax_c = plt.subplots()\n",
    "ax_c.plot(strain_c_array, stress_c_array.to(un.MPa).m, color=\"k\")\n",
    "\n",
    "# Scientific Notation if needed\n",
    "apply_scientific_notation(ax_c, stress_c_array.m)\n",
    "\n",
    "# Set axis labels\n",
    "ax_c.set_ylabel(r\"$\\sigma$ [N/mm$^2$]\")\n",
    "ax_c.set_xlabel(r\"$\\varepsilon_c$ [-]\")\n",
    "\n",
    "# Set limits\n",
    "# ax_c.set_xlim(xmax=7 / 1000)\n",
    "# ax_c.set_ylim(ymax=50)\n",
    "\n",
    "# Show the plot\n",
    "# plt.tight_layout()\n",
    "plt.savefig(\"imgs/tho_stress_strain_c.svg\")\n",
    "# plt.close()"
   ]
  },
  {
   "cell_type": "markdown",
   "metadata": {},
   "source": [
    "#### Geometrie"
   ]
  },
  {
   "cell_type": "code",
   "execution_count": 8,
   "metadata": {},
   "outputs": [
    {
     "data": {
      "text/markdown": [
       "$$\n",
       "\\begin{aligned}\n",
       "h& = 200 \\ \\mathrm{mm} \\quad & c_{nom}& = 20 \\ \\mathrm{mm} \\quad &  \n",
       " \\end{aligned}\n",
       "$$"
      ],
      "text/plain": [
       "<IPython.core.display.Markdown object>"
      ]
     },
     "metadata": {},
     "output_type": "display_data"
    }
   ],
   "source": [
    "h = 200*un.mm\n",
    "c_nom = 20*un.mm\n",
    "\n",
    "put_out()"
   ]
  },
  {
   "cell_type": "markdown",
   "metadata": {},
   "source": [
    "### Versuchsergebnisse"
   ]
  },
  {
   "cell_type": "code",
   "execution_count": 9,
   "metadata": {},
   "outputs": [],
   "source": [
    "DF_res_V10 = pd.read_csv('imgs/tho_res_V10.csv')\n"
   ]
  },
  {
   "cell_type": "code",
   "execution_count": 10,
   "metadata": {},
   "outputs": [],
   "source": [
    "# | echo: false\n",
    "\n",
    "\n",
    "fig_res_V10, ax_res_V10 = plt.subplots()\n",
    "ax_res_V10.plot(DF_res_V10.iloc[:,0], DF_res_V10.iloc[:,1], color=\"k\")\n",
    "\n",
    "\n",
    "# Set axis labels\n",
    "ax_res_V10.set_ylabel(r\"$F$ [kN]\")\n",
    "ax_res_V10.set_xlabel(r\"$w_{V10}$ [mm]\")\n",
    "\n",
    "# Set limits\n",
    "# ax_b500b.set_xlim(xmax=140 / 1000)\n",
    "# ax_b500b.set_ylim(ymax=700)\n",
    "\n",
    "# Show the plot\n",
    "# plt.tight_layout()\n",
    "plt.savefig(\"imgs/tho_res_V10.svg\")\n",
    "plt.close()"
   ]
  },
  {
   "cell_type": "markdown",
   "metadata": {},
   "source": [
    "![Kraft-Verformungs-Diagramm an der Stelle $V10$, entnommen aus dem Versuchsbericht](../imgs/tho_res_V10.svg){#fig-tho_res_V10}"
   ]
  },
  {
   "cell_type": "markdown",
   "metadata": {},
   "source": [
    "## Modellierung\n",
    "\n",
    "![Ein Trägerrostmodell zur Ermittlung des Biegeverhaltens. Der Abstand der Balken ist hier lediglich schematisch gezeigt](../imgs/tho_rost_iso.svg){#fig-tho_rost_iso}\n",
    "\n",
    "Folgende Effekte werden beim Modell berücksichtigt:\n",
    "- Biegetragverhalten\n",
    "- Drillmomente, sprich Torsion der Stäbe im Trägerrost."
   ]
  },
  {
   "cell_type": "markdown",
   "metadata": {},
   "source": [
    "### Querschnittsanalyse"
   ]
  },
  {
   "cell_type": "markdown",
   "metadata": {},
   "source": [
    "\n",
    "![Querschnittsanalyse](../imgs/thesis_skizzen-2.jpg)\n",
    "\n"
   ]
  },
  {
   "cell_type": "markdown",
   "metadata": {},
   "source": [
    "Rissmoment"
   ]
  },
  {
   "cell_type": "code",
   "execution_count": 11,
   "metadata": {},
   "outputs": [
    {
     "data": {
      "text/markdown": [
       "$$\n",
       "\\begin{aligned}\n",
       "b_{w}& = 1.0 \\ \\mathrm{m} \\quad & z& = \\frac{2 \\cdot h}{3} = 133.33 \\ \\mathrm{mm} \\quad & F_{c}& = \\frac{b_{w} \\cdot f_{ct} \\cdot h}{4} = 140.31 \\ \\mathrm{kN} \\\\ \n",
       "M_{r}& = F_{c} \\cdot z = 18.71 \\ \\mathrm{kNm} \\quad & \\chi_{r}& = \\frac{2 \\cdot f_{ct}}{E_{c} \\cdot h} = 1.23 \\ \\frac{1}{\\mathrm{km}} \\quad &  \n",
       " \\end{aligned}\n",
       "$$"
      ],
      "text/plain": [
       "<IPython.core.display.Markdown object>"
      ]
     },
     "metadata": {},
     "output_type": "display_data"
    }
   ],
   "source": [
    "b_w = 1.*un.m\n",
    "z = h - 2/3 * h/2\n",
    "F_c = (h/2 * f_ct * b_w *1/2).to(un.kN)\n",
    "M_r = (F_c * z).to(un.kNm)\n",
    "\n",
    "chi_r = (f_ct/E_c /(h/2)).to(1/un.km)\n",
    "\n",
    "put_out(symbolic=True, evaluate=True)"
   ]
  },
  {
   "cell_type": "markdown",
   "metadata": {},
   "source": [
    "Fliessen der Zugbewehrung. Dabei wird ein dreieckiger Spannungsverlauf für den Beton angesetzt.\n"
   ]
  },
  {
   "cell_type": "code",
   "execution_count": 12,
   "metadata": {},
   "outputs": [
    {
     "data": {
      "text/markdown": [
       "$$\n",
       "\\begin{aligned}\n",
       "A_{s}& = a_{s} \\cdot b_{w} = 523.6 \\ \\mathrm{mm}^{2} \\quad & \\sigma_{s 2}& = 500.0 \\ \\frac{\\mathrm{N}}{\\mathrm{mm}^{2}} \\quad & {d}'& = - \\frac{\\oslash_{s}}{2} - c_{nom} + h = 175.0 \\ \\mathrm{mm} \\\\ \n",
       "x& = \\frac{A_{s} \\cdot f_{sy}}{1 \\cdot \\frac{1}{2} \\cdot b_{w} \\cdot f_{c}} = 18.48 \\ \\mathrm{mm} \\quad &  \\quad &  \n",
       " \\end{aligned}\n",
       "$$"
      ],
      "text/plain": [
       "<IPython.core.display.Markdown object>"
      ]
     },
     "metadata": {},
     "output_type": "display_data"
    }
   ],
   "source": [
    "A_s = a_s*b_w\n",
    "sigma_s_2 = 500*un.N/un.mm**2\n",
    "d_apos = h - c_nom - diam_s / 2\n",
    "x = ((A_s*f_sy) / (f_c*b_w*1/2 )).to(un.mm)\n",
    "put_out(symbolic=True)\n",
    "\n"
   ]
  },
  {
   "cell_type": "markdown",
   "metadata": {},
   "source": [
    "Nun wird kontrolliert ob der Beton sich noch im elastischen Bereich befindet:"
   ]
  },
  {
   "cell_type": "code",
   "execution_count": 13,
   "metadata": {},
   "outputs": [
    {
     "data": {
      "text/markdown": [
       "$$\n",
       "\\begin{aligned}\n",
       "\\varepsilon_{c}& = \\frac{f_{sy} \\cdot x}{E_{s} \\cdot \\left({d}' - x\\right)} = 0.27 \\ \\mathrm{‰} \\quad & \\sigma_{c}& = E_{c} \\cdot \\varepsilon_{c} = 6.13 \\ \\frac{\\mathrm{N}}{\\mathrm{mm}^{2}} \\quad & f_{c}& = 2.7 \\cdot f_{cc}^{\\frac{2}{3}} = 25.26 \\ \\frac{\\mathrm{N}}{\\mathrm{mm}^{2}} \\end{aligned}\n",
       "$$"
      ],
      "text/plain": [
       "<IPython.core.display.Markdown object>"
      ]
     },
     "metadata": {},
     "output_type": "display_data"
    }
   ],
   "source": [
    "eps_c = (f_sy / E_s  / (d_apos - x) * x).to(un.permille)\n",
    "sigma_c = (eps_c * E_c).to(un.N/un.mm**2)\n",
    "f_c\n",
    "\n",
    "put_out(symbolic=True)\n"
   ]
  },
  {
   "cell_type": "markdown",
   "metadata": {},
   "source": [
    "Die Spannung bei der Randfaser ist deutlich kleiner als die Druckfestigkeit. Folglich plastifiziert der Beton bei Weitem noch nicht."
   ]
  },
  {
   "cell_type": "code",
   "execution_count": 14,
   "metadata": {},
   "outputs": [
    {
     "data": {
      "text/markdown": [
       "$$\n",
       "\\begin{aligned}\n",
       "z& = {d}' - 1 \\cdot \\frac{1}{3} \\cdot x = 168.84 \\ \\mathrm{mm} \\quad & F_{s}& = A_{s} \\cdot f_{sy} = 233.32 \\ \\mathrm{kN} \\\\ \n",
       "M_{y}& = F_{s} \\cdot z = 39.39 \\ \\mathrm{kNm} \\quad & \\chi_{y}& = \\frac{\\varepsilon_{sy}}{{d}' - x} = 14.49 \\ \\frac{1}{\\mathrm{km}} \\end{aligned}\n",
       "$$"
      ],
      "text/plain": [
       "<IPython.core.display.Markdown object>"
      ]
     },
     "metadata": {},
     "output_type": "display_data"
    }
   ],
   "source": [
    "z = d_apos - 1/3*x\n",
    "F_s = (A_s * f_sy ).to(un.kN)\n",
    "M_y = (F_s * z).to(un.kNm)\n",
    "chi_y = (eps_sy /(d_apos-x)).to(1/un.km)\n",
    "\n",
    "put_out(symbolic=True,rows=2)"
   ]
  },
  {
   "cell_type": "markdown",
   "metadata": {},
   "source": [
    "Abschliessend lässt sich der Biegewiderstand bestimmen. Dem Beton wird ein vollständiges Plastifizieren vorausgesetzt. Dabei wird dem Stahl eine Dehnung vorausgesetzt.\n",
    "\n",
    "![Querschnittsanalyse](../imgs/thesis_skizzen-3.jpg)"
   ]
  },
  {
   "cell_type": "code",
   "execution_count": 15,
   "metadata": {},
   "outputs": [
    {
     "data": {
      "text/markdown": [
       "$$\n",
       "\\begin{aligned}\n",
       "\\varepsilon_{s}& = 16 \\ \\mathrm{‰} \\quad & \\sigma_{s}& = 465.36 \\ \\mathrm{MPa} \\quad &  \n",
       " \\end{aligned}\n",
       "$$"
      ],
      "text/plain": [
       "<IPython.core.display.Markdown object>"
      ]
     },
     "metadata": {},
     "output_type": "display_data"
    }
   ],
   "source": [
    "eps_s = 16*un.permille\n",
    "sigma_s = np.interp(eps_s.to(un.los), strain_b500b_array, stress_b500b_array)\n",
    "\n",
    "put_out()"
   ]
  },
  {
   "cell_type": "code",
   "execution_count": 16,
   "metadata": {},
   "outputs": [
    {
     "data": {
      "text/markdown": [
       "$$\n",
       "\\begin{aligned}\n",
       "x& = \\frac{A_{s} \\cdot \\sigma_{s}}{0.85 \\cdot b_{w} \\cdot f_{c}} = 11.35 \\ \\mathrm{mm} \\quad & \\varepsilon_{c}& = \\frac{\\varepsilon_{s} \\cdot x}{{d}' - x} = 1.11 \\ \\mathrm{‰} \\quad & \\sigma_{c}& = E_{c} \\cdot \\varepsilon_{c} = 25.41 \\ \\frac{\\mathrm{N}}{\\mathrm{mm}^{2}} \\\\ \n",
       "f_{c}& = 2.7 \\cdot f_{cc}^{\\frac{2}{3}} = 25.26 \\ \\frac{\\mathrm{N}}{\\mathrm{mm}^{2}} \\quad &  \\quad &  \n",
       " \\end{aligned}\n",
       "$$"
      ],
      "text/plain": [
       "<IPython.core.display.Markdown object>"
      ]
     },
     "metadata": {},
     "output_type": "display_data"
    }
   ],
   "source": [
    "x = ((A_s*sigma_s) / (f_c*b_w*0.85 )).to(un.mm)\n",
    "eps_c = (eps_s  / (d_apos - x) * x).to(un.permille)\n",
    "sigma_c = (eps_c * E_c).to(un.N/un.mm**2)\n",
    "f_c\n",
    "\n",
    "put_out(symbolic=True)\n"
   ]
  },
  {
   "cell_type": "markdown",
   "metadata": {},
   "source": [
    "Die Spannung bei der Randfaser ist deutlich kleiner als die Druckfestigkeit. Folglich plastifiziert der Beton bei Weitem noch nicht."
   ]
  },
  {
   "cell_type": "code",
   "execution_count": 17,
   "metadata": {},
   "outputs": [
    {
     "data": {
      "text/markdown": [
       "$$\n",
       "\\begin{aligned}\n",
       "z& = {d}' - \\frac{x}{3} = 171.22 \\ \\mathrm{mm} \\quad & F_{s}& = A_{s} \\cdot \\sigma_{s} = 243.66 \\ \\mathrm{kN} \\\\ \n",
       "M_{u}& = F_{s} \\cdot z = 41.72 \\ \\mathrm{kNm} \\quad & \\chi_{u}& = \\frac{\\varepsilon_{s}}{{d}' - x} = 97.77 \\ \\frac{1}{\\mathrm{km}} \\end{aligned}\n",
       "$$"
      ],
      "text/plain": [
       "<IPython.core.display.Markdown object>"
      ]
     },
     "metadata": {},
     "output_type": "display_data"
    }
   ],
   "source": [
    "z = d_apos - 1/3*x\n",
    "F_s = (A_s * sigma_s).to(un.kN)\n",
    "M_u = (F_s * z).to(un.kNm)\n",
    "chi_u = (eps_s /(d_apos-x)).to(1/un.km)\n",
    "\n",
    "put_out(symbolic=True,rows=2, evaluate=True)"
   ]
  },
  {
   "cell_type": "code",
   "execution_count": 18,
   "metadata": {},
   "outputs": [],
   "source": [
    "# | echo: false\n",
    "\n",
    "My_qs_array = np.array([0, M_r.m, M_r.m, M_y.m, M_u.m]) * un.kNm\n",
    "chi_qs_array = np.array([0, chi_r.m, (chi_y / M_y * M_r).m, chi_y.m, chi_u.m])/un.km\n",
    "\n",
    "fig_M_chi, ax_M_chi = plt.subplots()\n",
    "ax_M_chi.plot(chi_qs_array.to(1/un.km).m, My_qs_array.to(un.kNm).m, color=\"k\")\n",
    "\n",
    "# Scientific Notation if needed\n",
    "apply_scientific_notation(ax_M_chi, chi_qs_array.m)\n",
    "\n",
    "# Set axis labels\n",
    "ax_M_chi.set_ylabel(r\"$M$ [kNm]\")\n",
    "ax_M_chi.set_xlabel(r\"$\\chi$ [1/km]\")\n",
    "\n",
    "# Set limits\n",
    "# ax_b500b.set_xlim(xmax=140 / 1000)\n",
    "# ax_b500b.set_ylim(ymax=700)\n",
    "\n",
    "# Show the plot\n",
    "# plt.tight_layout()\n",
    "plt.savefig(\"imgs/tho_M_chi.svg\")\n",
    "plt.close()"
   ]
  },
  {
   "cell_type": "markdown",
   "metadata": {},
   "source": [
    "![Momenten-Krümmungs-Beziehung des Querschnitts](../imgs/tho_M_chi.svg){#fig-tho_M_chi}"
   ]
  },
  {
   "cell_type": "markdown",
   "metadata": {},
   "source": [
    "Das bestimmte Momenten-Krümmungs-Diagramm gilt für einen Meterstreifen. Aufgrund der identischen Bewehrung in beide Richtungen gilt das Momentenkrümmungsdiagramm für beide Richtungen. Obwohl sich kleine Differenzen bei der statischen Höhe ergeben."
   ]
  },
  {
   "cell_type": "markdown",
   "metadata": {},
   "source": [
    "### Trägerrost"
   ]
  },
  {
   "cell_type": "code",
   "execution_count": 21,
   "metadata": {},
   "outputs": [
    {
     "data": {
      "text/markdown": [
       "$$\n",
       "\\begin{aligned}\n",
       "l_{El}& = 0.1 \\ \\mathrm{m} \\quad & \\varphi& = \\chi_{qs Matrix} \\cdot l_{El} = \\left[\\begin{matrix}0.0\\\\0.00012\\\\0.00069\\\\0.00145\\\\0.00978\\end{matrix}\\right] \\ \\mathrm{rad} \\quad & My_{qs Matrix}& = My_{qs Matrix} = \\left[\\begin{matrix}0.0\\\\18.70863\\\\18.70863\\\\39.39335\\\\41.71894\\end{matrix}\\right] \\ \\mathrm{kNm} \\end{aligned}\n",
       "$$"
      ],
      "text/plain": [
       "<IPython.core.display.Markdown object>"
      ]
     },
     "metadata": {},
     "output_type": "display_data"
    }
   ],
   "source": [
    "l_El = 0.1*un.m\n",
    "varphi = (chi_qs_array * l_El).to(un.rad)\n",
    "\n",
    "My_qs_array\n",
    "put_out(symbolic=True, precision = 5)"
   ]
  },
  {
   "cell_type": "code",
   "execution_count": 20,
   "metadata": {},
   "outputs": [],
   "source": [
    "# | echo: false\n",
    "\n",
    "phi_qs_array = (chi_qs_array * l_El).to(un.rad)\n",
    "\n",
    "fig_M_phi, ax_M_phi = plt.subplots()\n",
    "ax_M_phi.plot(phi_qs_array.to(un.rad).m, My_qs_array.to(un.kNm).m, color=\"k\")\n",
    "\n",
    "\n",
    "# Set axis labels\n",
    "ax_M_phi.set_ylabel(r\"$M$ [kNm]\")\n",
    "ax_M_phi.set_xlabel(r\"$\\varphi$ [rad]\")\n",
    "\n",
    "# Set limits\n",
    "# ax_b500b.set_xlim(xmax=140 / 1000)\n",
    "# ax_b500b.set_ylim(ymax=700)\n",
    "\n",
    "# Show the plot\n",
    "# plt.tight_layout()\n",
    "plt.savefig(\"imgs/tho_M_phi.svg\")\n",
    "plt.close()"
   ]
  },
  {
   "cell_type": "markdown",
   "metadata": {},
   "source": [
    "::: {#fig-tho_biegung layout-ncol=2}\n",
    "\n",
    "![Momenten-Krümmungs-Beziehung des Querschnitts](../imgs/tho_M_chi.svg){#fig-tho_M_chi}\n",
    "\n",
    "![Momenten-Verdrehungs-Beziehung des Querschnitts](../imgs/tho_M_phi.svg){#fig-tho_M_phi}\n",
    "\n",
    "Momenten-Krümmungs-Beziehung und Momenten-Verdrehungs-Beziehung für die Platte in globale $X$ und $Y$ Richtung.\n",
    ":::"
   ]
  },
  {
   "cell_type": "markdown",
   "metadata": {},
   "source": [
    "## Modellergebnisse"
   ]
  },
  {
   "cell_type": "markdown",
   "metadata": {},
   "source": []
  }
 ],
 "metadata": {
  "kernelspec": {
   "display_name": "calc",
   "language": "python",
   "name": "python3"
  },
  "language_info": {
   "codemirror_mode": {
    "name": "ipython",
    "version": 3
   },
   "file_extension": ".py",
   "mimetype": "text/x-python",
   "name": "python",
   "nbconvert_exporter": "python",
   "pygments_lexer": "ipython3",
   "version": "3.11.9"
  }
 },
 "nbformat": 4,
 "nbformat_minor": 2
}
