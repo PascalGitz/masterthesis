{
 "cells": [
  {
   "cell_type": "code",
   "execution_count": 1,
   "metadata": {},
   "outputs": [],
   "source": [
    "from packages import *"
   ]
  },
  {
   "cell_type": "markdown",
   "metadata": {},
   "source": [
    "# Versuchsnachrechnung Zweifeldplatte\n",
    "\n",
    "Nachrechnung des Plattenversuchs aus @thoma_plattenversuche_2010. Gleiche Kraftintensität auf allen Zylindern. Eigengewicht hat keinen Einfluss auf Messung, Nullsetzung bei Belastungsbeginn.\n",
    "\n",
    "\n",
    "![Isometrische Ansicht des Versuchsaufbaus, dargestellt sind der Versuchsaufbau, die Lagerung mit den Zylindern, die Krafteinleitung mittels den Zugstangen](../imgs/tho_aufbau_iso.svg){#fig-tho_aufbau_iso}\n",
    "\n",
    "Der Grundriss und die Längsansicht sich in der @fig-tho_aufbau_gr gezeigt. Beide Felder sind quatratförmig. Diese sind auf Gleitlagern gelagt.\n",
    "\n",
    "![Grundriss und Längsansicht, Lasteineinleitung, Lagerposition und die Plattenabmessungen sind vermasst](../imgs/tho_aufbau_gr.svg){#fig-tho_aufbau_gr}"
   ]
  },
  {
   "cell_type": "markdown",
   "metadata": {},
   "source": [
    "## Versuchsbeschrieb\n",
    "\n",
    "Nach dem Einbringen des Körpers wurde eine Nullmessung durchgeführt. Die Last wurde gleichmässigen auf sämtliche Zugstangen verteilt. Die Kraft wurde inkrementiell gesteigert bis der Bruch durch Zerreissen der oberen Längsbewehrungen im mittleren\n",
    "Auflagerbereich eintrat."
   ]
  },
  {
   "cell_type": "markdown",
   "metadata": {},
   "source": [
    "### Berechnungsgrössen"
   ]
  },
  {
   "cell_type": "markdown",
   "metadata": {},
   "source": [
    "Die verwendeten Berechnungsparameter werden folgend aufgezeigt."
   ]
  },
  {
   "cell_type": "markdown",
   "metadata": {},
   "source": [
    "#### Betonstahl \n",
    "\n",
    "Die Platte ist kreuzweise mit einer Biegebewehrung mit Durchmesser 10 mm und einer 150 mm Teilung versehen. Dies gilt für die obere und untere Bewehrung. Am Rand sind Abschlussbügel verlegt. Zudem ist über dem Mittelauflager eine Querkraftbewehrung eingelegt. Da generell in dieser Arbeit keine Querkraftthemen bearbeitet werden, ist diese auf der @fig-tho_biegebewehrung_iso nicht dargestellt.\n",
    "\n",
    "![Biegebewehrung der Platte](../imgs/tho_biegebewehrung_iso.svg){#fig-tho_biegebewehrung_iso}"
   ]
  },
  {
   "cell_type": "markdown",
   "metadata": {},
   "source": [
    "Die Querschnittsfläche der Biegebewehrung pro Laufmeter beträgt folglich:"
   ]
  },
  {
   "cell_type": "code",
   "execution_count": 2,
   "metadata": {},
   "outputs": [
    {
     "data": {
      "text/markdown": [
       "$$\n",
       "\\begin{aligned}\n",
       "\\oslash_{s}& = 10 \\ \\mathrm{mm} \\quad & s& = 150 \\ \\mathrm{mm} \\quad & a_{s}& = \\frac{\\pi \\cdot \\oslash_{s}^{2}}{4 \\cdot s} = 523.6 \\ \\frac{\\mathrm{mm}^{2}}{\\mathrm{m}} \\end{aligned}\n",
       "$$"
      ],
      "text/plain": [
       "<IPython.core.display.Markdown object>"
      ]
     },
     "metadata": {},
     "output_type": "display_data"
    }
   ],
   "source": [
    "diam_s = 10*un.mm\n",
    "\n",
    "s = 150*un.mm\n",
    "a_s = (diam_s**2*np.pi /4 /s).to(un.mm**2/un.m)\n",
    "\n",
    "put_out(symbolic=True)"
   ]
  },
  {
   "cell_type": "markdown",
   "metadata": {},
   "source": [
    "Aus dem Versuchsbericht wurden die folgenden Eigenschaften der Biegebewehrung entnommen. Die Zugfestigkeit, Fliessgrenze, Elastizitätsmodul, Fliessdehnung und Bruchdehnung."
   ]
  },
  {
   "cell_type": "code",
   "execution_count": 3,
   "metadata": {},
   "outputs": [
    {
     "data": {
      "text/markdown": [
       "$$\n",
       "\\begin{aligned}\n",
       "f_{su}& = 558.6 \\ \\frac{\\mathrm{N}}{\\mathrm{mm}^{2}} \\quad & f_{sy}& = 445.6 \\ \\frac{\\mathrm{N}}{\\mathrm{mm}^{2}} \\quad & E_{s}& = 196.5 \\ \\frac{\\mathrm{kN}}{\\mathrm{mm}^{2}} \\\\ \n",
       "\\varepsilon_{sy}& = \\frac{f_{sy}}{E_{s}} = 2.27 \\ \\mathrm{‰} \\quad & \\varepsilon_{su}& = 80.8 \\ \\mathrm{‰} \\quad &  \n",
       " \\end{aligned}\n",
       "$$"
      ],
      "text/plain": [
       "<IPython.core.display.Markdown object>"
      ]
     },
     "metadata": {},
     "output_type": "display_data"
    }
   ],
   "source": [
    "f_su = 558.6*un.N/un.mm**2\n",
    "f_sy = 445.6*un.N/un.mm**2\n",
    "\n",
    "E_s = 196.5*un.kN/un.mm**2\n",
    "\n",
    "eps_sy = (f_sy / E_s).to(un.permille)\n",
    "eps_su = 80.8*un.permille\n",
    "\n",
    "put_out(symbolic=True)"
   ]
  },
  {
   "cell_type": "markdown",
   "metadata": {},
   "source": [
    "#### Beton \n",
    "\n",
    "Ebenso wurden die Eigenschaften des Betons aus dem Versuchsbericht entnommen, sowie mittels empirischen Ansätzen umgerechnet. Die Zylinderdruckfestigkeit und der Elastizitätsmodul wurden aus dem Bericht entnommen. Die Bauteildruckfestigkeit und Zugfestigkeiten wurden berechnet. Sowie wird eine Bruchstauchung angenommen."
   ]
  },
  {
   "cell_type": "code",
   "execution_count": 4,
   "metadata": {},
   "outputs": [
    {
     "data": {
      "text/markdown": [
       "$$\n",
       "\\begin{aligned}\n",
       "f_{cc}& = 28.61 \\ \\frac{\\mathrm{N}}{\\mathrm{mm}^{2}} \\quad & E_{c}& = 22.9 \\ \\frac{\\mathrm{kN}}{\\mathrm{mm}^{2}} \\quad & f_{c}& = 2.7 \\cdot f_{cc}^{\\frac{2}{3}} = 25.26 \\ \\frac{\\mathrm{N}}{\\mathrm{mm}^{2}} \\\\ \n",
       "f_{ct}& = 0.3 \\cdot f_{cc}^{\\frac{2}{3}} = 2.81 \\ \\frac{\\mathrm{N}}{\\mathrm{mm}^{2}} \\quad & \\varepsilon_{cu}& = 5.0 \\ \\mathrm{‰} \\quad &  \n",
       " \\end{aligned}\n",
       "$$"
      ],
      "text/plain": [
       "<IPython.core.display.Markdown object>"
      ]
     },
     "metadata": {},
     "output_type": "display_data"
    }
   ],
   "source": [
    "f_cc = 28.61*un.N/un.mm**2\n",
    "E_c = 22.9*un.kN/un.mm**2\n",
    "\n",
    "f_c = (2.7* f_cc.m**(2/3))*un.N/un.mm**2\n",
    "f_ct = (0.3* f_cc.m**(2/3))*un.N/un.mm**2\n",
    "\n",
    "eps_cu = 5.*un.permille\n",
    "\n",
    "put_out(symbolic=True, rows = 3)"
   ]
  },
  {
   "cell_type": "markdown",
   "metadata": {},
   "source": [
    "#### Geometrie\n",
    "\n",
    "Bezüglich der Geometrie wurden die Plattenstärke und Bewehrungsüberdeckung aus dem Bericht übernommen."
   ]
  },
  {
   "cell_type": "code",
   "execution_count": 5,
   "metadata": {},
   "outputs": [
    {
     "data": {
      "text/markdown": [
       "$$\n",
       "\\begin{aligned}\n",
       "h& = 200 \\ \\mathrm{mm} \\quad & c_{nom}& = 20 \\ \\mathrm{mm} \\quad &  \n",
       " \\end{aligned}\n",
       "$$"
      ],
      "text/plain": [
       "<IPython.core.display.Markdown object>"
      ]
     },
     "metadata": {},
     "output_type": "display_data"
    }
   ],
   "source": [
    "h = 200*un.mm\n",
    "c_nom = 20*un.mm\n",
    "\n",
    "put_out()"
   ]
  },
  {
   "cell_type": "markdown",
   "metadata": {},
   "source": [
    "### Versuchsergebnisse"
   ]
  },
  {
   "cell_type": "markdown",
   "metadata": {},
   "source": [
    "Aus dem Versuchsbericht geht eine Traglast von 978 kN pro Feld hervor. Dies entspricht der Summe der einzelnen Zugstangen pro Feld. Folglich beträgt die Traglast pro Einzellast:"
   ]
  },
  {
   "cell_type": "code",
   "execution_count": 6,
   "metadata": {},
   "outputs": [
    {
     "data": {
      "text/markdown": [
       "$$\n",
       "\\begin{aligned}\n",
       "F_{u}& = \\frac{978}{12} = 81.5 \\ \\mathrm{kN} \\quad &  \\quad &  \n",
       " \\end{aligned}\n",
       "$$"
      ],
      "text/plain": [
       "<IPython.core.display.Markdown object>"
      ]
     },
     "metadata": {},
     "output_type": "display_data"
    }
   ],
   "source": [
    "F_u = 978*un.kN / 12\n",
    "\n",
    "put_out(symbolic=True)"
   ]
  },
  {
   "cell_type": "markdown",
   "metadata": {},
   "source": [
    "![Position der Wegaufnehmer, vermasst auf Lagerachsen](../imgs/tho_messung_gr.svg){#fig-tho_messung_gr}"
   ]
  },
  {
   "cell_type": "markdown",
   "metadata": {},
   "source": [
    "Die Messung $V10$ ist in der @fig-tho_res_V10 gezeigt. Dabei ist auf der Ordinate die Summe der Einzelkräfte pro Feld aufgezeigt und auf der Abszisse die Verformung an der Stelle $V10$."
   ]
  },
  {
   "cell_type": "code",
   "execution_count": 7,
   "metadata": {},
   "outputs": [],
   "source": [
    "DF_res_V10 = pd.read_csv('imgs/tho_res_V10.csv')\n"
   ]
  },
  {
   "cell_type": "code",
   "execution_count": 8,
   "metadata": {},
   "outputs": [],
   "source": [
    "# | echo: false\n",
    "\n",
    "\n",
    "fig_res_V10, ax_res_V10 = plt.subplots()\n",
    "ax_res_V10.plot(DF_res_V10.iloc[:,0], DF_res_V10.iloc[:,1], color=\"k\")\n",
    "\n",
    "\n",
    "# Set axis labels\n",
    "ax_res_V10.set_ylabel(r\"$F$ [kN]\")\n",
    "ax_res_V10.set_xlabel(r\"$w_{V10}$ [mm]\")\n",
    "\n",
    "\n",
    "fig_res_V10.savefig(\"imgs/tho_res_V10.svg\")\n",
    "plt.close()"
   ]
  },
  {
   "cell_type": "markdown",
   "metadata": {},
   "source": [
    "![Kraft-Verformungs-Diagramm an der Stelle $V10$, entnommen aus dem Versuchsbericht](../imgs/tho_res_V10.svg){#fig-tho_res_V10}"
   ]
  },
  {
   "cell_type": "markdown",
   "metadata": {},
   "source": [
    "Beim Erreichen der Traglast stellt sich ein Zerreissen der Bewehrung über dem Mittellager ein und das Tragwerk versagt. Ein einfaches Biegeversagen."
   ]
  },
  {
   "cell_type": "markdown",
   "metadata": {},
   "source": [
    "## Modellierung\n",
    "\n",
    "Die @fig-tho_rost_iso zeigt ein schematisches Trägerrostmodell. Dies dient als statisches System. Dabei werden an den entsprechenden Stellen die Einzellasten eingeführt. Die Auflager sind 1-dimensional, sprich lagern lediglich Kräfte in globaler $Z$-Richtung.\n",
    "\n",
    "![Ein Trägerrostmodell zur Ermittlung des Biegeverhaltens. Der Abstand der Balken ist hier lediglich schematisch gezeigt](../imgs/tho_rost_iso.svg){#fig-tho_rost_iso}\n",
    "\n",
    "\n",
    "Folgende Effekte werden beim Modell berücksichtigt:\n",
    "\n",
    "- Biegetragverhalten\n",
    "- Drillmomente, sprich Torsion der Stäbe im Trägerrost."
   ]
  },
  {
   "cell_type": "markdown",
   "metadata": {},
   "source": [
    "### Baustoffe"
   ]
  },
  {
   "cell_type": "code",
   "execution_count": 9,
   "metadata": {},
   "outputs": [],
   "source": [
    "DF_b500b = pd.read_csv('imgs/tho_stress_strain_b500b.csv')\n",
    "DF_b500b['x'] = DF_b500b['x']/100\n",
    "\n"
   ]
  },
  {
   "cell_type": "code",
   "execution_count": 10,
   "metadata": {},
   "outputs": [],
   "source": [
    "# | echo: false\n",
    "\n",
    "stress_b500b_array = np.array([0, f_sy.m, f_su.m]) * un.MPa\n",
    "strain_b500b_array = np.array([0, eps_sy.to(un.los), eps_su.to(un.los)])\n",
    "\n",
    "fig_b500b, ax_b500b = plt.subplots()\n",
    "ax_b500b.plot(strain_b500b_array, stress_b500b_array.to(un.MPa).m, color=\"k\")\n",
    "ax_b500b.plot(DF_b500b.iloc[:,0], DF_b500b.iloc[:,1], color=\"gray\", alpha=0.5)\n",
    "\n",
    "# Scientific Notation if needed\n",
    "apply_scientific_notation(ax_b500b, stress_b500b_array.m)\n",
    "\n",
    "# Set axis labels\n",
    "ax_b500b.set_ylabel(r\"$\\sigma$ [N/mm$^2$]\")\n",
    "ax_b500b.set_xlabel(r\"$\\varepsilon_s$ [-]\")\n",
    "\n",
    "# Set limits\n",
    "# ax_b500b.set_xlim(xmax=140 / 1000)\n",
    "# ax_b500b.set_ylim(ymax=700)\n",
    "\n",
    "# Show the plot\n",
    "# plt.tight_layout()\n",
    "plt.savefig(\"imgs/tho_stress_strain_b500b.svg\")\n",
    "plt.close()"
   ]
  },
  {
   "cell_type": "markdown",
   "metadata": {},
   "source": [
    "Zunächst wird das Verhalten der Baustoffe modelliert. Für den Betonstahl wird ein bilinearer Verlauf gewählt. Dargestellt als Spannungs-Dehnungs-Diagramm ist dies in @fig-tho_stress_strain_b500b. Grau hinterlegt ist der Spannungs-Dehnungs-Verlauf aus den Zugproben."
   ]
  },
  {
   "cell_type": "markdown",
   "metadata": {},
   "source": [
    "![Spannungs-Dehnungs-Diagramm des Betonstahls B500B mit grau hinterlegten Versuchsdaten und die Idealisierung eines bilinearen Verlaufs](../imgs/tho_stress_strain_b500b.svg){#fig-tho_stress_strain_b500b}"
   ]
  },
  {
   "cell_type": "markdown",
   "metadata": {},
   "source": [
    "Für den Beton gilt die Darstellung in @fig-tho_stress_strain_c. Die Zugfestigkeit des Betons wird berücksichtigt."
   ]
  },
  {
   "cell_type": "code",
   "execution_count": 11,
   "metadata": {},
   "outputs": [],
   "source": [
    "# | echo: false\n",
    "\n",
    "stress_c_array = np.array([f_ct.m, -f_c.m, -f_c.m]) * un.MPa\n",
    "strain_c_array = np.array([f_ct/E_c, -f_c/E_c, -eps_cu.to(un.los)])\n",
    "\n",
    "fig_c, ax_c = plt.subplots()\n",
    "ax_c.plot(strain_c_array, stress_c_array.to(un.MPa).m, color=\"k\")\n",
    "\n",
    "# Scientific Notation if needed\n",
    "apply_scientific_notation(ax_c, stress_c_array.m)\n",
    "\n",
    "# Set axis labels\n",
    "ax_c.set_ylabel(r\"$\\sigma$ [N/mm$^2$]\")\n",
    "ax_c.set_xlabel(r\"$\\varepsilon_c$ [-]\")\n",
    "\n",
    "# Set limits\n",
    "# ax_c.set_xlim(xmax=7 / 1000)\n",
    "# ax_c.set_ylim(ymax=50)\n",
    "\n",
    "# Show the plot\n",
    "# plt.tight_layout()\n",
    "plt.savefig(\"imgs/tho_stress_strain_c.svg\")\n",
    "plt.close()"
   ]
  },
  {
   "cell_type": "markdown",
   "metadata": {},
   "source": [
    "![Spannungs-Dehnungs-Diagramm des Betons, linear elastischer - ideal plastischer Verlauf](../imgs/tho_stress_strain_c.svg){#fig-tho_stress_strain_c}"
   ]
  },
  {
   "cell_type": "markdown",
   "metadata": {},
   "source": [
    "### Trägerrost\n",
    "\n",
    "Danach wird der Trägerrost modelliert. Es wird eine Stabteilung gewählt. Zudem wird eine Anzahl Gelenke pro Knoten definiert. Im Statischensystem werden den Stäben ein Anfang- und Endgelenk eingeführt. Dies führt zur Anzahl Gelenke.\n",
    "\n",
    "![Anordnung der Gelenke bei einem Knoten](../imgs/tho_rost_gelenke.png)\n"
   ]
  },
  {
   "cell_type": "code",
   "execution_count": 12,
   "metadata": {},
   "outputs": [
    {
     "data": {
      "text/markdown": [
       "$$\n",
       "\\begin{aligned}\n",
       "l_{El}& = 0.1 \\ \\mathrm{m} \\quad & n_{gelenk}& = 1 \\quad &  \n",
       " \\end{aligned}\n",
       "$$"
      ],
      "text/plain": [
       "<IPython.core.display.Markdown object>"
      ]
     },
     "metadata": {},
     "output_type": "display_data"
    }
   ],
   "source": [
    "l_El = 0.10*un.m\n",
    "n_gelenk = 1 #2 bei Stab anfang und ende\n",
    "\n",
    "put_out(symbolic=True)\n"
   ]
  },
  {
   "cell_type": "markdown",
   "metadata": {},
   "source": [
    "### Biegeverhalten\n",
    "\n",
    "Basierend auf den Modellen der Baustoffe kann der Querschnitt bei steigender Krümmung untersucht werden. Dies führt zu einem Momenten-Krümmungs-Diagramm. "
   ]
  },
  {
   "cell_type": "markdown",
   "metadata": {},
   "source": [
    "\n",
    "![Querschnittsanalyse](../imgs/thesis_skizzen-2.jpg)\n",
    "\n"
   ]
  },
  {
   "cell_type": "markdown",
   "metadata": {},
   "source": [
    "Zunächst wird das Rissmoment betrachtet:"
   ]
  },
  {
   "cell_type": "code",
   "execution_count": 13,
   "metadata": {},
   "outputs": [
    {
     "data": {
      "text/markdown": [
       "$$\n",
       "\\begin{aligned}\n",
       "b_{w}& = l_{El} = 0.1 \\ \\mathrm{m} \\quad & z& = \\frac{2 \\cdot h}{3} = 133.33 \\ \\mathrm{mm} \\\\ \n",
       "F_{c}& = \\frac{b_{w} \\cdot f_{ct} \\cdot h}{4} = 14.03 \\ \\mathrm{kN} \\quad & M_{r}& = F_{c} \\cdot z = 1.87 \\ \\mathrm{kNm} \\\\ \n",
       "\\chi_{r}& = \\frac{2 \\cdot f_{ct}}{E_{c} \\cdot h} = 1.23 \\ \\frac{1}{\\mathrm{km}} \\quad &  \n",
       " \\end{aligned}\n",
       "$$"
      ],
      "text/plain": [
       "<IPython.core.display.Markdown object>"
      ]
     },
     "metadata": {},
     "output_type": "display_data"
    }
   ],
   "source": [
    "b_w = l_El\n",
    "z = h - 2/3 * h/2\n",
    "F_c = (h/2 * f_ct * b_w *1/2).to(un.kN)\n",
    "M_r = (F_c * z).to(un.kNm)\n",
    "\n",
    "chi_r = (f_ct/E_c /(h/2)).to(1/un.km)\n",
    "\n",
    "put_out(symbolic=True, evaluate=True, rows = 2)"
   ]
  },
  {
   "cell_type": "markdown",
   "metadata": {},
   "source": [
    "Fliessen der Zugbewehrung. Dabei wird ein dreieckiger Spannungsverlauf für den Beton angesetzt.\n"
   ]
  },
  {
   "cell_type": "code",
   "execution_count": 14,
   "metadata": {},
   "outputs": [
    {
     "data": {
      "text/markdown": [
       "$$\n",
       "\\begin{aligned}\n",
       "A_{s}& = a_{s} \\cdot b_{w} = 52.36 \\ \\mathrm{mm}^{2} \\quad & \\sigma_{s 2}& = 500.0 \\ \\frac{\\mathrm{N}}{\\mathrm{mm}^{2}} \\\\ \n",
       "{d}'& = - \\frac{\\oslash_{s}}{2} - c_{nom} + h = 175.0 \\ \\mathrm{mm} \\quad & x& = \\frac{A_{s} \\cdot f_{sy}}{1 \\cdot \\frac{1}{2} \\cdot b_{w} \\cdot f_{c}} = 18.48 \\ \\mathrm{mm} \\end{aligned}\n",
       "$$"
      ],
      "text/plain": [
       "<IPython.core.display.Markdown object>"
      ]
     },
     "metadata": {},
     "output_type": "display_data"
    }
   ],
   "source": [
    "A_s = a_s*b_w\n",
    "sigma_s_2 = 500*un.N/un.mm**2\n",
    "d_apos = h - c_nom - diam_s / 2\n",
    "x = ((A_s*f_sy) / (f_c*b_w*1/2 )).to(un.mm)\n",
    "put_out(symbolic=True, rows = 2)\n",
    "\n"
   ]
  },
  {
   "cell_type": "markdown",
   "metadata": {},
   "source": [
    "Nun wird kontrolliert ob der Beton sich noch im elastischen Bereich befindet:"
   ]
  },
  {
   "cell_type": "code",
   "execution_count": 15,
   "metadata": {},
   "outputs": [
    {
     "data": {
      "text/markdown": [
       "$$\n",
       "\\begin{aligned}\n",
       "\\varepsilon_{c}& = \\frac{f_{sy} \\cdot x}{E_{s} \\cdot \\left({d}' - x\\right)} = 0.27 \\ \\mathrm{‰} \\quad & \\sigma_{c}& = E_{c} \\cdot \\varepsilon_{c} = 6.13 \\ \\frac{\\mathrm{N}}{\\mathrm{mm}^{2}} \\\\ \n",
       "f_{c}& = 2.7 \\cdot f_{cc}^{\\frac{2}{3}} = 25.26 \\ \\frac{\\mathrm{N}}{\\mathrm{mm}^{2}} \\quad &  \n",
       " \\end{aligned}\n",
       "$$"
      ],
      "text/plain": [
       "<IPython.core.display.Markdown object>"
      ]
     },
     "metadata": {},
     "output_type": "display_data"
    }
   ],
   "source": [
    "eps_c = (f_sy / E_s  / (d_apos - x) * x).to(un.permille)\n",
    "sigma_c = (eps_c * E_c).to(un.N/un.mm**2)\n",
    "f_c\n",
    "\n",
    "put_out(symbolic=True, rows = 2)\n"
   ]
  },
  {
   "cell_type": "markdown",
   "metadata": {},
   "source": [
    "Die Spannung bei der Randfaser ist deutlich kleiner als die Druckfestigkeit. Folglich plastifiziert der Beton bei Weitem noch nicht."
   ]
  },
  {
   "cell_type": "code",
   "execution_count": 16,
   "metadata": {},
   "outputs": [
    {
     "data": {
      "text/markdown": [
       "$$\n",
       "\\begin{aligned}\n",
       "z& = {d}' - 1 \\cdot \\frac{1}{3} \\cdot x = 168.84 \\ \\mathrm{mm} \\quad & F_{s}& = A_{s} \\cdot f_{sy} = 23.33 \\ \\mathrm{kN} \\\\ \n",
       "M_{y}& = F_{s} \\cdot z = 3.94 \\ \\mathrm{kNm} \\quad & \\chi_{y}& = \\frac{\\varepsilon_{sy}}{{d}' - x} = 14.49 \\ \\frac{1}{\\mathrm{km}} \\end{aligned}\n",
       "$$"
      ],
      "text/plain": [
       "<IPython.core.display.Markdown object>"
      ]
     },
     "metadata": {},
     "output_type": "display_data"
    }
   ],
   "source": [
    "z = d_apos - 1/3*x\n",
    "F_s = (A_s * f_sy ).to(un.kN)\n",
    "M_y = (F_s * z).to(un.kNm)\n",
    "chi_y = (eps_sy /(d_apos-x)).to(1/un.km)\n",
    "\n",
    "put_out(symbolic=True,rows=2)"
   ]
  },
  {
   "cell_type": "markdown",
   "metadata": {},
   "source": [
    "Abschliessend lässt sich der Biegewiderstand bestimmen. Dem Beton wird ein vollständiges Plastifizieren vorausgesetzt. Dabei wird dem Stahl eine Dehnung vorausgesetzt.\n",
    "\n",
    "![Querschnittsanalyse](../imgs/thesis_skizzen-3.jpg)"
   ]
  },
  {
   "cell_type": "markdown",
   "metadata": {},
   "source": [
    "Dabei wird die Stahlspannung anhand der gewählten Dehnung bestimmt:"
   ]
  },
  {
   "cell_type": "code",
   "execution_count": 17,
   "metadata": {},
   "outputs": [
    {
     "data": {
      "text/markdown": [
       "$$\n",
       "\\begin{aligned}\n",
       "\\varepsilon_{s}& = 63 \\ \\mathrm{‰} \\quad & \\sigma_{s}& = 532.99 \\ \\frac{\\mathrm{N}}{\\mathrm{mm}^{2}} \\quad & f_{su}& = 558.6 \\ \\frac{\\mathrm{N}}{\\mathrm{mm}^{2}} \\end{aligned}\n",
       "$$"
      ],
      "text/plain": [
       "<IPython.core.display.Markdown object>"
      ]
     },
     "metadata": {},
     "output_type": "display_data"
    }
   ],
   "source": [
    "eps_s = 63*un.permille\n",
    "sigma_s = np.interp(eps_s.to(un.los), strain_b500b_array, stress_b500b_array).to(un.N/un.mm**2)\n",
    "f_su\n",
    "put_out()"
   ]
  },
  {
   "cell_type": "markdown",
   "metadata": {},
   "source": [
    "Die Stahldehnung wird iterativ bestimmt, damit sich eine Betonstauchung der Randfaser entsprechend der Bruchstauchung einstellt."
   ]
  },
  {
   "cell_type": "code",
   "execution_count": 18,
   "metadata": {},
   "outputs": [
    {
     "data": {
      "text/markdown": [
       "$$\n",
       "\\begin{aligned}\n",
       "x& = \\frac{A_{s} \\cdot \\sigma_{s}}{0.85 \\cdot b_{w} \\cdot f_{c}} = 13.0 \\ \\mathrm{mm} \\quad & \\varepsilon_{c}& = \\frac{\\varepsilon_{s} \\cdot x}{{d}' - x} = 5.06 \\ \\mathrm{‰} \\quad & \\varepsilon_{cu}& = 5.0 \\ \\mathrm{‰} \\end{aligned}\n",
       "$$"
      ],
      "text/plain": [
       "<IPython.core.display.Markdown object>"
      ]
     },
     "metadata": {},
     "output_type": "display_data"
    }
   ],
   "source": [
    "x = ((A_s*sigma_s) / (f_c*b_w*0.85)).to(un.mm)\n",
    "eps_c = (eps_s  / (d_apos - x) * x).to(un.permille)\n",
    "eps_cu\n",
    "\n",
    "put_out(symbolic=True)\n"
   ]
  },
  {
   "cell_type": "markdown",
   "metadata": {},
   "source": [
    "Der Biegewiderstand ist somit begrenzt durch ein Betondruckversagen. Der entsprechende Widerstand und die entsprechende Bruchkrümmung betragen:"
   ]
  },
  {
   "cell_type": "code",
   "execution_count": 19,
   "metadata": {},
   "outputs": [
    {
     "data": {
      "text/markdown": [
       "$$\n",
       "\\begin{aligned}\n",
       "z& = {d}' - 0.425 \\cdot x = 169.48 \\ \\mathrm{mm} \\quad & F_{s}& = A_{s} \\cdot \\sigma_{s} = 27.91 \\ \\mathrm{kN} \\\\ \n",
       "M_{u}& = F_{s} \\cdot z = 4.73 \\ \\mathrm{kNm} \\quad & \\chi_{u}& = \\frac{\\varepsilon_{s}}{{d}' - x} = 388.89 \\ \\frac{1}{\\mathrm{km}} \\end{aligned}\n",
       "$$"
      ],
      "text/plain": [
       "<IPython.core.display.Markdown object>"
      ]
     },
     "metadata": {},
     "output_type": "display_data"
    }
   ],
   "source": [
    "z = d_apos - 0.425*x\n",
    "F_s = (A_s * sigma_s).to(un.kN)\n",
    "M_u = (F_s * z).to(un.kNm)\n",
    "chi_u = (eps_s /(d_apos-x)).to(1/un.km)\n",
    "\n",
    "put_out(symbolic=True,rows=2, evaluate=True)"
   ]
  },
  {
   "cell_type": "markdown",
   "metadata": {},
   "source": [
    "#### Zugversteifung \n",
    "\n",
    "Zur punktuellen Betrachtung des Querschnitts kann das Mitwirken des Betons zwischen den Rissen berücksichtigt werden. Dabei wird der Ansatz nach Marti @spathelf_gebrauchstauglichkeit_2022 verwendet für den gerissenen Bereich. Dabei wird eine Differenzkrümmung bestimmt:"
   ]
  },
  {
   "cell_type": "code",
   "execution_count": 20,
   "metadata": {},
   "outputs": [
    {
     "data": {
      "text/markdown": [
       "$$\n",
       "\\begin{aligned}\n",
       "\\lambda& = 1 \\\\ \n",
       "EI_{II}& = \\frac{M_{y}}{\\chi_{y}} = 271.91 \\ \\mathrm{kN} \\cdot \\mathrm{m}^{2} \\\\ \n",
       "n& = \\frac{E_{s}}{E_{c}} = 8.58 \\  \\\\ \n",
       "\\rho_{eff}& = \\frac{1}{\\frac{E_{s} \\cdot M_{r} \\cdot \\left({d}' - x\\right)}{EI_{II} \\cdot f_{ct}} - n + 1} = 1.42 \\ \\mathrm{\\%} \\\\ \n",
       "\\Delta_{\\chi}& = \\frac{f_{ct} \\cdot \\lambda \\cdot \\left(1 - \\rho_{eff}\\right)}{2 \\cdot E_{s} \\cdot \\rho_{eff} \\cdot \\left({d}' - x\\right)} = 3.06 \\ \\frac{1}{\\mathrm{km}} \\end{aligned}\n",
       "$$"
      ],
      "text/plain": [
       "<IPython.core.display.Markdown object>"
      ]
     },
     "metadata": {},
     "output_type": "display_data"
    }
   ],
   "source": [
    "lamda = 1\n",
    "EI_II = (M_y / chi_y).to(un.kN*un.m**2)\n",
    "n = E_s / E_c\n",
    "\n",
    "rho_eff = ((1 + E_s*M_r*(d_apos-x)/(EI_II*f_ct) - n)**-1).to(un.percent)\n",
    "\n",
    "Delta_chi = (lamda / 2 * f_ct * (1 - rho_eff) /(rho_eff * E_s * (d_apos-x))).to(1/un.km)\n",
    "\n",
    "put_out(symbolic=True, rows = 1)"
   ]
  },
  {
   "cell_type": "markdown",
   "metadata": {},
   "source": [
    "Die Querschnittsanalyse ist abschliessend in der @fig-tho_M_chi zusammengefasst."
   ]
  },
  {
   "cell_type": "code",
   "execution_count": 21,
   "metadata": {},
   "outputs": [],
   "source": [
    "# | echo: false\n",
    "\n",
    "My_qs_array = np.array([0, M_r.m, M_r.m, M_y.m, M_u.m]) * un.kNm\n",
    "chi_qs_array_zuggurt = np.array([0, chi_r.m, (chi_y / M_y * M_r - Delta_chi).m, chi_y.m-Delta_chi.m, chi_u.m])/un.km\n",
    "\n",
    "fig_M_chi, ax_M_chi = plt.subplots()\n",
    "ax_M_chi.plot(chi_qs_array_zuggurt.to(1/un.km).m, My_qs_array.to(un.kNm).m, color=\"k\")\n",
    "\n",
    "# Scientific Notation if needed\n",
    "apply_scientific_notation(ax_M_chi, chi_qs_array_zuggurt.m)\n",
    "\n",
    "# Set axis labels\n",
    "ax_M_chi.set_ylabel(r\"$M$ [kNm]\")\n",
    "ax_M_chi.set_xlabel(r\"$\\chi$ [1/km]\")\n",
    "\n",
    "# Set limits\n",
    "# ax_b500b.set_xlim(xmax=140 / 1000)\n",
    "# ax_b500b.set_ylim(ymax=700)\n",
    "\n",
    "# Show the plot\n",
    "# plt.tight_layout()\n",
    "plt.savefig(\"imgs/tho_M_chi.svg\")\n",
    "plt.close()"
   ]
  },
  {
   "cell_type": "markdown",
   "metadata": {},
   "source": [
    "![Momenten-Krümmungs-Beziehung des Querschnitts](../imgs/tho_M_chi.svg){#fig-tho_M_chi}"
   ]
  },
  {
   "cell_type": "markdown",
   "metadata": {},
   "source": [
    "Aufgrund der identischen Bewehrung in beide Richtungen gilt das Momenten-Krümmungs-Diagramm für beide Richtungen. Obwohl sich kleine Differenzen bei der statischen Höhe ergeben. Dazu wird das Diagramm für positive und negative Biegebeanspruchungen angewendet."
   ]
  },
  {
   "cell_type": "code",
   "execution_count": 22,
   "metadata": {},
   "outputs": [
    {
     "data": {
      "text/html": [
       "<table><tbody><tr><th>Magnitude</th><td style='text-align:left;'><pre>[0.0 0.00012254558731905003 0.0003818471576519119 0.001142571578276044 0.03888872930882431]</pre></td></tr><tr><th>Units</th><td style='text-align:left;'>rad</td></tr></tbody></table>"
      ],
      "text/latex": [
       "$\\begin{pmatrix} &  &  &  & \\end{pmatrix}\\ \\mathrm{rad}$"
      ],
      "text/plain": [
       "<Quantity([0.         0.00012255 0.00038185 0.00114257 0.03888873], 'radian')>"
      ]
     },
     "metadata": {},
     "output_type": "display_data"
    },
    {
     "data": {
      "text/html": [
       "<table><tbody><tr><th>Magnitude</th><td style='text-align:left;'><pre>[0.0 1.8708626330708304 1.8708626330708304 3.93933519233789 4.729574875521492]</pre></td></tr><tr><th>Units</th><td style='text-align:left;'>kNm</td></tr></tbody></table>"
      ],
      "text/latex": [
       "$\\begin{pmatrix} &  &  &  & \\end{pmatrix}\\ \\mathrm{kNm}$"
      ],
      "text/plain": [
       "<Quantity([0.         1.87086263 1.87086263 3.93933519 4.72957488], 'kNm')>"
      ]
     },
     "metadata": {},
     "output_type": "display_data"
    }
   ],
   "source": [
    "varphi = (chi_qs_array_zuggurt * l_El).to(un.rad)/n_gelenk\n",
    "\n",
    "My_qs_array\n",
    "\n",
    "\n",
    "display(varphi, My_qs_array)"
   ]
  },
  {
   "cell_type": "markdown",
   "metadata": {},
   "source": [
    "Anhand der Elementlänge $l_{El}$ kann die Verdrehung des Gelenks bestimmt werden. Zusammengefasst in der @fig-tho_biegung."
   ]
  },
  {
   "cell_type": "code",
   "execution_count": 23,
   "metadata": {},
   "outputs": [],
   "source": [
    "# | echo: false\n",
    "\n",
    "phi_qs_array = (chi_qs_array_zuggurt * l_El).to(un.rad)\n",
    "\n",
    "fig_M_phi, ax_M_phi = plt.subplots()\n",
    "ax_M_phi.plot(phi_qs_array.to(un.rad).m, My_qs_array.to(un.kNm).m, color=\"k\")\n",
    "\n",
    "\n",
    "# Set axis labels\n",
    "ax_M_phi.set_ylabel(r\"$M$ [kNm]\")\n",
    "ax_M_phi.set_xlabel(r\"$\\varphi$ [rad]\")\n",
    "\n",
    "# Set limits\n",
    "# ax_b500b.set_xlim(xmax=140 / 1000)\n",
    "# ax_b500b.set_ylim(ymax=700)\n",
    "\n",
    "# Show the plot\n",
    "# plt.tight_layout()\n",
    "plt.savefig(\"imgs/tho_M_phi.svg\")\n",
    "plt.close()"
   ]
  },
  {
   "cell_type": "markdown",
   "metadata": {},
   "source": [
    "::: {#fig-tho_biegung layout-ncol=2}\n",
    "\n",
    "![Momenten-Krümmungs-Beziehung des Querschnitts](../imgs/tho_M_chi.svg){#fig-tho_M_chi}\n",
    "\n",
    "![Momenten-Verdrehungs-Beziehung des Querschnitts](../imgs/tho_M_phi.svg){#fig-tho_M_phi}\n",
    "\n",
    "Momenten-Krümmungs-Beziehung und Momenten-Verdrehungs-Beziehung für die Platte in globale $X$ und $Y$ Richtung.\n",
    ":::"
   ]
  },
  {
   "cell_type": "markdown",
   "metadata": {},
   "source": [
    "#### Rotationsvermögen\n",
    "\n",
    "Um das Fliessverhalten abzuschätzen wird das Rotationsvermögen abgeschätzt. Dazu wird eine zulässige Stahldehnung bestimmt anhand der Betonbruchstauchung:"
   ]
  },
  {
   "cell_type": "code",
   "execution_count": 24,
   "metadata": {},
   "outputs": [
    {
     "data": {
      "text/markdown": [
       "$$\n",
       "\\begin{aligned}\n",
       "\\varepsilon_{u , adm}& = \\frac{\\varepsilon_{cu} \\cdot \\left({d}' - x\\right)}{x} = 62.31 \\ \\mathrm{‰} \\quad &  \\quad &  \n",
       " \\end{aligned}\n",
       "$$"
      ],
      "text/plain": [
       "<IPython.core.display.Markdown object>"
      ]
     },
     "metadata": {},
     "output_type": "display_data"
    }
   ],
   "source": [
    "eps_u_com_adm = eps_cu * (d_apos - x) / x\n",
    "\n",
    "put_out(symbolic=True)"
   ]
  },
  {
   "cell_type": "markdown",
   "metadata": {},
   "source": [
    "Mit dieser lassen sich das plastische Rotationsvermögen bestimmen:"
   ]
  },
  {
   "cell_type": "code",
   "execution_count": 25,
   "metadata": {},
   "outputs": [
    {
     "data": {
      "text/markdown": [
       "$$\n",
       "\\begin{aligned}\n",
       "l_{pl}& = 2 \\cdot {d}' = 350.0 \\ \\mathrm{mm} \\\\ \n",
       "\\varepsilon_{cu}& = 5.0 \\ \\mathrm{‰} \\\\ \n",
       "\\Theta_{max}& = l_{pl} \\cdot \\left(\\frac{\\varepsilon_{cu}}{x} - \\frac{\\varepsilon_{sy}}{{d}' - x}\\right) = 0.13 \\ \\mathrm{rad} \\\\ \n",
       "\\Theta_{max gelenk}& = \\frac{\\Theta_{max}}{n_{gelenk}} = 0.13 \\ \\mathrm{rad} \\end{aligned}\n",
       "$$"
      ],
      "text/plain": [
       "<IPython.core.display.Markdown object>"
      ]
     },
     "metadata": {},
     "output_type": "display_data"
    }
   ],
   "source": [
    "# Annahme für die Länge des Gelenks\n",
    "l_pl = 2 * d_apos\n",
    "eps_cu\n",
    "# Verformungsvermögen\n",
    "Theta_max = (l_pl * (eps_cu / x  - eps_sy / (d_apos -x))).to(un.rad)\n",
    "Theta_max_gelenk = Theta_max / n_gelenk \n",
    "\n",
    "put_out(symbolic=True, rows = 1, precision = 3)"
   ]
  },
  {
   "cell_type": "code",
   "execution_count": 26,
   "metadata": {},
   "outputs": [
    {
     "data": {
      "text/html": [
       "350.0 mm"
      ],
      "text/latex": [
       "$350.0\\ \\mathrm{mm}$"
      ],
      "text/plain": [
       "<Quantity(350.0, 'millimeter')>"
      ]
     },
     "execution_count": 26,
     "metadata": {},
     "output_type": "execute_result"
    }
   ],
   "source": [
    "l_pl"
   ]
  },
  {
   "cell_type": "code",
   "execution_count": null,
   "metadata": {},
   "outputs": [],
   "source": []
  },
  {
   "cell_type": "code",
   "execution_count": 27,
   "metadata": {},
   "outputs": [
    {
     "data": {
      "text/html": [
       "<table><tbody><tr><th>Magnitude</th><td style='text-align:left;'><pre>[0.0 0.00042890955561667506 0.0013364650517816914 0.003999000523966154 0.13611055258088506]</pre></td></tr><tr><th>Units</th><td style='text-align:left;'>rad</td></tr></tbody></table>"
      ],
      "text/latex": [
       "$\\begin{pmatrix} &  &  &  & \\end{pmatrix}\\ \\mathrm{rad}$"
      ],
      "text/plain": [
       "<Quantity([0.         0.00042891 0.00133647 0.003999   0.13611055], 'radian')>"
      ]
     },
     "execution_count": 27,
     "metadata": {},
     "output_type": "execute_result"
    }
   ],
   "source": [
    "(chi_qs_array_zuggurt*l_pl).to(un.rad)"
   ]
  },
  {
   "cell_type": "markdown",
   "metadata": {},
   "source": [
    "Die Momenten-Krümmungs-Beziehung wird mit dem plastischen Rotationsvermögen erweitert:"
   ]
  },
  {
   "cell_type": "code",
   "execution_count": 28,
   "metadata": {},
   "outputs": [
    {
     "data": {
      "text/html": [
       "<table><tbody><tr><th>Magnitude</th><td style='text-align:left;'><pre>[0.0 0.00012254558731905003 0.0003818471576519119 0.001142571578276044 0.03888872930882431]</pre></td></tr><tr><th>Units</th><td style='text-align:left;'>rad</td></tr></tbody></table>"
      ],
      "text/latex": [
       "$\\begin{pmatrix} &  &  &  & \\end{pmatrix}\\ \\mathrm{rad}$"
      ],
      "text/plain": [
       "<Quantity([0.         0.00012255 0.00038185 0.00114257 0.03888873], 'radian')>"
      ]
     },
     "execution_count": 28,
     "metadata": {},
     "output_type": "execute_result"
    }
   ],
   "source": [
    "phi_qs_array"
   ]
  },
  {
   "cell_type": "code",
   "execution_count": 29,
   "metadata": {},
   "outputs": [],
   "source": [
    "theta_array = np.array([max(phi_qs_array), Theta_max_gelenk])\n",
    "M_pl_array = np.array([M_u.m, M_u.m])\n",
    "\n",
    "\n",
    "ax_M_phi.plot(theta_array,  M_pl_array, color='red')\n",
    " \n",
    "fig_M_phi.savefig(\"imgs/tho_M_phi_theta_max.svg\")\n",
    "plt.close()"
   ]
  },
  {
   "cell_type": "markdown",
   "metadata": {},
   "source": [
    "![Momenten-Verdrehungs-Diagramm mit dem Rotationsvermögen erweitert](../imgs/tho_M_phi_theta_max.svg){#fig-tho_M_phi_theta_max}\n",
    "\n",
    "Damit ist das Biegeverhalten der Gelenke definiert. "
   ]
  },
  {
   "cell_type": "markdown",
   "metadata": {},
   "source": [
    "### Drillsteifigkeit"
   ]
  },
  {
   "cell_type": "markdown",
   "metadata": {},
   "source": [
    "Das Torsionsträgheitsmoment für einen Rechteckquerschnitt approximiert:\n",
    "\n",
    "\n",
    "![Rechteckquerschnitt mit der Breite des Rosts](../imgs/tho_drillsteif_qs.png)"
   ]
  },
  {
   "cell_type": "markdown",
   "metadata": {},
   "source": [
    "Es wird eine Näherung zur Lösung des Torsionsträgheitmoments für Rechteckquerschnitte verwendet."
   ]
  },
  {
   "cell_type": "code",
   "execution_count": 30,
   "metadata": {},
   "outputs": [
    {
     "data": {
      "text/markdown": [
       "$$\n",
       "\\begin{aligned}\n",
       "\\beta_{Ix}& = 0.23 \\\\ \n",
       "I_{x}& = b_{w}^{3} \\cdot \\beta_{Ix} \\cdot h = 45800000.0 \\ \\mathrm{mm}^{4} \\end{aligned}\n",
       "$$"
      ],
      "text/plain": [
       "<IPython.core.display.Markdown object>"
      ]
     },
     "metadata": {},
     "output_type": "display_data"
    }
   ],
   "source": [
    "\n",
    "beta_Ix =  0.229\n",
    "I_x = (beta_Ix * h* b_w**3).to(un.mm**4) \n",
    "\n",
    "put_out(symbolic=True, rows = 1)"
   ]
  },
  {
   "cell_type": "markdown",
   "metadata": {},
   "source": [
    "Die ungerissene und gerissene Steifigkeit des Querschnitts wird folgend abgeschätzt:"
   ]
  },
  {
   "cell_type": "code",
   "execution_count": 31,
   "metadata": {},
   "outputs": [
    {
     "data": {
      "text/markdown": [
       "$$\n",
       "\\begin{aligned}\n",
       "\\nu& = 0.2 \\\\ \n",
       "\\eta_{II}& = 0.2 \\\\ \n",
       "G_{c}& = \\frac{E_{c}}{2 \\cdot \\left(\\nu + 1\\right)} = 9.54 \\ \\frac{\\mathrm{kN}}{\\mathrm{mm}^{2}} \\\\ \n",
       "GI& = G_{c} \\cdot I_{x} = 437.01 \\ \\mathrm{kN} \\cdot \\mathrm{m}^{2} \\\\ \n",
       "GI_{II}& = GI \\cdot \\eta_{II} = 87.4 \\ \\mathrm{kN} \\cdot \\mathrm{m}^{2} \\end{aligned}\n",
       "$$"
      ],
      "text/plain": [
       "<IPython.core.display.Markdown object>"
      ]
     },
     "metadata": {},
     "output_type": "display_data"
    }
   ],
   "source": [
    "nu = 0.2\n",
    "eta_II = 0.2\n",
    "G_c = E_c / (2*(1+nu))\n",
    "\n",
    "GI = (I_x * G_c).to(un.kN*un.m**2)\n",
    "GI_II = eta_II* GI\n",
    "\n",
    "put_out(symbolic=True, rows = 1)"
   ]
  },
  {
   "cell_type": "markdown",
   "metadata": {},
   "source": [
    "Und die Steifigkeit des Gelenks beträgt abschliessend:"
   ]
  },
  {
   "cell_type": "code",
   "execution_count": 32,
   "metadata": {},
   "outputs": [
    {
     "data": {
      "text/markdown": [
       "$$\n",
       "\\begin{aligned}\n",
       "k_{x II}& = \\frac{GI_{II} \\cdot n_{gelenk}}{l_{El}} = 874.02 \\ \\mathrm{kN} \\cdot \\mathrm{m} \\quad &  \\quad &  \n",
       " \\end{aligned}\n",
       "$$"
      ],
      "text/plain": [
       "<IPython.core.display.Markdown object>"
      ]
     },
     "metadata": {},
     "output_type": "display_data"
    }
   ],
   "source": [
    "k_x_II = GI_II*n_gelenk / l_El\n",
    "\n",
    "put_out(symbolic=True)"
   ]
  },
  {
   "cell_type": "markdown",
   "metadata": {},
   "source": [
    "Als Vergleichswert hier die Plattensteifigkeit gemäss der Plattengleichung."
   ]
  },
  {
   "cell_type": "code",
   "execution_count": 33,
   "metadata": {},
   "outputs": [
    {
     "data": {
      "text/markdown": [
       "$$\n",
       "\\begin{aligned}\n",
       "k_{r}& = \\frac{E_{c} \\cdot \\eta_{II} \\cdot h^{3}}{n_{gelenk} \\cdot 12 \\cdot \\left(1 - \\nu\\right)} = 3816.67 \\ \\frac{\\mathrm{kN} \\cdot \\mathrm{m}}{\\mathrm{rad}} \\quad &  \\quad &  \n",
       " \\end{aligned}\n",
       "$$"
      ],
      "text/plain": [
       "<IPython.core.display.Markdown object>"
      ]
     },
     "metadata": {},
     "output_type": "display_data"
    }
   ],
   "source": [
    "\n",
    "k_r = (E_c * (h)**3 / (12*(1-nu)) * eta_II/n_gelenk).to(un.kN*un.m/un.rad)\n",
    "\n",
    "put_out(symbolic=True)"
   ]
  },
  {
   "cell_type": "markdown",
   "metadata": {},
   "source": [
    "## Modellergebnisse"
   ]
  },
  {
   "cell_type": "markdown",
   "metadata": {},
   "source": [
    "Die Ergebnisse der Berechnung sind hier gezeigt anhand des Last-Verformungs-Diagramms für die Stelle $V10$."
   ]
  },
  {
   "cell_type": "code",
   "execution_count": 34,
   "metadata": {},
   "outputs": [
    {
     "data": {
      "image/svg+xml": [
       "<?xml version=\"1.0\" encoding=\"utf-8\" standalone=\"no\"?>\n",
       "<!DOCTYPE svg PUBLIC \"-//W3C//DTD SVG 1.1//EN\"\n",
       "  \"http://www.w3.org/Graphics/SVG/1.1/DTD/svg11.dtd\">\n",
       "<svg xmlns:xlink=\"http://www.w3.org/1999/xlink\" width=\"174.746322pt\" height=\"157.40388pt\" viewBox=\"0 0 174.746322 157.40388\" xmlns=\"http://www.w3.org/2000/svg\" version=\"1.1\">\n",
       " <metadata>\n",
       "  <rdf:RDF xmlns:dc=\"http://purl.org/dc/elements/1.1/\" xmlns:cc=\"http://creativecommons.org/ns#\" xmlns:rdf=\"http://www.w3.org/1999/02/22-rdf-syntax-ns#\">\n",
       "   <cc:Work>\n",
       "    <dc:type rdf:resource=\"http://purl.org/dc/dcmitype/StillImage\"/>\n",
       "    <dc:date>2024-11-15T09:04:25.638768</dc:date>\n",
       "    <dc:format>image/svg+xml</dc:format>\n",
       "    <dc:creator>\n",
       "     <cc:Agent>\n",
       "      <dc:title>Matplotlib v3.9.2, https://matplotlib.org/</dc:title>\n",
       "     </cc:Agent>\n",
       "    </dc:creator>\n",
       "   </cc:Work>\n",
       "  </rdf:RDF>\n",
       " </metadata>\n",
       " <defs>\n",
       "  <style type=\"text/css\">*{stroke-linejoin: round; stroke-linecap: butt}</style>\n",
       " </defs>\n",
       " <g id=\"figure_1\">\n",
       "  <g id=\"patch_1\">\n",
       "   <path d=\"M 0 157.40388 \n",
       "L 174.746322 157.40388 \n",
       "L 174.746322 0 \n",
       "L 0 0 \n",
       "z\n",
       "\" style=\"fill: #ffffff\"/>\n",
       "  </g>\n",
       "  <g id=\"axes_1\">\n",
       "   <g id=\"patch_2\">\n",
       "    <path d=\"M 35.48333 125.656693 \n",
       "L 154.538448 125.656693 \n",
       "L 154.538448 18.507087 \n",
       "L 35.48333 18.507087 \n",
       "z\n",
       "\" style=\"fill: #ffffff\"/>\n",
       "   </g>\n",
       "   <g id=\"matplotlib.axis_1\">\n",
       "    <g id=\"xtick_1\">\n",
       "     <g id=\"line2d_1\">\n",
       "      <path d=\"M 40.894926 125.656693 \n",
       "L 40.894926 18.507087 \n",
       "\" clip-path=\"url(#p9c641ceb4a)\" style=\"fill: none; stroke-dasharray: 0.74,0.32; stroke-dashoffset: 0; stroke: #808080; stroke-opacity: 0.7; stroke-width: 0.2\"/>\n",
       "     </g>\n",
       "     <g id=\"line2d_2\">\n",
       "      <defs>\n",
       "       <path id=\"m9fdf98b2d5\" d=\"M 0 0 \n",
       "L 0 -3.5 \n",
       "\" style=\"stroke: #000000; stroke-width: 0.5\"/>\n",
       "      </defs>\n",
       "      <g>\n",
       "       <use xlink:href=\"#m9fdf98b2d5\" x=\"40.894926\" y=\"125.656693\" style=\"stroke: #000000; stroke-width: 0.5\"/>\n",
       "      </g>\n",
       "     </g>\n",
       "     <g id=\"text_1\">\n",
       "      <!-- $\\mathdefault{0}$ -->\n",
       "      <g transform=\"translate(38.777834 134.691495) scale(0.08 -0.08)\">\n",
       "       <defs>\n",
       "        <path id=\"CMR17-30\" d=\"M 2688 2025 \n",
       "C 2688 2416 2682 3080 2413 3591 \n",
       "C 2176 4039 1798 4198 1466 4198 \n",
       "C 1158 4198 768 4058 525 3597 \n",
       "C 269 3118 243 2524 243 2025 \n",
       "C 243 1661 250 1106 448 619 \n",
       "C 723 -39 1216 -128 1466 -128 \n",
       "C 1760 -128 2208 -7 2470 600 \n",
       "C 2662 1042 2688 1559 2688 2025 \n",
       "z\n",
       "M 1466 -26 \n",
       "C 1056 -26 813 325 723 812 \n",
       "C 653 1188 653 1738 653 2096 \n",
       "C 653 2588 653 2997 736 3387 \n",
       "C 858 3929 1216 4096 1466 4096 \n",
       "C 1728 4096 2067 3923 2189 3400 \n",
       "C 2272 3036 2278 2607 2278 2096 \n",
       "C 2278 1680 2278 1169 2202 792 \n",
       "C 2067 95 1690 -26 1466 -26 \n",
       "z\n",
       "\" transform=\"scale(0.015625)\"/>\n",
       "       </defs>\n",
       "       <use xlink:href=\"#CMR17-30\" transform=\"scale(0.996264)\"/>\n",
       "      </g>\n",
       "     </g>\n",
       "    </g>\n",
       "    <g id=\"xtick_2\">\n",
       "     <g id=\"line2d_3\">\n",
       "      <path d=\"M 94.428997 125.656693 \n",
       "L 94.428997 18.507087 \n",
       "\" clip-path=\"url(#p9c641ceb4a)\" style=\"fill: none; stroke-dasharray: 0.74,0.32; stroke-dashoffset: 0; stroke: #808080; stroke-opacity: 0.7; stroke-width: 0.2\"/>\n",
       "     </g>\n",
       "     <g id=\"line2d_4\">\n",
       "      <g>\n",
       "       <use xlink:href=\"#m9fdf98b2d5\" x=\"94.428997\" y=\"125.656693\" style=\"stroke: #000000; stroke-width: 0.5\"/>\n",
       "      </g>\n",
       "     </g>\n",
       "     <g id=\"text_2\">\n",
       "      <!-- $\\mathdefault{100}$ -->\n",
       "      <g transform=\"translate(88.077722 134.691495) scale(0.08 -0.08)\">\n",
       "       <defs>\n",
       "        <path id=\"CMR17-31\" d=\"M 1702 4058 \n",
       "C 1702 4192 1696 4192 1606 4192 \n",
       "C 1357 3916 979 3827 621 3827 \n",
       "C 602 3827 570 3827 563 3808 \n",
       "C 557 3795 557 3782 557 3648 \n",
       "C 755 3648 1088 3686 1344 3839 \n",
       "L 1344 461 \n",
       "C 1344 236 1331 160 781 160 \n",
       "L 589 160 \n",
       "L 589 0 \n",
       "C 896 0 1216 0 1523 0 \n",
       "C 1830 0 2150 0 2458 0 \n",
       "L 2458 160 \n",
       "L 2266 160 \n",
       "C 1715 160 1702 230 1702 458 \n",
       "L 1702 4058 \n",
       "z\n",
       "\" transform=\"scale(0.015625)\"/>\n",
       "       </defs>\n",
       "       <use xlink:href=\"#CMR17-31\" transform=\"scale(0.996264)\"/>\n",
       "       <use xlink:href=\"#CMR17-30\" transform=\"translate(45.690477 0) scale(0.996264)\"/>\n",
       "       <use xlink:href=\"#CMR17-30\" transform=\"translate(91.380954 0) scale(0.996264)\"/>\n",
       "      </g>\n",
       "     </g>\n",
       "    </g>\n",
       "    <g id=\"xtick_3\">\n",
       "     <g id=\"line2d_5\">\n",
       "      <path d=\"M 147.963067 125.656693 \n",
       "L 147.963067 18.507087 \n",
       "\" clip-path=\"url(#p9c641ceb4a)\" style=\"fill: none; stroke-dasharray: 0.74,0.32; stroke-dashoffset: 0; stroke: #808080; stroke-opacity: 0.7; stroke-width: 0.2\"/>\n",
       "     </g>\n",
       "     <g id=\"line2d_6\">\n",
       "      <g>\n",
       "       <use xlink:href=\"#m9fdf98b2d5\" x=\"147.963067\" y=\"125.656693\" style=\"stroke: #000000; stroke-width: 0.5\"/>\n",
       "      </g>\n",
       "     </g>\n",
       "     <g id=\"text_3\">\n",
       "      <!-- $\\mathdefault{200}$ -->\n",
       "      <g transform=\"translate(141.611793 134.691495) scale(0.08 -0.08)\">\n",
       "       <defs>\n",
       "        <path id=\"CMR17-32\" d=\"M 2669 989 \n",
       "L 2554 989 \n",
       "C 2490 536 2438 459 2413 420 \n",
       "C 2381 369 1920 369 1830 369 \n",
       "L 602 369 \n",
       "C 832 619 1280 1072 1824 1597 \n",
       "C 2214 1967 2669 2402 2669 3035 \n",
       "C 2669 3790 2067 4224 1395 4224 \n",
       "C 691 4224 262 3604 262 3030 \n",
       "C 262 2780 448 2748 525 2748 \n",
       "C 589 2748 781 2787 781 3010 \n",
       "C 781 3207 614 3264 525 3264 \n",
       "C 486 3264 448 3258 422 3245 \n",
       "C 544 3790 915 4058 1306 4058 \n",
       "C 1862 4058 2227 3617 2227 3035 \n",
       "C 2227 2479 1901 2000 1536 1584 \n",
       "L 262 146 \n",
       "L 262 0 \n",
       "L 2515 0 \n",
       "L 2669 989 \n",
       "z\n",
       "\" transform=\"scale(0.015625)\"/>\n",
       "       </defs>\n",
       "       <use xlink:href=\"#CMR17-32\" transform=\"scale(0.996264)\"/>\n",
       "       <use xlink:href=\"#CMR17-30\" transform=\"translate(45.690477 0) scale(0.996264)\"/>\n",
       "       <use xlink:href=\"#CMR17-30\" transform=\"translate(91.380954 0) scale(0.996264)\"/>\n",
       "      </g>\n",
       "     </g>\n",
       "    </g>\n",
       "    <g id=\"text_4\">\n",
       "     <!-- $w_{V10}$ [mm] -->\n",
       "     <g transform=\"translate(71.284106 147.71322) scale(0.1 -0.1)\">\n",
       "      <defs>\n",
       "       <path id=\"CMMI12-77\" d=\"M 2202 390 \n",
       "C 2342 6 2739 -64 2982 -64 \n",
       "C 3469 -64 3757 358 3936 798 \n",
       "C 4083 1169 4320 2012 4320 2389 \n",
       "C 4320 2778 4122 2816 4064 2816 \n",
       "C 3910 2816 3770 2663 3770 2535 \n",
       "C 3770 2459 3814 2414 3846 2389 \n",
       "C 3904 2331 4070 2159 4070 1827 \n",
       "C 4070 1609 3891 1009 3757 709 \n",
       "C 3578 319 3341 64 3008 64 \n",
       "C 2650 64 2534 332 2534 626 \n",
       "C 2534 811 2592 1035 2618 1143 \n",
       "L 2886 2216 \n",
       "C 2918 2344 2976 2567 2976 2593 \n",
       "C 2976 2689 2899 2753 2803 2753 \n",
       "C 2618 2753 2573 2593 2534 2440 \n",
       "C 2470 2191 2202 1111 2176 971 \n",
       "C 2150 862 2150 792 2150 651 \n",
       "C 2150 498 1946 255 1939 243 \n",
       "C 1869 172 1766 64 1568 64 \n",
       "C 1062 64 1062 543 1062 651 \n",
       "C 1062 856 1107 1137 1395 1897 \n",
       "C 1472 2095 1504 2178 1504 2305 \n",
       "C 1504 2574 1312 2816 998 2816 \n",
       "C 410 2816 173 1890 173 1839 \n",
       "C 173 1814 198 1782 243 1782 \n",
       "C 301 1782 307 1807 333 1896 \n",
       "C 493 2454 742 2682 979 2682 \n",
       "C 1043 2682 1146 2682 1146 2478 \n",
       "C 1146 2446 1146 2312 1037 2031 \n",
       "C 736 1233 672 971 672 728 \n",
       "C 672 57 1222 -64 1549 -64 \n",
       "C 1658 -64 1946 -64 2202 390 \n",
       "z\n",
       "\" transform=\"scale(0.015625)\"/>\n",
       "       <path id=\"CMMI12-56\" d=\"M 3962 3640 \n",
       "C 4179 3984 4378 4136 4704 4162 \n",
       "C 4768 4168 4819 4168 4819 4282 \n",
       "C 4819 4308 4806 4346 4749 4346 \n",
       "C 4634 4346 4358 4346 4243 4346 \n",
       "C 4058 4346 3866 4346 3686 4346 \n",
       "C 3635 4346 3571 4346 3571 4226 \n",
       "C 3571 4168 3629 4162 3654 4162 \n",
       "C 3891 4143 3917 4029 3917 3952 \n",
       "C 3917 3857 3827 3710 3821 3704 \n",
       "L 1811 540 \n",
       "L 1363 3969 \n",
       "C 1363 4160 1696 4160 1766 4160 \n",
       "C 1862 4160 1920 4160 1920 4282 \n",
       "C 1920 4346 1850 4346 1830 4346 \n",
       "C 1722 4346 1594 4346 1485 4346 \n",
       "L 1126 4346 \n",
       "C 659 4346 467 4346 461 4346 \n",
       "C 422 4346 346 4346 346 4230 \n",
       "C 346 4160 390 4160 493 4160 \n",
       "C 819 4160 838 4102 858 3944 \n",
       "L 1370 24 \n",
       "C 1389 -109 1389 -128 1478 -128 \n",
       "C 1555 -128 1587 -109 1651 -8 \n",
       "L 3962 3640 \n",
       "z\n",
       "\" transform=\"scale(0.015625)\"/>\n",
       "       <path id=\"CMR17-5b\" d=\"M 1504 -1600 \n",
       "L 1504 -1377 \n",
       "L 902 -1377 \n",
       "L 902 4544 \n",
       "L 1504 4544 \n",
       "L 1504 4767 \n",
       "L 678 4767 \n",
       "L 678 -1600 \n",
       "L 1504 -1600 \n",
       "z\n",
       "\" transform=\"scale(0.015625)\"/>\n",
       "       <path id=\"CMR17-6d\" d=\"M 4326 1933 \n",
       "C 4326 2252 4269 2790 3507 2790 \n",
       "C 3072 2790 2771 2496 2656 2151 \n",
       "L 2650 2151 \n",
       "C 2573 2676 2195 2790 1837 2790 \n",
       "C 1331 2790 1069 2400 973 2144 \n",
       "L 966 2144 \n",
       "L 966 2790 \n",
       "L 211 2720 \n",
       "L 211 2554 \n",
       "C 589 2554 646 2515 646 2208 \n",
       "L 646 428 \n",
       "C 646 184 621 153 211 153 \n",
       "L 211 -13 \n",
       "C 365 0 646 0 813 0 \n",
       "C 979 0 1267 0 1421 -13 \n",
       "L 1421 153 \n",
       "C 1011 153 986 178 986 428 \n",
       "L 986 1658 \n",
       "C 986 2247 1344 2688 1792 2688 \n",
       "C 2266 2688 2317 2266 2317 1958 \n",
       "L 2317 428 \n",
       "C 2317 184 2291 153 1882 153 \n",
       "L 1882 -13 \n",
       "C 2035 0 2317 0 2483 0 \n",
       "C 2650 0 2938 0 3091 -13 \n",
       "L 3091 153 \n",
       "C 2682 153 2656 178 2656 428 \n",
       "L 2656 1658 \n",
       "C 2656 2247 3014 2688 3462 2688 \n",
       "C 3936 2688 3987 2266 3987 1958 \n",
       "L 3987 428 \n",
       "C 3987 184 3962 153 3552 153 \n",
       "L 3552 -13 \n",
       "C 3706 0 3987 0 4154 0 \n",
       "C 4320 0 4608 0 4762 -13 \n",
       "L 4762 153 \n",
       "C 4352 153 4326 178 4326 428 \n",
       "L 4326 1933 \n",
       "z\n",
       "\" transform=\"scale(0.015625)\"/>\n",
       "       <path id=\"CMR17-5d\" d=\"M 915 4767 \n",
       "L 90 4767 \n",
       "L 90 4544 \n",
       "L 691 4544 \n",
       "L 691 -1377 \n",
       "L 90 -1377 \n",
       "L 90 -1600 \n",
       "L 915 -1600 \n",
       "L 915 4767 \n",
       "z\n",
       "\" transform=\"scale(0.015625)\"/>\n",
       "      </defs>\n",
       "      <use xlink:href=\"#CMMI12-77\" transform=\"scale(0.996264)\"/>\n",
       "      <use xlink:href=\"#CMMI12-56\" transform=\"translate(69.73199 -14.943915) scale(0.697382)\"/>\n",
       "      <use xlink:href=\"#CMR17-31\" transform=\"translate(124.71486 -14.943915) scale(0.697382)\"/>\n",
       "      <use xlink:href=\"#CMR17-30\" transform=\"translate(156.698042 -14.943915) scale(0.697382)\"/>\n",
       "      <use xlink:href=\"#CMR17-5b\" transform=\"translate(219.255322 0) scale(0.996264)\"/>\n",
       "      <use xlink:href=\"#CMR17-6d\" transform=\"translate(244.126381 0) scale(0.996264)\"/>\n",
       "      <use xlink:href=\"#CMR17-6d\" transform=\"translate(321.045971 0) scale(0.996264)\"/>\n",
       "      <use xlink:href=\"#CMR17-5d\" transform=\"translate(397.965561 0) scale(0.996264)\"/>\n",
       "     </g>\n",
       "    </g>\n",
       "   </g>\n",
       "   <g id=\"matplotlib.axis_2\">\n",
       "    <g id=\"ytick_1\">\n",
       "     <g id=\"line2d_7\">\n",
       "      <path d=\"M 35.48333 120.516426 \n",
       "L 154.538448 120.516426 \n",
       "\" clip-path=\"url(#p9c641ceb4a)\" style=\"fill: none; stroke-dasharray: 0.74,0.32; stroke-dashoffset: 0; stroke: #808080; stroke-opacity: 0.7; stroke-width: 0.2\"/>\n",
       "     </g>\n",
       "     <g id=\"line2d_8\">\n",
       "      <defs>\n",
       "       <path id=\"mc0f07a249a\" d=\"M 0 0 \n",
       "L 3.5 0 \n",
       "\" style=\"stroke: #000000; stroke-width: 0.5\"/>\n",
       "      </defs>\n",
       "      <g>\n",
       "       <use xlink:href=\"#mc0f07a249a\" x=\"35.48333\" y=\"120.516426\" style=\"stroke: #000000; stroke-width: 0.5\"/>\n",
       "      </g>\n",
       "     </g>\n",
       "     <g id=\"text_5\">\n",
       "      <!-- $\\mathdefault{0.0}$ -->\n",
       "      <g transform=\"translate(21.16264 123.283827) scale(0.08 -0.08)\">\n",
       "       <defs>\n",
       "        <path id=\"CMMI12-3a\" d=\"M 1178 307 \n",
       "C 1178 492 1024 619 870 619 \n",
       "C 685 619 557 466 557 313 \n",
       "C 557 128 710 0 864 0 \n",
       "C 1050 0 1178 153 1178 307 \n",
       "z\n",
       "\" transform=\"scale(0.015625)\"/>\n",
       "       </defs>\n",
       "       <use xlink:href=\"#CMR17-30\" transform=\"scale(0.996264)\"/>\n",
       "       <use xlink:href=\"#CMMI12-3a\" transform=\"translate(45.690477 0) scale(0.996264)\"/>\n",
       "       <use xlink:href=\"#CMR17-30\" transform=\"translate(72.787654 0) scale(0.996264)\"/>\n",
       "      </g>\n",
       "     </g>\n",
       "    </g>\n",
       "    <g id=\"ytick_2\">\n",
       "     <g id=\"line2d_9\">\n",
       "      <path d=\"M 35.48333 100.70009 \n",
       "L 154.538448 100.70009 \n",
       "\" clip-path=\"url(#p9c641ceb4a)\" style=\"fill: none; stroke-dasharray: 0.74,0.32; stroke-dashoffset: 0; stroke: #808080; stroke-opacity: 0.7; stroke-width: 0.2\"/>\n",
       "     </g>\n",
       "     <g id=\"line2d_10\">\n",
       "      <g>\n",
       "       <use xlink:href=\"#mc0f07a249a\" x=\"35.48333\" y=\"100.70009\" style=\"stroke: #000000; stroke-width: 0.5\"/>\n",
       "      </g>\n",
       "     </g>\n",
       "     <g id=\"text_6\">\n",
       "      <!-- $\\mathdefault{0.2}$ -->\n",
       "      <g transform=\"translate(21.16264 103.467491) scale(0.08 -0.08)\">\n",
       "       <use xlink:href=\"#CMR17-30\" transform=\"scale(0.996264)\"/>\n",
       "       <use xlink:href=\"#CMMI12-3a\" transform=\"translate(45.690477 0) scale(0.996264)\"/>\n",
       "       <use xlink:href=\"#CMR17-32\" transform=\"translate(72.787654 0) scale(0.996264)\"/>\n",
       "      </g>\n",
       "     </g>\n",
       "    </g>\n",
       "    <g id=\"ytick_3\">\n",
       "     <g id=\"line2d_11\">\n",
       "      <path d=\"M 35.48333 80.883754 \n",
       "L 154.538448 80.883754 \n",
       "\" clip-path=\"url(#p9c641ceb4a)\" style=\"fill: none; stroke-dasharray: 0.74,0.32; stroke-dashoffset: 0; stroke: #808080; stroke-opacity: 0.7; stroke-width: 0.2\"/>\n",
       "     </g>\n",
       "     <g id=\"line2d_12\">\n",
       "      <g>\n",
       "       <use xlink:href=\"#mc0f07a249a\" x=\"35.48333\" y=\"80.883754\" style=\"stroke: #000000; stroke-width: 0.5\"/>\n",
       "      </g>\n",
       "     </g>\n",
       "     <g id=\"text_7\">\n",
       "      <!-- $\\mathdefault{0.4}$ -->\n",
       "      <g transform=\"translate(21.16264 83.651155) scale(0.08 -0.08)\">\n",
       "       <defs>\n",
       "        <path id=\"CMR17-34\" d=\"M 2150 4122 \n",
       "C 2150 4256 2144 4256 2029 4256 \n",
       "L 128 1254 \n",
       "L 128 1088 \n",
       "L 1779 1088 \n",
       "L 1779 457 \n",
       "C 1779 224 1766 160 1318 160 \n",
       "L 1197 160 \n",
       "L 1197 0 \n",
       "C 1402 0 1747 0 1965 0 \n",
       "C 2182 0 2528 0 2733 0 \n",
       "L 2733 160 \n",
       "L 2611 160 \n",
       "C 2163 160 2150 224 2150 457 \n",
       "L 2150 1088 \n",
       "L 2803 1088 \n",
       "L 2803 1254 \n",
       "L 2150 1254 \n",
       "L 2150 4122 \n",
       "z\n",
       "M 1798 3703 \n",
       "L 1798 1254 \n",
       "L 256 1254 \n",
       "L 1798 3703 \n",
       "z\n",
       "\" transform=\"scale(0.015625)\"/>\n",
       "       </defs>\n",
       "       <use xlink:href=\"#CMR17-30\" transform=\"scale(0.996264)\"/>\n",
       "       <use xlink:href=\"#CMMI12-3a\" transform=\"translate(45.690477 0) scale(0.996264)\"/>\n",
       "       <use xlink:href=\"#CMR17-34\" transform=\"translate(72.787654 0) scale(0.996264)\"/>\n",
       "      </g>\n",
       "     </g>\n",
       "    </g>\n",
       "    <g id=\"ytick_4\">\n",
       "     <g id=\"line2d_13\">\n",
       "      <path d=\"M 35.48333 61.067418 \n",
       "L 154.538448 61.067418 \n",
       "\" clip-path=\"url(#p9c641ceb4a)\" style=\"fill: none; stroke-dasharray: 0.74,0.32; stroke-dashoffset: 0; stroke: #808080; stroke-opacity: 0.7; stroke-width: 0.2\"/>\n",
       "     </g>\n",
       "     <g id=\"line2d_14\">\n",
       "      <g>\n",
       "       <use xlink:href=\"#mc0f07a249a\" x=\"35.48333\" y=\"61.067418\" style=\"stroke: #000000; stroke-width: 0.5\"/>\n",
       "      </g>\n",
       "     </g>\n",
       "     <g id=\"text_8\">\n",
       "      <!-- $\\mathdefault{0.6}$ -->\n",
       "      <g transform=\"translate(21.16264 63.834818) scale(0.08 -0.08)\">\n",
       "       <defs>\n",
       "        <path id=\"CMR17-36\" d=\"M 678 2176 \n",
       "C 678 3690 1395 4032 1811 4032 \n",
       "C 1946 4032 2272 4009 2400 3776 \n",
       "C 2298 3776 2106 3776 2106 3553 \n",
       "C 2106 3381 2246 3323 2336 3323 \n",
       "C 2394 3323 2566 3348 2566 3560 \n",
       "C 2566 3954 2246 4179 1805 4179 \n",
       "C 1043 4179 243 3390 243 1984 \n",
       "C 243 253 966 -128 1478 -128 \n",
       "C 2099 -128 2688 427 2688 1283 \n",
       "C 2688 2081 2170 2662 1517 2662 \n",
       "C 1126 2662 838 2407 678 1960 \n",
       "L 678 2176 \n",
       "z\n",
       "M 1478 25 \n",
       "C 691 25 691 1200 691 1436 \n",
       "C 691 1896 909 2560 1504 2560 \n",
       "C 1613 2560 1926 2560 2138 2120 \n",
       "C 2253 1870 2253 1609 2253 1289 \n",
       "C 2253 944 2253 690 2118 434 \n",
       "C 1978 171 1773 25 1478 25 \n",
       "z\n",
       "\" transform=\"scale(0.015625)\"/>\n",
       "       </defs>\n",
       "       <use xlink:href=\"#CMR17-30\" transform=\"scale(0.996264)\"/>\n",
       "       <use xlink:href=\"#CMMI12-3a\" transform=\"translate(45.690477 0) scale(0.996264)\"/>\n",
       "       <use xlink:href=\"#CMR17-36\" transform=\"translate(72.787654 0) scale(0.996264)\"/>\n",
       "      </g>\n",
       "     </g>\n",
       "    </g>\n",
       "    <g id=\"ytick_5\">\n",
       "     <g id=\"line2d_15\">\n",
       "      <path d=\"M 35.48333 41.251081 \n",
       "L 154.538448 41.251081 \n",
       "\" clip-path=\"url(#p9c641ceb4a)\" style=\"fill: none; stroke-dasharray: 0.74,0.32; stroke-dashoffset: 0; stroke: #808080; stroke-opacity: 0.7; stroke-width: 0.2\"/>\n",
       "     </g>\n",
       "     <g id=\"line2d_16\">\n",
       "      <g>\n",
       "       <use xlink:href=\"#mc0f07a249a\" x=\"35.48333\" y=\"41.251081\" style=\"stroke: #000000; stroke-width: 0.5\"/>\n",
       "      </g>\n",
       "     </g>\n",
       "     <g id=\"text_9\">\n",
       "      <!-- $\\mathdefault{0.8}$ -->\n",
       "      <g transform=\"translate(21.16264 44.018482) scale(0.08 -0.08)\">\n",
       "       <defs>\n",
       "        <path id=\"CMR17-38\" d=\"M 1741 2264 \n",
       "C 2144 2467 2554 2773 2554 3263 \n",
       "C 2554 3841 1990 4179 1472 4179 \n",
       "C 890 4179 378 3759 378 3180 \n",
       "C 378 3021 416 2747 666 2505 \n",
       "C 730 2442 998 2251 1171 2130 \n",
       "C 883 1983 211 1634 211 934 \n",
       "C 211 279 838 -128 1459 -128 \n",
       "C 2144 -128 2720 362 2720 1010 \n",
       "C 2720 1590 2330 1857 2074 2029 \n",
       "L 1741 2264 \n",
       "z\n",
       "M 902 2822 \n",
       "C 851 2854 595 3051 595 3351 \n",
       "C 595 3739 998 4032 1459 4032 \n",
       "C 1965 4032 2336 3676 2336 3262 \n",
       "C 2336 2669 1670 2331 1638 2331 \n",
       "C 1632 2331 1626 2331 1574 2370 \n",
       "L 902 2822 \n",
       "z\n",
       "M 2080 1519 \n",
       "C 2176 1449 2483 1240 2483 851 \n",
       "C 2483 381 2010 25 1472 25 \n",
       "C 890 25 448 438 448 940 \n",
       "C 448 1443 838 1862 1280 2060 \n",
       "L 2080 1519 \n",
       "z\n",
       "\" transform=\"scale(0.015625)\"/>\n",
       "       </defs>\n",
       "       <use xlink:href=\"#CMR17-30\" transform=\"scale(0.996264)\"/>\n",
       "       <use xlink:href=\"#CMMI12-3a\" transform=\"translate(45.690477 0) scale(0.996264)\"/>\n",
       "       <use xlink:href=\"#CMR17-38\" transform=\"translate(72.787654 0) scale(0.996264)\"/>\n",
       "      </g>\n",
       "     </g>\n",
       "    </g>\n",
       "    <g id=\"ytick_6\">\n",
       "     <g id=\"line2d_17\">\n",
       "      <path d=\"M 35.48333 21.434745 \n",
       "L 154.538448 21.434745 \n",
       "\" clip-path=\"url(#p9c641ceb4a)\" style=\"fill: none; stroke-dasharray: 0.74,0.32; stroke-dashoffset: 0; stroke: #808080; stroke-opacity: 0.7; stroke-width: 0.2\"/>\n",
       "     </g>\n",
       "     <g id=\"line2d_18\">\n",
       "      <g>\n",
       "       <use xlink:href=\"#mc0f07a249a\" x=\"35.48333\" y=\"21.434745\" style=\"stroke: #000000; stroke-width: 0.5\"/>\n",
       "      </g>\n",
       "     </g>\n",
       "     <g id=\"text_10\">\n",
       "      <!-- $\\mathdefault{1.0}$ -->\n",
       "      <g transform=\"translate(21.16264 24.202146) scale(0.08 -0.08)\">\n",
       "       <use xlink:href=\"#CMR17-31\" transform=\"scale(0.996264)\"/>\n",
       "       <use xlink:href=\"#CMMI12-3a\" transform=\"translate(45.690477 0) scale(0.996264)\"/>\n",
       "       <use xlink:href=\"#CMR17-30\" transform=\"translate(72.787654 0) scale(0.996264)\"/>\n",
       "      </g>\n",
       "     </g>\n",
       "    </g>\n",
       "    <g id=\"text_11\">\n",
       "     <!-- $F$ [kN] -->\n",
       "     <g transform=\"translate(14.67198 86.769898) rotate(-90) scale(0.1 -0.1)\">\n",
       "      <defs>\n",
       "       <path id=\"CMMI12-46\" d=\"M 1901 2055 \n",
       "L 2515 2055 \n",
       "C 3002 2055 3040 1946 3040 1761 \n",
       "C 3040 1678 3027 1589 2995 1448 \n",
       "C 2982 1423 2976 1391 2976 1378 \n",
       "C 2976 1333 3002 1308 3046 1308 \n",
       "C 3098 1308 3104 1333 3130 1435 \n",
       "L 3501 2935 \n",
       "C 3501 2961 3482 2999 3437 2999 \n",
       "C 3379 2999 3373 2974 3347 2863 \n",
       "C 3213 2376 3085 2240 2528 2240 \n",
       "L 1946 2240 \n",
       "L 2362 3926 \n",
       "C 2419 4154 2432 4154 2694 4154 \n",
       "L 3552 4154 \n",
       "C 4352 4154 4467 3918 4467 3464 \n",
       "C 4467 3426 4467 3285 4448 3119 \n",
       "C 4442 3094 4429 3011 4429 2985 \n",
       "C 4429 2934 4461 2915 4499 2915 \n",
       "C 4544 2915 4570 2941 4582 3055 \n",
       "L 4717 4174 \n",
       "C 4717 4195 4730 4263 4730 4277 \n",
       "C 4730 4352 4672 4352 4557 4352 \n",
       "L 1523 4352 \n",
       "C 1402 4352 1338 4352 1338 4229 \n",
       "C 1338 4154 1382 4154 1491 4154 \n",
       "C 1888 4154 1888 4113 1888 4050 \n",
       "C 1888 4018 1882 3992 1862 3922 \n",
       "L 998 473 \n",
       "C 941 249 928 185 480 185 \n",
       "C 358 185 294 185 294 70 \n",
       "C 294 0 352 0 390 0 \n",
       "C 512 0 640 0 762 0 \n",
       "L 1594 0 \n",
       "C 1734 0 1888 0 2029 0 \n",
       "C 2086 0 2163 0 2163 115 \n",
       "C 2163 185 2125 185 1984 185 \n",
       "C 1478 185 1466 229 1466 324 \n",
       "C 1466 356 1478 406 1491 449 \n",
       "L 1901 2055 \n",
       "z\n",
       "\" transform=\"scale(0.015625)\"/>\n",
       "       <path id=\"CMR17-6b\" d=\"M 1670 1673 \n",
       "C 1664 1686 1632 1724 1632 1743 \n",
       "C 1632 1756 2086 2171 2144 2222 \n",
       "C 2509 2528 2739 2560 2906 2560 \n",
       "L 2906 2733 \n",
       "C 2867 2733 2854 2733 2848 2720 \n",
       "L 2534 2720 \n",
       "C 2355 2720 2080 2720 1907 2733 \n",
       "L 1907 2566 \n",
       "C 1997 2559 2061 2508 2061 2419 \n",
       "C 2061 2291 1933 2170 1926 2170 \n",
       "L 960 1289 \n",
       "L 960 4396 \n",
       "L 198 4326 \n",
       "L 198 4160 \n",
       "C 576 4160 634 4122 634 3817 \n",
       "L 634 426 \n",
       "C 634 184 608 153 198 153 \n",
       "L 198 -13 \n",
       "C 352 0 634 0 794 0 \n",
       "C 954 0 1235 0 1389 -13 \n",
       "L 1389 153 \n",
       "C 979 153 954 178 954 428 \n",
       "L 954 1130 \n",
       "L 1395 1532 \n",
       "L 2042 574 \n",
       "C 2118 459 2182 369 2182 286 \n",
       "C 2182 172 2067 153 1990 153 \n",
       "L 1990 -13 \n",
       "C 2144 0 2419 0 2579 0 \n",
       "C 2694 0 2931 0 3040 0 \n",
       "L 3040 153 \n",
       "C 2739 153 2669 210 2477 491 \n",
       "L 1670 1673 \n",
       "z\n",
       "\" transform=\"scale(0.015625)\"/>\n",
       "       <path id=\"CMR17-4e\" d=\"M 1312 4250 \n",
       "C 1267 4320 1261 4320 1139 4320 \n",
       "L 326 4320 \n",
       "L 326 4160 \n",
       "L 448 4160 \n",
       "C 704 4160 819 4129 838 4122 \n",
       "L 838 610 \n",
       "C 838 451 838 153 326 153 \n",
       "L 326 -13 \n",
       "C 474 0 742 0 902 0 \n",
       "C 1062 0 1331 0 1478 -13 \n",
       "L 1478 153 \n",
       "C 966 153 966 451 966 610 \n",
       "L 966 4033 \n",
       "C 1011 3995 1011 3982 1056 3919 \n",
       "L 3430 76 \n",
       "C 3475 0 3494 0 3526 0 \n",
       "C 3590 0 3590 19 3590 139 \n",
       "L 3590 3705 \n",
       "C 3590 3863 3590 4160 4102 4160 \n",
       "L 4102 4326 \n",
       "C 3955 4320 3686 4320 3526 4320 \n",
       "C 3366 4320 3098 4320 2950 4326 \n",
       "L 2950 4160 \n",
       "C 3462 4160 3462 3862 3462 3703 \n",
       "L 3462 763 \n",
       "L 1312 4250 \n",
       "z\n",
       "\" transform=\"scale(0.015625)\"/>\n",
       "      </defs>\n",
       "      <use xlink:href=\"#CMMI12-46\" transform=\"scale(0.996264)\"/>\n",
       "      <use xlink:href=\"#CMR17-5b\" transform=\"translate(106.772759 0) scale(0.996264)\"/>\n",
       "      <use xlink:href=\"#CMR17-6b\" transform=\"translate(131.643817 0) scale(0.996264)\"/>\n",
       "      <use xlink:href=\"#CMR17-4e\" transform=\"translate(179.936733 0) scale(0.996264)\"/>\n",
       "      <use xlink:href=\"#CMR17-5d\" transform=\"translate(249.009163 0) scale(0.996264)\"/>\n",
       "     </g>\n",
       "    </g>\n",
       "    <g id=\"text_12\">\n",
       "     <!-- $\\times\\mathdefault{10^{3}}\\mathdefault{}$ -->\n",
       "     <g transform=\"translate(35.48333 15.507087) scale(0.08 -0.08)\">\n",
       "      <defs>\n",
       "       <path id=\"CMSY10-2\" d=\"M 2490 1785 \n",
       "L 1210 3059 \n",
       "C 1133 3136 1120 3148 1069 3148 \n",
       "C 1005 3148 941 3091 941 3020 \n",
       "C 941 2976 954 2963 1024 2892 \n",
       "L 2304 1606 \n",
       "L 1024 320 \n",
       "C 954 249 941 236 941 192 \n",
       "C 941 121 1005 64 1069 64 \n",
       "C 1120 64 1133 76 1210 153 \n",
       "L 2483 1427 \n",
       "L 3808 102 \n",
       "C 3821 96 3866 64 3904 64 \n",
       "C 3981 64 4032 121 4032 192 \n",
       "C 4032 204 4032 230 4013 262 \n",
       "C 4006 275 2989 1280 2669 1606 \n",
       "L 3840 2777 \n",
       "C 3872 2816 3968 2899 4000 2937 \n",
       "C 4006 2950 4032 2976 4032 3020 \n",
       "C 4032 3091 3981 3148 3904 3148 \n",
       "C 3853 3148 3827 3123 3757 3052 \n",
       "L 2490 1785 \n",
       "z\n",
       "\" transform=\"scale(0.015625)\"/>\n",
       "       <path id=\"CMR17-33\" d=\"M 1414 2157 \n",
       "C 1984 2157 2234 1662 2234 1090 \n",
       "C 2234 320 1824 25 1453 25 \n",
       "C 1114 25 563 194 390 693 \n",
       "C 422 680 454 680 486 680 \n",
       "C 640 680 755 782 755 948 \n",
       "C 755 1133 614 1216 486 1216 \n",
       "C 378 1216 211 1165 211 926 \n",
       "C 211 335 787 -128 1466 -128 \n",
       "C 2176 -128 2720 430 2720 1085 \n",
       "C 2720 1707 2208 2157 1600 2227 \n",
       "C 2086 2328 2554 2756 2554 3329 \n",
       "C 2554 3820 2048 4179 1472 4179 \n",
       "C 890 4179 378 3829 378 3329 \n",
       "C 378 3110 544 3072 627 3072 \n",
       "C 762 3072 877 3155 877 3321 \n",
       "C 877 3486 762 3569 627 3569 \n",
       "C 602 3569 570 3569 544 3557 \n",
       "C 730 3959 1235 4032 1459 4032 \n",
       "C 1683 4032 2106 3925 2106 3320 \n",
       "C 2106 3143 2080 2828 1862 2550 \n",
       "C 1670 2304 1453 2304 1242 2284 \n",
       "C 1210 2284 1062 2269 1037 2269 \n",
       "C 992 2263 966 2257 966 2208 \n",
       "C 966 2163 973 2157 1101 2157 \n",
       "L 1414 2157 \n",
       "z\n",
       "\" transform=\"scale(0.015625)\"/>\n",
       "      </defs>\n",
       "      <use xlink:href=\"#CMSY10-2\" transform=\"scale(0.996264)\"/>\n",
       "      <use xlink:href=\"#CMR17-31\" transform=\"translate(77.487468 0) scale(0.996264)\"/>\n",
       "      <use xlink:href=\"#CMR17-30\" transform=\"translate(123.177945 0) scale(0.996264)\"/>\n",
       "      <use xlink:href=\"#CMR17-33\" transform=\"translate(168.868422 36.153639) scale(0.697382)\"/>\n",
       "     </g>\n",
       "    </g>\n",
       "   </g>\n",
       "   <g id=\"PathCollection_1\">\n",
       "    <defs>\n",
       "     <path id=\"m977260cb63\" d=\"M -2.236068 2.236068 \n",
       "L 2.236068 -2.236068 \n",
       "M -2.236068 -2.236068 \n",
       "L 2.236068 2.236068 \n",
       "\" style=\"stroke: #ff0000; stroke-width: 0.7\"/>\n",
       "    </defs>\n",
       "    <g clip-path=\"url(#p9c641ceb4a)\">\n",
       "     <use xlink:href=\"#m977260cb63\" x=\"122.52796\" y=\"35.578049\" style=\"fill: #ff0000; stroke: #ff0000; stroke-width: 0.7\"/>\n",
       "    </g>\n",
       "   </g>\n",
       "   <g id=\"line2d_19\">\n",
       "    <path d=\"M 41.185872 120.786256 \n",
       "L 41.476818 111.881857 \n",
       "L 41.476818 104.596439 \n",
       "L 42.640602 98.660173 \n",
       "L 42.931548 92.993737 \n",
       "L 44.095332 86.78764 \n",
       "L 46.422901 81.660865 \n",
       "L 49.623307 74.915108 \n",
       "L 49.332361 90.025604 \n",
       "L 44.96817 119.167275 \n",
       "L 51.659929 70.597823 \n",
       "L 53.696551 64.661557 \n",
       "L 55.733174 60.883933 \n",
       "L 58.060742 57.106309 \n",
       "L 62.715879 50.360552 \n",
       "L 63.588717 58.18563 \n",
       "L 65.334393 50.900212 \n",
       "L 68.243853 45.233776 \n",
       "L 74.35372 40.646662 \n",
       "L 79.299803 37.948359 \n",
       "L 88.901022 32.551753 \n",
       "L 88.31913 38.488019 \n",
       "L 91.810482 32.281923 \n",
       "L 97.920349 30.12328 \n",
       "L 104.321162 27.964638 \n",
       "L 108.976298 26.615487 \n",
       "L 108.976298 38.488019 \n",
       "L 110.721975 32.551753 \n",
       "L 113.340489 27.424978 \n",
       "L 117.122787 24.187014 \n",
       "L 122.06887 23.377523 \n",
       "L 128.760629 23.377523 \n",
       "L 133.997658 23.647354 \n",
       "L 138.94374 24.996505 \n",
       "L 143.889823 26.345656 \n",
       "L 149.126851 29.58362 \n",
       "\" clip-path=\"url(#p9c641ceb4a)\" style=\"fill: none; stroke: #000000; stroke-width: 0.7; stroke-linecap: square\"/>\n",
       "   </g>\n",
       "   <g id=\"line2d_20\">\n",
       "    <path d=\"M 40.894926 120.516426 \n",
       "L 40.957561 119.320075 \n",
       "L 41.020731 118.123822 \n",
       "L 41.083366 116.927471 \n",
       "L 41.146536 115.73112 \n",
       "L 41.209171 114.534866 \n",
       "L 41.272341 113.338516 \n",
       "L 41.334976 112.142165 \n",
       "L 41.397611 110.945911 \n",
       "L 41.462922 109.749658 \n",
       "L 41.536799 108.552919 \n",
       "L 41.613353 107.35715 \n",
       "L 41.693119 106.160412 \n",
       "L 41.777167 104.964643 \n",
       "L 41.867105 103.767904 \n",
       "L 41.976314 102.571166 \n",
       "L 42.105867 101.375397 \n",
       "L 42.286276 100.178659 \n",
       "L 42.51915 98.982889 \n",
       "L 42.819476 97.786151 \n",
       "L 43.18779 96.590382 \n",
       "L 43.556105 95.393644 \n",
       "L 43.968852 94.197874 \n",
       "L 44.351085 93.001136 \n",
       "L 44.713511 91.804398 \n",
       "L 45.068442 90.608629 \n",
       "L 45.43408 89.41189 \n",
       "L 45.831838 88.216121 \n",
       "L 46.241374 87.019383 \n",
       "L 46.665363 85.823614 \n",
       "L 47.105949 84.626875 \n",
       "L 47.556706 83.430137 \n",
       "L 48.012281 82.234368 \n",
       "L 48.484986 81.03763 \n",
       "L 48.979106 79.84186 \n",
       "L 49.564769 78.645122 \n",
       "L 50.221096 77.449353 \n",
       "L 50.932564 76.252614 \n",
       "L 51.722727 75.055876 \n",
       "L 52.606039 73.860107 \n",
       "L 53.609268 72.663369 \n",
       "L 54.768816 71.467599 \n",
       "L 56.117874 70.270861 \n",
       "L 57.590597 69.075092 \n",
       "L 59.185912 67.878354 \n",
       "L 60.907568 66.681615 \n",
       "L 62.74914 65.485846 \n",
       "L 64.650134 64.289108 \n",
       "L 66.618582 63.093339 \n",
       "L 68.657695 61.8966 \n",
       "L 70.732676 60.700831 \n",
       "L 72.874038 59.504093 \n",
       "L 75.069471 58.307355 \n",
       "L 77.307195 57.111585 \n",
       "L 79.606483 55.914847 \n",
       "L 81.96573 54.719078 \n",
       "L 84.357097 53.52234 \n",
       "L 86.77416 52.32657 \n",
       "L 89.20996 51.129832 \n",
       "L 91.665568 49.933094 \n",
       "L 94.143125 48.737325 \n",
       "L 96.650661 47.540586 \n",
       "L 99.176398 46.344817 \n",
       "L 101.715519 45.148079 \n",
       "L 104.271235 43.95231 \n",
       "L 106.836053 42.755571 \n",
       "L 109.412648 41.559802 \n",
       "L 112.007979 40.363064 \n",
       "L 114.617765 39.166326 \n",
       "L 117.244682 37.970556 \n",
       "L 119.880164 36.773818 \n",
       "L 122.52796 35.578049 \n",
       "\" clip-path=\"url(#p9c641ceb4a)\" style=\"fill: none; stroke: #808080; stroke-width: 0.7; stroke-linecap: square\"/>\n",
       "   </g>\n",
       "   <g id=\"line2d_21\">\n",
       "    <path d=\"M 40.894926 120.516426 \n",
       "L 42.34677 100.636678 \n",
       "L 42.731145 99.067171 \n",
       "L 43.291111 97.497665 \n",
       "L 43.900864 95.928159 \n",
       "L 44.482779 94.358653 \n",
       "L 45.027221 92.789644 \n",
       "L 45.559349 91.220138 \n",
       "L 46.166426 89.650632 \n",
       "L 46.807229 88.081125 \n",
       "L 47.499424 86.511619 \n",
       "L 48.203933 84.942113 \n",
       "L 48.988742 83.372607 \n",
       "L 50.098503 81.803101 \n",
       "L 51.532146 80.233595 \n",
       "L 53.615692 78.664089 \n",
       "L 56.888765 77.095079 \n",
       "L 63.03287 75.525573 \n",
       "L 73.800178 73.956067 \n",
       "L 94.147943 72.386561 \n",
       "L 139.537875 70.817055 \n",
       "\" clip-path=\"url(#p9c641ceb4a)\" style=\"fill: none; stroke-dasharray: 2.59,1.12; stroke-dashoffset: 0; stroke: #0000ff; stroke-width: 0.7\"/>\n",
       "   </g>\n",
       "   <g id=\"line2d_22\">\n",
       "    <path d=\"M 40.894926 120.516426 \n",
       "L 41.001459 115.671332 \n",
       "L 41.108527 110.826238 \n",
       "L 41.22309 105.981143 \n",
       "L 41.352642 101.136049 \n",
       "L 41.507356 96.290955 \n",
       "L 41.719351 91.445861 \n",
       "L 41.993445 86.600767 \n",
       "L 42.322144 81.755672 \n",
       "L 42.67761 76.910578 \n",
       "L 43.032006 72.065484 \n",
       "L 43.510065 67.22039 \n",
       "\" clip-path=\"url(#p9c641ceb4a)\" style=\"fill: none; stroke-dasharray: 2.59,1.12; stroke-dashoffset: 0; stroke: #ff0000; stroke-width: 0.7\"/>\n",
       "   </g>\n",
       "   <g id=\"patch_3\">\n",
       "    <path d=\"M 35.48333 125.656693 \n",
       "L 35.48333 18.507087 \n",
       "\" style=\"fill: none; stroke: #000000; stroke-width: 0.5; stroke-linejoin: miter; stroke-linecap: square\"/>\n",
       "   </g>\n",
       "   <g id=\"patch_4\">\n",
       "    <path d=\"M 154.538448 125.656693 \n",
       "L 154.538448 18.507087 \n",
       "\" style=\"fill: none; stroke: #000000; stroke-width: 0.5; stroke-linejoin: miter; stroke-linecap: square\"/>\n",
       "   </g>\n",
       "   <g id=\"patch_5\">\n",
       "    <path d=\"M 35.48333 125.656693 \n",
       "L 154.538448 125.656693 \n",
       "\" style=\"fill: none; stroke: #000000; stroke-width: 0.5; stroke-linejoin: miter; stroke-linecap: square\"/>\n",
       "   </g>\n",
       "   <g id=\"patch_6\">\n",
       "    <path d=\"M 35.48333 18.507087 \n",
       "L 154.538448 18.507087 \n",
       "\" style=\"fill: none; stroke: #000000; stroke-width: 0.5; stroke-linejoin: miter; stroke-linecap: square\"/>\n",
       "   </g>\n",
       "  </g>\n",
       "  <g id=\"legend_1\">\n",
       "   <g id=\"line2d_23\">\n",
       "    <path d=\"M 100.096554 10 \n",
       "L 108.096554 10 \n",
       "L 116.096554 10 \n",
       "\" style=\"fill: none; stroke: #808080; stroke-width: 0.7; stroke-linecap: square\"/>\n",
       "   </g>\n",
       "   <g id=\"text_13\">\n",
       "    <!-- Federmodell -->\n",
       "    <g transform=\"translate(122.496554 12.8) scale(0.08 -0.08)\">\n",
       "     <defs>\n",
       "      <path id=\"CMR17-46\" d=\"M 3482 4325 \n",
       "L 326 4325 \n",
       "L 326 4160 \n",
       "C 768 4160 838 4160 838 3874 \n",
       "L 838 446 \n",
       "C 838 160 768 160 326 160 \n",
       "L 326 0 \n",
       "C 512 0 870 0 1069 0 \n",
       "C 1331 0 1638 0 1901 0 \n",
       "L 1901 160 \n",
       "L 1760 160 \n",
       "C 1274 160 1261 223 1261 452 \n",
       "L 1261 2075 \n",
       "L 1837 2075 \n",
       "C 2432 2075 2490 1865 2490 1332 \n",
       "L 2605 1332 \n",
       "L 2605 2987 \n",
       "L 2490 2987 \n",
       "C 2490 2450 2432 2240 1837 2240 \n",
       "L 1261 2240 \n",
       "L 1261 3911 \n",
       "C 1261 4128 1274 4160 1530 4160 \n",
       "L 2355 4160 \n",
       "C 3322 4160 3430 3765 3520 2916 \n",
       "L 3635 2916 \n",
       "L 3482 4325 \n",
       "z\n",
       "\" transform=\"scale(0.015625)\"/>\n",
       "      <path id=\"CMR17-65\" d=\"M 2438 1472 \n",
       "C 2464 1498 2464 1511 2464 1576 \n",
       "C 2464 2238 2118 2816 1389 2816 \n",
       "C 710 2816 173 2169 173 1383 \n",
       "C 173 551 781 -64 1459 -64 \n",
       "C 2176 -64 2458 607 2458 740 \n",
       "C 2458 784 2419 784 2406 784 \n",
       "C 2362 784 2355 771 2330 696 \n",
       "C 2189 265 1837 51 1504 51 \n",
       "C 1229 51 954 203 781 480 \n",
       "C 582 803 582 1176 582 1472 \n",
       "L 2438 1472 \n",
       "z\n",
       "M 589 1568 \n",
       "C 634 2505 1126 2714 1382 2714 \n",
       "C 1818 2714 2112 2297 2118 1568 \n",
       "L 589 1568 \n",
       "z\n",
       "\" transform=\"scale(0.015625)\"/>\n",
       "      <path id=\"CMR17-64\" d=\"M 1869 4326 \n",
       "L 1869 4160 \n",
       "C 2246 4160 2304 4122 2304 3820 \n",
       "L 2304 2345 \n",
       "C 2278 2377 2016 2790 1498 2790 \n",
       "C 845 2790 211 2208 211 1364 \n",
       "C 211 525 806 -64 1434 -64 \n",
       "C 1978 -64 2259 337 2291 380 \n",
       "L 2291 -63 \n",
       "L 3066 -63 \n",
       "L 3066 128 \n",
       "C 2688 128 2630 166 2630 473 \n",
       "L 2630 4396 \n",
       "L 1869 4326 \n",
       "z\n",
       "M 2291 755 \n",
       "C 2291 563 2176 390 2029 262 \n",
       "C 1811 70 1594 38 1472 38 \n",
       "C 1286 38 621 134 621 1356 \n",
       "C 621 2612 1363 2688 1530 2688 \n",
       "C 1824 2688 2061 2522 2208 2291 \n",
       "C 2291 2157 2291 2138 2291 2023 \n",
       "L 2291 755 \n",
       "z\n",
       "\" transform=\"scale(0.015625)\"/>\n",
       "      <path id=\"CMR17-72\" d=\"M 960 1497 \n",
       "C 960 2112 1222 2688 1702 2688 \n",
       "C 1747 2688 1792 2682 1837 2662 \n",
       "C 1837 2662 1696 2617 1696 2452 \n",
       "C 1696 2298 1818 2234 1914 2234 \n",
       "C 1990 2234 2131 2279 2131 2458 \n",
       "C 2131 2663 1926 2790 1709 2790 \n",
       "C 1222 2790 1011 2317 947 2093 \n",
       "L 941 2093 \n",
       "L 941 2790 \n",
       "L 198 2720 \n",
       "L 198 2554 \n",
       "C 576 2554 634 2515 634 2208 \n",
       "L 634 428 \n",
       "C 634 184 608 153 198 153 \n",
       "L 198 -13 \n",
       "C 352 0 646 0 813 0 \n",
       "C 998 0 1325 0 1498 -13 \n",
       "L 1498 153 \n",
       "C 1037 153 960 153 960 440 \n",
       "L 960 1497 \n",
       "z\n",
       "\" transform=\"scale(0.015625)\"/>\n",
       "      <path id=\"CMR17-6f\" d=\"M 2758 1356 \n",
       "C 2758 2176 2163 2816 1466 2816 \n",
       "C 768 2816 173 2176 173 1356 \n",
       "C 173 551 768 -64 1466 -64 \n",
       "C 2163 -64 2758 551 2758 1356 \n",
       "z\n",
       "M 1466 51 \n",
       "C 1165 51 909 230 762 480 \n",
       "C 602 767 582 1126 582 1408 \n",
       "C 582 1677 595 2010 762 2298 \n",
       "C 890 2509 1139 2714 1466 2714 \n",
       "C 1754 2714 1997 2554 2150 2330 \n",
       "C 2349 2029 2349 1607 2349 1408 \n",
       "C 2349 1158 2336 775 2163 467 \n",
       "C 1984 173 1709 51 1466 51 \n",
       "z\n",
       "\" transform=\"scale(0.015625)\"/>\n",
       "      <path id=\"CMR17-6c\" d=\"M 979 4396 \n",
       "L 218 4326 \n",
       "L 218 4160 \n",
       "C 595 4160 653 4122 653 3817 \n",
       "L 653 426 \n",
       "C 653 184 627 153 218 153 \n",
       "L 218 -13 \n",
       "C 371 0 653 0 813 0 \n",
       "C 979 0 1261 0 1414 -13 \n",
       "L 1414 153 \n",
       "C 1005 153 979 178 979 426 \n",
       "L 979 4396 \n",
       "z\n",
       "\" transform=\"scale(0.015625)\"/>\n",
       "     </defs>\n",
       "     <use xlink:href=\"#CMR17-46\" transform=\"scale(0.996264)\"/>\n",
       "     <use xlink:href=\"#CMR17-65\" transform=\"translate(52.176591 0) scale(0.996264)\"/>\n",
       "     <use xlink:href=\"#CMR17-64\" transform=\"translate(92.662252 0) scale(0.996264)\"/>\n",
       "     <use xlink:href=\"#CMR17-65\" transform=\"translate(143.557621 0) scale(0.996264)\"/>\n",
       "     <use xlink:href=\"#CMR17-72\" transform=\"translate(184.043282 0) scale(0.996264)\"/>\n",
       "     <use xlink:href=\"#CMR17-6d\" transform=\"translate(219.32405 0) scale(0.996264)\"/>\n",
       "     <use xlink:href=\"#CMR17-6f\" transform=\"translate(296.24364 0) scale(0.996264)\"/>\n",
       "     <use xlink:href=\"#CMR17-64\" transform=\"translate(344.536555 0) scale(0.996264)\"/>\n",
       "     <use xlink:href=\"#CMR17-65\" transform=\"translate(395.431925 0) scale(0.996264)\"/>\n",
       "     <use xlink:href=\"#CMR17-6c\" transform=\"translate(435.917586 0) scale(0.996264)\"/>\n",
       "     <use xlink:href=\"#CMR17-6c\" transform=\"translate(460.788644 0) scale(0.996264)\"/>\n",
       "    </g>\n",
       "   </g>\n",
       "  </g>\n",
       " </g>\n",
       " <defs>\n",
       "  <clipPath id=\"p9c641ceb4a\">\n",
       "   <rect x=\"35.48333\" y=\"18.507087\" width=\"119.055118\" height=\"107.149606\"/>\n",
       "  </clipPath>\n",
       " </defs>\n",
       "</svg>\n"
      ],
      "text/plain": [
       "<Figure size 236.22x212.598 with 1 Axes>"
      ]
     },
     "execution_count": 34,
     "metadata": {},
     "output_type": "execute_result"
    }
   ],
   "source": [
    "DF_rost_axis_V10 = pd.read_excel('calc/axis_res.xlsx', sheet_name='V10')\n",
    "DF_rost_axis_V10['eZ_1 [mm]']= -1*DF_rost_axis_V10['eZ_1 [mm]']\n",
    "\n",
    "DF_rost_axis_V10_ohne_zuggurt = pd.read_excel('calc/axis_res.xlsx', sheet_name='V10_ohne_zuggurt')\n",
    "DF_rost_axis_V10_ohne_zuggurt['eZ_1 [mm]']= -1*DF_rost_axis_V10_ohne_zuggurt['eZ_1 [mm]']\n",
    "\n",
    "DF_rost_axis_V10_drillweich = pd.read_excel('calc/axis_res.xlsx', sheet_name='V10_drillweich')\n",
    "DF_rost_axis_V10_drillweich['eZ_1 [mm]']= -1*DF_rost_axis_V10_drillweich['eZ_1 [mm]']\n",
    "\n",
    "DF_rost_axis_V10_modelliert = pd.read_excel('calc/axis_res.xlsx', sheet_name='V10_axis')\n",
    "DF_rost_axis_V10_modelliert['eZ_1 [mm]']= -1*DF_rost_axis_V10_modelliert['eZ_1 [mm]']\n",
    "\n",
    "DF_rost_axis_V10_theta_max = pd.read_excel('calc/axis_res.xlsx', sheet_name='V10_theta_max')\n",
    "DF_rost_axis_V10_theta_max['eZ_1 [mm]']= -1*DF_rost_axis_V10_theta_max['eZ_1 [mm]']\n",
    "\n",
    "\n",
    "ax_res_V10.plot(DF_rost_axis_V10.iloc[:,1],  DF_rost_axis_V10.iloc[:,2]*F_u.to(un.kN).m*12, label='Federmodell', color='gray')\n",
    "# ax_res_V10.plot(DF_rost_axis_V10_ohne_zuggurt.iloc[:,1],  DF_rost_axis_V10_ohne_zuggurt.iloc[:,2]*F_u.to(un.kN).m*12/20, color='gray', linestyle='dashed')\n",
    "ax_res_V10.plot(DF_rost_axis_V10_drillweich.iloc[:,1],  DF_rost_axis_V10_drillweich.iloc[:,2]*41.8*12, color='blue', linestyle='dashed')\n",
    "ax_res_V10.plot(DF_rost_axis_V10_modelliert.iloc[:,1],  DF_rost_axis_V10_modelliert.iloc[:,2]*F_u.to(un.kN).m*12, color='red', linestyle='dashed')\n",
    "ax_res_V10.scatter(DF_rost_axis_V10.iloc[-1,1],  DF_rost_axis_V10.iloc[-1,2]*F_u.to(un.kN).m*12, color='red', marker='x', s=20)\n",
    " \n",
    "fig_res_V10.legend()\n",
    "fig_res_V10.savefig(\"imgs/tho_res_V10_calc.svg\")\n",
    "# plt.close()\n",
    "fig_res_V10"
   ]
  },
  {
   "cell_type": "markdown",
   "metadata": {},
   "source": [
    "![Modellergebnisse, Last-Verformungs-Diagramm an der Stelle $V10$](../imgs/tho_res_V10_calc.svg){#fig-tho_res_V10_calc}"
   ]
  },
  {
   "cell_type": "code",
   "execution_count": 35,
   "metadata": {},
   "outputs": [
    {
     "data": {
      "text/markdown": [
       "$$\n",
       "\\begin{aligned}\n",
       "t_{sup}& = \\oslash_{s} + 2 \\cdot c_{nom} = 50 \\ \\mathrm{mm} \\\\ \n",
       "t_{inf}& = t_{sup} = 50 \\ \\mathrm{mm} \\\\ \n",
       "d_{v}& = h - \\frac{t_{inf} + t_{sup}}{2} = 150.0 \\ \\mathrm{mm} \\\\ \n",
       "a_{s}& = \\frac{\\pi \\cdot \\oslash_{s}^{2}}{4 \\cdot s} = 523.6 \\ \\frac{\\mathrm{mm}^{2}}{\\mathrm{m}} \\\\ \n",
       "E_{s}& = 196.5 \\ \\frac{\\mathrm{kN}}{\\mathrm{mm}^{2}} \\\\ \n",
       "m_{xy}& = 10.0 \\ \\frac{\\mathrm{kNm}}{\\mathrm{m}} \\\\ \n",
       "\\eta& = \\frac{E_{s}}{E_{c}} = 8.58 \\  \\\\ \n",
       "A_{c}& = b_{w} \\cdot h = 20000.0 \\ \\mathrm{mm}^{2} \\\\ \n",
       "A_{s}& = a_{s} \\cdot b_{w} = 52.36 \\ \\mathrm{mm}^{2} \\\\ \n",
       "\\rho_{x}& = \\frac{A_{s}}{A_{c}} = 0.26 \\ \\mathrm{\\%} \\\\ \n",
       "\\rho_{y}& = \\rho_{x} = 0.26 \\ \\mathrm{\\%} \\\\ \n",
       "\\tau& = \\frac{m_{xy}}{d_{v} \\cdot t_{inf}} = 1.33 \\ \\frac{\\mathrm{N}}{\\mathrm{mm}^{2}} \\\\ \n",
       "\\varepsilon_{1}& = \\frac{\\tau \\cdot \\left(\\left(\\frac{\\eta \\cdot \\rho_{x} + 1}{\\rho_{x} \\cdot \\rho_{y}^{3} \\cdot \\left(\\eta \\cdot \\rho_{y} + 1\\right)}\\right)^{1 \\cdot \\frac{1}{4}} \\cdot \\left(\\eta \\cdot \\rho_{y} + 1\\right) + \\left(\\frac{\\eta \\cdot \\rho_{y} + 1}{\\rho_{x}^{3} \\cdot \\rho_{y} \\cdot \\left(\\eta \\cdot \\rho_{x} + 1\\right)}\\right)^{1 \\cdot \\frac{1}{4}} \\cdot \\left(\\eta \\cdot \\rho_{x} + 1\\right)\\right)}{E_{s}} = 5.3 \\ \\mathrm{‰} \\\\ \n",
       "\\varepsilon_{xx}& = \\frac{\\tau \\cdot \\left(\\frac{\\eta \\cdot \\rho_{y} + 1}{\\rho_{x}^{3} \\cdot \\rho_{y} \\cdot \\left(\\eta \\cdot \\rho_{x} + 1\\right)}\\right)^{1 \\cdot \\frac{1}{4}}}{E_{s}} = 2.59 \\ \\mathrm{‰} \\end{aligned}\n",
       "$$"
      ],
      "text/plain": [
       "<IPython.core.display.Markdown object>"
      ]
     },
     "metadata": {},
     "output_type": "display_data"
    }
   ],
   "source": [
    "t_sup = 2 * c_nom + diam_s\n",
    "t_inf = t_sup\n",
    "\n",
    "d_v = h - (t_sup + t_inf) / 2\n",
    "a_s\n",
    "E_s\n",
    "\n",
    "m_xy = 10*un.kNm/un.m\n",
    "\n",
    "eta = E_s / E_c\n",
    "A_c = (h * b_w).to(un.mm**2)\n",
    "A_s = a_s *b_w\n",
    "rho_x = (A_s / A_c).to(un.percent)\n",
    "rho_y = rho_x\n",
    "tau = (m_xy / (d_v*t_inf)).to(un.N/un.mm**2)\n",
    "eps_1 = (tau / E_s * ((1+eta*rho_x) * ((1+eta*rho_y)/(rho_x**3 * rho_y *(1+eta*rho_x)))**(1/4) + (1+eta*rho_y) * ((1+eta*rho_x)/(rho_y**3 * rho_x *(1+eta*rho_y)))**(1/4))).to(un.permille)\n",
    "\n",
    "eps_xx = (tau / E_s * ((1+eta*rho_y)/(rho_x**3 * rho_y *(1+eta*rho_x)))**(1/4)).to(un.permille)\n",
    "put_out(symbolic=True, rows = 1)"
   ]
  },
  {
   "cell_type": "code",
   "execution_count": 36,
   "metadata": {},
   "outputs": [
    {
     "data": {
      "text/markdown": [
       "$$\n",
       "\\begin{aligned}\n",
       "M_{x}& = b_{w} \\cdot m_{xy} = 1.0 \\ \\mathrm{kNm} \\\\ \n",
       "\\chi& = \\frac{\\varepsilon_{xx} + \\varepsilon_{xx}}{d_{v}} = 0.03 \\ \\frac{\\mathrm{‰}}{\\mathrm{mm}} \\\\ \n",
       "\\varphi& = \\chi \\cdot l_{El} = 0.0 \\ \\frac{\\mathrm{m} \\cdot \\mathrm{‰}}{\\mathrm{mm}} \\\\ \n",
       "k_{II}& = \\frac{2 \\cdot M_{x}}{\\varphi} = 578.74 \\ \\frac{\\mathrm{kNm}}{\\mathrm{rad}} \\end{aligned}\n",
       "$$"
      ],
      "text/plain": [
       "<IPython.core.display.Markdown object>"
      ]
     },
     "metadata": {},
     "output_type": "display_data"
    }
   ],
   "source": [
    "M_x = m_xy * b_w\n",
    "chi = (eps_xx+ eps_xx) / d_v\n",
    "\n",
    "varphi = chi * l_El\n",
    "k_II = (2* M_x / (varphi)).to(un.kNm/un.rad)\n",
    "\n",
    "\n",
    "\n",
    "put_out(symbolic=True, rows = 1)"
   ]
  },
  {
   "cell_type": "code",
   "execution_count": null,
   "metadata": {},
   "outputs": [],
   "source": []
  }
 ],
 "metadata": {
  "kernelspec": {
   "display_name": "calc",
   "language": "python",
   "name": "python3"
  },
  "language_info": {
   "codemirror_mode": {
    "name": "ipython",
    "version": 3
   },
   "file_extension": ".py",
   "mimetype": "text/x-python",
   "name": "python",
   "nbconvert_exporter": "python",
   "pygments_lexer": "ipython3",
   "version": "3.11.9"
  }
 },
 "nbformat": 4,
 "nbformat_minor": 2
}
