{
 "cells": [
  {
   "cell_type": "code",
   "execution_count": 1,
   "metadata": {},
   "outputs": [],
   "source": [
    "from packages import *"
   ]
  },
  {
   "cell_type": "markdown",
   "metadata": {},
   "source": [
    "# Versuchsnachrechnung Zweifeldplatte\n",
    "\n",
    "Nachrechnung des Plattenversuchs aus @thoma_plattenversuche_2010. Gleiche Kraftintensität auf allen Zylindern. Eigengewicht hat keinen Einfluss auf Messung, Nullsetzung bei Belastungsbeginn.\n",
    "\n",
    "\n",
    "![Isometrische Ansicht des Versuchsaufbaus, dargestellt sind der Versuchsaufbau, die Lagerung mit den Zylindern, die Krafteinleitung mittels den Zugstangen](../imgs/tho_aufbau_iso.svg){#fig-tho_aufbau_iso}\n",
    "\n",
    "Der Grundriss und die Längsansicht sich in der @fig-tho_aufbau_gr gezeigt. Beide Felder sind quatratförmig. Diese sind auf Gleitlagern gelagt.\n",
    "\n",
    "![Grundriss und Längsansicht, Lasteineinleitung, Lagerposition und die Plattenabmessungen sind vermasst](../imgs/tho_aufbau_gr.svg){#fig-tho_aufbau_gr}"
   ]
  },
  {
   "cell_type": "markdown",
   "metadata": {},
   "source": [
    "## Versuchsbeschrieb\n",
    "\n",
    "Nach dem Einbringen des Körpers wurde eine Nullmessung durchgeführt. Die Last wurde gleichmässigen auf sämtliche Zugstangen verteilt. Die Kraft wurde inkrementiell gesteigert bis der Bruch durch Zerreissen der oberen Längsbewehrungen im mittleren\n",
    "Auflagerbereich eintrat."
   ]
  },
  {
   "cell_type": "markdown",
   "metadata": {},
   "source": [
    "### Berechnungsgrössen"
   ]
  },
  {
   "cell_type": "markdown",
   "metadata": {},
   "source": [
    "Die verwendeten Berechnungsparameter werden folgend aufgezeigt."
   ]
  },
  {
   "cell_type": "markdown",
   "metadata": {},
   "source": [
    "#### Betonstahl \n",
    "\n",
    "Die Platte ist kreuzweise mit einer Biegebewehrung mit Durchmesser 10 mm und einer 150 mm Teilung versehen. Dies gilt für die obere und untere Bewehrung. Am Rand sind Abschlussbügel verlegt. Zudem ist über dem Mittelauflager eine Querkraftbewehrung eingelegt. Da generell in dieser Arbeit keine Querkraftthemen bearbeitet werden, ist diese auf der @fig-tho_biegebewehrung_iso nicht dargestellt.\n",
    "\n",
    "![Biegebewehrung der Platte](../imgs/tho_biegebewehrung_iso.svg){#fig-tho_biegebewehrung_iso}"
   ]
  },
  {
   "cell_type": "markdown",
   "metadata": {},
   "source": [
    "Die Querschnittsfläche der Biegebewehrung pro Laufmeter beträgt folglich:"
   ]
  },
  {
   "cell_type": "code",
   "execution_count": 2,
   "metadata": {},
   "outputs": [
    {
     "data": {
      "text/markdown": [
       "$$\n",
       "\\begin{aligned}\n",
       "\\oslash_{s}& = 10 \\ \\mathrm{mm} \\quad & s& = 150 \\ \\mathrm{mm} \\quad & a_{s}& = \\frac{\\pi \\cdot \\oslash_{s}^{2}}{4 \\cdot s} = 523.6 \\ \\frac{\\mathrm{mm}^{2}}{\\mathrm{m}} \\end{aligned}\n",
       "$$"
      ],
      "text/plain": [
       "<IPython.core.display.Markdown object>"
      ]
     },
     "metadata": {},
     "output_type": "display_data"
    }
   ],
   "source": [
    "diam_s = 10*un.mm\n",
    "\n",
    "s = 150*un.mm\n",
    "a_s = (diam_s**2*np.pi /4 /s).to(un.mm**2/un.m)\n",
    "\n",
    "put_out(symbolic=True)"
   ]
  },
  {
   "cell_type": "markdown",
   "metadata": {},
   "source": [
    "Aus dem Versuchsbericht wurden die folgenden Eigenschaften der Biegebewehrung entnommen. Die Zugfestigkeit, Fliessgrenze, Elastizitätsmodul, Fliessdehnung und Bruchdehnung."
   ]
  },
  {
   "cell_type": "code",
   "execution_count": 3,
   "metadata": {},
   "outputs": [
    {
     "data": {
      "text/markdown": [
       "$$\n",
       "\\begin{aligned}\n",
       "f_{su}& = 558.6 \\ \\frac{\\mathrm{N}}{\\mathrm{mm}^{2}} \\quad & f_{sy}& = 445.6 \\ \\frac{\\mathrm{N}}{\\mathrm{mm}^{2}} \\quad & E_{s}& = 196.5 \\ \\frac{\\mathrm{kN}}{\\mathrm{mm}^{2}} \\\\ \n",
       "\\varepsilon_{sy}& = \\frac{f_{sy}}{E_{s}} = 2.27 \\ \\mathrm{‰} \\quad & \\varepsilon_{su}& = 80.8 \\ \\mathrm{‰} \\quad &  \n",
       " \\end{aligned}\n",
       "$$"
      ],
      "text/plain": [
       "<IPython.core.display.Markdown object>"
      ]
     },
     "metadata": {},
     "output_type": "display_data"
    }
   ],
   "source": [
    "f_su = 558.6*un.N/un.mm**2\n",
    "f_sy = 445.6*un.N/un.mm**2\n",
    "\n",
    "E_s = 196.5*un.kN/un.mm**2\n",
    "\n",
    "eps_sy = (f_sy / E_s).to(un.permille)\n",
    "eps_su = 80.8*un.permille\n",
    "\n",
    "put_out(symbolic=True)"
   ]
  },
  {
   "cell_type": "markdown",
   "metadata": {},
   "source": [
    "#### Beton \n",
    "\n",
    "Ebenso wurden die Eigenschaften des Betons aus dem Versuchsbericht entnommen, sowie mittels empirischen Ansätzen umgerechnet. Die Zylinderdruckfestigkeit und der Elastizitätsmodul wurden aus dem Bericht entnommen. Die Bauteildruckfestigkeit und Zugfestigkeiten wurden berechnet. Sowie wird eine Bruchstauchung angenommen."
   ]
  },
  {
   "cell_type": "code",
   "execution_count": 4,
   "metadata": {},
   "outputs": [
    {
     "data": {
      "text/markdown": [
       "$$\n",
       "\\begin{aligned}\n",
       "f_{cc}& = 28.61 \\ \\frac{\\mathrm{N}}{\\mathrm{mm}^{2}} \\quad & E_{c}& = 22.9 \\ \\frac{\\mathrm{kN}}{\\mathrm{mm}^{2}} \\quad & f_{c}& = 2.7 \\cdot f_{cc}^{\\frac{2}{3}} = 25.26 \\ \\frac{\\mathrm{N}}{\\mathrm{mm}^{2}} \\\\ \n",
       "f_{ct}& = 0.3 \\cdot f_{cc}^{\\frac{2}{3}} = 2.81 \\ \\frac{\\mathrm{N}}{\\mathrm{mm}^{2}} \\quad & \\varepsilon_{cu}& = 5.0 \\ \\mathrm{‰} \\quad &  \n",
       " \\end{aligned}\n",
       "$$"
      ],
      "text/plain": [
       "<IPython.core.display.Markdown object>"
      ]
     },
     "metadata": {},
     "output_type": "display_data"
    }
   ],
   "source": [
    "f_cc = 28.61*un.N/un.mm**2\n",
    "E_c = 22.9*un.kN/un.mm**2\n",
    "\n",
    "f_c = (2.7* f_cc.m**(2/3))*un.N/un.mm**2\n",
    "f_ct = (0.3* f_cc.m**(2/3))*un.N/un.mm**2\n",
    "\n",
    "eps_cu = 5.*un.permille\n",
    "\n",
    "put_out(symbolic=True, rows = 3)"
   ]
  },
  {
   "cell_type": "markdown",
   "metadata": {},
   "source": [
    "#### Geometrie\n",
    "\n",
    "Bezüglich der Geometrie wurden die Plattenstärke und Bewehrungsüberdeckung aus dem Bericht übernommen."
   ]
  },
  {
   "cell_type": "code",
   "execution_count": 5,
   "metadata": {},
   "outputs": [
    {
     "data": {
      "text/markdown": [
       "$$\n",
       "\\begin{aligned}\n",
       "h& = 200 \\ \\mathrm{mm} \\quad & c_{nom}& = 20 \\ \\mathrm{mm} \\quad &  \n",
       " \\end{aligned}\n",
       "$$"
      ],
      "text/plain": [
       "<IPython.core.display.Markdown object>"
      ]
     },
     "metadata": {},
     "output_type": "display_data"
    }
   ],
   "source": [
    "h = 200*un.mm\n",
    "c_nom = 20*un.mm\n",
    "\n",
    "put_out()"
   ]
  },
  {
   "cell_type": "markdown",
   "metadata": {},
   "source": [
    "### Versuchsergebnisse"
   ]
  },
  {
   "cell_type": "markdown",
   "metadata": {},
   "source": [
    "Aus dem Versuchsbericht geht eine Traglast von 978 kN pro Feld hervor. Dies entspricht der Summe der einzelnen Zugstangen pro Feld. Folglich beträgt die Traglast pro Einzellast:"
   ]
  },
  {
   "cell_type": "code",
   "execution_count": 6,
   "metadata": {},
   "outputs": [
    {
     "data": {
      "text/markdown": [
       "$$\n",
       "\\begin{aligned}\n",
       "F_{u}& = \\frac{978}{12} = 81.5 \\ \\mathrm{kN} \\quad &  \\quad &  \n",
       " \\end{aligned}\n",
       "$$"
      ],
      "text/plain": [
       "<IPython.core.display.Markdown object>"
      ]
     },
     "metadata": {},
     "output_type": "display_data"
    }
   ],
   "source": [
    "F_u = 978*un.kN / 12\n",
    "\n",
    "put_out(symbolic=True)"
   ]
  },
  {
   "cell_type": "markdown",
   "metadata": {},
   "source": [
    "![Position der Wegaufnehmer, vermasst auf Lagerachsen](../imgs/tho_messung_gr.svg){#fig-tho_messung_gr}"
   ]
  },
  {
   "cell_type": "markdown",
   "metadata": {},
   "source": [
    "Die Messung $V10$ ist in der @fig-tho_res_V10 gezeigt. Dabei ist auf der Ordinate die Summe der Einzelkräfte pro Feld aufgezeigt und auf der Abszisse die Verformung an der Stelle $V10$."
   ]
  },
  {
   "cell_type": "code",
   "execution_count": 7,
   "metadata": {},
   "outputs": [],
   "source": [
    "DF_res_V10 = pd.read_csv('imgs/tho_res_V10.csv')\n"
   ]
  },
  {
   "cell_type": "code",
   "execution_count": 8,
   "metadata": {},
   "outputs": [],
   "source": [
    "# | echo: false\n",
    "\n",
    "\n",
    "fig_res_V10, ax_res_V10 = plt.subplots()\n",
    "ax_res_V10.plot(DF_res_V10.iloc[:,0], DF_res_V10.iloc[:,1], color=\"k\")\n",
    "\n",
    "\n",
    "# Set axis labels\n",
    "ax_res_V10.set_ylabel(r\"$F$ [kN]\")\n",
    "ax_res_V10.set_xlabel(r\"$w_{V10}$ [mm]\")\n",
    "\n",
    "\n",
    "fig_res_V10.savefig(\"imgs/tho_res_V10.svg\")\n",
    "plt.close()"
   ]
  },
  {
   "cell_type": "markdown",
   "metadata": {},
   "source": [
    "![Kraft-Verformungs-Diagramm an der Stelle $V10$, entnommen aus dem Versuchsbericht](../imgs/tho_res_V10.svg){#fig-tho_res_V10}"
   ]
  },
  {
   "cell_type": "markdown",
   "metadata": {},
   "source": [
    "Beim Erreichen der Traglast stellt sich ein Zerreissen der Bewehrung über dem Mittellager ein und das Tragwerk versagt. Ein einfaches Biegeversagen."
   ]
  },
  {
   "cell_type": "markdown",
   "metadata": {},
   "source": [
    "## Modellierung\n",
    "\n",
    "Die @fig-tho_rost_iso zeigt ein schematisches Trägerrostmodell. Dies dient als statisches System. Dabei werden an den entsprechenden Stellen die Einzellasten eingeführt. Die Auflager sind 1-dimensional, sprich lagern lediglich Kräfte in globaler $Z$-Richtung.\n",
    "\n",
    "![Ein Trägerrostmodell zur Ermittlung des Biegeverhaltens. Der Abstand der Balken ist hier lediglich schematisch gezeigt](../imgs/tho_rost_iso.svg){#fig-tho_rost_iso}\n",
    "\n",
    "\n",
    "Folgende Effekte werden beim Modell berücksichtigt:\n",
    "\n",
    "- Biegetragverhalten\n",
    "- Drillmomente, sprich Torsion der Stäbe im Trägerrost."
   ]
  },
  {
   "cell_type": "markdown",
   "metadata": {},
   "source": [
    "### Baustoffe"
   ]
  },
  {
   "cell_type": "code",
   "execution_count": 9,
   "metadata": {},
   "outputs": [],
   "source": [
    "DF_b500b = pd.read_csv('imgs/tho_stress_strain_b500b.csv')\n",
    "DF_b500b['x'] = DF_b500b['x']/100\n",
    "\n"
   ]
  },
  {
   "cell_type": "code",
   "execution_count": 10,
   "metadata": {},
   "outputs": [],
   "source": [
    "# | echo: false\n",
    "\n",
    "stress_b500b_array = np.array([0, f_sy.m, f_su.m]) * un.MPa\n",
    "strain_b500b_array = np.array([0, eps_sy.to(un.los), eps_su.to(un.los)])\n",
    "\n",
    "fig_b500b, ax_b500b = plt.subplots()\n",
    "ax_b500b.plot(strain_b500b_array, stress_b500b_array.to(un.MPa).m, color=\"k\")\n",
    "ax_b500b.plot(DF_b500b.iloc[:,0], DF_b500b.iloc[:,1], color=\"gray\", alpha=0.5)\n",
    "\n",
    "# Scientific Notation if needed\n",
    "apply_scientific_notation(ax_b500b, stress_b500b_array.m)\n",
    "\n",
    "# Set axis labels\n",
    "ax_b500b.set_ylabel(r\"$\\sigma$ [N/mm$^2$]\")\n",
    "ax_b500b.set_xlabel(r\"$\\varepsilon_s$ [-]\")\n",
    "\n",
    "# Set limits\n",
    "# ax_b500b.set_xlim(xmax=140 / 1000)\n",
    "# ax_b500b.set_ylim(ymax=700)\n",
    "\n",
    "# Show the plot\n",
    "# plt.tight_layout()\n",
    "plt.savefig(\"imgs/tho_stress_strain_b500b.svg\")\n",
    "plt.close()"
   ]
  },
  {
   "cell_type": "markdown",
   "metadata": {},
   "source": [
    "Zunächst wird das Verhalten der Baustoffe modelliert. Für den Betonstahl wird ein bilinearer Verlauf gewählt. Dargestellt als Spannungs-Dehnungs-Diagramm ist dies in @fig-tho_stress_strain_b500b. Grau hinterlegt ist der Spannungs-Dehnungs-Verlauf aus den Zugproben."
   ]
  },
  {
   "cell_type": "markdown",
   "metadata": {},
   "source": [
    "![Spannungs-Dehnungs-Diagramm des Betonstahls B500B mit grau hinterlegten Versuchsdaten und die Idealisierung eines bilinearen Verlaufs](../imgs/tho_stress_strain_b500b.svg){#fig-tho_stress_strain_b500b}"
   ]
  },
  {
   "cell_type": "markdown",
   "metadata": {},
   "source": [
    "Für den Beton gilt die Darstellung in @fig-tho_stress_strain_c. Die Zugfestigkeit des Betons wird berücksichtigt."
   ]
  },
  {
   "cell_type": "code",
   "execution_count": 11,
   "metadata": {},
   "outputs": [],
   "source": [
    "# | echo: false\n",
    "\n",
    "stress_c_array = np.array([f_ct.m, -f_c.m, -f_c.m]) * un.MPa\n",
    "strain_c_array = np.array([f_ct/E_c, -f_c/E_c, -eps_cu.to(un.los)])\n",
    "\n",
    "fig_c, ax_c = plt.subplots()\n",
    "ax_c.plot(strain_c_array, stress_c_array.to(un.MPa).m, color=\"k\")\n",
    "\n",
    "# Scientific Notation if needed\n",
    "apply_scientific_notation(ax_c, stress_c_array.m)\n",
    "\n",
    "# Set axis labels\n",
    "ax_c.set_ylabel(r\"$\\sigma$ [N/mm$^2$]\")\n",
    "ax_c.set_xlabel(r\"$\\varepsilon_c$ [-]\")\n",
    "\n",
    "# Set limits\n",
    "# ax_c.set_xlim(xmax=7 / 1000)\n",
    "# ax_c.set_ylim(ymax=50)\n",
    "\n",
    "# Show the plot\n",
    "# plt.tight_layout()\n",
    "plt.savefig(\"imgs/tho_stress_strain_c.svg\")\n",
    "plt.close()"
   ]
  },
  {
   "cell_type": "markdown",
   "metadata": {},
   "source": [
    "![Spannungs-Dehnungs-Diagramm des Betons, linear elastischer - ideal plastischer Verlauf](../imgs/tho_stress_strain_c.svg){#fig-tho_stress_strain_c}"
   ]
  },
  {
   "cell_type": "markdown",
   "metadata": {},
   "source": [
    "### Trägerrost\n",
    "\n",
    "Danach wird der Trägerrost modelliert. Es wird eine Stabteilung gewählt. Zudem wird eine Anzahl Gelenke pro Knoten definiert. Im Statischensystem werden den Stäben ein Anfang- und Endgelenk eingeführt. Dies führt zur Anzahl Gelenke.\n",
    "\n",
    "![Anordnung der Gelenke bei einem Knoten](../imgs/tho_rost_gelenke.png)\n"
   ]
  },
  {
   "cell_type": "code",
   "execution_count": 12,
   "metadata": {},
   "outputs": [
    {
     "data": {
      "text/markdown": [
       "$$\n",
       "\\begin{aligned}\n",
       "l_{El}& = 0.1 \\ \\mathrm{m} \\quad & n_{gelenk}& = 2 \\quad &  \n",
       " \\end{aligned}\n",
       "$$"
      ],
      "text/plain": [
       "<IPython.core.display.Markdown object>"
      ]
     },
     "metadata": {},
     "output_type": "display_data"
    }
   ],
   "source": [
    "l_El = 0.1*un.m\n",
    "n_gelenk = 2 #2 bei Stab anfang und ende\n",
    "\n",
    "put_out(symbolic=True)\n"
   ]
  },
  {
   "cell_type": "markdown",
   "metadata": {},
   "source": [
    "### Biegeverhalten\n",
    "\n",
    "Basierend auf den Modellen der Baustoffe kann der Querschnitt bei steigender Krümmung untersucht werden. Dies führt zu einem Momenten-Krümmungs-Diagramm. "
   ]
  },
  {
   "cell_type": "markdown",
   "metadata": {},
   "source": [
    "\n",
    "![Querschnittsanalyse](../imgs/thesis_skizzen-2.jpg)\n",
    "\n"
   ]
  },
  {
   "cell_type": "markdown",
   "metadata": {},
   "source": [
    "Zunächst wird das Rissmoment betrachtet:"
   ]
  },
  {
   "cell_type": "code",
   "execution_count": 13,
   "metadata": {},
   "outputs": [
    {
     "data": {
      "text/markdown": [
       "$$\n",
       "\\begin{aligned}\n",
       "b_{w}& = l_{El} = 0.1 \\ \\mathrm{m} \\quad & z& = \\frac{2 \\cdot h}{3} = 133.33 \\ \\mathrm{mm} \\\\ \n",
       "F_{c}& = \\frac{b_{w} \\cdot f_{ct} \\cdot h}{4} = 14.03 \\ \\mathrm{kN} \\quad & M_{r}& = F_{c} \\cdot z = 1.87 \\ \\mathrm{kNm} \\\\ \n",
       "\\chi_{r}& = \\frac{2 \\cdot f_{ct}}{E_{c} \\cdot h} = 1.23 \\ \\frac{1}{\\mathrm{km}} \\quad &  \n",
       " \\end{aligned}\n",
       "$$"
      ],
      "text/plain": [
       "<IPython.core.display.Markdown object>"
      ]
     },
     "metadata": {},
     "output_type": "display_data"
    }
   ],
   "source": [
    "b_w = l_El\n",
    "z = h - 2/3 * h/2\n",
    "F_c = (h/2 * f_ct * b_w *1/2).to(un.kN)\n",
    "M_r = (F_c * z).to(un.kNm)\n",
    "\n",
    "chi_r = (f_ct/E_c /(h/2)).to(1/un.km)\n",
    "\n",
    "put_out(symbolic=True, evaluate=True, rows = 2)"
   ]
  },
  {
   "cell_type": "markdown",
   "metadata": {},
   "source": [
    "Fliessen der Zugbewehrung. Dabei wird ein dreieckiger Spannungsverlauf für den Beton angesetzt.\n"
   ]
  },
  {
   "cell_type": "code",
   "execution_count": 14,
   "metadata": {},
   "outputs": [
    {
     "data": {
      "text/markdown": [
       "$$\n",
       "\\begin{aligned}\n",
       "A_{s}& = a_{s} \\cdot b_{w} = 52.36 \\ \\mathrm{mm}^{2} \\quad & \\sigma_{s 2}& = 500.0 \\ \\frac{\\mathrm{N}}{\\mathrm{mm}^{2}} \\\\ \n",
       "{d}'& = - \\frac{\\oslash_{s}}{2} - c_{nom} + h = 175.0 \\ \\mathrm{mm} \\quad & x& = \\frac{A_{s} \\cdot f_{sy}}{1 \\cdot \\frac{1}{2} \\cdot b_{w} \\cdot f_{c}} = 18.48 \\ \\mathrm{mm} \\end{aligned}\n",
       "$$"
      ],
      "text/plain": [
       "<IPython.core.display.Markdown object>"
      ]
     },
     "metadata": {},
     "output_type": "display_data"
    }
   ],
   "source": [
    "A_s = a_s*b_w\n",
    "sigma_s_2 = 500*un.N/un.mm**2\n",
    "d_apos = h - c_nom - diam_s / 2\n",
    "x = ((A_s*f_sy) / (f_c*b_w*1/2 )).to(un.mm)\n",
    "put_out(symbolic=True, rows = 2)\n",
    "\n"
   ]
  },
  {
   "cell_type": "markdown",
   "metadata": {},
   "source": [
    "Nun wird kontrolliert ob der Beton sich noch im elastischen Bereich befindet:"
   ]
  },
  {
   "cell_type": "code",
   "execution_count": 15,
   "metadata": {},
   "outputs": [
    {
     "data": {
      "text/markdown": [
       "$$\n",
       "\\begin{aligned}\n",
       "\\varepsilon_{c}& = \\frac{f_{sy} \\cdot x}{E_{s} \\cdot \\left({d}' - x\\right)} = 0.27 \\ \\mathrm{‰} \\quad & \\sigma_{c}& = E_{c} \\cdot \\varepsilon_{c} = 6.13 \\ \\frac{\\mathrm{N}}{\\mathrm{mm}^{2}} \\\\ \n",
       "f_{c}& = 2.7 \\cdot f_{cc}^{\\frac{2}{3}} = 25.26 \\ \\frac{\\mathrm{N}}{\\mathrm{mm}^{2}} \\quad &  \n",
       " \\end{aligned}\n",
       "$$"
      ],
      "text/plain": [
       "<IPython.core.display.Markdown object>"
      ]
     },
     "metadata": {},
     "output_type": "display_data"
    }
   ],
   "source": [
    "eps_c = (f_sy / E_s  / (d_apos - x) * x).to(un.permille)\n",
    "sigma_c = (eps_c * E_c).to(un.N/un.mm**2)\n",
    "f_c\n",
    "\n",
    "put_out(symbolic=True, rows = 2)\n"
   ]
  },
  {
   "cell_type": "markdown",
   "metadata": {},
   "source": [
    "Die Spannung bei der Randfaser ist deutlich kleiner als die Druckfestigkeit. Folglich plastifiziert der Beton bei Weitem noch nicht."
   ]
  },
  {
   "cell_type": "code",
   "execution_count": 16,
   "metadata": {},
   "outputs": [
    {
     "data": {
      "text/markdown": [
       "$$\n",
       "\\begin{aligned}\n",
       "z& = {d}' - 1 \\cdot \\frac{1}{3} \\cdot x = 168.84 \\ \\mathrm{mm} \\quad & F_{s}& = A_{s} \\cdot f_{sy} = 23.33 \\ \\mathrm{kN} \\\\ \n",
       "M_{y}& = F_{s} \\cdot z = 3.94 \\ \\mathrm{kNm} \\quad & \\chi_{y}& = \\frac{\\varepsilon_{sy}}{{d}' - x} = 14.49 \\ \\frac{1}{\\mathrm{km}} \\end{aligned}\n",
       "$$"
      ],
      "text/plain": [
       "<IPython.core.display.Markdown object>"
      ]
     },
     "metadata": {},
     "output_type": "display_data"
    }
   ],
   "source": [
    "z = d_apos - 1/3*x\n",
    "F_s = (A_s * f_sy ).to(un.kN)\n",
    "M_y = (F_s * z).to(un.kNm)\n",
    "chi_y = (eps_sy /(d_apos-x)).to(1/un.km)\n",
    "\n",
    "put_out(symbolic=True,rows=2)"
   ]
  },
  {
   "cell_type": "markdown",
   "metadata": {},
   "source": [
    "Abschliessend lässt sich der Biegewiderstand bestimmen. Dem Beton wird ein vollständiges Plastifizieren vorausgesetzt. Dabei wird dem Stahl eine Dehnung vorausgesetzt.\n",
    "\n",
    "![Querschnittsanalyse](../imgs/thesis_skizzen-3.jpg)"
   ]
  },
  {
   "cell_type": "markdown",
   "metadata": {},
   "source": [
    "Dabei wird die Stahlspannung anhand der gewählten Dehnung bestimmt:"
   ]
  },
  {
   "cell_type": "code",
   "execution_count": 17,
   "metadata": {},
   "outputs": [
    {
     "data": {
      "text/markdown": [
       "$$\n",
       "\\begin{aligned}\n",
       "\\varepsilon_{s}& = 63 \\ \\mathrm{‰} \\quad & \\sigma_{s}& = 532.99 \\ \\frac{\\mathrm{N}}{\\mathrm{mm}^{2}} \\quad & f_{su}& = 558.6 \\ \\frac{\\mathrm{N}}{\\mathrm{mm}^{2}} \\end{aligned}\n",
       "$$"
      ],
      "text/plain": [
       "<IPython.core.display.Markdown object>"
      ]
     },
     "metadata": {},
     "output_type": "display_data"
    }
   ],
   "source": [
    "eps_s = 63*un.permille\n",
    "sigma_s = np.interp(eps_s.to(un.los), strain_b500b_array, stress_b500b_array).to(un.N/un.mm**2)\n",
    "f_su\n",
    "put_out()"
   ]
  },
  {
   "cell_type": "markdown",
   "metadata": {},
   "source": [
    "Die Stahldehnung wird iterativ bestimmt, damit sich eine Betonstauchung der Randfaser entsprechend der Bruchstauchung einstellt."
   ]
  },
  {
   "cell_type": "code",
   "execution_count": 18,
   "metadata": {},
   "outputs": [
    {
     "data": {
      "text/markdown": [
       "$$\n",
       "\\begin{aligned}\n",
       "x& = \\frac{A_{s} \\cdot \\sigma_{s}}{0.85 \\cdot b_{w} \\cdot f_{c}} = 13.0 \\ \\mathrm{mm} \\quad & \\varepsilon_{c}& = \\frac{\\varepsilon_{s} \\cdot x}{{d}' - x} = 5.06 \\ \\mathrm{‰} \\quad & \\varepsilon_{cu}& = 5.0 \\ \\mathrm{‰} \\end{aligned}\n",
       "$$"
      ],
      "text/plain": [
       "<IPython.core.display.Markdown object>"
      ]
     },
     "metadata": {},
     "output_type": "display_data"
    }
   ],
   "source": [
    "x = ((A_s*sigma_s) / (f_c*b_w*0.85)).to(un.mm)\n",
    "eps_c = (eps_s  / (d_apos - x) * x).to(un.permille)\n",
    "eps_cu\n",
    "\n",
    "put_out(symbolic=True)\n"
   ]
  },
  {
   "cell_type": "markdown",
   "metadata": {},
   "source": [
    "Der Biegewiderstand ist somit begrenzt durch ein Betondruckversagen. Der entsprechende Widerstand und die entsprechende Bruchkrümmung betragen:"
   ]
  },
  {
   "cell_type": "code",
   "execution_count": 19,
   "metadata": {},
   "outputs": [
    {
     "data": {
      "text/markdown": [
       "$$\n",
       "\\begin{aligned}\n",
       "z& = {d}' - 0.425 \\cdot x = 169.48 \\ \\mathrm{mm} \\quad & F_{s}& = A_{s} \\cdot \\sigma_{s} = 27.91 \\ \\mathrm{kN} \\\\ \n",
       "M_{u}& = F_{s} \\cdot z = 4.73 \\ \\mathrm{kNm} \\quad & \\chi_{u}& = \\frac{\\varepsilon_{s}}{{d}' - x} = 388.89 \\ \\frac{1}{\\mathrm{km}} \\end{aligned}\n",
       "$$"
      ],
      "text/plain": [
       "<IPython.core.display.Markdown object>"
      ]
     },
     "metadata": {},
     "output_type": "display_data"
    }
   ],
   "source": [
    "z = d_apos - 0.425*x\n",
    "F_s = (A_s * sigma_s).to(un.kN)\n",
    "M_u = (F_s * z).to(un.kNm)\n",
    "chi_u = (eps_s /(d_apos-x)).to(1/un.km)\n",
    "\n",
    "put_out(symbolic=True,rows=2, evaluate=True)"
   ]
  },
  {
   "cell_type": "markdown",
   "metadata": {},
   "source": [
    "#### Zugversteifung \n",
    "\n",
    "Zur punktuellen Betrachtung des Querschnitts kann das Mitwirken des Betons zwischen den Rissen berücksichtigt werden. Dabei wird der Ansatz nach Marti @spathelf_gebrauchstauglichkeit_2022 verwendet für den gerissenen Bereich. Dabei wird eine Differenzkrümmung bestimmt:"
   ]
  },
  {
   "cell_type": "code",
   "execution_count": 20,
   "metadata": {},
   "outputs": [
    {
     "data": {
      "text/markdown": [
       "$$\n",
       "\\begin{aligned}\n",
       "\\lambda& = 1 \\\\ \n",
       "EI_{II}& = \\frac{M_{y}}{\\chi_{y}} = 271.91 \\ \\mathrm{kN} \\cdot \\mathrm{m}^{2} \\\\ \n",
       "n& = \\frac{E_{s}}{E_{c}} = 8.58 \\  \\\\ \n",
       "\\rho_{eff}& = \\frac{1}{\\frac{E_{s} \\cdot M_{r} \\cdot \\left({d}' - x\\right)}{EI_{II} \\cdot f_{ct}} - n + 1} = 1.42 \\ \\mathrm{\\%} \\\\ \n",
       "\\Delta_{\\chi}& = \\frac{f_{ct} \\cdot \\lambda \\cdot \\left(1 - \\rho_{eff}\\right)}{2 \\cdot E_{s} \\cdot \\rho_{eff} \\cdot \\left({d}' - x\\right)} = 3.06 \\ \\frac{1}{\\mathrm{km}} \\end{aligned}\n",
       "$$"
      ],
      "text/plain": [
       "<IPython.core.display.Markdown object>"
      ]
     },
     "metadata": {},
     "output_type": "display_data"
    }
   ],
   "source": [
    "lamda = 1\n",
    "EI_II = (M_y / chi_y).to(un.kN*un.m**2)\n",
    "n = E_s / E_c\n",
    "\n",
    "rho_eff = ((1 + E_s*M_r*(d_apos-x)/(EI_II*f_ct) - n)**-1).to(un.percent)\n",
    "\n",
    "Delta_chi = (lamda / 2 * f_ct * (1 - rho_eff) /(rho_eff * E_s * (d_apos-x))).to(1/un.km)\n",
    "\n",
    "put_out(symbolic=True, rows = 1)"
   ]
  },
  {
   "cell_type": "markdown",
   "metadata": {},
   "source": [
    "Die Querschnittsanalyse ist abschliessend in der @fig-tho_M_chi zusammengefasst."
   ]
  },
  {
   "cell_type": "code",
   "execution_count": 21,
   "metadata": {},
   "outputs": [],
   "source": [
    "# | echo: false\n",
    "\n",
    "My_qs_array = np.array([0, M_r.m, M_r.m, M_y.m, M_u.m]) * un.kNm\n",
    "chi_qs_array_zuggurt = np.array([0, chi_r.m, (chi_y / M_y * M_r - Delta_chi).m, chi_y.m-Delta_chi.m, chi_u.m])/un.km\n",
    "\n",
    "fig_M_chi, ax_M_chi = plt.subplots()\n",
    "ax_M_chi.plot(chi_qs_array_zuggurt.to(1/un.km).m, My_qs_array.to(un.kNm).m, color=\"k\")\n",
    "\n",
    "# Scientific Notation if needed\n",
    "apply_scientific_notation(ax_M_chi, chi_qs_array_zuggurt.m)\n",
    "\n",
    "# Set axis labels\n",
    "ax_M_chi.set_ylabel(r\"$M$ [kNm]\")\n",
    "ax_M_chi.set_xlabel(r\"$\\chi$ [1/km]\")\n",
    "\n",
    "# Set limits\n",
    "# ax_b500b.set_xlim(xmax=140 / 1000)\n",
    "# ax_b500b.set_ylim(ymax=700)\n",
    "\n",
    "# Show the plot\n",
    "# plt.tight_layout()\n",
    "plt.savefig(\"imgs/tho_M_chi.svg\")\n",
    "plt.close()"
   ]
  },
  {
   "cell_type": "markdown",
   "metadata": {},
   "source": [
    "![Momenten-Krümmungs-Beziehung des Querschnitts](../imgs/tho_M_chi.svg){#fig-tho_M_chi}"
   ]
  },
  {
   "cell_type": "markdown",
   "metadata": {},
   "source": [
    "Aufgrund der identischen Bewehrung in beide Richtungen gilt das Momenten-Krümmungs-Diagramm für beide Richtungen. Obwohl sich kleine Differenzen bei der statischen Höhe ergeben. Dazu wird das Diagramm für positive und negative Biegebeanspruchungen angewendet."
   ]
  },
  {
   "cell_type": "code",
   "execution_count": 22,
   "metadata": {},
   "outputs": [
    {
     "data": {
      "text/html": [
       "<table><tbody><tr><th>Magnitude</th><td style='text-align:left;'><pre>[0.0 6.127279365952501e-05 0.00019092357882595596 0.000571285789138022 0.019444364654412155]</pre></td></tr><tr><th>Units</th><td style='text-align:left;'>rad</td></tr></tbody></table>"
      ],
      "text/latex": [
       "$\\begin{pmatrix} &  &  &  & \\end{pmatrix}\\ \\mathrm{rad}$"
      ],
      "text/plain": [
       "<Quantity([0.00000000e+00 6.12727937e-05 1.90923579e-04 5.71285789e-04\n",
       " 1.94443647e-02], 'radian')>"
      ]
     },
     "metadata": {},
     "output_type": "display_data"
    },
    {
     "data": {
      "text/html": [
       "<table><tbody><tr><th>Magnitude</th><td style='text-align:left;'><pre>[0.0 1.8708626330708304 1.8708626330708304 3.93933519233789 4.729574875521492]</pre></td></tr><tr><th>Units</th><td style='text-align:left;'>kNm</td></tr></tbody></table>"
      ],
      "text/latex": [
       "$\\begin{pmatrix} &  &  &  & \\end{pmatrix}\\ \\mathrm{kNm}$"
      ],
      "text/plain": [
       "<Quantity([0.         1.87086263 1.87086263 3.93933519 4.72957488], 'kNm')>"
      ]
     },
     "metadata": {},
     "output_type": "display_data"
    }
   ],
   "source": [
    "varphi = (chi_qs_array_zuggurt * l_El).to(un.rad)/n_gelenk\n",
    "\n",
    "My_qs_array\n",
    "\n",
    "\n",
    "display(varphi, My_qs_array)"
   ]
  },
  {
   "cell_type": "markdown",
   "metadata": {},
   "source": [
    "Anhand der Elementlänge $l_{El}$ kann die Verdrehung des Gelenks bestimmt werden. Zusammengefasst in der @fig-tho_biegung."
   ]
  },
  {
   "cell_type": "code",
   "execution_count": 23,
   "metadata": {},
   "outputs": [],
   "source": [
    "# | echo: false\n",
    "\n",
    "phi_qs_array = (chi_qs_array_zuggurt * l_El).to(un.rad)\n",
    "\n",
    "fig_M_phi, ax_M_phi = plt.subplots()\n",
    "ax_M_phi.plot(phi_qs_array.to(un.rad).m, My_qs_array.to(un.kNm).m, color=\"k\")\n",
    "\n",
    "\n",
    "# Set axis labels\n",
    "ax_M_phi.set_ylabel(r\"$M$ [kNm]\")\n",
    "ax_M_phi.set_xlabel(r\"$\\varphi$ [rad]\")\n",
    "\n",
    "# Set limits\n",
    "# ax_b500b.set_xlim(xmax=140 / 1000)\n",
    "# ax_b500b.set_ylim(ymax=700)\n",
    "\n",
    "# Show the plot\n",
    "# plt.tight_layout()\n",
    "plt.savefig(\"imgs/tho_M_phi.svg\")\n",
    "plt.close()"
   ]
  },
  {
   "cell_type": "markdown",
   "metadata": {},
   "source": [
    "::: {#fig-tho_biegung layout-ncol=2}\n",
    "\n",
    "![Momenten-Krümmungs-Beziehung des Querschnitts](../imgs/tho_M_chi.svg){#fig-tho_M_chi}\n",
    "\n",
    "![Momenten-Verdrehungs-Beziehung des Querschnitts](../imgs/tho_M_phi.svg){#fig-tho_M_phi}\n",
    "\n",
    "Momenten-Krümmungs-Beziehung und Momenten-Verdrehungs-Beziehung für die Platte in globale $X$ und $Y$ Richtung.\n",
    ":::"
   ]
  },
  {
   "cell_type": "markdown",
   "metadata": {},
   "source": [
    "#### Rotationsvermögen\n",
    "\n",
    "Um das Fliessverhalten abzuschätzen wird das Rotationsvermögen abgeschätzt. Dazu wird eine zulässige Stahldehnung bestimmt anhand der Betonbruchstauchung:"
   ]
  },
  {
   "cell_type": "code",
   "execution_count": 24,
   "metadata": {},
   "outputs": [
    {
     "data": {
      "text/markdown": [
       "$$\n",
       "\\begin{aligned}\n",
       "\\varepsilon_{u , adm}& = \\frac{\\varepsilon_{cu} \\cdot \\left({d}' - x\\right)}{x} = 62.31 \\ \\mathrm{‰} \\quad &  \\quad &  \n",
       " \\end{aligned}\n",
       "$$"
      ],
      "text/plain": [
       "<IPython.core.display.Markdown object>"
      ]
     },
     "metadata": {},
     "output_type": "display_data"
    }
   ],
   "source": [
    "eps_u_com_adm = eps_cu * (d_apos - x) / x\n",
    "\n",
    "put_out(symbolic=True)"
   ]
  },
  {
   "cell_type": "markdown",
   "metadata": {},
   "source": [
    "Mit dieser lassen sich das plastische Rotationsvermögen bestimmen:"
   ]
  },
  {
   "cell_type": "code",
   "execution_count": 25,
   "metadata": {},
   "outputs": [
    {
     "data": {
      "text/markdown": [
       "$$\n",
       "\\begin{aligned}\n",
       "l_{pl}& = 2 \\cdot {d}' = 350.0 \\ \\mathrm{mm} \\\\ \n",
       "\\varepsilon_{cu}& = 5.0 \\ \\mathrm{‰} \\\\ \n",
       "\\Theta_{max}& = l_{pl} \\cdot \\left(\\frac{\\varepsilon_{cu}}{x} - \\frac{\\varepsilon_{sy}}{{d}' - x}\\right) = 0.13 \\ \\mathrm{rad} \\\\ \n",
       "\\Theta_{max gelenk}& = \\frac{\\Theta_{max}}{2} = 0.065 \\ \\mathrm{rad} \\end{aligned}\n",
       "$$"
      ],
      "text/plain": [
       "<IPython.core.display.Markdown object>"
      ]
     },
     "metadata": {},
     "output_type": "display_data"
    }
   ],
   "source": [
    "# Annahme für die Länge des Gelenks\n",
    "l_pl = 2 * d_apos\n",
    "\n",
    "eps_cu\n",
    "# Verformungsvermögen\n",
    "Theta_max = (l_pl * (eps_cu / x  - eps_sy / (d_apos -x))).to(un.rad)\n",
    "Theta_max_gelenk = Theta_max / 2 \n",
    "\n",
    "put_out(symbolic=True, rows = 1, precision = 3)"
   ]
  },
  {
   "cell_type": "markdown",
   "metadata": {},
   "source": [
    "Die Momenten-Krümmungs-Beziehung wird mit dem plastischen Rotationsvermögen erweitert:"
   ]
  },
  {
   "cell_type": "code",
   "execution_count": 26,
   "metadata": {},
   "outputs": [],
   "source": [
    "theta_array = np.array([max(phi_qs_array), Theta_max_gelenk])\n",
    "M_pl_array = np.array([M_u.m, M_u.m])\n",
    "\n",
    "\n",
    "ax_M_phi.plot(theta_array,  M_pl_array, color='red')\n",
    " \n",
    "fig_M_phi.savefig(\"imgs/tho_M_phi_theta_max.svg\")\n",
    "plt.close()"
   ]
  },
  {
   "cell_type": "markdown",
   "metadata": {},
   "source": [
    "![Momenten-Verdrehungs-Diagramm mit dem Rotationsvermögen erweitert](../imgs/tho_M_phi_theta_max.svg){#fig-tho_M_phi_theta_max}\n",
    "\n",
    "Damit ist das Biegeverhalten der Gelenke definiert. "
   ]
  },
  {
   "cell_type": "markdown",
   "metadata": {},
   "source": [
    "### Drillsteifigkeit"
   ]
  },
  {
   "cell_type": "markdown",
   "metadata": {},
   "source": [
    "Das Torsionsträgheitsmoment für einen Rechteckquerschnitt approximiert:\n",
    "\n",
    "\n",
    "![Rechteckquerschnitt mit der Breite des Rosts](../imgs/tho_drillsteif_qs.png)"
   ]
  },
  {
   "cell_type": "markdown",
   "metadata": {},
   "source": [
    "Es wird eine Näherung zur Lösung des Torsionsträgheitmoments für Rechteckquerschnitte verwendet."
   ]
  },
  {
   "cell_type": "code",
   "execution_count": 27,
   "metadata": {},
   "outputs": [
    {
     "data": {
      "text/markdown": [
       "$$\n",
       "\\begin{aligned}\n",
       "\\beta_{Ix}& = 0.23 \\\\ \n",
       "I_{x}& = b_{w}^{3} \\cdot \\beta_{Ix} \\cdot h = 45800000.0 \\ \\mathrm{mm}^{4} \\end{aligned}\n",
       "$$"
      ],
      "text/plain": [
       "<IPython.core.display.Markdown object>"
      ]
     },
     "metadata": {},
     "output_type": "display_data"
    }
   ],
   "source": [
    "\n",
    "beta_Ix =  0.229\n",
    "I_x = (beta_Ix * h* b_w**3).to(un.mm**4) \n",
    "\n",
    "put_out(symbolic=True, rows = 1)"
   ]
  },
  {
   "cell_type": "markdown",
   "metadata": {},
   "source": [
    "Die ungerissene und gerissene Steifigkeit des Querschnitts wird folgend abgeschätzt:"
   ]
  },
  {
   "cell_type": "code",
   "execution_count": 28,
   "metadata": {},
   "outputs": [
    {
     "data": {
      "text/markdown": [
       "$$\n",
       "\\begin{aligned}\n",
       "\\nu& = 0.2 \\\\ \n",
       "\\eta_{II}& = 0.2 \\\\ \n",
       "G_{c}& = \\frac{E_{c}}{2 \\cdot \\left(\\nu + 1\\right)} = 9.54 \\ \\frac{\\mathrm{kN}}{\\mathrm{mm}^{2}} \\\\ \n",
       "GI& = G_{c} \\cdot I_{x} = 437.01 \\ \\mathrm{kN} \\cdot \\mathrm{m}^{2} \\\\ \n",
       "GI_{II}& = GI \\cdot \\eta_{II} = 87.4 \\ \\mathrm{kN} \\cdot \\mathrm{m}^{2} \\end{aligned}\n",
       "$$"
      ],
      "text/plain": [
       "<IPython.core.display.Markdown object>"
      ]
     },
     "metadata": {},
     "output_type": "display_data"
    }
   ],
   "source": [
    "nu = 0.2\n",
    "eta_II = 0.2\n",
    "G_c = E_c / (2*(1+nu))\n",
    "\n",
    "GI = (I_x * G_c).to(un.kN*un.m**2)\n",
    "GI_II = eta_II* GI\n",
    "\n",
    "put_out(symbolic=True, rows = 1)"
   ]
  },
  {
   "cell_type": "markdown",
   "metadata": {},
   "source": [
    "Und die Steifigkeit des Gelenks beträgt abschliessend:"
   ]
  },
  {
   "cell_type": "code",
   "execution_count": 29,
   "metadata": {},
   "outputs": [
    {
     "data": {
      "text/markdown": [
       "$$\n",
       "\\begin{aligned}\n",
       "k_{x II}& = \\frac{GI_{II} \\cdot n_{gelenk}}{l_{El}} = 1748.03 \\ \\mathrm{kN} \\cdot \\mathrm{m} \\quad &  \\quad &  \n",
       " \\end{aligned}\n",
       "$$"
      ],
      "text/plain": [
       "<IPython.core.display.Markdown object>"
      ]
     },
     "metadata": {},
     "output_type": "display_data"
    }
   ],
   "source": [
    "k_x_II = GI_II*n_gelenk / l_El\n",
    "\n",
    "put_out(symbolic=True)"
   ]
  },
  {
   "cell_type": "markdown",
   "metadata": {},
   "source": [
    "Als Vergleichswert hier die Plattensteifigkeit gemäss der Plattengleichung."
   ]
  },
  {
   "cell_type": "code",
   "execution_count": 30,
   "metadata": {},
   "outputs": [
    {
     "data": {
      "text/markdown": [
       "$$\n",
       "\\begin{aligned}\n",
       "k_{r}& = \\frac{E_{c} \\cdot \\eta_{II} \\cdot h^{3}}{n_{gelenk} \\cdot 12 \\cdot \\left(1 - \\nu\\right)} = 1908.33 \\ \\frac{\\mathrm{kN} \\cdot \\mathrm{m}}{\\mathrm{rad}} \\quad &  \\quad &  \n",
       " \\end{aligned}\n",
       "$$"
      ],
      "text/plain": [
       "<IPython.core.display.Markdown object>"
      ]
     },
     "metadata": {},
     "output_type": "display_data"
    }
   ],
   "source": [
    "\n",
    "k_r = (E_c * (h)**3 / (12*(1-nu)) * eta_II/n_gelenk).to(un.kN*un.m/un.rad)\n",
    "\n",
    "put_out(symbolic=True)"
   ]
  },
  {
   "cell_type": "markdown",
   "metadata": {},
   "source": [
    "## Modellergebnisse"
   ]
  },
  {
   "cell_type": "markdown",
   "metadata": {},
   "source": [
    "Die Ergebnisse der Berechnung sind hier gezeigt anhand des Last-Verformungs-Diagramms für die Stelle $V10$."
   ]
  },
  {
   "cell_type": "code",
   "execution_count": 31,
   "metadata": {},
   "outputs": [],
   "source": [
    "DF_rost_axis_V10 = pd.read_excel('calc/tho_axis_res.xlsx', sheet_name='V10')\n",
    "DF_rost_axis_V10['eZ_1 [mm]']= -1*DF_rost_axis_V10['eZ_1 [mm]']\n",
    "\n",
    "DF_rost_axis_V10_ohne_zuggurt = pd.read_excel('calc/tho_axis_res.xlsx', sheet_name='V10_ohne_zuggurt')\n",
    "DF_rost_axis_V10_ohne_zuggurt['eZ_1 [mm]']= -1*DF_rost_axis_V10_ohne_zuggurt['eZ_1 [mm]']\n",
    "\n",
    "\n",
    "ax_res_V10.plot(DF_rost_axis_V10.iloc[:,1],  DF_rost_axis_V10.iloc[:,2]*F_u.to(un.kN).m*12/20, label='Federmodell', color='gray')\n",
    "ax_res_V10.plot(DF_rost_axis_V10_ohne_zuggurt.iloc[:,1],  DF_rost_axis_V10_ohne_zuggurt.iloc[:,2]*F_u.to(un.kN).m*12/20, color='gray', linestyle='dashed')\n",
    " \n",
    "fig_res_V10.legend()\n",
    "fig_res_V10.savefig(\"imgs/tho_res_V10_calc.svg\")\n",
    "plt.close()\n"
   ]
  },
  {
   "cell_type": "markdown",
   "metadata": {},
   "source": [
    "![Modellergebnisse, Last-Verformungs-Diagramm an der Stelle $V10$](../imgs/tho_res_V10_calc.svg){#fig-tho_res_V10_calc}"
   ]
  }
 ],
 "metadata": {
  "kernelspec": {
   "display_name": "calc",
   "language": "python",
   "name": "python3"
  },
  "language_info": {
   "codemirror_mode": {
    "name": "ipython",
    "version": 3
   },
   "file_extension": ".py",
   "mimetype": "text/x-python",
   "name": "python",
   "nbconvert_exporter": "python",
   "pygments_lexer": "ipython3",
   "version": "3.11.9"
  }
 },
 "nbformat": 4,
 "nbformat_minor": 2
}
