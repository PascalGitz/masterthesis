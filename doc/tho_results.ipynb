{
 "cells": [
  {
   "cell_type": "code",
   "execution_count": 1,
   "metadata": {},
   "outputs": [],
   "source": [
    "import pandas as pd\n",
    "import ezdxf\n",
    "import numpy as np"
   ]
  },
  {
   "cell_type": "code",
   "execution_count": 2,
   "metadata": {},
   "outputs": [],
   "source": [
    "path = \"../calc/tho_res_plots.xlsx\"\n",
    "sheet_name = ['lpa_0633', 'lpa_0568', 'lpa_0366', 'lpa_0300', 'lpa_0101']\n",
    "\n",
    "DF_nodes = pd.read_excel(path, sheet_name='knoten')[['X [m]', 'Y [m]', 'Z [m]']]"
   ]
  },
  {
   "cell_type": "code",
   "execution_count": 3,
   "metadata": {},
   "outputs": [],
   "source": [
    "def read_data(path, sheet_name):\n",
    "    DF = pd.read_excel(path, sheet_name=sheet_name)[['Knoten', 'My  [kNm]', 'Tx  [kNm]']].dropna()\n",
    "    #transformation\n",
    "    DF['Knoten'] = DF['Knoten'].astype(int)*-1 -1\n",
    "    #Merge with nodes coordinates\n",
    "    DF_res = DF.merge(DF_nodes, left_on='Knoten', right_index=True)\n",
    "    #rename\n",
    "    columns_rename = ['knoten', 'My', 'Tx', 'x', 'y', 'z']\n",
    "    DF_res.columns = columns_rename\n",
    "    #reset index\n",
    "    DF_res=DF_res.reset_index()\n",
    "\n",
    "    return DF_res\n",
    "\n",
    "def save_dxf(Data, dxf_name, moment):\n",
    "\n",
    "    # Extract rows for DXF\n",
    "    x = Data['x']\n",
    "    y = Data['y']\n",
    "    z = Data[moment]/5\n",
    "\n",
    "    # Generate consistent pairs (0-1, 2-3, ...)\n",
    "    index_pairs = [(i, i + 1) for i in range(0, len(x), 2)]\n",
    "\n",
    "    # Create a new DXF document\n",
    "    doc = ezdxf.new()\n",
    "\n",
    "    # Add a new modelspace\n",
    "    msp = doc.modelspace()\n",
    "\n",
    "\n",
    "\n",
    "    # Add 3D polyline to the DXF\n",
    "    points = list(zip(x, y, z))\n",
    "\n",
    "    # Add line segments for each pair\n",
    "    for start, end in index_pairs:\n",
    "        points = [(x[start],y[start],z[start]), (x[end],y[end],z[end])]\n",
    "        msp.add_polyline3d(points, dxfattribs={'layer': '3D Line'})\n",
    "        \n",
    "\n",
    "    # Save to file\n",
    "    output_path = dxf_name+'_'+moment+\".dxf\"\n",
    "    doc.saveas(output_path)\n",
    "\n",
    "    print(f\"DXF file saved as {output_path}\")"
   ]
  },
  {
   "cell_type": "code",
   "execution_count": 4,
   "metadata": {},
   "outputs": [
    {
     "name": "stdout",
     "output_type": "stream",
     "text": [
      "DXF file saved as lpa_0633_My.dxf\n",
      "DXF file saved as lpa_0633_Tx.dxf\n",
      "DXF file saved as lpa_0568_My.dxf\n",
      "DXF file saved as lpa_0568_Tx.dxf\n",
      "DXF file saved as lpa_0366_My.dxf\n",
      "DXF file saved as lpa_0366_Tx.dxf\n",
      "DXF file saved as lpa_0300_My.dxf\n",
      "DXF file saved as lpa_0300_Tx.dxf\n",
      "DXF file saved as lpa_0101_My.dxf\n",
      "DXF file saved as lpa_0101_Tx.dxf\n"
     ]
    }
   ],
   "source": [
    "for sheet in sheet_name:    \n",
    "    DF = read_data(path = path, sheet_name=sheet)\n",
    "    save_dxf(DF, sheet, 'My')\n",
    "    save_dxf(DF, sheet, 'Tx')"
   ]
  },
  {
   "cell_type": "code",
   "execution_count": null,
   "metadata": {},
   "outputs": [],
   "source": []
  }
 ],
 "metadata": {
  "kernelspec": {
   "display_name": "calc",
   "language": "python",
   "name": "python3"
  },
  "language_info": {
   "codemirror_mode": {
    "name": "ipython",
    "version": 3
   },
   "file_extension": ".py",
   "mimetype": "text/x-python",
   "name": "python",
   "nbconvert_exporter": "python",
   "pygments_lexer": "ipython3",
   "version": "3.11.9"
  }
 },
 "nbformat": 4,
 "nbformat_minor": 2
}
