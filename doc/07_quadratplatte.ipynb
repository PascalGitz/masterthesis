{
 "cells": [
  {
   "cell_type": "code",
   "execution_count": 1,
   "metadata": {},
   "outputs": [],
   "source": [
    "from packages import *"
   ]
  },
  {
   "cell_type": "markdown",
   "metadata": {},
   "source": [
    "# Quadratplatte\n",
    "\n",
    "Die vorgängige Analyse des torsionsweichen Trägerrostes zeigt, dass sich der untere Grenzwert der Traglast zuverlässig mit dem NLFE-Modell bestimmen lässt. Der Modellierungsaufwand bleibt dabei gering, da die verwendete Querschnittsmodellbildung lediglich ein ideal-plastisches Biegeverhalten berücksichtigt. Das gleiche Vorgehen wird nun auf die Quadratplatte angewendet. Diese dient als Einstieg in die Anwendung der Plattentheorie, @sec-platten.\n",
    "\n",
    "Das Anwendungsbeispiel der Quadratplatte gliedert sich in den Aufgabenbeschrieb, die analytische Lösung und die Modellbildung des NLFE-Modells.\n",
    "\n",
    "## Aufgabenbeschrieb\n",
    "\n",
    "Die @fig-quad_aufgabenstellung zeigt eine Quadratplatte, die mit einer konstanten Flächenlast belastet ist. Die Platte ist an allen Rändern gelenkig gelagert. Die Randbedingungen sind so gewählt, dass der untere und obere Grenzwert der Traglast zusammenfallen.  \n",
    "\n",
    "![Quadratplatte mit gleichmässiger Flächenlast. Die Lagerungsbedingung und die Abmessund sind dargestellt.](../imgs/quad_aufgabenstellung.svg){#fig-quad_aufgabenstellung}\n",
    "\n",
    "Das Ziel ist es, die Traglast des Systems analytisch zu bestimmen und diese anschliessend mit der Lösung des NLFE-Modells zu vergleichen. Die relevanten Parameter wie der Biegewiderstand und die Plattenabmessung sind wie folgt definiert.\n"
   ]
  },
  {
   "cell_type": "code",
   "execution_count": 2,
   "metadata": {},
   "outputs": [
    {
     "data": {
      "text/markdown": [
       "$$\n",
       "\\begin{aligned}\n",
       "m_{u}& = 100.0 \\ \\frac{\\mathrm{kNm}}{\\mathrm{m}} \\quad & a& = 10 \\ \\mathrm{m} \\quad &  \n",
       " \\end{aligned}\n",
       "$$"
      ],
      "text/plain": [
       "<IPython.core.display.Markdown object>"
      ]
     },
     "metadata": {},
     "output_type": "display_data"
    }
   ],
   "source": [
    "m_u = 100*un.kNm/un.m\n",
    "a = 10*un.m\n",
    "put_out()"
   ]
  },
  {
   "cell_type": "markdown",
   "metadata": {},
   "source": [
    "## Analytische Lösung\n",
    "\n",
    "Der obere Grenzwert der analytischen Lösung basiert auf der Fliessgelenklinienmethode. Die Fliessgelenke sind über die Fliessfigur in @fig-quad_fliessfigur_norm bestimmt. Die Fliessfigur zeigt eine Interaktion zwischen Biege- und Drillmomenten. \n",
    "\n",
    "Anhand eines gewählten Mechanismus ist über das Gleichsetzen der inneren und äusseren Arbeit der obere Grenzwert der Traglast zu bestimmen. In @marti_baustatik_2014 ist die Methode detailliert beschrieben. \n",
    "\n",
    "![Fliessfigur der Fliessgelenklinienmethode im $m_x , m_y, m_{xy}$-Raum](../imgs/quad_fliessfigur_norm.svg){#fig-quad_fliessfigur_norm}\n",
    "\n",
    "Das Kapitel 25.5.3 aus @marti_baustatik_2014 zeigt die Bestimmung der Traglast einer einfach gelagerten Rechteckplatte. Der Mechanismus, sprich die Anordnung der Fliessgelenklinien in der Platte, zeigt die @fig-quad_rechteck_allg.\n",
    "\n",
    "![Fliessgelenklinien einer einfach gelagerten Rechteckplatte, neugezeichnet nach @marti_baustatik_2014](../imgs/quad_rechteck_allg.svg){#fig-quad_rechteck_allg}\n",
    "\n",
    "Mittels den Momentenansätzen, beschrieben in @marti_baustatik_2014, lassen sich die Gleichgewichtsbedingungen und die statischen Randbedingungen erfüllen, sprich einen unteren Grenzwert der Traglast ermitteln. \n",
    "\n",
    "Die Anwendung beider Methoden auf die Rechteckplatte liefert die folgende Eingrenzung der Traglast:\n",
    "\n",
    "$$\n",
    "8(1+ \\beta + \\beta^2) \\leq \\frac{q_u b^2}{m_u} \\leq \\frac{24}{(\\sqrt{3+\\beta^2} - \\beta)^2}\n",
    "$$\n",
    "\n",
    "dabei entspricht $\\beta$ dem Verhältnis der Seitenlängen:\n",
    "\n",
    "$$\n",
    "\\beta = \\frac{b}{a}\n",
    "$$\n",
    "\n",
    "Für die Quadratplatte ist $a = b$ anzusetzen. Dies führt zu dem Mechanismus gemäss der @fig-quad_quadrat_fliessgelenklinien.\n",
    "\n",
    "![Fliessgelenklinien der einfach gelagerten Quadratplatte](../imgs/quad_quadrat_fliessgelenklinien.svg){#fig-quad_quadrat_fliessgelenklinien}\n",
    "\n",
    "Die folgende Beziehung beschreibt die Eingrenzung der Traglast der einfach gelagerten Quadratplatte.\n",
    "\n",
    "$$\n",
    "\\frac{24 m_u}{a^2} \\leq q_u \\leq \\frac{24 m_u}{a^2} \n",
    "$$\n",
    "\n",
    "Es ist ersichtlich, dass die Grenzen zusammenfallen. Die Traglast ist somit eindeutig bestimmt. Mit den gewählten Abmessungen und dem Biegewiderstand ist die Traglast die folgende."
   ]
  },
  {
   "cell_type": "code",
   "execution_count": 3,
   "metadata": {},
   "outputs": [
    {
     "data": {
      "text/markdown": [
       "$$\n",
       "\\begin{aligned}\n",
       "q_{u}& = \\frac{24 \\cdot m_{u}}{a^{2}} = 24.0 \\ \\frac{\\mathrm{kN}}{\\mathrm{m}^{2}} \\quad &  \n",
       " \\end{aligned}\n",
       "$$"
      ],
      "text/plain": [
       "<IPython.core.display.Markdown object>"
      ]
     },
     "metadata": {},
     "output_type": "display_data"
    }
   ],
   "source": [
    "q_u = (24 * m_u / a**2).to(un.kN/un.m**2)\n",
    "\n",
    "\n",
    "put_out(symbolic=True, rows = 2)"
   ]
  },
  {
   "cell_type": "markdown",
   "metadata": {},
   "source": [
    "## NLFE-Modell\n",
    "\n",
    "Nach der Bestimmung der analytischen Traglast zeigt der folgende Abschnitt die Modellbildung des nicht-linearen FE-Modells. Es sind die Systemmodellbildung, die Querschnittsmodellbildung und die Resultate aufgezeigt."
   ]
  },
  {
   "cell_type": "markdown",
   "metadata": {},
   "source": [
    "### Systemmodellbildung\n",
    "\n",
    "Das System ist in der @fig-quad_makro gezeigt. Gezeigt sind der Trägerrost, Stabanfang- und Endgelenke, Auflager und Knotenlasten. Die Gelenke sind gemäss der Modellierungsstrategie angeordnet.\n",
    "\n",
    "![Systemmodell des Trägerrosts als Ersatzsystem der Quadratplatte. Die Einzellasten und Elementlänge sind dargestellt](../imgs/quad_makro.svg){#fig-quad_makro}"
   ]
  },
  {
   "cell_type": "markdown",
   "metadata": {},
   "source": [
    "### Querschnittsmodellbildung\n",
    "\n",
    "Es ist die Ersatzbiegesteifigkeit und die Ersatztorsionssteifigkeit aufgezeigt."
   ]
  },
  {
   "cell_type": "markdown",
   "metadata": {},
   "source": [
    "#### Ersatzbiegesteifigkeit\n"
   ]
  },
  {
   "cell_type": "markdown",
   "metadata": {},
   "source": [
    "Die Momenten-Krümmungs-Beziehung in der @fig-quad_m_chi ist punktsymmetrisch um den Achsenursprung. Diese gilt somit für positive und negative Biegebeanspruchungen. Zudem ist die ideal-plastische Beziehung ausreichend präzise, sofern nur die Traglast zu ermitteln ist.\n",
    "\n",
    "![Ideal-plastisches a) Momenten-Krümmungs-Diagramm, b) Momenten-Verdrehungs-Diagramm](../imgs/trm_m_chi.svg){#fig-quad_m_chi}\n",
    "\n",
    "Der Biegewiderstand des Stabs lässt durch die Multiplikation des, auf die Einheitslänge bezogenen, Biegewiderstands mit der Elementlänge bestimmen. Dies ist in der @fig-allg_querschnittsbreite_rost verdeutlicht. Die Gelenkdefinition folgt unter der Anwendung der @eq-phi_to_chi_konst."
   ]
  },
  {
   "cell_type": "markdown",
   "metadata": {},
   "source": [
    "#### Ersatztorsionssteifigkeit\n",
    "\n",
    "Betrachtet man die @fig-quad_quadrat_fliessgelenklinien, so ist eine Ersatztorsionssteifigkeit zu wählen in Abhängigkeit der Biegebeanspruchung. Sprich es ist eine Interaktion zwischen Biegung und Drillung zu modellieren. Dies lässt sich im Modell jedoch nicht umsetzen. Der maximale Drillmomentenwiderstand der Fliessfigur beschreibt die @eq-drill_fliessgelenk. \n",
    "\n",
    "$$\n",
    "m_{xy,max} = \\frac{1}{2} \\sqrt{(m_x + m'_x) (m_y + m'_y)}\n",
    "$${#eq-drill_fliessgelenk}\n",
    "\n",
    "Setzt man in der @eq-drill_fliessgelenk den Biegewiderstand für sämtliche Biegemomententerme voraus, so entspricht der maximale Drillwiderstand dem Biegewiderstand. Als Vereinfachung ist folglich das  Torsionsverhalten gleich dem Biegeverhalten modelliert.\n",
    "\n",
    "Das modellierte Verhalten lässt sich an der Fliessfigur illustrieren. Die @fig-quad_fliessfigur_axis zeigt die Fliessfigur des Trägerrosts. Die Darstellung ist schematisch für sich unterscheidende positive und negative Biegewiderstände. Grau hinterlegt ist die Fliessfigur der Fliessgelenklinienmethode.\n"
   ]
  },
  {
   "cell_type": "markdown",
   "metadata": {},
   "source": [
    "![Fliessfigur des Trägerrosts im $m_x , m_y, m_{xy}$-Raum](../imgs/quad_fliessfigur_axis.svg){#fig-quad_fliessfigur_axis}\n"
   ]
  },
  {
   "cell_type": "markdown",
   "metadata": {},
   "source": [
    "Die Darstellung verdeutlicht, dass bei hohen Biegemomenten und zugleich grosser Torsionsbeanspruchung das Tragverhalten überschätzt wird."
   ]
  },
  {
   "cell_type": "markdown",
   "metadata": {},
   "source": [
    "#### Abbruchkriterium\n",
    "\n",
    "Die Traglast ist erreicht, wenn sich eine vollständige Umlagerung der Biege- und Torsionsmomente eingestellt hat. Dies ist an einem asymptotischen Verlauf im Last-Verformungs-Diagramm zu erkennen.\n"
   ]
  },
  {
   "cell_type": "markdown",
   "metadata": {},
   "source": [
    "### Resultate\n",
    "\n",
    "Das qualitative Last-Verformungs-Verhalten ist in der @fig-quad_Q_w gezeigt. Die Kurve beginnt abzuflachen beim Erreichen des Biegewiderstands in der Mitte. Danach bilden sich nach und nach weitere Gelenke, bis zum Erreichen der Traglast.\n",
    "\n",
    "![Qualitatives Last-Verformungs-Diagramm des Systems mit beschrifteten Lastparametern](../imgs/quad_Q_w.svg){#fig-quad_Q_w}\n",
    "\n",
    "\n",
    "Die Zustandslinien der Biegemomente beim Erreichen des Biegewiderstands in der Mitte zeigt die @fig-quad_lpa1_m.\n",
    "\n",
    "![Zustandslinien der Biegemomente des Systems beim Lastparameter 0.400](../imgs/quad_lpa1_m.svg){#fig-quad_lpa1_m}\n",
    "\n",
    "Die Torsionsmomente sind in der @fig-quad_lpa1_T gezeigt. Der Torsionswiderstand ist in den Ecken noch nicht erreicht.\n",
    "\n",
    "![Zustandslinien der Torsionsmomente des Systems beim Lastparameter 0.400](../imgs/quad_lpa1_T.svg){#fig-quad_lpa1_T}\n",
    "\n",
    "Die @fig-quad_lpa2_m zeigt das System, welches in sämtlichen Stäben plastische Gelenke aufweist.\n",
    "\n",
    "![Zustandslinien der Biegemomente des Systems beim Lastparameter 0.500](../imgs/quad_lpa2_m.svg){#fig-quad_lpa2_m}\n",
    "\n",
    "Die Torsionsmomente der @fig-quad_lpa2_T zeigen, dass der Torsionswiderstand in den Ecken erreicht ist.\n",
    "\n",
    "![Zustandslinien der Torsionsmomente des Systems beim Lastparameter 0.500](../imgs/quad_lpa2_T.svg){#fig-quad_lpa2_T}"
   ]
  },
  {
   "cell_type": "markdown",
   "metadata": {},
   "source": [
    "Abschliessend zeigt die folgende Gleichung die Traglast des NLFE-Modells. Diese ist annähernd gleich deren der analytischen Lösung."
   ]
  },
  {
   "cell_type": "code",
   "execution_count": 4,
   "metadata": {},
   "outputs": [
    {
     "data": {
      "text/markdown": [
       "$$\n",
       "\\begin{aligned}\n",
       "l_{El}& = 1 \\ \\mathrm{m} \\\\ \n",
       "q_{u NLFE}& = 0.5 \\cdot 50 \\cdot \\frac{1}{l_{El}^{2}} = 25.0 \\ \\frac{\\mathrm{kN}}{\\mathrm{m}^{2}} \\end{aligned}\n",
       "$$"
      ],
      "text/plain": [
       "<IPython.core.display.Markdown object>"
      ]
     },
     "metadata": {},
     "output_type": "display_data"
    }
   ],
   "source": [
    "l_El = 1*un.m\n",
    "q_u_NLFE = (0.500*50*un.kN)/ (l_El**2)\n",
    "\n",
    "put_out(symbolic=True, rows=1)"
   ]
  },
  {
   "cell_type": "code",
   "execution_count": 5,
   "metadata": {},
   "outputs": [],
   "source": [
    "DF_quad = pd.read_excel('calc/axis_res.xlsx', sheet_name='quad_last_verform')\n",
    "\n",
    "DF_quad['Lpa'] = DF_quad['Lpa']*50\n",
    "DF_quad['eZ_1 [mm]'] = DF_quad['eZ_1 [mm]']*-1\n"
   ]
  },
  {
   "cell_type": "code",
   "execution_count": 6,
   "metadata": {},
   "outputs": [
    {
     "name": "stderr",
     "output_type": "stream",
     "text": [
      "C:\\Users\\Pascal Gitz\\AppData\\Local\\Temp\\ipykernel_16748\\3955486175.py:10: UserWarning: No artists with labels found to put in legend.  Note that artists whose label start with an underscore are ignored when legend() is called with no argument.\n",
      "  plt.legend()\n"
     ]
    }
   ],
   "source": [
    "\n",
    "fig_Q_w, ax_Q_w = plt.subplots(figsize=(14/2.54,5.4/2.54))\n",
    "\n",
    "\n",
    "ax_Q_w.plot(DF_quad['eZ_1 [mm]'], DF_quad['Lpa'], color='black')\n",
    "\n",
    "# Add labels and show the plot\n",
    "ax_Q_w.set_ylabel(\"$Q$ [kN]\")\n",
    "ax_Q_w.set_xlabel(\"$w$ [mm]\")\n",
    "\n",
    "plt.legend()\n",
    "# Save the plot to the specified file\n",
    "fig_Q_w.savefig(\"imgs/quad_Q_w.pdf\")\n",
    "plt.close()"
   ]
  },
  {
   "cell_type": "markdown",
   "metadata": {},
   "source": [
    "Die prognostizierte Traglast des Trägerrosts stellt eine passende Näherung zur analytischen Lösung dar. Der untere Grenzwert der Traglast des NLFE-Modells liegt über dem oberen Grenzwert der analytischen Lösung der Platte. Dies widerspricht keineswegs den Grenzwertsätzen, sondern ist darauf zurückzuführen, dass zwei unterschiedliche statische Systeme untersucht werden. Der ermittelte untere Grenzwert des NLFE-Modells ist mit dem oberen Grenzwert eines drillsteifen Trägerrosts zu vergleichen.\n"
   ]
  }
 ],
 "metadata": {
  "kernelspec": {
   "display_name": "calc",
   "language": "python",
   "name": "python3"
  },
  "language_info": {
   "codemirror_mode": {
    "name": "ipython",
    "version": 3
   },
   "file_extension": ".py",
   "mimetype": "text/x-python",
   "name": "python",
   "nbconvert_exporter": "python",
   "pygments_lexer": "ipython3",
   "version": "3.11.9"
  }
 },
 "nbformat": 4,
 "nbformat_minor": 2
}
