{
 "cells": [
  {
   "cell_type": "markdown",
   "metadata": {},
   "source": [
    "# Anwendungsbeispiel Quadratplatte\n",
    "\n",
    "Das Anwendungsbeispiel am torsionsweichen Trägerrost hast verdeutlicht, dass die Traglast eines Systems zuverlässig mit dem NLFE-Modell angenähert werden kann. Der Modellierungsaufwand ist äusserst gering, da die  Mikromodellbildung nicht aufwändig ist. \n",
    "\n",
    "In diesem Kapitel wird nun mittels einem Trägerrost die Traglast einer Platte approximiert. Wichtig dabei ist die Tatsache, dass die Traglast zweier unterschiedlichen Systemen verglichen wird. Sowie zeigt die numerische Lösung des NLFE-Modells ausschliesslich einen unteren Grenzwert der Traglast. Grundsätzlich ist es somit möglich, dass der untere Grenzwert der Traglast für den Trägerrost höher als der obere Grenzwert der Traglast des Plattentragwerks ist. Dies ist jedoch nur in Speziallfällen der Fall. Sowie liegt die Traglast des Trägerrosts nahe beim unteren Grenzwert der Traglast für das Plattentragwerk.\n",
    "\n",
    "Speziell ist im Vergleich zum torsionsweichen Trägerrost die Drillung der Platte in das Trägerrostmodell zu integrieren. In diesem Beispiel wird die Traglast einer Quadratplatte berechnet. Das Beispiel ist so gewählt, dass der untere Grenzwert und der obere Grenzwert der Traglastberechnung zusammenfallen. Somit die eindeutige Traglast bestimmt werden kann. Dies gilt für eine einfach gelagerte Quadratplatte.\n",
    "\n",
    "## Aufgabenbeschrieb\n",
    "\n",
    "Das Ziel ist es die analytische Traglast für eine einfach gelagerte Quadratplatte zu bestimmen. Mittels NLFE-Modell soll diese numerisch approximiert werden.\n",
    "\n",
    "\n",
    "\n",
    "## Analytische Lösung\n",
    "\n",
    "In @marti_baustatik_2014 im Kapitel 25.5.3 wird die Bestimmung der Traglast einer einfach gelagerten Rechteckplatte aufgezeigt. Die Lösung basiert dabei auf der Fliessgelenklinienmethode. Dabei lässt sich die Traglast folgend eingrenzen:\n",
    "\n",
    "![Systemskizze zur analytischen Lösung der Traglast einer Rechteckplatte, neugezeichner nach @marti_baustatik_2014](../imgs/quad_analytisch.png){#fig-quad_analytisch}\n",
    "\n",
    "$$\n",
    "8(1+ \\beta + \\beta^2) \\leq \\frac{q_u b^2}{m_u} \\leq \\frac{24}{(\\sqrt{3+\\beta^2} - \\beta)^2}\n",
    "$$\n",
    "\n",
    "dabei entspricht $\\beta$ dem Verhältnis der Seitenlängen:\n",
    "\n",
    "$$\n",
    "\\beta = \\frac{b}{a}\n",
    "$$\n",
    "\n",
    "Wird die Beziehung auf eine Quadratplatte $a = b$ angewendet, so folgt $\\beta = 1$ und die Beziehung:\n",
    "\n",
    "\n",
    "$$\n",
    "\\frac{24 m_u}{a^2} \\leq q_u \\leq \\frac{24 m_u}{a^2} \n",
    "$$\n",
    "\n",
    "\n",
    "Die Traglast ist somit eindeutig bestimmt.\n"
   ]
  },
  {
   "cell_type": "markdown",
   "metadata": {},
   "source": [
    "## Modellbildung\n",
    "\n",
    "Zunächst werden numerische Werte definiert. Die analytische Lösung prognostiziert die folgende Traglast:\n"
   ]
  },
  {
   "cell_type": "code",
   "execution_count": 1,
   "metadata": {},
   "outputs": [],
   "source": [
    "from packages import *"
   ]
  },
  {
   "cell_type": "code",
   "execution_count": 2,
   "metadata": {},
   "outputs": [],
   "source": [
    "# h = 30*un.cm\n",
    "\n",
    "# d = 0.9*h\n",
    "# b_w = 1*un.m\n",
    "# f_sy = 500*un.MPa\n",
    "# f_c = 20 *un.MPa\n",
    "# a_s = 2*5.236*un.cm**2/un.m\n",
    "# s = 150*un.mm\n",
    "# x = (a_s * f_sy /(0.85*f_c*b_w)*un.m).to(un.mm)\n",
    "# m_u = (a_s * f_sy * (d-0.425*x)).to(un.kNm/un.m)\n",
    "\n",
    "\n"
   ]
  },
  {
   "cell_type": "code",
   "execution_count": 3,
   "metadata": {},
   "outputs": [
    {
     "data": {
      "text/markdown": [
       "$$\n",
       "\\begin{aligned}\n",
       "a& = 10 \\ \\mathrm{m} \\\\ \n",
       "m_{u}& = 100.0 \\ \\frac{\\mathrm{kNm}}{\\mathrm{m}} \\\\ \n",
       "q_{u}& = \\frac{24 \\cdot m_{u}}{a^{2}} = 24.0 \\ \\frac{\\mathrm{kN}}{\\mathrm{m}^{2}} \\end{aligned}\n",
       "$$"
      ],
      "text/plain": [
       "<IPython.core.display.Markdown object>"
      ]
     },
     "metadata": {},
     "output_type": "display_data"
    }
   ],
   "source": [
    "a = 10*un.m\n",
    "m_u = 100*un.kNm/un.m\n",
    "q_u = (24 * m_u / a**2).to(un.kN/un.m**2)\n",
    "\n",
    "\n",
    "put_out(symbolic=True, rows = 1)"
   ]
  },
  {
   "cell_type": "markdown",
   "metadata": {},
   "source": [
    "### Makromodellbildung"
   ]
  },
  {
   "cell_type": "markdown",
   "metadata": {},
   "source": [
    "Dabei wird ein Trägerrost modelliert mit einer Elementlänge von:"
   ]
  },
  {
   "cell_type": "code",
   "execution_count": 4,
   "metadata": {},
   "outputs": [
    {
     "data": {
      "text/markdown": [
       "$$\n",
       "\\begin{aligned}\n",
       "l_{El}& = 1.0 \\ \\mathrm{m} \\end{aligned}\n",
       "$$"
      ],
      "text/plain": [
       "<IPython.core.display.Markdown object>"
      ]
     },
     "metadata": {},
     "output_type": "display_data"
    }
   ],
   "source": [
    "l_El = 1.0*un.m\n",
    "\n",
    "\n",
    "\n",
    "put_out(symbolic=True, rows = 1)"
   ]
  },
  {
   "cell_type": "markdown",
   "metadata": {},
   "source": [
    "### Mikromodellbildung"
   ]
  },
  {
   "cell_type": "markdown",
   "metadata": {},
   "source": [
    "#### Biegeverhalten"
   ]
  },
  {
   "cell_type": "markdown",
   "metadata": {},
   "source": [
    "Dessen Gelenke eine annähernd ideal plastische Momenten-Verdrehungs-Beziehung aufweisen mit dem Biegemoment von $m_u$. Dabei wird der Beziehung gemäss der @eq-dreidim_gelenkfunktionen eine Funktion zur Biegung um die $Y$ Achse und um die $X$ Achse definiert."
   ]
  },
  {
   "cell_type": "code",
   "execution_count": 5,
   "metadata": {},
   "outputs": [
    {
     "data": {
      "text/markdown": [
       "$$\n",
       "\\begin{aligned}\n",
       "M_{u}& = m_{u} \\cdot l_{El} = 100.0 \\ \\mathrm{kNm} \\end{aligned}\n",
       "$$"
      ],
      "text/plain": [
       "<IPython.core.display.Markdown object>"
      ]
     },
     "metadata": {},
     "output_type": "display_data"
    }
   ],
   "source": [
    "M_u = m_u * l_El\n",
    "\n",
    "put_out(symbolic=True, rows= 1)"
   ]
  },
  {
   "cell_type": "markdown",
   "metadata": {},
   "source": [
    "#### Torsionsverhalten"
   ]
  },
  {
   "cell_type": "code",
   "execution_count": 6,
   "metadata": {},
   "outputs": [
    {
     "data": {
      "text/markdown": [
       "$$\n",
       "\\begin{aligned}\n",
       "M_{u xy}& = M_{u} = 100.0 \\ \\mathrm{kNm} \\end{aligned}\n",
       "$$"
      ],
      "text/plain": [
       "<IPython.core.display.Markdown object>"
      ]
     },
     "metadata": {},
     "output_type": "display_data"
    }
   ],
   "source": [
    "M_u_xy = M_u\n",
    "\n",
    "put_out(symbolic=True, rows= 1)"
   ]
  },
  {
   "cell_type": "markdown",
   "metadata": {},
   "source": [
    "#### Fliessfigur"
   ]
  },
  {
   "cell_type": "markdown",
   "metadata": {},
   "source": [
    "![Fliessfigur modellierbar in AxisVM](../imgs/quad_fliessfigur.png){#quad_fliessfigur}"
   ]
  },
  {
   "cell_type": "markdown",
   "metadata": {},
   "source": [
    "### Abbruchkriterium"
   ]
  },
  {
   "cell_type": "code",
   "execution_count": 7,
   "metadata": {},
   "outputs": [
    {
     "data": {
      "text/markdown": [
       "$$\n",
       "\\begin{aligned}\n",
       "R_{z}& = 1574 \\ \\mathrm{kN} \\\\ \n",
       "q_{u rost fein}& = \\frac{R_{z}}{a^{2}} = 15.74 \\ \\frac{\\mathrm{kN}}{\\mathrm{m}^{2}} \\\\ \n",
       "\\eta_{rost fein}& = \\frac{q_{u rost fein}}{q_{u}} = 65.58 \\ \\mathrm{\\%} \\end{aligned}\n",
       "$$"
      ],
      "text/plain": [
       "<IPython.core.display.Markdown object>"
      ]
     },
     "metadata": {},
     "output_type": "display_data"
    }
   ],
   "source": [
    "\n",
    "R_z = 1574*un.kN\n",
    "\n",
    "q_u_rost_fein = R_z / a**2\n",
    "\n",
    "eta_rost_fein = (q_u_rost_fein / q_u).to(un.percent)\n",
    "put_out(symbolic=True, rows = 1)"
   ]
  },
  {
   "cell_type": "code",
   "execution_count": 8,
   "metadata": {},
   "outputs": [
    {
     "data": {
      "text/plain": [
       "0.0033700000000000015"
      ]
     },
     "execution_count": 8,
     "metadata": {},
     "output_type": "execute_result"
    }
   ],
   "source": [
    "(0.04123-0.03449)/2"
   ]
  },
  {
   "cell_type": "code",
   "execution_count": 9,
   "metadata": {},
   "outputs": [
    {
     "data": {
      "text/markdown": [
       "$$\n",
       "\\begin{aligned}\n",
       "\\eta_{last}& = 0.5 \\\\ \n",
       "F_{u}& = \\eta_{last} \\cdot 2104 \\cdot 1.1 = 1157.2 \\ \\mathrm{kN} \\\\ \n",
       "F_{u rand}& = \\eta_{last} \\cdot \\left(2597 - 2104\\right) \\cdot 0.55 = 135.58 \\ \\mathrm{kN} \\\\ \n",
       "q_{u rost fein}& = \\frac{F_{u} + F_{u rand}}{a^{2}} = 12.93 \\ \\frac{\\mathrm{kN}}{\\mathrm{m}^{2}} \\\\ \n",
       "\\eta_{rost fein}& = \\frac{q_{u rost fein}}{q_{u}} = 53.87 \\ \\mathrm{\\%} \\end{aligned}\n",
       "$$"
      ],
      "text/plain": [
       "<IPython.core.display.Markdown object>"
      ]
     },
     "metadata": {},
     "output_type": "display_data"
    }
   ],
   "source": [
    "eta_last = 0.5\n",
    "\n",
    "F_u = eta_last*2104 * 1.1*un.kN\n",
    "F_u_rand = eta_last * (2597-2104) * 0.55*un.kN\n",
    "\n",
    "\n",
    "q_u_rost_fein = (F_u + F_u_rand) / a**2\n",
    "\n",
    "eta_rost_fein = (q_u_rost_fein / q_u).to(un.percent)\n",
    "\n",
    "put_out(symbolic=True, rows = 1)"
   ]
  },
  {
   "cell_type": "code",
   "execution_count": 10,
   "metadata": {},
   "outputs": [
    {
     "data": {
      "text/markdown": [
       "$$\n",
       "\\begin{aligned}\n",
       "\\eta_{last}& = 0.56 \\\\ \n",
       "F_{u}& = 0.56 \\cdot 48 = 26.88 \\ \\mathrm{kN} \\\\ \n",
       "F_{u rand}& = 0.56 \\cdot 24 = 13.44 \\ \\mathrm{kN} \\\\ \n",
       "q_{u rost}& = \\frac{F_{u} \\cdot 81 + F_{u rand} \\cdot 4 \\cdot 9}{a^{2}} = 26.61 \\ \\frac{\\mathrm{kN}}{\\mathrm{m}^{2}} \\\\ \n",
       "\\eta_{rost}& = \\frac{q_{u rost}}{q_{u}} = 110.88 \\ \\mathrm{\\%} \\end{aligned}\n",
       "$$"
      ],
      "text/plain": [
       "<IPython.core.display.Markdown object>"
      ]
     },
     "metadata": {},
     "output_type": "display_data"
    }
   ],
   "source": [
    "eta_last = 0.56\n",
    "\n",
    "F_u = 0.56*48*un.kN\n",
    "\n",
    "F_u_rand = 0.56*24*un.kN\n",
    "\n",
    "q_u_rost = (F_u * 81 + F_u_rand * 4*9)/a**2\n",
    "\n",
    "eta_rost = (q_u_rost / q_u).to(un.percent)\n",
    "put_out(symbolic=True, rows = 1)"
   ]
  },
  {
   "cell_type": "markdown",
   "metadata": {},
   "source": [
    "Mit dem Trägerrost wird die Traglast um 10 % überschätzt"
   ]
  },
  {
   "cell_type": "markdown",
   "metadata": {},
   "source": [
    "## Traglastmodul Cubus"
   ]
  },
  {
   "cell_type": "markdown",
   "metadata": {},
   "source": [
    "Der Biegewiderstand kann hier nicht explizit eingegeben werden, sonder wird berechnet anhand der gegebenen Geometrie.\n",
    "Dazu wird zunächst der passende Querschnitt ermittelt um den Biegewiderstand $m_u$ zu erreichen."
   ]
  },
  {
   "cell_type": "code",
   "execution_count": 11,
   "metadata": {},
   "outputs": [
    {
     "data": {
      "text/markdown": [
       "$$\n",
       "\\begin{aligned}\n",
       "Lastfaktor& = 1.19 \\quad & q_{u cubus}& = Lastfaktor \\cdot q_{u} = 28.56 \\ \\frac{\\mathrm{kN}}{\\mathrm{m}^{2}} \\quad &  \n",
       " \\end{aligned}\n",
       "$$"
      ],
      "text/plain": [
       "<IPython.core.display.Markdown object>"
      ]
     },
     "metadata": {},
     "output_type": "display_data"
    }
   ],
   "source": [
    "Lastfaktor = 1.19\n",
    "\n",
    "q_u_cubus = Lastfaktor * q_u\n",
    "\n",
    "put_out(symbolic=True)"
   ]
  },
  {
   "cell_type": "markdown",
   "metadata": {},
   "source": [
    "# Rechteckplatte"
   ]
  },
  {
   "cell_type": "code",
   "execution_count": 12,
   "metadata": {},
   "outputs": [
    {
     "data": {
      "text/markdown": [
       "$$\n",
       "\\begin{aligned}\n",
       "b& = 6 \\ \\mathrm{m} \\quad & a& = 2.5 \\ \\mathrm{m} \\quad & \\beta& = \\frac{b}{a} = 2.4 \\  \\\\ \n",
       "q_{s}& = \\frac{8 \\cdot \\left(1 + \\beta + \\beta^{2}\\right) \\cdot m_{u}}{b^{2}} = 203.56 \\ \\frac{\\mathrm{kN}}{\\mathrm{m}^{2}} \\quad & m_{u}& = 100.0 \\ \\frac{\\mathrm{kNm}}{\\mathrm{m}} \\quad &  \n",
       " \\end{aligned}\n",
       "$$"
      ],
      "text/plain": [
       "<IPython.core.display.Markdown object>"
      ]
     },
     "metadata": {},
     "output_type": "display_data"
    }
   ],
   "source": [
    "b = 6*un.m\n",
    "a = 2.5*un.m\n",
    "\n",
    "beta = b / a \n",
    "\n",
    "q_s = (8*(1+beta + beta**2) * m_u / b**2).to(un.kN/un.m**2)\n",
    "\n",
    "m_u\n",
    "\n",
    "put_out(symbolic=True)\n",
    "\n"
   ]
  },
  {
   "cell_type": "code",
   "execution_count": 13,
   "metadata": {},
   "outputs": [
    {
     "data": {
      "text/markdown": [
       "$$\n",
       "\\begin{aligned}\n",
       "m_{u}& = 5 \\cdot 20 = 100.0 \\ \\frac{\\mathrm{kNm}}{\\mathrm{m}} \\quad & b& = 6 \\ \\mathrm{m} \\quad & a& = 9 \\ \\mathrm{m} \\\\ \n",
       "\\beta& = \\frac{b}{a} = 0.67 \\  \\quad & \\lambda& = 1 \\quad & q_{u k}& = \\frac{24 \\cdot \\left(1 + \\lambda\\right) \\cdot m_{u}}{b^{2} \\cdot \\left(\\sqrt{3 + \\beta^{2}} - \\beta\\right)^{2}} = 94.27 \\ \\frac{\\mathrm{kNm}}{\\mathrm{m}^{3}} \\end{aligned}\n",
       "$$"
      ],
      "text/plain": [
       "<IPython.core.display.Markdown object>"
      ]
     },
     "metadata": {},
     "output_type": "display_data"
    }
   ],
   "source": [
    "m_u = 5*20*un.kNm/un.m\n",
    "b = 6*un.m\n",
    "a = 9*un.m\n",
    "beta = b / a\n",
    "lamda = 1\n",
    "\n",
    "q_u_k = 24*(1+ lamda)*m_u / ( b**2 *(np.sqrt(3+beta**2)-beta)**2)\n",
    "\n",
    "put_out(symbolic=True)"
   ]
  },
  {
   "cell_type": "code",
   "execution_count": null,
   "metadata": {},
   "outputs": [],
   "source": []
  }
 ],
 "metadata": {
  "kernelspec": {
   "display_name": "calc",
   "language": "python",
   "name": "python3"
  },
  "language_info": {
   "codemirror_mode": {
    "name": "ipython",
    "version": 3
   },
   "file_extension": ".py",
   "mimetype": "text/x-python",
   "name": "python",
   "nbconvert_exporter": "python",
   "pygments_lexer": "ipython3",
   "version": "3.11.9"
  }
 },
 "nbformat": 4,
 "nbformat_minor": 2
}
