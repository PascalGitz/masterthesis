{
 "cells": [
  {
   "cell_type": "code",
   "execution_count": 1,
   "metadata": {},
   "outputs": [],
   "source": [
    "from packages import *"
   ]
  },
  {
   "cell_type": "markdown",
   "metadata": {},
   "source": [
    "# Anwendung an einer Quadratplatte\n",
    "\n",
    "Das Anwendungsbeispiel am torsionsweichen Trägerrost hast verdeutlicht, dass die Traglast eines Systems zuverlässig mit dem NLFE-Modell angenähert werden kann. Der Modellierungsaufwand ist äusserst gering, da die  Mikromodellbildung nicht aufwändig ist. Speziell ist im Vergleich zum torsionsweichen Trägerrost die Drillung der Platte in das Trägerrostmodell zu integrieren. \n",
    "\n",
    "In diesem Kapitel wird nun mittels einem Trägerrost die Traglast einer Platte approximiert. Wichtig dabei ist die Tatsache, dass die Traglast zweier unterschiedlichen Systemen verglichen wird. Sowie zeigt die numerische Lösung des NLFE-Modells ausschliesslich einen unteren Grenzwert der Traglast. Grundsätzlich ist es somit möglich, dass der untere Grenzwert der Traglast für den Trägerrost höher als der obere Grenzwert der Traglast des Plattentragwerks ist. Dies ist jedoch nur in Speziallfällen der Fall. Sowie liegt die Traglast des Trägerrosts nahe beim unteren Grenzwert der Traglast für das Plattentragwerk.\n",
    "\n",
    "## Aufgabenbeschrieb\n",
    "\n",
    "In diesem Beispiel wird die Traglast einer Quadratplatte berechnet. Das Beispiel ist so gewählt, dass der untere Grenzwert und der obere Grenzwert der Traglastberechnung zusammenfallen. Somit die eindeutige Traglast bestimmt werden kann. Dies gilt für eine einfach gelagerte Quadratplatte. Das Ziel ist es die Traglast der Platte, in der @fig-quad_aufgabenstellung, analytisch und numerisch zu bestimmen.\n",
    "\n",
    "![Quadratplatte mit gleichmässiger Flächenlast. Dazu sind Masslinien und Auflager gezeigt](../imgs/quad_aufgabenstellung.svg){#fig-quad_aufgabenstellung}\n",
    "\n",
    "\n"
   ]
  },
  {
   "cell_type": "markdown",
   "metadata": {},
   "source": [
    "Dabei wird die Seitenlänge mit $a$ beschrieben und der Biegewiderstand beträgt dabei:"
   ]
  },
  {
   "cell_type": "code",
   "execution_count": 2,
   "metadata": {},
   "outputs": [
    {
     "data": {
      "text/markdown": [
       "$$\n",
       "\\begin{aligned}\n",
       "a& = 10 \\ \\mathrm{m} \\quad & m_{u}& = 100.0 \\ \\frac{\\mathrm{kNm}}{\\mathrm{m}} \\quad &  \n",
       " \\end{aligned}\n",
       "$$"
      ],
      "text/plain": [
       "<IPython.core.display.Markdown object>"
      ]
     },
     "metadata": {},
     "output_type": "display_data"
    }
   ],
   "source": [
    "a = 10*un.m\n",
    "m_u = 100*un.kNm/un.m\n",
    "\n",
    "put_out()"
   ]
  },
  {
   "cell_type": "markdown",
   "metadata": {},
   "source": [
    "\n",
    "## Analytische Lösung\n",
    "\n",
    "In @marti_baustatik_2014 im Kapitel 25.5.3 wird die Bestimmung der Traglast einer einfach gelagerten Rechteckplatte aufgezeigt. Die Lösung basiert dabei auf der Fliessgelenklinienmethode. Ein Fliessgelenk ist bei dieser Methode durch die Fliessfigur in der @fig-quad_fliessfigur_norm definiert. Die Abbildung beschreibt dabei eine Fliessfigur mit unterschiedlichen positiven und negativen Widerständen.\n",
    "\n",
    "![Fliessfigur der Fliessgelenklinienmethode im $m_x , m_y, m_{xy}$-Raum](../imgs/quad_fliessfigur_norm.svg){#fig-quad_fliessfigur_norm}\n",
    "\n",
    "Der maximale Drillmomentenwiderstand beträgt dabei\n",
    "\n",
    "$$\n",
    "m_{xy,max} = \\frac{1}{2} \\sqrt{(m_x + m'_x) (m_y + m'_y)}\n",
    "$$\n",
    "\n",
    "\n",
    "\n",
    "Die Fliessgelenklinienmethode auf eine Rechteckplatte angewendet zeigt die @fig-quad_rechteck_allg.\n",
    "\n",
    "![Systemskizze zur analytischen Lösung der Traglast einer Rechteckplatte, neugezeichnet nach @marti_baustatik_2014](../imgs/quad_rechteck_allg.svg){#fig-quad_rechteck_allg}\n",
    "\n",
    "Daraus folgt die Beziehung für den oberen und unteren Grenzwert:\n",
    "\n",
    "$$\n",
    "8(1+ \\beta + \\beta^2) \\leq \\frac{q_u b^2}{m_u} \\leq \\frac{24}{(\\sqrt{3+\\beta^2} - \\beta)^2}\n",
    "$$\n",
    "\n",
    "dabei entspricht $\\beta$ dem Verhältnis der Seitenlängen:\n",
    "\n",
    "$$\n",
    "\\beta = \\frac{b}{a}\n",
    "$$\n",
    "\n",
    "Wird die Beziehung auf eine Quadratplatte $a = b$ angewendet, so folgt $\\beta = 1$ und die Beziehung:\n",
    "\n",
    "$$\n",
    "\\frac{24 m_u}{a^2} \\leq q_u \\leq \\frac{24 m_u}{a^2} \n",
    "$$\n",
    "\n",
    "Gezeigt sind die Fliessgelenklinien in der @fig-quad_quadrat_fliessgelenklinien. \n",
    "\n",
    "![Systemskizze zur analytischen Lösung der Traglast der Quadratplatte](../imgs/quad_quadrat_fliessgelenklinien.svg){#fig-quad_quadrat_fliessgelenklinien}\n",
    "\n",
    "Da der untere und der obere Grenzwert zusammenfallen ist die Traglast für die Quadratplatte eindeutig bestimmt.\n"
   ]
  },
  {
   "cell_type": "code",
   "execution_count": 3,
   "metadata": {},
   "outputs": [
    {
     "data": {
      "text/markdown": [
       "$$\n",
       "\\begin{aligned}\n",
       "q_{u}& = \\frac{24 \\cdot m_{u}}{a^{2}} = 24.0 \\ \\frac{\\mathrm{kN}}{\\mathrm{m}^{2}} \\end{aligned}\n",
       "$$"
      ],
      "text/plain": [
       "<IPython.core.display.Markdown object>"
      ]
     },
     "metadata": {},
     "output_type": "display_data"
    }
   ],
   "source": [
    "\n",
    "q_u = (24 * m_u / a**2).to(un.kN/un.m**2)\n",
    "\n",
    "\n",
    "put_out(symbolic=True, rows = 1)"
   ]
  },
  {
   "cell_type": "markdown",
   "metadata": {},
   "source": [
    "## Modellbildung\n",
    "\n"
   ]
  },
  {
   "cell_type": "markdown",
   "metadata": {},
   "source": [
    "### Makromodellbildung"
   ]
  },
  {
   "cell_type": "markdown",
   "metadata": {},
   "source": [
    "![Trägerrostmodell mit eingezeichneten Doppelgelenken und exemplarisch eingezeichneten Knotenlasten](../imgs/quad_makro.svg){#fig-quad_makro}\n",
    "\n",
    "Dabei wird ein Trägerrost modelliert mit einer Elementlänge von:"
   ]
  },
  {
   "cell_type": "code",
   "execution_count": 4,
   "metadata": {},
   "outputs": [
    {
     "data": {
      "text/markdown": [
       "$$\n",
       "\\begin{aligned}\n",
       "l_{El}& = 1.0 \\ \\mathrm{m} \\end{aligned}\n",
       "$$"
      ],
      "text/plain": [
       "<IPython.core.display.Markdown object>"
      ]
     },
     "metadata": {},
     "output_type": "display_data"
    }
   ],
   "source": [
    "l_El = 1.0*un.m\n",
    "\n",
    "\n",
    "\n",
    "put_out(symbolic=True, rows = 1)"
   ]
  },
  {
   "cell_type": "markdown",
   "metadata": {},
   "source": [
    "Wie bei sämtlichen Anwendungsbeispielen wird die Modellierungsstrategie der Doppelgelenke angewendet. Zudem gilt es die Flächenlast zu einer Knotenlast zu integrieren. Dazu wird pro Knoten die Einzugsfläche bestimmt und die Last dementsprechend verteilt. Die Einzugsfläche entspricht dabei dem Quadrat mit der Seitenlänge der Elementlänge. Für die Randknoten gilt es die Hälfte anzusetzen."
   ]
  },
  {
   "cell_type": "markdown",
   "metadata": {},
   "source": [
    "### Mikromodellbildung"
   ]
  },
  {
   "cell_type": "markdown",
   "metadata": {},
   "source": [
    "#### Biegeverhalten"
   ]
  },
  {
   "cell_type": "markdown",
   "metadata": {},
   "source": [
    "Dessen Gelenke eine annähernd ideal plastische Momenten-Verdrehungs-Beziehung aufweisen mit dem Biegemoment von $m_u$. Dabei wird der Beziehung gemäss der @eq-dreidim_gelenkfunktionen eine Funktion zur Biegung um die $Y$ Achse und um die $X$ Achse definiert."
   ]
  },
  {
   "cell_type": "code",
   "execution_count": 5,
   "metadata": {},
   "outputs": [
    {
     "data": {
      "text/markdown": [
       "$$\n",
       "\\begin{aligned}\n",
       "M_{u}& = m_{u} \\cdot l_{El} = 100.0 \\ \\mathrm{kNm} \\end{aligned}\n",
       "$$"
      ],
      "text/plain": [
       "<IPython.core.display.Markdown object>"
      ]
     },
     "metadata": {},
     "output_type": "display_data"
    }
   ],
   "source": [
    "M_u = m_u * l_El\n",
    "\n",
    "put_out(symbolic=True, rows= 1)"
   ]
  },
  {
   "cell_type": "markdown",
   "metadata": {},
   "source": [
    "#### Torsionsverhalten"
   ]
  },
  {
   "cell_type": "code",
   "execution_count": 6,
   "metadata": {},
   "outputs": [
    {
     "data": {
      "text/markdown": [
       "$$\n",
       "\\begin{aligned}\n",
       "M_{u xy}& = M_{u} = 100.0 \\ \\mathrm{kNm} \\end{aligned}\n",
       "$$"
      ],
      "text/plain": [
       "<IPython.core.display.Markdown object>"
      ]
     },
     "metadata": {},
     "output_type": "display_data"
    }
   ],
   "source": [
    "M_u_xy = M_u\n",
    "\n",
    "put_out(symbolic=True, rows= 1)"
   ]
  },
  {
   "cell_type": "markdown",
   "metadata": {},
   "source": [
    "#### Fliessfigur"
   ]
  },
  {
   "cell_type": "markdown",
   "metadata": {},
   "source": [
    "![Fliessfigur des Trägerrosts im $m_x , m_y, m_{xy}$-Raum](../imgs/quad_fliessfigur_axis.svg){#fig-quad_fliessfigur_axis}\n"
   ]
  },
  {
   "cell_type": "markdown",
   "metadata": {},
   "source": [
    "### Abbruchkriterium\n",
    "\n",
    "Die Berechnung wird abgebrochen, sobal keine Konvergenz mehr eintritt. Sprich bis sich eine Verformungsvergrösserung ohne Laststeigerung einstellt.\n",
    "\n",
    "![Last-Verformungs-Verhalten des Systems bei der Ermittlung der Traglast, schematisch dargestellt](../imgs/quad_abbruch.svg){#fig-quad_abbruch}\n",
    "\n",
    "Dabei soll sich ein asymptotischer Verlauf einstellt, wie in der @fig-quad_abbruch dargestellt."
   ]
  }
 ],
 "metadata": {
  "kernelspec": {
   "display_name": "calc",
   "language": "python",
   "name": "python3"
  },
  "language_info": {
   "codemirror_mode": {
    "name": "ipython",
    "version": 3
   },
   "file_extension": ".py",
   "mimetype": "text/x-python",
   "name": "python",
   "nbconvert_exporter": "python",
   "pygments_lexer": "ipython3",
   "version": "3.11.9"
  }
 },
 "nbformat": 4,
 "nbformat_minor": 2
}
