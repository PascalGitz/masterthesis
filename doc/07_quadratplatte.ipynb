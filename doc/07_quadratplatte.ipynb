{
 "cells": [
  {
   "cell_type": "code",
   "execution_count": 1,
   "metadata": {},
   "outputs": [],
   "source": [
    "from packages import *"
   ]
  },
  {
   "cell_type": "markdown",
   "metadata": {},
   "source": [
    "# Anwendung Quadratplatte\n",
    "\n",
    "Die vorgängige Anwendung des torsionsweichen Trägerrostes hat gezeigt, dass sich der untere Grenzwert Traglast zuverlässig mithilfe des NLFE-Modells (nichtlineares Finite-Elemente-Modell) bestimmen lässt. Der Modellierungsaufwand bleibt dabei gering, da das verwendete Mikromodell lediglich ein ideal-plastisches Biegeverhalten abbildet.\n",
    "\n",
    "In diesem Kapitel mit Trägerrost Traglast einer Platte. Schritt von Trägerrost zu Plattentragwerk bedeutet Berücksichtigung Drillmomente. Die Randbedingungen der Platte sind so gewählt, dass der obere und der untere Grenzwert zusammenfallen.\n",
    "\n",
    "## Aufgabenbeschrieb\n",
    "\n",
    "Die @fig-quad_aufgabenstellung zeigt eine Quadratplatte mit einer konstanten Flächenlast belastet. Die Platte ist an allen Rändern gelenkig gelagert.\n",
    "\n",
    "![Quadratplatte mit gleichmässiger Flächenlast. Dazu sind Masslinien und Auflager gezeigt](../imgs/quad_aufgabenstellung.svg){#fig-quad_aufgabenstellung}\n",
    "\n",
    "Das Ziel ist es die Traglast des Systems analytisch zu bestimmen. Abschliessend ist dies mit der Lösung des NLFE-Modells zu vergleichen. Der Biegewiderstand der Platte entspricht:\n"
   ]
  },
  {
   "cell_type": "code",
   "execution_count": 2,
   "metadata": {},
   "outputs": [
    {
     "data": {
      "text/markdown": [
       "$$\n",
       "\\begin{aligned}\n",
       "m_{u}& = 100.0 \\ \\frac{\\mathrm{kNm}}{\\mathrm{m}} \\quad &  \\quad &  \n",
       " \\end{aligned}\n",
       "$$"
      ],
      "text/plain": [
       "<IPython.core.display.Markdown object>"
      ]
     },
     "metadata": {},
     "output_type": "display_data"
    }
   ],
   "source": [
    "m_u = 100*un.kNm/un.m\n",
    "\n",
    "put_out()"
   ]
  },
  {
   "cell_type": "markdown",
   "metadata": {},
   "source": [
    "## Analytische Lösung\n",
    "\n",
    "Der obere Grenzwert der analytischen Lösung basiert auf der Fliessgelenklinienmethode. Die Fliessgelenke sind über die Fliessfigur in @fig-quad_fliessfigur_norm bestimmt. Die Fliessfigur zeigt eine Interaktion zwischen Biege- und Drillmomenten. Der maximale Drillmomentenwiderstand beschreibt die @eq-drill_fliessgelenk.\n",
    "\n",
    "$$\n",
    "m_{xy,max} = \\frac{1}{2} \\sqrt{(m_x + m'_x) (m_y + m'_y)}\n",
    "$${#eq-drill_fliessgelenk}\n",
    "\n",
    "Anhand eines gewählten Mechanismus kann über das Gleichsetzen der inneren und äusseren Arbeit der obere Grenzwert der Traglast bestimmt werden.In @marti_baustatik_2014 ist die Methode detailliert beschrieben. \n",
    "\n",
    "![Fliessfigur der Fliessgelenklinienmethode im $m_x , m_y, m_{xy}$-Raum](../imgs/quad_fliessfigur_norm.svg){#fig-quad_fliessfigur_norm}\n",
    "\n",
    "Das Kapitel 25.5.3 aus @marti_baustatik_2014 zeigt die Bestimmung der Traglast einer einfach gelagerten Rechteckplatte. Der Mechanismus, sprich die Anordnung der Fliessgelenklinien in der Platte, zeigt die @fig-quad_rechteck_allg.\n",
    "\n",
    "![Fliessgelenklinien eine einfach gelagerten Rechteckplatte, neugezeichnet nach @marti_baustatik_2014](../imgs/quad_rechteck_allg.svg){#fig-quad_rechteck_allg}\n",
    "\n",
    "Mittels den Momentenansätzen, beschrieben in @marti_baustatik_2014, lassen sich die Gleichgewichtsbedingungen und die statischen Randbedingungen erfüllen, einen unteren Grenzwert der Traglast ermitteln. \n",
    "\n",
    "Die Anwendung beider Methoden auf die Rechteckplatte liefert die folgende Eingrenzung der Traglast:\n",
    "\n",
    "$$\n",
    "8(1+ \\beta + \\beta^2) \\leq \\frac{q_u b^2}{m_u} \\leq \\frac{24}{(\\sqrt{3+\\beta^2} - \\beta)^2}\n",
    "$$\n",
    "\n",
    "dabei entspricht $\\beta$ dem Verhältnis der Seitenlängen:\n",
    "\n",
    "$$\n",
    "\\beta = \\frac{b}{a}\n",
    "$$\n",
    "\n",
    "Für die Quadratplatte ist $a = b$ anzusetzen. Dies führt zu dem Mechanismus gemäss der @fig-quad_quadrat_fliessgelenklinien.\n",
    "\n",
    "![Fliessgelenklinien der einfach gelagerten Quadratplatte](../imgs/quad_quadrat_fliessgelenklinien.svg){#fig-quad_quadrat_fliessgelenklinien}\n",
    "\n",
    "Die folgende Beziehung beschreibt die Eingrenzung der Traglast der einfach gelagerten Quadratplatte.\n",
    "\n",
    "$$\n",
    "\\frac{24 m_u}{a^2} \\leq q_u \\leq \\frac{24 m_u}{a^2} \n",
    "$$\n",
    "\n",
    "Es ist ersichtlich, dass die Grenzen zusammenfallen. Die Traglast ist somit eindeutig bestimmt. Mit den gewählten Abmessungen und dem Biegewiderstand folgt die Traglast zu:"
   ]
  },
  {
   "cell_type": "code",
   "execution_count": 3,
   "metadata": {},
   "outputs": [
    {
     "data": {
      "text/markdown": [
       "$$\n",
       "\\begin{aligned}\n",
       "a& = 10 \\ \\mathrm{m} \\quad & q_{u}& = \\frac{24 \\cdot m_{u}}{a^{2}} = 24.0 \\ \\frac{\\mathrm{kN}}{\\mathrm{m}^{2}} \\end{aligned}\n",
       "$$"
      ],
      "text/plain": [
       "<IPython.core.display.Markdown object>"
      ]
     },
     "metadata": {},
     "output_type": "display_data"
    }
   ],
   "source": [
    "a = 10*un.m\n",
    "\n",
    "q_u = (24 * m_u / a**2).to(un.kN/un.m**2)\n",
    "\n",
    "\n",
    "put_out(symbolic=True, rows = 2)"
   ]
  },
  {
   "cell_type": "markdown",
   "metadata": {},
   "source": [
    "## NLFE-Modell\n",
    "\n",
    "Nach der Bestimmung der analytischen Traglast zeigt der folgende Abschnitt die Modellbildung des nicht-linearen FE-Modells. Es ist zwischen Makro- und Mikromdellbildung unterschieden."
   ]
  },
  {
   "cell_type": "markdown",
   "metadata": {},
   "source": [
    "### Makromodellbildung\n",
    "\n",
    "Das System, sprich das Makromodell ist in der @fig-quad_makro gezeigt. Gezeigt sind der Trägerrost, Stabanfang- und Endgelenke, Auflager und Knotenlasten. Die Gelenke sind gemäss der Modellierungsstrategie angeordnet. Die Elementlänge entspricht:"
   ]
  },
  {
   "cell_type": "code",
   "execution_count": 4,
   "metadata": {},
   "outputs": [
    {
     "data": {
      "text/markdown": [
       "$$\n",
       "\\begin{aligned}\n",
       "l_{El}& = 1.0 \\ \\mathrm{m} \\end{aligned}\n",
       "$$"
      ],
      "text/plain": [
       "<IPython.core.display.Markdown object>"
      ]
     },
     "metadata": {},
     "output_type": "display_data"
    }
   ],
   "source": [
    "l_El = 1.0*un.m\n",
    "\n",
    "\n",
    "\n",
    "put_out(symbolic=True, rows = 1)"
   ]
  },
  {
   "cell_type": "markdown",
   "metadata": {},
   "source": [
    " Knotenlasten durch die Flächenlast in Abhängigkeit der Einzugsfläche bestimmt. Bei den Randknoten ist die Hälfte anzusetzen. "
   ]
  },
  {
   "cell_type": "code",
   "execution_count": 5,
   "metadata": {},
   "outputs": [
    {
     "data": {
      "text/markdown": [
       "$$\n",
       "\\begin{aligned}\n",
       "Q& = 50 \\ \\mathrm{kN} \\quad &  \\quad &  \n",
       " \\end{aligned}\n",
       "$$"
      ],
      "text/plain": [
       "<IPython.core.display.Markdown object>"
      ]
     },
     "metadata": {},
     "output_type": "display_data"
    }
   ],
   "source": [
    "Q = 50*un.kN\n",
    "\n",
    "put_out()"
   ]
  },
  {
   "cell_type": "markdown",
   "metadata": {},
   "source": [
    "Die Knotenlast ist grosszügig grösser als die Traglast gewählt. Aufgrund des gewählten Abbruchkriteriums stellt sich ein Lastfaktor ein. Mit diesem Lastfaktor lässt sich die Traglast bestimmen. Wichtig ist lediglich die Lastaufteilung."
   ]
  },
  {
   "cell_type": "markdown",
   "metadata": {},
   "source": [
    "![Trägerrostmodell](../imgs/quad_system.svg){#fig-quad_system}\n",
    "\n",
    "![Detailausschnitt eines Ecks, Knotenlasten und Knotenlager sind dargestellt](../imgs/quad_lasten.svg){#fig-quad_lasten}\n",
    "\n"
   ]
  },
  {
   "cell_type": "markdown",
   "metadata": {},
   "source": [
    "### Mikromodellbildung\n",
    "\n",
    "Die Mikromodellbildung unterscheidet zwischen dem Biegeverhalten und dem Torsionsverhalten."
   ]
  },
  {
   "cell_type": "markdown",
   "metadata": {},
   "source": [
    "#### Biegeverhalten\n",
    "\n",
    "Das Biegeverhalten ist mit einer Momenten-Verdrehungs-Beziehung definiert. Der Biegewiderstand des Stabs beträgt:"
   ]
  },
  {
   "cell_type": "code",
   "execution_count": 6,
   "metadata": {},
   "outputs": [
    {
     "data": {
      "text/markdown": [
       "$$\n",
       "\\begin{aligned}\n",
       "M_{u}& = m_{u} \\cdot l_{El} = 100.0 \\ \\mathrm{kNm} \\end{aligned}\n",
       "$$"
      ],
      "text/plain": [
       "<IPython.core.display.Markdown object>"
      ]
     },
     "metadata": {},
     "output_type": "display_data"
    }
   ],
   "source": [
    "M_u = m_u * l_El\n",
    "\n",
    "put_out(symbolic=True, rows= 1)"
   ]
  },
  {
   "cell_type": "markdown",
   "metadata": {},
   "source": [
    "Die Momenten-Verdrehungs-Beziehung zeigt die @fig-quad_gelenkdef_biegung. Das ideal-plastische Verhalten beschreibt ein ideal weiches Verhalten beim Erreichen des Biegewiderstands.\n",
    "\n",
    "![ideal-plastisches Momenten-Verdrehungs-Verhalten](../imgs/trm_gelenkdef.svg){#fig-quad_gelenkdef_biegung}\n",
    "\n",
    "Das Verhalten ist gemäss der @eq-dreidim_gelenkfunktionen der Biegung um die lokale Y-Achse des Stabs zuzuordnen. Zudem lässt sich das Verhalten lediglich numerisch annähern. Es verbleibt eine elastische und eine plastische Steifigkeit. Die letztere ist minimal zu wählen."
   ]
  },
  {
   "cell_type": "markdown",
   "metadata": {},
   "source": [
    "#### Torsionsverhalten\n",
    "\n",
    "Das Torsionsverhalten des Stabs beschreibt das Drillverhalten des Plattenelements. Eine anzustrebende Interaktion zwischen Biegung und Drillung lässt sich nicht modellieren. Vereinfacht ist das Torsionsverhalten gleich dem Biegeverhalten modelliert. \n",
    "\n",
    "Gemäss der @eq-dreidim_gelenkfunktionen ist in lokaler X-Richtung ein Momenten-Verdrehungs-Verhalten gemäss der @fig-quad_gelenkdef_biegung hinterlegt. Der Torsionswiderstand beträgt dabei:"
   ]
  },
  {
   "cell_type": "code",
   "execution_count": 7,
   "metadata": {},
   "outputs": [
    {
     "data": {
      "text/markdown": [
       "$$\n",
       "\\begin{aligned}\n",
       "M_{u xy}& = M_{u} = 100.0 \\ \\mathrm{kNm} \\end{aligned}\n",
       "$$"
      ],
      "text/plain": [
       "<IPython.core.display.Markdown object>"
      ]
     },
     "metadata": {},
     "output_type": "display_data"
    }
   ],
   "source": [
    "M_u_xy = M_u\n",
    "\n",
    "put_out(symbolic=True, rows= 1)"
   ]
  },
  {
   "cell_type": "markdown",
   "metadata": {},
   "source": [
    "Das modellierte Verhalten lässt sich an der Fliessfigur illustrieren. Die @fig-quad_fliessfigur_axis zeigt die Fliessfigur des Trägerrosts. Die Darstellung ist schematisch für sich unterscheidende positive und negative Biegewiderstände. Grau hinterlegt ist die Fliessfigur der Fliessgelenklinienmethode."
   ]
  },
  {
   "cell_type": "markdown",
   "metadata": {},
   "source": [
    "![Fliessfigur des Trägerrosts im $m_x , m_y, m_{xy}$-Raum](../imgs/quad_fliessfigur_axis.svg){#fig-quad_fliessfigur_axis}\n"
   ]
  },
  {
   "cell_type": "markdown",
   "metadata": {},
   "source": [
    "Die Darstellung verdeutlicht, dass bei hohen Biegemomenten und zugleich grosser Torsionsbeanspruchung das Tragverhalten überschätzt überschätzt wird im Vergleich mit der Fliessgelenklinienmethode."
   ]
  },
  {
   "cell_type": "markdown",
   "metadata": {},
   "source": [
    "#### Abbruchkriterium\n",
    "\n",
    "Abschliessend ist das Abbruchkriterium zu definieren. Die Berechnung ist abzubrechen, sobald keine Konvergenz mehr eintritt. Ab einer gewissen Anzahl an Fliessgelenken lässt sich die Last nicht mehr steigern. Es stellt sich ein asymptotischer Verlauf im Last-Verformungs-Diagramm ein. Dargestellt ist ein schematisches Verhalten in der @fig-quad_abbruch.\n",
    "\n",
    "![Last-Verformungs-Verhalten des Systems bei der Ermittlung der Traglast, schematisch dargestellt](../imgs/quad_abbruch.svg){#fig-quad_abbruch}\n"
   ]
  },
  {
   "cell_type": "markdown",
   "metadata": {},
   "source": [
    "### Resultate\n",
    "\n",
    "Das Last-Verformungs-Verhalten in der @fig-quad_Q_w zeigt das Systemverhalten. Es zeigt einen asymptotischen Verlauf beim Erreichen der Traglast. Die Verformung ist nicht aussagekräftig. Diese ist abhängig von der gewählten elastischen Steifigkeit."
   ]
  },
  {
   "cell_type": "code",
   "execution_count": 8,
   "metadata": {},
   "outputs": [],
   "source": [
    "DF_quad = pd.read_excel('calc/axis_res.xlsx', sheet_name='quad_last_verform')\n",
    "\n",
    "DF_quad['Lpa'] = DF_quad['Lpa']*50\n",
    "DF_quad['eZ_1 [mm]'] = DF_quad['eZ_1 [mm]']*-1\n"
   ]
  },
  {
   "cell_type": "code",
   "execution_count": 9,
   "metadata": {},
   "outputs": [
    {
     "name": "stderr",
     "output_type": "stream",
     "text": [
      "C:\\Users\\Pascal Gitz\\AppData\\Local\\Temp\\ipykernel_16120\\431606027.py:10: UserWarning: No artists with labels found to put in legend.  Note that artists whose label start with an underscore are ignored when legend() is called with no argument.\n",
      "  plt.legend()\n"
     ]
    }
   ],
   "source": [
    "\n",
    "fig_Q_w, ax_Q_w = plt.subplots(figsize=(14/2.54,5.4/2.54))\n",
    "\n",
    "\n",
    "ax_Q_w.plot(DF_quad['eZ_1 [mm]'], DF_quad['Lpa'], color='black')\n",
    "\n",
    "# Add labels and show the plot\n",
    "ax_Q_w.set_ylabel(\"$Q$ [kN]\")\n",
    "ax_Q_w.set_xlabel(\"$w$ [mm]\")\n",
    "\n",
    "plt.legend()\n",
    "# Save the plot to the specified file\n",
    "fig_Q_w.savefig(\"imgs/quad_Q_w.svg\")\n",
    "plt.close()"
   ]
  },
  {
   "cell_type": "markdown",
   "metadata": {},
   "source": [
    "\n",
    "\n",
    "![Last-Verformungs-Verhalten des Systems. Asymptotischer Verlauf bei 25 kN](../imgs/quad_Q_w.svg){#fig-quad_Q_w}"
   ]
  },
  {
   "cell_type": "markdown",
   "metadata": {},
   "source": [
    "Der Konvergenzabbruch stellt sich bei folgendem Lastparameter ein:"
   ]
  },
  {
   "cell_type": "code",
   "execution_count": 10,
   "metadata": {},
   "outputs": [
    {
     "data": {
      "text/markdown": [
       "$$\n",
       "\\begin{aligned}\n",
       "Lpa& = 0.505 \\quad &  \\quad &  \n",
       " \\end{aligned}\n",
       "$$"
      ],
      "text/plain": [
       "<IPython.core.display.Markdown object>"
      ]
     },
     "metadata": {},
     "output_type": "display_data"
    }
   ],
   "source": [
    "Lpa = 0.505\n",
    "\n",
    "put_out(precision=3)"
   ]
  },
  {
   "cell_type": "markdown",
   "metadata": {},
   "source": [
    "Bezogen auf die Knotenlast folgt:"
   ]
  },
  {
   "cell_type": "code",
   "execution_count": 11,
   "metadata": {},
   "outputs": [
    {
     "data": {
      "text/markdown": [
       "$$\n",
       "\\begin{aligned}\n",
       "Q_{u}& = Lpa \\cdot Q = 25.25 \\ \\mathrm{kN} \\quad &  \\quad &  \n",
       " \\end{aligned}\n",
       "$$"
      ],
      "text/plain": [
       "<IPython.core.display.Markdown object>"
      ]
     },
     "metadata": {},
     "output_type": "display_data"
    }
   ],
   "source": [
    "Q_u = Lpa * Q \n",
    "\n",
    "put_out(symbolic=True)"
   ]
  },
  {
   "cell_type": "markdown",
   "metadata": {},
   "source": [
    "Und abschliessend verteilt auf die Lasteinzugsfläche folgt:"
   ]
  },
  {
   "cell_type": "code",
   "execution_count": 12,
   "metadata": {},
   "outputs": [
    {
     "data": {
      "text/markdown": [
       "$$\n",
       "\\begin{aligned}\n",
       "A_{Einzug}& = l_{El}^{2} = 1.0 \\ \\mathrm{m}^{2} \\quad & q_{u NLFE}& = \\frac{Q_{u}}{A_{Einzug}} = 25.25 \\ \\frac{\\mathrm{kN}}{\\mathrm{m}^{2}} \\quad &  \n",
       " \\end{aligned}\n",
       "$$"
      ],
      "text/plain": [
       "<IPython.core.display.Markdown object>"
      ]
     },
     "metadata": {},
     "output_type": "display_data"
    }
   ],
   "source": [
    "A_Einzug = l_El **2\n",
    "q_u_NLFE = Q_u / A_Einzug\n",
    "\n",
    "put_out(symbolic=True)"
   ]
  },
  {
   "cell_type": "markdown",
   "metadata": {},
   "source": [
    "Die Zustandslinien der Biegemomente direkt aus AxisVM-X7 ist in der gezeigt. Die Darstellung zeigt die sich bildenden plastischen Gelenke in rot.\n"
   ]
  },
  {
   "cell_type": "markdown",
   "metadata": {},
   "source": [
    "Vergleicht man die analytische Lösung der Traglast mit dem numerischen unteren Grenzwert, so zeigt sich eine Abweichung von 5%."
   ]
  },
  {
   "cell_type": "code",
   "execution_count": 13,
   "metadata": {},
   "outputs": [
    {
     "data": {
      "text/markdown": [
       "$$\n",
       "\\begin{aligned}\n",
       "\\eta_{q u}& = \\frac{q_{u NLFE}}{q_{u}} = 105.21 \\ \\mathrm{\\%} \\quad &  \\quad &  \n",
       " \\end{aligned}\n",
       "$$"
      ],
      "text/plain": [
       "<IPython.core.display.Markdown object>"
      ]
     },
     "metadata": {},
     "output_type": "display_data"
    }
   ],
   "source": [
    "eta_q_u = (q_u_NLFE / q_u).to(un.percent)\n",
    "\n",
    "put_out(symbolic=True)"
   ]
  },
  {
   "cell_type": "markdown",
   "metadata": {},
   "source": [
    "Dabei ist hervorzuheben, dass die numerische Lösung eine grössere Traglast als der obere Grenzwert der analytischen Lösung liefert. Dies ist auf zwei Beweggründe zurückzuführen. Zunächst handelt es sich um eine Näherung. Die Elementlänge ist relativ gross gewählt. Des Weiteren sind die Systeme unterschiedlich. Der untere Grenzwert des Trägerrosts wäre mit dem oberen Grenzwert des Trägerrost zu vergleichen, nicht mit dessen des Plattentragwerks. Somit verletzt die Lösung keineswegs die Grundsätze der Grenzwerte des Traglastverfahrens."
   ]
  },
  {
   "cell_type": "markdown",
   "metadata": {},
   "source": [
    "![Verlauf der Biegemomente bei der Laststufe xx](../imgs/quad_1.svg){#fig-quad_1}\n",
    "\n",
    "![Verlauf der Torsionsmomente bei der Laststufe xx](../imgs/quad_4.svg){#fig-quad_4}\n",
    "\n",
    "![Verlauf der Biegemomente bei der Laststufe xx](../imgs/quad_2.svg){#fig-quad_2}\n",
    "\n",
    "![Verlauf der Torsionsmomente bei der Laststufe xx](../imgs/quad_5.svg){#fig-quad_5}\n",
    "\n",
    "![Verlauf der Biegemomente bei der Laststufe xx](../imgs/quad_3.svg){#fig-quad_3}\n",
    "\n",
    "![Verlauf der Torsionsmomente bei der Laststufe xx](../imgs/quad_6.svg){#fig-quad_6}"
   ]
  },
  {
   "cell_type": "markdown",
   "metadata": {},
   "source": [
    "## Fazit"
   ]
  }
 ],
 "metadata": {
  "kernelspec": {
   "display_name": "calc",
   "language": "python",
   "name": "python3"
  },
  "language_info": {
   "codemirror_mode": {
    "name": "ipython",
    "version": 3
   },
   "file_extension": ".py",
   "mimetype": "text/x-python",
   "name": "python",
   "nbconvert_exporter": "python",
   "pygments_lexer": "ipython3",
   "version": "3.11.9"
  }
 },
 "nbformat": 4,
 "nbformat_minor": 2
}
