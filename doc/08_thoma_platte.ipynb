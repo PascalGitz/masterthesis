{
 "cells": [
  {
   "cell_type": "code",
   "execution_count": 1,
   "metadata": {},
   "outputs": [],
   "source": [
    "from packages import *"
   ]
  },
  {
   "cell_type": "markdown",
   "metadata": {},
   "source": [
    "# Versuchsnachrechnung Zweifeldplatte\n",
    "\n",
    "Der Abschluss der Modellanwendung bildet die Versuchsnachrechnung der Zweifeldplatte. Das Kapitel ist gegliedert in den Versuchsbeschrieb, die Modellbildung des NLFE-Modells und die Resultate, welche mit den Messgrössen des Experiments verglichen werden."
   ]
  },
  {
   "cell_type": "markdown",
   "metadata": {},
   "source": [
    "## Versuchsbeschrieb\n",
    "\n",
    "Die Zweifeldplatte entstammt aus dem Versuchsbericht @thoma_plattenversuche_2010. Es handelt sich um ein grossmassstäbliches Plattenexperiment. Dazu ist eine Stahlbetonplatte auf Gleitlagern aufgelegt. Die Gleitlager stehen auf steifen Ringbalken. Diese wiederum sind auf Mauerwerkswänden gelagert. Belastet ist die Platte mit Zugstangen in den beiden Feldern. Verankert sind die Zugstangen im Aufspannboden an Hydraulikzylindern. Die Hydraulikzylinder weisen bei jeder Laststufe die gleiche Kraftintensität auf. Eine Darstellung des Versuchsaufbaus zeigt die @fig-tho_aufbau_iso. \n",
    "\n",
    "![Isometrische Ansicht des Versuchsaufbaus, dargestellt sind die Platte, die Lagerung, die Krafteinleitung mittels den Zugstangen, ein Ringbalken unterhalb der Lagerung und Mauerwerkswände als Auflager der Ringbalken](../imgs/tho_aufbau_iso.svg){#fig-tho_aufbau_iso}\n",
    "\n",
    "Der Grundriss und die Längsansicht zeigt die @fig-tho_aufbau_gr. Diese zeigt die Position der Gleitlager, die Position der Zugstangen und die Hauptabmessungen der Platte.\n",
    "\n",
    "![Grundriss und Längsansicht, Lasteinleitung, Lagerposition und die Plattenabmessungen sind vermasst](../imgs/tho_aufbau_gr.svg){#fig-tho_aufbau_gr}\n",
    "\n",
    "Zum Monitoring der Stahlbetonplatte sind Wegaufnehmer unterhalb dieser platziert. Die Anordnung ist in der @fig-tho_messung_gr gezeigt. Es wurde nach dem Einbringen des Körpers eine Nullmessung durchgeführt. Die gemessenen Verformungen entsprechen somit ausschliesslich der Deformation des Körpers durch die Belastung mit den Hydraulikzylindern.\n",
    "\n",
    "![Position der Wegaufnehmer, vermasst auf Lagerachsen](../imgs/tho_messung_gr.svg){#fig-tho_messung_gr}\n",
    "\n",
    "Der Versuch wurde bis zum Bruch gefahren. Der Bruch erfolgte durch das Zerreissen der oberen Längsbewehrung über dem Mittelauflager."
   ]
  },
  {
   "cell_type": "markdown",
   "metadata": {},
   "source": [
    "### Berechnungsgrössen"
   ]
  },
  {
   "cell_type": "markdown",
   "metadata": {},
   "source": [
    "Im Folgenden sind die Berechnungsgrössen zum Betonstahl, Beton und der Geometrie aufgelistet. Diese sind aus dem Versuchsbericht @thoma_plattenversuche_2010 entnommen."
   ]
  },
  {
   "cell_type": "markdown",
   "metadata": {},
   "source": [
    "#### Betonstahl  \n",
    "\n",
    "Die Platte ist kreuzweise mit einer Biegebewehrung aus Stäben mit einem Durchmesser von 10 mm und einer Teilung von 150 mm versehen. Dies gilt sowohl für die obere als auch die untere Bewehrung. Am Rand sind Abschlussbügel verlegt. Zusätzlich ist über dem Mittelauflager eine Querkraftbewehrung eingelegt, um ein Querkraftversagen zu verhindern. Die @fig-tho_biegebewehrung_iso zeigt ausschliesslich die Biegebewehrung.  \n",
    "\n",
    "![Biegebewehrung der Platte](../imgs/tho_biegebewehrung_iso.svg){#fig-tho_biegebewehrung_iso}  \n",
    "\n"
   ]
  },
  {
   "cell_type": "markdown",
   "metadata": {},
   "source": [
    "\n",
    "Aus diesen Angaben lassen sich die folgenden Parameter der Biegebewehrung ableiten:  \n"
   ]
  },
  {
   "cell_type": "code",
   "execution_count": 2,
   "metadata": {},
   "outputs": [
    {
     "data": {
      "text/markdown": [
       "$$\n",
       "\\begin{aligned}\n",
       "\\oslash_{s}& = 10 \\ \\mathrm{mm} \\quad & s& = 150 \\ \\mathrm{mm} \\quad & a_{s}& = \\frac{\\oslash_{s}^{2} \\cdot \\pi}{4 \\cdot s} = 523.6 \\ \\frac{\\mathrm{mm}^{2}}{\\mathrm{m}} \\end{aligned}\n",
       "$$"
      ],
      "text/plain": [
       "<IPython.core.display.Markdown object>"
      ]
     },
     "metadata": {},
     "output_type": "display_data"
    }
   ],
   "source": [
    "diam_s = 10*un.mm\n",
    "\n",
    "s = 150*un.mm\n",
    "a_s = (diam_s**2*np.pi /4 /s).to(un.mm**2/un.m)\n",
    "\n",
    "put_out(symbolic=True)"
   ]
  },
  {
   "cell_type": "markdown",
   "metadata": {},
   "source": [
    "\n",
    "\n",
    "Die Eigenschaften des Betonstahls sind experimentell durch Zugversuche bestimmt worden. Die Angaben zur Zugfestigkeit, Fliessgrenze, Elastizitätsmodul, Fliessdehnung und Bruchdehnung stammen aus dem Bericht.  \n",
    "\n"
   ]
  },
  {
   "cell_type": "code",
   "execution_count": 3,
   "metadata": {},
   "outputs": [
    {
     "data": {
      "text/markdown": [
       "$$\n",
       "\\begin{aligned}\n",
       "f_{su}& = 558.6 \\ \\frac{\\mathrm{N}}{\\mathrm{mm}^{2}} \\quad & f_{sy}& = 445.6 \\ \\frac{\\mathrm{N}}{\\mathrm{mm}^{2}} \\quad & E_{s}& = 196.5 \\ \\frac{\\mathrm{kN}}{\\mathrm{mm}^{2}} \\\\ \n",
       "\\varepsilon_{sy}& = \\frac{f_{sy}}{E_{s}} = 2.27 \\ \\mathrm{‰} \\quad & \\varepsilon_{su}& = 80.8 \\ \\mathrm{‰} \\quad &  \n",
       " \\end{aligned}\n",
       "$$"
      ],
      "text/plain": [
       "<IPython.core.display.Markdown object>"
      ]
     },
     "metadata": {},
     "output_type": "display_data"
    }
   ],
   "source": [
    "f_su = 558.6*un.N/un.mm**2\n",
    "f_sy = 445.6*un.N/un.mm**2\n",
    "\n",
    "E_s = 196.5*un.kN/un.mm**2\n",
    "\n",
    "eps_sy = (f_sy / E_s).to(un.permille)\n",
    "eps_su = 80.8*un.permille\n",
    "\n",
    "put_out(symbolic=True)"
   ]
  },
  {
   "cell_type": "markdown",
   "metadata": {},
   "source": [
    "\n",
    "#### Beton  \n",
    "\n",
    "Auch der verwendete Beton wurde experimentell untersucht. Der Bericht enthält Angaben zur Zylinderdruckfestigkeit und zum Elastizitätsmodul.  \n"
   ]
  },
  {
   "cell_type": "code",
   "execution_count": 4,
   "metadata": {},
   "outputs": [
    {
     "data": {
      "text/markdown": [
       "$$\n",
       "\\begin{aligned}\n",
       "f_{cc}& = 28.61 \\ \\frac{\\mathrm{N}}{\\mathrm{mm}^{2}} \\quad & E_{c}& = 22.9 \\ \\frac{\\mathrm{kN}}{\\mathrm{mm}^{2}} \\quad &  \n",
       " \\end{aligned}\n",
       "$$"
      ],
      "text/plain": [
       "<IPython.core.display.Markdown object>"
      ]
     },
     "metadata": {},
     "output_type": "display_data"
    }
   ],
   "source": [
    "f_cc = 28.61*un.N/un.mm**2\n",
    "E_c = 22.9*un.kN/un.mm**2\n",
    "put_out(symbolic=True, rows = 3)"
   ]
  },
  {
   "cell_type": "markdown",
   "metadata": {},
   "source": [
    "\n",
    "Auf Basis empirischer Ansätze lassen sich die Bauteilfestigkeit und die Betonzugfestigkeit bestimmen. Zudem ist folgend die Annahme der Betonbruchstauchung beschrieben.  \n"
   ]
  },
  {
   "cell_type": "code",
   "execution_count": 5,
   "metadata": {},
   "outputs": [
    {
     "data": {
      "text/markdown": [
       "$$\n",
       "\\begin{aligned}\n",
       "f_{c}& = 2.7 \\cdot f_{cc}^{\\frac{2}{3}} = 25.26 \\ \\frac{\\mathrm{N}}{\\mathrm{mm}^{2}} \\quad & f_{ct}& = 0.3 \\cdot f_{cc}^{\\frac{2}{3}} = 2.81 \\ \\frac{\\mathrm{N}}{\\mathrm{mm}^{2}} \\quad & \\varepsilon_{cu}& = 5.0 \\ \\mathrm{‰} \\end{aligned}\n",
       "$$"
      ],
      "text/plain": [
       "<IPython.core.display.Markdown object>"
      ]
     },
     "metadata": {},
     "output_type": "display_data"
    }
   ],
   "source": [
    "\n",
    "f_c = (2.7* f_cc.m**(2/3))*un.N/un.mm**2\n",
    "f_ct = (0.3* f_cc.m**(2/3))*un.N/un.mm**2\n",
    "\n",
    "eps_cu = 5.*un.permille\n",
    "\n",
    "put_out(symbolic=True, rows = 3)"
   ]
  },
  {
   "cell_type": "markdown",
   "metadata": {},
   "source": [
    "\n",
    "#### Geometrie  \n",
    "\n",
    "Aus der Geometrie der Platte sind lediglich die Plattenstärke und die Betonüberdeckung von Interesse. Diese sind folgend beschrieben."
   ]
  },
  {
   "cell_type": "code",
   "execution_count": 6,
   "metadata": {},
   "outputs": [
    {
     "data": {
      "text/markdown": [
       "$$\n",
       "\\begin{aligned}\n",
       "h& = 200 \\ \\mathrm{mm} \\quad & c& = 20 \\ \\mathrm{mm} \\quad &  \n",
       " \\end{aligned}\n",
       "$$"
      ],
      "text/plain": [
       "<IPython.core.display.Markdown object>"
      ]
     },
     "metadata": {},
     "output_type": "display_data"
    }
   ],
   "source": [
    "h = 200*un.mm\n",
    "c = 20*un.mm\n",
    "\n",
    "put_out()"
   ]
  },
  {
   "cell_type": "markdown",
   "metadata": {},
   "source": [
    "### Versuchsergebnisse\n",
    "\n",
    "Die Versuchsergebnisse gehen aus dem Versuchsbericht hervor. In diesem ist die Traglast und ein Last-Verformungs-Diagramm aufgezeigt. Die Traglast beträgt 978 kN pro Feld. Dies entspricht der Summe der einzelnen Hydraulikzylinder pro Feld. Die folgende Beziehung beschreibt die Traglast pro Zylinder."
   ]
  },
  {
   "cell_type": "code",
   "execution_count": 7,
   "metadata": {},
   "outputs": [
    {
     "data": {
      "text/markdown": [
       "$$\n",
       "\\begin{aligned}\n",
       "Q_{u}& = \\frac{978}{12} = 81.5 \\ \\mathrm{kN} \\quad &  \\quad &  \n",
       " \\end{aligned}\n",
       "$$"
      ],
      "text/plain": [
       "<IPython.core.display.Markdown object>"
      ]
     },
     "metadata": {},
     "output_type": "display_data"
    }
   ],
   "source": [
    "Q_u = 978*un.kN / 12\n",
    "\n",
    "put_out(symbolic=True)"
   ]
  },
  {
   "cell_type": "markdown",
   "metadata": {},
   "source": [
    "Das Last-Verformungs-Diagramm zeigt die @fig-tho_mess_Q_w. Auf der Ordinate ist die Summe der Einzelkräfte pro Feld aufgezeigt und auf der Abszisse die Verformung der Feldmitte. Die exakte Position der Messung $V10$ ist in der @fig-tho_messung_gr gezeigt. "
   ]
  },
  {
   "cell_type": "code",
   "execution_count": 8,
   "metadata": {},
   "outputs": [],
   "source": [
    "DF_res_V10 = pd.read_csv('calc/tho_res_V10.csv')\n"
   ]
  },
  {
   "cell_type": "code",
   "execution_count": 9,
   "metadata": {},
   "outputs": [],
   "source": [
    "# | echo: false\n",
    "\n",
    "fig_res_V10, ax_res_V10 = plt.subplots(figsize=(14/2.54,5.4/2.54))\n",
    "ax_res_V10.plot(DF_res_V10.iloc[:,0], DF_res_V10.iloc[:,1], color=\"k\")\n",
    "\n",
    "\n",
    "# Set axis labels\n",
    "ax_res_V10.set_ylabel(r\"$F$ [kN]\")\n",
    "ax_res_V10.set_xlabel(r\"$w_{V10}$ [mm]\")\n",
    "\n",
    "\n",
    "# fig_res_V10.savefig(\"imgs/tho_res_V10.jpg\")\n",
    "plt.close()"
   ]
  },
  {
   "cell_type": "markdown",
   "metadata": {},
   "source": [
    "![Kraft-Verformungs-Diagramm an der Stelle $V10$, entnommen aus dem Versuchsbericht @thoma_plattenversuche_2010](../imgs/tho_mess_Q_w.svg){#fig-tho_mess_Q_w}"
   ]
  },
  {
   "cell_type": "markdown",
   "metadata": {},
   "source": [
    "## NLFE-Modell\n",
    "\n",
    "Anhand der Grundlagen des Versuchsbeschrieb ist das NLFE-Modell zu bestimmen. Es sind die Systemmodellbildung, die Querschnittsmodellbildung, das Abbruchkriterium und die Resultate des Modells aufgezeigt.\n",
    "\n",
    "### Systemmodellbildung\n",
    "\n",
    "Die @fig-tho_rost_iso zeigt den Trägerrost mit den Auflagern, den Doppelgelenken, den starren Stäben, sowie sind an den Positionen der Zugstangen Einzellasten eingeführt. Die Abbildung ist lediglich schematisch, da eine deutlich feinere Elementlänge gewählt ist als dargestellt. Die Einzellast ist im Modell mit 100 kN modelliert.\n",
    "\n",
    "\n",
    "![Systemmodell des Trägerrosts, als Ersatzsystem der Zweifeldplatte, mit Einzellasten und Auflagern. Die Teilung des Rosts ist schematisch.](../imgs/tho_rost_iso.svg){#fig-tho_rost_iso}\n",
    "\n",
    "Die gewählte Elementlänge und die Einzugslänge entsprechen den folgenden Grössen."
   ]
  },
  {
   "cell_type": "code",
   "execution_count": 10,
   "metadata": {},
   "outputs": [
    {
     "data": {
      "text/markdown": [
       "$$\n",
       "\\begin{aligned}\n",
       "l_{El}& = 0.1 \\ \\mathrm{m} \\quad & l_{Ein}& = \\frac{l_{El}}{2} = 0.05 \\ \\mathrm{m} \\quad &  \n",
       " \\end{aligned}\n",
       "$$"
      ],
      "text/plain": [
       "<IPython.core.display.Markdown object>"
      ]
     },
     "metadata": {},
     "output_type": "display_data"
    }
   ],
   "source": [
    "l_El = 0.10*un.m\n",
    "l_Ein = l_El / 2\n",
    "\n",
    "put_out(symbolic=True)\n"
   ]
  },
  {
   "cell_type": "markdown",
   "metadata": {},
   "source": [
    "Die Elementlänge ist so gewählt, dass eine durchgehend gleichmässige Trägerrostteilung erzeugt wird. Dadurch sind die Gelenkbeziehungen für sämtliche Stabend- und Anfangsgelenke identisch. Dies reduziert den Modellierungsaufwand und minimiert potenzielle Modellierungsfehler."
   ]
  },
  {
   "cell_type": "code",
   "execution_count": 11,
   "metadata": {},
   "outputs": [],
   "source": [
    "Q_NLFE = 100 *un.kN\n"
   ]
  },
  {
   "cell_type": "markdown",
   "metadata": {},
   "source": [
    "### Querschnittsmodellbildung\n",
    "\n",
    "Die Querschnittsmodellbildung zeigt zunächst die Vereinfachung der Materialeigenschaften. Danach folgt die Ermittlung der Ersatzbiegesteifigkeit und die Ersatztorsionssteifigkeit der Stäbe des Trägerrosts."
   ]
  },
  {
   "cell_type": "markdown",
   "metadata": {},
   "source": [
    "#### Materialeigenschaften\n",
    "\n",
    "Die Modellierung der Materialeigenschaften beinhaltet die Spannungs-Dehnungs-Beziehung des Betonstahls und des Betons. Die @fig-tho_sigma_eps_beton_stahl b) zeigt das bilineare Verhalten des Betonstahls B500B. Grau hinterlegt ist der Spannungs-Dehnungs-Verlauf aus den Zugproben. \n"
   ]
  },
  {
   "cell_type": "code",
   "execution_count": 12,
   "metadata": {},
   "outputs": [],
   "source": [
    "DF_b500b = pd.read_csv('calc/tho_stress_strain_b500b.csv')\n",
    "DF_b500b['x'] = DF_b500b['x']/100\n",
    "\n"
   ]
  },
  {
   "cell_type": "code",
   "execution_count": 13,
   "metadata": {},
   "outputs": [],
   "source": [
    "# | echo: false\n",
    "\n",
    "stress_b500b_array = np.array([0, f_sy.m, f_su.m]) * un.MPa\n",
    "strain_b500b_array = np.array([0, eps_sy.to(un.los), eps_su.to(un.los)])\n",
    "\n",
    "fig_b500b, ax_b500b = plt.subplots()\n",
    "ax_b500b.plot(strain_b500b_array, stress_b500b_array.to(un.MPa).m, color=\"k\")\n",
    "ax_b500b.plot(DF_b500b.iloc[:,0], DF_b500b.iloc[:,1], color=\"gray\", alpha=0.5)\n",
    "\n",
    "# Scientific Notation if needed\n",
    "apply_scientific_notation(ax_b500b, stress_b500b_array.m)\n",
    "\n",
    "# Set axis labels\n",
    "ax_b500b.set_ylabel(r\"$\\sigma$ [N/mm$^2$]\")\n",
    "ax_b500b.set_xlabel(r\"$\\varepsilon_s$ [-]\")\n",
    "\n",
    "# Set limits\n",
    "# ax_b500b.set_xlim(xmax=140 / 1000)\n",
    "# ax_b500b.set_ylim(ymax=700)\n",
    "\n",
    "# Show the plot\n",
    "# plt.tight_layout()\n",
    "# plt.savefig(\"imgs/tho_stress_strain_b500b.pdf\")\n",
    "plt.close()"
   ]
  },
  {
   "cell_type": "markdown",
   "metadata": {},
   "source": [
    "![Spannungs-Dehnungs-Diagramm a)  des Betons b) des Betonstahls B500B mit grau hinterlegten Versuchsdaten](../imgs/tho_sigma_eps_beton_stahl.svg){#fig-tho_sigma_eps_beton_stahl}"
   ]
  },
  {
   "cell_type": "markdown",
   "metadata": {},
   "source": [
    "Für den Beton gilt die Beziehung in @fig-tho_sigma_eps_beton_stahl a). Das Spannungs-Dehnungs-Diagramm des Betons zeigt ein linear elastisches ideal plastisches Verhalten. Zudem zeigt die Darstellung die Berücksichtigung der Betonzugfestigkeit."
   ]
  },
  {
   "cell_type": "code",
   "execution_count": 14,
   "metadata": {},
   "outputs": [],
   "source": [
    "# | echo: false\n",
    "\n",
    "stress_c_array = np.array([f_ct.m, -f_c.m, -f_c.m]) * un.MPa\n",
    "strain_c_array = np.array([f_ct/E_c, -f_c/E_c, -eps_cu.to(un.los)])\n",
    "\n",
    "fig_c, ax_c = plt.subplots()\n",
    "ax_c.plot(strain_c_array, stress_c_array.to(un.MPa).m, color=\"k\")\n",
    "\n",
    "# Scientific Notation if needed\n",
    "apply_scientific_notation(ax_c, stress_c_array.m)\n",
    "\n",
    "# Set axis labels\n",
    "ax_c.set_ylabel(r\"$\\sigma$ [N/mm$^2$]\")\n",
    "ax_c.set_xlabel(r\"$\\varepsilon_c$ [-]\")\n",
    "\n",
    "# Set limits\n",
    "# ax_c.set_xlim(xmax=7 / 1000)\n",
    "# ax_c.set_ylim(ymax=50)\n",
    "\n",
    "# Show the plot\n",
    "# plt.tight_layout()\n",
    "# plt.savefig(\"imgs/tho_stress_strain_c.pdf\")\n",
    "plt.close()"
   ]
  },
  {
   "cell_type": "markdown",
   "metadata": {},
   "source": [
    "#### Ersatzbiegesteifigkeit\n",
    "\n",
    "Die Ersatzbiegesteifigkeit ermittelt sich nach dem Vorgehen beschrieben im @sec-qs_platte. Dazu ist die Breite des Ersatzquerschnitts zu definieren. Diese ist gleich der Elementlänge gesetzt, wie folgend gezeigt."
   ]
  },
  {
   "cell_type": "code",
   "execution_count": 15,
   "metadata": {},
   "outputs": [
    {
     "data": {
      "text/markdown": [
       "$$\n",
       "\\begin{aligned}\n",
       "b& = l_{El} = 0.1 \\ \\mathrm{m} \\quad &  \\quad &  \n",
       " \\end{aligned}\n",
       "$$"
      ],
      "text/plain": [
       "<IPython.core.display.Markdown object>"
      ]
     },
     "metadata": {},
     "output_type": "display_data"
    }
   ],
   "source": [
    "b = l_El\n",
    "\n",
    "put_out(symbolic=True)"
   ]
  },
  {
   "cell_type": "markdown",
   "metadata": {},
   "source": [
    "Nach dem @sec-qs_balken ist zunächst das Rissmoment und die Risskrümmung zu bestimmen. Es resultieren die folgenden Grössen.\n"
   ]
  },
  {
   "cell_type": "code",
   "execution_count": 16,
   "metadata": {},
   "outputs": [
    {
     "data": {
      "text/markdown": [
       "$$\n",
       "\\begin{aligned}\n",
       "z& = \\frac{2 \\cdot h}{3} = 133.33 \\ \\mathrm{mm} \\quad & F_{c}& = \\frac{b \\cdot f_{ct} \\cdot h}{4} = 14.03 \\ \\mathrm{kN} \\\\ \n",
       "M_{r}& = F_{c} \\cdot z = 1.87 \\ \\mathrm{kNm} \\quad & \\chi_{r}& = \\frac{2 \\cdot f_{ct}}{E_{c} \\cdot h} = 1.23 \\ \\frac{1}{\\mathrm{km}} \\end{aligned}\n",
       "$$"
      ],
      "text/plain": [
       "<IPython.core.display.Markdown object>"
      ]
     },
     "metadata": {},
     "output_type": "display_data"
    }
   ],
   "source": [
    "z = h - 2/3 * h/2\n",
    "F_c = (h/2 * f_ct * b *1/2).to(un.kN)\n",
    "M_r = (F_c * z).to(un.kNm)\n",
    "\n",
    "chi_r = (f_ct/E_c /(h/2)).to(1/un.km)\n",
    "\n",
    "put_out(symbolic=True, evaluate=True, rows = 2)"
   ]
  },
  {
   "cell_type": "markdown",
   "metadata": {},
   "source": [
    "Das Fliessen der Bewehrung zeigt den zweiten aussagekräftigen Punkt im Momenten-Krümmungs-Diagramm. Die Querschnittsanalyse dazu zeigt die @fig-tho_qs_my. Die Anwendung der @eq-gerissene_steifigkeit_balken liefert die folgenden Grössen.\n"
   ]
  },
  {
   "cell_type": "code",
   "execution_count": 17,
   "metadata": {},
   "outputs": [
    {
     "data": {
      "text/markdown": [
       "$$\n",
       "\\begin{aligned}\n",
       "{d}'& = h - c - \\frac{\\oslash_{s}}{2} = 175.0 \\ \\mathrm{mm} \\quad & n& = \\frac{E_{s}}{E_{c}} = 8.58 \\  \\\\ \n",
       "A_{s}& = a_{s} \\cdot b = 52.36 \\ \\mathrm{mm}^{2} \\quad & \\rho& = \\frac{A_{s}}{b \\cdot {d}'} = 0.3 \\ \\mathrm{\\%} \\end{aligned}\n",
       "$$"
      ],
      "text/plain": [
       "<IPython.core.display.Markdown object>"
      ]
     },
     "metadata": {},
     "output_type": "display_data"
    }
   ],
   "source": [
    "d_apos = h - c - diam_s / 2\n",
    "n = E_s / E_c\n",
    "A_s = a_s*b\n",
    "rho = (A_s / (b*d_apos)).to(un.percent)\n",
    "\n",
    "put_out(symbolic=True, rows = 2)"
   ]
  },
  {
   "cell_type": "markdown",
   "metadata": {},
   "source": [
    "Daraus bestimmt sich das Fliessmoment und der Biegewiderstand."
   ]
  },
  {
   "cell_type": "code",
   "execution_count": 18,
   "metadata": {},
   "outputs": [
    {
     "data": {
      "text/markdown": [
       "$$\n",
       "\\begin{aligned}\n",
       "x& = {d}' \\cdot \\left(\\sqrt{\\left(\\rho \\cdot n\\right)^{2} + 2 \\cdot \\rho \\cdot n} - \\rho \\cdot n\\right) = 35.42 \\ \\mathrm{mm} \\\\ \n",
       "M_{y}& = A_{s} \\cdot f_{sy} \\cdot \\left({d}' - \\frac{x}{3}\\right) = 3.81 \\ \\mathrm{kNm} \\\\ \n",
       "EI_{II}& = A_{s} \\cdot E_{s} \\cdot \\left({d}' - x\\right) \\cdot \\left({d}' - \\frac{x}{3}\\right) = 234.37 \\ \\mathrm{kN} \\cdot \\mathrm{m}^{2} \\end{aligned}\n",
       "$$"
      ],
      "text/plain": [
       "<IPython.core.display.Markdown object>"
      ]
     },
     "metadata": {},
     "output_type": "display_data"
    }
   ],
   "source": [
    "x = (d_apos *(np.sqrt((rho * n)**2 + 2 *rho*n) - rho*n)).to(un.mm)\n",
    "M_y = (A_s * f_sy *(d_apos-x/3)).to(un.kNm)\n",
    "EI_II = (A_s * E_s * (d_apos - x ) *(d_apos-x/3)).to(un.kN*un.m**2)\n",
    "\n",
    "put_out(symbolic=True, rows = 1)"
   ]
  },
  {
   "cell_type": "markdown",
   "metadata": {},
   "source": [
    "Abschliessend ist der gerissene Zustand mit der Krümmungsdifferenz nach Marti verfeinert, um die Zugversteifung zu berücksichtigen. Die Krümmungsdifferenz ist die folgende."
   ]
  },
  {
   "cell_type": "code",
   "execution_count": 19,
   "metadata": {},
   "outputs": [
    {
     "data": {
      "text/markdown": [
       "$$\n",
       "\\begin{aligned}\n",
       "\\lambda& = 1 \\\\ \n",
       "\\Delta_{\\chi}& = \\frac{\\lambda \\cdot \\left(\\frac{M_{r}}{EI_{II}} - \\frac{f_{ct}}{E_{c} \\cdot \\left({d}' - x\\right)}\\right)}{2} = 3.55 \\ \\frac{1}{\\mathrm{km}} \\end{aligned}\n",
       "$$"
      ],
      "text/plain": [
       "<IPython.core.display.Markdown object>"
      ]
     },
     "metadata": {},
     "output_type": "display_data"
    }
   ],
   "source": [
    "\n",
    "lamda = 1\n",
    "Delta_chi = ((lamda/2) * (M_r / EI_II - f_ct/(E_c*(d_apos-x)))).to(1/un.km)\n",
    "\n",
    "\n",
    "\n",
    "put_out(symbolic=True, rows = 1)"
   ]
  },
  {
   "cell_type": "markdown",
   "metadata": {},
   "source": [
    "Der gerissene Zustand ist durch die beiden Krümmungen bestimmt. "
   ]
  },
  {
   "cell_type": "code",
   "execution_count": 20,
   "metadata": {},
   "outputs": [
    {
     "data": {
      "text/markdown": [
       "$$\n",
       "\\begin{aligned}\n",
       "\\chi_{y1}& = \\frac{M_{r}}{EI_{II}} - \\Delta_{\\chi} = 4.43 \\ \\frac{1}{\\mathrm{km}} \\\\ \n",
       "\\chi_{y2}& = \\frac{M_{y}}{EI_{II}} - \\Delta_{\\chi} = 12.69 \\ \\frac{1}{\\mathrm{km}} \\end{aligned}\n",
       "$$"
      ],
      "text/plain": [
       "<IPython.core.display.Markdown object>"
      ]
     },
     "metadata": {},
     "output_type": "display_data"
    }
   ],
   "source": [
    "\n",
    "chi_y1 = (M_r / EI_II - Delta_chi).to(1/un.km)\n",
    "chi_y2 = (M_y / EI_II - Delta_chi).to(1/un.km)\n",
    "\n",
    "put_out(symbolic=True, rows=1)"
   ]
  },
  {
   "cell_type": "markdown",
   "metadata": {},
   "source": [
    "Setzt man dem Beton ein vollständig plastifiziertes Verhalten voraus, so lässt sich der Biegewiderstand bestimmen. Die @fig-tho_qs_mu zeigt den Querschnitt, die Dehnungsebene und die Spannungen des Zustands.\n",
    "Der Biegewiderstand ist folgend iterativ bestimmt.\n",
    "\n",
    "![Querschnitt beim Versagen, der Beton ist vollständig plastifiziert](../imgs/tho_qs_mu.svg){#fig-tho_qs_mu}"
   ]
  },
  {
   "cell_type": "markdown",
   "metadata": {},
   "source": [
    "Zunächst ist dazu eine Stahldehnung zu wählen. Anhand dieser lässt sich die Stahlspannung bestimmen. Diese ist kleiner als die Zugfestigkeit des Betonstahls."
   ]
  },
  {
   "cell_type": "code",
   "execution_count": 21,
   "metadata": {},
   "outputs": [
    {
     "data": {
      "text/markdown": [
       "$$\n",
       "\\begin{aligned}\n",
       "\\varepsilon_{s}& = 62.5 \\ \\mathrm{‰} \\quad & \\sigma_{s}& = 532.27 \\ \\frac{\\mathrm{N}}{\\mathrm{mm}^{2}} \\quad & f_{su}& = 558.6 \\ \\frac{\\mathrm{N}}{\\mathrm{mm}^{2}} \\end{aligned}\n",
       "$$"
      ],
      "text/plain": [
       "<IPython.core.display.Markdown object>"
      ]
     },
     "metadata": {},
     "output_type": "display_data"
    }
   ],
   "source": [
    "eps_s = 62.5*un.permille\n",
    "sigma_s = np.interp(eps_s.to(un.los), strain_b500b_array, stress_b500b_array).to(un.N/un.mm**2)\n",
    "f_su\n",
    "put_out()"
   ]
  },
  {
   "cell_type": "markdown",
   "metadata": {},
   "source": [
    "Mit der gewählten Stahldehnung stellt sich die folgende Druckzone und die Betonstauchung ein. Die Betonstauchung ist annähernd gleich der Betonbruchstauchung."
   ]
  },
  {
   "cell_type": "code",
   "execution_count": 22,
   "metadata": {},
   "outputs": [
    {
     "data": {
      "text/markdown": [
       "$$\n",
       "\\begin{aligned}\n",
       "x& = \\frac{A_{s} \\cdot \\sigma_{s}}{f_{c} \\cdot b \\cdot 0.85} = 12.98 \\ \\mathrm{mm} \\\\ \n",
       "\\varepsilon_{c}& = \\frac{\\varepsilon_{s} \\cdot x}{{d}' - x} = 5.01 \\ \\mathrm{‰} \\\\ \n",
       "\\varepsilon_{cu}& = 5.0 \\ \\mathrm{‰} \\end{aligned}\n",
       "$$"
      ],
      "text/plain": [
       "<IPython.core.display.Markdown object>"
      ]
     },
     "metadata": {},
     "output_type": "display_data"
    }
   ],
   "source": [
    "x = ((A_s*sigma_s) / (f_c*b*0.85)).to(un.mm)\n",
    "eps_c = (eps_s  / (d_apos - x) * x).to(un.permille)\n",
    "eps_cu\n",
    "\n",
    "put_out(symbolic=True, rows = 1)\n"
   ]
  },
  {
   "cell_type": "markdown",
   "metadata": {},
   "source": [
    "Daraus resultiert der folgende Biegewiderstand.\n"
   ]
  },
  {
   "cell_type": "code",
   "execution_count": 23,
   "metadata": {},
   "outputs": [
    {
     "data": {
      "text/markdown": [
       "$$\n",
       "\\begin{aligned}\n",
       "z& = {d}' - 0.425 \\cdot x = 169.48 \\ \\mathrm{mm} \\\\ \n",
       "F_{s}& = A_{s} \\cdot \\sigma_{s} = 27.87 \\ \\mathrm{kN} \\\\ \n",
       "M_{u}& = F_{s} \\cdot z = 4.72 \\ \\mathrm{kNm} \\end{aligned}\n",
       "$$"
      ],
      "text/plain": [
       "<IPython.core.display.Markdown object>"
      ]
     },
     "metadata": {},
     "output_type": "display_data"
    }
   ],
   "source": [
    "z = d_apos - 0.425*x\n",
    "F_s = (A_s * sigma_s).to(un.kN)\n",
    "M_u = (F_s * z).to(un.kNm)\n",
    "\n",
    "put_out(symbolic=True, rows = 1)"
   ]
  },
  {
   "cell_type": "markdown",
   "metadata": {},
   "source": [
    "Der Biegewiderstand ist mittels der Bruchdehnung des Betons begrenzt. Abschliessend ist die Bruchkrümmung zu bestimmen. Dazu findet das Zuggurtmodell mit der @eq-bruchkrummung Anwendung. Die Schubspannung des Verbunds und der Rissabstand sind die folgenden."
   ]
  },
  {
   "cell_type": "code",
   "execution_count": 24,
   "metadata": {},
   "outputs": [
    {
     "data": {
      "text/markdown": [
       "$$\n",
       "\\begin{aligned}\n",
       "\\tau_{b1}& = f_{ct} = 2.81 \\ \\frac{\\mathrm{N}}{\\mathrm{mm}^{2}} \\quad & s_{rm}& = s = 150 \\ \\mathrm{mm} \\quad &  \n",
       " \\end{aligned}\n",
       "$$"
      ],
      "text/plain": [
       "<IPython.core.display.Markdown object>"
      ]
     },
     "metadata": {},
     "output_type": "display_data"
    }
   ],
   "source": [
    "tau_b1 = f_ct\n",
    "s_rm = s \n",
    "\n",
    "put_out(symbolic=True)"
   ]
  },
  {
   "cell_type": "markdown",
   "metadata": {},
   "source": [
    "Setzt man beim Riss die Zugfestigkeit des Betonstahls voraus, stellt sich der Zustand gemäss der @fig-tho_zustand ein. \n",
    "\n",
    "![a) Spannungsverlauf b) Dehnungsverlauf des Betonstahls innerhalb des halben Zugglieds](../imgs/jag_A1_zugglied.svg){#fig-tho_zustand}\n",
    "\n",
    "Die Spannungen sind folgend berechnet."
   ]
  },
  {
   "cell_type": "code",
   "execution_count": 25,
   "metadata": {},
   "outputs": [
    {
     "data": {
      "text/markdown": [
       "$$\n",
       "\\begin{aligned}\n",
       "\\sigma_{1 s}& = f_{su} = 558.6 \\ \\frac{\\mathrm{N}}{\\mathrm{mm}^{2}} \\\\ \n",
       "\\sigma_{2 s}& = \\sigma_{1 s} - \\frac{4 \\cdot \\tau_{b1} \\cdot s_{rm}}{\\oslash_{s} \\cdot 2} = 474.41 \\ \\frac{\\mathrm{N}}{\\mathrm{mm}^{2}} \\end{aligned}\n",
       "$$"
      ],
      "text/plain": [
       "<IPython.core.display.Markdown object>"
      ]
     },
     "metadata": {},
     "output_type": "display_data"
    }
   ],
   "source": [
    "sigma_1_s = f_su\n",
    "sigma_2_s = sigma_1_s - 4 * tau_b1 * s_rm / (diam_s * 2)\n",
    "\n",
    "\n",
    "\n",
    "put_out(symbolic=True, rows = 1)"
   ]
  },
  {
   "cell_type": "markdown",
   "metadata": {},
   "source": [
    "Die mittlere Dehnung lässt sich folgendermassen bestimmen."
   ]
  },
  {
   "cell_type": "code",
   "execution_count": 26,
   "metadata": {},
   "outputs": [
    {
     "data": {
      "text/markdown": [
       "$$\n",
       "\\begin{aligned}\n",
       "E_{sh}& = \\frac{f_{su} - f_{sy}}{\\varepsilon_{su} - \\varepsilon_{sy}} = 1438.9 \\ \\frac{\\mathrm{N}}{\\mathrm{mm}^{2}} \\\\ \n",
       "\\varepsilon_{sm}& = \\varepsilon_{sy} - \\frac{\\tau_{b1} \\cdot s_{rm}}{E_{sh} \\cdot \\oslash_{s}} + \\frac{f_{su} - f_{sy}}{E_{sh}} = 51.55 \\ \\mathrm{‰} \\end{aligned}\n",
       "$$"
      ],
      "text/plain": [
       "<IPython.core.display.Markdown object>"
      ]
     },
     "metadata": {},
     "output_type": "display_data"
    }
   ],
   "source": [
    "E_sh = ((f_su - f_sy) / (eps_su - eps_sy)).to(un.N /un.mm**2)\n",
    "\n",
    "eps_sm = eps_sy - tau_b1 * s_rm / ( E_sh* diam_s) + (f_su - f_sy) / E_sh\n",
    "\n",
    "put_out(symbolic= True, rows = 1)"
   ]
  },
  {
   "cell_type": "markdown",
   "metadata": {},
   "source": [
    "Mit der mittleren Dehnung lässt sich die Bruchkrümmung beim Betonstahlversagen bestimmen. Es ist ebenfalls gezeigt, dass die Bruchkrümmung bei einem Betondruckversagen grösser ist. Es resultiert folglich ein Betonstahlversagen."
   ]
  },
  {
   "cell_type": "code",
   "execution_count": 27,
   "metadata": {},
   "outputs": [
    {
     "data": {
      "text/markdown": [
       "$$\n",
       "\\begin{aligned}\n",
       "\\chi_{us}& = \\frac{\\varepsilon_{sm}}{{d}' - x} - \\frac{\\varepsilon_{sy}}{{d}' - x} = 304.15 \\ \\frac{1}{\\mathrm{km}} \\\\ \n",
       "\\chi_{uc}& = \\frac{\\varepsilon_{cu}}{x} - \\frac{\\varepsilon_{sy}}{{d}' - x} = 371.16 \\ \\frac{1}{\\mathrm{km}} \\end{aligned}\n",
       "$$"
      ],
      "text/plain": [
       "<IPython.core.display.Markdown object>"
      ]
     },
     "metadata": {},
     "output_type": "display_data"
    }
   ],
   "source": [
    "\n",
    "\n",
    "chi_us = (eps_sm / (d_apos - x ) - eps_sy/ (d_apos -x )).to(1/un.km)\n",
    "chi_uc = (eps_cu / x - eps_sy/ (d_apos -x )).to(1/un.km)\n",
    "\n",
    "put_out(symbolic=True,rows=1, evaluate=True)"
   ]
  },
  {
   "cell_type": "markdown",
   "metadata": {},
   "source": [
    "Damit sind sämtliche Grössen der Momenten-Krümmungs-Beziehung bestimmt. Diese ist in der @fig-tho_m_chi a) beschrieben. Die @fig-tho_m_chi b) zeigt die Momenten-Verdrehungs-Beziehung, welche sich anhand der @eq-phi_to_chi_konst bestimmt. Abgeschlossen ist die Beziehung mit einem ideal-plastischen Verlauf. Die Grössen sind folgend zusammengefasst."
   ]
  },
  {
   "cell_type": "code",
   "execution_count": 28,
   "metadata": {},
   "outputs": [
    {
     "data": {
      "text/markdown": [
       "$$\n",
       "\\begin{aligned}\n",
       "\\chi_{i}& = \\left[\\begin{matrix}\\chi_{r}\\\\\\chi_{y1}\\\\\\chi_{y2}\\\\\\chi_{us}\\end{matrix}\\right] = \\left[\\begin{matrix}1.23\\\\4.43\\\\12.69\\\\304.15\\end{matrix}\\right] \\ \\frac{1}{\\mathrm{km}} \\\\ \n",
       "M_{i}& = \\left[\\begin{matrix}M_{r}\\\\M_{r}\\\\M_{y}\\\\M_{u}\\end{matrix}\\right] = \\left[\\begin{matrix}1.87\\\\1.87\\\\3.81\\\\4.72\\end{matrix}\\right] \\ \\mathrm{kNm} \\\\ \n",
       "\\varphi_{iy}& = \\chi_{i} \\cdot l_{Ein} = \\left[\\begin{matrix}0.06\\\\0.22\\\\0.63\\\\15.21\\end{matrix}\\right] \\ \\frac{\\mathrm{m}}{\\mathrm{km}} \\end{aligned}\n",
       "$$"
      ],
      "text/plain": [
       "<IPython.core.display.Markdown object>"
      ]
     },
     "metadata": {},
     "output_type": "display_data"
    }
   ],
   "source": [
    "chi_i = np.array([chi_r.m, chi_y1.m, chi_y2.m, chi_us.m])/un.km\n",
    "M_i = np.array([M_r.m, M_r.m, M_y.m, M_u.m])*un.kNm\n",
    "varphi_iy = (chi_i * l_Ein)\n",
    "put_out(symbolic=True, rows = 1)"
   ]
  },
  {
   "cell_type": "markdown",
   "metadata": {},
   "source": [
    "Die bestimmte Gelenkbeziehung gilt für sämtliche Gelenke, unabhängig der globalen Ausrichtung, sowie für positive und negative Biegebeanspruchungen."
   ]
  },
  {
   "cell_type": "markdown",
   "metadata": {},
   "source": [
    "![a) Biegemomenten-Krümmungs-Diagramm, b) Biegemomenten-Verdrehungs-Diagramm des Ersatzstabs im Trägerrost](../imgs/tho_m_chi.svg){#fig-tho_m_chi}"
   ]
  },
  {
   "cell_type": "markdown",
   "metadata": {},
   "source": [
    "#### Ersatztorsionssteifigkeit\n",
    "\n",
    "Die Ersatztorsionssteifigkeit bestimmt sich nach der Herleitung gemäss dem @sec-ersatztorsion. Dazu ist die ungerissene und die gerissene Drillsteifigkeit des Plattenelements zu bestimmen. Diese ist abschliessend auf den Stab des Trägerrosts umzuwandeln.\n",
    "\n"
   ]
  },
  {
   "cell_type": "markdown",
   "metadata": {},
   "source": [
    "##### Ungerissene Ersatztorsionssteifigkeit\n",
    "\n",
    "Die ungerissene Ersatztorsionssteifigkeit ist einzig abhängig von den Betonparametern. Dazu ist die Querdehnzahl zu wählen. Dies ist folgend aufgezeigt."
   ]
  },
  {
   "cell_type": "code",
   "execution_count": 29,
   "metadata": {},
   "outputs": [
    {
     "data": {
      "text/markdown": [
       "$$\n",
       "\\begin{aligned}\n",
       "\\nu& = 0.2 \\\\ \n",
       "I_{x , Ersatz}& = \\frac{h^{3} \\cdot b}{6} = 133333333.33 \\ \\mathrm{mm}^{4} \\\\ \n",
       "G_{I}& = \\frac{E_{c}}{2 \\cdot \\left(1 + \\nu\\right)} = 9.54 \\ \\frac{\\mathrm{kN}}{\\mathrm{mm}^{2}} \\\\ \n",
       "GI_{I}& = G_{I} \\cdot I_{x , Ersatz} = 1272.22 \\ \\mathrm{kN} \\cdot \\mathrm{m}^{2} \\end{aligned}\n",
       "$$"
      ],
      "text/plain": [
       "<IPython.core.display.Markdown object>"
      ]
     },
     "metadata": {},
     "output_type": "display_data"
    }
   ],
   "source": [
    "nu = 0.2\n",
    "I_x_com_Ersatz = (h**3 * b / 6).to(un.mm**4)\n",
    "G_I = E_c / (2*(1+nu))\n",
    "GI_I = (G_I * I_x_com_Ersatz).to(un.kN*un.m**2)\n",
    "\n",
    "put_out(symbolic=True, rows = 1)\n"
   ]
  },
  {
   "cell_type": "markdown",
   "metadata": {},
   "source": [
    "Der ungerissene Zustand gilt bis zum Erreichen des Risstorsionsmoments. Dies bestimmt sich nach der @eq-rissdrillmoment. Der numerische Wert zeigt die folgende Gleichung. Damit ist der ungerissene Bereich vollständig beschrieben."
   ]
  },
  {
   "cell_type": "code",
   "execution_count": 30,
   "metadata": {},
   "outputs": [
    {
     "data": {
      "text/markdown": [
       "$$\n",
       "\\begin{aligned}\n",
       "T_{r}& = \\frac{f_{ct} \\cdot h^{2} \\cdot b}{6} = 1.87 \\ \\mathrm{kNm} \\end{aligned}\n",
       "$$"
      ],
      "text/plain": [
       "<IPython.core.display.Markdown object>"
      ]
     },
     "metadata": {},
     "output_type": "display_data"
    }
   ],
   "source": [
    "T_r = (f_ct * (h**2 * b / 6)).to(un.kNm)\n",
    "\n",
    "put_out(symbolic=True, rows = 1)"
   ]
  },
  {
   "cell_type": "markdown",
   "metadata": {},
   "source": [
    "##### Gerissene Ersatztorsionssteifigkeit\n",
    "\n",
    "Die gerissene Ersatztorsionssteifigkeit ist unter der Berücksichtigung des klassischen Druckfeldmodells und des klassischen Sandwichmodells bestimmt. \n",
    "Zunächst gilt es die Deckelstärke des Sandwichmodells zu bestimmen und die dazugehörigen geometrischen Bewehrungsgehälter in beiden Richtungen."
   ]
  },
  {
   "cell_type": "code",
   "execution_count": 31,
   "metadata": {},
   "outputs": [
    {
     "data": {
      "text/markdown": [
       "$$\n",
       "\\begin{aligned}\n",
       "t_{t}& = 2 \\cdot c + \\oslash_{s} = 50 \\ \\mathrm{mm} \\\\ \n",
       "\\rho_{xt}& = \\frac{a_{s}}{t_{t}} = 1.05 \\ \\mathrm{\\%} \\\\ \n",
       "\\rho_{yt}& = \\rho_{xt} = 1.05 \\ \\mathrm{\\%} \\end{aligned}\n",
       "$$"
      ],
      "text/plain": [
       "<IPython.core.display.Markdown object>"
      ]
     },
     "metadata": {},
     "output_type": "display_data"
    }
   ],
   "source": [
    "t_t = 2 * c + diam_s\n",
    "\n",
    "rho_xt = (a_s / t_t).to(un.percent)\n",
    "rho_yt = rho_xt\n",
    "\n",
    "\n",
    "put_out(symbolic=True, rows=1)"
   ]
  },
  {
   "cell_type": "markdown",
   "metadata": {},
   "source": [
    "Anhand der Betonstahlparameter lässt sich mit der @eq-schubmodul_II der gerissene Schubmodul bestimmen. Die Schiebung beider Deckel ist identisch, da die Biegebewehrung in beiden Deckeln gleich ist."
   ]
  },
  {
   "cell_type": "code",
   "execution_count": 32,
   "metadata": {},
   "outputs": [
    {
     "data": {
      "text/markdown": [
       "$$\n",
       "\\begin{aligned}\n",
       "G_{II}& = \\frac{1}{2 \\cdot 2 \\cdot \\frac{1}{E_{s}} \\cdot \\sqrt{\\frac{\\left(1 + n \\cdot \\rho_{xt}\\right) \\cdot \\left(1 + n \\cdot \\rho_{yt}\\right)}{\\rho_{xt} \\cdot \\rho_{yt}} + n}} = 0.47 \\ \\frac{\\mathrm{kN}}{\\mathrm{mm}^{2}} \\quad &  \\quad &  \n",
       " \\end{aligned}\n",
       "$$"
      ],
      "text/plain": [
       "<IPython.core.display.Markdown object>"
      ]
     },
     "metadata": {},
     "output_type": "display_data"
    }
   ],
   "source": [
    "G_II = ((2 * 2/E_s * (np.sqrt((1+n*rho_xt)*(1+n*rho_yt) /(rho_xt*rho_yt) +n)))**(-1)).to(un.kN/un.mm**2)\n",
    "\n",
    "put_out(symbolic=True)"
   ]
  },
  {
   "cell_type": "markdown",
   "metadata": {},
   "source": [
    "Die gerissene Ersatztorsionssteifigkeit resultiert aus der Multiplikation mit dem Ersatzträgheitsmoment. Diese entspricht lediglich 5% der ungerissenen Ersatztorsionssteifigkeit."
   ]
  },
  {
   "cell_type": "code",
   "execution_count": 33,
   "metadata": {},
   "outputs": [
    {
     "data": {
      "text/markdown": [
       "$$\n",
       "\\begin{aligned}\n",
       "GI_{II}& = G_{II} \\cdot I_{x , Ersatz} = 62.91 \\ \\mathrm{kN} \\cdot \\mathrm{m}^{2} \\quad &  \\quad &  \n",
       " \\end{aligned}\n",
       "$$"
      ],
      "text/plain": [
       "<IPython.core.display.Markdown object>"
      ]
     },
     "metadata": {},
     "output_type": "display_data"
    }
   ],
   "source": [
    "GI_II = (G_II * I_x_com_Ersatz).to(un.kN*un.m**2)\n",
    "put_out(symbolic=True)"
   ]
  },
  {
   "cell_type": "markdown",
   "metadata": {},
   "source": [
    "Abschliessend gilt es den Torsionswiderstand zu bestimmen. Dazu ist die @eq-drillwiderstand anzuwenden. Dies führt zu den folgenden Grössen:"
   ]
  },
  {
   "cell_type": "code",
   "execution_count": 34,
   "metadata": {},
   "outputs": [
    {
     "data": {
      "text/markdown": [
       "$$\n",
       "\\begin{aligned}\n",
       "\\tau_{xy , u}& = \\sqrt{\\rho_{xt} \\cdot f_{sy} \\cdot \\rho_{yt} \\cdot f_{sy}} = 4.67 \\ \\frac{\\mathrm{N}}{\\mathrm{mm}^{2}} \\\\ \n",
       "T_{u}& = \\frac{\\tau_{xy , u} \\cdot h^{2} \\cdot b}{6} = 3.11 \\ \\mathrm{kNm} \\end{aligned}\n",
       "$$"
      ],
      "text/plain": [
       "<IPython.core.display.Markdown object>"
      ]
     },
     "metadata": {},
     "output_type": "display_data"
    }
   ],
   "source": [
    "tau_xy_com_u = np.sqrt(rho_xt * f_sy * rho_yt * f_sy).to(un.N/un.mm**2)\n",
    "T_u = (tau_xy_com_u * h**2 * b / 6).to(un.kNm)\n",
    "\n",
    "put_out(symbolic=True, rows = 1)"
   ]
  },
  {
   "cell_type": "markdown",
   "metadata": {},
   "source": [
    "Damit sind sämtliche Grössen der Torsions-Verdrillungs-Beziehung bestimmt. Diese ist in der @fig-tho_t_chi a) beschrieben. Die @fig-tho_t_chi b) zeigt die Torsions-Verdrehungs-Beziehung, welche sich anhand der @eq-phi_to_chi_konst bestimmt. Die berechneten Grössen sind folgend zusammengefasst:"
   ]
  },
  {
   "cell_type": "code",
   "execution_count": 35,
   "metadata": {},
   "outputs": [
    {
     "data": {
      "text/markdown": [
       "$$\n",
       "\\begin{aligned}\n",
       "\\vartheta_{i}& = \\left[\\begin{matrix}\\frac{T_{r}}{GI_{I}}\\\\\\frac{T_{r}}{GI_{II}}\\\\\\frac{T_{u}}{GI_{II}}\\end{matrix}\\right] = \\left[\\begin{matrix}1.47\\\\29.74\\\\49.45\\end{matrix}\\right] \\ \\frac{1}{\\mathrm{km}} \\\\ \n",
       "\\varphi_{ix}& = \\vartheta_{i} \\cdot l_{Ein} = \\left[\\begin{matrix}0.07\\\\1.49\\\\2.47\\end{matrix}\\right] \\ \\frac{\\mathrm{m}}{\\mathrm{km}} \\\\ \n",
       "T_{i}& = \\left[\\begin{matrix}T_{r}\\\\T_{r}\\\\T_{u}\\end{matrix}\\right] = \\left[\\begin{matrix}1.87\\\\1.87\\\\3.11\\end{matrix}\\right] \\ \\mathrm{kNm} \\end{aligned}\n",
       "$$"
      ],
      "text/plain": [
       "<IPython.core.display.Markdown object>"
      ]
     },
     "metadata": {},
     "output_type": "display_data"
    }
   ],
   "source": [
    "vartheta_i = np.array([(T_r / GI_I).to(1/un.km).m, (T_r / GI_II).to(1/un.km).m,(T_u / GI_II).to(1/un.km).m])/un.km\n",
    "varphi_ix = (vartheta_i * l_Ein)\n",
    "\n",
    "T_i = np.array([T_r.m,T_r.m, T_u.m])*un.kNm\n",
    "put_out(symbolic=True,rows = 1)"
   ]
  },
  {
   "cell_type": "markdown",
   "metadata": {},
   "source": [
    "Die bestimmte Gelenkbeziehung gilt für sämtliche Gelenke, unabhängig der globalen Ausrichtung, sowie für positive und negative Torsionsbeanspruchungen. "
   ]
  },
  {
   "cell_type": "markdown",
   "metadata": {},
   "source": [
    "![a) Torsions-Verdrillungs-Diagramm, b) Torsions-Verdrehungs-Diagramm des Ersatzstabs im Trägerrost](../imgs/tho_t_chi.svg){#fig-tho_t_chi}"
   ]
  },
  {
   "cell_type": "markdown",
   "metadata": {},
   "source": [
    "#### Abbruchkriterium\n",
    "\n",
    "Das Abbruchkriterium ist entsprechend dem @sec-abbruchkriterium zu ermitteln und ermöglicht die Abschätzung eines Biegeversagens. Die Zulässige Rotation ist folgend aufgezeigt:"
   ]
  },
  {
   "cell_type": "code",
   "execution_count": 36,
   "metadata": {},
   "outputs": [
    {
     "data": {
      "text/markdown": [
       "$$\n",
       "\\begin{aligned}\n",
       "l_{pl}& = 2 \\cdot {d}' = 350.0 \\ \\mathrm{mm} \\\\ \n",
       "\\varphi_{adm}& = l_{pl} \\cdot \\chi_{us} = 0.106 \\ \\mathrm{rad} \\end{aligned}\n",
       "$$"
      ],
      "text/plain": [
       "<IPython.core.display.Markdown object>"
      ]
     },
     "metadata": {},
     "output_type": "display_data"
    }
   ],
   "source": [
    "# Annahme für die Länge des Gelenks\n",
    "l_pl = 2 * d_apos\n",
    "# Verformungsvermögen\n",
    "varphi_adm = (l_pl * chi_us).to(un.rad)\n",
    "\n",
    "put_out(symbolic=True, rows = 1, precision = 3)"
   ]
  },
  {
   "cell_type": "code",
   "execution_count": 37,
   "metadata": {},
   "outputs": [],
   "source": [
    "varphi_NLFE = 0.04438*2 + 0.00050*2+0.00859*2\n",
    "\n"
   ]
  },
  {
   "cell_type": "markdown",
   "metadata": {},
   "source": [
    "### Resultate"
   ]
  },
  {
   "cell_type": "markdown",
   "metadata": {},
   "source": [
    "Das NLFE-Modell ist mit dem Abbruchkriterium vollständig beschrieben. Die Ergebnisse der Berechnung sind folgend gezeigt. Dazu ist das Last-Verformungs-Diagramm an der Stelle $V10$ dargestellt. Die @fig-tho_res_V10_calc zeigt dieses mit dargestellten Messgrössen und den Berechnungsgrössen des NLFE-Modells. Für die markierten Lastparametern sind die Zustandslinien der Biege- oder Torsionsmomenten gezeigt."
   ]
  },
  {
   "cell_type": "code",
   "execution_count": 38,
   "metadata": {},
   "outputs": [],
   "source": [
    "DF_rost_axis_V10 = pd.read_excel('calc/axis_res.xlsx', sheet_name='V10')\n",
    "DF_rost_axis_V10['eZ_1 [mm]']= -1*DF_rost_axis_V10['eZ_1 [mm]']\n",
    "\n",
    "ax_res_V10.plot(DF_rost_axis_V10.iloc[:,1],  DF_rost_axis_V10.iloc[:,2]*100*12, label='Trägerrost', color='gray')\n",
    " \n",
    "fig_res_V10.legend()\n",
    "fig_res_V10.savefig(\"imgs/tho_res_V10_calc.pdf\")\n",
    "# plt.close()\n",
    "# fig_res_V10"
   ]
  },
  {
   "cell_type": "markdown",
   "metadata": {},
   "source": [
    "![Last-Verformungs-Diagramm an der Stelle $V10$ des Trägerrosts, ergänzt mit den Messdaten. Zudem sind aussagekräftige Lastparameter markiert.](../imgs/tho_q_w.svg){#fig-tho_res_V10_calc}\n"
   ]
  },
  {
   "cell_type": "markdown",
   "metadata": {},
   "source": [
    "Die Traglast des Systems zeigt die folgende Gleichung. Das NLFE-Modell prognostiziert lediglich 80 % der gemessenen Traglast des Experiments.\n"
   ]
  },
  {
   "cell_type": "code",
   "execution_count": 39,
   "metadata": {},
   "outputs": [
    {
     "data": {
      "text/markdown": [
       "$$\n",
       "\\begin{aligned}\n",
       "Q_{NLFE}& = 0.633 \\cdot 100 = 63.3 \\ \\mathrm{kN} \\\\ \n",
       "Q_{u}& = \\frac{978}{12} = 81.5 \\ \\mathrm{kN} \\end{aligned}\n",
       "$$"
      ],
      "text/plain": [
       "<IPython.core.display.Markdown object>"
      ]
     },
     "metadata": {},
     "output_type": "display_data"
    }
   ],
   "source": [
    "Q_NLFE = 0.633*100*un.kN\n",
    "Q_u\n",
    "put_out(symbolic=True, rows = 1)"
   ]
  },
  {
   "cell_type": "markdown",
   "metadata": {},
   "source": [
    "Der Verformungsverlauf zeigt hingegen eine gute Übereinstimmung. Hervorzuheben sind die Abweichungen bei ca. 36 % der Modelllast. Das Modellverhalten verläuft hier annähernd parallel zu den Messdaten, jedoch auf einem zu hohen Lastniveau. Daraus lässt sich vermuten, dass die Platte im Versuch, vor dem Modell beginnt zu fliessen. Das Fliessmoment ist nicht deckungsgleich. Ab dann wird das Modellverhalten wieder weicher. Die Kurven schneiden sich bei 57 % der Modelllast. Dieser Steifigkeitsabfall ist durch das Erreichen des Biegewiderstands im zentralen Gelenk über dem Mittelauflager bestimmt. Die angrenzenden Gelenke sind mehrheitlich über der Fliessgrenze. An diesem Punkt spielt einerseits der ideal-plastische Abschluss der Gelenkbeziehung in das Verformungsverhalten mit ein, andererseits die stark vereinfachte Spannungs-Dehnungs-Beziehung des Betonstahls, gemäss der @fig-tho_sigma_eps_beton_stahl b). Das verfestigende Verhalten ist nur mangelhaft beschrieben. Zudem resultiert die Vernachlässigung der Querdehnung zu einem weicheren Verhalten. Dies sollte sich im gesamten Verlauf wiederspiegeln, der Einfluss scheint jedoch marginal zu sein. Anschliessend bricht die Berechnung frühzeitig ab im Vergleich mit den Versuchsresultaten. Dies lässt sich mit den groben Vereinfachungen des gewählten Abbruchkriteriums begründen. Es wird vermutet, dass mit einer präziseren Bestimmung des Rotationsvermögens ein passenderes Resultat erzielt wird. \n",
    "\n",
    "Abschliessend ist auf das Systemverhalten bei den markierten Lastparametern einzugehen. Der erste aussagekräftige Steifigkeitsabfall erfolgt durch das Erreichen des Rissmoments im System. Die Zustandslinien der Biegemomente in der @fig-tho_lpa1 zeigen, dass das Rissmoment über dem Mittelauflager erreicht ist. Die zugehörigen Verformungen zeigt die @fig-tho_lpa1_w.  \n",
    "\n",
    "Der nächste signifikante Steifigkeitsabfall liegt bei 30 % der modellierten Einzellast. Bei diesem Lastparameter stellt sich in den Ecken das Risstorsionsmoment ein, wie in der @fig-tho_lpa2 aufgezeigt. Die Verformungen zeigt die @fig-tho_lpa2_w.  \n",
    "\n",
    "Bei einer weiteren Laststeigerung erreicht das Mittelauflager das Fliessmoment. Dies zeigt die @fig-tho_lpa3, die Verformungen zeigt die @fig-tho_lpa3_w. Es resultiert ein deutlicher Steifigkeitsabfall. Zwischen diesem Lastparameter und dem folgenden bilden sich fortan Fliessgelenke entlang des Mittelauflagers.  \n",
    "\n",
    "Der Biegewiderstand ist bei 56.8 % der Einzellast erreicht. Aufgezeigt in der @fig-tho_lpa4 mit den Verformungen in der @fig-tho_lpa4_w.  \n",
    "\n",
    "Die @fig-tho_lpa5 zeigt abschliessend die Zustandslinien der Biegemomente beim Biegeversagen, und @fig-tho_lpa5_w zeigt die entsprechenden Verformungen.\n"
   ]
  },
  {
   "cell_type": "markdown",
   "metadata": {},
   "source": [
    "![Qualitative Zustandslinien der Biegemomente des Trägerrosts beim Lastparameter 0.101](../imgs/tho_lpa1.svg){#fig-tho_lpa1}\n",
    "\n",
    "![Qualitative Zustandslinien der Verformung des Trägerrosts beim Lastparameter 0.101. Verformung an der Stelle $V10$ beschriftet](../imgs/tho_lpa1_w.svg){#fig-tho_lpa1_w}\n"
   ]
  },
  {
   "cell_type": "markdown",
   "metadata": {},
   "source": [
    "![Qualitative Zustandslinien der Torsionsmomente des Trägerrosts beim Lastparameter 0.300](../imgs/tho_lpa2.svg){#fig-tho_lpa2}\n",
    "\n",
    "![Qualitative Zustandslinien der Verformung des Trägerrosts beim Lastparameter 0.300. Verformung an der Stelle $V10$ beschriftet](../imgs/tho_lpa2_w.svg){#fig-tho_lpa2_w}"
   ]
  },
  {
   "cell_type": "markdown",
   "metadata": {},
   "source": [
    "![Qualitative Zustandslinien der Biegemomente des Systems beim Lastparameter 0.366](../imgs/tho_lpa3.svg){#fig-tho_lpa3}\n",
    "\n",
    "\n",
    "![Qualitative Zustandslinien der Verformung des Trägerrosts beim Lastparameter 0.366. Verformung an der Stelle $V10$ beschriftet](../imgs/tho_lpa3_w.svg){#fig-tho_lpa3_w}\n",
    "\n"
   ]
  },
  {
   "cell_type": "markdown",
   "metadata": {},
   "source": [
    "![Qualitative Zustandslinien der Biegemomente des Trägerrosts beim Lastparameter 0.568](../imgs/tho_lpa4.svg){#fig-tho_lpa4}\n",
    "\n",
    "\n",
    "![Qualitative Zustandslinien der Verformung des Trägerrosts beim Lastparameter 0.568. Verformung an der Stelle $V10$ beschriftet](../imgs/tho_lpa4_w.svg){#fig-tho_lpa4_w}\n"
   ]
  },
  {
   "cell_type": "markdown",
   "metadata": {},
   "source": [
    "![Qualitative Zustandslinien der Biegemomente des Trägerrosts beim Lastparameter 0.633](../imgs/tho_lpa5.svg){#fig-tho_lpa5}\n",
    "\n",
    "\n",
    "![Qualitative Zustandslinien der Verformung des Trägerrosts beim Lastparameter 0.633. Verformung an der Stelle $V10$ beschriftet](../imgs/tho_lpa5_w.svg){#fig-tho_lpa5_w}\n",
    "\n"
   ]
  },
  {
   "cell_type": "markdown",
   "metadata": {},
   "source": [
    "\n",
    "Das Abbruchkriterium ist beim Mittelauflager erfüllt. Dies zeigt die folgende Berechnung, welche sich auf die Resultate der @fig-tho_lpa5_rot bezieht. "
   ]
  },
  {
   "cell_type": "code",
   "execution_count": 40,
   "metadata": {},
   "outputs": [
    {
     "data": {
      "text/markdown": [
       "$$\n",
       "\\begin{aligned}\n",
       "\\varphi_{r}& = 0.044 \\cdot 2 + 0.0005 \\cdot 2 + 0.00859 \\cdot 2 = 0.106 \\ \\mathrm{rad} \\\\ \n",
       "\\varphi_{adm}& = l_{pl} \\cdot \\chi_{us} = 0.106 \\ \\mathrm{rad} \\end{aligned}\n",
       "$$"
      ],
      "text/plain": [
       "<IPython.core.display.Markdown object>"
      ]
     },
     "metadata": {},
     "output_type": "display_data"
    }
   ],
   "source": [
    "varphi_r = (0.044 *2 +0.0005*2+0.00859*2)*un.rad\n",
    "varphi_adm\n",
    "put_out(symbolic=True, precision=3, rows = 1)"
   ]
  },
  {
   "cell_type": "markdown",
   "metadata": {},
   "source": [
    "\n",
    "![Relative Gelenkrotationen beim Mittelauflager beim Lastparameter 0.633](../imgs/tho_lpa5_rot.svg){#fig-tho_lpa5_rot}\n"
   ]
  },
  {
   "cell_type": "markdown",
   "metadata": {},
   "source": [
    "### Vergleichsrechnung"
   ]
  },
  {
   "cell_type": "markdown",
   "metadata": {},
   "source": [
    "Das Tragverhalten wurde vom Autor des Versuchsberichts in einer weiteren Publikation (@thoma_finite_2014) mithilfe eines eigens entwickelten Moduls für ANSYS nachgerechnet. Die Modellierung basiert auf dem *Cracked Membrane Model* (CMM).  \n",
    "\n",
    "Die @fig-tho_q_w_usermat zeigt die Resultate dieser Modellierung im Vergleich mit dem Trägerrost. Die Berechnungsverläufe des CMM sind dem Verlauf des Trägerrostmodells ähnlich. Das CMM beschreibt den Verlauf nach Erreichen des Fliessmoments jedoch präziser als das Trägerrostmodell. Dennoch weichen beide Berechnungsverläufe in ähnlicher Weise von den gemessenen Werten ab. Die Präzision des Trägerrostmodells ist somit als gut einzustufen.\n"
   ]
  },
  {
   "cell_type": "markdown",
   "metadata": {},
   "source": [
    "![Last-Verformungs-Diagramm an der Stelle $V10$ des Trägerrosts, ergänzt mit der Nachrechnung mit Ansys CMM-Usermat, entnommen aus der Publikation @thoma_finite_2014](../imgs/tho_q_w_usermat.svg){#fig-tho_q_w_usermat}"
   ]
  }
 ],
 "metadata": {
  "kernelspec": {
   "display_name": "calc",
   "language": "python",
   "name": "python3"
  },
  "language_info": {
   "codemirror_mode": {
    "name": "ipython",
    "version": 3
   },
   "file_extension": ".py",
   "mimetype": "text/x-python",
   "name": "python",
   "nbconvert_exporter": "python",
   "pygments_lexer": "ipython3",
   "version": "3.11.9"
  }
 },
 "nbformat": 4,
 "nbformat_minor": 2
}
