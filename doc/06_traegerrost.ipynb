{
 "cells": [
  {
   "cell_type": "markdown",
   "metadata": {},
   "source": [
    "# Torsionsweicher Trägerrost\n",
    "\n",
    "Das Anwendungbeispiel des torsionsweichen Trägerrosts glieder sich in den Aufgabenbeschrieb, der analytischen Lösung und der Modellierung mit dem NLFE-Modell inklusiven dessen Resultaten. Das Beispiel soll die Anwendbarkeit an dreidimensionalen Stabtragwerken aufzeigen.\n",
    "\n",
    "## Aufgabenbeschrieb\n",
    "\n",
    "Das Beispiel stammt aus @marti_baustatik_2014. In der @fig-trm_uebersicht ist der Grundriss des Trägerrosts dargestellt. Es handelt sich um insgesamt 16 torsionsweiche Stäbe, welche an den Enden eingespannt sind.\n",
    "\n",
    "![Grundriss des torsionsweichen Trägerrosts, neugezeichnet nach @marti_baustatik_2014](../imgs/trm_uebersicht.svg){#fig-trm_uebersicht}\n",
    "\n",
    "Es ist die Traglast des Systems zu ermitteln. Die Stablänge und die positiven und negativen Biegewiderstände sind die folgenden."
   ]
  },
  {
   "cell_type": "code",
   "execution_count": 1,
   "metadata": {},
   "outputs": [],
   "source": [
    "# | echo: false\n",
    "\n",
    "from packages import *"
   ]
  },
  {
   "cell_type": "code",
   "execution_count": 2,
   "metadata": {},
   "outputs": [
    {
     "data": {
      "text/markdown": [
       "$$\n",
       "\\begin{aligned}\n",
       "l& = 1 \\ \\mathrm{m} \\quad & M_{u}& = 100 \\ \\mathrm{kN} \\cdot \\mathrm{m} \\quad & {M}'_{u}& = 100 \\ \\mathrm{kN} \\cdot \\mathrm{m} \\end{aligned}\n",
       "$$"
      ],
      "text/plain": [
       "<IPython.core.display.Markdown object>"
      ]
     },
     "metadata": {},
     "output_type": "display_data"
    }
   ],
   "source": [
    "# Traglast\n",
    "\n",
    "# Rastergrösse\n",
    "l = 1 * un.m  \n",
    "\n",
    "\n",
    "\n",
    "\n",
    "# Positiver Biegewiderstand\n",
    "M_u = 100 * un.kN * un.m  \n",
    "\n",
    "# Negativer Biegewiderstand\n",
    "M_apos_u = 100 * un.kN * un.m\n",
    "\n",
    "put_out()"
   ]
  },
  {
   "cell_type": "markdown",
   "metadata": {},
   "source": [
    "## Analytische Lösung\n",
    "\n",
    "Die Analytische Lösung basiert auf dem Traglastverfahren, beschrieben in @marti_baustatik_2014. Mittels einem zulässigen Mechanismus ist ein oberer Grenzwert der Traglast herzuleiten. In der @fig-trm_schnitt sind zwei Stäbe dargestellt. Aus Symmetriegründen lässt sich der obere Grenzwert des gesamten Trägerrosts anhand dieser Darstellung ermitteln.\n",
    "\n",
    "![Schnitt des torsionsweichen Trägerrosts, mit dem angenommenen Mechanismus für den Innen- und Aussenträger](../imgs/trm_schnitt.svg){#fig-trm_schnitt}\n",
    "\n"
   ]
  },
  {
   "cell_type": "markdown",
   "metadata": {},
   "source": [
    "Die äussere Arbeit $W_a$ des dargestellten Systems in @fig-trm_schnitt beträgt dabei für die am Rand gelegenen Stäbe (Punkte 2'45):\n",
    "\n",
    "$$\n",
    "W_{a,2'45} = 4 \\cdot \\left( Q \\cdot \\frac{1}{3} + Q \\cdot \\frac{1}{9} \\right)\n",
    "$$\n",
    "\n",
    "Und für die Innenträger:\n",
    "\n",
    "$$\n",
    "W_{a,123} = 4 \\cdot \\left( Q \\cdot 1 + Q \\cdot \\frac{1}{3} \\right)\n",
    "$$\n",
    "\n",
    "\n",
    "Sowie beträgt die innere Arbeit:\n",
    "\n",
    "$$\n",
    "W_i = 8 \\cdot \\left(M_u' + M_u\\right) \\cdot \\left(\\frac{1}{3l} +\\frac{1}{9l}\\right)\n",
    "$$\n",
    "\n",
    "Durch das abschliessende Gleichsetzen der Arbeiten und das Lösen nach $Q$ folgt der obere Grenzwert der Traglast zu:\n",
    "\n",
    "$$\n",
    "Q = \\frac{M_u + M_u'}{2 \\cdot l}\n",
    "$$\n",
    "\n",
    "Die Plastizitätskontrolle ist in der @fig-trm_schnitt_my und @fig-trm_schnitt_vz gezeigt. Dabei wird eine Lastverteilung von je einer Hälfte $Q$ in $x$ und $y$ Richtung angenommen. Welche sich nach vollständigen Umlagern der Biegemomente einstellt.\n",
    "\n",
    "![Plastizitätskontrolle anhand der Schnittgrössen der Biegemomente](../imgs/trm_schnitt_my.svg){#fig-trm_schnitt_my}\n",
    "\n",
    "![Plastizitätskontrolle anhand der Schnittgrössen der Querkräfte](../imgs/trm_schnitt_vz.svg){#fig-trm_schnitt_vz}\n",
    "\n",
    "Aus der Plastizitätskontrolle geht heraus, dass der Biegewiderstand nirgends überschritten ist, somit deckt sich der untere und obere Grenzwert der Traglast, sprich die Traglast $Q_u$ ist gefunden.\n",
    "\n",
    "\n",
    "$$\n",
    "Q_u = \\frac{M_u + M_u'}{2 \\cdot l}\n",
    "$$\n",
    "\n"
   ]
  },
  {
   "cell_type": "markdown",
   "metadata": {},
   "source": [
    "Mit den numerischen Grössen gemäss der Aufgabenstellung entspricht die Traglast dem Folgenden."
   ]
  },
  {
   "cell_type": "code",
   "execution_count": 3,
   "metadata": {},
   "outputs": [
    {
     "data": {
      "text/markdown": [
       "$$\n",
       "\\begin{aligned}\n",
       "Q_{u}& = \\frac{M_{u} + {M}'_{u}}{2 \\cdot l} = 100.0 \\ \\mathrm{kN} \\end{aligned}\n",
       "$$"
      ],
      "text/plain": [
       "<IPython.core.display.Markdown object>"
      ]
     },
     "metadata": {},
     "output_type": "display_data"
    }
   ],
   "source": [
    "Q_u = (M_u + M_apos_u) / (2*l)\n",
    "\n",
    "put_out(symbolic=True, rows=1)"
   ]
  },
  {
   "cell_type": "markdown",
   "metadata": {},
   "source": [
    "## NLFE-Modell\n",
    "\n",
    "\n",
    "Die analytische Lösung ist mit dem NLFE-Modell zu nähern. Dazu ist die Systemmodellbildung beschrieben und die Querschnittsmodellbildung. Abschliessend sind die Resultate aufgezeigt. "
   ]
  },
  {
   "cell_type": "markdown",
   "metadata": {},
   "source": [
    "### Systemmodellbildung"
   ]
  },
  {
   "cell_type": "markdown",
   "metadata": {},
   "source": [
    "Das System ist in biegestarre Stäbe unterteilt und mit den Gelenken versehen. Die @fig-trm_geom zeigt das statische System. Die Einwirkung ist mit 120 kN modelliert.\n",
    "\n",
    "![Statisches Modell in AxisVM des Trägerrosts](../imgs/trm_system.svg){#fig-trm_geom}\n",
    "\n",
    "Die Gelenke und die Elementlänge ist in der detaillierten @fig-trm_detail_system zu sehen.\n",
    "\n",
    "\n",
    "\n",
    "![Detailausschnitt des Trägerrosts mit Gelenken und vermasster Elementlänge](../imgs/trm_detail_system.svg){#fig-trm_detail_system}"
   ]
  },
  {
   "cell_type": "markdown",
   "metadata": {},
   "source": [
    "### Querschnittsmodellbildung\n",
    "\n",
    "#### Biegesteifigkeit\n",
    "\n",
    "Bei der Ermittlung der Traglast nach dem Traglastverfahren spielt die Verformung des Systems keine Rolle. Lediglich der Biegewiderstand ist von Interesse. Das Verhalten lässt sich mit einem ideal-plastischen Momenten-Krümmungs-Diagramm beschreiben. Aufgezeigt in der @fig-trm_m_chi."
   ]
  },
  {
   "cell_type": "code",
   "execution_count": 4,
   "metadata": {},
   "outputs": [],
   "source": [
    "# | echo: false\n",
    "\n",
    "radians = np.linspace(-0.2, 0.2, 100)\n",
    "M = np.piecewise(radians, [radians < 0, radians > 0], [-100, 100])\n",
    "\n",
    "fig, ax = plt.subplots()\n",
    "\n",
    "ax.plot(radians, M, linestyle=\"-\", color=\"k\")\n",
    "ax.plot(radians, radians * 0, color=\"gray\")\n",
    "\n",
    "# Set axis labels\n",
    "ax.set_xlabel(r\"$\\varphi$ [rad]\")\n",
    "ax.set_ylabel(r\"$M$ [kNm]\")\n",
    "\n",
    "# Set limits\n",
    "# ax.set_xlim([-0.2, 0.2])\n",
    "# ax.set_ylim([-101, 101])\n",
    "\n",
    "# Show the plot\n",
    "plt.tight_layout()\n",
    "# plt.savefig(\"imgs/trm_gelenkdef.svg\")\n",
    "plt.close()"
   ]
  },
  {
   "cell_type": "markdown",
   "metadata": {},
   "source": [
    "![Ideal-plastische a) Momenten-Krümmungs-Beziehung, b) Momenten-Verdrehungs-Beziehung ](../imgs/trm_m_chi.svg){#fig-trm_m_chi}\n"
   ]
  },
  {
   "cell_type": "markdown",
   "metadata": {},
   "source": [
    "Das ideal-plastische Verhalten ist punktsymmetrisch, gilt somit ebenfalls für negative Biegemomente."
   ]
  },
  {
   "cell_type": "markdown",
   "metadata": {},
   "source": [
    "#### Abbruchkriterium\n",
    "\n",
    "Bei der Traglastermittlung des Systems ist das Rotationsvermögen des Systems von keiner bedeutung. Die Traglast stellt sich bei einer vollständigen Umlagerung sämtlicher Biegemomente ein. Die Traglast ist gefunden, wenn sich im Last-Verformungs-Diagramm ein asymptotischer Verlauf einstellt."
   ]
  },
  {
   "cell_type": "markdown",
   "metadata": {},
   "source": [
    "### Resultate\n",
    "\n",
    "Die folgenden Abbildungen zeigen die Verteilung der Biegemomente und der Querkräfte im Trägerrost, ermittelt mit dem NLFE-Modell. Die ersten Gelenke bei den innenliegenden Stäbe bilden sich bei folgender Last."
   ]
  },
  {
   "cell_type": "markdown",
   "metadata": {},
   "source": [
    "Bei den Aussenträgern bilden sich plastische Gelenke bei folgender Laststufe."
   ]
  },
  {
   "cell_type": "code",
   "execution_count": 7,
   "metadata": {},
   "outputs": [
    {
     "data": {
      "text/markdown": [
       "$$\n",
       "\\begin{aligned}\n",
       "Q_{2}& = Q \\cdot 0.758 = 90.96 \\ \\mathrm{kN} \\quad &  \\quad &  \n",
       " \\end{aligned}\n",
       "$$"
      ],
      "text/plain": [
       "<IPython.core.display.Markdown object>"
      ]
     },
     "metadata": {},
     "output_type": "display_data"
    }
   ],
   "source": [
    "Q_2 = Q * 0.758\n",
    "\n",
    "put_out(symbolic=True)"
   ]
  },
  {
   "cell_type": "markdown",
   "metadata": {},
   "source": [
    "Die folgenden beiden Abbildungen zeigen die Zustandslinien der Biegemomente und der Querkräfte. Der Biegewiderstand ist bei sämtlichen Auflagernpunkten erreicht."
   ]
  },
  {
   "cell_type": "markdown",
   "metadata": {},
   "source": [
    "\n",
    "\n",
    "\n"
   ]
  },
  {
   "cell_type": "markdown",
   "metadata": {},
   "source": [
    "Die Bildung des Fliessgelenks im Feld bei den Innenträgern liegt nahe bei der vorherigen Laststufe.\n"
   ]
  },
  {
   "cell_type": "code",
   "execution_count": 8,
   "metadata": {},
   "outputs": [
    {
     "data": {
      "text/markdown": [
       "$$\n",
       "\\begin{aligned}\n",
       "Q_{3}& = Q \\cdot 0.781 = 93.72 \\ \\mathrm{kN} \\quad &  \\quad &  \n",
       " \\end{aligned}\n",
       "$$"
      ],
      "text/plain": [
       "<IPython.core.display.Markdown object>"
      ]
     },
     "metadata": {},
     "output_type": "display_data"
    }
   ],
   "source": [
    "Q_3 = Q*0.781\n",
    "\n",
    "put_out(symbolic=True)"
   ]
  },
  {
   "cell_type": "markdown",
   "metadata": {},
   "source": [
    "Die Zustandslinien dazu sind folgend gezeigt. Es zeigt sich, dass in Feldmitte der Biegewiderstand erreicht ist."
   ]
  },
  {
   "cell_type": "markdown",
   "metadata": {},
   "source": [
    "\n"
   ]
  },
  {
   "cell_type": "markdown",
   "metadata": {},
   "source": [
    "Abschliessend gibt es ein Konvergenzproblem bei folgender Laststufe."
   ]
  },
  {
   "cell_type": "code",
   "execution_count": 9,
   "metadata": {},
   "outputs": [
    {
     "data": {
      "text/markdown": [
       "$$\n",
       "\\begin{aligned}\n",
       "Q_{4}& = Q \\cdot 0.832 = 99.84 \\ \\mathrm{kN} \\quad &  \\quad &  \n",
       " \\end{aligned}\n",
       "$$"
      ],
      "text/plain": [
       "<IPython.core.display.Markdown object>"
      ]
     },
     "metadata": {},
     "output_type": "display_data"
    }
   ],
   "source": [
    "Q_4 = Q *  0.832\n",
    "\n",
    "put_out(symbolic=True)"
   ]
  },
  {
   "cell_type": "markdown",
   "metadata": {},
   "source": [
    "Die Zustandslinien der Biegemomente zeigen ein Erreichen des Biegewiderstands im Feld der Aussenträger. Die Traglast ist erreicht."
   ]
  },
  {
   "cell_type": "markdown",
   "metadata": {},
   "source": []
  },
  {
   "cell_type": "markdown",
   "metadata": {},
   "source": [
    "## Fazit"
   ]
  },
  {
   "cell_type": "markdown",
   "metadata": {},
   "source": [
    "-"
   ]
  }
 ],
 "metadata": {
  "kernelspec": {
   "display_name": "calc",
   "language": "python",
   "name": "python3"
  },
  "language_info": {
   "codemirror_mode": {
    "name": "ipython",
    "version": 3
   },
   "file_extension": ".py",
   "mimetype": "text/x-python",
   "name": "python",
   "nbconvert_exporter": "python",
   "pygments_lexer": "ipython3",
   "version": "3.11.9"
  }
 },
 "nbformat": 4,
 "nbformat_minor": 2
}
