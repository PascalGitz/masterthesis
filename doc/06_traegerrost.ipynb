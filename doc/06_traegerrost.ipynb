{
 "cells": [
  {
   "cell_type": "markdown",
   "metadata": {},
   "source": [
    "# Torsionsweicher Trägerrost\n",
    "\n",
    "Das Beispiel des torsionsweichen Trägerrosts zeigt die Anwendung an einem dreidimensionalen Balkentragwerk. Das Kapitel gliedert sich in den Aufgabenbeschrieb, der analytischen Lösung und der Modellierung mit dem NLFE-Modell inklusive dessen Resultaten.\n",
    "\n",
    "## Aufgabenbeschrieb\n",
    "\n",
    "Das Beispiel stammt aus @marti_baustatik_2014. Es handelt sich um einen torsionsweichen Trägerrost. In der @fig-trm_uebersicht ist der Grundriss des Trägerrosts dargestellt. Das System besteht aus insgesamt 8 torsionsweichen Stäben, welche an den Enden eingespannt sind.\n",
    "\n",
    "![Grundriss des torsionsweichen Trägerrosts, nachgezeichnet nach @marti_baustatik_2014](../imgs/trm_uebersicht.svg){#fig-trm_uebersicht}\n",
    "\n",
    "Es ist die Traglast des Systems zu ermitteln. Die Stablänge und die positiven und negativen Biegewiderstände sind die folgenden."
   ]
  },
  {
   "cell_type": "code",
   "execution_count": 1,
   "metadata": {},
   "outputs": [],
   "source": [
    "# | echo: false\n",
    "\n",
    "from packages import *"
   ]
  },
  {
   "cell_type": "code",
   "execution_count": 2,
   "metadata": {},
   "outputs": [
    {
     "data": {
      "text/markdown": [
       "$$\n",
       "\\begin{aligned}\n",
       "l& = 1 \\ \\mathrm{m} \\quad & M_{u}& = 100 \\ \\mathrm{kN} \\cdot \\mathrm{m} \\quad & {M}'_{u}& = 100 \\ \\mathrm{kN} \\cdot \\mathrm{m} \\end{aligned}\n",
       "$$"
      ],
      "text/plain": [
       "<IPython.core.display.Markdown object>"
      ]
     },
     "metadata": {},
     "output_type": "display_data"
    }
   ],
   "source": [
    "# Traglast\n",
    "\n",
    "# Rastergrösse\n",
    "l = 1 * un.m  \n",
    "\n",
    "\n",
    "\n",
    "\n",
    "# Positiver Biegewiderstand\n",
    "M_u = 100 * un.kN * un.m  \n",
    "\n",
    "# Negativer Biegewiderstand\n",
    "M_apos_u = 100 * un.kN * un.m\n",
    "\n",
    "put_out()"
   ]
  },
  {
   "cell_type": "markdown",
   "metadata": {},
   "source": [
    "## Analytische Lösung\n",
    "\n",
    "Die analytische Lösung basiert auf dem Traglastverfahren, beschrieben in @marti_baustatik_2014. Mittels eines zulässigen Mechanismus ist ein oberer Grenzwert der Traglast herzuleiten. In der @fig-trm_schnitt sind der innen- und der aussenliegende Stab dargestellt. Aus Symmetriegründen lässt sich der obere Grenzwert des gesamten Trägerrosts anhand dieser Darstellung ermitteln.\n",
    "\n",
    "![Schnitt des torsionsweichen Trägerrosts mit dem angenommenen Mechanismus für den Innen- und Aussenträger, nachgezeichnet nach @marti_baustatik_2014](../imgs/trm_schnitt.svg){#fig-trm_schnitt}\n",
    "\n"
   ]
  },
  {
   "cell_type": "markdown",
   "metadata": {},
   "source": [
    "Die äussere Arbeit $W_a$ des dargestellten Systems in @fig-trm_schnitt beträgt dabei für die am Rand gelegenen Stäbe (Punkte 2'45):\n",
    "\n",
    "$$\n",
    "W_{a,2'45} = 4 \\cdot \\left( Q \\cdot \\frac{1}{3} + Q \\cdot \\frac{1}{9} \\right)\n",
    "$$\n",
    "\n",
    "Und für die Innenträger:\n",
    "\n",
    "$$\n",
    "W_{a,123} = 4 \\cdot \\left( Q \\cdot 1 + Q \\cdot \\frac{1}{3} \\right)\n",
    "$$\n",
    "\n",
    "\n",
    "Sowie beträgt die innere Arbeit:\n",
    "\n",
    "$$\n",
    "W_i = 8 \\cdot \\left(M_u' + M_u\\right) \\cdot \\left(\\frac{1}{3l} +\\frac{1}{9l}\\right)\n",
    "$$\n",
    "\n",
    "Durch das abschliessende Gleichsetzen der Arbeiten und das Lösen nach $Q$ folgt der obere Grenzwert der Traglast zu:\n",
    "\n",
    "$$\n",
    "Q = \\frac{M_u + M_u'}{2 \\cdot l}\n",
    "$$\n",
    "\n",
    "Die Plastizitätskontrolle ist in der @fig-trm_schnitt_my gezeigt. Dabei wird eine Lastverteilung von je einer Hälfte $Q$ in $x$ und $y$ Richtung angenommen, welche sich nach vollständigem Umlagern der Biegemomente einstellt.\n",
    "\n",
    "![Plastizitätskontrolle anhand der Zustandslinien der Biegemomente des Stabausschnitts](../imgs/trm_schnitt_my.svg){#fig-trm_schnitt_my}\n",
    "\n",
    "\n",
    "Aus der Plastizitätskontrolle geht heraus, dass der Biegewiderstand nirgends überschritten ist. Somit deckt sich der untere und obere Grenzwert der Traglast, sprich die Traglast $Q_u$ ist gefunden. Die analytische Beziehung, mit den numerischen Eingabeparametern substituiert, zeigt die folgende Gleichung:\n",
    "\n",
    "\n"
   ]
  },
  {
   "cell_type": "code",
   "execution_count": 3,
   "metadata": {},
   "outputs": [
    {
     "data": {
      "text/markdown": [
       "$$\n",
       "\\begin{aligned}\n",
       "Q_{u}& = \\frac{M_{u} + {M}'_{u}}{2 \\cdot l} = 100.0 \\ \\mathrm{kN} \\end{aligned}\n",
       "$$"
      ],
      "text/plain": [
       "<IPython.core.display.Markdown object>"
      ]
     },
     "metadata": {},
     "output_type": "display_data"
    }
   ],
   "source": [
    "Q_u = (M_u + M_apos_u) / (2*l)\n",
    "\n",
    "put_out(symbolic=True, rows=1)"
   ]
  },
  {
   "cell_type": "markdown",
   "metadata": {},
   "source": [
    "## NLFE-Modell\n",
    "\n",
    "Die kompakte analytische Lösung gilt es nun mit dem NLFE-Modell zu approximieren. Das Modell ist in diesem Abschnitt beschrieben. Dazu ist die Systemmodellbildung und die Querschnittsmodellbildung erläutert. Abschliessend sind die Resultate aufgezeigt. "
   ]
  },
  {
   "cell_type": "markdown",
   "metadata": {},
   "source": [
    "### Systemmodellbildung"
   ]
  },
  {
   "cell_type": "markdown",
   "metadata": {},
   "source": [
    "Das System ist in starre Stäbe unterteilt und mit den Gelenken versehen. Die @fig-trm_geom zeigt das statische System. Die Einwirkung ist mit 120 kN modelliert.\n",
    "\n",
    "![Systemmodell des torsionsweichen Trägerrosts](../imgs/trm_system.svg){#fig-trm_geom}\n",
    "\n",
    "Ein detaillierter Ausschnitt des Modells zeigt die @fig-trm_detail_system. In dieser sind die Stabanfang- und Endgelenke eingezeichnet, sowie die Elementlänge $l_{El}$ vermasst.\n",
    "\n",
    "![Detailansicht des Trägerrosts mit Gelenken und vermasster Elementlänge](../imgs/trm_detail_system.svg){#fig-trm_detail_system}"
   ]
  },
  {
   "cell_type": "markdown",
   "metadata": {},
   "source": [
    "### Querschnittsmodellbildung\n",
    "\n",
    "Die Querschnittsmodellbildung zeigt die Ermittlung der Biegesteifigkeit und des Abbruchkriteriums auf.\n",
    "\n",
    "#### Biegesteifigkeit\n",
    "\n",
    "Die Biegesteifigkeit spielt beim Traglastverfahren eine Nebenrolle, da die Verformungen des Systems von keiner Bedeutung sind. Lediglich der Biegewiderstand ist von Interesse. Das Verhalten lässt sich mit einem ideal-plastischen Momenten-Krümmungs-Diagramm beschreiben. Aufgezeigt in der @fig-trm_m_chi a)."
   ]
  },
  {
   "cell_type": "code",
   "execution_count": 4,
   "metadata": {},
   "outputs": [],
   "source": [
    "# | echo: false\n",
    "\n",
    "radians = np.linspace(-0.2, 0.2, 100)\n",
    "M = np.piecewise(radians, [radians < 0, radians > 0], [-100, 100])\n",
    "\n",
    "fig, ax = plt.subplots()\n",
    "\n",
    "ax.plot(radians, M, linestyle=\"-\", color=\"k\")\n",
    "ax.plot(radians, radians * 0, color=\"gray\")\n",
    "\n",
    "# Set axis labels\n",
    "ax.set_xlabel(r\"$\\varphi$ [rad]\")\n",
    "ax.set_ylabel(r\"$M$ [kNm]\")\n",
    "\n",
    "# Set limits\n",
    "# ax.set_xlim([-0.2, 0.2])\n",
    "# ax.set_ylim([-101, 101])\n",
    "\n",
    "# Show the plot\n",
    "plt.tight_layout()\n",
    "# plt.savefig(\"imgs/trm_gelenkdef.svg\")\n",
    "plt.close()"
   ]
  },
  {
   "cell_type": "markdown",
   "metadata": {},
   "source": [
    "![Ideal-plastisches, a) Momenten-Krümmungs-Diagramm, b) Momenten-Verdrehungs-Diagramm](../imgs/trm_m_chi.svg){#fig-trm_m_chi}\n"
   ]
  },
  {
   "cell_type": "markdown",
   "metadata": {},
   "source": [
    "Das ideal-plastische Verhalten ist punktsymmetrisch um den Diagrammursprung. Das Verhalten gilt somit ebenfalls für negative Biegemomente. Die Momenten-Verdrehungs-Beziehung folgt aus der @eq-phi_to_chi_konst. Sämtliche Gelenke weisen die Beziehung gemäss der @fig-trm_m_chi b) auf.\n"
   ]
  },
  {
   "cell_type": "markdown",
   "metadata": {},
   "source": [
    "#### Abbruchkriterium\n",
    "\n",
    "Das Abbruchkriterium vereinfacht sich für das Traglastverfahren. Die Traglast stellt sich bei einer vollständigen Umlagerung sämtlicher Biegemomente ein. Die Traglast ist gefunden, wenn sich die Last nicht mehr steigern lässt. Das Rotationsvermögen ist nicht zu begrenzen."
   ]
  },
  {
   "cell_type": "markdown",
   "metadata": {},
   "source": [
    "### Resultate\n",
    "\n",
    "Mit der Querschnittsmodellbildung ist das System vollständig beschrieben. Es lässt sich analysieren und dessen Resultate ausgeben. Es sind das Last-Verformungs-Verhalten und die entsprechenden Zustandslinien der Biegemomente gezeigt.\n",
    "\n",
    "![Schematisches Last-Verformungs-Diagramm des Systems. Die auffallenden Steifigkeitsänderungen im System sind mit den entsprechenden Lastparametern markiert](../imgs/trm_q_w.svg){#fig-trm_q_w}\n",
    "\n",
    "Jeder Knick im Diagrammverlauf beschreibt die Bildung eines plastischen Gelenks. Die Zustandslinien der Biegemomente der entsprechenden Laststufen sind folgend gezeigt. Die @fig-trm_lpa1 zeigt das System bei einem Lastparameter von 0.477. Es bildet sich das erste plastische Gelenk bei den Auflagern der Innenträgern. Die @fig-trm_lpa2 zeigt die Bildung der plastischen Gelenke bei den Auflagern der Aussenträgern. Darauf folgt die Bildung der plastischen Gelenke im Feld der Innenträger, gezeigt in der @fig-trm_lpa3. Abschliessend zeigt die @fig-trm_lpa4 die Bildung der plastischen Gelenke im Feld der Aussenträger. Die Traglast ist damit erreicht, die Last lässt sich nicht weiter steigern. Der Verlauf in der @fig-trm_q_w verdeutlicht dies.\n",
    "\n",
    "![Qualitative Zustandslinien der Biegemomente des Systems beim Lastparameter 0.477](../imgs/trm_lpa1.svg){#fig-trm_lpa1}\n",
    "\n",
    "\n",
    "![Qualitative Zustandslinien der Biegemomente des Systems beim Lastparameter 0.747](../imgs/trm_lpa2.svg){#fig-trm_lpa2}\n",
    "\n",
    "\n",
    "![Qualitative Zustandslinien der Biegemomente des Systems beim Lastparameter 0.779](../imgs/trm_lpa3.svg){#fig-trm_lpa3}\n",
    "\n",
    "\n",
    "\n",
    "![Qualitative Zustandslinien der Biegemomente des Systems beim Lastparameter 0.833](../imgs/trm_lpa4.svg){#fig-trm_lpa4}"
   ]
  },
  {
   "cell_type": "markdown",
   "metadata": {},
   "source": [
    "Die Traglast stimmt mit der analytischen Lösung überein. Dies zeigt die folgende Gleichung. Es ist hervorzuheben, dass sich mit dem NLFE-Modell lediglich der untere Grenzwert der Traglast ermitteln lässt. Beim hier gewählten System fallen der obere und der untere Grenzwert jedoch zusammen.\n"
   ]
  },
  {
   "cell_type": "code",
   "execution_count": 5,
   "metadata": {},
   "outputs": [
    {
     "data": {
      "text/markdown": [
       "$$\n",
       "\\begin{aligned}\n",
       "Q_{u NLFE}& = 0.833 \\cdot 120 = 99.96 \\ \\mathrm{kN} \\\\ \n",
       "Q_{u}& = \\frac{M_{u} + {M}'_{u}}{2 \\cdot l} = 100.0 \\ \\mathrm{kN} \\end{aligned}\n",
       "$$"
      ],
      "text/plain": [
       "<IPython.core.display.Markdown object>"
      ]
     },
     "metadata": {},
     "output_type": "display_data"
    }
   ],
   "source": [
    "Q_u_NLFE = 0.833 * 120*un.kN\n",
    "\n",
    "Q_u\n",
    "\n",
    "put_out(symbolic=True, rows = 1)"
   ]
  },
  {
   "cell_type": "markdown",
   "metadata": {},
   "source": [
    "Das Anwendungsbeispiel zeigt, dass sich dreidimensionale Systeme problemlos modellieren lassen. Die Umlagerung der Biegemomente erfolgt auch im dreidimensionalen Raum. Die numerischen Resultate liegen zuverlässig nahe an der analytischen Lösung. Ausserdem können sämtliche Zustandslinien der Schnittgrössen für jede Laststufe dargestellt werden. Dies erhöht das Verständnis des Tragverhaltens.\n"
   ]
  },
  {
   "cell_type": "code",
   "execution_count": 6,
   "metadata": {},
   "outputs": [],
   "source": [
    "DF_trm = pd.read_excel('calc/axis_res.xlsx', sheet_name='trm')\n",
    "\n",
    "DF_trm['Lpa'] = DF_trm['Lpa']*120\n",
    "DF_trm['eZ_1 [mm]'] = DF_trm['eZ_1 [mm]']*-1"
   ]
  },
  {
   "cell_type": "code",
   "execution_count": 7,
   "metadata": {},
   "outputs": [
    {
     "name": "stderr",
     "output_type": "stream",
     "text": [
      "C:\\Users\\Pascal Gitz\\AppData\\Local\\Temp\\ipykernel_7616\\51049856.py:10: UserWarning: No artists with labels found to put in legend.  Note that artists whose label start with an underscore are ignored when legend() is called with no argument.\n",
      "  plt.legend()\n"
     ]
    }
   ],
   "source": [
    "fig_q_w, ax_q_w = plt.subplots(figsize=(14/2.54,5.4/2.54))\n",
    "\n",
    "\n",
    "ax_q_w.plot(DF_trm['eZ_1 [mm]'], DF_trm['Lpa'], color='black', linestyle='dashed')\n",
    "\n",
    "# Add labels and show the plot\n",
    "ax_q_w.set_ylabel(\"$q$ [kN/m]\")\n",
    "ax_q_w.set_xlabel(\"$w$ [mm]\")\n",
    "\n",
    "plt.legend()\n",
    "# Save the plot to the specified file\n",
    "# fig_q_w.savefig(\"imgs/trm_q_w.pdf\")\n",
    "plt.close()"
   ]
  }
 ],
 "metadata": {
  "kernelspec": {
   "display_name": "calc",
   "language": "python",
   "name": "python3"
  },
  "language_info": {
   "codemirror_mode": {
    "name": "ipython",
    "version": 3
   },
   "file_extension": ".py",
   "mimetype": "text/x-python",
   "name": "python",
   "nbconvert_exporter": "python",
   "pygments_lexer": "ipython3",
   "version": "3.11.9"
  }
 },
 "nbformat": 4,
 "nbformat_minor": 2
}
