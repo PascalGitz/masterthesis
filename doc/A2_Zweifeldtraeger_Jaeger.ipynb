{
 "cells": [
  {
   "cell_type": "markdown",
   "metadata": {},
   "source": [
    "# Analytische Lösung Zweifeldträgers{#sec-zweifeldtraeger_anhang}\n",
    "\n",
    "Die analytische Lösung des Zweifeldträgers zeigt die ausführlichen Berechnungen des Vorlesungsbeispiels."
   ]
  },
  {
   "cell_type": "markdown",
   "metadata": {},
   "source": [
    "## Parameter\n",
    "\n",
    "Zunächst sind die Parameter der Betonstähle, der Geometrie und des Betons aufgelistet."
   ]
  },
  {
   "cell_type": "code",
   "execution_count": 1,
   "metadata": {},
   "outputs": [],
   "source": [
    "from packages import *"
   ]
  },
  {
   "cell_type": "markdown",
   "metadata": {},
   "source": [
    "### Bewehrung\n",
    "\n",
    "Der Durchmesser und die Teilung der Bewehrung sind die folgenden:"
   ]
  },
  {
   "cell_type": "code",
   "execution_count": 2,
   "metadata": {},
   "outputs": [
    {
     "data": {
      "text/markdown": [
       "$$\n",
       "\\begin{aligned}\n",
       "\\oslash_{x}& = 14 \\ \\mathrm{mm} \\quad & s_{x}& = 200 \\ \\mathrm{mm} \\\\ \n",
       "\\oslash_{y}& = 14 \\ \\mathrm{mm} \\quad & s_{y}& = 200 \\ \\mathrm{mm} \\end{aligned}\n",
       "$$"
      ],
      "text/plain": [
       "<IPython.core.display.Markdown object>"
      ]
     },
     "metadata": {},
     "output_type": "display_data"
    }
   ],
   "source": [
    "# Längsbewehrung in X-Richtung gerichtet\n",
    "diam_x = 14 * un.mm\n",
    "\n",
    "# Teilung der Längsbewehrung\n",
    "s_x = 200 * un.mm\n",
    "\n",
    "# Längsbewehrung in Y-Richtung gerichtet\n",
    "diam_y = 14 * un.mm\n",
    "\n",
    "# Teilung der Längsbewehrung\n",
    "s_y = 200 * un.mm\n",
    "\n",
    "put_out(symbolic=False, rows = 2)"
   ]
  },
  {
   "cell_type": "markdown",
   "metadata": {},
   "source": [
    "Die Querschnittsfläche der Längsbewehrung für den Meterstreifen beträgt dabei:"
   ]
  },
  {
   "cell_type": "code",
   "execution_count": 3,
   "metadata": {},
   "outputs": [
    {
     "data": {
      "text/markdown": [
       "$$\n",
       "\\begin{aligned}\n",
       "a_{s}& = \\frac{\\oslash_{x}^{2} \\cdot \\pi}{4 \\cdot s_{x}} = 769.69 \\ \\frac{\\mathrm{mm}^{2}}{\\mathrm{m}} \\quad &  \\quad &  \n",
       " \\end{aligned}\n",
       "$$"
      ],
      "text/plain": [
       "<IPython.core.display.Markdown object>"
      ]
     },
     "metadata": {},
     "output_type": "display_data"
    }
   ],
   "source": [
    "# Querschnittsfläche der Längsbewehrung, pro Längeneinheit\n",
    "a_s = (diam_x**2 / 4 * np.pi / s_x).to(un.mm**2 / un.m)\n",
    "\n",
    "put_out(symbolic=True)"
   ]
  },
  {
   "cell_type": "markdown",
   "metadata": {},
   "source": [
    "### Geometrie\n",
    "\n",
    "Die Parameter der Geometrie beinhaltet die Betondeckung, die Plattenstärke, die Querschnittsbreite und die Balkenlänge:"
   ]
  },
  {
   "cell_type": "code",
   "execution_count": 4,
   "metadata": {},
   "outputs": [
    {
     "data": {
      "text/markdown": [
       "$$\n",
       "\\begin{aligned}\n",
       "c& = 20 \\ \\mathrm{mm} \\quad & h& = 300 \\ \\mathrm{mm} \\\\ \n",
       "b& = 1 \\ \\mathrm{m} \\quad & l& = 8 \\ \\mathrm{m} \\end{aligned}\n",
       "$$"
      ],
      "text/plain": [
       "<IPython.core.display.Markdown object>"
      ]
     },
     "metadata": {},
     "output_type": "display_data"
    }
   ],
   "source": [
    "# Betonüberdeckung\n",
    "c = 20 * un.mm\n",
    "\n",
    "# Plattenstärke\n",
    "h = 300 * un.mm\n",
    "\n",
    "# Streifenbreite\n",
    "b = 1 * un.m\n",
    "\n",
    "# Balkenlänge\n",
    "l = 8 * un.m\n",
    "\n",
    "\n",
    "put_out(rows= 2)"
   ]
  },
  {
   "cell_type": "markdown",
   "metadata": {},
   "source": [
    "Daraus lässt sich die statische Höhe der Längsbewehrung bestimmen:"
   ]
  },
  {
   "cell_type": "code",
   "execution_count": 5,
   "metadata": {},
   "outputs": [
    {
     "data": {
      "text/markdown": [
       "$$\n",
       "\\begin{aligned}\n",
       "d_{x}& = h - c - \\oslash_{y} - \\frac{\\oslash_{x}}{2} = 259.0 \\ \\mathrm{mm} \\quad &  \\quad &  \n",
       " \\end{aligned}\n",
       "$$"
      ],
      "text/plain": [
       "<IPython.core.display.Markdown object>"
      ]
     },
     "metadata": {},
     "output_type": "display_data"
    }
   ],
   "source": [
    "# Statische Höhe in der Bewehrung in X-Richtung\n",
    "d_x = h-c-diam_y - diam_x/2\n",
    "\n",
    "put_out(symbolic=True, evaluate=False)"
   ]
  },
  {
   "cell_type": "markdown",
   "metadata": {},
   "source": [
    "### Beton"
   ]
  },
  {
   "cell_type": "markdown",
   "metadata": {},
   "source": [
    "Der Beton ist mit der Zylinderdruckfestigkeit, Elastizitätsmodul und Bruchstauchung beschrieben."
   ]
  },
  {
   "cell_type": "code",
   "execution_count": 6,
   "metadata": {},
   "outputs": [
    {
     "data": {
      "text/markdown": [
       "$$\n",
       "\\begin{aligned}\n",
       "f_{cc}& = 30.0 \\ \\frac{\\mathrm{N}}{\\mathrm{mm}^{2}} \\quad & E_{c}& = 29.3 \\ \\frac{\\mathrm{kN}}{\\mathrm{mm}^{2}} \\quad & \\varepsilon_{cu}& = 5 \\ \\mathrm{‰} \\end{aligned}\n",
       "$$"
      ],
      "text/plain": [
       "<IPython.core.display.Markdown object>"
      ]
     },
     "metadata": {},
     "output_type": "display_data"
    }
   ],
   "source": [
    "# Zylinderdruckfestigkeit vorausgesetzt\n",
    "f_cc = 30 * un.N / un.mm**2\n",
    "\n",
    "# Elastizitätsmodul des Betons\n",
    "E_c = 29.3 * un.kN / un.mm**2\n",
    "\n",
    "# Bruchstauchung Erfahrungswert\n",
    "eps_cu = 5 * un.permille\n",
    "\n",
    "put_out()\n"
   ]
  },
  {
   "cell_type": "markdown",
   "metadata": {},
   "source": [
    "Mittels empirischen Ansätzen lassen sich die Betonzugfestigkeit und die Bauteildruckfestigkeit bestimmen."
   ]
  },
  {
   "cell_type": "code",
   "execution_count": 7,
   "metadata": {},
   "outputs": [
    {
     "data": {
      "text/markdown": [
       "$$\n",
       "\\begin{aligned}\n",
       "f_{ct}& = 0.3 \\cdot f_{cc}^{\\frac{2}{3}} = 2.9 \\ \\frac{\\mathrm{N}}{\\mathrm{mm}^{2}} \\\\ \n",
       "f_{c}& = 2.5 \\cdot f_{cc}^{\\frac{2}{3}} = 24.14 \\ \\frac{\\mathrm{N}}{\\mathrm{mm}^{2}} \\end{aligned}\n",
       "$$"
      ],
      "text/plain": [
       "<IPython.core.display.Markdown object>"
      ]
     },
     "metadata": {},
     "output_type": "display_data"
    }
   ],
   "source": [
    "# Betonzugfestigkeit, nicht einheitentreu\n",
    "f_ct = (0.3 * f_cc.m ** (2 / 3)) * un.N / un.mm**2\n",
    "\n",
    "# Effektive Betondruckfestigkeit, nicht einheitentreu\n",
    "f_c = (2.5 * f_cc.m ** (2 / 3)) * un.N / un.mm**2\n",
    "\n",
    "\n",
    "put_out(symbolic=True, evaluate=False, rows=1)"
   ]
  },
  {
   "cell_type": "markdown",
   "metadata": {},
   "source": [
    "### Zugversteifung\n",
    "\n",
    "Anhand der Betonzugfestigkeit ist die Schubspannungs-Schlupf-Beziehung zu definieren. Die Schubspannungen sind die folgenden."
   ]
  },
  {
   "cell_type": "code",
   "execution_count": 8,
   "metadata": {},
   "outputs": [
    {
     "data": {
      "text/markdown": [
       "$$\n",
       "\\begin{aligned}\n",
       "\\tau_{b0}& = 2 \\cdot f_{ct} = 5.79 \\ \\frac{\\mathrm{N}}{\\mathrm{mm}^{2}} \\quad & \\tau_{b1}& = f_{ct} = 2.9 \\ \\frac{\\mathrm{N}}{\\mathrm{mm}^{2}} \\end{aligned}\n",
       "$$"
      ],
      "text/plain": [
       "<IPython.core.display.Markdown object>"
      ]
     },
     "metadata": {},
     "output_type": "display_data"
    }
   ],
   "source": [
    "# Verbundschubspannung vor dem Fliessen\n",
    "tau_b0 = 2 * f_ct\n",
    "\n",
    "# Verbundschubspannung vor dem Fliessen\n",
    "tau_b1 = f_ct\n",
    "\n",
    "put_out(symbolic=True, rows=2)"
   ]
  },
  {
   "cell_type": "code",
   "execution_count": 9,
   "metadata": {},
   "outputs": [],
   "source": [
    "fig_tau_delta, ax_tau_delta = plt.subplots()\n",
    "\n",
    "delta_array = np.array([0,0.0001,5,5.0001,10, 10.0001])\n",
    "tau_array = np.array([0,tau_b0.m, tau_b0.m, tau_b1.m, tau_b1.m, 0])\n",
    "ax_tau_delta.plot(delta_array, tau_array, color='black')\n",
    "\n",
    "# Add labels and show the plot\n",
    "ax_tau_delta.set_ylabel(\"$\\\\tau$ [N/mm$^2$]\")\n",
    "ax_tau_delta.set_xlabel(\"$\\delta$\")\n",
    "ax_tau_delta.set_xticks([])# Save the plot to the specified file\n",
    "plt.savefig(\"imgs/jag_tau_delta.svg\")\n",
    "plt.close()"
   ]
  },
  {
   "cell_type": "markdown",
   "metadata": {},
   "source": [
    "Das Zugglied weist dabei die folgende Höhe, der entsprechende Bewehrungsgehalt und die daraus resultierenden Grenzen des Rissabstands auf. "
   ]
  },
  {
   "cell_type": "code",
   "execution_count": 10,
   "metadata": {},
   "outputs": [
    {
     "data": {
      "text/markdown": [
       "$$\n",
       "\\begin{aligned}\n",
       "h_{eff}& = 2 \\cdot \\left(h - d_{x}\\right) = 82.0 \\ \\mathrm{mm} \\\\ \n",
       "\\rho& = \\frac{a_{s}}{h_{eff}} = 0.94 \\ \\mathrm{\\%} \\\\ \n",
       "s_{r0}& = \\frac{\\oslash_{x} \\cdot \\left(1 - \\rho\\right)}{4 \\cdot \\rho} = 369.38 \\ \\mathrm{mm} \\\\ \n",
       "s_{rl}& = \\frac{s_{r0}}{2} = 184.69 \\ \\mathrm{mm} \\end{aligned}\n",
       "$$"
      ],
      "text/plain": [
       "<IPython.core.display.Markdown object>"
      ]
     },
     "metadata": {},
     "output_type": "display_data"
    }
   ],
   "source": [
    "# Abschätzung der mitwirkenden Höhe der Betonzugzone\n",
    "h_eff = 2 * (h - d_x)\n",
    "\n",
    "# Geometrischer Bewehrungsgehalt\n",
    "rho = (a_s / h_eff).to(un.percent)\n",
    "\n",
    "# maximaler Rissabstand\n",
    "s_r0 = (diam_x * (1 - rho) / (4 * rho)).to(un.mm)\n",
    "\n",
    "# minimaler Rissabstand\n",
    "s_rl = s_r0 / 2\n",
    "\n",
    "put_out(symbolic=True, rows=1, evaluate=False)"
   ]
  },
  {
   "cell_type": "markdown",
   "metadata": {},
   "source": [
    "Es ist naheliegend den Rissabstand entsprechend der Stabteilung zu wählen, da die Bewehrung eine Betonschwächung darstellt, sich somit die Risse bei den Schwachstellen bilden. Der verwendete Rissabstand ist schliesslich der folgende."
   ]
  },
  {
   "cell_type": "code",
   "execution_count": 11,
   "metadata": {},
   "outputs": [
    {
     "data": {
      "text/markdown": [
       "$$\n",
       "\\begin{aligned}\n",
       "s_{r}& = 200 \\ \\mathrm{mm} \\quad &  \\quad &  \n",
       " \\end{aligned}\n",
       "$$"
      ],
      "text/plain": [
       "<IPython.core.display.Markdown object>"
      ]
     },
     "metadata": {},
     "output_type": "display_data"
    }
   ],
   "source": [
    "s_r = 200 * un.mm\n",
    "\n",
    "put_out()"
   ]
  },
  {
   "cell_type": "code",
   "execution_count": 12,
   "metadata": {},
   "outputs": [],
   "source": [
    "# Bestimmung der mittleren Stahldehnung\n",
    "\n",
    "def eps_sm_bilinear(\n",
    "    E_s, E_sh, s_r, tau_b0, tau_b1, diam, sigma_sr, f_sy, f_su, epsilon_sy\n",
    "):\n",
    "    # display(Markdown(\"Berechnungen nach @marti_tragverhalten_1999 Seite 156\"))\n",
    "    if sigma_sr <= f_sy:\n",
    "        # display(Markdown(\"Gleichung 1\"))\n",
    "        return sigma_sr / E_s - tau_b0 * s_r / (E_s * diam)\n",
    "\n",
    "    if f_sy <= sigma_sr <= (f_sy + (2 * tau_b1 * s_r) / diam):\n",
    "        # display(Markdown(\"Gleichung 2\"))\n",
    "        return (\n",
    "            (sigma_sr - f_sy) ** 2\n",
    "            * diam\n",
    "            / (4 * E_sh * tau_b1 * s_r)\n",
    "            * (1 - E_sh * tau_b0 / (E_s * tau_b1))\n",
    "            + (sigma_sr - f_sy) / E_s * tau_b0 / tau_b1\n",
    "            + (epsilon_sy - tau_b0 * s_r / (E_s * diam))\n",
    "        )\n",
    "\n",
    "    if (f_sy + 2 * tau_b1 * s_r / diam) <= sigma_sr <= f_su:\n",
    "        # display(Markdown(\"Gleichung 3\"))\n",
    "        return (sigma_sr - f_sy) / E_sh + (epsilon_sy - tau_b1 * s_r / (E_sh * diam))\n",
    "    \n",
    "\n"
   ]
  },
  {
   "cell_type": "markdown",
   "metadata": {},
   "source": [
    "## Kaltverformter Betonstahl - B500A\n",
    "\n",
    "Die Berechnung des kaltverfomten Betonstahls startet mit den Eigenschaften des Betonstahls. Gefolgt von der Bestimmung der gerissenen Biegesteifigkeit mit zugehörigem Hebelarm der inneren Kräfte.\n",
    "\n",
    "Danach folgen die Grenzzustände des Zugglieds und die Systemanalyse. Die Systemanalyse beinhaltet 3 Zustände. \n",
    "\n",
    "### Eigenschaften des Betonstahls\n",
    "\n",
    "Die Eigenschaften für den Betonstahl B500A sind mit einem Index $A$ gekennzeichnet.\n"
   ]
  },
  {
   "cell_type": "code",
   "execution_count": 13,
   "metadata": {},
   "outputs": [
    {
     "data": {
      "text/markdown": [
       "$$\n",
       "\\begin{aligned}\n",
       "f_{sy , A}& = 570.0 \\ \\frac{\\mathrm{N}}{\\mathrm{mm}^{2}} \\quad & f_{su , A}& = 600.0 \\ \\frac{\\mathrm{N}}{\\mathrm{mm}^{2}} \\quad & \\varepsilon_{sy , A}& = 2.78 \\ \\mathrm{‰} \\\\ \n",
       "\\varepsilon_{su , A}& = 25 \\ \\mathrm{‰} \\quad & E_{s , A}& = 205.0 \\ \\frac{\\mathrm{kN}}{\\mathrm{mm}^{2}} \\quad & E_{sh , A}& = 1350.0 \\ \\frac{\\mathrm{N}}{\\mathrm{mm}^{2}} \\end{aligned}\n",
       "$$"
      ],
      "text/plain": [
       "<IPython.core.display.Markdown object>"
      ]
     },
     "metadata": {},
     "output_type": "display_data"
    }
   ],
   "source": [
    "# Fliessgrenze\n",
    "f_sy_com_A = 570 * un.N / un.mm**2\n",
    "\n",
    "# Zugfestigkeit\n",
    "f_su_com_A = 600 * un.N / un.mm**2\n",
    "\n",
    "# Fliessdehnung\n",
    "eps_sy_com_A = 2.78 * un.permille\n",
    "\n",
    "# Bruchdehnung\n",
    "eps_su_com_A = 25 * un.permille\n",
    "\n",
    "# Elastizitätsmodul\n",
    "E_s_com_A = 205 * un.kN / un.mm**2\n",
    "\n",
    "# Verfestigungsmodul\n",
    "E_sh_com_A = 1350 * un.N / un.mm**2\n",
    "\n",
    "put_out()"
   ]
  },
  {
   "cell_type": "markdown",
   "metadata": {},
   "source": [
    "Zusammengefasst sind die Eigenschaften im Spannungs-Dehnungs-Diagramm in der @fig-jag_stress_strain_b500a."
   ]
  },
  {
   "cell_type": "code",
   "execution_count": 14,
   "metadata": {},
   "outputs": [],
   "source": [
    "# | echo: false\n",
    "\n",
    "stress_b500a_array = np.array([0, f_sy_com_A.m, f_su_com_A.m]) * un.MPa\n",
    "strain_b500a_array = np.array([0, eps_sy_com_A, eps_su_com_A])\n",
    "\n",
    "fig_b500a, ax_b500a = plt.subplots()\n",
    "ax_b500a.plot(strain_b500a_array, stress_b500a_array.to(un.MPa).m, color=\"k\")\n",
    "\n",
    "# Scientific Notation if needed\n",
    "apply_scientific_notation(ax_b500a, stress_b500a_array.m)\n",
    "\n",
    "# Set axis labels\n",
    "ax_b500a.set_ylabel(r\"$\\sigma$ [N/mm$^2$]\")\n",
    "ax_b500a.set_xlabel(r\"$\\varepsilon_s$ [-]\")\n",
    "\n",
    "# Set limits\n",
    "ax_b500a.set_xlim(xmax=135 / 1000)\n",
    "ax_b500a.set_ylim(ymax=750)\n",
    "\n",
    "# Show the plot\n",
    "# plt.tight_layout()\n",
    "plt.savefig(\"imgs/jag_stress_strain_b500a.svg\")\n",
    "plt.close()"
   ]
  },
  {
   "cell_type": "markdown",
   "metadata": {},
   "source": [
    "### Gerissene Biegesteifigkeit\n",
    "\n",
    "Anhand der Querschnittsanalyse des Zustands $II$, gemäss der @fig-jag_qs_steifigkeit lässt sich die gerissene Biegesteifigkeit ermitteln.\n",
    "\n",
    "![Querschnittsanalyse für die gerissene Biegesteifigkeit, Beton völlig elastisch, Bewehrung maximal bei der Fliessspannung](../imgs/jag_qs_steifigkeit.svg){#fig-jag_qs_steifigkeit}\n"
   ]
  },
  {
   "cell_type": "markdown",
   "metadata": {},
   "source": [
    "Anhand der folgenden Wertigkeit lässt sich der Querschnitt als homogener Betonquerschnitt betrachten.\n"
   ]
  },
  {
   "cell_type": "code",
   "execution_count": 15,
   "metadata": {},
   "outputs": [
    {
     "data": {
      "text/markdown": [
       "$$\n",
       "\\begin{aligned}\n",
       "n& = \\frac{E_{s , A}}{E_{c}} = 7.0 \\  \\quad &  \\quad &  \n",
       " \\end{aligned}\n",
       "$$"
      ],
      "text/plain": [
       "<IPython.core.display.Markdown object>"
      ]
     },
     "metadata": {},
     "output_type": "display_data"
    }
   ],
   "source": [
    "# Wertigkeit der Elastizitätsmodule\n",
    "n = E_s_com_A / E_c\n",
    "\n",
    "put_out(symbolic=True)"
   ]
  },
  {
   "cell_type": "markdown",
   "metadata": {},
   "source": [
    "Mittels dem Gleichgewicht der horizontalen Kräfte folgt die Betondruckzone:"
   ]
  },
  {
   "cell_type": "code",
   "execution_count": 16,
   "metadata": {},
   "outputs": [],
   "source": [
    "# Mittels Sympy (CAS für Python) wird eine analytische Lösung der\n",
    "# Druckzonenhöhe für den gerissenen Querschnitt ermittelt.\n",
    "\n",
    "# Summe der horizontalen Kräfte\n",
    "sum_Fx = sp.sympify(\"1/2*x*b_w*sigma_c -sigma_s*a_s*b_w\")\n",
    "\n",
    "# Definition der Spannung in Abhängigkeit der Dehnungen\n",
    "expr_sigma_c = sp.sympify(\"eps_c * E_c\")\n",
    "expr_sigma_s = sp.sympify(\"eps_s * n * E_c\")\n",
    "\n",
    "# Die Beziehung zwischen der Stahl- und Betondehnung nach Hook\n",
    "expr_epsilon_c = sp.sympify(\"eps_s /(d-x)*x\")\n",
    "\n",
    "# Substitution der Gleichungen\n",
    "sum_Fx_subs = sum_Fx.subs(\n",
    "    {\n",
    "        \"sigma_c\": expr_sigma_c.subs(\"eps_c\", expr_epsilon_c),\n",
    "        \"sigma_s\": expr_sigma_s,\n",
    "    }\n",
    ")\n",
    "\n",
    "# Erstellen einer numerischen Funktion\n",
    "x_solve = sp.solve(sum_Fx_subs, \"x\")[1]\n",
    "x_solve_lambd = sp.lambdify((\"a_s\", \"b_w\", \"n\", \"d\"), x_solve)\n"
   ]
  },
  {
   "cell_type": "code",
   "execution_count": 17,
   "metadata": {},
   "outputs": [
    {
     "data": {
      "text/markdown": [
       "$$\n",
       "\\begin{aligned}\n",
       "x_{II}& = \\sqrt{a_{s} \\cdot n \\cdot \\left(a_{s} \\cdot n + 2 \\cdot d_{x}\\right)} - a_{s} \\cdot n = 47.7 \\ \\mathrm{mm} \\quad &  \\quad &  \n",
       " \\end{aligned}\n",
       "$$"
      ],
      "text/plain": [
       "<IPython.core.display.Markdown object>"
      ]
     },
     "metadata": {},
     "output_type": "display_data"
    }
   ],
   "source": [
    "\n",
    "x_II = (np.sqrt(a_s * n * (a_s*n + 2 * d_x))-a_s * n).to(un.mm)\n",
    "put_out(symbolic=True)"
   ]
  },
  {
   "cell_type": "markdown",
   "metadata": {},
   "source": [
    "Daraus folgt das Flächenträgheitsmoment:"
   ]
  },
  {
   "cell_type": "code",
   "execution_count": 18,
   "metadata": {},
   "outputs": [
    {
     "data": {
      "text/markdown": [
       "$$\n",
       "\\begin{aligned}\n",
       "I_{cII}& = \\frac{b \\cdot x_{II}^{3}}{12} + b \\cdot x_{II} \\cdot \\left(\\frac{x_{II}}{2}\\right)^{2} = 3618.8 \\ \\mathrm{cm}^{4} \\\\ \n",
       "I_{sII}& = a_{s} \\cdot b \\cdot n \\cdot \\left(d_{x} - x_{II}\\right)^{2} = 24042.6 \\ \\mathrm{cm}^{4} \\\\ \n",
       "I_{II}& = I_{cII} + I_{sII} = 27661.4 \\ \\mathrm{cm}^{4} \\end{aligned}\n",
       "$$"
      ],
      "text/plain": [
       "<IPython.core.display.Markdown object>"
      ]
     },
     "metadata": {},
     "output_type": "display_data"
    }
   ],
   "source": [
    "# Flächenmoment 2. Grades für den Beton\n",
    "I_cII = (b * x_II**3 / 12 + b * x_II * (x_II / 2) ** 2).to(un.cm**4)\n",
    "\n",
    "# Flächenmoment 2. Grades für den Betonstahl\n",
    "I_sII = (a_s * b * n * (d_x - x_II) ** 2).to(un.cm**4)\n",
    "\n",
    "# Flächenmoment 2. Grades für den gerissenen Querschnitt\n",
    "I_II = (I_cII + I_sII).to(un.cm**4)\n",
    "\n",
    "put_out(symbolic=True, rows=1, evaluate=False, precision=1)"
   ]
  },
  {
   "cell_type": "markdown",
   "metadata": {},
   "source": [
    "Und die gerissene Biegesteifigkeit bestimmt sich zu:"
   ]
  },
  {
   "cell_type": "code",
   "execution_count": 19,
   "metadata": {},
   "outputs": [
    {
     "data": {
      "text/markdown": [
       "$$\n",
       "\\begin{aligned}\n",
       "EI_{II , A}& = E_{c} \\cdot I_{II} = 8104.79 \\ \\mathrm{kN} \\cdot \\mathrm{m}^{2} \\quad &  \\quad &  \n",
       " \\end{aligned}\n",
       "$$"
      ],
      "text/plain": [
       "<IPython.core.display.Markdown object>"
      ]
     },
     "metadata": {},
     "output_type": "display_data"
    }
   ],
   "source": [
    "# Gerissene Biegesteifigkeit\n",
    "EI_II_com_A = (E_c * I_II).to(un.kN * un.m**2)\n",
    "\n",
    "put_out(symbolic=True)"
   ]
  },
  {
   "cell_type": "markdown",
   "metadata": {},
   "source": [
    "### Hebelarm der inneren Kräfte"
   ]
  },
  {
   "cell_type": "markdown",
   "metadata": {},
   "source": [
    "Der Hebelarm der inneren Kräfte gilt entlang des Trägers als konstant.\n",
    "Dabei ist dem Beton die Zylinderdruckfestigkeit hinterlegt, sowie erreicht der Stahl die Zugfestigkeit. Dargestellt ist der Querschnitt in der @fig-jag_qs_hebelarm.\n",
    "\n",
    "![Querschnittsanalyse zur Bestimmung des Hebelarms der inneren Kräfte, Stahl erreicht Zugfestigkeit, Beton ist völlig plastifiziert](../imgs/jag_qs_hebelarm.svg){#fig-jag_qs_hebelarm}"
   ]
  },
  {
   "cell_type": "markdown",
   "metadata": {},
   "source": [
    "Daraus resultiert die Druckzonenhöhe, der Hebelarm und der Biegewiderstand."
   ]
  },
  {
   "cell_type": "code",
   "execution_count": 20,
   "metadata": {},
   "outputs": [
    {
     "data": {
      "text/markdown": [
       "$$\n",
       "\\begin{aligned}\n",
       "x_{u , A}& = \\frac{a_{s} \\cdot b \\cdot f_{su , A}}{0.85 \\cdot f_{cc} \\cdot b} = 18.11 \\ \\mathrm{mm} \\\\ \n",
       "z_{, A}& = d_{x} - \\frac{0.85 \\cdot x_{u , A}}{2} = 251.3 \\ \\mathrm{mm} \\\\ \n",
       "m_{u , A}& = a_{s} \\cdot f_{su , A} \\cdot z_{, A} = 116.06 \\ \\frac{\\mathrm{kNm}}{\\mathrm{m}} \\end{aligned}\n",
       "$$"
      ],
      "text/plain": [
       "<IPython.core.display.Markdown object>"
      ]
     },
     "metadata": {},
     "output_type": "display_data"
    }
   ],
   "source": [
    "# Druckzonenhöhe für den Biegewiderstand\n",
    "x_u_com_A = (a_s * b * f_su_com_A / (0.85 * f_cc * b)).to(un.mm)\n",
    "\n",
    "# Hebelarm der inneren Kräfte für den Biegewiderstand\n",
    "z_com_A = d_x - 0.85 * x_u_com_A / 2 \n",
    "\n",
    "# Biegewiderstand\n",
    "m_u_com_A = (a_s * f_su_com_A * z_com_A).to(un.kNm / un.m)\n",
    "\n",
    "put_out(symbolic=True, evaluate=False, rows=1)"
   ]
  },
  {
   "cell_type": "markdown",
   "metadata": {},
   "source": [
    "### Grenzzustände des Zugglieds\n",
    "\n",
    "Nun folgen zwei Grenzzustände des Zugglieds. Zum Einen bei Fliessbeginn, zum anderen beim Erreichen der Zugfestigkeit des Betonstahls. Dies dient zur Bestimmung des Rotationsvermögens."
   ]
  },
  {
   "cell_type": "markdown",
   "metadata": {},
   "source": [
    "#### Zugglied bei Fliessbeginn - Zustand $A1$\n",
    "\n",
    "Setzt man die Fliessspannung an einem Ende des Zugglieds voraus, so folgen die Betonstahlspannungen im Zugglied zu:"
   ]
  },
  {
   "cell_type": "code",
   "execution_count": 21,
   "metadata": {},
   "outputs": [
    {
     "data": {
      "text/markdown": [
       "$$\n",
       "\\begin{aligned}\n",
       "\\sigma_{1 s , A1}& = f_{sy , A} = 570.0 \\ \\frac{\\mathrm{N}}{\\mathrm{mm}^{2}} \\\\ \n",
       "\\sigma_{2 s , A1}& = f_{sy , A} - \\frac{4 \\cdot \\tau_{b0} \\cdot s_{r}}{2 \\cdot \\oslash_{x}} = 404.49 \\ \\frac{\\mathrm{N}}{\\mathrm{mm}^{2}} \\end{aligned}\n",
       "$$"
      ],
      "text/plain": [
       "<IPython.core.display.Markdown object>"
      ]
     },
     "metadata": {},
     "output_type": "display_data"
    }
   ],
   "source": [
    "# Stahlspannungen\n",
    "sigma_1_s_com_A1 = f_sy_com_A\n",
    "sigma_2_s_com_A1 = f_sy_com_A - 4 * tau_b0 * s_r / 2 / diam_x\n",
    "\n",
    "put_out(symbolic=True, rows=1)"
   ]
  },
  {
   "cell_type": "markdown",
   "metadata": {},
   "source": [
    "Die folgenden Dehnungen stellen sich dabei ein:"
   ]
  },
  {
   "cell_type": "code",
   "execution_count": 22,
   "metadata": {},
   "outputs": [
    {
     "data": {
      "text/markdown": [
       "$$\n",
       "\\begin{aligned}\n",
       "\\varepsilon_{1 s , A1}& = \\frac{\\sigma_{1 s , A1}}{E_{s , A}} = 2.78 \\ \\mathrm{‰} \\\\ \n",
       "\\varepsilon_{2 s , A1}& = \\frac{\\sigma_{2 s , A1}}{E_{s , A}} = 1.97 \\ \\mathrm{‰} \\end{aligned}\n",
       "$$"
      ],
      "text/plain": [
       "<IPython.core.display.Markdown object>"
      ]
     },
     "metadata": {},
     "output_type": "display_data"
    }
   ],
   "source": [
    "\n",
    "# Stahldehnungen\n",
    "eps_1_s_com_A1 = (sigma_1_s_com_A1 / E_s_com_A).to(un.permille)\n",
    "eps_2_s_com_A1 = (sigma_2_s_com_A1 / E_s_com_A).to(un.permille)\n",
    "\n",
    "put_out(symbolic=True, rows=1)"
   ]
  },
  {
   "cell_type": "markdown",
   "metadata": {},
   "source": [
    "Über das gesamte Zugglied stellt sich die folgende mittlere Dehnung ein. Berechnungen nach @marti_tragverhalten_1999 Seite 156."
   ]
  },
  {
   "cell_type": "code",
   "execution_count": 23,
   "metadata": {},
   "outputs": [
    {
     "data": {
      "text/markdown": [
       "$$\n",
       "\\begin{aligned}\n",
       "\\varepsilon_{s m , A1}& = 2.38 \\ \\mathrm{‰} \\quad &  \\quad &  \n",
       " \\end{aligned}\n",
       "$$"
      ],
      "text/plain": [
       "<IPython.core.display.Markdown object>"
      ]
     },
     "metadata": {},
     "output_type": "display_data"
    }
   ],
   "source": [
    "# Mittlere Stahldehnung nach \n",
    "eps_s_m_com_A1 = eps_sm_bilinear(E_s_com_A, E_sh_com_A, s_r, tau_b0, tau_b1, diam_x, f_sy_com_A, f_sy_com_A, f_su_com_A, eps_sy_com_A).to(un.permille)\n",
    "\n",
    "put_out()\n"
   ]
  },
  {
   "cell_type": "markdown",
   "metadata": {},
   "source": [
    "Das Fliessmoment beträgt dabei:"
   ]
  },
  {
   "cell_type": "code",
   "execution_count": 24,
   "metadata": {},
   "outputs": [
    {
     "data": {
      "text/markdown": [
       "$$\n",
       "\\begin{aligned}\n",
       "m_{y , A}& = a_{s} \\cdot f_{sy , A} \\cdot z_{, A} = 110.25 \\ \\frac{\\mathrm{kNm}}{\\mathrm{m}} \\quad &  \\quad &  \n",
       " \\end{aligned}\n",
       "$$"
      ],
      "text/plain": [
       "<IPython.core.display.Markdown object>"
      ]
     },
     "metadata": {},
     "output_type": "display_data"
    }
   ],
   "source": [
    "# Fliessmoment\n",
    "m_y_com_A = (a_s * f_sy_com_A * z_com_A).to(un.kNm / un.m)\n",
    "\n",
    "put_out(symbolic=True)"
   ]
  },
  {
   "cell_type": "markdown",
   "metadata": {},
   "source": [
    "Die @fig-jag_zustand_a1 zeigt das Verhalten entlang des Zugglieds."
   ]
  },
  {
   "cell_type": "code",
   "execution_count": 25,
   "metadata": {},
   "outputs": [],
   "source": [
    "# | echo: false\n",
    "\n",
    "\n",
    "def plot_stress_strain(\n",
    "    coordinates,\n",
    "    filename,\n",
    "    strain_mean=0,\n",
    "    strain=False,\n",
    "    stress=True,\n",
    "):\n",
    "\n",
    "    # Plot the polygon\n",
    "    x, y = zip(*coordinates)  # Unzip the coordinates into x and y\n",
    "\n",
    "    fig, ax = plt.subplots()\n",
    "\n",
    "    if strain == True:\n",
    "        stress = False\n",
    "        y = np.array(y)*1000  # Convert to permille\n",
    "        xlabel = r\"$x$ [mm]\"\n",
    "        permille = '$10^{-3}$'\n",
    "        ylabel = rf\"$\\varepsilon$ [{permille}]\"\n",
    "        \n",
    "        # Append the first point to close the polygon\n",
    "        x = np.append(x, x[0])\n",
    "        y = np.append(y, y[0])\n",
    "\n",
    "        # Plot the coordinates\n",
    "        ax.plot(x, y, \"black\")\n",
    "        ax.fill(x, y, color=\"darkgray\", alpha=0.2)\n",
    "        ax.axhline(strain_mean, linestyle='--', color = 'black')\n",
    "\n",
    "    if stress == True:\n",
    "        xlabel = r\"$x$ [mm]\"\n",
    "        ylabel = r\"$\\sigma$ [N/mm$^2$]\"\n",
    "        \n",
    "        # Append the first point to close the polygon\n",
    "        x = np.append(x, x[0])\n",
    "        y = np.append(y, y[0])\n",
    "\n",
    "        # Plot the coordinates\n",
    "        ax.plot(x, y, \"black\")\n",
    "\n",
    "\n",
    "    # Add labels and show the plot\n",
    "    ax.set_ylabel(ylabel)\n",
    "    ax.set_xlabel(xlabel)\n",
    "\n",
    "    # Save the plot to the specified file\n",
    "    plt.savefig(filename)\n",
    "    plt.close()\n"
   ]
  },
  {
   "cell_type": "code",
   "execution_count": 26,
   "metadata": {},
   "outputs": [],
   "source": [
    "# | echo: false\n",
    "\n",
    "coords_a1_stress = [\n",
    "    (0, 0),\n",
    "    (s_r.m / 2, 0),\n",
    "    (s_r.m / 2, sigma_2_s_com_A1.m),\n",
    "    (0, sigma_1_s_com_A1.m),\n",
    "]\n",
    "\n",
    "plot_stress_strain(coords_a1_stress, \"imgs/jag_stress_a1.svg\", stress=True)\n",
    "\n",
    "\n",
    "coords_a1_strain = [\n",
    "    (0, 0),\n",
    "    (s_r.m / 2, 0),\n",
    "    (s_r.m / 2, eps_2_s_com_A1),\n",
    "    (0, eps_1_s_com_A1),\n",
    "]\n",
    "\n",
    "plot_stress_strain(coords_a1_strain, \"imgs/jag_strain_a1.svg\", strain=True,strain_mean=eps_s_m_com_A1.m)"
   ]
  },
  {
   "cell_type": "markdown",
   "metadata": {},
   "source": [
    "![a) Spannungsverlauf b) Dehnungsverlauf innerhalb des halben Zugglieds des Zustands $A1$](../imgs/jag_A1_zugglied.svg){#fig-jag_zustand_a1}\n"
   ]
  },
  {
   "cell_type": "markdown",
   "metadata": {},
   "source": [
    "#### Zugglied beim Erreichen der Zugfestigkeit - Zustand $A2$\n",
    "\n",
    "Innerhalb des Zugglieds befindet sich der Betonstahl über der Fliessgrenze, sowohl bereichsweise unterhalb der Fliessgrenze. Dazu gilt es zunächst den plastischen Bereich zu bestimmen:"
   ]
  },
  {
   "cell_type": "code",
   "execution_count": 27,
   "metadata": {},
   "outputs": [
    {
     "data": {
      "text/markdown": [
       "$$\n",
       "\\begin{aligned}\n",
       "\\Delta_{x pl , A2}& = \\frac{f_{su , A} - f_{sy , A}}{4 \\cdot \\tau_{b1} \\cdot \\frac{1}{\\oslash_{x}}} = 36.25 \\ \\mathrm{mm} \\\\ \n",
       "\\Delta_{x el , A2}& = \\frac{s_{r}}{2} - \\Delta_{x pl , A2} = 63.75 \\ \\mathrm{mm} \\end{aligned}\n",
       "$$"
      ],
      "text/plain": [
       "<IPython.core.display.Markdown object>"
      ]
     },
     "metadata": {},
     "output_type": "display_data"
    }
   ],
   "source": [
    "# Plastischer Bereich\n",
    "Delta_x_pl_com_A2 = (f_su_com_A - f_sy_com_A) / (4 * tau_b1 / diam_x)\n",
    "\n",
    "# Elastischer Bereich\n",
    "Delta_x_el_com_A2 = s_r / 2 - Delta_x_pl_com_A2\n",
    "\n",
    "put_out(symbolic=True, evaluate=False, rows=1)"
   ]
  },
  {
   "cell_type": "markdown",
   "metadata": {},
   "source": [
    "Setzt man die Fliessspannung zwischen dem elastischen und plastischem Bereich voraus, stellen sich die folgenden Betonstahlspannungen ein:"
   ]
  },
  {
   "cell_type": "code",
   "execution_count": 28,
   "metadata": {},
   "outputs": [
    {
     "data": {
      "text/markdown": [
       "$$\n",
       "\\begin{aligned}\n",
       "\\sigma_{3 s , A2}& = f_{sy , A} - \\frac{4 \\cdot \\tau_{b0} \\cdot \\Delta_{x el , A2}}{\\oslash_{x}} = 464.49 \\ \\frac{\\mathrm{N}}{\\mathrm{mm}^{2}} \\\\ \n",
       "\\sigma_{2 s , A2}& = f_{sy , A} = 570.0 \\ \\frac{\\mathrm{N}}{\\mathrm{mm}^{2}} \\\\ \n",
       "\\sigma_{1 s , A2}& = f_{sy , A} + \\frac{4 \\cdot \\tau_{b1} \\cdot \\Delta_{x pl , A2}}{\\oslash_{x}} = 600.0 \\ \\frac{\\mathrm{N}}{\\mathrm{mm}^{2}} \\end{aligned}\n",
       "$$"
      ],
      "text/plain": [
       "<IPython.core.display.Markdown object>"
      ]
     },
     "metadata": {},
     "output_type": "display_data"
    }
   ],
   "source": [
    "# Stahlspannungen\n",
    "sigma_3_s_com_A2 = f_sy_com_A - 4 * tau_b0 * Delta_x_el_com_A2 / diam_x\n",
    "sigma_2_s_com_A2 = f_sy_com_A\n",
    "sigma_1_s_com_A2 = f_sy_com_A + 4 * tau_b1 * Delta_x_pl_com_A2 / diam_x\n",
    "\n",
    "put_out(symbolic=True, rows=1)"
   ]
  },
  {
   "cell_type": "markdown",
   "metadata": {},
   "source": [
    "Die folgenden Dehnungen resultieren daraus:"
   ]
  },
  {
   "cell_type": "code",
   "execution_count": 29,
   "metadata": {},
   "outputs": [
    {
     "data": {
      "text/markdown": [
       "$$\n",
       "\\begin{aligned}\n",
       "\\varepsilon_{1 s , A2}& = \\varepsilon_{su , A} = 25 \\ \\mathrm{‰} \\\\ \n",
       "\\varepsilon_{2 s , A2}& = \\varepsilon_{sy , A} = 2.78 \\ \\mathrm{‰} \\\\ \n",
       "\\varepsilon_{3 s , A2}& = \\frac{\\sigma_{3 s , A2}}{E_{s , A}} = 2.27 \\ \\mathrm{‰} \\end{aligned}\n",
       "$$"
      ],
      "text/plain": [
       "<IPython.core.display.Markdown object>"
      ]
     },
     "metadata": {},
     "output_type": "display_data"
    }
   ],
   "source": [
    "\n",
    "# Stahldehnung\n",
    "eps_1_s_com_A2 = eps_su_com_A\n",
    "eps_2_s_com_A2 = eps_sy_com_A\n",
    "eps_3_s_com_A2 = (sigma_3_s_com_A2 / E_s_com_A).to(un.permille)\n",
    "\n",
    "put_out(symbolic=True, rows=1, evaluate=False)"
   ]
  },
  {
   "cell_type": "markdown",
   "metadata": {},
   "source": [
    "Und die mittlere Stahldehnung beträgt dabei:"
   ]
  },
  {
   "cell_type": "code",
   "execution_count": 30,
   "metadata": {},
   "outputs": [
    {
     "data": {
      "text/markdown": [
       "$$\n",
       "\\begin{aligned}\n",
       "\\varepsilon_{s m , A2}& = 6.64 \\ \\mathrm{‰} \\quad &  \\quad &  \n",
       " \\end{aligned}\n",
       "$$"
      ],
      "text/plain": [
       "<IPython.core.display.Markdown object>"
      ]
     },
     "metadata": {},
     "output_type": "display_data"
    }
   ],
   "source": [
    "# Mittlere Stahldehnung\n",
    "eps_s_m_com_A2 = eps_sm_bilinear(\n",
    "    E_s_com_A, E_sh_com_A, s_r, tau_b0, tau_b1, diam_x, f_su_com_A, f_sy_com_A, f_su_com_A, eps_sy_com_A\n",
    ").to(un.permille)\n",
    "\n",
    "put_out()"
   ]
  },
  {
   "cell_type": "markdown",
   "metadata": {},
   "source": [
    "Zusammengefasst ist das Spannungs- und Dehnungsverhalten für das halbe Zugglied in der @fig-jag_zustand_a2. "
   ]
  },
  {
   "cell_type": "code",
   "execution_count": 31,
   "metadata": {},
   "outputs": [],
   "source": [
    "# | echo: false\n",
    "\n",
    "coords_A2_stress = [\n",
    "    (0, 0), \n",
    "    (Delta_x_pl_com_A2.m, 0), \n",
    "    (s_r.m / 2, 0), \n",
    "    (s_r.m / 2, sigma_3_s_com_A2.m), \n",
    "    (Delta_x_pl_com_A2.m, sigma_2_s_com_A2.m),\n",
    "    (0, sigma_1_s_com_A2.m)\n",
    "    ]\n",
    "\n",
    "plot_stress_strain(coords_A2_stress, \"imgs/jag_stress_a2.svg\", stress=True)\n",
    "\n",
    "\n",
    "coords_Z2_strain = [\n",
    "    (0, 0),\n",
    "    (Delta_x_pl_com_A2.m, 0),\n",
    "    (s_r.m / 2, 0),\n",
    "    (s_r.m / 2, eps_3_s_com_A2),\n",
    "    (Delta_x_pl_com_A2.m, eps_2_s_com_A2),\n",
    "    (0, eps_1_s_com_A2),\n",
    "]\n",
    "\n",
    "plot_stress_strain(coords_Z2_strain, \"imgs/jag_strain_a2.svg\", strain=True, strain_mean=eps_s_m_com_A2.m)"
   ]
  },
  {
   "cell_type": "markdown",
   "metadata": {},
   "source": [
    "![a) Spannungsverlauf b) Dehnungsverlauf innerhalb des halben Zugglieds des Zustands $A2$](../imgs/jag_A2_zugglied.svg){#fig-jag_zustand_a2}"
   ]
  },
  {
   "cell_type": "markdown",
   "metadata": {},
   "source": [
    "#### Zusammenfassung\n",
    "\n",
    "Die folgenden Resultate fassen die Grenzzustandsbetrachtung des Zugglieds ab:"
   ]
  },
  {
   "cell_type": "code",
   "execution_count": 32,
   "metadata": {},
   "outputs": [
    {
     "data": {
      "text/markdown": [
       "$$\n",
       "\\begin{aligned}\n",
       "\\varepsilon_{s m , A1}& = 2.38 \\ \\mathrm{‰} \\quad & m_{y , A}& = 110.25 \\ \\frac{\\mathrm{kNm}}{\\mathrm{m}} \\\\ \n",
       "\\varepsilon_{s m , A2}& = 6.64 \\ \\mathrm{‰} \\quad & m_{u , A}& = 116.06 \\ \\frac{\\mathrm{kNm}}{\\mathrm{m}} \\end{aligned}\n",
       "$$"
      ],
      "text/plain": [
       "<IPython.core.display.Markdown object>"
      ]
     },
     "metadata": {},
     "output_type": "display_data"
    }
   ],
   "source": [
    "eps_s_m_com_A1\n",
    "m_y_com_A\n",
    "eps_s_m_com_A2\n",
    "m_u_com_A\n",
    "\n",
    "\n",
    "put_out(symbolic=False, rows=2)"
   ]
  },
  {
   "cell_type": "markdown",
   "metadata": {},
   "source": [
    "### Systemanalyse \n",
    "\n",
    "Die Systemanalyse gliedert sich in drei Zustände. Das System beim Fliessen des Mittelauflagers, das System beim Fliessbeginn im Feld und das System mit begrenzter plastischer Rotation über dem Mittelauflager. \n",
    "\n",
    "<!-- Das Systemverhalten der drei Zustände zeigt die @fig-jag_plast_rot_A.\n",
    "\n",
    "![Definition der plastischen Rotation beim Mittelauflager. Links ein Fliessen beim Mittelauflager führt zu keiner plastischen Rotation, in der Mitte die maximale Rotation zum Erreichen der Traglast, und rechts die effektive Traglast mit begrenzter Plastischer Rotation](../imgs/jag_plast_rot_A.svg){#fig-jag_plast_rot_A} -->\n"
   ]
  },
  {
   "cell_type": "markdown",
   "metadata": {},
   "source": [
    "#### Fliessen des Mittelauflagers - Zustand $SA1$\n",
    "\n",
    "Setzt man beim Mittelauflager das Fliessmoment voraus, so stellen sich die folgenden Grössen ein."
   ]
  },
  {
   "cell_type": "code",
   "execution_count": 33,
   "metadata": {},
   "outputs": [
    {
     "data": {
      "text/markdown": [
       "$$\n",
       "\\begin{aligned}\n",
       "m_{SA1 , B}& = m_{y , A} = 110.25 \\ \\frac{\\mathrm{kNm}}{\\mathrm{m}} \\\\ \n",
       "q_{SA1}& = \\frac{8 \\cdot m_{SA1 , B} \\cdot b}{l^{2}} = 13.78 \\ \\frac{\\mathrm{kN}}{\\mathrm{m}} \\\\ \n",
       "w_{SA1}& = \\frac{5 \\cdot q_{SA1} \\cdot l^{4}}{384 \\cdot EI_{II , A}} - \\frac{m_{y , A} \\cdot b \\cdot l^{2}}{16 \\cdot EI_{II , A}} = 36.28 \\ \\mathrm{mm} \\end{aligned}\n",
       "$$"
      ],
      "text/plain": [
       "<IPython.core.display.Markdown object>"
      ]
     },
     "metadata": {},
     "output_type": "display_data"
    }
   ],
   "source": [
    "m_SA1_com_B = m_y_com_A\n",
    "# Die Streckenlast zum Erreichen des Fliessens bei B\n",
    "q_SA1 = (8 * m_SA1_com_B*b / l**2).to(un.kN/un.m)\n",
    "\n",
    "\n",
    "# maximale Verformung im Feld \n",
    "w_SA1 = (5 * q_SA1 * l**4 / (384 * EI_II_com_A) - m_y_com_A*b * l**2 / (16 * EI_II_com_A)).to(un.mm)\n",
    "\n",
    "put_out(symbolic=True, evaluate=False, rows=1)"
   ]
  },
  {
   "cell_type": "markdown",
   "metadata": {},
   "source": [
    "#### Fliessbeginn im Feld - Zustand $SA2$\n",
    "\n",
    "Setzt man beim Mittelauflager den Biegewiderstand voraus, sowie im Feld das Fliessmoment, stellen sich die folgenden Grössen ein. Illustriert ist dies in der @fig-jag_my_feld_A.\n",
    "\n",
    "![Statisches System mit Biegemomenteneinwirkung beim Mittelauflager, sowie entsprechende Biegemomentenverteilung](../imgs/jag_my_feld_A.svg){#fig-jag_my_feld_A}"
   ]
  },
  {
   "cell_type": "markdown",
   "metadata": {},
   "source": [
    "Daraus lässt sich die entsprechende Streckenlast ermitteln. Dies bedingt eine ausreichende Umlagerung, sprich Rotationsvermögen des Mittelauflagers."
   ]
  },
  {
   "cell_type": "code",
   "execution_count": 34,
   "metadata": {},
   "outputs": [
    {
     "data": {
      "text/markdown": [
       "$$\n",
       "\\begin{aligned}\n",
       "q_{SA2}& = \\left(\\frac{4 \\cdot m_{y , A} + 2 \\cdot m_{u , A}}{l^{2}} + \\frac{4 \\cdot \\sqrt{m_{y , A}^{2} + m_{y , A} \\cdot m_{u , A}}}{l^{2}}\\right) \\cdot b = 20.39 \\ \\frac{\\mathrm{kN}}{\\mathrm{m}} \\end{aligned}\n",
       "$$"
      ],
      "text/plain": [
       "<IPython.core.display.Markdown object>"
      ]
     },
     "metadata": {},
     "output_type": "display_data"
    }
   ],
   "source": [
    "# Streckenlast beim Fliessbeginn im Feld\n",
    "q_SA2 = (((4 * m_y_com_A + 2 * m_u_com_A) / l**2 + 4 / l**2 * np.sqrt(m_y_com_A**2 + m_y_com_A * m_u_com_A))*b).to(un.kN/un.m)\n",
    "\n",
    "put_out(symbolic=True, evaluate=False, rows=1)\n"
   ]
  },
  {
   "cell_type": "markdown",
   "metadata": {},
   "source": [
    "##### Kontrolle der Duktilität\n",
    "\n",
    "Es gilt zu kontrollieren ob sich die vorausgesetzten Biegemomente einstellen können. Dazu ist der Rotationsbedarf mit dem Rotationsvermögen zu vergleichen. Der Bedarf ist der folgende."
   ]
  },
  {
   "cell_type": "code",
   "execution_count": 35,
   "metadata": {},
   "outputs": [
    {
     "data": {
      "text/markdown": [
       "$$\n",
       "\\begin{aligned}\n",
       "\\alpha_{SA2}& = \\frac{\\left(q_{SA2} - q_{SA1}\\right) \\cdot l^{3}}{24 \\cdot EI_{II , A}} - \\frac{\\left(m_{u , A} - m_{y , A}\\right) \\cdot b \\cdot l}{3 \\cdot EI_{II , A}} = 0.89 \\ \\mathrm{°} \\\\ \n",
       "\\varphi_{SA2 , erf}& = 2 \\cdot \\alpha_{SA2} = 1.77 \\ \\mathrm{°} \\end{aligned}\n",
       "$$"
      ],
      "text/plain": [
       "<IPython.core.display.Markdown object>"
      ]
     },
     "metadata": {},
     "output_type": "display_data"
    }
   ],
   "source": [
    "# Rotationswinkel (Verwendung der Arbeitsgleichung)\n",
    "alpha_SA2 = ((q_SA2 - q_SA1) * l**3 / (24 * EI_II_com_A) - (m_u_com_A - m_y_com_A) * b * l / (3 * EI_II_com_A)).to(un.deg)\n",
    "\n",
    "# Verformungsbedarf\n",
    "varphi_SA2_com_erf = 2 * alpha_SA2\n",
    "\n",
    "\n",
    "put_out(symbolic=True, evaluate=False, rows=1)"
   ]
  },
  {
   "cell_type": "markdown",
   "metadata": {},
   "source": [
    "Mit den Näherungsformeln zur Bestimmung der plastischen Rotation im Gelenk, gemäss der @sec-abbruchkriterium, stellen sich die folgenden Grössen ein."
   ]
  },
  {
   "cell_type": "code",
   "execution_count": 36,
   "metadata": {},
   "outputs": [
    {
     "data": {
      "text/markdown": [
       "$$\n",
       "\\begin{aligned}\n",
       "l_{pl}& = 2 \\cdot d_{x} = 518.0 \\ \\mathrm{mm} \\\\ \n",
       "\\varphi_{max , A}& = \\frac{l_{pl} \\cdot \\left(\\varepsilon_{s m , A2} - \\varepsilon_{s m , A1}\\right)}{d_{x} - x_{u , A}} = 0.53 \\ \\mathrm{°} \\\\ \n",
       "\\Delta_{\\varphi , SA2}& = \\varphi_{max , A} - \\varphi_{SA2 , erf} = -1.25 \\ \\mathrm{°} \\end{aligned}\n",
       "$$"
      ],
      "text/plain": [
       "<IPython.core.display.Markdown object>"
      ]
     },
     "metadata": {},
     "output_type": "display_data"
    }
   ],
   "source": [
    "# Annahme für die Länge des Gelenks\n",
    "l_pl = 2 * d_x\n",
    "\n",
    "# Verformungsvermögen\n",
    "varphi_max_com_A = (l_pl * (eps_s_m_com_A2 - eps_s_m_com_A1) / (d_x - x_u_com_A)).to(un.deg)\n",
    "\n",
    "Delta_varphi_com_SA2 = varphi_max_com_A - varphi_SA2_com_erf \n",
    "\n",
    "put_out(symbolic=True, rows=1)"
   ]
  },
  {
   "cell_type": "markdown",
   "metadata": {},
   "source": [
    "Das Rotationsvermögen ist nicht ausreichend, das Tragwerk versagt bevor sich die berechnete Streckenlast einstellt."
   ]
  },
  {
   "cell_type": "markdown",
   "metadata": {},
   "source": [
    "#### Ermittlung der Traglast - Zustand $SA3$\n",
    "\n",
    "Die Traglast ist somit sicherlich kleiner als die des Zustands $SA2$. Setzt man den Verdrehwinkel anhand des Verformungsvermögens voraus, so stellen sich die folgenden Grössen ein. Dem Zustand ist die Streckenlast aus dem Zustand $SA1$ zu überlagern."
   ]
  },
  {
   "cell_type": "code",
   "execution_count": 37,
   "metadata": {},
   "outputs": [
    {
     "data": {
      "text/markdown": [
       "$$\n",
       "\\begin{aligned}\n",
       "\\alpha_{SA3}& = \\frac{\\varphi_{max , A}}{2} = 0.26 \\ \\mathrm{°} \\\\ \n",
       "\\Delta_{q , SA3}& = \\left(\\alpha_{SA3} + \\frac{\\left(m_{u , A} - m_{y , A}\\right) \\cdot l \\cdot b}{3 \\cdot EI_{II , A}}\\right) \\cdot 24 \\cdot EI_{II , A} \\cdot \\frac{1}{l^{3}} = 2.47 \\ \\frac{\\mathrm{kN}}{\\mathrm{m}} \\\\ \n",
       "q_{SA3}& = \\Delta_{q , SA3} + q_{SA1} = 16.25 \\ \\frac{\\mathrm{kN}}{\\mathrm{m}} \\end{aligned}\n",
       "$$"
      ],
      "text/plain": [
       "<IPython.core.display.Markdown object>"
      ]
     },
     "metadata": {},
     "output_type": "display_data"
    }
   ],
   "source": [
    "# maximaler Rotationswinkel\n",
    "alpha_SA3 = varphi_max_com_A / 2\n",
    "\n",
    "# Streckenlast bis zum maximalen Rotationswinkel\n",
    "Delta_q_com_SA3 = ((alpha_SA3 + (m_u_com_A - m_y_com_A) * l * b / (3 * EI_II_com_A)) * 24 * EI_II_com_A / l**3).to(un.kN / un.m)\n",
    "\n",
    "# Traglast für B500A\n",
    "q_SA3 = Delta_q_com_SA3 + q_SA1\n",
    "\n",
    "put_out(symbolic=True, evaluate=False, rows=1)"
   ]
  },
  {
   "cell_type": "markdown",
   "metadata": {},
   "source": [
    "Dabei stellt sich im Feld ein Biegemoment ein, welches deutlich kleiner als das Fliessmoment ist."
   ]
  },
  {
   "cell_type": "code",
   "execution_count": 38,
   "metadata": {},
   "outputs": [],
   "source": [
    "expr = sp.sympify('(4* m_u  + 2 *m_u_apos)/l**2 + 4 / l**2 *sqrt(m_u**2+m_u*m_u_apos)-q')\n",
    "\n",
    "m_SA3_analytical = sp.solve(expr, 'm_u')[0]\n"
   ]
  },
  {
   "cell_type": "code",
   "execution_count": 39,
   "metadata": {},
   "outputs": [
    {
     "data": {
      "text/markdown": [
       "$$\n",
       "\\begin{aligned}\n",
       "m_{SA3 , F}& = \\frac{\\frac{l^{2} \\cdot q_{SA3}}{8} - \\frac{m_{u , A} \\cdot b}{2} + \\frac{\\left(m_{u , A} \\cdot b\\right)^{2}}{2 \\cdot l^{2} \\cdot q_{SA3}}}{b} = 78.45 \\ \\frac{\\mathrm{kNm}}{\\mathrm{m}} \\quad &  \\quad &  \n",
       " \\end{aligned}\n",
       "$$"
      ],
      "text/plain": [
       "<IPython.core.display.Markdown object>"
      ]
     },
     "metadata": {},
     "output_type": "display_data"
    }
   ],
   "source": [
    "\n",
    "m_SA3_com_F = ((l**2*q_SA3 / 8 - m_u_com_A*b / 2 + (m_u_com_A*b)**2 / (2*l**2*q_SA3))/b).to(un.kNm/un.m)\n",
    "\n",
    "put_out(symbolic=True, evaluate=False)\n"
   ]
  },
  {
   "cell_type": "markdown",
   "metadata": {},
   "source": [
    "Die dazugehörigen Felddurchbiegung zeigt die folgende Berechnung."
   ]
  },
  {
   "cell_type": "code",
   "execution_count": 40,
   "metadata": {},
   "outputs": [
    {
     "data": {
      "text/markdown": [
       "$$\n",
       "\\begin{aligned}\n",
       "w_{SA3}& = \\frac{5 \\cdot q_{SA3} \\cdot l^{4}}{384 \\cdot EI_{II , A}} - \\frac{m_{u , A} \\cdot b \\cdot l^{2}}{16 \\cdot EI_{II , A}} = 49.65 \\ \\mathrm{mm} \\quad &  \\quad &  \n",
       " \\end{aligned}\n",
       "$$"
      ],
      "text/plain": [
       "<IPython.core.display.Markdown object>"
      ]
     },
     "metadata": {},
     "output_type": "display_data"
    }
   ],
   "source": [
    "# maximale Verformung im Feld\n",
    "w_SA3 = (5 * q_SA3 * l**4 / (384 * EI_II_com_A) - m_u_com_A * b * l**2 / (16 * EI_II_com_A)).to(un.mm)\n",
    "\n",
    "put_out(symbolic=True, evaluate=False)"
   ]
  },
  {
   "cell_type": "markdown",
   "metadata": {},
   "source": [
    "#### Zusammenfassung\n",
    "\n",
    "Die Grössen des zwei signifikanten Zustände sind hier erneut aufgelistet."
   ]
  },
  {
   "cell_type": "code",
   "execution_count": 41,
   "metadata": {},
   "outputs": [
    {
     "data": {
      "text/markdown": [
       "$$\n",
       "\\begin{aligned}\n",
       "q_{SA1}& = 13.78 \\ \\frac{\\mathrm{kN}}{\\mathrm{m}} \\quad & w_{SA1}& = 36.28 \\ \\mathrm{mm} \\quad & m_{SA1 , B}& = 110.25 \\ \\frac{\\mathrm{kNm}}{\\mathrm{m}} \\\\ \n",
       "q_{SA3}& = 16.25 \\ \\frac{\\mathrm{kN}}{\\mathrm{m}} \\quad & w_{SA3}& = 49.65 \\ \\mathrm{mm} \\quad & m_{SA3 , F}& = 78.45 \\ \\frac{\\mathrm{kNm}}{\\mathrm{m}} \\end{aligned}\n",
       "$$"
      ],
      "text/plain": [
       "<IPython.core.display.Markdown object>"
      ]
     },
     "metadata": {},
     "output_type": "display_data"
    }
   ],
   "source": [
    "q_SA1\n",
    "w_SA1\n",
    "m_SA1_com_B\n",
    "\n",
    "q_SA3\n",
    "w_SA3\n",
    "m_SA3_com_F\n",
    "\n",
    "\n",
    "put_out(symbolic=False, rows = 3)"
   ]
  },
  {
   "cell_type": "code",
   "execution_count": 42,
   "metadata": {},
   "outputs": [],
   "source": [
    "l_El = 0.1*un.m\n",
    "\n",
    "# put_out()"
   ]
  },
  {
   "cell_type": "code",
   "execution_count": 43,
   "metadata": {},
   "outputs": [],
   "source": [
    "\n",
    "# m_y_com_A\n",
    "# m_u_com_A\n",
    "\n",
    "\n",
    "# put_out(symbolic=True, rows = 1)"
   ]
  },
  {
   "cell_type": "code",
   "execution_count": 44,
   "metadata": {},
   "outputs": [],
   "source": [
    "EI_II_com_A\n",
    "chi_y_com_A = (m_y_com_A*b / EI_II_com_A).to(1/un.m)\n",
    "chi_u_com_A = (eps_s_m_com_A2 / (d_x - x_u_com_A)).to(1/un.m)\n",
    "# put_out(symbolic=True, rows = 1, precision=3)"
   ]
  },
  {
   "cell_type": "code",
   "execution_count": 45,
   "metadata": {},
   "outputs": [],
   "source": [
    "momente_b500a = np.array([0, m_y_com_A.m, m_u_com_A.m])\n",
    "\n",
    "chi_b500a = np.array([0, chi_y_com_A.m, chi_u_com_A.m])\n",
    "\n",
    "\n",
    "fig_m_chi_b500a, ax_m_chi_b500a = plt.subplots()\n",
    "\n",
    "\n",
    "ax_m_chi_b500a.plot(chi_b500a, momente_b500a, color='black')\n",
    "\n",
    "# Add labels and show the plot\n",
    "ax_m_chi_b500a.set_ylabel(\"$M$ [kNm]\")\n",
    "ax_m_chi_b500a.set_xlabel(\"$\\chi$ [1/m]\")\n",
    "\n",
    "# Save the plot to the specified file\n",
    "plt.savefig(\"imgs/jag_m_chi_b500a.svg\")\n",
    "plt.close()"
   ]
  },
  {
   "cell_type": "code",
   "execution_count": 46,
   "metadata": {},
   "outputs": [],
   "source": [
    "varphi_y_com_A = (chi_y_com_A * (l_El/2)).to(un.rad)\n",
    "varphi_u_com_A = (chi_u_com_A * l_El/2).to(un.rad)\n",
    "\n",
    "# put_out(symbolic=True, precision = 5, rows = 1)\n",
    "\n"
   ]
  },
  {
   "cell_type": "code",
   "execution_count": 47,
   "metadata": {},
   "outputs": [],
   "source": [
    "momente_b500a = np.array([0, m_y_com_A.m, m_u_com_A.m, m_u_com_A.m])\n",
    "\n",
    "phi_b500a = np.array([0, varphi_y_com_A.m, varphi_u_com_A.m,varphi_u_com_A.m*1.5])\n",
    "\n",
    "\n",
    "fig_m_phi_b500a, ax_m_phi_b500a = plt.subplots()\n",
    "\n",
    "\n",
    "ax_m_phi_b500a.plot(phi_b500a, momente_b500a, color='black')\n",
    "\n",
    "# Add labels and show the plot\n",
    "ax_m_phi_b500a.set_ylabel(\"$M$ [kNm]\")\n",
    "ax_m_phi_b500a.set_xlabel(\"$\\\\varphi$ [rad]\")\n",
    "\n",
    "# Save the plot to the specified file\n",
    "plt.savefig(\"imgs/jag_m_phi_b500a.svg\")\n",
    "plt.close()"
   ]
  },
  {
   "cell_type": "code",
   "execution_count": 48,
   "metadata": {},
   "outputs": [],
   "source": [
    "varphi_max_com_A = varphi_max_com_A.to(un.rad)\n",
    "# put_out(symbolic=False, rows = 1, precision=4)"
   ]
  },
  {
   "cell_type": "code",
   "execution_count": 49,
   "metadata": {},
   "outputs": [],
   "source": [
    "n = (l_pl / l_El).to(un.los)\n",
    "\n",
    "# put_out(symbolic=True, rows = 1, precision=0)"
   ]
  },
  {
   "cell_type": "markdown",
   "metadata": {},
   "source": [
    "{{<pagebreak>}}\n",
    "\n",
    "## Naturharter Betonstahl B500C\n",
    "\n",
    "Die Berechnungen für des naturharten Betonstahl sind analog deren des kaltverformten Betonstahls. Zunächst sind die Eigenschaften des Betonstahls aufgelistet, danach folgt die Grenzzustandsanalyse des Zugglieds und abschliessend die Systemanalyse.\n",
    "\n",
    "### Eigenschaften des Betonstahls\n",
    "\n",
    "Die Eigenschaften des Betonstahls B500C sind mit einem Index $C$ gekennzeichnet."
   ]
  },
  {
   "cell_type": "code",
   "execution_count": 50,
   "metadata": {},
   "outputs": [
    {
     "data": {
      "text/markdown": [
       "$$\n",
       "\\begin{aligned}\n",
       "f_{sy , C}& = 500.0 \\ \\frac{\\mathrm{N}}{\\mathrm{mm}^{2}} \\quad & f_{su , C}& = 600.0 \\ \\frac{\\mathrm{N}}{\\mathrm{mm}^{2}} \\quad & \\varepsilon_{sy , C}& = 2.44 \\ \\mathrm{‰} \\\\ \n",
       "\\varepsilon_{sh , C}& = 20 \\ \\mathrm{‰} \\quad & \\varepsilon_{su , C}& = 125 \\ \\mathrm{‰} \\quad & E_{s , C}& = 205.0 \\ \\frac{\\mathrm{kN}}{\\mathrm{mm}^{2}} \\\\ \n",
       "E_{sh , C}& = 952.0 \\ \\frac{\\mathrm{N}}{\\mathrm{mm}^{2}} \\quad &  \\quad &  \n",
       " \\end{aligned}\n",
       "$$"
      ],
      "text/plain": [
       "<IPython.core.display.Markdown object>"
      ]
     },
     "metadata": {},
     "output_type": "display_data"
    }
   ],
   "source": [
    "f_sy_com_C = 500 * un.N / un.mm**2  # Fliessgrenze\n",
    "f_su_com_C = 600 * un.N / un.mm**2  # Zugfestigkeit\n",
    "eps_sy_com_C = 2.439 * un.permille  # Fliessdehnung\n",
    "eps_sh_com_C = 20 * un.permille  # Dehnung bei Verfestigungsbeginn\n",
    "eps_su_com_C = 125 * un.permille  # Bruchdehnung\n",
    "E_s_com_C= 205 * un.kN / un.mm**2  # Elastizitätsmodul\n",
    "E_sh_com_C = 952 * un.N / un.mm**2  # Verfestigungsmodul\n",
    "\n",
    "put_out()"
   ]
  },
  {
   "cell_type": "markdown",
   "metadata": {},
   "source": [
    "Die @fig-jag_stress_strain_b500c fasst die Eigenschaften zusammen."
   ]
  },
  {
   "cell_type": "code",
   "execution_count": 51,
   "metadata": {},
   "outputs": [],
   "source": [
    "# | echo: false\n",
    "\n",
    "stress_C_array = np.array([0, f_sy_com_C.m, f_sy_com_C.m, f_su_com_C.m]) * un.MPa\n",
    "strain_C_array = np.array([0, eps_sy_com_C, eps_sh_com_C, eps_su_com_C])\n",
    "\n",
    "\n",
    "fig_b500c, ax_b500c = plt.subplots()\n",
    "\n",
    "ax_b500c.plot(strain_C_array, stress_C_array.to(un.MPa).m, color=\"k\")\n",
    "\n",
    "\n",
    "# Set axis labels\n",
    "ax_b500c.set_ylabel(r\"$\\sigma$ [N/mm$^2$]\")\n",
    "ax_b500c.set_xlabel(r\"$\\varepsilon_s$ [-]\")\n",
    "\n",
    "# Set limits\n",
    "ax_b500c.set_xlim(xmax=135 / 1000)\n",
    "ax_b500c.set_ylim(ymax=750)\n",
    "\n",
    "# Show the plot\n",
    "# plt.tight_layout()\n",
    "plt.savefig(\"imgs/jag_stress_strain_b500c.svg\")\n",
    "plt.close()"
   ]
  },
  {
   "cell_type": "markdown",
   "metadata": {},
   "source": [
    "### Gernzzustände des Zugglieds\n",
    "\n",
    "Das Zugglied ist beim Fliessbeginn und beim Erreichen der Zugfestigkeit zu analysieren."
   ]
  },
  {
   "cell_type": "markdown",
   "metadata": {},
   "source": [
    "#### Zugglied bei Fliessbeginn - Zustand $C1$\n",
    "\n",
    "Setzt man die Fliessspannung des Betonstahls beim Riss voraus, so resultieren die folgenden Betonstahlspannungen."
   ]
  },
  {
   "cell_type": "code",
   "execution_count": 52,
   "metadata": {},
   "outputs": [
    {
     "data": {
      "text/markdown": [
       "$$\n",
       "\\begin{aligned}\n",
       "\\sigma_{1 s , C1}& = f_{sy , C} = 500.0 \\ \\frac{\\mathrm{N}}{\\mathrm{mm}^{2}} \\\\ \n",
       "\\sigma_{2 s , C1}& = f_{sy , C} - \\frac{4 \\cdot \\tau_{b0} \\cdot s_{r}}{2 \\cdot \\oslash_{x}} = 334.49 \\ \\frac{\\mathrm{N}}{\\mathrm{mm}^{2}} \\end{aligned}\n",
       "$$"
      ],
      "text/plain": [
       "<IPython.core.display.Markdown object>"
      ]
     },
     "metadata": {},
     "output_type": "display_data"
    }
   ],
   "source": [
    "# Stahlspannungen\n",
    "sigma_1_s_com_C1 = f_sy_com_C\n",
    "sigma_2_s_com_C1 = f_sy_com_C - 4 * tau_b0 * s_r / 2 / diam_x\n",
    "\n",
    "put_out(symbolic=True, rows = 1)"
   ]
  },
  {
   "cell_type": "markdown",
   "metadata": {},
   "source": [
    "Dabei stellen sich die folgenden Dehnungen ein:"
   ]
  },
  {
   "cell_type": "code",
   "execution_count": 53,
   "metadata": {},
   "outputs": [
    {
     "data": {
      "text/markdown": [
       "$$\n",
       "\\begin{aligned}\n",
       "\\varepsilon_{1 s , C1}& = \\frac{\\sigma_{1 s , C1}}{E_{s , C}} = 2.44 \\ \\mathrm{‰} \\\\ \n",
       "\\varepsilon_{2 s , C1}& = \\frac{\\sigma_{2 s , C1}}{E_{s , C}} = 1.63 \\ \\mathrm{‰} \\end{aligned}\n",
       "$$"
      ],
      "text/plain": [
       "<IPython.core.display.Markdown object>"
      ]
     },
     "metadata": {},
     "output_type": "display_data"
    }
   ],
   "source": [
    "# Stahldehnungen\n",
    "eps_1_s_com_C1 = (sigma_1_s_com_C1 / E_s_com_C).to(un.permille)\n",
    "eps_2_s_com_C1 = (sigma_2_s_com_C1 / E_s_com_C).to(un.permille)\n",
    "\n",
    "put_out(symbolic=True, rows=1)"
   ]
  },
  {
   "cell_type": "markdown",
   "metadata": {},
   "source": [
    "Nach @alvarez_einfluss_1998 Seite 163 lässt sich dich mittlere Dehnung für eine trilineare Betonstahlkennlinie bestimmen."
   ]
  },
  {
   "cell_type": "code",
   "execution_count": 54,
   "metadata": {},
   "outputs": [
    {
     "data": {
      "text/markdown": [
       "$$\n",
       "\\begin{aligned}\n",
       "\\varepsilon_{m s , C1}& = 2.04 \\ \\mathrm{‰} \\quad &  \\quad &  \n",
       " \\end{aligned}\n",
       "$$"
      ],
      "text/plain": [
       "<IPython.core.display.Markdown object>"
      ]
     },
     "metadata": {},
     "output_type": "display_data"
    }
   ],
   "source": [
    "# Mittlere Stahldehnung beim Fliessen\n",
    "eps_m_s_com_C1 = (eps_sm_bilinear(E_s_com_C, E_sh_com_C, s_r, tau_b0, tau_b1, diam_x, sigma_1_s_com_C1, f_sy_com_C, f_su_com_C, eps_sy_com_C)).to(un.permille)\n",
    "put_out()"
   ]
  },
  {
   "cell_type": "markdown",
   "metadata": {},
   "source": [
    "Das Fliessmoment lässt sich folgend bestimmen."
   ]
  },
  {
   "cell_type": "code",
   "execution_count": 55,
   "metadata": {},
   "outputs": [
    {
     "data": {
      "text/markdown": [
       "$$\n",
       "\\begin{aligned}\n",
       "m_{y , C}& = a_{s} \\cdot f_{sy , C} \\cdot z_{, A} = 96.71 \\ \\frac{\\mathrm{kNm}}{\\mathrm{m}} \\quad &  \\quad &  \n",
       " \\end{aligned}\n",
       "$$"
      ],
      "text/plain": [
       "<IPython.core.display.Markdown object>"
      ]
     },
     "metadata": {},
     "output_type": "display_data"
    }
   ],
   "source": [
    "# Fliessmoment\n",
    "m_y_com_C = (a_s * f_sy_com_C * z_com_A).to(un.kNm/un.m)\n",
    "\n",
    "put_out(symbolic=True)"
   ]
  },
  {
   "cell_type": "markdown",
   "metadata": {},
   "source": [
    "Die @fig-jag_zustand_c1 zeigt das Spannungs- und Dehnungsverhalten entlang des halben Zugglieds."
   ]
  },
  {
   "cell_type": "code",
   "execution_count": 56,
   "metadata": {},
   "outputs": [],
   "source": [
    "# | echo: false\n",
    "\n",
    "coords_c1_stress = [\n",
    "    (0, 0),\n",
    "    (s_r.m / 2, 0),\n",
    "    (s_r.m / 2, sigma_2_s_com_C1.m),\n",
    "    (0, sigma_1_s_com_C1.m),\n",
    "]\n",
    "\n",
    "plot_stress_strain(coords_c1_stress, \"imgs/jag_stress_c1.svg\", stress=True)\n",
    "\n",
    "\n",
    "coords_c1_strain = [\n",
    "    (0, 0),\n",
    "    (s_r.m / 2, 0),\n",
    "    (s_r.m / 2, eps_2_s_com_C1),\n",
    "    (0, eps_1_s_com_C1),\n",
    "]\n",
    "\n",
    "plot_stress_strain(coords_c1_strain, \"imgs/jag_strain_c1.svg\", strain=True,strain_mean=eps_m_s_com_C1.m)"
   ]
  },
  {
   "cell_type": "markdown",
   "metadata": {},
   "source": [
    "![a) Spannungsverlauf b) Dehnungsverlauf innerhalb des halben Zugglieds des Zustands $C1$](../imgs/jag_C1_zugglied.svg){#fig-jag_zustand_c1}"
   ]
  },
  {
   "cell_type": "markdown",
   "metadata": {},
   "source": [
    "#### Zugglied beim Erreichen der Zugfestigkeit - Zustand $C2$\n",
    "\n",
    "Setzt man dem Zugglied die Zugfestigkeit voraus, so verbleibt das gesamte Zugglied im plastischen Bereich. Es stellen sich die folgenden Spannungen ein."
   ]
  },
  {
   "cell_type": "code",
   "execution_count": 57,
   "metadata": {},
   "outputs": [
    {
     "data": {
      "text/markdown": [
       "$$\n",
       "\\begin{aligned}\n",
       "\\sigma_{1 s , C2}& = f_{su , C} = 600.0 \\ \\frac{\\mathrm{N}}{\\mathrm{mm}^{2}} \\\\ \n",
       "\\sigma_{2 s , C2}& = f_{su , C} - \\frac{4 \\cdot \\tau_{b1} \\cdot s_{r}}{\\oslash_{x} \\cdot 2} = 517.24 \\ \\frac{\\mathrm{N}}{\\mathrm{mm}^{2}} \\end{aligned}\n",
       "$$"
      ],
      "text/plain": [
       "<IPython.core.display.Markdown object>"
      ]
     },
     "metadata": {},
     "output_type": "display_data"
    }
   ],
   "source": [
    "# Stahlspannung zwischen den Rissen\n",
    "sigma_1_s_com_C2 = f_su_com_C\n",
    "sigma_2_s_com_C2 = f_su_com_C - 4 * tau_b1 / diam_x * s_r / 2\n",
    "\n",
    "put_out(symbolic=True, rows =1)"
   ]
  },
  {
   "cell_type": "markdown",
   "metadata": {},
   "source": [
    "Die Dehnungen sind die folgenden."
   ]
  },
  {
   "cell_type": "code",
   "execution_count": 58,
   "metadata": {},
   "outputs": [
    {
     "data": {
      "text/markdown": [
       "$$\n",
       "\\begin{aligned}\n",
       "\\varepsilon_{1 s , C2}& = \\frac{\\sigma_{2 s , C2} - f_{sy , C}}{E_{sh , C}} + \\varepsilon_{sh , C} = 38.11 \\ \\mathrm{‰} \\\\ \n",
       "\\varepsilon_{2 s , C2}& = \\varepsilon_{su , C} = 125 \\ \\mathrm{‰} \\end{aligned}\n",
       "$$"
      ],
      "text/plain": [
       "<IPython.core.display.Markdown object>"
      ]
     },
     "metadata": {},
     "output_type": "display_data"
    }
   ],
   "source": [
    "\n",
    "# Stahldehnung zwischen den Rissen\n",
    "eps_1_s_com_C2 = ((sigma_2_s_com_C2 - f_sy_com_C) / E_sh_com_C + eps_sh_com_C).to(un.permille)\n",
    "eps_2_s_com_C2 = eps_su_com_C\n",
    "\n",
    "put_out(symbolic=True, rows=1)"
   ]
  },
  {
   "cell_type": "markdown",
   "metadata": {},
   "source": [
    "Und die mittlere Stahldehnung lässt sich ebenfalls bestimmen."
   ]
  },
  {
   "cell_type": "code",
   "execution_count": 59,
   "metadata": {},
   "outputs": [
    {
     "data": {
      "text/markdown": [
       "$$\n",
       "\\begin{aligned}\n",
       "\\varepsilon_{m s , C2}& = 81.56 \\ \\mathrm{‰} \\quad &  \\quad &  \n",
       " \\end{aligned}\n",
       "$$"
      ],
      "text/plain": [
       "<IPython.core.display.Markdown object>"
      ]
     },
     "metadata": {},
     "output_type": "display_data"
    }
   ],
   "source": [
    "\n",
    "eps_m_s_com_C2 = (eps_1_s_com_C2 + eps_2_s_com_C2) / 2\n",
    "\n",
    "put_out()"
   ]
  },
  {
   "cell_type": "markdown",
   "metadata": {},
   "source": [
    "Abschliessend ist zu kontrollieren, ob der Betonstahl die Zugfestigkeit erreichen kann, oder sich ein frühzeitiges Betondruckversagen einstellt. Die mittlere Betonstahldehnung führt zur folgenden Betonstauchung, welche grösser als die Bruchstauchung ist. "
   ]
  },
  {
   "cell_type": "code",
   "execution_count": 60,
   "metadata": {},
   "outputs": [
    {
     "data": {
      "text/markdown": [
       "$$\n",
       "\\begin{aligned}\n",
       "\\varepsilon_{c , C2}& = \\frac{\\varepsilon_{m s , C2} \\cdot x_{u , A}}{d_{x} - x_{u , A}} = 6.13 \\ \\mathrm{‰} \\quad & \\varepsilon_{cu}& = 5 \\ \\mathrm{‰} \\quad &  \n",
       " \\end{aligned}\n",
       "$$"
      ],
      "text/plain": [
       "<IPython.core.display.Markdown object>"
      ]
     },
     "metadata": {},
     "output_type": "display_data"
    }
   ],
   "source": [
    "# Betonstauchung\n",
    "eps_c_com_C2 = eps_m_s_com_C2 / (d_x - x_u_com_A) * x_u_com_A\n",
    "\n",
    "eps_cu\n",
    "\n",
    "put_out(symbolic=True)"
   ]
  },
  {
   "cell_type": "markdown",
   "metadata": {},
   "source": [
    "Die mittlere Betonstahldehung ist folglich anhand der begrenzten Betonstauchung zu berechnen. "
   ]
  },
  {
   "cell_type": "code",
   "execution_count": 61,
   "metadata": {},
   "outputs": [
    {
     "data": {
      "text/markdown": [
       "$$\n",
       "\\begin{aligned}\n",
       "\\varepsilon_{m s , adm}& = \\frac{\\varepsilon_{cu} \\cdot \\left(d_{x} - x_{u , A}\\right)}{x_{u , A}} = 66.51 \\ \\mathrm{‰} \\quad &  \\quad &  \n",
       " \\end{aligned}\n",
       "$$"
      ],
      "text/plain": [
       "<IPython.core.display.Markdown object>"
      ]
     },
     "metadata": {},
     "output_type": "display_data"
    }
   ],
   "source": [
    "eps_m_s_com_adm = eps_cu * (d_x - x_u_com_A)/x_u_com_A\n",
    "put_out(symbolic=True)\n"
   ]
  },
  {
   "cell_type": "markdown",
   "metadata": {},
   "source": [
    "Damit folgen die Dehnungen für diesen Zustand zu:"
   ]
  },
  {
   "cell_type": "code",
   "execution_count": 62,
   "metadata": {},
   "outputs": [
    {
     "data": {
      "text/markdown": [
       "$$\n",
       "\\begin{aligned}\n",
       "\\varepsilon_{1 s , C2}& = \\varepsilon_{m s , adm} + \\frac{s_{r} \\cdot \\tau_{b1}}{E_{sh , C} \\cdot \\oslash_{x}} = 109.97 \\ \\mathrm{‰} \\\\ \n",
       "\\varepsilon_{2 s , C2}& = \\varepsilon_{m s , adm} - \\frac{s_{r} \\cdot \\tau_{b1}}{E_{sh , C} \\cdot \\oslash_{x}} = 23.04 \\ \\mathrm{‰} \\end{aligned}\n",
       "$$"
      ],
      "text/plain": [
       "<IPython.core.display.Markdown object>"
      ]
     },
     "metadata": {},
     "output_type": "display_data"
    }
   ],
   "source": [
    "# Stahldehnung zwischen den Rissen\n",
    "eps_1_s_com_C2 = eps_m_s_com_adm + tau_b1 * 4* s_r/4 / (diam_x*E_sh_com_C)\n",
    "eps_2_s_com_C2 = eps_m_s_com_adm - tau_b1 * 4 * s_r/4/ (diam_x*E_sh_com_C)\n",
    "\n",
    "put_out(symbolic=True, rows = 1, evaluate=True)"
   ]
  },
  {
   "cell_type": "markdown",
   "metadata": {},
   "source": [
    "Und daraus folgen die Spannungen."
   ]
  },
  {
   "cell_type": "code",
   "execution_count": 63,
   "metadata": {},
   "outputs": [
    {
     "data": {
      "text/markdown": [
       "$$\n",
       "\\begin{aligned}\n",
       "\\sigma_{1 s , C2}& = f_{sy , C} + \\left(\\varepsilon_{1 s , C2} - \\varepsilon_{sh , C}\\right) \\cdot E_{sh , C} = 585.65 \\ \\frac{\\mathrm{N}}{\\mathrm{mm}^{2}} \\\\ \n",
       "\\sigma_{2 s , C2}& = f_{sy , C} + \\left(\\varepsilon_{2 s , C2} - \\varepsilon_{sh , C}\\right) \\cdot E_{sh , C} = 502.9 \\ \\frac{\\mathrm{N}}{\\mathrm{mm}^{2}} \\end{aligned}\n",
       "$$"
      ],
      "text/plain": [
       "<IPython.core.display.Markdown object>"
      ]
     },
     "metadata": {},
     "output_type": "display_data"
    }
   ],
   "source": [
    "# Stahlspannung zwischen den Rissen\n",
    "sigma_1_s_com_C2 = f_sy_com_C + (eps_1_s_com_C2 - eps_sh_com_C)*E_sh_com_C\n",
    "sigma_2_s_com_C2 = f_sy_com_C + (eps_2_s_com_C2 - eps_sh_com_C)*E_sh_com_C\n",
    "\n",
    "\n",
    "put_out(symbolic=True, rows=1)"
   ]
  },
  {
   "cell_type": "markdown",
   "metadata": {},
   "source": [
    "Dabei folgt der Biegewiderstand, begrenzt durch ein Betondruckversagen, zu:"
   ]
  },
  {
   "cell_type": "code",
   "execution_count": 64,
   "metadata": {},
   "outputs": [
    {
     "data": {
      "text/markdown": [
       "$$\n",
       "\\begin{aligned}\n",
       "m_{u , C}& = a_{s} \\cdot \\sigma_{1 s , C2} \\cdot z_{, A} = 113.28 \\ \\frac{\\mathrm{kNm}}{\\mathrm{m}} \\quad &  \\quad &  \n",
       " \\end{aligned}\n",
       "$$"
      ],
      "text/plain": [
       "<IPython.core.display.Markdown object>"
      ]
     },
     "metadata": {},
     "output_type": "display_data"
    }
   ],
   "source": [
    "m_u_com_C = (a_s * sigma_1_s_com_C2 * z_com_A).to(un.kNm/un.m)\n",
    "\n",
    "put_out(symbolic=True)"
   ]
  },
  {
   "cell_type": "markdown",
   "metadata": {},
   "source": [
    "In der @fig-jag_zustand_c2 ist das Spannungs- und Dehnungs-Verhalten entlang des Zugglieds aufgezeigt."
   ]
  },
  {
   "cell_type": "code",
   "execution_count": 65,
   "metadata": {},
   "outputs": [],
   "source": [
    "# | echo: false\n",
    "\n",
    "coords_c2_stress = [\n",
    "    (0, 0),\n",
    "    (s_r.m / 2, 0),\n",
    "    (s_r.m / 2, sigma_2_s_com_C2.m),\n",
    "    (0, sigma_1_s_com_C2.m),\n",
    "]\n",
    "\n",
    "plot_stress_strain(coords_c2_stress, \"imgs/jag_stress_c2.svg\", stress=True)\n",
    "\n",
    "\n",
    "coords_c2_strain = [\n",
    "    (0, 0),\n",
    "    (s_r.m / 2, 0),\n",
    "    (s_r.m / 2, eps_2_s_com_C2),\n",
    "    (0, eps_1_s_com_C2),\n",
    "]\n",
    "\n",
    "plot_stress_strain(coords_c2_strain, \"imgs/jag_strain_c2.svg\", strain=True,strain_mean=eps_m_s_com_adm.m)"
   ]
  },
  {
   "cell_type": "markdown",
   "metadata": {},
   "source": [
    "![a) Spannungsverlauf b) Dehnungsverlauf innerhalb des halben Zugglieds des Zustands $C2$](../imgs/jag_C2_zugglied.svg){#fig-jag_zustand_c2}"
   ]
  },
  {
   "cell_type": "markdown",
   "metadata": {},
   "source": [
    "#### Zusammenfassung\n",
    "\n",
    "\n",
    "Eine Zusammenfassung der berechneten Grössen bildet den Abschluss der Grenzzustandsbetrachtung des Zugglieds."
   ]
  },
  {
   "cell_type": "code",
   "execution_count": 66,
   "metadata": {},
   "outputs": [
    {
     "data": {
      "text/markdown": [
       "$$\n",
       "\\begin{aligned}\n",
       "\\varepsilon_{m s , C1}& = 2.04 \\ \\mathrm{‰} \\quad & m_{y , C}& = 96.71 \\ \\frac{\\mathrm{kNm}}{\\mathrm{m}} \\\\ \n",
       "\\varepsilon_{m s , adm}& = 66.51 \\ \\mathrm{‰} \\quad & m_{u , C}& = 113.28 \\ \\frac{\\mathrm{kNm}}{\\mathrm{m}} \\end{aligned}\n",
       "$$"
      ],
      "text/plain": [
       "<IPython.core.display.Markdown object>"
      ]
     },
     "metadata": {},
     "output_type": "display_data"
    }
   ],
   "source": [
    "eps_m_s_com_C1\n",
    "m_y_com_C\n",
    "\n",
    "eps_m_s_com_adm\n",
    "m_u_com_C\n",
    "\n",
    "put_out(rows = 2)\n"
   ]
  },
  {
   "cell_type": "markdown",
   "metadata": {},
   "source": [
    "### Systemanalyse\n",
    "\n",
    "Nach der Grenzzustandsanalyse des Zugglieds folgt die Systemanalyse. Die Systemanalyse betrachtet das System beim Fliessen des Mittelauflagers, beim Fliessbeginn im Feld und bei begrenzter Rotation beim Mittelauflager."
   ]
  },
  {
   "cell_type": "markdown",
   "metadata": {},
   "source": [
    "#### Fliessen des Mittelauflager - Zustand $SC1$\n",
    "\n",
    "Setzt man das Fliessmoment beim Mittelauflager voraus, so stellen sich die folgenden Grössen ein."
   ]
  },
  {
   "cell_type": "code",
   "execution_count": 67,
   "metadata": {},
   "outputs": [
    {
     "data": {
      "text/markdown": [
       "$$\n",
       "\\begin{aligned}\n",
       "m_{SC1 , B}& = m_{y , C} = 96.71 \\ \\frac{\\mathrm{kNm}}{\\mathrm{m}} \\\\ \n",
       "q_{SC1}& = \\frac{8 \\cdot m_{SC1 , B} \\cdot b}{l^{2}} = 12.09 \\ \\frac{\\mathrm{kN}}{\\mathrm{m}} \\\\ \n",
       "w_{SC1}& = \\frac{5 \\cdot q_{SC1} \\cdot l^{4}}{384 \\cdot EI_{II , A}} - \\frac{m_{SC1 , B} \\cdot b \\cdot l^{2}}{16 \\cdot EI_{II , A}} = 31.82 \\ \\mathrm{mm} \\end{aligned}\n",
       "$$"
      ],
      "text/plain": [
       "<IPython.core.display.Markdown object>"
      ]
     },
     "metadata": {},
     "output_type": "display_data"
    }
   ],
   "source": [
    "m_SC1_com_B = m_y_com_C\n",
    "\n",
    "# Streckenlast beim Fliessen des Mittelauflagers\n",
    "q_SC1 = (8 * m_SC1_com_B / l**2 * b).to(un.kN/un.m)\n",
    "\n",
    "\n",
    "\n",
    "# Verformung beim Fliessen des Mittelauflagers\n",
    "w_SC1 = (5 * q_SC1 * l**4 / (384 * EI_II_com_A) - m_SC1_com_B * b * l**2 / (16 * EI_II_com_A)).to(un.mm)\n",
    "\n",
    "put_out(symbolic=True, rows=1)"
   ]
  },
  {
   "cell_type": "markdown",
   "metadata": {},
   "source": [
    "#### Fliessbeginn im Feld - Zustand $SC2$\n",
    "\n",
    "Das Fliessmoment ist im Feld vorausgesetzt, das Biegemoment beim Auflager gilt dabei als unbekannt, ist jedoch sicherlich grösser als das Fliessmoment. \n",
    "\n",
    "Durch einen iterativen Prozess ist das Biegemoment beim Auflager zu bestimmen. Dazu ist eine Betonstahlspannung im Zugglied vorauszusetzen, anhand dieser ist das Rotationsvermögen und das Biegemoment beim Mitterauflager zu bestimmen. Für den gewählten Zustand lässt sich der Rotationsbedarf berechnen. Decken sich das Rotationsvermögen und der Rotationsbedarf, so ist die passende Betonstahlspannung im Zugglied gefunden. Welche somit auch die Zustandslinien der Biegemomente definiert. \n",
    "\n",
    "Das Feldmoment entspricht somit der folgenden Gleichung."
   ]
  },
  {
   "cell_type": "code",
   "execution_count": 68,
   "metadata": {},
   "outputs": [
    {
     "data": {
      "text/markdown": [
       "$$\n",
       "\\begin{aligned}\n",
       "m_{SC2 , F}& = m_{y , C} = 96.71 \\ \\frac{\\mathrm{kNm}}{\\mathrm{m}} \\quad &  \\quad &  \n",
       " \\end{aligned}\n",
       "$$"
      ],
      "text/plain": [
       "<IPython.core.display.Markdown object>"
      ]
     },
     "metadata": {},
     "output_type": "display_data"
    }
   ],
   "source": [
    "m_SC2_com_F = m_y_com_C\n",
    "\n",
    "put_out(symbolic=True)"
   ]
  },
  {
   "cell_type": "markdown",
   "metadata": {},
   "source": [
    "Nun folgt die Analyse des Zugglieds. Es gilt die Annahme, dass sich ein elastischer und plastischer Bereich einstellt. Die folgende Berechnung zeigt die Abmessungen des elastischen und plastischen Bereichs im halben Zugglied."
   ]
  },
  {
   "cell_type": "code",
   "execution_count": 69,
   "metadata": {},
   "outputs": [
    {
     "data": {
      "text/markdown": [
       "$$\n",
       "\\begin{aligned}\n",
       "\\Delta_{x pl , SC2}& = \\Delta_{x pl , A2} = 36.25 \\ \\mathrm{mm} \\\\ \n",
       "\\Delta_{x el , SC2}& = \\frac{s_{r}}{2} - \\Delta_{x pl , SC2} = 63.75 \\ \\mathrm{mm} \\end{aligned}\n",
       "$$"
      ],
      "text/plain": [
       "<IPython.core.display.Markdown object>"
      ]
     },
     "metadata": {},
     "output_type": "display_data"
    }
   ],
   "source": [
    "# Fliessspannung wird vorausgesetzt\n",
    "Delta_x_pl_com_SC2 = Delta_x_pl_com_A2\n",
    "Delta_x_el_com_SC2 = s_r / 2 - Delta_x_pl_com_SC2\n",
    "\n",
    "put_out(symbolic=True, rows = 1)\n",
    "\n"
   ]
  },
  {
   "cell_type": "markdown",
   "metadata": {},
   "source": [
    "Die hier eingeführte Betonstahlspannung im Übergang zwischen elastischem und plastischem Bereich ist die zu iterierende Grösse. Die weiteren Spannungen ergeben sich anhand der Schubspannungs-Schlupf-Beziehung."
   ]
  },
  {
   "cell_type": "code",
   "execution_count": 70,
   "metadata": {},
   "outputs": [
    {
     "data": {
      "text/markdown": [
       "$$\n",
       "\\begin{aligned}\n",
       "\\sigma_{2 s , SC2}& = 500.0 \\ \\frac{\\mathrm{N}}{\\mathrm{mm}^{2}} \\\\ \n",
       "\\sigma_{1 s , SC2}& = \\sigma_{2 s , SC2} + \\frac{4 \\cdot \\tau_{b1} \\cdot \\Delta_{x pl , SC2}}{\\oslash_{x}} = 530.0 \\ \\frac{\\mathrm{N}}{\\mathrm{mm}^{2}} \\\\ \n",
       "\\sigma_{3 s , SC2}& = \\sigma_{2 s , SC2} - \\frac{4 \\cdot \\tau_{b0} \\cdot \\Delta_{x el , SC2}}{\\oslash_{x}} = 394.49 \\ \\frac{\\mathrm{N}}{\\mathrm{mm}^{2}} \\end{aligned}\n",
       "$$"
      ],
      "text/plain": [
       "<IPython.core.display.Markdown object>"
      ]
     },
     "metadata": {},
     "output_type": "display_data"
    }
   ],
   "source": [
    "sigma_2_s_com_SC2 = 500 * un.N / un.mm**2\n",
    "sigma_1_s_com_SC2 = sigma_2_s_com_SC2 + 4 * tau_b1 / diam_x * Delta_x_pl_com_SC2\n",
    "sigma_3_s_com_SC2 = sigma_2_s_com_SC2 - 4 * tau_b0 / diam_x * Delta_x_el_com_SC2\n",
    "\n",
    "put_out(symbolic=True, rows=1)"
   ]
  },
  {
   "cell_type": "markdown",
   "metadata": {},
   "source": [
    "Dabei stellen sich die folgenden Dehnungen ein."
   ]
  },
  {
   "cell_type": "code",
   "execution_count": 71,
   "metadata": {},
   "outputs": [
    {
     "data": {
      "text/markdown": [
       "$$\n",
       "\\begin{aligned}\n",
       "\\varepsilon_{1 s , SC2}& = \\frac{\\sigma_{1 s , SC2} - \\sigma_{2 s , SC2}}{E_{sh , C}} + \\varepsilon_{sh , C} = 51.51 \\ \\mathrm{‰} \\\\ \n",
       "\\varepsilon_{21 s , SC2}& = \\varepsilon_{sh , C} = 20 \\ \\mathrm{‰} \\\\ \n",
       "\\varepsilon_{22 s , SC2}& = \\varepsilon_{sy , A} = 2.78 \\ \\mathrm{‰} \\\\ \n",
       "\\varepsilon_{3 s , SC2}& = \\frac{\\sigma_{3 s , SC2}}{E_{s , A}} = 1.92 \\ \\mathrm{‰} \\end{aligned}\n",
       "$$"
      ],
      "text/plain": [
       "<IPython.core.display.Markdown object>"
      ]
     },
     "metadata": {},
     "output_type": "display_data"
    }
   ],
   "source": [
    "# Dehnungen\n",
    "eps_1_s_com_SC2 = ((sigma_1_s_com_SC2 - sigma_2_s_com_SC2) / E_sh_com_C + eps_sh_com_C).to(un.permille)\n",
    "eps_21_s_com_SC2 = eps_sh_com_C\n",
    "eps_22_s_com_SC2 = eps_sy_com_A\n",
    "eps_3_s_com_SC2 = (sigma_3_s_com_SC2 / E_s_com_A).to(un.permille)\n",
    "\n",
    "put_out(symbolic=True, rows=1)"
   ]
  },
  {
   "cell_type": "markdown",
   "metadata": {},
   "source": [
    "Abschliessend lässt sich mit der trilinearen Spannungs-Dehnungs-Beziehung die Mittlere Dehnung bestimmen. In @alvarez_einfluss_1998 Seite 163 ist eine analytische Lösung dazu aufgezeigt."
   ]
  },
  {
   "cell_type": "code",
   "execution_count": 72,
   "metadata": {},
   "outputs": [
    {
     "data": {
      "text/markdown": [
       "$$\n",
       "\\begin{aligned}\n",
       "\\varepsilon_{m s , SC2}& = 14.33 \\ \\mathrm{‰} \\end{aligned}\n",
       "$$"
      ],
      "text/plain": [
       "<IPython.core.display.Markdown object>"
      ]
     },
     "metadata": {},
     "output_type": "display_data"
    }
   ],
   "source": [
    "eps_m_s_com_SC2 = 14.33*un.permille\n",
    "put_out(rows=1)"
   ]
  },
  {
   "cell_type": "markdown",
   "metadata": {},
   "source": [
    "Dargestellt sind die Resultate in der @fig-jag_zustand_sc2."
   ]
  },
  {
   "cell_type": "code",
   "execution_count": 73,
   "metadata": {},
   "outputs": [],
   "source": [
    "# | echo: false\n",
    "\n",
    "coords_SC2_stress = [\n",
    "    (0, 0), \n",
    "    (Delta_x_pl_com_SC2.m, 0), \n",
    "    (s_r.m / 2, 0), \n",
    "    (s_r.m / 2, sigma_3_s_com_SC2.m), \n",
    "    (Delta_x_pl_com_SC2.m, sigma_2_s_com_SC2.m),\n",
    "    (0, sigma_1_s_com_SC2.m)\n",
    "    ]\n",
    "\n",
    "plot_stress_strain(coords_SC2_stress, \"imgs/jag_stress_sc2.svg\", stress=True)\n",
    "\n",
    "\n",
    "coords_SC2_strain = [\n",
    "    (0, 0),\n",
    "    (Delta_x_pl_com_SC2.m, 0),\n",
    "    (s_r.m / 2, 0),\n",
    "    (s_r.m / 2, eps_3_s_com_SC2),\n",
    "    (Delta_x_pl_com_SC2.m, eps_22_s_com_SC2),\n",
    "    (Delta_x_pl_com_SC2.m, eps_21_s_com_SC2),\n",
    "    (0, eps_1_s_com_SC2),\n",
    "]\n",
    "\n",
    "plot_stress_strain(coords_SC2_strain, \"imgs/jag_strain_sc2.svg\", strain=True, strain_mean=eps_m_s_com_SC2.m)"
   ]
  },
  {
   "cell_type": "markdown",
   "metadata": {},
   "source": [
    "![a) Spannungsverlauf b) Dehnungsverlauf innerhalb des halben Zugglieds des Zustands $SC2$](../imgs/jag_SC2_zugglied.svg){#fig-jag_zustand_sc2}"
   ]
  },
  {
   "cell_type": "markdown",
   "metadata": {},
   "source": [
    "Das Rotationsvermögen lässt sich anhand der mittleren Dehnungen bestimmen."
   ]
  },
  {
   "cell_type": "code",
   "execution_count": 74,
   "metadata": {},
   "outputs": [
    {
     "data": {
      "text/markdown": [
       "$$\n",
       "\\begin{aligned}\n",
       "\\varphi_{SC2 , pl}& = \\frac{l_{pl} \\cdot \\left(\\varepsilon_{m s , SC2} - \\varepsilon_{m s , C1}\\right)}{d_{x} - x_{u , A}} = 1.51 \\ \\mathrm{°} \\quad &  \\quad &  \n",
       " \\end{aligned}\n",
       "$$"
      ],
      "text/plain": [
       "<IPython.core.display.Markdown object>"
      ]
     },
     "metadata": {},
     "output_type": "display_data"
    }
   ],
   "source": [
    "varphi_SC2_com_pl = (l_pl * (eps_m_s_com_SC2 - eps_m_s_com_C1) / (d_x - x_u_com_A)).to(un.deg)\n",
    "\n",
    "put_out(symbolic=True)"
   ]
  },
  {
   "cell_type": "markdown",
   "metadata": {},
   "source": [
    "Mit der gewählten Betonstahlspannung lässt sich das Biegemoment über dem Auflager bestimmen."
   ]
  },
  {
   "cell_type": "code",
   "execution_count": 75,
   "metadata": {},
   "outputs": [
    {
     "data": {
      "text/markdown": [
       "$$\n",
       "\\begin{aligned}\n",
       "m_{SC2 , B}& = a_{s} \\cdot \\sigma_{1 s , SC2} \\cdot z_{, A} = 102.52 \\ \\frac{\\mathrm{kNm}}{\\mathrm{m}} \\quad &  \\quad &  \n",
       " \\end{aligned}\n",
       "$$"
      ],
      "text/plain": [
       "<IPython.core.display.Markdown object>"
      ]
     },
     "metadata": {},
     "output_type": "display_data"
    }
   ],
   "source": [
    "# Biegemoment resultiert daraus zu\n",
    "m_SC2_com_B = (a_s * sigma_1_s_com_SC2 * z_com_A).to(un.kNm/un.m)\n",
    "\n",
    "\n",
    "put_out(symbolic=True)"
   ]
  },
  {
   "cell_type": "markdown",
   "metadata": {},
   "source": [
    "Dabei stellt sich die folgende Streckenlast für den Zustand ein."
   ]
  },
  {
   "cell_type": "code",
   "execution_count": 76,
   "metadata": {},
   "outputs": [
    {
     "data": {
      "text/markdown": [
       "$$\n",
       "\\begin{aligned}\n",
       "q_{SC2}& = \\left(\\frac{4 \\cdot m_{y , C} + 2 \\cdot m_{SC2 , F}}{l^{2}} + \\frac{4 \\cdot \\sqrt{m_{SC2 , F}^{2} + m_{SC2 , F} \\cdot m_{SC2 , B}}}{l^{2}}\\right) \\cdot b = 17.74 \\ \\frac{\\mathrm{kN}}{\\mathrm{m}} \\end{aligned}\n",
       "$$"
      ],
      "text/plain": [
       "<IPython.core.display.Markdown object>"
      ]
     },
     "metadata": {},
     "output_type": "display_data"
    }
   ],
   "source": [
    "\n",
    "# Streckenlast Fliessen im Feld, verfestigend über dem Auflager\n",
    "q_SC2 = (((4 * m_y_com_C + 2 * m_SC2_com_F) / l**2 + 4 / l**2 * np.sqrt(m_SC2_com_F**2 + m_SC2_com_F * m_SC2_com_B)) * b).to(un.kN/un.m)\n",
    "put_out(symbolic=True, rows=1)"
   ]
  },
  {
   "cell_type": "markdown",
   "metadata": {},
   "source": [
    "Abschliessend ist der Rotationsbedarf zu bestimmen und mit dem Rotationsvermögen zu vergleichen."
   ]
  },
  {
   "cell_type": "code",
   "execution_count": 77,
   "metadata": {},
   "outputs": [
    {
     "data": {
      "text/markdown": [
       "$$\n",
       "\\begin{aligned}\n",
       "\\alpha_{SC2}& = \\frac{\\left(q_{SC2} - q_{SC1}\\right) \\cdot l^{3}}{24 \\cdot EI_{II , A}} - \\frac{\\left(m_{SC2 , B} - m_{SC2 , F}\\right) \\cdot l \\cdot b}{3 \\cdot EI_{II , A}} = 0.74 \\ \\mathrm{°} \\\\ \n",
       "\\varphi_{SC2 , erf}& = 2 \\cdot \\alpha_{SC2} = 1.49 \\ \\mathrm{°} \\\\ \n",
       "\\Delta_{\\varphi SC3}& = \\varphi_{SC2 , erf} - \\varphi_{SC2 , pl} = -0.03 \\ \\mathrm{°} \\end{aligned}\n",
       "$$"
      ],
      "text/plain": [
       "<IPython.core.display.Markdown object>"
      ]
     },
     "metadata": {},
     "output_type": "display_data"
    }
   ],
   "source": [
    "# Kontrolle des Verformungsbedarfs\n",
    "alpha_SC2 = ((q_SC2 - q_SC1) * l**3 / (24 * EI_II_com_A)- (m_SC2_com_B - m_SC2_com_F)  * l*b / (3 * EI_II_com_A)).to(un.deg)\n",
    "\n",
    "# Erforderliche Rotation\n",
    "varphi_SC2_com_erf = 2 * alpha_SC2\n",
    "\n",
    "# Kontrolle ob das Verformungsvermögen gleich dem Verformungsbedarf ist\n",
    "Delta_varphi_SC3 = varphi_SC2_com_erf - varphi_SC2_com_pl\n",
    "\n",
    "put_out(symbolic=True, rows=1)"
   ]
  },
  {
   "cell_type": "markdown",
   "metadata": {},
   "source": [
    "Die Differenz zwischen dem Rotationsvermögen und dem Rotationsbedarf ist vernachlässigbar klein. Der Zustand ist somit zulässig. Abschliessend lässt sich die Feldverformung bestimmen."
   ]
  },
  {
   "cell_type": "code",
   "execution_count": 78,
   "metadata": {},
   "outputs": [
    {
     "data": {
      "text/markdown": [
       "$$\n",
       "\\begin{aligned}\n",
       "w_{SC2}& = \\frac{5 \\cdot q_{SC2} \\cdot l^{4}}{384 \\cdot EI_{II , A}} - \\frac{m_{SC2 , B} \\cdot b \\cdot l^{2}}{16 \\cdot EI_{II , A}} = 66.16 \\ \\mathrm{mm} \\quad &  \\quad &  \n",
       " \\end{aligned}\n",
       "$$"
      ],
      "text/plain": [
       "<IPython.core.display.Markdown object>"
      ]
     },
     "metadata": {},
     "output_type": "display_data"
    }
   ],
   "source": [
    "# Die Mittendurchbiegung beträgt\n",
    "w_SC2 = (5 * q_SC2 * l**4 / (384 * EI_II_com_A) - m_SC2_com_B * b * l**2 / (16 * EI_II_com_A)).to(un.mm)\n",
    "\n",
    "put_out(symbolic=True)"
   ]
  },
  {
   "cell_type": "markdown",
   "metadata": {},
   "source": [
    "#### Ermittlung der Traglast - Zustand $SC3$\n",
    "\n",
    "Das Rotationsvermögen ist noch nicht vollständig ausgeschöpft, es sind weitere Tragreserven vorhanden. Diese gilt es im Zustand $SC3$ zu mobilisieren. Dazu ist zunächst das maximale Rotationsvermögen zu bestimmen.\n"
   ]
  },
  {
   "cell_type": "code",
   "execution_count": 79,
   "metadata": {},
   "outputs": [
    {
     "data": {
      "text/markdown": [
       "$$\n",
       "\\begin{aligned}\n",
       "\\varphi_{max , C}& = \\frac{l_{pl} \\cdot \\left(\\varepsilon_{m s , adm} - \\varepsilon_{m s , C1}\\right)}{d_{x} - x_{u , A}} = 7.94 \\ \\mathrm{°} \\quad &  \\quad &  \n",
       " \\end{aligned}\n",
       "$$"
      ],
      "text/plain": [
       "<IPython.core.display.Markdown object>"
      ]
     },
     "metadata": {},
     "output_type": "display_data"
    }
   ],
   "source": [
    "# Plastischer Rotationswinkel, Rotationsbedarf für vollständige Umlagerung.\n",
    "varphi_max_com_C = (l_pl * (eps_m_s_com_adm - eps_m_s_com_C1) / (d_x - x_u_com_A)).to(un.deg)\n",
    "\n",
    "put_out(symbolic=True)"
   ]
  },
  {
   "cell_type": "markdown",
   "metadata": {},
   "source": [
    "Beim Mittelauflager ist der Biegewiderstand vorausgesetzt. Im Feld stellt sich ebenfalls ein plastisches Gelenk ein. Dabei ist anzunehmen, dass das Feldmoment kleiner als der Biegewiderstand ist. Hier gilt es wiederum einen passenden Spannungszustand im Zugglied zu finden, welcher ein mit dem Rotationsvermögen verträgliches System zur Folge hat. Dazu sind die folgenden Dehnungen im Zugglied im Feld vorausgesetzt."
   ]
  },
  {
   "cell_type": "code",
   "execution_count": 80,
   "metadata": {},
   "outputs": [
    {
     "data": {
      "text/markdown": [
       "$$\n",
       "\\begin{aligned}\n",
       "\\varepsilon_{2 s , SC3}& = \\varepsilon_{sh , C} = 20 \\ \\mathrm{‰} \\\\ \n",
       "\\varepsilon_{1 s , SC3}& = \\varepsilon_{2 s , SC3} + \\frac{4 \\cdot \\tau_{b1} \\cdot s_{r}}{2 \\cdot \\oslash_{x} \\cdot E_{sh , C}} = 106.93 \\ \\mathrm{‰} \\end{aligned}\n",
       "$$"
      ],
      "text/plain": [
       "<IPython.core.display.Markdown object>"
      ]
     },
     "metadata": {},
     "output_type": "display_data"
    }
   ],
   "source": [
    "eps_2_s_com_SC3 = eps_sh_com_C\n",
    "eps_1_s_com_SC3 = eps_2_s_com_SC3 + 4 * tau_b1 * s_r / 2 / (diam_x * E_sh_com_C)\n",
    "\n",
    "\n",
    "put_out(symbolic=True, rows=1)"
   ]
  },
  {
   "cell_type": "markdown",
   "metadata": {},
   "source": [
    "Diese resultieren in den folgenden Spannungen."
   ]
  },
  {
   "cell_type": "code",
   "execution_count": 81,
   "metadata": {},
   "outputs": [
    {
     "data": {
      "text/markdown": [
       "$$\n",
       "\\begin{aligned}\n",
       "\\sigma_{1 s , SC3}& = \\left(\\varepsilon_{1 s , SC3} - \\varepsilon_{2 s , SC3}\\right) \\cdot E_{sh , C} + f_{sy , C} = 582.76 \\ \\frac{\\mathrm{N}}{\\mathrm{mm}^{2}} \\\\ \n",
       "\\sigma_{2 s , SC3}& = f_{sy , C} = 500.0 \\ \\frac{\\mathrm{N}}{\\mathrm{mm}^{2}} \\end{aligned}\n",
       "$$"
      ],
      "text/plain": [
       "<IPython.core.display.Markdown object>"
      ]
     },
     "metadata": {},
     "output_type": "display_data"
    }
   ],
   "source": [
    "\n",
    "sigma_1_s_com_SC3 = ((eps_1_s_com_SC3 - eps_2_s_com_SC3) * E_sh_com_C + f_sy_com_C).to(un.N/un.mm**2)\n",
    "sigma_2_s_com_SC3 = (f_sy_com_C).to(un.N/un.mm**2)\n",
    "put_out(symbolic=True, rows=1)"
   ]
  },
  {
   "cell_type": "markdown",
   "metadata": {},
   "source": [
    "Daraus folgt die mittlere Dehnung."
   ]
  },
  {
   "cell_type": "code",
   "execution_count": 82,
   "metadata": {},
   "outputs": [
    {
     "data": {
      "text/markdown": [
       "$$\n",
       "\\begin{aligned}\n",
       "\\varepsilon_{m s , SC3}& = \\frac{\\varepsilon_{2 s , SC3} + \\varepsilon_{1 s , SC3}}{2} = 63.46 \\ \\mathrm{‰} \\quad &  \\quad &  \n",
       " \\end{aligned}\n",
       "$$"
      ],
      "text/plain": [
       "<IPython.core.display.Markdown object>"
      ]
     },
     "metadata": {},
     "output_type": "display_data"
    }
   ],
   "source": [
    "eps_m_s_com_SC3 = (eps_2_s_com_SC3 + eps_1_s_com_SC3) / 2\n",
    "\n",
    "put_out(symbolic=True)"
   ]
  },
  {
   "cell_type": "markdown",
   "metadata": {},
   "source": [
    "Dargestellt ist der Spannungs- und Dehnungszustand des halben Zugglieds in der @fig-jag_zustand_sc3."
   ]
  },
  {
   "cell_type": "code",
   "execution_count": 83,
   "metadata": {},
   "outputs": [],
   "source": [
    "# | echo: false\n",
    "\n",
    "coords_sc3_stress = [\n",
    "    (0, 0),\n",
    "    (s_r.m / 2, 0),\n",
    "    (s_r.m / 2, sigma_2_s_com_SC3.m),\n",
    "    (0, sigma_1_s_com_SC3.m),\n",
    "]\n",
    "\n",
    "plot_stress_strain(coords_sc3_stress, \"imgs/jag_stress_sc3.svg\", stress=True)\n",
    "\n",
    "\n",
    "coords_sc3_strain = [\n",
    "    (0, 0),\n",
    "    (s_r.m / 2, 0),\n",
    "    (s_r.m / 2, eps_2_s_com_SC3),\n",
    "    (0, eps_1_s_com_SC3),\n",
    "]\n",
    "\n",
    "plot_stress_strain(coords_sc3_strain, \"imgs/jag_strain_sc3.svg\", strain=True, strain_mean=eps_m_s_com_SC3.m)"
   ]
  },
  {
   "cell_type": "markdown",
   "metadata": {},
   "source": [
    "![a) Spannungsverlauf b) Dehnungsverlauf innerhalb des halben Zugglieds des Zustands $SC3$](../imgs/jag_sc3_zugglied.svg){#fig-jag_zustand_sc3}"
   ]
  },
  {
   "cell_type": "markdown",
   "metadata": {},
   "source": [
    "Das Biegemoment im Feld und beim Mittelauflager sind folgend aufgezeigt."
   ]
  },
  {
   "cell_type": "code",
   "execution_count": 84,
   "metadata": {},
   "outputs": [
    {
     "data": {
      "text/markdown": [
       "$$\n",
       "\\begin{aligned}\n",
       "m_{SC3 , F}& = a_{s} \\cdot \\sigma_{1 s , SC3} \\cdot z_{, A} = 112.72 \\ \\frac{\\mathrm{kNm}}{\\mathrm{m}} \\\\ \n",
       "m_{SC3 , B}& = m_{u , C} = 113.28 \\ \\frac{\\mathrm{kNm}}{\\mathrm{m}} \\end{aligned}\n",
       "$$"
      ],
      "text/plain": [
       "<IPython.core.display.Markdown object>"
      ]
     },
     "metadata": {},
     "output_type": "display_data"
    }
   ],
   "source": [
    "m_SC3_com_F = (a_s * sigma_1_s_com_SC3 * z_com_A).to(un.kNm/un.m)\n",
    "\n",
    "m_SC3_com_B = m_u_com_C\n",
    "put_out(symbolic=True, rows = 1)\n"
   ]
  },
  {
   "cell_type": "markdown",
   "metadata": {},
   "source": [
    "Für diesen Zustand stellt sich die folgende Streckenlast ein."
   ]
  },
  {
   "cell_type": "code",
   "execution_count": 85,
   "metadata": {},
   "outputs": [
    {
     "data": {
      "text/markdown": [
       "$$\n",
       "\\begin{aligned}\n",
       "q_{SC3}& = \\left(\\frac{4 \\cdot m_{SC3 , F} + 2 \\cdot m_{u , C}}{l^{2}} + \\frac{4 \\cdot \\sqrt{m_{SC3 , F}^{2} + m_{SC3 , F} \\cdot m_{u , C}}}{l^{2}}\\right) \\cdot b = 20.56 \\ \\frac{\\mathrm{kN}}{\\mathrm{m}} \\quad &  \\quad &  \n",
       " \\end{aligned}\n",
       "$$"
      ],
      "text/plain": [
       "<IPython.core.display.Markdown object>"
      ]
     },
     "metadata": {},
     "output_type": "display_data"
    }
   ],
   "source": [
    "\n",
    "# Streckenlast Fliessen im Feld, verfestigend über dem Auflager\n",
    "q_SC3 = (((4 * m_SC3_com_F + 2 * m_u_com_C) / l**2 + 4 / l**2 * np.sqrt(m_SC3_com_F**2 + m_SC3_com_F * m_u_com_C)) * b).to(un.kN/un.m)\n",
    "\n",
    "put_out(symbolic=True)\n"
   ]
  },
  {
   "cell_type": "markdown",
   "metadata": {},
   "source": [
    "Abschliessend ist die plastische Rotation im Feld zu kontrollieren. Die Lage des plastischen Gelenks im Feld ist hierbei abgeschätzt. Dabei entspricht $w$ der plastischen Rotation, welche kleiner als das Rotationsvermögen sein muss. Illustriert ist dies in der @fig-jag_plast_feld_C.\n",
    "\n",
    "![Annahme für die Lage des Gelenks im Feld](../imgs/jag_plast_feld_C.svg){#fig-jag_plast_feld_C}"
   ]
  },
  {
   "cell_type": "markdown",
   "metadata": {},
   "source": [
    "Mit der gewählten Spannungsverteilung im Zugglied stellt sich die folgende Feldrotation ein."
   ]
  },
  {
   "cell_type": "code",
   "execution_count": 86,
   "metadata": {},
   "outputs": [
    {
     "data": {
      "text/markdown": [
       "$$\n",
       "\\begin{aligned}\n",
       "\\varphi_{SC3 , F}& = \\frac{l_{pl} \\cdot \\left(\\varepsilon_{m s , SC3} - \\varepsilon_{m s , C1}\\right)}{d_{x} - x_{u , A}} = 7.57 \\ \\mathrm{°} \\quad &  \\quad &  \n",
       " \\end{aligned}\n",
       "$$"
      ],
      "text/plain": [
       "<IPython.core.display.Markdown object>"
      ]
     },
     "metadata": {},
     "output_type": "display_data"
    }
   ],
   "source": [
    "\n",
    "# Plastische rotation im Feld\n",
    "varphi_SC3_com_F = (l_pl * (eps_m_s_com_SC3 - eps_m_s_com_C1) / (d_x - x_u_com_A)).to(un.deg)\n",
    "\n",
    "put_out(symbolic=True)"
   ]
  },
  {
   "cell_type": "markdown",
   "metadata": {},
   "source": [
    "Und beim Mittelauflager muss die folgende Rotation verfügbar sein:"
   ]
  },
  {
   "cell_type": "code",
   "execution_count": 87,
   "metadata": {},
   "outputs": [
    {
     "data": {
      "text/markdown": [
       "$$\n",
       "\\begin{aligned}\n",
       "\\alpha_{SC3}& = \\frac{q_{SC3} \\cdot l^{3}}{24 \\cdot EI_{II , A}} - \\frac{m_{u , C} \\cdot b \\cdot l}{3 \\cdot EI_{II , A}} + 0.414 \\cdot \\varphi_{SC3 , F} = 4.1 \\ \\mathrm{°} \\\\ \n",
       "\\varphi_{SC3 , erf}& = 2 \\cdot \\alpha_{SC3} = 8.2 \\ \\mathrm{°} \\end{aligned}\n",
       "$$"
      ],
      "text/plain": [
       "<IPython.core.display.Markdown object>"
      ]
     },
     "metadata": {},
     "output_type": "display_data"
    }
   ],
   "source": [
    "# Kontrolle des Verformungsbedarfs\n",
    "alpha_SC3 = (q_SC3 * l**3 / (24 * EI_II_com_A)- (m_u_com_C) * b * l / (3 * EI_II_com_A)+ 0.414 * varphi_SC3_com_F).to(un.deg)\n",
    "\n",
    "# Erforderliche Rotation\n",
    "varphi_SC3_com_erf = 2 * alpha_SC3\n",
    "\n",
    "\n",
    "put_out(symbolic=True, rows = 1)"
   ]
  },
  {
   "cell_type": "markdown",
   "metadata": {},
   "source": [
    "Welche mit der maximalen plastischen Rotation zu vergleichen ist."
   ]
  },
  {
   "cell_type": "code",
   "execution_count": 88,
   "metadata": {},
   "outputs": [
    {
     "data": {
      "text/markdown": [
       "$$\n",
       "\\begin{aligned}\n",
       "\\varphi_{max , C}& = \\frac{l_{pl} \\cdot \\left(\\varepsilon_{m s , adm} - \\varepsilon_{m s , C1}\\right)}{d_{x} - x_{u , A}} = 7.94 \\ \\mathrm{°} \\\\ \n",
       "\\Delta_{\\varphi SC3}& = \\varphi_{SC3 , erf} - \\varphi_{max , C} = 0.25 \\ \\mathrm{°} \\end{aligned}\n",
       "$$"
      ],
      "text/plain": [
       "<IPython.core.display.Markdown object>"
      ]
     },
     "metadata": {},
     "output_type": "display_data"
    }
   ],
   "source": [
    "# Kontrolle ob das Verformungsvermögen gleich dem Verformungsbedarf ist\n",
    "\n",
    "varphi_max_com_C\n",
    "Delta_varphi_SC3 = varphi_SC3_com_erf - varphi_max_com_C\n",
    "\n",
    "put_out(symbolic=True, rows = 1)"
   ]
  },
  {
   "cell_type": "markdown",
   "metadata": {},
   "source": [
    "Die erforderliche Rotation des Mittelauflagers ist in etwa gleich dem Rotationsvermögen. Es ist ein gültiger Zustand gefunden. Abschliessend lässt sich die Feldverformung bestimmen."
   ]
  },
  {
   "cell_type": "code",
   "execution_count": 89,
   "metadata": {},
   "outputs": [
    {
     "data": {
      "text/markdown": [
       "$$\n",
       "\\begin{aligned}\n",
       "w_{SC3}& = \\frac{5 \\cdot q_{SC3} \\cdot l^{4}}{384 \\cdot EI_{II , A}} - \\frac{m_{u , C} \\cdot b \\cdot l^{2}}{16 \\cdot EI_{II , A}} + \\frac{0.414 \\cdot \\varphi_{SC3 , F} \\cdot l}{2} = 298.14 \\ \\mathrm{mm} \\quad &  \\quad &  \n",
       " \\end{aligned}\n",
       "$$"
      ],
      "text/plain": [
       "<IPython.core.display.Markdown object>"
      ]
     },
     "metadata": {},
     "output_type": "display_data"
    }
   ],
   "source": [
    "# Die Mittendurchbiegung beträgt\n",
    "w_SC3 = (5 * q_SC3 * l**4 / (384 * EI_II_com_A)- m_u_com_C * b * l**2 / (16 * EI_II_com_A)+ 0.414 * varphi_SC3_com_F * l / 2).to(un.mm)\n",
    "\n",
    "put_out(symbolic=True, evaluate=False)"
   ]
  },
  {
   "cell_type": "markdown",
   "metadata": {},
   "source": [
    "#### Zusammenfassung\n",
    "\n",
    "Der Abschluss der Berechnung des naturharten Stahls bildet die Zusammenstellung der berechneten Resultate."
   ]
  },
  {
   "cell_type": "code",
   "execution_count": 90,
   "metadata": {},
   "outputs": [
    {
     "data": {
      "text/markdown": [
       "$$\n",
       "\\begin{aligned}\n",
       "q_{SC1}& = 12.09 \\ \\frac{\\mathrm{kN}}{\\mathrm{m}} \\quad & w_{SC1}& = 31.82 \\ \\mathrm{mm} \\quad & m_{SC1 , B}& = 96.71 \\ \\frac{\\mathrm{kNm}}{\\mathrm{m}} \\\\ \n",
       "q_{SC2}& = 17.74 \\ \\frac{\\mathrm{kN}}{\\mathrm{m}} \\quad & w_{SC2}& = 66.16 \\ \\mathrm{mm} \\quad & m_{SC2 , B}& = 102.52 \\ \\frac{\\mathrm{kNm}}{\\mathrm{m}} \\\\ \n",
       "q_{SC3}& = 20.56 \\ \\frac{\\mathrm{kN}}{\\mathrm{m}} \\quad & w_{SC3}& = 298.14 \\ \\mathrm{mm} \\quad & m_{SC3 , F}& = 112.72 \\ \\frac{\\mathrm{kNm}}{\\mathrm{m}} \\end{aligned}\n",
       "$$"
      ],
      "text/plain": [
       "<IPython.core.display.Markdown object>"
      ]
     },
     "metadata": {},
     "output_type": "display_data"
    }
   ],
   "source": [
    "q_SC1\n",
    "w_SC1\n",
    "m_SC1_com_B\n",
    "\n",
    "q_SC2\n",
    "w_SC2\n",
    "m_SC2_com_B\n",
    "\n",
    "\n",
    "q_SC3\n",
    "w_SC3\n",
    "m_SC3_com_F\n",
    "\n",
    "\n",
    "\n",
    "put_out()"
   ]
  },
  {
   "cell_type": "code",
   "execution_count": 91,
   "metadata": {},
   "outputs": [],
   "source": [
    "\n",
    "# m_y_com_C\n",
    "# m_u_com_C\n",
    "\n",
    "# put_out(symbolic=True, rows = 1)"
   ]
  },
  {
   "cell_type": "code",
   "execution_count": 92,
   "metadata": {},
   "outputs": [],
   "source": [
    "chi_y_com_C = (m_y_com_C*b / EI_II_com_A).to(1/un.m)\n",
    "\n",
    "# put_out(symbolic=True, rows=1, precision=4)"
   ]
  },
  {
   "cell_type": "code",
   "execution_count": 93,
   "metadata": {},
   "outputs": [],
   "source": [
    "chi_sh_com_C = (eps_sh_com_C / (d_x - x_u_com_A)).to(1/un.m)\n",
    "# put_out(symbolic=True, rows=1, precision=4)"
   ]
  },
  {
   "cell_type": "code",
   "execution_count": 94,
   "metadata": {},
   "outputs": [],
   "source": [
    "chi_u_com_C = (eps_m_s_com_adm / (d_x - x_u_com_A)).to(1/un.m)\n",
    "\n",
    "# put_out(symbolic=True, rows=1, precision=4)"
   ]
  },
  {
   "cell_type": "code",
   "execution_count": 95,
   "metadata": {},
   "outputs": [],
   "source": [
    "momente_b500c = np.array([0, m_y_com_C.m, m_y_com_C.m, m_u_com_C.m])\n",
    "\n",
    "chi_b500c = np.array([0, chi_y_com_C.m, chi_sh_com_C.m, chi_u_com_C.m])\n",
    "\n",
    "\n",
    "fig_m_chi_b500c, ax_m_chi_b500c = plt.subplots()\n",
    "\n",
    "\n",
    "ax_m_chi_b500c.plot(chi_b500c, momente_b500c, color='black')\n",
    "\n",
    "# Add labels and show the plot\n",
    "ax_m_chi_b500c.set_ylabel(\"$M$ [kNm]\")\n",
    "ax_m_chi_b500c.set_xlabel(\"$\\chi$ [1/m]\")\n",
    "\n",
    "# Save the plot to the specified file\n",
    "plt.savefig(\"imgs/jag_m_chi_b500c.svg\")\n",
    "plt.close()"
   ]
  },
  {
   "cell_type": "code",
   "execution_count": 96,
   "metadata": {},
   "outputs": [],
   "source": [
    "varphi_y_com_C = (chi_y_com_C * l_El/2).to(un.rad)\n",
    "varphi_sh_com_C = (chi_sh_com_C * l_El/2).to(un.rad)\n",
    "varphi_u_com_C = (chi_u_com_C * l_El/2).to(un.rad)\n",
    "# put_out(symbolic=True, precision = 4, rows = 1)"
   ]
  },
  {
   "cell_type": "code",
   "execution_count": 97,
   "metadata": {},
   "outputs": [],
   "source": [
    "momente_b500c = np.array([0, m_y_com_C.m, m_y_com_C.m, m_u_com_C.m, m_u_com_C.m])\n",
    "\n",
    "phi_b500c = np.array([0, varphi_y_com_C.m, varphi_sh_com_C.m, varphi_u_com_C.m,varphi_u_com_C.m*1.5 ])\n",
    "\n",
    "\n",
    "fig_m_phi_b500c, ax_m_phi_b500c = plt.subplots()\n",
    "\n",
    "\n",
    "ax_m_phi_b500c.plot(phi_b500c, momente_b500c, color='black')\n",
    "\n",
    "# Add labels and show the plot\n",
    "ax_m_phi_b500c.set_ylabel(\"$M$ [kNm]\")\n",
    "ax_m_phi_b500c.set_xlabel(\"$\\\\varphi$ [rad]\")\n",
    "\n",
    "# Save the plot to the specified file\n",
    "fig_m_phi_b500c.savefig(\"imgs/jag_m_phi_b500c.svg\")\n",
    "plt.close()"
   ]
  },
  {
   "cell_type": "code",
   "execution_count": 98,
   "metadata": {},
   "outputs": [],
   "source": [
    "\n",
    "varphi_max_com_C = varphi_max_com_C.to(un.rad)\n",
    "\n",
    "# put_out(symbolic=False,precision=3, rows = 1)"
   ]
  },
  {
   "cell_type": "code",
   "execution_count": 99,
   "metadata": {},
   "outputs": [],
   "source": [
    "DF_b500c_res = pd.read_excel('calc/axis_res.xlsx', sheet_name='jag_b500c')\n",
    "\n",
    "DF_b500c_res['Lpa'] = DF_b500c_res['Lpa']*30\n",
    "DF_b500c_res['eZ_1 [mm]'] = DF_b500c_res['eZ_1 [mm]']*-1\n",
    "\n",
    "\n",
    "\n",
    "DF_b500a_res = pd.read_excel('calc/axis_res.xlsx', sheet_name='jag_b500a')\n",
    "\n",
    "DF_b500a_res['Lpa'] = DF_b500a_res['Lpa']*30\n",
    "DF_b500a_res['eZ_1 [mm]'] = DF_b500a_res['eZ_1 [mm]']*-1\n",
    "\n",
    "\n"
   ]
  },
  {
   "cell_type": "code",
   "execution_count": 100,
   "metadata": {},
   "outputs": [],
   "source": [
    "\n",
    "w_A_array = np.array([0., w_SA1.m, w_SA3.m])\n",
    "q_A_array = np.array([0.,q_SA1.m, q_SA3.m])\n",
    "\n",
    "\n",
    "w_C_array = np.array([0.,w_SC1.m, w_SC2.m, w_SC3.m])\n",
    "q_C_array = np.array([0.,q_SC1.m, q_SC2.m, q_SC3.m])"
   ]
  },
  {
   "cell_type": "code",
   "execution_count": 101,
   "metadata": {},
   "outputs": [],
   "source": [
    "fig_q_w, ax_q_w = plt.subplots(figsize=(14/2.54,5.4/2.54))\n",
    "\n",
    "\n",
    "ax_q_w.plot(w_A_array, q_A_array, color='black', label='B500A analytisch')\n",
    "ax_q_w.plot(DF_b500a_res['eZ_1 [mm]'], DF_b500a_res['Lpa'], color='black', linestyle='dashed', label='B500A FEM')\n",
    "\n",
    "ax_q_w.plot(w_C_array, q_C_array, color='gray', label='B500C analytisch')\n",
    "ax_q_w.plot(DF_b500c_res['eZ_1 [mm]'], DF_b500c_res['Lpa'], color='gray', linestyle='dashed', label='B500C FEM')\n",
    "\n",
    "# Add labels and show the plot\n",
    "ax_q_w.set_ylabel(\"$q$ [kN/m]\")\n",
    "ax_q_w.set_xlabel(\"$w$ [mm]\")\n",
    "\n",
    "plt.legend()\n",
    "# Save the plot to the specified file\n",
    "fig_q_w.savefig(\"imgs/jag_q_w.svg\")\n",
    "plt.close()"
   ]
  }
 ],
 "metadata": {
  "kernelspec": {
   "display_name": "calc",
   "language": "python",
   "name": "python3"
  },
  "language_info": {
   "codemirror_mode": {
    "name": "ipython",
    "version": 3
   },
   "file_extension": ".py",
   "mimetype": "text/x-python",
   "name": "python",
   "nbconvert_exporter": "python",
   "pygments_lexer": "ipython3",
   "version": "3.11.9"
  }
 },
 "nbformat": 4,
 "nbformat_minor": 4
}
