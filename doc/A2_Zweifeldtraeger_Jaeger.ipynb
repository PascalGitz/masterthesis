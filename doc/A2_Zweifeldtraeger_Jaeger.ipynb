{
 "cells": [
  {
   "cell_type": "markdown",
   "metadata": {},
   "source": [
    "# Einführungsbeispiel - Zweifeldträger\n",
    "\n",
    "Um den Lesefluss aufrecht zu erhalten, werden im Anhang Bilder wiederholt, anstelle auf den Text zu verweisen.\n",
    "\n",
    "Das Vorlesungsbeispiel verfolgt das Ziel, die Verformungen eines Zweifeldträgers für zwei Betonstähle mit unterschiedlichen Duktilitätsklassen aufzuzeigen. @jager_stahlbeton_2009.\n",
    "\n",
    "![Statisches System des Zweifeldträgers mit Abmessungen versehen](../imgs/jag_system.svg){#fig-jag_system}\n",
    "\n",
    "![Querschnitt des Plattenstreifens](../imgs/jag_system_qs.svg){#fig-jag_system_qs}\n",
    "\n",
    "Zunächst wird die analytische Lösung vollumfänglich dargestellt und mit numerischen Werten substituiert. Abschliessend wird das Verformungsverhalten mit dem Federmodell nachmodelliert, bzw. numerisch approximiert."
   ]
  },
  {
   "cell_type": "markdown",
   "metadata": {},
   "source": [
    "## Allgemeines\n",
    "\n",
    "### Annahmen\n",
    "\n",
    "- Zwei unterschiedliche Stähle\n",
    "- konstant gerissene Biegesteifigkeit entlang der Stabachse\n",
    "\n",
    "### Parameter\n",
    "\n"
   ]
  },
  {
   "cell_type": "code",
   "execution_count": 1,
   "metadata": {},
   "outputs": [],
   "source": [
    "from packages import *"
   ]
  },
  {
   "cell_type": "markdown",
   "metadata": {},
   "source": [
    "#### Bewehrung\n",
    "\n",
    "Zunächst folgen die Parameter der Bewehrung mit den entsprechenden Symbolbezeichnungen"
   ]
  },
  {
   "cell_type": "code",
   "execution_count": 2,
   "metadata": {},
   "outputs": [
    {
     "data": {
      "text/markdown": [
       "$$\n",
       "\\begin{aligned}\n",
       "\\oslash_{x}& = 14 \\ \\mathrm{mm} \\quad & s_{x}& = 200 \\ \\mathrm{mm} \\quad & \\oslash_{y}& = 12 \\ \\mathrm{mm} \\\\ \n",
       "s_{y}& = 200 \\ \\mathrm{mm} \\quad &  \\quad &  \n",
       " \\end{aligned}\n",
       "$$"
      ],
      "text/plain": [
       "<IPython.core.display.Markdown object>"
      ]
     },
     "metadata": {},
     "output_type": "display_data"
    }
   ],
   "source": [
    "# Längsbewehrung in X-Richtung gerichtet\n",
    "diam_x = 14 * un.mm\n",
    "\n",
    "# Teilung der Längsbewehrung\n",
    "s_x = 200 * un.mm\n",
    "\n",
    "# Längsbewehrung in Y-Richtung gerichtet\n",
    "diam_y = 12 * un.mm\n",
    "\n",
    "# Teilung der Längsbewehrung\n",
    "s_y = 200 * un.mm\n",
    "\n",
    "put_out(symbolic=False)"
   ]
  },
  {
   "cell_type": "markdown",
   "metadata": {},
   "source": [
    "Der Querschnitt der Längsbewehrung für den Meterstreifen beträgt dabei:"
   ]
  },
  {
   "cell_type": "code",
   "execution_count": 3,
   "metadata": {},
   "outputs": [
    {
     "data": {
      "text/markdown": [
       "$$\n",
       "\\begin{aligned}\n",
       "a_{s}& = \\frac{\\pi \\cdot \\oslash_{x}^{2}}{4 \\cdot s_{x}} = 769.69 \\ \\frac{\\mathrm{mm}^{2}}{\\mathrm{m}} \\quad &  \\quad &  \n",
       " \\end{aligned}\n",
       "$$"
      ],
      "text/plain": [
       "<IPython.core.display.Markdown object>"
      ]
     },
     "metadata": {},
     "output_type": "display_data"
    }
   ],
   "source": [
    "# Querschnittsfläche der Längsbewehrung, pro Längeneinheit\n",
    "a_s = (diam_x**2 / 4 * np.pi / s_x).to(un.mm**2 / un.m)\n",
    "\n",
    "put_out(symbolic=True)"
   ]
  },
  {
   "cell_type": "markdown",
   "metadata": {},
   "source": [
    "#### Geometrie\n",
    "\n",
    "Die verwendeten Parameter der Geoemtrie sind hier gezeigt."
   ]
  },
  {
   "cell_type": "code",
   "execution_count": 4,
   "metadata": {},
   "outputs": [
    {
     "data": {
      "text/markdown": [
       "$$\n",
       "\\begin{aligned}\n",
       "c& = 20 \\ \\mathrm{mm} \\quad & h& = 300 \\ \\mathrm{mm} \\quad & b_{w}& = 1 \\ \\mathrm{m} \\\\ \n",
       "l& = 8 \\ \\mathrm{m} \\quad &  \\quad &  \n",
       " \\end{aligned}\n",
       "$$"
      ],
      "text/plain": [
       "<IPython.core.display.Markdown object>"
      ]
     },
     "metadata": {},
     "output_type": "display_data"
    }
   ],
   "source": [
    "# Betonüberdeckung\n",
    "c = 20 * un.mm\n",
    "\n",
    "# Plattenstärke\n",
    "h = 300 * un.mm\n",
    "\n",
    "# Streifenbreite\n",
    "b_w = 1 * un.m\n",
    "\n",
    "# Balkenlänge\n",
    "l = 8 * un.m\n",
    "\n",
    "\n",
    "put_out()"
   ]
  },
  {
   "cell_type": "markdown",
   "metadata": {},
   "source": [
    "Daraus lässt sich die statische Höhe der Längsbeweherung in $X$-Richtung bestimmen:"
   ]
  },
  {
   "cell_type": "code",
   "execution_count": 5,
   "metadata": {},
   "outputs": [
    {
     "data": {
      "text/markdown": [
       "$$\n",
       "\\begin{aligned}\n",
       "d_{x}& = - \\frac{1 \\cdot \\oslash_{x}}{2} - \\oslash_{y} - c + h = 261.0 \\ \\mathrm{mm} \\quad &  \\quad &  \n",
       " \\end{aligned}\n",
       "$$"
      ],
      "text/plain": [
       "<IPython.core.display.Markdown object>"
      ]
     },
     "metadata": {},
     "output_type": "display_data"
    }
   ],
   "source": [
    "# Statische Höhe in der Bewehrung in X-Richtung\n",
    "d_x = h - c - diam_y - 1 / 2 * diam_x\n",
    "\n",
    "put_out(symbolic=True)"
   ]
  },
  {
   "cell_type": "markdown",
   "metadata": {},
   "source": [
    "#### Beton"
   ]
  },
  {
   "cell_type": "markdown",
   "metadata": {},
   "source": [
    "Für den Beton gilt die Zylinderdruckfestigkeit, der Elastizitätsmodul und die Bruchstauchung:"
   ]
  },
  {
   "cell_type": "code",
   "execution_count": 6,
   "metadata": {},
   "outputs": [
    {
     "data": {
      "text/markdown": [
       "$$\n",
       "\\begin{aligned}\n",
       "f_{cc}& = 30.0 \\ \\frac{\\mathrm{N}}{\\mathrm{mm}^{2}} \\quad & E_{c}& = 29.3 \\ \\frac{\\mathrm{kN}}{\\mathrm{mm}^{2}} \\quad & \\varepsilon_{cu}& = 5 \\ \\mathrm{‰} \\end{aligned}\n",
       "$$"
      ],
      "text/plain": [
       "<IPython.core.display.Markdown object>"
      ]
     },
     "metadata": {},
     "output_type": "display_data"
    }
   ],
   "source": [
    "# Zylinderdruckfestigkeit vorausgesetzt\n",
    "f_cc = 30 * un.N / un.mm**2\n",
    "\n",
    "# Elastizitätsmodul des Betons\n",
    "E_c = 29.3 * un.kN / un.mm**2\n",
    "\n",
    "# Bruchstauchung Erfahrungswert\n",
    "eps_cu = 5 * un.permille\n",
    "\n",
    "put_out()\n"
   ]
  },
  {
   "cell_type": "markdown",
   "metadata": {},
   "source": [
    "Daraus wird mit empirischen Ansätzen eine Bauteilfestigkeit und eine Betonzugfestigkeit bestimmt."
   ]
  },
  {
   "cell_type": "code",
   "execution_count": 7,
   "metadata": {},
   "outputs": [
    {
     "data": {
      "text/markdown": [
       "$$\n",
       "\\begin{aligned}\n",
       "f_{ct}& = 0.3 \\cdot f_{cc}^{\\frac{2}{3}} = 2.9 \\ \\frac{\\mathrm{N}}{\\mathrm{mm}^{2}} \\\\ \n",
       "f_{c}& = 2.5 \\cdot f_{cc}^{\\frac{2}{3}} = 24.14 \\ \\frac{\\mathrm{N}}{\\mathrm{mm}^{2}} \\end{aligned}\n",
       "$$"
      ],
      "text/plain": [
       "<IPython.core.display.Markdown object>"
      ]
     },
     "metadata": {},
     "output_type": "display_data"
    }
   ],
   "source": [
    "# Betonzugfestigkeit, nicht einheitentreu\n",
    "f_ct = (0.3 * f_cc.m ** (2 / 3)) * un.N / un.mm**2\n",
    "\n",
    "# Effektive Betondruckfestigkeit, nicht einheitentreu\n",
    "f_c = (2.5 * f_cc.m ** (2 / 3)) * un.N / un.mm**2\n",
    "\n",
    "\n",
    "put_out(symbolic=True, evaluate=False, rows=1)"
   ]
  },
  {
   "cell_type": "markdown",
   "metadata": {},
   "source": [
    "### Modellbildung - Zuggurtmodell\n",
    "\n",
    "Schubspannungs-Schlupf-Beziehung"
   ]
  },
  {
   "cell_type": "code",
   "execution_count": 8,
   "metadata": {},
   "outputs": [
    {
     "data": {
      "text/markdown": [
       "$$\n",
       "\\begin{aligned}\n",
       "\\tau_{b0}& = 2 \\cdot f_{ct} = 5.79 \\ \\frac{\\mathrm{N}}{\\mathrm{mm}^{2}} \\\\ \n",
       "\\tau_{b1}& = f_{ct} = 2.9 \\ \\frac{\\mathrm{N}}{\\mathrm{mm}^{2}} \\end{aligned}\n",
       "$$"
      ],
      "text/plain": [
       "<IPython.core.display.Markdown object>"
      ]
     },
     "metadata": {},
     "output_type": "display_data"
    }
   ],
   "source": [
    "# Verbundschubspannung vor dem Fliessen\n",
    "tau_b0 = 2 * f_ct\n",
    "\n",
    "# Verbundschubspannung vor dem Fliessen\n",
    "tau_b1 = f_ct\n",
    "\n",
    "put_out(symbolic=True, rows=1)"
   ]
  },
  {
   "cell_type": "code",
   "execution_count": 9,
   "metadata": {},
   "outputs": [],
   "source": [
    "fig_tau_delta, ax_tau_delta = plt.subplots()\n",
    "\n",
    "delta_array = np.array([0,0.0001,5,5.0001,10, 10.0001])\n",
    "tau_array = np.array([0,tau_b0.m, tau_b0.m, tau_b1.m, tau_b1.m, 0])\n",
    "ax_tau_delta.plot(delta_array, tau_array, color='black')\n",
    "\n",
    "# Add labels and show the plot\n",
    "ax_tau_delta.set_ylabel(\"$\\\\tau$ [N/mm$^2$]\")\n",
    "ax_tau_delta.set_xlabel(\"$\\delta$\")\n",
    "ax_tau_delta.set_xticks([])# Save the plot to the specified file\n",
    "plt.savefig(\"imgs/jag_tau_delta.svg\")\n",
    "plt.close()"
   ]
  },
  {
   "cell_type": "markdown",
   "metadata": {},
   "source": [
    "![Schubspannungs-Schlupf-Beziehung als Basis für das Zuggurtmodell](../imgs/jag_tau_delta.svg){#fig-jag_tau_delta}"
   ]
  },
  {
   "cell_type": "code",
   "execution_count": 10,
   "metadata": {},
   "outputs": [
    {
     "data": {
      "text/markdown": [
       "$$\n",
       "\\begin{aligned}\n",
       "h_{eff}& = 2 \\cdot \\left(- d_{x} + h\\right) = 78.0 \\ \\mathrm{mm} \\\\ \n",
       "\\rho& = \\frac{a_{s}}{h_{eff}} = 0.99 \\ \\mathrm{\\%} \\end{aligned}\n",
       "$$"
      ],
      "text/plain": [
       "<IPython.core.display.Markdown object>"
      ]
     },
     "metadata": {},
     "output_type": "display_data"
    }
   ],
   "source": [
    "# Abschätzung der mitwirkenden Höhe der Betonzugzone\n",
    "h_eff = 2 * (h - d_x)\n",
    "\n",
    "# Geometrischer Bewehrungsgehalt\n",
    "rho = (a_s / h_eff).to(un.percent)\n",
    "\n",
    "put_out(symbolic=True, rows=1)"
   ]
  },
  {
   "cell_type": "markdown",
   "metadata": {},
   "source": [
    "![Risselement](../imgs/jag_risselement.svg){#fig-jag_risselement}"
   ]
  },
  {
   "cell_type": "code",
   "execution_count": 11,
   "metadata": {},
   "outputs": [
    {
     "data": {
      "text/markdown": [
       "$$\n",
       "\\begin{aligned}\n",
       "s_{r0}& = \\frac{\\oslash_{x} \\cdot \\left(1 - \\rho\\right)}{4 \\cdot \\rho} = 351.19 \\ \\mathrm{mm} \\\\ \n",
       "s_{rl}& = 1 \\cdot \\frac{1}{2} \\cdot s_{r0} = 175.59 \\ \\mathrm{mm} \\end{aligned}\n",
       "$$"
      ],
      "text/plain": [
       "<IPython.core.display.Markdown object>"
      ]
     },
     "metadata": {},
     "output_type": "display_data"
    }
   ],
   "source": [
    "# maximaler Rissabstand\n",
    "s_r0 = (diam_x * (1 - rho) / (4 * rho)).to(un.mm)\n",
    "\n",
    "# minimaler Rissabstand\n",
    "s_rl = 1 / 2 * s_r0\n",
    "\n",
    "put_out(symbolic=True, rows=1)"
   ]
  },
  {
   "cell_type": "code",
   "execution_count": 12,
   "metadata": {},
   "outputs": [
    {
     "data": {
      "text/markdown": [
       "$$\n",
       "\\begin{aligned}\n",
       "s_{r}& = 200 \\ \\mathrm{mm} \\quad &  \\quad &  \n",
       " \\end{aligned}\n",
       "$$"
      ],
      "text/plain": [
       "<IPython.core.display.Markdown object>"
      ]
     },
     "metadata": {},
     "output_type": "display_data"
    }
   ],
   "source": [
    "# Annahme des Rissabstandes, entspricht dem Abstand der Querstäbe\n",
    "s_r = 200 * un.mm\n",
    "\n",
    "put_out()"
   ]
  },
  {
   "cell_type": "code",
   "execution_count": 13,
   "metadata": {},
   "outputs": [],
   "source": [
    "# Bestimmung der mittleren Stahldehnung\n",
    "\n",
    "def eps_sm_bilinear(\n",
    "    E_s, E_sh, s_r, tau_b0, tau_b1, diam, sigma_sr, f_sy, f_su, epsilon_sy\n",
    "):\n",
    "    # display(Markdown(\"Berechnungen nach @marti_tragverhalten_1999 Seite 156\"))\n",
    "    if sigma_sr <= f_sy:\n",
    "        # display(Markdown(\"Gleichung 1\"))\n",
    "        return sigma_sr / E_s - tau_b0 * s_r / (E_s * diam)\n",
    "\n",
    "    if f_sy <= sigma_sr <= (f_sy + (2 * tau_b1 * s_r) / diam):\n",
    "        # display(Markdown(\"Gleichung 2\"))\n",
    "        return (\n",
    "            (sigma_sr - f_sy) ** 2\n",
    "            * diam\n",
    "            / (4 * E_sh * tau_b1 * s_r)\n",
    "            * (1 - E_sh * tau_b0 / (E_s * tau_b1))\n",
    "            + (sigma_sr - f_sy) / E_s * tau_b0 / tau_b1\n",
    "            + (epsilon_sy - tau_b0 * s_r / (E_s * diam))\n",
    "        )\n",
    "\n",
    "    if (f_sy + 2 * tau_b1 * s_r / diam) <= sigma_sr <= f_su:\n",
    "        # display(Markdown(\"Gleichung 3\"))\n",
    "        return (sigma_sr - f_sy) / E_sh + (epsilon_sy - tau_b1 * s_r / (E_sh * diam))\n",
    "    \n",
    "\n",
    "# Extending the function to include the equations from Fall B (D.6 to D.10).\n",
    "def eps_sm_trilinear(sigma_max, f_sy, f_sh, fsu, E_s, E_sh1, E_sh2, tau_b0, tau_b1, tau_b2, diam, s_rm, epsilon_sy, epsilon_sh):\n",
    "    # Fall A (D.1 to D.5) logic remains the same:\n",
    "    # Equation D.1: for σ_max ≤ f_sy\n",
    "    if (f_sh - f_sy)*diam/(4*tau_b1) > s_r/2:\n",
    "        # display(Markdown(f\"Da $f_{{sh}}-f_{{sy}} * \\\\frac{{\\\\oslash}}{{4\\cdot \\\\tau_{{b1}}}} = {(f_sh - f_sy) * diam /(4*tau_b1)} \\geq \\\\frac{{s_r}}{{2}} = {s_r/2}$ gilt, wird nach @alvarez_einfluss_1998 Seite 163 Fall A gerechnet\"))\n",
    "        if sigma_max <= f_sy:\n",
    "            # display(Markdown(\"Gleichung 1\"))\n",
    "            esm = (sigma_max / E_s) - (tau_b0 * s_rm) / (E_s * diam)\n",
    "            return esm\n",
    "        \n",
    "        # Equation D.2: for f_sy < σ_max ≤ (f_sy + τ_b1 * s_rm / Ø)\n",
    "        elif f_sy < sigma_max <= (f_sy + (tau_b1 * s_rm / diam)):\n",
    "            # display(Markdown(\"Gleichung 2\"))\n",
    "            term1 = (sigma_max - f_sy)**2 * diam / (4 * E_sh1 * tau_b1 * s_rm)\n",
    "            term2 = (1 - (E_sh1 * tau_b0) / (E_s * tau_b1)) * tau_b0 / E_s\n",
    "            term3 = epsilon_sy - (tau_b0 * s_rm) / (E_s * diam)\n",
    "            esm = term1 + term2 + term3\n",
    "            return esm\n",
    "        \n",
    "        # Equation D.3: for (f_sy + τ_b1 * s_rm / Ø) < σ_max ≤ f_sh\n",
    "        elif (f_sy + (tau_b1 * s_rm / diam)) < sigma_max <= f_sh:\n",
    "            # display(Markdown(\"Gleichung 3\"))\n",
    "            esm = ((sigma_max - f_sy) / E_sh1) + epsilon_sy - (tau_b1 * s_rm) / (E_sh1 * diam)\n",
    "            return esm\n",
    "        \n",
    "        # Equation D.4: for f_sh < σ_max ≤ (f_sh + τ_b2 * s_rm / Ø)\n",
    "        elif f_sh < sigma_max <= (f_sh + (tau_b2 * s_rm / diam)):\n",
    "            # display(Markdown(\"Gleichung 4\"))\n",
    "            term1 = (sigma_max - f_sh)**2 * diam / (4 * E_sh2 * tau_b2 * s_rm)\n",
    "            term2 = (1 - (E_sh2 * tau_b1) / (E_sh1 * tau_b2)) * tau_b1 / E_s\n",
    "            term3 = epsilon_sy - (tau_b2 * s_rm) / (E_sh2 * diam)\n",
    "            esm = term1 + term2 + term3\n",
    "            return esm\n",
    "        \n",
    "        # Equation D.5: for (f_sh + 2 * τ_b2 * s_rm / Ø) ≤ σ_max ≤ f_su\n",
    "        elif (f_sh + (2 * tau_b2 * s_rm / diam)) <= sigma_max <= fsu:\n",
    "            # display(Markdown(\"Gleichung 5\"))\n",
    "            esm = ((sigma_max - f_sh) / E_sh2) + epsilon_sy - (tau_b2 * s_rm) / (E_sh2 * diam)\n",
    "            return esm\n",
    "    \n",
    "    elif (f_sh - f_sy)*diam/(4*tau_b1) <=s_r/2:\n",
    "        # display(Markdown(f\"Da $f_{{sh}}-f_{{sy}} \\cdot \\\\frac{{\\\\oslash}}{{4\\cdot \\\\tau_{{b1}}}} = {(f_sh - f_sy) * diam /(4*tau_b1)} \\leq \\\\frac{{s_r}}{{2}} = {s_r/2}$ gilt, wird nach @alvarez_einfluss_1998 Seite 163 Fall B gerechnet\"))\n",
    "        # Fall B (D.6 to D.10) logic:\n",
    "        # Equation D.6: for σ_max ≤ f_sy\n",
    "        if sigma_max <= f_sy:\n",
    "            # display(Markdown(\"Gleichung 1\"))\n",
    "            esm = (sigma_max / E_s) - (tau_b0 * s_rm) / (E_s * diam)\n",
    "            return esm\n",
    "\n",
    "        # Equation D.7: for f_sy < σ_max ≤ f_sh\n",
    "        elif f_sy < sigma_max <= f_sh:\n",
    "            # display(Markdown(\"Gleichung 2\"))\n",
    "            term1 = ((sigma_max - f_sy)**2 * diam) / (4 * E_sh1 * tau_b1 * s_rm)\n",
    "            term2 = (1 - E_sh1 * tau_b0 / (E_s * tau_b1)) * tau_b0 / E_s\n",
    "            term3 = (sigma_max - f_sy) * tau_b0 / (E_s * tau_b1)\n",
    "            term4 = epsilon_sy - tau_b0 * s_rm / (E_s * diam)\n",
    "            esm = term1 + term2 + term3 + term4\n",
    "            return esm\n",
    "        \n",
    "        # Equation D.8: for f_sh ≤ σ_max ≤ (f_sh + τ_b2 * s_rm / Ø)\n",
    "        elif f_sh <= sigma_max <= (f_sh + 2 * tau_b2 * s_rm / diam - (f_sh - f_sy) * tau_b2 / tau_b1):\n",
    "            # display(Markdown(\"Gleichung 3\"))\n",
    "            term1 = (sigma_max - f_sh)**2 * diam / (4 * E_sh2 * tau_b2 * s_rm)\n",
    "            term2 = (1 - (E_sh2 * tau_b0) / (E_s * tau_b1)) * tau_b0 / E_s\n",
    "            term3 = (sigma_max - f_sh) * tau_b1 / (E_s * tau_b2)\n",
    "            term4 = (epsilon_sy - epsilon_sh) / 2 * tau_b2 / tau_b1\n",
    "            term5 = (epsilon_sy - tau_b0 * s_rm / (E_s * diam)) * tau_b0 / tau_b1\n",
    "            esm = term1 + term2 + term3 + term4 + term5\n",
    "            return esm\n",
    "        \n",
    "        # Equation D.9: for f_sh + τ_b2 * s_rm / Ø ≤ σ_max ≤ f_su\n",
    "        elif (f_sh + 2 * tau_b2 * s_rm / diam - (f_sh - f_sy) * tau_b2 / tau_b1) <= sigma_max <= fsu:\n",
    "            # display(Markdown(\"Gleichung 4\"))\n",
    "            term1 = (sigma_max - f_sh)**2 * diam / (4 * E_sh2 * tau_b2 * s_rm)\n",
    "            term2 = (1 - E_sh2 * tau_b1 / (E_sh1 * tau_b2)) * tau_b1 / E_s\n",
    "            term3 = (sigma_max - f_sh) * tau_b1 / E_sh1\n",
    "            term4 = (epsilon_sy - tau_b2 * s_rm / (E_sh2 * diam)) * tau_b2 / tau_b1\n",
    "            esm = term1 + term2 + term3 + term4\n",
    "            return esm\n",
    "        \n",
    "        # Equation D.10: for (f_sh + 2 * τ_b2 * s_rm / Ø) ≤ σ_max ≤ f_su\n",
    "        elif (f_sh + 2 * tau_b2 * s_rm / diam) <= sigma_max <= fsu:\n",
    "            # display(Markdown(\"Gleichung 5\"))\n",
    "            esm = ((sigma_max - f_sh) / E_sh2) + epsilon_sh - (tau_b2 * s_rm) / (E_sh2 * diam)\n",
    "            return esm\n",
    "        \n",
    "    # If none of the conditions are met, return an error.\n",
    "    else:\n",
    "        raise ValueError(\"σ_max is out of the valid range\")\n",
    "\n",
    "# This function is now extended to handle both Fall A and Fall B scenarios (D.1 to D.10).\n",
    "\n"
   ]
  },
  {
   "cell_type": "markdown",
   "metadata": {},
   "source": []
  },
  {
   "cell_type": "markdown",
   "metadata": {},
   "source": [
    "## Kaltverformter Betonstahl - B500A\n",
    "\n",
    "### Eigenschaften des Betonstahls\n",
    "\n",
    "Allgemein werden die Eigenschaften für den Betonstahl B500A mit einem Suffix $A$ gekennzeichnet.\n"
   ]
  },
  {
   "cell_type": "code",
   "execution_count": 14,
   "metadata": {},
   "outputs": [
    {
     "data": {
      "text/markdown": [
       "$$\n",
       "\\begin{aligned}\n",
       "f_{sy , A}& = 570.0 \\ \\frac{\\mathrm{N}}{\\mathrm{mm}^{2}} \\quad & f_{su , A}& = 600.0 \\ \\frac{\\mathrm{N}}{\\mathrm{mm}^{2}} \\quad & \\varepsilon_{sy , A}& = 2.78 \\ \\mathrm{‰} \\\\ \n",
       "\\varepsilon_{su , A}& = 25 \\ \\mathrm{‰} \\quad & E_{s , A}& = 205.0 \\ \\frac{\\mathrm{kN}}{\\mathrm{mm}^{2}} \\quad & E_{sh , A}& = 1350.0 \\ \\frac{\\mathrm{N}}{\\mathrm{mm}^{2}} \\end{aligned}\n",
       "$$"
      ],
      "text/plain": [
       "<IPython.core.display.Markdown object>"
      ]
     },
     "metadata": {},
     "output_type": "display_data"
    }
   ],
   "source": [
    "# Fliessgrenze\n",
    "f_sy_com_A = 570 * un.N / un.mm**2\n",
    "\n",
    "# Zugfestigkeit\n",
    "f_su_com_A = 600 * un.N / un.mm**2\n",
    "\n",
    "# Fliessdehnung\n",
    "eps_sy_com_A = 2.78 * un.permille\n",
    "\n",
    "# Bruchdehnung\n",
    "eps_su_com_A = 25 * un.permille\n",
    "\n",
    "# Elastizitätsmodul\n",
    "E_s_com_A = 205 * un.kN / un.mm**2\n",
    "\n",
    "# Verfestigungsmodul\n",
    "E_sh_com_A = 1350 * un.N / un.mm**2\n",
    "\n",
    "put_out()"
   ]
  },
  {
   "cell_type": "code",
   "execution_count": 15,
   "metadata": {},
   "outputs": [],
   "source": [
    "# | echo: false\n",
    "\n",
    "stress_b500a_array = np.array([0, f_sy_com_A.m, f_su_com_A.m]) * un.MPa\n",
    "strain_b500a_array = np.array([0, eps_sy_com_A, eps_su_com_A])\n",
    "\n",
    "fig_b500a, ax_b500a = plt.subplots()\n",
    "ax_b500a.plot(strain_b500a_array, stress_b500a_array.to(un.MPa).m, color=\"k\")\n",
    "\n",
    "# Scientific Notation if needed\n",
    "apply_scientific_notation(ax_b500a, stress_b500a_array.m)\n",
    "\n",
    "# Set axis labels\n",
    "ax_b500a.set_ylabel(r\"$\\sigma$ [N/mm$^2$]\")\n",
    "ax_b500a.set_xlabel(r\"$\\varepsilon_s$ [-]\")\n",
    "\n",
    "# Set limits\n",
    "ax_b500a.set_xlim(xmax=135 / 1000)\n",
    "ax_b500a.set_ylim(ymax=750)\n",
    "\n",
    "# Show the plot\n",
    "# plt.tight_layout()\n",
    "plt.savefig(\"imgs/jag_stress_strain_b500a.svg\")\n",
    "plt.close()"
   ]
  },
  {
   "cell_type": "markdown",
   "metadata": {},
   "source": [
    "![Spannungs-Dehnungs-Beziehung des Betonstahls B500A](../imgs/jag_stress_strain_b500a_bearb.svg){#stress_strain_b500a}"
   ]
  },
  {
   "cell_type": "markdown",
   "metadata": {},
   "source": [
    "### Linear elastische - gerissene Biegesteifigkeit\n",
    "\n",
    "Wird fortan für sämtliche Verformungsberechnungen verwendet.\n",
    "Querschnittsanalyse:\n",
    "\n",
    "![Querschnittsanalyse Fliessen der Zugbewehrung, Beton völlig elastisch](../imgs/jag_gerissene_steifigkeit_bearb.svg){#fig-jag_gerissene_steifigkeit}\n"
   ]
  },
  {
   "cell_type": "code",
   "execution_count": 16,
   "metadata": {},
   "outputs": [
    {
     "data": {
      "text/markdown": [
       "$$\n",
       "\\begin{aligned}\n",
       "n& = \\frac{E_{s , A}}{E_{c}} = 7.0 \\  \\quad &  \\quad &  \n",
       " \\end{aligned}\n",
       "$$"
      ],
      "text/plain": [
       "<IPython.core.display.Markdown object>"
      ]
     },
     "metadata": {},
     "output_type": "display_data"
    }
   ],
   "source": [
    "# Wertigkeit der Elastizitätsmodule\n",
    "n = E_s_com_A / E_c\n",
    "\n",
    "put_out(symbolic=True)"
   ]
  },
  {
   "cell_type": "markdown",
   "metadata": {},
   "source": [
    "Die Druckzonenhöhe wird mittels dem Gleichgewicht der horizontalen Kräfte ermittelt"
   ]
  },
  {
   "cell_type": "code",
   "execution_count": 17,
   "metadata": {},
   "outputs": [],
   "source": [
    "# Mittels Sympy (CAS für Python) wird eine analytische Lösung der\n",
    "# Druckzonenhöhe für den gerissenen Querschnitt ermittelt.\n",
    "\n",
    "# Summe der horizontalen Kräfte\n",
    "sum_Fx = sp.sympify(\"1/2*x*b_w*sigma_c -sigma_s*a_s*b_w\")\n",
    "\n",
    "# Definition der Spannung in Abhängigkeit der Dehnungen\n",
    "expr_sigma_c = sp.sympify(\"eps_c * E_c\")\n",
    "expr_sigma_s = sp.sympify(\"eps_s * n * E_c\")\n",
    "\n",
    "# Die Beziehung zwischen der Stahl- und Betondehnung nach Hook\n",
    "expr_epsilon_c = sp.sympify(\"eps_s /(d-x)*x\")\n",
    "\n",
    "# Substitution der Gleichungen\n",
    "sum_Fx_subs = sum_Fx.subs(\n",
    "    {\n",
    "        \"sigma_c\": expr_sigma_c.subs(\"eps_c\", expr_epsilon_c),\n",
    "        \"sigma_s\": expr_sigma_s,\n",
    "    }\n",
    ")\n",
    "\n",
    "# Erstellen einer numerischen Funktion\n",
    "x_solve = sp.solve(sum_Fx_subs, \"x\")[1]\n",
    "x_solve_lambd = sp.lambdify((\"a_s\", \"b_w\", \"n\", \"d\"), x_solve)"
   ]
  },
  {
   "cell_type": "code",
   "execution_count": 18,
   "metadata": {},
   "outputs": [
    {
     "data": {
      "text/markdown": [
       "$$\n",
       "\\begin{aligned}\n",
       "x_{II}& = 47.91 \\ \\mathrm{mm} \\quad &  \\quad &  \n",
       " \\end{aligned}\n",
       "$$"
      ],
      "text/plain": [
       "<IPython.core.display.Markdown object>"
      ]
     },
     "metadata": {},
     "output_type": "display_data"
    }
   ],
   "source": [
    "# Druckzonenhöhe mit Parametern substituiert\n",
    "x_II = x_solve_lambd(a_s, b_w, n, d_x).to(un.mm)\n",
    "\n",
    "put_out(symbolic=False)"
   ]
  },
  {
   "cell_type": "markdown",
   "metadata": {},
   "source": [
    "Damit lässt sich das Flächenträgheitsmoment bestimmen für den gerissenen Querschnitt:"
   ]
  },
  {
   "cell_type": "code",
   "execution_count": 19,
   "metadata": {},
   "outputs": [
    {
     "data": {
      "text/markdown": [
       "$$\n",
       "\\begin{aligned}\n",
       "I_{cII}& = \\frac{b_{w} \\cdot x_{II}^{3}}{12} + b_{w} \\cdot x_{II} \\cdot \\left(\\frac{x_{II}}{2}\\right)^{2} = 36650532.72 \\ \\mathrm{mm}^{4} \\\\ \n",
       "I_{sII}& = a_{s} \\cdot b_{w} \\cdot n \\cdot \\left(d_{x} - x_{II}\\right)^{2} = 244534349.46 \\ \\mathrm{mm}^{4} \\\\ \n",
       "I_{II}& = I_{cII} + I_{sII} = 281184882.18 \\ \\mathrm{mm}^{4} \\end{aligned}\n",
       "$$"
      ],
      "text/plain": [
       "<IPython.core.display.Markdown object>"
      ]
     },
     "metadata": {},
     "output_type": "display_data"
    }
   ],
   "source": [
    "# Flächenmoment 2. Grades für den Beton\n",
    "I_cII = (b_w * x_II**3 / 12 + b_w * x_II * (x_II / 2) ** 2).to(un.mm**4)\n",
    "\n",
    "# Flächenmoment 2. Grades für den Betonstahl\n",
    "I_sII = (a_s * b_w * n * (d_x - x_II) ** 2).to(un.mm**4)\n",
    "\n",
    "# Flächenmoment 2. Grades für den gerissenen Querschnitt\n",
    "I_II = (I_cII + I_sII).to(un.mm**4)\n",
    "\n",
    "put_out(symbolic=True, rows=1, evaluate=False)"
   ]
  },
  {
   "cell_type": "markdown",
   "metadata": {},
   "source": [
    "Abschliessend folgt die gerissene Biegesteifigkeit zu:"
   ]
  },
  {
   "cell_type": "code",
   "execution_count": 20,
   "metadata": {},
   "outputs": [
    {
     "data": {
      "text/markdown": [
       "$$\n",
       "\\begin{aligned}\n",
       "EI_{II , A}& = E_{c} \\cdot I_{II} = 8238.72 \\ \\mathrm{kN} \\cdot \\mathrm{m}^{2} \\quad &  \\quad &  \n",
       " \\end{aligned}\n",
       "$$"
      ],
      "text/plain": [
       "<IPython.core.display.Markdown object>"
      ]
     },
     "metadata": {},
     "output_type": "display_data"
    }
   ],
   "source": [
    "# Gerissene Biegesteifigkeit\n",
    "EI_II_com_A = (E_c * I_II).to(un.kN * un.m**2)\n",
    "\n",
    "put_out(symbolic=True)"
   ]
  },
  {
   "cell_type": "markdown",
   "metadata": {},
   "source": [
    "### Hebelarm der inneren Kräfte"
   ]
  },
  {
   "cell_type": "markdown",
   "metadata": {},
   "source": [
    "Der Hebelarm der inneren Kräfte wird für den gesamten Träger als konstant angenommen.\n",
    "Dabei wird dem Beton die Zylinderdruckfestigkeit hinterlegt, sowie erreicht der Stahl die Zugfestigkeit. \n",
    "\n",
    "![Querschnittsanalyse zur Bestimmung des Hebelarms der inneren Kräfte](../imgs/jag_hebelarm_A.png){#fig-jag_hebelarm_A}"
   ]
  },
  {
   "cell_type": "code",
   "execution_count": 21,
   "metadata": {},
   "outputs": [
    {
     "data": {
      "text/markdown": [
       "$$\n",
       "\\begin{aligned}\n",
       "x_{u , A}& = \\frac{a_{s} \\cdot b_{w} \\cdot f_{su , A}}{0.85 \\cdot b_{w} \\cdot f_{cc}} = 18.11 \\ \\mathrm{mm} \\\\ \n",
       "z_{, A}& = d_{x} - 1 \\cdot \\frac{1}{2} \\cdot 0.85 \\cdot x_{u , A} = 253.3 \\ \\mathrm{mm} \\\\ \n",
       "m_{u , A}& = a_{s} \\cdot f_{su , A} \\cdot z_{, A} = 116.98 \\ \\frac{\\mathrm{kNm}}{\\mathrm{m}} \\end{aligned}\n",
       "$$"
      ],
      "text/plain": [
       "<IPython.core.display.Markdown object>"
      ]
     },
     "metadata": {},
     "output_type": "display_data"
    }
   ],
   "source": [
    "# Druckzonenhöhe für den Biegewiderstand\n",
    "x_u_com_A = (a_s * b_w * f_su_com_A / (0.85 * f_cc * b_w)).to(un.mm)\n",
    "\n",
    "# Hebelarm der inneren Kräfte für den Biegewiderstand\n",
    "z_com_A = d_x - 1 / 2 * 0.85 * x_u_com_A \n",
    "\n",
    "# Biegewiderstand\n",
    "m_u_com_A = (a_s * f_su_com_A * z_com_A).to(un.kNm / un.m)\n",
    "\n",
    "put_out(symbolic=True, evaluate=False, rows=1)"
   ]
  },
  {
   "cell_type": "markdown",
   "metadata": {},
   "source": [
    "### Grenzzustände des Zugglieds\n",
    "\n",
    "Nun werden zwei Grenzzustände des Zugglieds betrachtet. Zum Einen bei Fliessbeginn, zum anderen beim Erreichen der Zugfestigkeit. Dies dient zur Ermittlung der mittleren Stahldehnung beim Erreichen eines Fliessgelenks und einem plastischen Gelenk."
   ]
  },
  {
   "cell_type": "markdown",
   "metadata": {},
   "source": [
    "#### Risselement bei Fliessbeginn - Zustand $A1$\n",
    "\n",
    "Zunächst wird ein Grenzzustand betrachtet, bei dem das Risselement gerade beim Fliessbeginn steht."
   ]
  },
  {
   "cell_type": "code",
   "execution_count": 22,
   "metadata": {},
   "outputs": [
    {
     "data": {
      "text/markdown": [
       "$$\n",
       "\\begin{aligned}\n",
       "\\sigma_{1 s , A1}& = f_{sy , A} = 570.0 \\ \\frac{\\mathrm{N}}{\\mathrm{mm}^{2}} \\\\ \n",
       "\\sigma_{2 s , A1}& = f_{sy , A} - \\frac{4 \\cdot s_{r} \\cdot \\tau_{b0}}{2 \\cdot \\oslash_{x}} = 404.49 \\ \\frac{\\mathrm{N}}{\\mathrm{mm}^{2}} \\end{aligned}\n",
       "$$"
      ],
      "text/plain": [
       "<IPython.core.display.Markdown object>"
      ]
     },
     "metadata": {},
     "output_type": "display_data"
    }
   ],
   "source": [
    "# Stahlspannungen\n",
    "sigma_1_s_com_A1 = f_sy_com_A\n",
    "sigma_2_s_com_A1 = f_sy_com_A - 4 * tau_b0 * s_r / 2 / diam_x\n",
    "\n",
    "put_out(symbolic=True, rows=1)"
   ]
  },
  {
   "cell_type": "markdown",
   "metadata": {},
   "source": [
    "Die folgenden Dehnungen stellen sich dabei ein:"
   ]
  },
  {
   "cell_type": "code",
   "execution_count": 23,
   "metadata": {},
   "outputs": [
    {
     "data": {
      "text/markdown": [
       "$$\n",
       "\\begin{aligned}\n",
       "\\varepsilon_{1 s , A1}& = \\frac{\\sigma_{1 s , A1}}{E_{s , A}} = 2.78 \\ \\mathrm{‰} \\\\ \n",
       "\\varepsilon_{2 s , A1}& = \\frac{\\sigma_{2 s , A1}}{E_{s , A}} = 1.97 \\ \\mathrm{‰} \\end{aligned}\n",
       "$$"
      ],
      "text/plain": [
       "<IPython.core.display.Markdown object>"
      ]
     },
     "metadata": {},
     "output_type": "display_data"
    }
   ],
   "source": [
    "\n",
    "# Stahldehnungen\n",
    "eps_1_s_com_A1 = (sigma_1_s_com_A1 / E_s_com_A).to(un.permille)\n",
    "eps_2_s_com_A1 = (sigma_2_s_com_A1 / E_s_com_A).to(un.permille)\n",
    "\n",
    "put_out(symbolic=True, rows=1)"
   ]
  },
  {
   "cell_type": "markdown",
   "metadata": {},
   "source": [
    "Dabei stellt sich die folgende mittlere Stahldehnung ein. Berechnungen nach @marti_tragverhalten_1999 Seite 156."
   ]
  },
  {
   "cell_type": "code",
   "execution_count": 24,
   "metadata": {},
   "outputs": [
    {
     "data": {
      "text/markdown": [
       "$$\n",
       "\\begin{aligned}\n",
       "\\varepsilon_{m s , A1}& = 2.38 \\ \\mathrm{‰} \\quad &  \\quad &  \n",
       " \\end{aligned}\n",
       "$$"
      ],
      "text/plain": [
       "<IPython.core.display.Markdown object>"
      ]
     },
     "metadata": {},
     "output_type": "display_data"
    }
   ],
   "source": [
    "# Mittlere Stahldehnung nach \n",
    "eps_m_s_com_A1 = eps_sm_bilinear(E_s_com_A, E_sh_com_A, s_r, tau_b0, tau_b1, diam_x, f_sy_com_A, f_sy_com_A, f_su_com_A, eps_sy_com_A).to(un.permille)\n",
    "\n",
    "put_out()\n"
   ]
  },
  {
   "cell_type": "markdown",
   "metadata": {},
   "source": [
    "Das Fliessmoment beträgt dabei:"
   ]
  },
  {
   "cell_type": "code",
   "execution_count": 25,
   "metadata": {},
   "outputs": [
    {
     "data": {
      "text/markdown": [
       "$$\n",
       "\\begin{aligned}\n",
       "m_{y , A}& = a_{s} \\cdot f_{sy , A} \\cdot z_{, A} = 111.13 \\ \\frac{\\mathrm{kNm}}{\\mathrm{m}} \\quad &  \\quad &  \n",
       " \\end{aligned}\n",
       "$$"
      ],
      "text/plain": [
       "<IPython.core.display.Markdown object>"
      ]
     },
     "metadata": {},
     "output_type": "display_data"
    }
   ],
   "source": [
    "# Fliessmoment\n",
    "m_y_com_A = (a_s * f_sy_com_A * z_com_A).to(un.kNm / un.m)\n",
    "\n",
    "put_out(symbolic=True)"
   ]
  },
  {
   "cell_type": "code",
   "execution_count": 26,
   "metadata": {},
   "outputs": [],
   "source": [
    "# | echo: false\n",
    "\n",
    "\n",
    "def plot_stress_strain(\n",
    "    coordinates,\n",
    "    filename,\n",
    "    strain_mean=0,\n",
    "    strain=False,\n",
    "    stress=True,\n",
    "):\n",
    "\n",
    "    # Plot the polygon\n",
    "    x, y = zip(*coordinates)  # Unzip the coordinates into x and y\n",
    "\n",
    "    fig, ax = plt.subplots()\n",
    "\n",
    "    if strain == True:\n",
    "        stress = False\n",
    "        y = np.array(y)*1000  # Convert to permille\n",
    "        xlabel = r\"$x$ [mm]\"\n",
    "        permille = '$10^{-3}$'\n",
    "        ylabel = rf\"$\\varepsilon$ [{permille}]\"\n",
    "        \n",
    "        # Append the first point to close the polygon\n",
    "        x = np.append(x, x[0])\n",
    "        y = np.append(y, y[0])\n",
    "\n",
    "        # Plot the coordinates\n",
    "        ax.plot(x, y, \"black\")\n",
    "        ax.fill(x, y, color=\"darkgray\", alpha=0.2)\n",
    "        ax.axhline(strain_mean, linestyle='--', color = 'black')\n",
    "\n",
    "    if stress == True:\n",
    "        xlabel = r\"$x$ [mm]\"\n",
    "        ylabel = r\"$\\sigma$ [N/mm$^2$]\"\n",
    "        \n",
    "        # Append the first point to close the polygon\n",
    "        x = np.append(x, x[0])\n",
    "        y = np.append(y, y[0])\n",
    "\n",
    "        # Plot the coordinates\n",
    "        ax.plot(x, y, \"black\")\n",
    "\n",
    "\n",
    "    # Add labels and show the plot\n",
    "    ax.set_ylabel(ylabel)\n",
    "    ax.set_xlabel(xlabel)\n",
    "\n",
    "    # Save the plot to the specified file\n",
    "    plt.savefig(filename)\n",
    "    plt.close()\n"
   ]
  },
  {
   "cell_type": "code",
   "execution_count": 27,
   "metadata": {},
   "outputs": [],
   "source": [
    "# | echo: false\n",
    "\n",
    "coords_a1_stress = [\n",
    "    (0, 0),\n",
    "    (s_r.m / 2, 0),\n",
    "    (s_r.m / 2, sigma_2_s_com_A1.m),\n",
    "    (0, sigma_1_s_com_A1.m),\n",
    "]\n",
    "\n",
    "plot_stress_strain(coords_a1_stress, \"imgs/jag_stress_a1.svg\", stress=True)\n",
    "\n",
    "\n",
    "coords_a1_strain = [\n",
    "    (0, 0),\n",
    "    (s_r.m / 2, 0),\n",
    "    (s_r.m / 2, eps_2_s_com_A1),\n",
    "    (0, eps_1_s_com_A1),\n",
    "]\n",
    "\n",
    "plot_stress_strain(coords_a1_strain, \"imgs/jag_strain_a1.svg\", strain=True,strain_mean=eps_m_s_com_A1.m)"
   ]
  },
  {
   "cell_type": "markdown",
   "metadata": {},
   "source": [
    "::: {#fig-jag_zustand_a1 layout-ncol=2}\n",
    "![Spannungsverlauf entlang des Zugglieds auf halbem Rissabstand](../imgs/jag_stress_a1.svg){#fig-jag_stress_a1}\n",
    "\n",
    "![Dehnungsverlauf entlang des Zugglieds auf halbem Rissabstand](../imgs/jag_strain_a1.svg){#fig-jag_strain_a1}\n",
    "\n",
    "Spannungs- und Dehnungsverlauf entlang der Hälfte des Rissabstands für den Zustand $A1$\n",
    ":::"
   ]
  },
  {
   "cell_type": "markdown",
   "metadata": {},
   "source": [
    "#### Risselement beim Erreichen der Zugfestigkeit - Zustand $A2$\n",
    "\n",
    "Innerhalb des Risselements befindet sich der Betonstahl über der Fliessgrenze, sowohl bereichsweise unterhalb der Fliessgrenze. Dies führt zu den folgenden Spannungs- und Dehnungsverteilungen.\n",
    "\n",
    "Dazu wird zunächst der Bereich bestimmt, in dem die Bewehrung sich im plastischen Bereich befindet innerhalb des Zugglieds:"
   ]
  },
  {
   "cell_type": "code",
   "execution_count": 28,
   "metadata": {},
   "outputs": [
    {
     "data": {
      "text/markdown": [
       "$$\n",
       "\\begin{aligned}\n",
       "\\Delta_{x pl , A2}& = \\frac{f_{su , A} - f_{sy , A}}{4 \\cdot \\frac{1}{\\oslash_{x}} \\cdot \\tau_{b1}} = 36.25 \\ \\mathrm{mm} \\\\ \n",
       "\\Delta_{x el , A2}& = - \\Delta_{x pl , A2} + \\frac{s_{r}}{2} = 63.75 \\ \\mathrm{mm} \\end{aligned}\n",
       "$$"
      ],
      "text/plain": [
       "<IPython.core.display.Markdown object>"
      ]
     },
     "metadata": {},
     "output_type": "display_data"
    }
   ],
   "source": [
    "# Plastischer Bereich\n",
    "Delta_x_pl_com_A2 = (f_su_com_A - f_sy_com_A) / (4 * tau_b1 / diam_x)\n",
    "\n",
    "# Elastischer Bereich\n",
    "Delta_x_el_com_A2 = s_r / 2 - Delta_x_pl_com_A2\n",
    "\n",
    "put_out(symbolic=True, evaluate=False, rows=1)"
   ]
  },
  {
   "cell_type": "markdown",
   "metadata": {},
   "source": [
    "Die entsprechenden Spannungen und Dehnungen sin die folgenden. Dargestellt sind diese in der @fig-jag_zustand_a2."
   ]
  },
  {
   "cell_type": "code",
   "execution_count": 29,
   "metadata": {},
   "outputs": [
    {
     "data": {
      "text/markdown": [
       "$$\n",
       "\\begin{aligned}\n",
       "\\sigma_{3 s , A2}& = - \\frac{4 \\cdot \\Delta_{x el , A2} \\cdot \\tau_{b0}}{\\oslash_{x}} + f_{sy , A} = 464.49 \\ \\frac{\\mathrm{N}}{\\mathrm{mm}^{2}} \\\\ \n",
       "\\sigma_{2 s , A2}& = f_{sy , A} = 570.0 \\ \\frac{\\mathrm{N}}{\\mathrm{mm}^{2}} \\\\ \n",
       "\\sigma_{1 s , A2}& = \\frac{4 \\cdot \\Delta_{x pl , A2} \\cdot \\tau_{b1}}{\\oslash_{x}} + f_{sy , A} = 600.0 \\ \\frac{\\mathrm{N}}{\\mathrm{mm}^{2}} \\end{aligned}\n",
       "$$"
      ],
      "text/plain": [
       "<IPython.core.display.Markdown object>"
      ]
     },
     "metadata": {},
     "output_type": "display_data"
    }
   ],
   "source": [
    "# Stahlspannungen\n",
    "sigma_3_s_com_A2 = f_sy_com_A - 4 * tau_b0 * Delta_x_el_com_A2 / diam_x\n",
    "sigma_2_s_com_A2 = f_sy_com_A\n",
    "sigma_1_s_com_A2 = f_sy_com_A + 4 * tau_b1 * Delta_x_pl_com_A2 / diam_x\n",
    "\n",
    "put_out(symbolic=True, rows=1)"
   ]
  },
  {
   "cell_type": "markdown",
   "metadata": {},
   "source": [
    "Die folgenden Dehnungen resultieren daraus:"
   ]
  },
  {
   "cell_type": "code",
   "execution_count": 30,
   "metadata": {},
   "outputs": [
    {
     "data": {
      "text/markdown": [
       "$$\n",
       "\\begin{aligned}\n",
       "\\varepsilon_{1 s , A2}& = \\varepsilon_{su , A} = 25 \\ \\mathrm{‰} \\\\ \n",
       "\\varepsilon_{2 s , A2}& = \\varepsilon_{sy , A} = 2.78 \\ \\mathrm{‰} \\\\ \n",
       "\\varepsilon_{3 s , A2}& = \\frac{\\sigma_{3 s , A2}}{E_{s , A}} = 2.27 \\ \\mathrm{‰} \\end{aligned}\n",
       "$$"
      ],
      "text/plain": [
       "<IPython.core.display.Markdown object>"
      ]
     },
     "metadata": {},
     "output_type": "display_data"
    }
   ],
   "source": [
    "\n",
    "# Stahldehnung\n",
    "eps_1_s_com_A2 = eps_su_com_A\n",
    "eps_2_s_com_A2 = eps_sy_com_A\n",
    "eps_3_s_com_A2 = (sigma_3_s_com_A2 / E_s_com_A).to(un.permille)\n",
    "\n",
    "put_out(symbolic=True, rows=1, evaluate=False)"
   ]
  },
  {
   "cell_type": "markdown",
   "metadata": {},
   "source": [
    "Und die mittlere Stahldehnung beträgt dabei:"
   ]
  },
  {
   "cell_type": "code",
   "execution_count": 31,
   "metadata": {},
   "outputs": [
    {
     "data": {
      "text/markdown": [
       "$$\n",
       "\\begin{aligned}\n",
       "\\varepsilon_{m s , A2}& = 6.64 \\ \\mathrm{‰} \\quad &  \\quad &  \n",
       " \\end{aligned}\n",
       "$$"
      ],
      "text/plain": [
       "<IPython.core.display.Markdown object>"
      ]
     },
     "metadata": {},
     "output_type": "display_data"
    }
   ],
   "source": [
    "# Mittlere Stahldehnung\n",
    "eps_m_s_com_A2 = eps_sm_bilinear(\n",
    "    E_s_com_A, E_sh_com_A, s_r, tau_b0, tau_b1, diam_x, f_su_com_A, f_sy_com_A, f_su_com_A, eps_sy_com_A\n",
    ").to(un.permille)\n",
    "\n",
    "put_out()"
   ]
  },
  {
   "cell_type": "code",
   "execution_count": 32,
   "metadata": {},
   "outputs": [],
   "source": [
    "# | echo: false\n",
    "\n",
    "coords_A2_stress = [\n",
    "    (0, 0), \n",
    "    (Delta_x_pl_com_A2.m, 0), \n",
    "    (s_r.m / 2, 0), \n",
    "    (s_r.m / 2, sigma_3_s_com_A2.m), \n",
    "    (Delta_x_pl_com_A2.m, sigma_2_s_com_A2.m),\n",
    "    (0, sigma_1_s_com_A2.m)\n",
    "    ]\n",
    "\n",
    "plot_stress_strain(coords_A2_stress, \"imgs/jag_stress_a2.svg\", stress=True)\n",
    "\n",
    "\n",
    "coords_Z2_strain = [\n",
    "    (0, 0),\n",
    "    (Delta_x_pl_com_A2.m, 0),\n",
    "    (s_r.m / 2, 0),\n",
    "    (s_r.m / 2, eps_3_s_com_A2),\n",
    "    (Delta_x_pl_com_A2.m, eps_2_s_com_A2),\n",
    "    (0, eps_1_s_com_A2),\n",
    "]\n",
    "\n",
    "plot_stress_strain(coords_Z2_strain, \"imgs/jag_strain_a2.svg\", strain=True, strain_mean=eps_m_s_com_A2.m)"
   ]
  },
  {
   "cell_type": "markdown",
   "metadata": {},
   "source": [
    "::: {#fig-jag_zustand_a2 layout-ncol=2}\n",
    "![Spannungsverlauf entlang des Zugglieds auf halbem Rissabstand](../imgs/jag_stress_a2.svg){#fig-jag_stress_a2}\n",
    "\n",
    "![Dehnungsverlauf entlang des Zugglieds auf halbem Rissabstand](../imgs/jag_strain_a2.svg){#fig-jag_strain_a2}\n",
    "\n",
    "Spannungs- und Dehnungsverlauf entlang der Hälfte des Rissabstands für den Zustand $A2$\n",
    ":::"
   ]
  },
  {
   "cell_type": "markdown",
   "metadata": {},
   "source": [
    "#### Zusammenfassung\n",
    "\n",
    "Zusammenfassend sind die Werte erneut aufgezeigt. Fliessen und Erreichen der Zugfestigkeit:"
   ]
  },
  {
   "cell_type": "code",
   "execution_count": 33,
   "metadata": {},
   "outputs": [
    {
     "data": {
      "text/markdown": [
       "$$\n",
       "\\begin{aligned}\n",
       "\\varepsilon_{m s , A1}& = 2.38 \\ \\mathrm{‰} \\quad & m_{y , A}& = 111.13 \\ \\frac{\\mathrm{kNm}}{\\mathrm{m}} \\\\ \n",
       "\\varepsilon_{m s , A2}& = 6.64 \\ \\mathrm{‰} \\quad & m_{u , A}& = 116.98 \\ \\frac{\\mathrm{kNm}}{\\mathrm{m}} \\end{aligned}\n",
       "$$"
      ],
      "text/plain": [
       "<IPython.core.display.Markdown object>"
      ]
     },
     "metadata": {},
     "output_type": "display_data"
    }
   ],
   "source": [
    "eps_m_s_com_A1\n",
    "m_y_com_A\n",
    "eps_m_s_com_A2\n",
    "m_u_com_A\n",
    "\n",
    "\n",
    "put_out(symbolic=False, rows=2)"
   ]
  },
  {
   "cell_type": "markdown",
   "metadata": {},
   "source": [
    "### Systemanalyse \n",
    "\n",
    "Nun wird das System analysiert, sprich der Zweifeldträger.\n",
    "\n",
    "![Definition der plastischen Rotation](../imgs/jag_mechanismus.svg){#fig-jag_mechanismus}\n",
    "\n",
    "\n",
    "![Definition der plastischen Rotation beim Mittelauflager.Links ein Fliessen beim Mittelauflager führt zu keiner plastischen Rotation, in der Mitte die maximale Rotation zum Erreichen der Traglast, und rechts die effektive Traglast mit begrenzter Plastischer Rotation](../imgs/jag_plast_rot_A.svg){#fig-jag_plast_rot_A}"
   ]
  },
  {
   "cell_type": "markdown",
   "metadata": {},
   "source": [
    "#### Fliessen des Mittelauflagers - Zustand $SA1$\n",
    "\n",
    "Zunächst wird sich ein Fliessgelenk beim Mittelauflager ausbilden. Dazu wird nun die zugehörige Streckenlast berechnet und die entsprechende Felddeformation ermittelt."
   ]
  },
  {
   "cell_type": "code",
   "execution_count": 34,
   "metadata": {},
   "outputs": [
    {
     "data": {
      "text/markdown": [
       "$$\n",
       "\\begin{aligned}\n",
       "m_{SA1 , B}& = m_{y , A} = 111.13 \\ \\frac{\\mathrm{kNm}}{\\mathrm{m}} \\\\ \n",
       "q_{SA1}& = \\frac{8 \\cdot b_{w} \\cdot m_{SA1 , B}}{l^{2}} = 13.89 \\ \\frac{\\mathrm{kN}}{\\mathrm{m}} \\\\ \n",
       "w_{SA1}& = \\frac{5 \\cdot l^{4} \\cdot q_{SA1}}{384 \\cdot EI_{II , A}} - \\frac{b_{w} \\cdot l^{2} \\cdot m_{y , A}}{16 \\cdot EI_{II , A}} = 35.97 \\ \\mathrm{mm} \\end{aligned}\n",
       "$$"
      ],
      "text/plain": [
       "<IPython.core.display.Markdown object>"
      ]
     },
     "metadata": {},
     "output_type": "display_data"
    }
   ],
   "source": [
    "m_SA1_com_B = m_y_com_A\n",
    "# Die Streckenlast zum Erreichen des Fliessens bei B\n",
    "q_SA1 = (8 * m_SA1_com_B*b_w / l**2).to(un.kN/un.m)\n",
    "\n",
    "\n",
    "# maximale Verformung im Feld \n",
    "w_SA1 = (5 * q_SA1 * l**4 / (384 * EI_II_com_A) - m_y_com_A*b_w * l**2 / (16 * EI_II_com_A)).to(un.mm)\n",
    "\n",
    "put_out(symbolic=True, evaluate=False, rows=1)"
   ]
  },
  {
   "cell_type": "markdown",
   "metadata": {},
   "source": [
    "#### Fliessbeginn im Feld - Zustand $SA2$\n",
    "\n",
    "Beim Zustand zwei wird das Feldmoment ermittelt. Dabei wird beim Mittelauflager der Biegewiderstand hinterlegt. Im Feld wird das Fliessmoment angenommen.\n",
    "\n",
    "![Fliessen im Feld](../imgs/jag_my_feld_A.svg){#fig-jag_my_feld_A}"
   ]
  },
  {
   "cell_type": "markdown",
   "metadata": {},
   "source": [
    "Daraus lässt sich die entsprechende Streckenlast ermitteln. Dies bedingt eine ausreichende Umlagerung, sprich Rotationsvermögen des Mittelauflagers."
   ]
  },
  {
   "cell_type": "code",
   "execution_count": 35,
   "metadata": {},
   "outputs": [
    {
     "data": {
      "text/markdown": [
       "$$\n",
       "\\begin{aligned}\n",
       "q_{SA2}& = b_{w} \\cdot \\left(\\frac{2 \\cdot m_{u , A} + 4 \\cdot m_{y , A}}{l^{2}} + \\frac{4 \\cdot \\sqrt{m_{u , A} \\cdot m_{y , A} + m_{y , A}^{2}}}{l^{2}}\\right) = 20.55 \\ \\frac{\\mathrm{kN}}{\\mathrm{m}} \\end{aligned}\n",
       "$$"
      ],
      "text/plain": [
       "<IPython.core.display.Markdown object>"
      ]
     },
     "metadata": {},
     "output_type": "display_data"
    }
   ],
   "source": [
    "# Streckenlast beim Fliessbeginn im Feld\n",
    "q_SA2 = (((4 * m_y_com_A + 2 * m_u_com_A) / l**2 + 4 / l**2 * np.sqrt(m_y_com_A**2 + m_y_com_A * m_u_com_A))*b_w).to(un.kN/un.m)\n",
    "\n",
    "put_out(symbolic=True, evaluate=False, rows=1)\n"
   ]
  },
  {
   "cell_type": "markdown",
   "metadata": {},
   "source": [
    "##### Kontrolle der Duktilität\n",
    "\n",
    "Ob das Rotationsvermögen ausreichend ist, wird folglich bestimmt. Der benötigte Rotationswinkel kann mithilfe der Arbeitsgleichung bestimmt werden."
   ]
  },
  {
   "cell_type": "code",
   "execution_count": 36,
   "metadata": {},
   "outputs": [
    {
     "data": {
      "text/markdown": [
       "$$\n",
       "\\begin{aligned}\n",
       "\\alpha_{SA2}& = \\frac{l^{3} \\cdot \\left(- q_{SA1} + q_{SA2}\\right)}{24 \\cdot EI_{II , A}} - \\frac{b_{w} \\cdot l \\cdot \\left(m_{u , A} - m_{y , A}\\right)}{3 \\cdot EI_{II , A}} = 0.88 \\ \\mathrm{°} \\\\ \n",
       "\\Theta_{SA2 , erf}& = 2 \\cdot \\alpha_{SA2} = 1.76 \\ \\mathrm{°} \\end{aligned}\n",
       "$$"
      ],
      "text/plain": [
       "<IPython.core.display.Markdown object>"
      ]
     },
     "metadata": {},
     "output_type": "display_data"
    }
   ],
   "source": [
    "# Rotationswinkel (Verwendung der Arbeitsgleichung)\n",
    "alpha_SA2 = ((q_SA2 - q_SA1) * l**3 / (24 * EI_II_com_A) - (m_u_com_A - m_y_com_A) * b_w * l / (3 * EI_II_com_A)).to(un.deg)\n",
    "\n",
    "# Verformungsbedarf\n",
    "Theta_SA2_com_erf = 2 * alpha_SA2\n",
    "\n",
    "\n",
    "put_out(symbolic=True, evaluate=False, rows=1)"
   ]
  },
  {
   "cell_type": "markdown",
   "metadata": {},
   "source": [
    "\n",
    "\n",
    "Der Plastische Roatationswinkel gibt die Rotation eines plastischen Gelenks voraus. \n",
    "\n",
    "![Modell zur Abschätzung der plastischen Rotation, nachgezeichnet nach @kaufmann_2_2017](../imgs/jag_plast_gelenk.svg){#fig-plast_rot}"
   ]
  },
  {
   "cell_type": "markdown",
   "metadata": {},
   "source": [
    "Dabei wird eine Länge des Gelenks angenommen, hier entspricht diese der doppelten statischen Höhe. Für den Betonstahl B500A gilt daher die folgende maximale plastische Roatation - sprich das Verformungsvermögen:"
   ]
  },
  {
   "cell_type": "code",
   "execution_count": 37,
   "metadata": {},
   "outputs": [
    {
     "data": {
      "text/markdown": [
       "$$\n",
       "\\begin{aligned}\n",
       "l_{pl}& = 2 \\cdot d_{x} = 522.0 \\ \\mathrm{mm} \\\\ \n",
       "\\Theta_{max , A}& = \\frac{l_{pl} \\cdot \\left(- \\varepsilon_{m s , A1} + \\varepsilon_{m s , A2}\\right)}{d_{x} - x_{u , A}} = 0.53 \\ \\mathrm{°} \\end{aligned}\n",
       "$$"
      ],
      "text/plain": [
       "<IPython.core.display.Markdown object>"
      ]
     },
     "metadata": {},
     "output_type": "display_data"
    }
   ],
   "source": [
    "# Annahme für die Länge des Gelenks\n",
    "l_pl = 2 * d_x\n",
    "\n",
    "# Verformungsvermögen\n",
    "Theta_max_com_A = (l_pl * (eps_m_s_com_A2 - eps_m_s_com_A1) / (d_x - x_u_com_A)).to(un.deg)\n",
    "\n",
    "\n",
    "put_out(symbolic=True, rows=1)"
   ]
  },
  {
   "cell_type": "markdown",
   "metadata": {},
   "source": [
    "Das Verformungsvermögen ist nicht ausreichend."
   ]
  },
  {
   "cell_type": "markdown",
   "metadata": {},
   "source": [
    "#### Ermittlung der Traglast - Zustand $SA3$\n",
    "\n",
    "Da das Verformungsvermögen nicht ausreicht, wird mittels dem Verformungsvermögen die Traglast bestimmt. Dabei wird der Rotationswinkel vorgegeben und die daraus resultierende Differenz der Streckenlast zum Zustand $SA1$ ermittelt. Aus der Addition der beiden Zustände folgt die Traglast, welche das Verformungsvermögen einhält."
   ]
  },
  {
   "cell_type": "code",
   "execution_count": 38,
   "metadata": {},
   "outputs": [
    {
     "data": {
      "text/markdown": [
       "$$\n",
       "\\begin{aligned}\n",
       "\\alpha_{SA3}& = \\frac{\\Theta_{max , A}}{2} = 0.26 \\ \\mathrm{°} \\\\ \n",
       "\\Delta_{q , SA3}& = \\left(\\alpha_{SA3} + \\frac{b_{w} \\cdot l \\cdot \\left(m_{u , A} - m_{y , A}\\right)}{3 \\cdot EI_{II , A}}\\right) \\cdot 24 \\cdot EI_{II , A} \\cdot \\frac{1}{l^{3}} = 2.5 \\ \\frac{\\mathrm{kN}}{\\mathrm{m}} \\\\ \n",
       "q_{SA3}& = \\Delta_{q , SA3} + q_{SA1} = 16.39 \\ \\frac{\\mathrm{kN}}{\\mathrm{m}} \\end{aligned}\n",
       "$$"
      ],
      "text/plain": [
       "<IPython.core.display.Markdown object>"
      ]
     },
     "metadata": {},
     "output_type": "display_data"
    }
   ],
   "source": [
    "# maximaler Rotationswinkel\n",
    "alpha_SA3 = Theta_max_com_A / 2\n",
    "\n",
    "# Streckenlast bis zum maximalen Rotationswinkel\n",
    "Delta_q_com_SA3 = ((alpha_SA3 + (m_u_com_A - m_y_com_A) * l * b_w / (3 * EI_II_com_A)) * 24 * EI_II_com_A / l**3).to(un.kN / un.m)\n",
    "\n",
    "# Traglast für B500A\n",
    "q_SA3 = Delta_q_com_SA3 + q_SA1\n",
    "\n",
    "put_out(symbolic=True, evaluate=False, rows=1)"
   ]
  },
  {
   "cell_type": "code",
   "execution_count": 39,
   "metadata": {},
   "outputs": [
    {
     "data": {
      "text/html": [
       "0.004585198100851188 rad"
      ],
      "text/latex": [
       "$0.004585198100851188\\ \\mathrm{rad}$"
      ],
      "text/plain": [
       "<Quantity(0.0045851981, 'radian')>"
      ]
     },
     "execution_count": 39,
     "metadata": {},
     "output_type": "execute_result"
    }
   ],
   "source": [
    "alpha_SA3.to(un.rad)"
   ]
  },
  {
   "cell_type": "markdown",
   "metadata": {},
   "source": [
    "Das Biegemoment im Feld stellt sich ein:"
   ]
  },
  {
   "cell_type": "code",
   "execution_count": 40,
   "metadata": {},
   "outputs": [],
   "source": [
    "expr = sp.sympify('(4* m_u  + 2 *m_u_apos)/l**2 + 4 / l**2 *sqrt(m_u**2+m_u*m_u_apos)-q')\n",
    "\n",
    "m_SA3_analytical = sp.solve(expr, 'm_u')[0]\n"
   ]
  },
  {
   "cell_type": "code",
   "execution_count": 41,
   "metadata": {},
   "outputs": [
    {
     "data": {
      "text/markdown": [
       "$$\n",
       "\\begin{aligned}\n",
       "m_{SA3 , F}& = \\frac{- \\frac{b_{w} \\cdot m_{u , A}}{2} + \\frac{l^{2} \\cdot q_{SA3}}{8} + \\frac{\\left(b_{w} \\cdot m_{u , A}\\right)^{2}}{2 \\cdot l^{2} \\cdot q_{SA3}}}{b_{w}} = 79.18 \\ \\frac{\\mathrm{kNm}}{\\mathrm{m}} \\quad &  \\quad &  \n",
       " \\end{aligned}\n",
       "$$"
      ],
      "text/plain": [
       "<IPython.core.display.Markdown object>"
      ]
     },
     "metadata": {},
     "output_type": "display_data"
    }
   ],
   "source": [
    "\n",
    "m_SA3_com_F = ((l**2*q_SA3 / 8 - m_u_com_A*b_w / 2 + (m_u_com_A*b_w)**2 / (2*l**2*q_SA3))/b_w).to(un.kNm/un.m)\n",
    "\n",
    "put_out(symbolic=True)\n"
   ]
  },
  {
   "cell_type": "markdown",
   "metadata": {},
   "source": [
    "Dazu lässt sich für die Traglast ebenfalls die Felddurchbiegung bestimmen."
   ]
  },
  {
   "cell_type": "code",
   "execution_count": 42,
   "metadata": {},
   "outputs": [
    {
     "data": {
      "text/markdown": [
       "$$\n",
       "\\begin{aligned}\n",
       "w_{SA3}& = \\frac{5 \\cdot l^{4} \\cdot q_{SA3}}{384 \\cdot EI_{II , A}} - \\frac{b_{w} \\cdot l^{2} \\cdot m_{u , A}}{16 \\cdot EI_{II , A}} = 49.33 \\ \\mathrm{mm} \\quad &  \\quad &  \n",
       " \\end{aligned}\n",
       "$$"
      ],
      "text/plain": [
       "<IPython.core.display.Markdown object>"
      ]
     },
     "metadata": {},
     "output_type": "display_data"
    }
   ],
   "source": [
    "# maximale Verformung im Feld\n",
    "w_SA3 = (5 * q_SA3 * l**4 / (384 * EI_II_com_A) - m_u_com_A * b_w * l**2 / (16 * EI_II_com_A)).to(un.mm)\n",
    "\n",
    "put_out(symbolic=True, evaluate=False)"
   ]
  },
  {
   "cell_type": "markdown",
   "metadata": {},
   "source": [
    "#### Zusammenfassung\n",
    "\n",
    "Abschliessend werden die zwei massgebenden Zustände kurz aufgegriffen. Das Fliessen des Mittelauflagers erfolgt bei einer Streckenlast von $q_{SA1}$ und die Traglast entspricht $q_{SA3}$."
   ]
  },
  {
   "cell_type": "code",
   "execution_count": 43,
   "metadata": {},
   "outputs": [
    {
     "data": {
      "text/markdown": [
       "$$\n",
       "\\begin{aligned}\n",
       "q_{SA1}& = 13.89 \\ \\frac{\\mathrm{kN}}{\\mathrm{m}} \\quad & w_{SA1}& = 35.97 \\ \\mathrm{mm} \\quad & m_{SA1 , B}& = 111.13 \\ \\frac{\\mathrm{kNm}}{\\mathrm{m}} \\\\ \n",
       "q_{SA3}& = 16.39 \\ \\frac{\\mathrm{kN}}{\\mathrm{m}} \\quad & w_{SA3}& = 49.33 \\ \\mathrm{mm} \\quad & m_{SA3 , F}& = 79.18 \\ \\frac{\\mathrm{kNm}}{\\mathrm{m}} \\end{aligned}\n",
       "$$"
      ],
      "text/plain": [
       "<IPython.core.display.Markdown object>"
      ]
     },
     "metadata": {},
     "output_type": "display_data"
    }
   ],
   "source": [
    "q_SA1\n",
    "w_SA1\n",
    "m_SA1_com_B\n",
    "\n",
    "q_SA3\n",
    "w_SA3\n",
    "m_SA3_com_F\n",
    "\n",
    "\n",
    "put_out(symbolic=False, rows = 3)"
   ]
  },
  {
   "cell_type": "markdown",
   "metadata": {},
   "source": [
    "### Federmodell\n",
    "\n",
    "Folgend wird das System  mit dem Federmodell nachgerechnet."
   ]
  },
  {
   "cell_type": "markdown",
   "metadata": {},
   "source": [
    "#### Momenten-Krümmungs-Beziehung\n",
    "\n",
    "Dazu wird eine Momenten-Krümmungs-Beziehung benötigt. Dabei wird das Zuggurtmodell nicht berücksichtigt. Die entsprechenden Krümmungen werden folgend berechnet:"
   ]
  },
  {
   "cell_type": "code",
   "execution_count": 44,
   "metadata": {},
   "outputs": [
    {
     "data": {
      "text/markdown": [
       "$$\n",
       "\\begin{aligned}\n",
       "EI_{II , A}& = E_{c} \\cdot I_{II} = 8238.717 \\ \\mathrm{kN} \\cdot \\mathrm{m}^{2} \\\\ \n",
       "\\chi_{y , A}& = \\frac{b_{w} \\cdot m_{y , A}}{EI_{II , A}} = 0.013 \\ \\frac{1}{\\mathrm{m}} \\\\ \n",
       "\\chi_{u , A}& = \\frac{\\varepsilon_{1 s , A2}}{d_{x} - x_{u , A}} = 0.103 \\ \\frac{1}{\\mathrm{m}} \\end{aligned}\n",
       "$$"
      ],
      "text/plain": [
       "<IPython.core.display.Markdown object>"
      ]
     },
     "metadata": {},
     "output_type": "display_data"
    }
   ],
   "source": [
    "EI_II_com_A\n",
    "chi_y_com_A = (m_y_com_A*b_w / EI_II_com_A).to(1/un.m)\n",
    "chi_u_com_A = (eps_1_s_com_A2 / (d_x - x_u_com_A)).to(1/un.m)\n",
    "put_out(symbolic=True, rows = 1, precision=3)"
   ]
  },
  {
   "cell_type": "markdown",
   "metadata": {},
   "source": [
    "Mit den entsprechenden Biegemomenten"
   ]
  },
  {
   "cell_type": "code",
   "execution_count": 45,
   "metadata": {},
   "outputs": [
    {
     "data": {
      "text/markdown": [
       "$$\n",
       "\\begin{aligned}\n",
       "m_{y , A}& = a_{s} \\cdot f_{sy , A} \\cdot z_{, A} = 111.13 \\ \\frac{\\mathrm{kNm}}{\\mathrm{m}} \\\\ \n",
       "m_{u , A}& = a_{s} \\cdot f_{su , A} \\cdot z_{, A} = 116.98 \\ \\frac{\\mathrm{kNm}}{\\mathrm{m}} \\end{aligned}\n",
       "$$"
      ],
      "text/plain": [
       "<IPython.core.display.Markdown object>"
      ]
     },
     "metadata": {},
     "output_type": "display_data"
    }
   ],
   "source": [
    "\n",
    "m_y_com_A\n",
    "m_u_com_A\n",
    "\n",
    "\n",
    "put_out(symbolic=True, rows = 1)"
   ]
  },
  {
   "cell_type": "markdown",
   "metadata": {},
   "source": [
    "Dargestellt ist dies in der @fig-jag_m_chi_b500a"
   ]
  },
  {
   "cell_type": "code",
   "execution_count": 46,
   "metadata": {},
   "outputs": [],
   "source": [
    "momente_b500a = np.array([0, m_y_com_A.m, m_u_com_A.m])\n",
    "\n",
    "chi_b500a = np.array([0, chi_y_com_A.m, chi_u_com_A.m])\n",
    "\n",
    "\n",
    "fig_m_chi_b500a, ax_m_chi_b500a = plt.subplots()\n",
    "\n",
    "\n",
    "ax_m_chi_b500a.plot(chi_b500a, momente_b500a, color='black')\n",
    "\n",
    "# Add labels and show the plot\n",
    "ax_m_chi_b500a.set_ylabel(\"$M$ [kNm]\")\n",
    "ax_m_chi_b500a.set_xlabel(\"$\\chi$ [1/m]\")\n",
    "\n",
    "# Save the plot to the specified file\n",
    "plt.savefig(\"imgs/jag_m_chi_b500a.svg\")\n",
    "plt.close()"
   ]
  },
  {
   "cell_type": "markdown",
   "metadata": {},
   "source": [
    "![Momenten-Krümmungs-Beziehung approximiert mit punktueller Querschnittsanalyse](../imgs/jag_m_chi_b500a.svg){#fig-jag_m_chi_b500a}\n"
   ]
  },
  {
   "cell_type": "markdown",
   "metadata": {},
   "source": [
    "#### Modellierung"
   ]
  },
  {
   "cell_type": "markdown",
   "metadata": {},
   "source": [
    "Die Elementlänge der starren Stäbe im Federmodell:"
   ]
  },
  {
   "cell_type": "code",
   "execution_count": 47,
   "metadata": {},
   "outputs": [
    {
     "data": {
      "text/markdown": [
       "$$\n",
       "\\begin{aligned}\n",
       "l_{El}& = 0.1 \\ \\mathrm{m} \\quad & n_{gelenk}& = 2 \\quad &  \n",
       " \\end{aligned}\n",
       "$$"
      ],
      "text/plain": [
       "<IPython.core.display.Markdown object>"
      ]
     },
     "metadata": {},
     "output_type": "display_data"
    }
   ],
   "source": [
    "l_El = 0.1*un.m\n",
    "n_gelenk = 2\n",
    "put_out()\n"
   ]
  },
  {
   "cell_type": "markdown",
   "metadata": {},
   "source": [
    "Damit lässt sich die Fliessverdrehung und Bruchverdrehung definieren. Da das Rotationsvermögen kleiner als die Rotation beim Erreichen des Biegewiderstands ist, gilt diese Rotation als Abbruchkriterium."
   ]
  },
  {
   "cell_type": "code",
   "execution_count": 48,
   "metadata": {},
   "outputs": [
    {
     "data": {
      "text/markdown": [
       "$$\n",
       "\\begin{aligned}\n",
       "\\Theta_{y , A}& = \\frac{\\chi_{y , A} \\cdot l_{El}}{n_{gelenk}} = 0.00067 \\ \\mathrm{rad} \\\\ \n",
       "\\Theta_{u , A}& = \\frac{\\chi_{u , A} \\cdot l_{El}}{n_{gelenk}} = 0.00515 \\ \\mathrm{rad} \\\\ \n",
       "\\Theta_{max , gelenk , A}& = \\frac{\\Theta_{max , A}}{n_{gelenk}} = 0.00459 \\ \\mathrm{rad} \\end{aligned}\n",
       "$$"
      ],
      "text/plain": [
       "<IPython.core.display.Markdown object>"
      ]
     },
     "metadata": {},
     "output_type": "display_data"
    }
   ],
   "source": [
    "Theta_y_com_A = (chi_y_com_A * l_El/n_gelenk).to(un.rad)\n",
    "Theta_u_com_A = (chi_u_com_A * l_El/n_gelenk).to(un.rad)\n",
    "Theta_max_com_gelenk_com_A  = (Theta_max_com_A/n_gelenk).to(un.rad)\n",
    "put_out(symbolic=True, precision = 5, rows = 1)"
   ]
  },
  {
   "cell_type": "markdown",
   "metadata": {},
   "source": [
    "#### Resultate"
   ]
  },
  {
   "cell_type": "markdown",
   "metadata": {},
   "source": [
    "Abschliessend sind die Rotationen der Gelenke im Modell händisch zu kontrollieren.\n",
    "\n",
    "##### Zustand $SA1$\n",
    "\n"
   ]
  },
  {
   "cell_type": "code",
   "execution_count": 49,
   "metadata": {},
   "outputs": [
    {
     "data": {
      "text/markdown": [
       "$$\n",
       "\\begin{aligned}\n",
       "q_{SA1}& = 13.89 \\ \\frac{\\mathrm{kN}}{\\mathrm{m}} \\quad &  \\quad &  \n",
       " \\end{aligned}\n",
       "$$"
      ],
      "text/plain": [
       "<IPython.core.display.Markdown object>"
      ]
     },
     "metadata": {},
     "output_type": "display_data"
    }
   ],
   "source": [
    "q_SA1\n",
    "put_out()"
   ]
  },
  {
   "cell_type": "markdown",
   "metadata": {},
   "source": [
    "\n",
    "\n",
    "![Verlauf der Biegemomente und Deformationen für den Zustand $SA1$, dazu die Stelle des Rotationswinkels. Numerisch berechnet mit AxisVM Federmodell für den Betonstahl B500A](../imgs/jag_fem_sa1.svg){#fig-jag_fem_sa1}\n",
    "\n"
   ]
  },
  {
   "cell_type": "code",
   "execution_count": 50,
   "metadata": {},
   "outputs": [
    {
     "data": {
      "text/markdown": [
       "$$\n",
       "\\begin{aligned}\n",
       "w_{SA1 , FEM}& = 37.4 \\ \\mathrm{mm} \\quad & w_{SA1}& = 35.97 \\ \\mathrm{mm} \\quad &  \n",
       " \\end{aligned}\n",
       "$$"
      ],
      "text/plain": [
       "<IPython.core.display.Markdown object>"
      ]
     },
     "metadata": {},
     "output_type": "display_data"
    }
   ],
   "source": [
    "\n",
    "w_SA1_com_FEM = 37.4*un.mm\n",
    "w_SA1\n",
    "put_out(precision=4, rows=3)"
   ]
  },
  {
   "cell_type": "markdown",
   "metadata": {},
   "source": [
    "##### Zustand $SA3$\n",
    "\n"
   ]
  },
  {
   "cell_type": "code",
   "execution_count": 51,
   "metadata": {},
   "outputs": [
    {
     "data": {
      "text/markdown": [
       "$$\n",
       "\\begin{aligned}\n",
       "q_{SA3}& = 16.39 \\ \\frac{\\mathrm{kN}}{\\mathrm{m}} \\quad & m_{SA3 , F}& = 79.18 \\ \\frac{\\mathrm{kNm}}{\\mathrm{m}} \\quad &  \n",
       " \\end{aligned}\n",
       "$$"
      ],
      "text/plain": [
       "<IPython.core.display.Markdown object>"
      ]
     },
     "metadata": {},
     "output_type": "display_data"
    }
   ],
   "source": [
    "q_SA3\n",
    "m_SA3_com_F\n",
    "\n",
    "put_out()"
   ]
  },
  {
   "cell_type": "markdown",
   "metadata": {},
   "source": [
    "\n",
    "![Verlauf der Biegemomente und Deformationen für den Zustand $SA3$, dazu die Stelle des Rotationswinkels. Numerisch berechnet mit AxisVM Federmodell für den Betonstahl B500A](../imgs/jag_fem_sa3.svg){#fig-jag_feder_my_SA3}\n"
   ]
  },
  {
   "cell_type": "code",
   "execution_count": 52,
   "metadata": {},
   "outputs": [
    {
     "data": {
      "text/markdown": [
       "$$\n",
       "\\begin{aligned}\n",
       "\\Theta_{SA3 , FEM}& = 0.0099 \\ \\mathrm{rad} \\quad & \\Theta_{SA3}& = 0.0092 \\ \\mathrm{rad} \\\\ \n",
       "w_{SA3 , FEM}& = 50.5 \\ \\mathrm{mm} \\quad & w_{SA3}& = 49.3262 \\ \\mathrm{mm} \\end{aligned}\n",
       "$$"
      ],
      "text/plain": [
       "<IPython.core.display.Markdown object>"
      ]
     },
     "metadata": {},
     "output_type": "display_data"
    }
   ],
   "source": [
    "\n",
    "Theta_SA3_com_FEM = (0.01058*un.rad).to(un.rad) - Theta_y_com_A\n",
    "Theta_SA3 = Theta_max_com_A.to(un.rad) \n",
    "\n",
    "w_SA3_com_FEM = 50.5*un.mm\n",
    "w_SA3\n",
    "\n",
    "put_out(symbolic=False, rows = 2, precision=4)"
   ]
  },
  {
   "cell_type": "markdown",
   "metadata": {},
   "source": [
    "## Naturharter Stahl B500C\n",
    "\n",
    "### Eigenschaften des Betonstahls"
   ]
  },
  {
   "cell_type": "code",
   "execution_count": 53,
   "metadata": {},
   "outputs": [
    {
     "data": {
      "text/markdown": [
       "$$\n",
       "\\begin{aligned}\n",
       "f_{sy , C}& = 500.0 \\ \\frac{\\mathrm{N}}{\\mathrm{mm}^{2}} \\quad & f_{su , C}& = 600.0 \\ \\frac{\\mathrm{N}}{\\mathrm{mm}^{2}} \\quad & \\varepsilon_{sy , C}& = 2.44 \\ \\mathrm{‰} \\\\ \n",
       "\\varepsilon_{sh , C}& = 20 \\ \\mathrm{‰} \\quad & \\varepsilon_{su , C}& = 125 \\ \\mathrm{‰} \\quad & E_{s , C}& = 205.0 \\ \\frac{\\mathrm{kN}}{\\mathrm{mm}^{2}} \\\\ \n",
       "E_{sh , C}& = 952.0 \\ \\frac{\\mathrm{N}}{\\mathrm{mm}^{2}} \\quad &  \\quad &  \n",
       " \\end{aligned}\n",
       "$$"
      ],
      "text/plain": [
       "<IPython.core.display.Markdown object>"
      ]
     },
     "metadata": {},
     "output_type": "display_data"
    }
   ],
   "source": [
    "f_sy_com_C = 500 * un.N / un.mm**2  # Fliessgrenze\n",
    "f_su_com_C = 600 * un.N / un.mm**2  # Zugfestigkeit\n",
    "eps_sy_com_C = 2.439 * un.permille  # Fliessdehnung\n",
    "eps_sh_com_C = 20 * un.permille  # Dehnung bei Verfestigungsbeginn\n",
    "eps_su_com_C = 125 * un.permille  # Bruchdehnung\n",
    "E_s_com_C= 205 * un.kN / un.mm**2  # Elastizitätsmodul\n",
    "E_sh_com_C = 952 * un.N / un.mm**2  # Verfestigungsmodul\n",
    "\n",
    "put_out()"
   ]
  },
  {
   "cell_type": "code",
   "execution_count": 54,
   "metadata": {},
   "outputs": [],
   "source": [
    "# | echo: false\n",
    "\n",
    "stress_C_array = np.array([0, f_sy_com_C.m, f_sy_com_C.m, f_su_com_C.m]) * un.MPa\n",
    "strain_C_array = np.array([0, eps_sy_com_C, eps_sh_com_C, eps_su_com_C])\n",
    "\n",
    "\n",
    "fig_b500c, ax_b500c = plt.subplots()\n",
    "\n",
    "ax_b500c.plot(strain_C_array, stress_C_array.to(un.MPa).m, color=\"k\")\n",
    "\n",
    "\n",
    "# Set axis labels\n",
    "ax_b500c.set_ylabel(r\"$\\sigma$ [N/mm$^2$]\")\n",
    "ax_b500c.set_xlabel(r\"$\\varepsilon_s$ [-]\")\n",
    "\n",
    "# Set limits\n",
    "ax_b500c.set_xlim(xmax=135 / 1000)\n",
    "ax_b500c.set_ylim(ymax=750)\n",
    "\n",
    "# Show the plot\n",
    "# plt.tight_layout()\n",
    "plt.savefig(\"imgs/jag_stress_strain_b500c.svg\")\n",
    "plt.close()"
   ]
  },
  {
   "cell_type": "markdown",
   "metadata": {},
   "source": [
    "![Spannungs-Dehnungs-Beziehung des Betonstahls B500C](../imgs/jag_stress_strain_b500c.svg){#stress_strain_b500c}"
   ]
  },
  {
   "cell_type": "markdown",
   "metadata": {},
   "source": [
    "### Linear elastische - gerissene Biegesteifigkeit\n",
    "\n",
    "Die Querschnittsanalyse wird von der Berechnung des kaltverformten Betonstahls übernommen. Siehe @fig-jag_gerissene_steifigkeit.\n",
    "\n"
   ]
  },
  {
   "cell_type": "code",
   "execution_count": 55,
   "metadata": {},
   "outputs": [
    {
     "data": {
      "text/markdown": [
       "$$\n",
       "\\begin{aligned}\n",
       "EI_{II , C}& = EI_{II , A} = 8238.72 \\ \\mathrm{kN} \\cdot \\mathrm{m}^{2} \\\\ \n",
       "x_{u , C}& = x_{u , A} = 18.11 \\ \\mathrm{mm} \\\\ \n",
       "z_{, C}& = z_{, A} = 253.3 \\ \\mathrm{mm} \\end{aligned}\n",
       "$$"
      ],
      "text/plain": [
       "<IPython.core.display.Markdown object>"
      ]
     },
     "metadata": {},
     "output_type": "display_data"
    }
   ],
   "source": [
    "EI_II_com_C = EI_II_com_A\n",
    "x_u_com_C = x_u_com_A\n",
    "z_com_C = z_com_A\n",
    "\n",
    "put_out(symbolic=True, rows=1)\n"
   ]
  },
  {
   "cell_type": "markdown",
   "metadata": {},
   "source": [
    "### Gernzzustände des Zugglieds"
   ]
  },
  {
   "cell_type": "markdown",
   "metadata": {},
   "source": [
    "#### Risselement bei Fliessbeginn - Zustand $C1$\n",
    "\n",
    "Hier wird ein Zugglied analysiert, bei dem die Bewehrung die Fliessspannung erreicht. Dabei stellen sich folgende Spannungen entlang dem Risselement ein:"
   ]
  },
  {
   "cell_type": "code",
   "execution_count": 56,
   "metadata": {},
   "outputs": [
    {
     "data": {
      "text/markdown": [
       "$$\n",
       "\\begin{aligned}\n",
       "\\sigma_{1 s , C1}& = f_{sy , C} = 500.0 \\ \\frac{\\mathrm{N}}{\\mathrm{mm}^{2}} \\\\ \n",
       "\\sigma_{2 s , C1}& = f_{sy , C} - \\frac{4 \\cdot s_{r} \\cdot \\tau_{b0}}{2 \\cdot \\oslash_{x}} = 334.49 \\ \\frac{\\mathrm{N}}{\\mathrm{mm}^{2}} \\end{aligned}\n",
       "$$"
      ],
      "text/plain": [
       "<IPython.core.display.Markdown object>"
      ]
     },
     "metadata": {},
     "output_type": "display_data"
    }
   ],
   "source": [
    "# Stahlspannungen\n",
    "sigma_1_s_com_C1 = f_sy_com_C\n",
    "sigma_2_s_com_C1 = f_sy_com_C - 4 * tau_b0 * s_r / 2 / diam_x\n",
    "\n",
    "put_out(symbolic=True, rows = 1)"
   ]
  },
  {
   "cell_type": "markdown",
   "metadata": {},
   "source": [
    "Und die folgenden Dehnungen stellen sich ein:"
   ]
  },
  {
   "cell_type": "code",
   "execution_count": 57,
   "metadata": {},
   "outputs": [
    {
     "data": {
      "text/markdown": [
       "$$\n",
       "\\begin{aligned}\n",
       "\\varepsilon_{1 s , C1}& = \\frac{\\sigma_{1 s , C1}}{E_{s , C}} = 2.44 \\ \\mathrm{‰} \\\\ \n",
       "\\varepsilon_{2 s , C1}& = \\frac{\\sigma_{2 s , C1}}{E_{s , C}} = 1.63 \\ \\mathrm{‰} \\end{aligned}\n",
       "$$"
      ],
      "text/plain": [
       "<IPython.core.display.Markdown object>"
      ]
     },
     "metadata": {},
     "output_type": "display_data"
    }
   ],
   "source": [
    "# Stahldehnungen\n",
    "eps_1_s_com_C1 = (sigma_1_s_com_C1 / E_s_com_C).to(un.permille)\n",
    "eps_2_s_com_C1 = (sigma_2_s_com_C1 / E_s_com_C).to(un.permille)\n",
    "\n",
    "put_out(symbolic=True, rows=1)"
   ]
  },
  {
   "cell_type": "markdown",
   "metadata": {},
   "source": [
    "Die Mittlere Dehnung ist die folgende. Diese gilt es nach @alvarez_einfluss_1998 Seite 163 zu bestimmen."
   ]
  },
  {
   "cell_type": "code",
   "execution_count": 58,
   "metadata": {},
   "outputs": [
    {
     "data": {
      "text/markdown": [
       "$$\n",
       "\\begin{aligned}\n",
       "\\varepsilon_{m s , C1}& = 2.04 \\ \\mathrm{‰} \\quad &  \\quad &  \n",
       " \\end{aligned}\n",
       "$$"
      ],
      "text/plain": [
       "<IPython.core.display.Markdown object>"
      ]
     },
     "metadata": {},
     "output_type": "display_data"
    }
   ],
   "source": [
    "# Mittlere Stahldehnung beim Fliessen\n",
    "eps_m_s_com_C1 = eps_sm_trilinear(f_sy_com_C, f_sy_com_C, f_sy_com_C, f_su_com_C, E_s_com_C, E_s_com_C*0, E_sh_com_C, tau_b0, tau_b1, tau_b1*0, diam_x, s_r, eps_sy_com_C, eps_sh_com_C).to(un.permille)\n",
    "\n",
    "put_out()"
   ]
  },
  {
   "cell_type": "code",
   "execution_count": 59,
   "metadata": {},
   "outputs": [
    {
     "data": {
      "text/markdown": [
       "$$\n",
       "\\begin{aligned}\n",
       "m_{y , C}& = a_{s} \\cdot f_{sy , C} \\cdot z_{, C} = 97.48 \\ \\frac{\\mathrm{kNm}}{\\mathrm{m}} \\quad &  \\quad &  \n",
       " \\end{aligned}\n",
       "$$"
      ],
      "text/plain": [
       "<IPython.core.display.Markdown object>"
      ]
     },
     "metadata": {},
     "output_type": "display_data"
    }
   ],
   "source": [
    "# Fliessmoment\n",
    "m_y_com_C = (a_s * f_sy_com_C * z_com_C).to(un.kNm/un.m)\n",
    "\n",
    "put_out(symbolic=True)"
   ]
  },
  {
   "cell_type": "code",
   "execution_count": 60,
   "metadata": {},
   "outputs": [],
   "source": [
    "# | echo: false\n",
    "\n",
    "coords_c1_stress = [\n",
    "    (0, 0),\n",
    "    (s_r.m / 2, 0),\n",
    "    (s_r.m / 2, sigma_2_s_com_C1.m),\n",
    "    (0, sigma_1_s_com_C1.m),\n",
    "]\n",
    "\n",
    "plot_stress_strain(coords_c1_stress, \"imgs/jag_stress_c1.svg\", stress=True)\n",
    "\n",
    "\n",
    "coords_c1_strain = [\n",
    "    (0, 0),\n",
    "    (s_r.m / 2, 0),\n",
    "    (s_r.m / 2, eps_2_s_com_C1),\n",
    "    (0, eps_1_s_com_C1),\n",
    "]\n",
    "\n",
    "plot_stress_strain(coords_c1_strain, \"imgs/jag_strain_c1.svg\", strain=True,strain_mean=eps_m_s_com_C1.m)"
   ]
  },
  {
   "cell_type": "markdown",
   "metadata": {},
   "source": [
    "::: {#fig-jag_zustand_c1 layout-ncol=2}\n",
    "![Spannungsverlauf entlang des Zugglieds auf halbem Rissabstand](../imgs/jag_stress_c1.svg){#fig-jag_stress_c1}\n",
    "\n",
    "![Dehnungsverlauf entlang des Zugglieds auf halbem Rissabstand](../imgs/jag_strain_c1.svg){#fig-jag_strain_c1}\n",
    "\n",
    "Spannungs- und Dehnungsverlauf entlang der Hälfte des Rissabstands für den Zustand $C1$\n",
    ":::"
   ]
  },
  {
   "cell_type": "markdown",
   "metadata": {},
   "source": [
    "#### Risselement beim Erreichen der Zugfestigkeit - Zustand $C2$\n",
    "\n",
    "Innerhalb des Risselements befindet sich der Betonstahl über der Fliessgrenze. Dies führt zu den folgenden Spannungs- und Dehnungsverteilungen."
   ]
  },
  {
   "cell_type": "code",
   "execution_count": 61,
   "metadata": {},
   "outputs": [
    {
     "data": {
      "text/markdown": [
       "$$\n",
       "\\begin{aligned}\n",
       "\\sigma_{1 s , C2}& = f_{su , C} = 600.0 \\ \\frac{\\mathrm{N}}{\\mathrm{mm}^{2}} \\\\ \n",
       "\\sigma_{2 s , C2}& = f_{su , C} - \\frac{4 \\cdot s_{r} \\cdot \\tau_{b1}}{2 \\cdot \\oslash_{x}} = 517.24 \\ \\frac{\\mathrm{N}}{\\mathrm{mm}^{2}} \\end{aligned}\n",
       "$$"
      ],
      "text/plain": [
       "<IPython.core.display.Markdown object>"
      ]
     },
     "metadata": {},
     "output_type": "display_data"
    }
   ],
   "source": [
    "# Stahlspannung zwischen den Rissen\n",
    "sigma_1_s_com_C2 = f_su_com_C\n",
    "sigma_2_s_com_C2 = f_su_com_C - 4 * tau_b1 / diam_x * s_r / 2\n",
    "\n",
    "put_out(symbolic=True, rows =1)"
   ]
  },
  {
   "cell_type": "markdown",
   "metadata": {},
   "source": [
    "Die Dehnungen sind die folgenden:"
   ]
  },
  {
   "cell_type": "code",
   "execution_count": 62,
   "metadata": {},
   "outputs": [
    {
     "data": {
      "text/markdown": [
       "$$\n",
       "\\begin{aligned}\n",
       "\\varepsilon_{1 s , C2}& = \\varepsilon_{sh , C} + \\frac{- f_{sy , C} + \\sigma_{2 s , C2}}{E_{sh , C}} = 38.11 \\ \\mathrm{‰} \\\\ \n",
       "\\varepsilon_{2 s , C2}& = \\varepsilon_{su , C} = 125 \\ \\mathrm{‰} \\end{aligned}\n",
       "$$"
      ],
      "text/plain": [
       "<IPython.core.display.Markdown object>"
      ]
     },
     "metadata": {},
     "output_type": "display_data"
    }
   ],
   "source": [
    "\n",
    "# Stahldehnung zwischen den Rissen\n",
    "eps_1_s_com_C2 = ((sigma_2_s_com_C2 - f_sy_com_C) / E_sh_com_C + eps_sh_com_C).to(un.permille)\n",
    "eps_2_s_com_C2 = eps_su_com_C\n",
    "\n",
    "put_out(symbolic=True, rows=1)"
   ]
  },
  {
   "cell_type": "markdown",
   "metadata": {},
   "source": [
    "Und die mittlere Stahldehnung beträgt dabei:"
   ]
  },
  {
   "cell_type": "code",
   "execution_count": 63,
   "metadata": {},
   "outputs": [
    {
     "data": {
      "text/markdown": [
       "$$\n",
       "\\begin{aligned}\n",
       "\\varepsilon_{m s , C2}& = 81.56 \\ \\mathrm{‰} \\quad &  \\quad &  \n",
       " \\end{aligned}\n",
       "$$"
      ],
      "text/plain": [
       "<IPython.core.display.Markdown object>"
      ]
     },
     "metadata": {},
     "output_type": "display_data"
    }
   ],
   "source": [
    "\n",
    "eps_m_s_com_C2 = (eps_1_s_com_C2 + eps_2_s_com_C2) / 2\n",
    "\n",
    "put_out()"
   ]
  },
  {
   "cell_type": "markdown",
   "metadata": {},
   "source": [
    "Kontrolliert wird die Betonstauchung. Es zeigt sich, dass sich ein Betondruckversagen einstellt. Die Betonbruchstauchung basiert auf einem Erfahrungswert."
   ]
  },
  {
   "cell_type": "code",
   "execution_count": 64,
   "metadata": {},
   "outputs": [
    {
     "data": {
      "text/markdown": [
       "$$\n",
       "\\begin{aligned}\n",
       "\\varepsilon_{c , C2}& = 6.08 \\ \\mathrm{‰} \\quad & \\varepsilon_{cu}& = 5 \\ \\mathrm{‰} \\quad &  \n",
       " \\end{aligned}\n",
       "$$"
      ],
      "text/plain": [
       "<IPython.core.display.Markdown object>"
      ]
     },
     "metadata": {},
     "output_type": "display_data"
    }
   ],
   "source": [
    "# Betonstauchung\n",
    "eps_c_com_C2 = eps_m_s_com_C2 / (d_x - x_u_com_A) * x_u_com_A\n",
    "\n",
    "eps_cu\n",
    "\n",
    "put_out()"
   ]
  },
  {
   "cell_type": "markdown",
   "metadata": {},
   "source": [
    "Die zulässige mittlere Stahldehnung beträgt folglich:"
   ]
  },
  {
   "cell_type": "code",
   "execution_count": 65,
   "metadata": {},
   "outputs": [
    {
     "data": {
      "text/markdown": [
       "$$\n",
       "\\begin{aligned}\n",
       "\\varepsilon_{m s , adm}& = \\frac{\\varepsilon_{cu} \\cdot \\left(d_{x} - x_{u , C}\\right)}{x_{u , C}} = 67.06 \\ \\mathrm{‰} \\quad &  \\quad &  \n",
       " \\end{aligned}\n",
       "$$"
      ],
      "text/plain": [
       "<IPython.core.display.Markdown object>"
      ]
     },
     "metadata": {},
     "output_type": "display_data"
    }
   ],
   "source": [
    "eps_m_s_com_adm = eps_cu * (d_x - x_u_com_C)/x_u_com_C\n",
    "put_out(symbolic=True)\n"
   ]
  },
  {
   "cell_type": "markdown",
   "metadata": {},
   "source": [
    "Damit folgen die Dehnungen für diesen Zustand zu:"
   ]
  },
  {
   "cell_type": "code",
   "execution_count": 66,
   "metadata": {},
   "outputs": [
    {
     "data": {
      "text/markdown": [
       "$$\n",
       "\\begin{aligned}\n",
       "\\varepsilon_{1 s , C2}& = \\tau_{b1} \\cdot 4 \\cdot s_{r} \\cdot \\frac{1}{4} \\cdot \\frac{1}{E_{sh , C} \\cdot \\oslash_{x}} + \\varepsilon_{m s , adm} = 110.52 \\ \\mathrm{‰} \\\\ \n",
       "\\varepsilon_{2 s , C2}& = - \\frac{4 \\cdot s_{r} \\cdot \\tau_{b1}}{4 \\cdot E_{sh , C} \\cdot \\oslash_{x}} + \\varepsilon_{m s , adm} = 23.59 \\ \\mathrm{‰} \\end{aligned}\n",
       "$$"
      ],
      "text/plain": [
       "<IPython.core.display.Markdown object>"
      ]
     },
     "metadata": {},
     "output_type": "display_data"
    }
   ],
   "source": [
    "# Stahldehnung zwischen den Rissen\n",
    "eps_1_s_com_C2 = eps_m_s_com_adm + tau_b1 * 4* s_r/4 / (diam_x*E_sh_com_C)\n",
    "eps_2_s_com_C2 = eps_m_s_com_adm - tau_b1 * 4 * s_r/4/ (diam_x*E_sh_com_C)\n",
    "\n",
    "put_out(symbolic=True, rows = 1)"
   ]
  },
  {
   "cell_type": "markdown",
   "metadata": {},
   "source": [
    "Und daraus werden die Spannungen bestimmt:"
   ]
  },
  {
   "cell_type": "code",
   "execution_count": 67,
   "metadata": {},
   "outputs": [
    {
     "data": {
      "text/markdown": [
       "$$\n",
       "\\begin{aligned}\n",
       "\\sigma_{1 s , C2}& = E_{sh , C} \\cdot \\left(\\varepsilon_{1 s , C2} - \\varepsilon_{sh , C}\\right) + f_{sy , C} = 586.18 \\ \\frac{\\mathrm{N}}{\\mathrm{mm}^{2}} \\\\ \n",
       "\\sigma_{2 s , C2}& = E_{sh , C} \\cdot \\left(\\varepsilon_{2 s , C2} - \\varepsilon_{sh , C}\\right) + f_{sy , C} = 503.42 \\ \\frac{\\mathrm{N}}{\\mathrm{mm}^{2}} \\end{aligned}\n",
       "$$"
      ],
      "text/plain": [
       "<IPython.core.display.Markdown object>"
      ]
     },
     "metadata": {},
     "output_type": "display_data"
    }
   ],
   "source": [
    "# Stahlspannung zwischen den Rissen\n",
    "sigma_1_s_com_C2 = f_sy_com_C + (eps_1_s_com_C2 - eps_sh_com_C)*E_sh_com_C\n",
    "sigma_2_s_com_C2 = f_sy_com_C + (eps_2_s_com_C2 - eps_sh_com_C)*E_sh_com_C\n",
    "\n",
    "\n",
    "put_out(symbolic=True, rows=1)"
   ]
  },
  {
   "cell_type": "markdown",
   "metadata": {},
   "source": [
    "Dabei folgt der Biegewiderstand, begrenzt durch ein Betondruckversagen, zu:"
   ]
  },
  {
   "cell_type": "code",
   "execution_count": 68,
   "metadata": {},
   "outputs": [
    {
     "data": {
      "text/markdown": [
       "$$\n",
       "\\begin{aligned}\n",
       "m_{u , C}& = a_{s} \\cdot \\sigma_{1 s , C2} \\cdot z_{, C} = 114.28 \\ \\frac{\\mathrm{kNm}}{\\mathrm{m}} \\quad &  \\quad &  \n",
       " \\end{aligned}\n",
       "$$"
      ],
      "text/plain": [
       "<IPython.core.display.Markdown object>"
      ]
     },
     "metadata": {},
     "output_type": "display_data"
    }
   ],
   "source": [
    "m_u_com_C = (a_s * sigma_1_s_com_C2 * z_com_C).to(un.kNm/un.m)\n",
    "\n",
    "put_out(symbolic=True)"
   ]
  },
  {
   "cell_type": "code",
   "execution_count": 69,
   "metadata": {},
   "outputs": [],
   "source": [
    "# | echo: false\n",
    "\n",
    "coords_c2_stress = [\n",
    "    (0, 0),\n",
    "    (s_r.m / 2, 0),\n",
    "    (s_r.m / 2, sigma_2_s_com_C2.m),\n",
    "    (0, sigma_1_s_com_C2.m),\n",
    "]\n",
    "\n",
    "plot_stress_strain(coords_c2_stress, \"imgs/jag_stress_c2.svg\", stress=True)\n",
    "\n",
    "\n",
    "coords_c2_strain = [\n",
    "    (0, 0),\n",
    "    (s_r.m / 2, 0),\n",
    "    (s_r.m / 2, eps_2_s_com_C2),\n",
    "    (0, eps_1_s_com_C2),\n",
    "]\n",
    "\n",
    "plot_stress_strain(coords_c2_strain, \"imgs/jag_strain_c2.svg\", strain=True,strain_mean=eps_m_s_com_adm.m)"
   ]
  },
  {
   "cell_type": "markdown",
   "metadata": {},
   "source": [
    "::: {#fig-jag_zustand_c2 layout-ncol=2}\n",
    "![Spannungsverlauf entlang des Zugglieds auf halbem Rissabstand](../imgs/jag_stress_c2.svg){#fig-jag_stress_c2}\n",
    "\n",
    "![Dehnungsverlauf entlang des Zugglieds auf halbem Rissabstand](../imgs/jag_strain_c2.svg){#fig-jag_strain_c2}\n",
    "\n",
    "Spannungs- und Dehnungsverlauf entlang der Hälfte des Rissabstands für den Zustand $C2$\n",
    ":::"
   ]
  },
  {
   "cell_type": "markdown",
   "metadata": {},
   "source": [
    "#### Zusammenfassung\n",
    "Zusammenfassend sind die Werte erneut aufgezeigt. Fliessen und Erreichen der Betonbruchstauchung:"
   ]
  },
  {
   "cell_type": "code",
   "execution_count": 70,
   "metadata": {},
   "outputs": [
    {
     "data": {
      "text/markdown": [
       "$$\n",
       "\\begin{aligned}\n",
       "\\varepsilon_{m s , C1}& = 2.04 \\ \\mathrm{‰} \\quad & m_{y , C}& = 97.48 \\ \\frac{\\mathrm{kNm}}{\\mathrm{m}} \\\\ \n",
       "\\varepsilon_{m s , adm}& = 67.06 \\ \\mathrm{‰} \\quad & m_{u , C}& = 114.28 \\ \\frac{\\mathrm{kNm}}{\\mathrm{m}} \\end{aligned}\n",
       "$$"
      ],
      "text/plain": [
       "<IPython.core.display.Markdown object>"
      ]
     },
     "metadata": {},
     "output_type": "display_data"
    }
   ],
   "source": [
    "eps_m_s_com_C1\n",
    "m_y_com_C\n",
    "\n",
    "eps_m_s_com_adm\n",
    "m_u_com_C\n",
    "\n",
    "put_out(rows = 2)\n"
   ]
  },
  {
   "cell_type": "markdown",
   "metadata": {},
   "source": [
    "### Systemanalyse\n",
    "\n",
    "Nun wird das System analysiert, sprich der Zweifeldträger. Siehe @fig-jag_mechanismus und @fig-jag_plast_rot_A."
   ]
  },
  {
   "cell_type": "markdown",
   "metadata": {},
   "source": [
    "#### Fliessen des Mittelauflager - Zustand $SC1$\n",
    "\n",
    "Auch hier stellt sich zunächst ein Fliessgelenk beim Mittelauflager ein. Dazu wird nun diezugehörige Streckenlast berechnet und die entsprechende Felddeformation ermittelt."
   ]
  },
  {
   "cell_type": "code",
   "execution_count": 71,
   "metadata": {},
   "outputs": [
    {
     "data": {
      "text/markdown": [
       "$$\n",
       "\\begin{aligned}\n",
       "m_{SC1 , B}& = m_{y , C} = 97.48 \\ \\frac{\\mathrm{kNm}}{\\mathrm{m}} \\\\ \n",
       "q_{SC1}& = \\frac{8 \\cdot b_{w} \\cdot m_{SC1 , B}}{l^{2}} = 12.19 \\ \\frac{\\mathrm{kN}}{\\mathrm{m}} \\\\ \n",
       "w_{SC1}& = \\frac{5 \\cdot l^{4} \\cdot q_{SC1}}{384 \\cdot EI_{II , C}} - \\frac{b_{w} \\cdot l^{2} \\cdot m_{SC1 , B}}{16 \\cdot EI_{II , C}} = 31.55 \\ \\mathrm{mm} \\end{aligned}\n",
       "$$"
      ],
      "text/plain": [
       "<IPython.core.display.Markdown object>"
      ]
     },
     "metadata": {},
     "output_type": "display_data"
    }
   ],
   "source": [
    "m_SC1_com_B = m_y_com_C\n",
    "\n",
    "# Streckenlast beim Fliessen des Mittelauflagers\n",
    "q_SC1 = (8 * m_SC1_com_B / l**2 * b_w).to(un.kN/un.m)\n",
    "\n",
    "\n",
    "\n",
    "# Verformung beim Fliessen des Mittelauflagers\n",
    "w_SC1 = (5 * q_SC1 * l**4 / (384 * EI_II_com_C) - m_SC1_com_B * b_w * l**2 / (16 * EI_II_com_C)).to(un.mm)\n",
    "\n",
    "put_out(symbolic=True, rows=1)"
   ]
  },
  {
   "cell_type": "code",
   "execution_count": 72,
   "metadata": {},
   "outputs": [
    {
     "data": {
      "text/markdown": [
       "$$\n",
       "\\begin{aligned}\n",
       "\\Theta_{max , C}& = \\frac{l_{pl} \\cdot \\left(- \\varepsilon_{m s , C1} + \\varepsilon_{m s , adm}\\right)}{d_{x} - x_{u , C}} = 8.01 \\ \\mathrm{°} \\quad &  \\quad &  \n",
       " \\end{aligned}\n",
       "$$"
      ],
      "text/plain": [
       "<IPython.core.display.Markdown object>"
      ]
     },
     "metadata": {},
     "output_type": "display_data"
    }
   ],
   "source": [
    "# Plastischer Rotationswinkel, Rotationsbedarf für vollständige Umlagerung.\n",
    "Theta_max_com_C = (l_pl * (eps_m_s_com_adm - eps_m_s_com_C1) / (d_x - x_u_com_C)).to(un.deg)\n",
    "\n",
    "put_out(symbolic=True)"
   ]
  },
  {
   "cell_type": "markdown",
   "metadata": {},
   "source": [
    "#### Fliessbeginn im Feld - Zustand $SC2$\n",
    "\n",
    "Beim Zustand zwei wird das Feldmoment ermittelt. Dabei wird beim Mittelauflager der Biegewiderstand hinterlegt. Dem Feld wird das Fliessmoment vorausgesetzt. Siehe dazu @fig-jag_my_feld_A."
   ]
  },
  {
   "cell_type": "code",
   "execution_count": 73,
   "metadata": {},
   "outputs": [
    {
     "data": {
      "text/markdown": [
       "$$\n",
       "\\begin{aligned}\n",
       "m_{SC2 , F}& = m_{y , C} = 97.48 \\ \\frac{\\mathrm{kNm}}{\\mathrm{m}} \\quad &  \\quad &  \n",
       " \\end{aligned}\n",
       "$$"
      ],
      "text/plain": [
       "<IPython.core.display.Markdown object>"
      ]
     },
     "metadata": {},
     "output_type": "display_data"
    }
   ],
   "source": [
    "m_SC2_com_F = m_y_com_C\n",
    "\n",
    "put_out(symbolic=True)"
   ]
  },
  {
   "cell_type": "markdown",
   "metadata": {},
   "source": [
    "Das Biegemoment im Feld wird anhand der plastischen Rotation bestimmt. Siehe dazu @fig-jag_plast_rot_A. Dabei werden die Spannungen und Dehnungen innerhalb des Zugglieds bestimmt. Dabei betragen die Spannungen:"
   ]
  },
  {
   "cell_type": "code",
   "execution_count": 74,
   "metadata": {},
   "outputs": [
    {
     "data": {
      "text/markdown": [
       "$$\n",
       "\\begin{aligned}\n",
       "\\Delta_{x pl , SC2}& = \\Delta_{x pl , A2} = 36.25 \\ \\mathrm{mm} \\\\ \n",
       "\\Delta_{x el , SC2}& = - \\Delta_{x pl , SC2} + \\frac{s_{r}}{2} = 63.75 \\ \\mathrm{mm} \\end{aligned}\n",
       "$$"
      ],
      "text/plain": [
       "<IPython.core.display.Markdown object>"
      ]
     },
     "metadata": {},
     "output_type": "display_data"
    }
   ],
   "source": [
    "# Fliessspannung wird vorausgesetzt\n",
    "Delta_x_pl_com_SC2 = Delta_x_pl_com_A2\n",
    "Delta_x_el_com_SC2 = s_r / 2 - Delta_x_pl_com_SC2\n",
    "\n",
    "put_out(symbolic=True, rows = 1)\n",
    "\n"
   ]
  },
  {
   "cell_type": "code",
   "execution_count": 75,
   "metadata": {},
   "outputs": [
    {
     "data": {
      "text/markdown": [
       "$$\n",
       "\\begin{aligned}\n",
       "\\sigma_{2 s , SC2}& = 500.0 \\ \\frac{\\mathrm{N}}{\\mathrm{mm}^{2}} \\\\ \n",
       "\\sigma_{1 s , SC2}& = \\frac{4 \\cdot \\Delta_{x pl , SC2} \\cdot \\tau_{b1}}{\\oslash_{x}} + \\sigma_{2 s , SC2} = 530.0 \\ \\frac{\\mathrm{N}}{\\mathrm{mm}^{2}} \\\\ \n",
       "\\sigma_{3 s , SC2}& = - \\frac{4 \\cdot \\Delta_{x el , SC2} \\cdot \\tau_{b0}}{\\oslash_{x}} + \\sigma_{2 s , SC2} = 394.49 \\ \\frac{\\mathrm{N}}{\\mathrm{mm}^{2}} \\end{aligned}\n",
       "$$"
      ],
      "text/plain": [
       "<IPython.core.display.Markdown object>"
      ]
     },
     "metadata": {},
     "output_type": "display_data"
    }
   ],
   "source": [
    "sigma_2_s_com_SC2 = 500 * un.N / un.mm**2\n",
    "sigma_1_s_com_SC2 = sigma_2_s_com_SC2 + 4 * tau_b1 / diam_x * Delta_x_pl_com_SC2\n",
    "sigma_3_s_com_SC2 = sigma_2_s_com_SC2 - 4 * tau_b0 / diam_x * Delta_x_el_com_SC2\n",
    "\n",
    "put_out(symbolic=True, rows=1)"
   ]
  },
  {
   "cell_type": "markdown",
   "metadata": {},
   "source": [
    "Und die Dehnungen definieren sich zu:"
   ]
  },
  {
   "cell_type": "code",
   "execution_count": 76,
   "metadata": {},
   "outputs": [
    {
     "data": {
      "text/markdown": [
       "$$\n",
       "\\begin{aligned}\n",
       "\\varepsilon_{1 s , SC2}& = \\varepsilon_{sh , C} + \\frac{\\sigma_{1 s , SC2} - \\sigma_{2 s , SC2}}{E_{sh , C}} = 51.51 \\ \\mathrm{‰} \\\\ \n",
       "\\varepsilon_{21 s , SC2}& = \\varepsilon_{sh , C} = 20 \\ \\mathrm{‰} \\\\ \n",
       "\\varepsilon_{22 s , SC2}& = \\varepsilon_{sy , A} = 2.78 \\ \\mathrm{‰} \\\\ \n",
       "\\varepsilon_{3 s , SC2}& = \\frac{\\sigma_{3 s , SC2}}{E_{s , A}} = 1.92 \\ \\mathrm{‰} \\end{aligned}\n",
       "$$"
      ],
      "text/plain": [
       "<IPython.core.display.Markdown object>"
      ]
     },
     "metadata": {},
     "output_type": "display_data"
    }
   ],
   "source": [
    "# Dehnungen\n",
    "eps_1_s_com_SC2 = ((sigma_1_s_com_SC2 - sigma_2_s_com_SC2) / E_sh_com_C + eps_sh_com_C).to(un.permille)\n",
    "eps_21_s_com_SC2 = eps_sh_com_C\n",
    "eps_22_s_com_SC2 = eps_sy_com_A\n",
    "eps_3_s_com_SC2 = (sigma_3_s_com_SC2 / E_s_com_A).to(un.permille)\n",
    "\n",
    "put_out(symbolic=True, rows=1)"
   ]
  },
  {
   "cell_type": "markdown",
   "metadata": {},
   "source": [
    "Abschliessend lässt sich für die trilineare Spannungs-Dehnungs-Beziehung die Mittlere Dehnung bestimmen. Diese gilt es nach @alvarez_einfluss_1998 Seite 163 zu bestimmen, wurde in diesem Beispiel jedoch vom Skript @jager_stahlbeton_2009 übernommen."
   ]
  },
  {
   "cell_type": "code",
   "execution_count": 77,
   "metadata": {},
   "outputs": [
    {
     "data": {
      "text/markdown": [
       "$$\n",
       "\\begin{aligned}\n",
       "\\varepsilon_{m s , SC2}& = 14.33 \\ \\mathrm{‰} \\end{aligned}\n",
       "$$"
      ],
      "text/plain": [
       "<IPython.core.display.Markdown object>"
      ]
     },
     "metadata": {},
     "output_type": "display_data"
    }
   ],
   "source": [
    "\n",
    "eps_m_s_com_SC2 = 14.33*un.permille\n",
    "put_out(rows=1)"
   ]
  },
  {
   "cell_type": "markdown",
   "metadata": {},
   "source": [
    "Dargestellt sind die Resultate in der @fig-jag_zustand_sc2."
   ]
  },
  {
   "cell_type": "code",
   "execution_count": 78,
   "metadata": {},
   "outputs": [],
   "source": [
    "# | echo: false\n",
    "\n",
    "coords_SC2_stress = [\n",
    "    (0, 0), \n",
    "    (Delta_x_pl_com_SC2.m, 0), \n",
    "    (s_r.m / 2, 0), \n",
    "    (s_r.m / 2, sigma_3_s_com_SC2.m), \n",
    "    (Delta_x_pl_com_SC2.m, sigma_2_s_com_SC2.m),\n",
    "    (0, sigma_1_s_com_SC2.m)\n",
    "    ]\n",
    "\n",
    "plot_stress_strain(coords_SC2_stress, \"imgs/jag_stress_sc2.svg\", stress=True)\n",
    "\n",
    "\n",
    "coords_SC2_strain = [\n",
    "    (0, 0),\n",
    "    (Delta_x_pl_com_SC2.m, 0),\n",
    "    (s_r.m / 2, 0),\n",
    "    (s_r.m / 2, eps_3_s_com_SC2),\n",
    "    (Delta_x_pl_com_SC2.m, eps_22_s_com_SC2),\n",
    "    (Delta_x_pl_com_SC2.m, eps_21_s_com_SC2),\n",
    "    (0, eps_1_s_com_SC2),\n",
    "]\n",
    "\n",
    "plot_stress_strain(coords_SC2_strain, \"imgs/jag_strain_sc2.svg\", strain=True, strain_mean=eps_m_s_com_SC2.m)"
   ]
  },
  {
   "cell_type": "markdown",
   "metadata": {},
   "source": [
    "::: {#fig-jag_zustand_sc2 layout-ncol=2}\n",
    "![Spannungsverlauf entlang des Zugglieds auf halbem Rissabstand](../imgs/jag_stress_sc2.svg){#fig-jag_stress_sc2}\n",
    "\n",
    "![Dehnungsverlauf entlang des Zugglieds auf halbem Rissabstand](../imgs/jag_strain_sc2.svg){#fig-jag_strain_sc2}\n",
    "\n",
    "Spannungs- und Dehnungsverlauf entlang der Hälfte des Rissabstands für den Zustand $SC2$\n",
    ":::"
   ]
  },
  {
   "cell_type": "markdown",
   "metadata": {},
   "source": [
    "Dabei stellt sich das folgende plastische Rotationsvermögen ein:"
   ]
  },
  {
   "cell_type": "code",
   "execution_count": 79,
   "metadata": {},
   "outputs": [
    {
     "data": {
      "text/markdown": [
       "$$\n",
       "\\begin{aligned}\n",
       "\\Theta_{SC2 , pl}& = \\frac{l_{pl} \\cdot \\left(- \\varepsilon_{m s , C1} + \\varepsilon_{m s , SC2}\\right)}{d_{x} - x_{u , C}} = 1.51 \\ \\mathrm{°} \\quad &  \\quad &  \n",
       " \\end{aligned}\n",
       "$$"
      ],
      "text/plain": [
       "<IPython.core.display.Markdown object>"
      ]
     },
     "metadata": {},
     "output_type": "display_data"
    }
   ],
   "source": [
    "Theta_SC2_com_pl = (l_pl * (eps_m_s_com_SC2 - eps_m_s_com_C1) / (d_x - x_u_com_C)).to(un.deg)\n",
    "\n",
    "put_out(symbolic=True)"
   ]
  },
  {
   "cell_type": "markdown",
   "metadata": {},
   "source": [
    "Anhand dieses Zustands können Streckenlast und Feldmoment bestimmt werden:"
   ]
  },
  {
   "cell_type": "code",
   "execution_count": 80,
   "metadata": {},
   "outputs": [
    {
     "data": {
      "text/markdown": [
       "$$\n",
       "\\begin{aligned}\n",
       "m_{SC2 , B}& = a_{s} \\cdot \\sigma_{1 s , SC2} \\cdot z_{, A} = 103.33 \\ \\frac{\\mathrm{kNm}}{\\mathrm{m}} \\quad &  \\quad &  \n",
       " \\end{aligned}\n",
       "$$"
      ],
      "text/plain": [
       "<IPython.core.display.Markdown object>"
      ]
     },
     "metadata": {},
     "output_type": "display_data"
    }
   ],
   "source": [
    "# Biegemoment resultiert daraus zu\n",
    "m_SC2_com_B = (a_s * sigma_1_s_com_SC2 * z_com_A).to(un.kNm/un.m)\n",
    "\n",
    "\n",
    "put_out(symbolic=True)"
   ]
  },
  {
   "cell_type": "code",
   "execution_count": 81,
   "metadata": {},
   "outputs": [
    {
     "data": {
      "text/markdown": [
       "$$\n",
       "\\begin{aligned}\n",
       "q_{SC2}& = b_{w} \\cdot \\left(\\frac{2 \\cdot m_{SC2 , F} + 4 \\cdot m_{y , C}}{l^{2}} + \\frac{4 \\cdot \\sqrt{m_{SC2 , B} \\cdot m_{SC2 , F} + m_{SC2 , F}^{2}}}{l^{2}}\\right) = 17.88 \\ \\frac{\\mathrm{kN}}{\\mathrm{m}} \\end{aligned}\n",
       "$$"
      ],
      "text/plain": [
       "<IPython.core.display.Markdown object>"
      ]
     },
     "metadata": {},
     "output_type": "display_data"
    }
   ],
   "source": [
    "\n",
    "# Streckenlast Fliessen im Feld, verfestigend über dem Auflager\n",
    "q_SC2 = (((4 * m_y_com_C + 2 * m_SC2_com_F) / l**2 + 4 / l**2 * np.sqrt(m_SC2_com_F**2 + m_SC2_com_F * m_SC2_com_B)) * b_w).to(un.kN/un.m)\n",
    "put_out(symbolic=True, rows=1)"
   ]
  },
  {
   "cell_type": "markdown",
   "metadata": {},
   "source": [
    "Dabei wird nun kontrolliert, ob das Rotationsvermögen ausreichend ist für den Rotationsbedarf. Der Rotationsbedarf beträgt dabei:"
   ]
  },
  {
   "cell_type": "code",
   "execution_count": 82,
   "metadata": {},
   "outputs": [
    {
     "data": {
      "text/markdown": [
       "$$\n",
       "\\begin{aligned}\n",
       "\\alpha_{SC2}& = \\frac{l^{3} \\cdot \\left(- q_{SC1} + q_{SC2}\\right)}{24 \\cdot EI_{II , C}} - \\frac{b_{w} \\cdot l \\cdot \\left(m_{SC2 , B} - m_{SC2 , F}\\right)}{3 \\cdot EI_{II , C}} = 0.74 \\ \\mathrm{°} \\\\ \n",
       "\\Theta_{SC2 , erf}& = 2 \\cdot \\alpha_{SC2} = 1.47 \\ \\mathrm{°} \\\\ \n",
       "\\Delta_{\\Theta SC3}& = \\Theta_{SC2 , erf} - \\Theta_{SC2 , pl} = -0.04 \\ \\mathrm{°} \\end{aligned}\n",
       "$$"
      ],
      "text/plain": [
       "<IPython.core.display.Markdown object>"
      ]
     },
     "metadata": {},
     "output_type": "display_data"
    }
   ],
   "source": [
    "# Kontrolle des Verformungsbedarfs\n",
    "alpha_SC2 = ((q_SC2 - q_SC1) * l**3 / (24 * EI_II_com_C)- (m_SC2_com_B - m_SC2_com_F)  * l*b_w / (3 * EI_II_com_C)).to(un.deg)\n",
    "\n",
    "# Erforderliche Rotation\n",
    "Theta_SC2_com_erf = 2 * alpha_SC2\n",
    "\n",
    "# Kontrolle ob das Verformungsvermögen gleich dem Verformungsbedarf ist\n",
    "Delta_Theta_SC3 = Theta_SC2_com_erf - Theta_SC2_com_pl\n",
    "\n",
    "put_out(symbolic=True, rows=1)"
   ]
  },
  {
   "cell_type": "markdown",
   "metadata": {},
   "source": [
    "Es ist folglich ein gültiger Zustand gefunden worden. Dies ist iterativ zu bestimmen. Die entsprechende Deformation im Feld beträgt dabei:"
   ]
  },
  {
   "cell_type": "code",
   "execution_count": 83,
   "metadata": {},
   "outputs": [
    {
     "data": {
      "text/markdown": [
       "$$\n",
       "\\begin{aligned}\n",
       "w_{SC2}& = \\frac{5 \\cdot l^{4} \\cdot q_{SC2}}{384 \\cdot EI_{II , A}} - \\frac{b_{w} \\cdot l^{2} \\cdot m_{SC2 , B}}{16 \\cdot EI_{II , A}} = 65.6 \\ \\mathrm{mm} \\quad &  \\quad &  \n",
       " \\end{aligned}\n",
       "$$"
      ],
      "text/plain": [
       "<IPython.core.display.Markdown object>"
      ]
     },
     "metadata": {},
     "output_type": "display_data"
    }
   ],
   "source": [
    "# Die Mittendurchbiegung beträgt\n",
    "w_SC2 = (5 * q_SC2 * l**4 / (384 * EI_II_com_A) - m_SC2_com_B * b_w * l**2 / (16 * EI_II_com_A)).to(un.mm)\n",
    "\n",
    "put_out(symbolic=True)"
   ]
  },
  {
   "cell_type": "markdown",
   "metadata": {},
   "source": [
    "#### Ermittlung der Traglast - Zustand $SC3$\n",
    "\n",
    "Da die maximale plastische Rotation noch nicht erreicht worden ist, lässt sich die Last weiter steigern. Dazu wird ein Zustand gesucht, welcher eine Rotation beim Mittelauflager hervorruft, welche der maximalen plastischen Rotation entspricht. Dabei werden folgende Dehnungen im Risselement angenommen:\n",
    "\n"
   ]
  },
  {
   "cell_type": "code",
   "execution_count": 84,
   "metadata": {},
   "outputs": [
    {
     "data": {
      "text/markdown": [
       "$$\n",
       "\\begin{aligned}\n",
       "\\varepsilon_{2 s , SC3}& = \\varepsilon_{sh , C} = 20 \\ \\mathrm{‰} \\\\ \n",
       "\\varepsilon_{1 s , SC3}& = \\frac{4 \\cdot s_{r} \\cdot \\tau_{b1}}{2 \\cdot E_{sh , C} \\cdot \\oslash_{x}} + \\varepsilon_{2 s , SC3} = 106.93 \\ \\mathrm{‰} \\\\ \n",
       "\\varepsilon_{m s , SC3}& = \\frac{\\varepsilon_{1 s , SC3} + \\varepsilon_{2 s , SC3}}{2} = 63.46 \\ \\mathrm{‰} \\end{aligned}\n",
       "$$"
      ],
      "text/plain": [
       "<IPython.core.display.Markdown object>"
      ]
     },
     "metadata": {},
     "output_type": "display_data"
    }
   ],
   "source": [
    "eps_2_s_com_SC3 = eps_sh_com_C\n",
    "eps_1_s_com_SC3 = eps_2_s_com_SC3 + 4 * tau_b1 * s_r / 2 / (diam_x * E_sh_com_C)\n",
    "eps_m_s_com_SC3 = (eps_2_s_com_SC3 + eps_1_s_com_SC3) / 2\n",
    "\n",
    "put_out(symbolic=True, rows=1)"
   ]
  },
  {
   "cell_type": "markdown",
   "metadata": {},
   "source": [
    "Dabei stellen sich folgende Spannungen ein:"
   ]
  },
  {
   "cell_type": "code",
   "execution_count": 85,
   "metadata": {},
   "outputs": [
    {
     "data": {
      "text/markdown": [
       "$$\n",
       "\\begin{aligned}\n",
       "\\sigma_{1 s , SC3}& = E_{sh , C} \\cdot \\left(\\varepsilon_{1 s , SC3} - \\varepsilon_{2 s , SC3}\\right) + f_{sy , C} = 582.76 \\ \\frac{\\mathrm{N}}{\\mathrm{mm}^{2}} \\\\ \n",
       "\\sigma_{2 s , SC3}& = f_{sy , C} = 500.0 \\ \\frac{\\mathrm{N}}{\\mathrm{mm}^{2}} \\end{aligned}\n",
       "$$"
      ],
      "text/plain": [
       "<IPython.core.display.Markdown object>"
      ]
     },
     "metadata": {},
     "output_type": "display_data"
    }
   ],
   "source": [
    "\n",
    "sigma_1_s_com_SC3 = ((eps_1_s_com_SC3 - eps_2_s_com_SC3) * E_sh_com_C + f_sy_com_C).to(un.N/un.mm**2)\n",
    "sigma_2_s_com_SC3 = (f_sy_com_C).to(un.N/un.mm**2)\n",
    "put_out(symbolic=True, rows=1)"
   ]
  },
  {
   "cell_type": "markdown",
   "metadata": {},
   "source": [
    "Dargestellt ist dies in der @fig-jag_zustand_sc3."
   ]
  },
  {
   "cell_type": "code",
   "execution_count": 86,
   "metadata": {},
   "outputs": [],
   "source": [
    "# | echo: false\n",
    "\n",
    "coords_sc3_stress = [\n",
    "    (0, 0),\n",
    "    (s_r.m / 2, 0),\n",
    "    (s_r.m / 2, sigma_2_s_com_SC3.m),\n",
    "    (0, sigma_1_s_com_SC3.m),\n",
    "]\n",
    "\n",
    "plot_stress_strain(coords_sc3_stress, \"imgs/jag_stress_sc3.svg\", stress=True)\n",
    "\n",
    "\n",
    "coords_sc3_strain = [\n",
    "    (0, 0),\n",
    "    (s_r.m / 2, 0),\n",
    "    (s_r.m / 2, eps_2_s_com_SC3),\n",
    "    (0, eps_1_s_com_SC3),\n",
    "]\n",
    "\n",
    "plot_stress_strain(coords_sc3_strain, \"imgs/jag_strain_sc3.svg\", strain=True, strain_mean=eps_m_s_com_SC3.m)"
   ]
  },
  {
   "cell_type": "markdown",
   "metadata": {},
   "source": [
    "::: {#fig-jag_zustand_sc3 layout-ncol=2}\n",
    "![Spannungsverlauf entlang des Zugglieds auf halbem Rissabstand](../imgs/jag_stress_sc3.svg){#fig-jag_stress_sc3}\n",
    "\n",
    "![Dehnungsverlauf entlang des Zugglieds auf halbem Rissabstand](../imgs/jag_strain_sc3.svg){#fig-jag_strain_sc3}\n",
    "\n",
    "Spannungs- und Dehnungsverlauf entlang der Hälfte des Rissabstands für die Traglast\n",
    ":::"
   ]
  },
  {
   "cell_type": "markdown",
   "metadata": {},
   "source": [
    "Mit der gewählten Rotation stellt sich das folgende Feldmoment ein:"
   ]
  },
  {
   "cell_type": "code",
   "execution_count": 87,
   "metadata": {},
   "outputs": [
    {
     "data": {
      "text/markdown": [
       "$$\n",
       "\\begin{aligned}\n",
       "m_{SC3 , F}& = a_{s} \\cdot \\sigma_{1 s , SC3} \\cdot z_{, C} = 113.62 \\ \\frac{\\mathrm{kNm}}{\\mathrm{m}} \\\\ \n",
       "m_{SC3 , B}& = m_{u , C} = 114.28 \\ \\frac{\\mathrm{kNm}}{\\mathrm{m}} \\end{aligned}\n",
       "$$"
      ],
      "text/plain": [
       "<IPython.core.display.Markdown object>"
      ]
     },
     "metadata": {},
     "output_type": "display_data"
    }
   ],
   "source": [
    "m_SC3_com_F = (a_s * sigma_1_s_com_SC3 * z_com_C).to(un.kNm/un.m)\n",
    "\n",
    "m_SC3_com_B = m_u_com_C\n",
    "put_out(symbolic=True, rows = 1)\n"
   ]
  },
  {
   "cell_type": "markdown",
   "metadata": {},
   "source": [
    "Und die dazu entsprechende Streckenlast:"
   ]
  },
  {
   "cell_type": "code",
   "execution_count": 88,
   "metadata": {},
   "outputs": [
    {
     "data": {
      "text/markdown": [
       "$$\n",
       "\\begin{aligned}\n",
       "q_{SC3}& = b_{w} \\cdot \\left(\\frac{4 \\cdot m_{SC3 , F} + 2 \\cdot m_{u , C}}{l^{2}} + \\frac{4 \\cdot \\sqrt{m_{SC3 , F}^{2} + m_{SC3 , F} \\cdot m_{u , C}}}{l^{2}}\\right) = 20.73 \\ \\frac{\\mathrm{kN}}{\\mathrm{m}} \\quad &  \\quad &  \n",
       " \\end{aligned}\n",
       "$$"
      ],
      "text/plain": [
       "<IPython.core.display.Markdown object>"
      ]
     },
     "metadata": {},
     "output_type": "display_data"
    }
   ],
   "source": [
    "\n",
    "# Streckenlast Fliessen im Feld, verfestigend über dem Auflager\n",
    "q_SC3 = (((4 * m_SC3_com_F + 2 * m_u_com_C) / l**2 + 4 / l**2 * np.sqrt(m_SC3_com_F**2 + m_SC3_com_F * m_u_com_C)) * b_w).to(un.kN/un.m)\n",
    "\n",
    "put_out(symbolic=True)\n"
   ]
  },
  {
   "cell_type": "markdown",
   "metadata": {},
   "source": [
    "Dabei ist nun die plastische Rotation im Feld zu kontrollieren. Dabei ist die Lage des Gelenks abzuschätzen. Dabei entspricht $w$ der plastischen Rotation, welche kleiner als das Rotationsvermögen sein muss.\n",
    "\n",
    "![Annahme für die Lage des Gelenks im Feld](../imgs/jag_plast_feld_C.svg){#fig-jag_plast_feld_C}"
   ]
  },
  {
   "cell_type": "markdown",
   "metadata": {},
   "source": [
    "Dabei stellt sich die folgende plastische Rotation im Feld ein:"
   ]
  },
  {
   "cell_type": "code",
   "execution_count": 89,
   "metadata": {},
   "outputs": [
    {
     "data": {
      "text/markdown": [
       "$$\n",
       "\\begin{aligned}\n",
       "\\Theta_{SC3 , F}& = \\frac{l_{pl} \\cdot \\left(- \\varepsilon_{m s , C1} + \\varepsilon_{m s , SC3}\\right)}{d_{x} - x_{u , A}} = 7.56 \\ \\mathrm{°} \\quad &  \\quad &  \n",
       " \\end{aligned}\n",
       "$$"
      ],
      "text/plain": [
       "<IPython.core.display.Markdown object>"
      ]
     },
     "metadata": {},
     "output_type": "display_data"
    }
   ],
   "source": [
    "\n",
    "# Plastische rotation im Feld\n",
    "Theta_SC3_com_F = (l_pl * (eps_m_s_com_SC3 - eps_m_s_com_C1) / (d_x - x_u_com_A)).to(un.deg)\n",
    "\n",
    "put_out(symbolic=True)"
   ]
  },
  {
   "cell_type": "markdown",
   "metadata": {},
   "source": [
    "Und beim Mittelauflager muss die folgende Rotation verfügbar sein:"
   ]
  },
  {
   "cell_type": "code",
   "execution_count": 90,
   "metadata": {},
   "outputs": [
    {
     "data": {
      "text/markdown": [
       "$$\n",
       "\\begin{aligned}\n",
       "\\alpha_{SC3}& = 0.414 \\cdot \\Theta_{SC3 , F} + \\frac{l^{3} \\cdot q_{SC3}}{24 \\cdot EI_{II , A}} - \\frac{b_{w} \\cdot l \\cdot m_{u , C}}{3 \\cdot EI_{II , A}} = 4.09 \\ \\mathrm{°} \\\\ \n",
       "\\Theta_{SC3 , erf}& = 2 \\cdot \\alpha_{SC3} = 8.18 \\ \\mathrm{°} \\end{aligned}\n",
       "$$"
      ],
      "text/plain": [
       "<IPython.core.display.Markdown object>"
      ]
     },
     "metadata": {},
     "output_type": "display_data"
    }
   ],
   "source": [
    "# Kontrolle des Verformungsbedarfs\n",
    "alpha_SC3 = (q_SC3 * l**3 / (24 * EI_II_com_A)- (m_u_com_C) * b_w * l / (3 * EI_II_com_A)+ 0.414 * Theta_SC3_com_F).to(un.deg)\n",
    "\n",
    "# Erforderliche Rotation\n",
    "Theta_SC3_com_erf = 2 * alpha_SC3\n",
    "\n",
    "\n",
    "put_out(symbolic=True, rows = 1)"
   ]
  },
  {
   "cell_type": "markdown",
   "metadata": {},
   "source": [
    "Welche mit der maximalen plastischen Rotation zu vergleichen ist."
   ]
  },
  {
   "cell_type": "code",
   "execution_count": 91,
   "metadata": {},
   "outputs": [
    {
     "data": {
      "text/markdown": [
       "$$\n",
       "\\begin{aligned}\n",
       "\\Theta_{max , C}& = \\frac{l_{pl} \\cdot \\left(- \\varepsilon_{m s , C1} + \\varepsilon_{m s , adm}\\right)}{d_{x} - x_{u , C}} = 8.01 \\ \\mathrm{°} \\\\ \n",
       "\\Delta_{\\Theta SC3}& = \\Theta_{SC3 , erf} - \\Theta_{max , C} = 0.17 \\ \\mathrm{°} \\end{aligned}\n",
       "$$"
      ],
      "text/plain": [
       "<IPython.core.display.Markdown object>"
      ]
     },
     "metadata": {},
     "output_type": "display_data"
    }
   ],
   "source": [
    "# Kontrolle ob das Verformungsvermögen gleich dem Verformungsbedarf ist\n",
    "\n",
    "Theta_max_com_C\n",
    "Delta_Theta_SC3 = Theta_SC3_com_erf - Theta_max_com_C\n",
    "\n",
    "put_out(symbolic=True, rows = 1)"
   ]
  },
  {
   "cell_type": "markdown",
   "metadata": {},
   "source": [
    "Die erforderliche Rotation des Mittelauflagers ist in etwa gleich dem Rotationsvermögen. Abschliessend stellt sich die folgende Feldverformung ein:"
   ]
  },
  {
   "cell_type": "code",
   "execution_count": 92,
   "metadata": {},
   "outputs": [
    {
     "data": {
      "text/markdown": [
       "$$\n",
       "\\begin{aligned}\n",
       "w_{SC3}& = \\frac{0.414 \\cdot \\Theta_{SC3 , F} \\cdot l}{2} + \\frac{5 \\cdot l^{4} \\cdot q_{SC3}}{384 \\cdot EI_{II , C}} - \\frac{b_{w} \\cdot l^{2} \\cdot m_{u , C}}{16 \\cdot EI_{II , A}} = 297.33 \\ \\mathrm{mm} \\quad &  \\quad &  \n",
       " \\end{aligned}\n",
       "$$"
      ],
      "text/plain": [
       "<IPython.core.display.Markdown object>"
      ]
     },
     "metadata": {},
     "output_type": "display_data"
    }
   ],
   "source": [
    "# Die Mittendurchbiegung beträgt\n",
    "w_SC3 = (5 * q_SC3 * l**4 / (384 * EI_II_com_C)- m_u_com_C * b_w * l**2 / (16 * EI_II_com_A)+ 0.414 * Theta_SC3_com_F * l / 2).to(un.mm)\n",
    "\n",
    "put_out(symbolic=True, evaluate=False)"
   ]
  },
  {
   "cell_type": "markdown",
   "metadata": {},
   "source": [
    "#### Zusammenfassung"
   ]
  },
  {
   "cell_type": "code",
   "execution_count": 93,
   "metadata": {},
   "outputs": [
    {
     "data": {
      "text/markdown": [
       "$$\n",
       "\\begin{aligned}\n",
       "q_{SC1}& = 12.19 \\ \\frac{\\mathrm{kN}}{\\mathrm{m}} \\quad & w_{SC1}& = 31.55 \\ \\mathrm{mm} \\quad & m_{SC1 , B}& = 97.48 \\ \\frac{\\mathrm{kNm}}{\\mathrm{m}} \\\\ \n",
       "q_{SC2}& = 17.88 \\ \\frac{\\mathrm{kN}}{\\mathrm{m}} \\quad & w_{SC2}& = 65.6 \\ \\mathrm{mm} \\quad & m_{SC2 , B}& = 103.33 \\ \\frac{\\mathrm{kNm}}{\\mathrm{m}} \\\\ \n",
       "q_{SC3}& = 20.73 \\ \\frac{\\mathrm{kN}}{\\mathrm{m}} \\quad & w_{SC3}& = 297.33 \\ \\mathrm{mm} \\quad & m_{SC3 , F}& = 113.62 \\ \\frac{\\mathrm{kNm}}{\\mathrm{m}} \\end{aligned}\n",
       "$$"
      ],
      "text/plain": [
       "<IPython.core.display.Markdown object>"
      ]
     },
     "metadata": {},
     "output_type": "display_data"
    }
   ],
   "source": [
    "q_SC1\n",
    "w_SC1\n",
    "m_SC1_com_B\n",
    "\n",
    "q_SC2\n",
    "w_SC2\n",
    "m_SC2_com_B\n",
    "\n",
    "\n",
    "q_SC3\n",
    "w_SC3\n",
    "m_SC3_com_F\n",
    "\n",
    "\n",
    "\n",
    "put_out()"
   ]
  },
  {
   "cell_type": "markdown",
   "metadata": {},
   "source": [
    "### Federmodell"
   ]
  },
  {
   "cell_type": "markdown",
   "metadata": {},
   "source": [
    "#### Momenten-Krümmungs-Beziehung"
   ]
  },
  {
   "cell_type": "markdown",
   "metadata": {},
   "source": [
    "Dabei lassen sich die folgenden Krümmungen bestimmen:"
   ]
  },
  {
   "cell_type": "code",
   "execution_count": 94,
   "metadata": {},
   "outputs": [
    {
     "data": {
      "text/markdown": [
       "$$\n",
       "\\begin{aligned}\n",
       "\\chi_{y , C}& = \\frac{b_{w} \\cdot m_{y , C}}{EI_{II , C}} = 0.0118 \\ \\frac{1}{\\mathrm{m}} \\\\ \n",
       "\\chi_{sh , C}& = \\frac{\\varepsilon_{sh , C}}{d_{x} - x_{u , C}} = 0.0823 \\ \\frac{1}{\\mathrm{m}} \\\\ \n",
       "\\chi_{u , C}& = \\frac{\\varepsilon_{1 s , C2}}{d_{x} - x_{u , C}} = 0.455 \\ \\frac{1}{\\mathrm{m}} \\end{aligned}\n",
       "$$"
      ],
      "text/plain": [
       "<IPython.core.display.Markdown object>"
      ]
     },
     "metadata": {},
     "output_type": "display_data"
    }
   ],
   "source": [
    "chi_y_com_C = (m_y_com_C*b_w / EI_II_com_C).to(1/un.m)\n",
    "chi_sh_com_C = (eps_sh_com_C / (d_x - x_u_com_C)).to(1/un.m)\n",
    "chi_u_com_C = (eps_1_s_com_C2 / (d_x - x_u_com_C)).to(1/un.m)\n",
    "\n",
    "put_out(symbolic=True, rows=1, precision=4)"
   ]
  },
  {
   "cell_type": "markdown",
   "metadata": {},
   "source": [
    "Mit den entsprechenden Biegemomenten:"
   ]
  },
  {
   "cell_type": "code",
   "execution_count": 95,
   "metadata": {},
   "outputs": [
    {
     "data": {
      "text/markdown": [
       "$$\n",
       "\\begin{aligned}\n",
       "m_{y , C}& = a_{s} \\cdot f_{sy , C} \\cdot z_{, C} = 97.48 \\ \\frac{\\mathrm{kNm}}{\\mathrm{m}} \\\\ \n",
       "m_{u , C}& = a_{s} \\cdot \\sigma_{1 s , C2} \\cdot z_{, C} = 114.28 \\ \\frac{\\mathrm{kNm}}{\\mathrm{m}} \\end{aligned}\n",
       "$$"
      ],
      "text/plain": [
       "<IPython.core.display.Markdown object>"
      ]
     },
     "metadata": {},
     "output_type": "display_data"
    }
   ],
   "source": [
    "\n",
    "m_y_com_C\n",
    "m_u_com_C\n",
    "\n",
    "put_out(symbolic=True, rows = 1)"
   ]
  },
  {
   "cell_type": "markdown",
   "metadata": {},
   "source": [
    "Aufgezeigt ist die Momenten-Krümmungs-Beziehung in der @fig-jag_m_chi_b500c."
   ]
  },
  {
   "cell_type": "code",
   "execution_count": 96,
   "metadata": {},
   "outputs": [],
   "source": [
    "momente_b500c = np.array([0, m_y_com_C.m, m_y_com_C.m, m_u_com_C.m])\n",
    "\n",
    "chi_b500c = np.array([0, chi_y_com_C.m, chi_sh_com_C.m, chi_u_com_C.m])\n",
    "\n",
    "\n",
    "fig_m_chi_b500c, ax_m_chi_b500c = plt.subplots()\n",
    "\n",
    "\n",
    "ax_m_chi_b500c.plot(chi_b500c, momente_b500c, color='black')\n",
    "\n",
    "# Add labels and show the plot\n",
    "ax_m_chi_b500c.set_ylabel(\"$M$ [kNm]\")\n",
    "ax_m_chi_b500c.set_xlabel(\"$\\chi$ [1/m]\")\n",
    "\n",
    "# Save the plot to the specified file\n",
    "plt.savefig(\"imgs/jag_m_chi_b500c.svg\")\n",
    "plt.close()"
   ]
  },
  {
   "cell_type": "markdown",
   "metadata": {},
   "source": [
    "![Momenten-Krümmungs-Beziehung approximiert mit punktueller Querschnittsanalyse für den Betonstahl B500C](../imgs/jag_m_chi_b500c.svg){#fig-jag_m_chi_b500c}\n"
   ]
  },
  {
   "cell_type": "markdown",
   "metadata": {},
   "source": [
    "#### Modellierung\n",
    "\n",
    "Die Elementlänge der starren Stäbe im Federmodell betragen:"
   ]
  },
  {
   "cell_type": "code",
   "execution_count": 97,
   "metadata": {},
   "outputs": [
    {
     "data": {
      "text/markdown": [
       "$$\n",
       "\\begin{aligned}\n",
       "l_{El}& = 0.1 \\ \\mathrm{m} \\quad & n_{gelenk}& = 2 \\quad &  \n",
       " \\end{aligned}\n",
       "$$"
      ],
      "text/plain": [
       "<IPython.core.display.Markdown object>"
      ]
     },
     "metadata": {},
     "output_type": "display_data"
    }
   ],
   "source": [
    "l_El = 0.1*un.m\n",
    "n_gelenk = 2\n",
    "put_out()\n"
   ]
  },
  {
   "cell_type": "markdown",
   "metadata": {},
   "source": [
    "Damit lassen sich die Grenzpunkte der Krümmung in eine Verdrehung umrechnen:"
   ]
  },
  {
   "cell_type": "code",
   "execution_count": 98,
   "metadata": {},
   "outputs": [
    {
     "data": {
      "text/markdown": [
       "$$\n",
       "\\begin{aligned}\n",
       "\\Theta_{max , C}& = 8.01 \\ \\mathrm{°} \\quad &  \\quad &  \n",
       " \\end{aligned}\n",
       "$$"
      ],
      "text/plain": [
       "<IPython.core.display.Markdown object>"
      ]
     },
     "metadata": {},
     "output_type": "display_data"
    }
   ],
   "source": [
    "Theta_max_com_C\n",
    "\n",
    "put_out()"
   ]
  },
  {
   "cell_type": "code",
   "execution_count": 99,
   "metadata": {},
   "outputs": [
    {
     "data": {
      "text/markdown": [
       "$$\n",
       "\\begin{aligned}\n",
       "\\Theta_{y , C}& = \\frac{\\chi_{y , C} \\cdot l_{El}}{n_{gelenk}} = 0.0005916 \\ \\mathrm{rad} \\\\ \n",
       "\\Theta_{sh , C}& = \\frac{\\chi_{sh , C} \\cdot l_{El}}{n_{gelenk}} = 0.0041171 \\ \\mathrm{rad} \\\\ \n",
       "\\Theta_{u , C}& = \\frac{\\chi_{u , C} \\cdot l_{El}}{n_{gelenk}} = 0.0227516 \\ \\mathrm{rad} \\\\ \n",
       "\\Theta_{max , gelenk , C}& = \\frac{\\Theta_{max , C}}{n_{gelenk}} = 0.0698711 \\ \\mathrm{rad} \\end{aligned}\n",
       "$$"
      ],
      "text/plain": [
       "<IPython.core.display.Markdown object>"
      ]
     },
     "metadata": {},
     "output_type": "display_data"
    }
   ],
   "source": [
    "Theta_y_com_C = (chi_y_com_C * l_El/n_gelenk).to(un.rad)\n",
    "Theta_sh_com_C = (chi_sh_com_C * l_El/n_gelenk).to(un.rad)\n",
    "Theta_u_com_C = (chi_u_com_C * l_El/n_gelenk).to(un.rad)\n",
    "Theta_max_com_gelenk_com_C = Theta_max_com_C.to(un.rad)/n_gelenk\n",
    "\n",
    "put_out(symbolic=True, precision = 7, rows = 1)"
   ]
  },
  {
   "cell_type": "code",
   "execution_count": 100,
   "metadata": {},
   "outputs": [],
   "source": [
    "momente_b500c = np.array([0, m_y_com_C.m, m_y_com_C.m, m_u_com_C.m, m_u_com_C.m])\n",
    "\n",
    "phi_b500c = np.array([0, Theta_y_com_C.m, Theta_sh_com_C.m, Theta_u_com_C.m, Theta_max_com_C.m])\n",
    "\n",
    "\n",
    "fig_m_phi_b500c, ax_m_phi_b500c = plt.subplots()\n",
    "\n",
    "\n",
    "ax_m_phi_b500c.plot(phi_b500c, momente_b500c, color='black')\n",
    "\n",
    "# Add labels and show the plot\n",
    "ax_m_phi_b500c.set_ylabel(\"$M$ [kNm]\")\n",
    "ax_m_phi_b500c.set_xlabel(\"$\\\\varphi$ [rad]\")\n",
    "\n",
    "# Save the plot to the specified file\n",
    "fig_m_phi_b500c.savefig(\"imgs/jag_m_phi_b500c.svg\")\n",
    "plt.close()"
   ]
  },
  {
   "cell_type": "markdown",
   "metadata": {},
   "source": [
    "![Momenten-Verdrehungs-Beziehung approximiert mit punktueller Querschnittsanalyse für den Betonstahl B500C, mit maximalem Rotationsvermögen erweitert](../imgs/jag_m_phi_b500c.svg){#fig-jag_m_phi_b500c}\n"
   ]
  },
  {
   "cell_type": "markdown",
   "metadata": {},
   "source": [
    "#### Resultate"
   ]
  },
  {
   "cell_type": "markdown",
   "metadata": {},
   "source": [
    "Abschliessend sind die Rotationen der Gelenke im Modell händisch zu kontrollieren.\n",
    "\n",
    "##### Zustand $SC1$\n",
    "\n"
   ]
  },
  {
   "cell_type": "code",
   "execution_count": 101,
   "metadata": {},
   "outputs": [
    {
     "data": {
      "text/markdown": [
       "$$\n",
       "\\begin{aligned}\n",
       "q_{SC1}& = 12.19 \\ \\frac{\\mathrm{kN}}{\\mathrm{m}} \\quad &  \\quad &  \n",
       " \\end{aligned}\n",
       "$$"
      ],
      "text/plain": [
       "<IPython.core.display.Markdown object>"
      ]
     },
     "metadata": {},
     "output_type": "display_data"
    }
   ],
   "source": [
    "q_SC1\n",
    "\n",
    "put_out()"
   ]
  },
  {
   "cell_type": "markdown",
   "metadata": {},
   "source": [
    "\n",
    "![Verlauf der Biegemomente und Deformationen für den Zustand $SA1$, dazu die Stelle des Rotationswinkels. Numerisch berechnet mit AxisVM Federmodell für den Betonstahl PLATZHALTER](../imgs/jag_fem_sa1.svg){#fig-jag_feder_my_SC1}\n",
    "\n"
   ]
  },
  {
   "cell_type": "code",
   "execution_count": 102,
   "metadata": {},
   "outputs": [
    {
     "data": {
      "text/markdown": [
       "$$\n",
       "\\begin{aligned}\n",
       "w_{SC1 , FEM}& = 32.0 \\ \\mathrm{mm} \\quad & w_{SC1}& = 31.55 \\ \\mathrm{mm} \\quad &  \n",
       " \\end{aligned}\n",
       "$$"
      ],
      "text/plain": [
       "<IPython.core.display.Markdown object>"
      ]
     },
     "metadata": {},
     "output_type": "display_data"
    }
   ],
   "source": [
    "w_SC1_com_FEM = 32.*un.mm\n",
    "w_SC1\n",
    "\n",
    "\n",
    "put_out()"
   ]
  },
  {
   "cell_type": "markdown",
   "metadata": {},
   "source": [
    "\n",
    "##### Zustand $SC2$\n"
   ]
  },
  {
   "cell_type": "code",
   "execution_count": 103,
   "metadata": {},
   "outputs": [
    {
     "data": {
      "text/markdown": [
       "$$\n",
       "\\begin{aligned}\n",
       "q_{SC2}& = 17.88 \\ \\frac{\\mathrm{kN}}{\\mathrm{m}} \\quad &  \\quad &  \n",
       " \\end{aligned}\n",
       "$$"
      ],
      "text/plain": [
       "<IPython.core.display.Markdown object>"
      ]
     },
     "metadata": {},
     "output_type": "display_data"
    }
   ],
   "source": [
    "q_SC2\n",
    "\n",
    "put_out()"
   ]
  },
  {
   "cell_type": "markdown",
   "metadata": {},
   "source": [
    "\n",
    "\n",
    "\n",
    "![Verlauf der Biegemomente und Deformationen für den Zustand $SA2$, dazu die Stelle des Rotationswinkels. Numerisch berechnet mit AxisVM Federmodell für den Betonstahl PLATZHALTER](../imgs/jag_fem_sa1.svg){#fig-jag_feder_my_SC2}\n",
    "\n",
    "\n",
    "\n"
   ]
  },
  {
   "cell_type": "code",
   "execution_count": 104,
   "metadata": {},
   "outputs": [
    {
     "data": {
      "text/markdown": [
       "$$\n",
       "\\begin{aligned}\n",
       "w_{SC2 , FEM}& = 60.0 \\ \\mathrm{mm} \\quad & w_{SC2}& = 65.6 \\ \\mathrm{mm} \\quad &  \n",
       " \\end{aligned}\n",
       "$$"
      ],
      "text/plain": [
       "<IPython.core.display.Markdown object>"
      ]
     },
     "metadata": {},
     "output_type": "display_data"
    }
   ],
   "source": [
    "w_SC2_com_FEM = 60.00*un.mm\n",
    "w_SC2\n",
    "put_out()"
   ]
  },
  {
   "cell_type": "markdown",
   "metadata": {},
   "source": [
    "\n",
    "##### Zustand $SC3$\n"
   ]
  },
  {
   "cell_type": "code",
   "execution_count": 105,
   "metadata": {},
   "outputs": [
    {
     "data": {
      "text/markdown": [
       "$$\n",
       "\\begin{aligned}\n",
       "q_{SC3}& = 20.73 \\ \\frac{\\mathrm{kN}}{\\mathrm{m}} \\quad & m_{SC3 , F}& = 113.62 \\ \\frac{\\mathrm{kNm}}{\\mathrm{m}} \\quad & m_{SC3 , B}& = 114.28 \\ \\frac{\\mathrm{kNm}}{\\mathrm{m}} \\end{aligned}\n",
       "$$"
      ],
      "text/plain": [
       "<IPython.core.display.Markdown object>"
      ]
     },
     "metadata": {},
     "output_type": "display_data"
    }
   ],
   "source": [
    "q_SC3\n",
    "m_SC3_com_F\n",
    "m_SC3_com_B\n",
    "put_out()"
   ]
  },
  {
   "cell_type": "markdown",
   "metadata": {},
   "source": [
    "\n",
    "\n",
    "\n",
    "![Verlauf der Biegemomente und Deformationen für den Zustand $SA2$, dazu die Stelle des Rotationswinkels. Numerisch berechnet mit AxisVM Federmodell für den Betonstahl PLATZHALTER](../imgs/jag_fem_sa1.svg){#fig-jag_feder_my_SC2}\n",
    "\n",
    "\n",
    "\n"
   ]
  },
  {
   "cell_type": "markdown",
   "metadata": {},
   "source": [
    "Die Lage des Gelenks:"
   ]
  },
  {
   "cell_type": "code",
   "execution_count": 106,
   "metadata": {},
   "outputs": [
    {
     "data": {
      "text/markdown": [
       "$$\n",
       "\\begin{aligned}\n",
       "x_{Gelenk , FEM}& = 3.3 \\ \\mathrm{m} \\quad & x_{Gelenk}& = 3.31 \\ \\mathrm{m} \\quad &  \n",
       " \\end{aligned}\n",
       "$$"
      ],
      "text/plain": [
       "<IPython.core.display.Markdown object>"
      ]
     },
     "metadata": {},
     "output_type": "display_data"
    }
   ],
   "source": [
    "x_Gelenk_com_FEM = 3.3*un.m\n",
    "x_Gelenk = (1 - 0.586)*l\n",
    "\n",
    "put_out()"
   ]
  },
  {
   "cell_type": "code",
   "execution_count": 107,
   "metadata": {},
   "outputs": [
    {
     "data": {
      "text/markdown": [
       "$$\n",
       "\\begin{aligned}\n",
       "q_{SC3 FEM}& = 18.9 \\ \\frac{\\mathrm{kN}}{\\mathrm{m}} \\quad & w_{SC3 FEM}& = 229.08 \\ \\mathrm{mm} \\quad & w_{SC3}& = 297.33 \\ \\mathrm{mm} \\end{aligned}\n",
       "$$"
      ],
      "text/plain": [
       "<IPython.core.display.Markdown object>"
      ]
     },
     "metadata": {},
     "output_type": "display_data"
    }
   ],
   "source": [
    "q_SC3_FEM = 18.9*un.kN/un.m\n",
    "w_SC3_FEM = 229.08*un.mm\n",
    "w_SC3\n",
    "put_out()"
   ]
  },
  {
   "cell_type": "markdown",
   "metadata": {},
   "source": [
    "## Zusammenfassung der Resultate"
   ]
  },
  {
   "cell_type": "code",
   "execution_count": 108,
   "metadata": {},
   "outputs": [],
   "source": [
    "DF_b500c_res = pd.read_excel('calc/axis_res.xlsx', sheet_name='jag_b500c')\n",
    "\n",
    "DF_b500c_res['Lpa'] = DF_b500c_res['Lpa']*19.25\n",
    "DF_b500c_res['eZ_1 [mm]'] = DF_b500c_res['eZ_1 [mm]']*-1\n",
    "\n",
    "\n",
    "\n",
    "DF_b500a_res = pd.read_excel('calc/axis_res.xlsx', sheet_name='jag_b500a')\n",
    "\n",
    "DF_b500a_res['Lpa'] = DF_b500a_res['Lpa']*16.1\n",
    "DF_b500a_res['eZ_1 [mm]'] = DF_b500a_res['eZ_1 [mm]']*-1\n",
    "\n",
    "\n"
   ]
  },
  {
   "cell_type": "code",
   "execution_count": 109,
   "metadata": {},
   "outputs": [],
   "source": [
    "w_A_array = np.array([0., w_SA1.m, w_SA3.m])\n",
    "q_A_array = np.array([0.,q_SA1.m, q_SA3.m])\n",
    "w_A_FEM_array = np.array([0.,w_SA1_com_FEM.m, w_SA3_com_FEM.m])\n",
    "\n",
    "w_C_array = np.array([0.,w_SC1.m, w_SC2.m, w_SC3.m])\n",
    "q_C_array = np.array([0.,q_SC1.m, q_SC2.m, q_SC3.m])\n",
    "q_C_FEM_array = np.array([0.,q_SC1.m, q_SC2.m, q_SC3_FEM.m])\n",
    "w_C_FEM_array = np.array([0.,w_SC1_com_FEM.m, w_SC2_com_FEM.m, w_SC3_FEM.m])"
   ]
  },
  {
   "cell_type": "code",
   "execution_count": 110,
   "metadata": {},
   "outputs": [],
   "source": [
    "fig_q_w, ax_q_w = plt.subplots(figsize=(14/2.54,5.4/2.54))\n",
    "\n",
    "\n",
    "ax_q_w.plot(w_A_array, q_A_array, color='black', label='B500A analytisch')\n",
    "# ax_q_w.plot(w_A_FEM_array, q_A_array, color='black', linestyle='dashed', label='B500A FEM')\n",
    "ax_q_w.plot(DF_b500a_res['eZ_1 [mm]'], DF_b500a_res['Lpa'], color='black', linestyle='dashed', label='B500A FEM')\n",
    "ax_q_w.plot(w_C_array, q_C_array, color='gray', label='B500C analytisch')\n",
    "# ax_q_w.plot(w_C_FEM_array, q_C_FEM_array, color='gray', linestyle='dashed', label='B500C FEM')\n",
    "ax_q_w.plot(DF_b500c_res['eZ_1 [mm]'], DF_b500c_res['Lpa'], color='gray', linestyle='dashed', label='B500C FEM')\n",
    "\n",
    "# Add labels and show the plot\n",
    "ax_q_w.set_ylabel(\"$q$ [kN/m]\")\n",
    "ax_q_w.set_xlabel(\"$w$ [m]\")\n",
    "\n",
    "plt.legend()\n",
    "# Save the plot to the specified file\n",
    "plt.savefig(\"imgs/jag_q_w.svg\")\n",
    "plt.close()"
   ]
  },
  {
   "cell_type": "markdown",
   "metadata": {},
   "source": [
    "![Last-Feldmittendurchbiegung-Diagramm für beide Betonstähle, analytisch gelöst und mit der FEM-Lösung nachgerechnet](../imgs/jag_q_w.svg){#fig-jag_q_w}"
   ]
  }
 ],
 "metadata": {
  "kernelspec": {
   "display_name": "calc",
   "language": "python",
   "name": "python3"
  },
  "language_info": {
   "codemirror_mode": {
    "name": "ipython",
    "version": 3
   },
   "file_extension": ".py",
   "mimetype": "text/x-python",
   "name": "python",
   "nbconvert_exporter": "python",
   "pygments_lexer": "ipython3",
   "version": "3.11.9"
  }
 },
 "nbformat": 4,
 "nbformat_minor": 2
}
