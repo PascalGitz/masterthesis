{
 "cells": [
  {
   "cell_type": "markdown",
   "metadata": {},
   "source": [
    "# Zweifeldträger{#sec-zweifeldtraeger_anhang}\n",
    "\n",
    "In diesem Kapitel werden die detaillierten Berechnungen zum Vorlesungsbeispiel des Zweifeldträgers aus @jager_stahlbeton_2009 aufgezeigt. Das Beispiel verfolgt das Ziel, das Last-Verformungs-Verhalten für zwei Betonstähle mit unterschiedlichen Duktilitätsklassen aufzuzeigen. Die Aufgabenstellung ist in @sec-zweifeldtraeger aufgezeigt. \n",
    "\n",
    "Die Berechnung startet mit einem allgemeinen Teil, welcher Betonstahl unabhängig ist. Danach folgt die analytische und numerische Lösung für das System mit dem Betonstahl B500A. Abschliessend folgt die Berechnung für den Betonstahl B500C.\n",
    "\n",
    "Um einen Überblick über die analytische Lösung zu gewähren, wird das Vorgehen zuerst beschrieben. \n",
    "\n",
    "Betrachtet man das System unter steigender Belastung, so ist naheliegend, dass sich über dem Mittelauflager zuerst ein plastisches Gelenk bildet. Falls genügend Rotationsvermögen vorhanden ist, bildet sich in Feldmitte ebenfalls ein plastisches Gelenk.\n",
    "\n",
    "Eine zentrale Grösse ist folglich das Rotationsvermögen der plastischen Gelenke. Um das Rotationsvermögen abzuschätzen wird das Zugglied analysiert. Für den Zustand des Fliessens der Bewehrung und den Zustand beim Erreichen der Zugfestigkeit wird eine mittlere Dehnung über das Zugglied ermittelt. Mit dieser Dehnungsdifferenz lässt sich das Rotationsvermögen bestimmen.\n",
    "\n",
    "Gefolgt wird die Grenzzustandbetrachtung von der eigentlichen Systemanalyse. Dabei wird für jeden Zustand die erforderliche Belastung $q$ ermittelt. Die zugehörige Verformung wird unter der Berücksichtigung einer konstanten gerissenen Biegesteifigkeit bestimmt.\n"
   ]
  },
  {
   "cell_type": "markdown",
   "metadata": {},
   "source": [
    "## Allgemeines\n",
    "\n",
    "### Annahmen\n",
    "\n",
    "- Zwei unterschiedliche Stähle\n",
    "- konstant gerissene Biegesteifigkeit entlang der Stabachse\n",
    "\n",
    "### Parameter\n",
    "\n"
   ]
  },
  {
   "cell_type": "code",
   "execution_count": 1,
   "metadata": {},
   "outputs": [],
   "source": [
    "from packages import *"
   ]
  },
  {
   "cell_type": "markdown",
   "metadata": {},
   "source": [
    "#### Bewehrung\n",
    "\n",
    "Die folgenden Parameter der Biegebewehrung finden Einzug in die Berechnung."
   ]
  },
  {
   "cell_type": "code",
   "execution_count": 2,
   "metadata": {},
   "outputs": [
    {
     "data": {
      "text/markdown": [
       "$$\n",
       "\\begin{aligned}\n",
       "\\oslash_{x}& = 14 \\ \\mathrm{mm} \\quad & s_{x}& = 200 \\ \\mathrm{mm} \\quad & \\oslash_{y}& = 12 \\ \\mathrm{mm} \\\\ \n",
       "s_{y}& = 200 \\ \\mathrm{mm} \\quad &  \\quad &  \n",
       " \\end{aligned}\n",
       "$$"
      ],
      "text/plain": [
       "<IPython.core.display.Markdown object>"
      ]
     },
     "metadata": {},
     "output_type": "display_data"
    }
   ],
   "source": [
    "# Längsbewehrung in X-Richtung gerichtet\n",
    "diam_x = 14 * un.mm\n",
    "\n",
    "# Teilung der Längsbewehrung\n",
    "s_x = 200 * un.mm\n",
    "\n",
    "# Längsbewehrung in Y-Richtung gerichtet\n",
    "diam_y = 12 * un.mm\n",
    "\n",
    "# Teilung der Längsbewehrung\n",
    "s_y = 200 * un.mm\n",
    "\n",
    "put_out(symbolic=False)"
   ]
  },
  {
   "cell_type": "markdown",
   "metadata": {},
   "source": [
    "Der Querschnitt der Längsbewehrung für den Meterstreifen beträgt dabei:"
   ]
  },
  {
   "cell_type": "code",
   "execution_count": 3,
   "metadata": {},
   "outputs": [
    {
     "data": {
      "text/markdown": [
       "$$\n",
       "\\begin{aligned}\n",
       "a_{s}& = \\frac{\\pi \\cdot \\oslash_{x}^{2}}{4 \\cdot s_{x}} = 769.69 \\ \\frac{\\mathrm{mm}^{2}}{\\mathrm{m}} \\quad &  \\quad &  \n",
       " \\end{aligned}\n",
       "$$"
      ],
      "text/plain": [
       "<IPython.core.display.Markdown object>"
      ]
     },
     "metadata": {},
     "output_type": "display_data"
    }
   ],
   "source": [
    "# Querschnittsfläche der Längsbewehrung, pro Längeneinheit\n",
    "a_s = (diam_x**2 / 4 * np.pi / s_x).to(un.mm**2 / un.m)\n",
    "\n",
    "put_out(symbolic=True)"
   ]
  },
  {
   "cell_type": "markdown",
   "metadata": {},
   "source": [
    "#### Geometrie\n",
    "\n",
    "Die verwendeten Parameter der Geoemtrie sind hier gezeigt. Dabei ist die Überdeckung, Plattenstärke, Streifenbreite und Balkenlänge beschrieben."
   ]
  },
  {
   "cell_type": "code",
   "execution_count": 4,
   "metadata": {},
   "outputs": [
    {
     "data": {
      "text/markdown": [
       "$$\n",
       "\\begin{aligned}\n",
       "c& = 20 \\ \\mathrm{mm} \\quad & h& = 300 \\ \\mathrm{mm} \\quad & b_{w}& = 1 \\ \\mathrm{m} \\\\ \n",
       "l& = 8 \\ \\mathrm{m} \\quad &  \\quad &  \n",
       " \\end{aligned}\n",
       "$$"
      ],
      "text/plain": [
       "<IPython.core.display.Markdown object>"
      ]
     },
     "metadata": {},
     "output_type": "display_data"
    }
   ],
   "source": [
    "# Betonüberdeckung\n",
    "c = 20 * un.mm\n",
    "\n",
    "# Plattenstärke\n",
    "h = 300 * un.mm\n",
    "\n",
    "# Streifenbreite\n",
    "b_w = 1 * un.m\n",
    "\n",
    "# Balkenlänge\n",
    "l = 8 * un.m\n",
    "\n",
    "\n",
    "put_out()"
   ]
  },
  {
   "cell_type": "markdown",
   "metadata": {},
   "source": [
    "Daraus lässt sich die statische Höhe der Längsbeweherung in $X$-Richtung bestimmen:"
   ]
  },
  {
   "cell_type": "code",
   "execution_count": 5,
   "metadata": {},
   "outputs": [
    {
     "data": {
      "text/markdown": [
       "$$\n",
       "\\begin{aligned}\n",
       "d_{x}& = - \\frac{\\oslash_{x}}{2} - \\oslash_{y} - c + h = 261.0 \\ \\mathrm{mm} \\quad &  \\quad &  \n",
       " \\end{aligned}\n",
       "$$"
      ],
      "text/plain": [
       "<IPython.core.display.Markdown object>"
      ]
     },
     "metadata": {},
     "output_type": "display_data"
    }
   ],
   "source": [
    "# Statische Höhe in der Bewehrung in X-Richtung\n",
    "d_x = h - c - diam_y - 1 / 2 * diam_x\n",
    "\n",
    "put_out(symbolic=True, evaluate=True)"
   ]
  },
  {
   "cell_type": "markdown",
   "metadata": {},
   "source": [
    "#### Beton"
   ]
  },
  {
   "cell_type": "markdown",
   "metadata": {},
   "source": [
    "Der Beton wird beschrieben mit der Zylinderdruckfestigkeit, Elastizitätsmodul und die Bruchstauchung:"
   ]
  },
  {
   "cell_type": "code",
   "execution_count": 6,
   "metadata": {},
   "outputs": [
    {
     "data": {
      "text/markdown": [
       "$$\n",
       "\\begin{aligned}\n",
       "f_{cc}& = 30.0 \\ \\frac{\\mathrm{N}}{\\mathrm{mm}^{2}} \\quad & E_{c}& = 29.3 \\ \\frac{\\mathrm{kN}}{\\mathrm{mm}^{2}} \\quad & \\varepsilon_{cu}& = 5 \\ \\mathrm{‰} \\end{aligned}\n",
       "$$"
      ],
      "text/plain": [
       "<IPython.core.display.Markdown object>"
      ]
     },
     "metadata": {},
     "output_type": "display_data"
    }
   ],
   "source": [
    "# Zylinderdruckfestigkeit vorausgesetzt\n",
    "f_cc = 30 * un.N / un.mm**2\n",
    "\n",
    "# Elastizitätsmodul des Betons\n",
    "E_c = 29.3 * un.kN / un.mm**2\n",
    "\n",
    "# Bruchstauchung Erfahrungswert\n",
    "eps_cu = 5 * un.permille\n",
    "\n",
    "put_out()\n"
   ]
  },
  {
   "cell_type": "markdown",
   "metadata": {},
   "source": [
    "Daraus wird mit empirischen Ansätzen eine Bauteilfestigkeit und eine Betonzugfestigkeit bestimmt."
   ]
  },
  {
   "cell_type": "code",
   "execution_count": 7,
   "metadata": {},
   "outputs": [
    {
     "data": {
      "text/markdown": [
       "$$\n",
       "\\begin{aligned}\n",
       "f_{ct}& = 0.3 \\cdot f_{cc}^{\\frac{2}{3}} = 2.9 \\ \\frac{\\mathrm{N}}{\\mathrm{mm}^{2}} \\\\ \n",
       "f_{c}& = 2.5 \\cdot f_{cc}^{\\frac{2}{3}} = 24.14 \\ \\frac{\\mathrm{N}}{\\mathrm{mm}^{2}} \\end{aligned}\n",
       "$$"
      ],
      "text/plain": [
       "<IPython.core.display.Markdown object>"
      ]
     },
     "metadata": {},
     "output_type": "display_data"
    }
   ],
   "source": [
    "# Betonzugfestigkeit, nicht einheitentreu\n",
    "f_ct = (0.3 * f_cc.m ** (2 / 3)) * un.N / un.mm**2\n",
    "\n",
    "# Effektive Betondruckfestigkeit, nicht einheitentreu\n",
    "f_c = (2.5 * f_cc.m ** (2 / 3)) * un.N / un.mm**2\n",
    "\n",
    "\n",
    "put_out(symbolic=True, evaluate=False, rows=1)"
   ]
  },
  {
   "cell_type": "markdown",
   "metadata": {},
   "source": [
    "### Zugversteifung\n",
    "\n",
    "Vor der eigentlichen Analyse des Systems werden die Parameter für das Zuggurtmodell bestimmt. Das Zuggurtmodell liefert einen analytischen Ansatz die Zugversteifung, sprich das Mitwirken des Beton zwischen den Rissen, zu berücksichtigen. Dazu wird eine Schubspannungs-Schlupf-Beziehung zwischen Beton und Betonstahl definiert."
   ]
  },
  {
   "cell_type": "code",
   "execution_count": 8,
   "metadata": {},
   "outputs": [
    {
     "data": {
      "text/markdown": [
       "$$\n",
       "\\begin{aligned}\n",
       "\\tau_{b0}& = 2 \\cdot f_{ct} = 5.79 \\ \\frac{\\mathrm{N}}{\\mathrm{mm}^{2}} \\\\ \n",
       "\\tau_{b1}& = f_{ct} = 2.9 \\ \\frac{\\mathrm{N}}{\\mathrm{mm}^{2}} \\end{aligned}\n",
       "$$"
      ],
      "text/plain": [
       "<IPython.core.display.Markdown object>"
      ]
     },
     "metadata": {},
     "output_type": "display_data"
    }
   ],
   "source": [
    "# Verbundschubspannung vor dem Fliessen\n",
    "tau_b0 = 2 * f_ct\n",
    "\n",
    "# Verbundschubspannung vor dem Fliessen\n",
    "tau_b1 = f_ct\n",
    "\n",
    "put_out(symbolic=True, rows=1)"
   ]
  },
  {
   "cell_type": "code",
   "execution_count": 9,
   "metadata": {},
   "outputs": [],
   "source": [
    "fig_tau_delta, ax_tau_delta = plt.subplots()\n",
    "\n",
    "delta_array = np.array([0,0.0001,5,5.0001,10, 10.0001])\n",
    "tau_array = np.array([0,tau_b0.m, tau_b0.m, tau_b1.m, tau_b1.m, 0])\n",
    "ax_tau_delta.plot(delta_array, tau_array, color='black')\n",
    "\n",
    "# Add labels and show the plot\n",
    "ax_tau_delta.set_ylabel(\"$\\\\tau$ [N/mm$^2$]\")\n",
    "ax_tau_delta.set_xlabel(\"$\\delta$\")\n",
    "ax_tau_delta.set_xticks([])# Save the plot to the specified file\n",
    "plt.savefig(\"imgs/jag_tau_delta.svg\")\n",
    "plt.close()"
   ]
  },
  {
   "cell_type": "markdown",
   "metadata": {},
   "source": [
    "![Schubspannungs-Schlupf-Beziehung als Basis für das Zuggurtmodell](../imgs/jag_tau_delta.svg){#fig-jag_tau_delta}"
   ]
  },
  {
   "cell_type": "markdown",
   "metadata": {},
   "source": [
    "Mit der Schubspannungs-Schlupf-Beziehung lässt sich die Betonstahlspannung innerhalb des Risselements reduzieren. Die Spannungsverläufe sind in der @fig-jag_risselement gezeigt.\n",
    "\n",
    "![Risselement zur Anwendung des Zuggurtmodells](../imgs/jag_risselement.svg){#fig-jag_risselement}"
   ]
  },
  {
   "cell_type": "markdown",
   "metadata": {},
   "source": [
    "Die Länge des Risselements kann anhand des Bewehrungsgehalts abgeschätzt werden."
   ]
  },
  {
   "cell_type": "code",
   "execution_count": 10,
   "metadata": {},
   "outputs": [
    {
     "data": {
      "text/markdown": [
       "$$\n",
       "\\begin{aligned}\n",
       "h_{eff}& = 2 \\cdot \\left(- d_{x} + h\\right) = 78.0 \\ \\mathrm{mm} \\\\ \n",
       "\\rho& = \\frac{a_{s}}{h_{eff}} = 0.99 \\ \\mathrm{\\%} \\\\ \n",
       "s_{r0}& = \\frac{\\oslash_{x} \\cdot \\left(1 - \\rho\\right)}{4 \\cdot \\rho} = 351.19 \\ \\mathrm{mm} \\\\ \n",
       "s_{rl}& = 1 \\cdot \\frac{1}{2} \\cdot s_{r0} = 175.59 \\ \\mathrm{mm} \\end{aligned}\n",
       "$$"
      ],
      "text/plain": [
       "<IPython.core.display.Markdown object>"
      ]
     },
     "metadata": {},
     "output_type": "display_data"
    }
   ],
   "source": [
    "# Abschätzung der mitwirkenden Höhe der Betonzugzone\n",
    "h_eff = 2 * (h - d_x)\n",
    "\n",
    "# Geometrischer Bewehrungsgehalt\n",
    "rho = (a_s / h_eff).to(un.percent)\n",
    "\n",
    "# maximaler Rissabstand\n",
    "s_r0 = (diam_x * (1 - rho) / (4 * rho)).to(un.mm)\n",
    "\n",
    "# minimaler Rissabstand\n",
    "s_rl = 1 / 2 * s_r0\n",
    "\n",
    "\n",
    "\n",
    "put_out(symbolic=True, rows=1)"
   ]
  },
  {
   "cell_type": "markdown",
   "metadata": {},
   "source": [
    "Es ist naheliegend der Rissabstand entsprechend der Stabteilung in $Y$-Richtung zu wählen, da die Bewehrung eine Betonschwächung darstellt."
   ]
  },
  {
   "cell_type": "code",
   "execution_count": 11,
   "metadata": {},
   "outputs": [
    {
     "data": {
      "text/markdown": [
       "$$\n",
       "\\begin{aligned}\n",
       "s_{r}& = 200 \\ \\mathrm{mm} \\quad &  \\quad &  \n",
       " \\end{aligned}\n",
       "$$"
      ],
      "text/plain": [
       "<IPython.core.display.Markdown object>"
      ]
     },
     "metadata": {},
     "output_type": "display_data"
    }
   ],
   "source": [
    "\n",
    "s_r = 200 * un.mm\n",
    "\n",
    "put_out()"
   ]
  },
  {
   "cell_type": "code",
   "execution_count": 12,
   "metadata": {},
   "outputs": [],
   "source": [
    "# Bestimmung der mittleren Stahldehnung\n",
    "\n",
    "def eps_sm_bilinear(\n",
    "    E_s, E_sh, s_r, tau_b0, tau_b1, diam, sigma_sr, f_sy, f_su, epsilon_sy\n",
    "):\n",
    "    # display(Markdown(\"Berechnungen nach @marti_tragverhalten_1999 Seite 156\"))\n",
    "    if sigma_sr <= f_sy:\n",
    "        # display(Markdown(\"Gleichung 1\"))\n",
    "        return sigma_sr / E_s - tau_b0 * s_r / (E_s * diam)\n",
    "\n",
    "    if f_sy <= sigma_sr <= (f_sy + (2 * tau_b1 * s_r) / diam):\n",
    "        # display(Markdown(\"Gleichung 2\"))\n",
    "        return (\n",
    "            (sigma_sr - f_sy) ** 2\n",
    "            * diam\n",
    "            / (4 * E_sh * tau_b1 * s_r)\n",
    "            * (1 - E_sh * tau_b0 / (E_s * tau_b1))\n",
    "            + (sigma_sr - f_sy) / E_s * tau_b0 / tau_b1\n",
    "            + (epsilon_sy - tau_b0 * s_r / (E_s * diam))\n",
    "        )\n",
    "\n",
    "    if (f_sy + 2 * tau_b1 * s_r / diam) <= sigma_sr <= f_su:\n",
    "        # display(Markdown(\"Gleichung 3\"))\n",
    "        return (sigma_sr - f_sy) / E_sh + (epsilon_sy - tau_b1 * s_r / (E_sh * diam))\n",
    "    \n",
    "\n"
   ]
  },
  {
   "cell_type": "markdown",
   "metadata": {},
   "source": [
    "## Kaltverformter Betonstahl - B500A\n",
    "\n",
    "### Eigenschaften des Betonstahls\n",
    "\n",
    "Allgemein werden die Eigenschaften für den Betonstahl B500A mit einem Suffix $A$ gekennzeichnet.\n"
   ]
  },
  {
   "cell_type": "code",
   "execution_count": 13,
   "metadata": {},
   "outputs": [
    {
     "data": {
      "text/markdown": [
       "$$\n",
       "\\begin{aligned}\n",
       "f_{sy , A}& = 570.0 \\ \\frac{\\mathrm{N}}{\\mathrm{mm}^{2}} \\quad & f_{su , A}& = 600.0 \\ \\frac{\\mathrm{N}}{\\mathrm{mm}^{2}} \\quad & \\varepsilon_{sy , A}& = 2.78 \\ \\mathrm{‰} \\\\ \n",
       "\\varepsilon_{su , A}& = 25 \\ \\mathrm{‰} \\quad & E_{s , A}& = 205.0 \\ \\frac{\\mathrm{kN}}{\\mathrm{mm}^{2}} \\quad & E_{sh , A}& = 1350.0 \\ \\frac{\\mathrm{N}}{\\mathrm{mm}^{2}} \\end{aligned}\n",
       "$$"
      ],
      "text/plain": [
       "<IPython.core.display.Markdown object>"
      ]
     },
     "metadata": {},
     "output_type": "display_data"
    }
   ],
   "source": [
    "# Fliessgrenze\n",
    "f_sy_com_A = 570 * un.N / un.mm**2\n",
    "\n",
    "# Zugfestigkeit\n",
    "f_su_com_A = 600 * un.N / un.mm**2\n",
    "\n",
    "# Fliessdehnung\n",
    "eps_sy_com_A = 2.78 * un.permille\n",
    "\n",
    "# Bruchdehnung\n",
    "eps_su_com_A = 25 * un.permille\n",
    "\n",
    "# Elastizitätsmodul\n",
    "E_s_com_A = 205 * un.kN / un.mm**2\n",
    "\n",
    "# Verfestigungsmodul\n",
    "E_sh_com_A = 1350 * un.N / un.mm**2\n",
    "\n",
    "put_out()"
   ]
  },
  {
   "cell_type": "code",
   "execution_count": 14,
   "metadata": {},
   "outputs": [],
   "source": [
    "# | echo: false\n",
    "\n",
    "stress_b500a_array = np.array([0, f_sy_com_A.m, f_su_com_A.m]) * un.MPa\n",
    "strain_b500a_array = np.array([0, eps_sy_com_A, eps_su_com_A])\n",
    "\n",
    "fig_b500a, ax_b500a = plt.subplots()\n",
    "ax_b500a.plot(strain_b500a_array, stress_b500a_array.to(un.MPa).m, color=\"k\")\n",
    "\n",
    "# Scientific Notation if needed\n",
    "apply_scientific_notation(ax_b500a, stress_b500a_array.m)\n",
    "\n",
    "# Set axis labels\n",
    "ax_b500a.set_ylabel(r\"$\\sigma$ [N/mm$^2$]\")\n",
    "ax_b500a.set_xlabel(r\"$\\varepsilon_s$ [-]\")\n",
    "\n",
    "# Set limits\n",
    "ax_b500a.set_xlim(xmax=135 / 1000)\n",
    "ax_b500a.set_ylim(ymax=750)\n",
    "\n",
    "# Show the plot\n",
    "# plt.tight_layout()\n",
    "plt.savefig(\"imgs/jag_stress_strain_b500a.svg\")\n",
    "plt.close()"
   ]
  },
  {
   "cell_type": "markdown",
   "metadata": {},
   "source": [
    "![Spannungs-Dehnungs-Beziehung des Betonstahls B500A](../imgs/jag_stress_strain_b500a_bearb.svg){#stress_strain_b500a}"
   ]
  },
  {
   "cell_type": "markdown",
   "metadata": {},
   "source": [
    "### Linear elastische - gerissene Biegesteifigkeit\n",
    "\n",
    "Wird fortan für sämtliche Verformungsberechnungen verwendet.\n",
    "Querschnittsanalyse:\n",
    "\n",
    "![Querschnittsanalyse Fliessen der Zugbewehrung, Beton völlig elastisch](../imgs/jag_gerissene_steifigkeit_bearb.svg){#fig-jag_gerissene_steifigkeit}\n"
   ]
  },
  {
   "cell_type": "code",
   "execution_count": 15,
   "metadata": {},
   "outputs": [
    {
     "data": {
      "text/markdown": [
       "$$\n",
       "\\begin{aligned}\n",
       "n& = \\frac{E_{s , A}}{E_{c}} = 7.0 \\  \\quad &  \\quad &  \n",
       " \\end{aligned}\n",
       "$$"
      ],
      "text/plain": [
       "<IPython.core.display.Markdown object>"
      ]
     },
     "metadata": {},
     "output_type": "display_data"
    }
   ],
   "source": [
    "# Wertigkeit der Elastizitätsmodule\n",
    "n = E_s_com_A / E_c\n",
    "\n",
    "put_out(symbolic=True)"
   ]
  },
  {
   "cell_type": "markdown",
   "metadata": {},
   "source": [
    "Die Druckzonenhöhe wird mittels dem Gleichgewicht der horizontalen Kräfte ermittelt"
   ]
  },
  {
   "cell_type": "code",
   "execution_count": 16,
   "metadata": {},
   "outputs": [],
   "source": [
    "# Mittels Sympy (CAS für Python) wird eine analytische Lösung der\n",
    "# Druckzonenhöhe für den gerissenen Querschnitt ermittelt.\n",
    "\n",
    "# Summe der horizontalen Kräfte\n",
    "sum_Fx = sp.sympify(\"1/2*x*b_w*sigma_c -sigma_s*a_s*b_w\")\n",
    "\n",
    "# Definition der Spannung in Abhängigkeit der Dehnungen\n",
    "expr_sigma_c = sp.sympify(\"eps_c * E_c\")\n",
    "expr_sigma_s = sp.sympify(\"eps_s * n * E_c\")\n",
    "\n",
    "# Die Beziehung zwischen der Stahl- und Betondehnung nach Hook\n",
    "expr_epsilon_c = sp.sympify(\"eps_s /(d-x)*x\")\n",
    "\n",
    "# Substitution der Gleichungen\n",
    "sum_Fx_subs = sum_Fx.subs(\n",
    "    {\n",
    "        \"sigma_c\": expr_sigma_c.subs(\"eps_c\", expr_epsilon_c),\n",
    "        \"sigma_s\": expr_sigma_s,\n",
    "    }\n",
    ")\n",
    "\n",
    "# Erstellen einer numerischen Funktion\n",
    "x_solve = sp.solve(sum_Fx_subs, \"x\")[1]\n",
    "x_solve_lambd = sp.lambdify((\"a_s\", \"b_w\", \"n\", \"d\"), x_solve)"
   ]
  },
  {
   "cell_type": "code",
   "execution_count": 17,
   "metadata": {},
   "outputs": [
    {
     "data": {
      "text/markdown": [
       "$$\n",
       "\\begin{aligned}\n",
       "x_{II}& = 47.91 \\ \\mathrm{mm} \\quad &  \\quad &  \n",
       " \\end{aligned}\n",
       "$$"
      ],
      "text/plain": [
       "<IPython.core.display.Markdown object>"
      ]
     },
     "metadata": {},
     "output_type": "display_data"
    }
   ],
   "source": [
    "# Druckzonenhöhe mit Parametern substituiert\n",
    "x_II = x_solve_lambd(a_s, b_w, n, d_x).to(un.mm)\n",
    "\n",
    "put_out(symbolic=False)"
   ]
  },
  {
   "cell_type": "markdown",
   "metadata": {},
   "source": [
    "Damit lässt sich das Flächenträgheitsmoment bestimmen für den gerissenen Querschnitt:"
   ]
  },
  {
   "cell_type": "code",
   "execution_count": 18,
   "metadata": {},
   "outputs": [
    {
     "data": {
      "text/markdown": [
       "$$\n",
       "\\begin{aligned}\n",
       "I_{cII}& = \\frac{b_{w} \\cdot x_{II}^{3}}{12} + b_{w} \\cdot x_{II} \\cdot \\left(\\frac{x_{II}}{2}\\right)^{2} = 36650532.72 \\ \\mathrm{mm}^{4} \\\\ \n",
       "I_{sII}& = a_{s} \\cdot b_{w} \\cdot n \\cdot \\left(d_{x} - x_{II}\\right)^{2} = 244534349.46 \\ \\mathrm{mm}^{4} \\\\ \n",
       "I_{II}& = I_{cII} + I_{sII} = 281184882.18 \\ \\mathrm{mm}^{4} \\end{aligned}\n",
       "$$"
      ],
      "text/plain": [
       "<IPython.core.display.Markdown object>"
      ]
     },
     "metadata": {},
     "output_type": "display_data"
    }
   ],
   "source": [
    "# Flächenmoment 2. Grades für den Beton\n",
    "I_cII = (b_w * x_II**3 / 12 + b_w * x_II * (x_II / 2) ** 2).to(un.mm**4)\n",
    "\n",
    "# Flächenmoment 2. Grades für den Betonstahl\n",
    "I_sII = (a_s * b_w * n * (d_x - x_II) ** 2).to(un.mm**4)\n",
    "\n",
    "# Flächenmoment 2. Grades für den gerissenen Querschnitt\n",
    "I_II = (I_cII + I_sII).to(un.mm**4)\n",
    "\n",
    "put_out(symbolic=True, rows=1, evaluate=False)"
   ]
  },
  {
   "cell_type": "markdown",
   "metadata": {},
   "source": [
    "Abschliessend folgt die gerissene Biegesteifigkeit zu:"
   ]
  },
  {
   "cell_type": "code",
   "execution_count": 19,
   "metadata": {},
   "outputs": [
    {
     "data": {
      "text/markdown": [
       "$$\n",
       "\\begin{aligned}\n",
       "EI_{II , A}& = E_{c} \\cdot I_{II} = 8238.72 \\ \\mathrm{kN} \\cdot \\mathrm{m}^{2} \\quad &  \\quad &  \n",
       " \\end{aligned}\n",
       "$$"
      ],
      "text/plain": [
       "<IPython.core.display.Markdown object>"
      ]
     },
     "metadata": {},
     "output_type": "display_data"
    }
   ],
   "source": [
    "# Gerissene Biegesteifigkeit\n",
    "EI_II_com_A = (E_c * I_II).to(un.kN * un.m**2)\n",
    "\n",
    "put_out(symbolic=True)"
   ]
  },
  {
   "cell_type": "markdown",
   "metadata": {},
   "source": [
    "### Hebelarm der inneren Kräfte"
   ]
  },
  {
   "cell_type": "markdown",
   "metadata": {},
   "source": [
    "Der Hebelarm der inneren Kräfte wird für den gesamten Träger als konstant angenommen.\n",
    "Dabei wird dem Beton die Zylinderdruckfestigkeit hinterlegt, sowie erreicht der Stahl die Zugfestigkeit. \n",
    "\n",
    "![Querschnittsanalyse zur Bestimmung des Hebelarms der inneren Kräfte](../imgs/jag_hebelarm_A.png){#fig-jag_hebelarm_A}"
   ]
  },
  {
   "cell_type": "code",
   "execution_count": 20,
   "metadata": {},
   "outputs": [
    {
     "data": {
      "text/markdown": [
       "$$\n",
       "\\begin{aligned}\n",
       "x_{u , A}& = \\frac{a_{s} \\cdot b_{w} \\cdot f_{su , A}}{0.85 \\cdot b_{w} \\cdot f_{cc}} = 18.11 \\ \\mathrm{mm} \\\\ \n",
       "z_{, A}& = d_{x} - 1 \\cdot \\frac{1}{2} \\cdot 0.85 \\cdot x_{u , A} = 253.3 \\ \\mathrm{mm} \\\\ \n",
       "m_{u , A}& = a_{s} \\cdot f_{su , A} \\cdot z_{, A} = 116.98 \\ \\frac{\\mathrm{kNm}}{\\mathrm{m}} \\end{aligned}\n",
       "$$"
      ],
      "text/plain": [
       "<IPython.core.display.Markdown object>"
      ]
     },
     "metadata": {},
     "output_type": "display_data"
    }
   ],
   "source": [
    "# Druckzonenhöhe für den Biegewiderstand\n",
    "x_u_com_A = (a_s * b_w * f_su_com_A / (0.85 * f_cc * b_w)).to(un.mm)\n",
    "\n",
    "# Hebelarm der inneren Kräfte für den Biegewiderstand\n",
    "z_com_A = d_x - 1 / 2 * 0.85 * x_u_com_A \n",
    "\n",
    "# Biegewiderstand\n",
    "m_u_com_A = (a_s * f_su_com_A * z_com_A).to(un.kNm / un.m)\n",
    "\n",
    "put_out(symbolic=True, evaluate=False, rows=1)"
   ]
  },
  {
   "cell_type": "markdown",
   "metadata": {},
   "source": [
    "### Grenzzustände des Zugglieds\n",
    "\n",
    "Nun werden zwei Grenzzustände des Zugglieds betrachtet. Zum Einen bei Fliessbeginn, zum anderen beim Erreichen der Zugfestigkeit. Dies dient zur Ermittlung der mittleren Stahldehnung beim Erreichen eines Fliessgelenks und einem plastischen Gelenk."
   ]
  },
  {
   "cell_type": "markdown",
   "metadata": {},
   "source": [
    "#### Risselement bei Fliessbeginn - Zustand $A1$\n",
    "\n",
    "Zunächst wird ein Grenzzustand betrachtet, bei dem das Risselement gerade beim Fliessbeginn steht."
   ]
  },
  {
   "cell_type": "code",
   "execution_count": 21,
   "metadata": {},
   "outputs": [
    {
     "data": {
      "text/markdown": [
       "$$\n",
       "\\begin{aligned}\n",
       "\\sigma_{1 s , A1}& = f_{sy , A} = 570.0 \\ \\frac{\\mathrm{N}}{\\mathrm{mm}^{2}} \\\\ \n",
       "\\sigma_{2 s , A1}& = f_{sy , A} - \\frac{4 \\cdot s_{r} \\cdot \\tau_{b0}}{2 \\cdot \\oslash_{x}} = 404.49 \\ \\frac{\\mathrm{N}}{\\mathrm{mm}^{2}} \\end{aligned}\n",
       "$$"
      ],
      "text/plain": [
       "<IPython.core.display.Markdown object>"
      ]
     },
     "metadata": {},
     "output_type": "display_data"
    }
   ],
   "source": [
    "# Stahlspannungen\n",
    "sigma_1_s_com_A1 = f_sy_com_A\n",
    "sigma_2_s_com_A1 = f_sy_com_A - 4 * tau_b0 * s_r / 2 / diam_x\n",
    "\n",
    "put_out(symbolic=True, rows=1)"
   ]
  },
  {
   "cell_type": "markdown",
   "metadata": {},
   "source": [
    "Die folgenden Dehnungen stellen sich dabei ein:"
   ]
  },
  {
   "cell_type": "code",
   "execution_count": 22,
   "metadata": {},
   "outputs": [
    {
     "data": {
      "text/markdown": [
       "$$\n",
       "\\begin{aligned}\n",
       "\\varepsilon_{1 s , A1}& = \\frac{\\sigma_{1 s , A1}}{E_{s , A}} = 2.78 \\ \\mathrm{‰} \\\\ \n",
       "\\varepsilon_{2 s , A1}& = \\frac{\\sigma_{2 s , A1}}{E_{s , A}} = 1.97 \\ \\mathrm{‰} \\end{aligned}\n",
       "$$"
      ],
      "text/plain": [
       "<IPython.core.display.Markdown object>"
      ]
     },
     "metadata": {},
     "output_type": "display_data"
    }
   ],
   "source": [
    "\n",
    "# Stahldehnungen\n",
    "eps_1_s_com_A1 = (sigma_1_s_com_A1 / E_s_com_A).to(un.permille)\n",
    "eps_2_s_com_A1 = (sigma_2_s_com_A1 / E_s_com_A).to(un.permille)\n",
    "\n",
    "put_out(symbolic=True, rows=1)"
   ]
  },
  {
   "cell_type": "markdown",
   "metadata": {},
   "source": [
    "Dabei stellt sich die folgende mittlere Stahldehnung ein. Berechnungen nach @marti_tragverhalten_1999 Seite 156."
   ]
  },
  {
   "cell_type": "code",
   "execution_count": 23,
   "metadata": {},
   "outputs": [
    {
     "data": {
      "text/markdown": [
       "$$\n",
       "\\begin{aligned}\n",
       "\\varepsilon_{m s , A1}& = 2.38 \\ \\mathrm{‰} \\quad &  \\quad &  \n",
       " \\end{aligned}\n",
       "$$"
      ],
      "text/plain": [
       "<IPython.core.display.Markdown object>"
      ]
     },
     "metadata": {},
     "output_type": "display_data"
    }
   ],
   "source": [
    "# Mittlere Stahldehnung nach \n",
    "eps_m_s_com_A1 = eps_sm_bilinear(E_s_com_A, E_sh_com_A, s_r, tau_b0, tau_b1, diam_x, f_sy_com_A, f_sy_com_A, f_su_com_A, eps_sy_com_A).to(un.permille)\n",
    "\n",
    "put_out()\n"
   ]
  },
  {
   "cell_type": "markdown",
   "metadata": {},
   "source": [
    "Das Fliessmoment beträgt dabei:"
   ]
  },
  {
   "cell_type": "code",
   "execution_count": 24,
   "metadata": {},
   "outputs": [
    {
     "data": {
      "text/markdown": [
       "$$\n",
       "\\begin{aligned}\n",
       "m_{y , A}& = a_{s} \\cdot f_{sy , A} \\cdot z_{, A} = 111.13 \\ \\frac{\\mathrm{kNm}}{\\mathrm{m}} \\quad &  \\quad &  \n",
       " \\end{aligned}\n",
       "$$"
      ],
      "text/plain": [
       "<IPython.core.display.Markdown object>"
      ]
     },
     "metadata": {},
     "output_type": "display_data"
    }
   ],
   "source": [
    "# Fliessmoment\n",
    "m_y_com_A = (a_s * f_sy_com_A * z_com_A).to(un.kNm / un.m)\n",
    "\n",
    "put_out(symbolic=True)"
   ]
  },
  {
   "cell_type": "code",
   "execution_count": 25,
   "metadata": {},
   "outputs": [],
   "source": [
    "# | echo: false\n",
    "\n",
    "\n",
    "def plot_stress_strain(\n",
    "    coordinates,\n",
    "    filename,\n",
    "    strain_mean=0,\n",
    "    strain=False,\n",
    "    stress=True,\n",
    "):\n",
    "\n",
    "    # Plot the polygon\n",
    "    x, y = zip(*coordinates)  # Unzip the coordinates into x and y\n",
    "\n",
    "    fig, ax = plt.subplots()\n",
    "\n",
    "    if strain == True:\n",
    "        stress = False\n",
    "        y = np.array(y)*1000  # Convert to permille\n",
    "        xlabel = r\"$x$ [mm]\"\n",
    "        permille = '$10^{-3}$'\n",
    "        ylabel = rf\"$\\varepsilon$ [{permille}]\"\n",
    "        \n",
    "        # Append the first point to close the polygon\n",
    "        x = np.append(x, x[0])\n",
    "        y = np.append(y, y[0])\n",
    "\n",
    "        # Plot the coordinates\n",
    "        ax.plot(x, y, \"black\")\n",
    "        ax.fill(x, y, color=\"darkgray\", alpha=0.2)\n",
    "        ax.axhline(strain_mean, linestyle='--', color = 'black')\n",
    "\n",
    "    if stress == True:\n",
    "        xlabel = r\"$x$ [mm]\"\n",
    "        ylabel = r\"$\\sigma$ [N/mm$^2$]\"\n",
    "        \n",
    "        # Append the first point to close the polygon\n",
    "        x = np.append(x, x[0])\n",
    "        y = np.append(y, y[0])\n",
    "\n",
    "        # Plot the coordinates\n",
    "        ax.plot(x, y, \"black\")\n",
    "\n",
    "\n",
    "    # Add labels and show the plot\n",
    "    ax.set_ylabel(ylabel)\n",
    "    ax.set_xlabel(xlabel)\n",
    "\n",
    "    # Save the plot to the specified file\n",
    "    plt.savefig(filename)\n",
    "    plt.close()\n"
   ]
  },
  {
   "cell_type": "code",
   "execution_count": 26,
   "metadata": {},
   "outputs": [],
   "source": [
    "# | echo: false\n",
    "\n",
    "coords_a1_stress = [\n",
    "    (0, 0),\n",
    "    (s_r.m / 2, 0),\n",
    "    (s_r.m / 2, sigma_2_s_com_A1.m),\n",
    "    (0, sigma_1_s_com_A1.m),\n",
    "]\n",
    "\n",
    "plot_stress_strain(coords_a1_stress, \"imgs/jag_stress_a1.svg\", stress=True)\n",
    "\n",
    "\n",
    "coords_a1_strain = [\n",
    "    (0, 0),\n",
    "    (s_r.m / 2, 0),\n",
    "    (s_r.m / 2, eps_2_s_com_A1),\n",
    "    (0, eps_1_s_com_A1),\n",
    "]\n",
    "\n",
    "plot_stress_strain(coords_a1_strain, \"imgs/jag_strain_a1.svg\", strain=True,strain_mean=eps_m_s_com_A1.m)"
   ]
  },
  {
   "cell_type": "markdown",
   "metadata": {},
   "source": [
    "::: {#fig-jag_zustand_a1 layout-ncol=2}\n",
    "![Spannungsverlauf entlang des Zugglieds auf halbem Rissabstand](../imgs/jag_stress_a1.svg){#fig-jag_stress_a1}\n",
    "\n",
    "![Dehnungsverlauf entlang des Zugglieds auf halbem Rissabstand](../imgs/jag_strain_a1.svg){#fig-jag_strain_a1}\n",
    "\n",
    "Spannungs- und Dehnungsverlauf entlang der Hälfte des Rissabstands für den Zustand $A1$\n",
    ":::"
   ]
  },
  {
   "cell_type": "markdown",
   "metadata": {},
   "source": [
    "#### Risselement beim Erreichen der Zugfestigkeit - Zustand $A2$\n",
    "\n",
    "Innerhalb des Risselements befindet sich der Betonstahl über der Fliessgrenze, sowohl bereichsweise unterhalb der Fliessgrenze. Dies führt zu den folgenden Spannungs- und Dehnungsverteilungen.\n",
    "\n",
    "Dazu wird zunächst der Bereich bestimmt, in dem die Bewehrung sich im plastischen Bereich befindet innerhalb des Zugglieds:"
   ]
  },
  {
   "cell_type": "code",
   "execution_count": 27,
   "metadata": {},
   "outputs": [
    {
     "data": {
      "text/markdown": [
       "$$\n",
       "\\begin{aligned}\n",
       "\\Delta_{x pl , A2}& = \\frac{f_{su , A} - f_{sy , A}}{4 \\cdot \\frac{1}{\\oslash_{x}} \\cdot \\tau_{b1}} = 36.25 \\ \\mathrm{mm} \\\\ \n",
       "\\Delta_{x el , A2}& = - \\Delta_{x pl , A2} + \\frac{s_{r}}{2} = 63.75 \\ \\mathrm{mm} \\end{aligned}\n",
       "$$"
      ],
      "text/plain": [
       "<IPython.core.display.Markdown object>"
      ]
     },
     "metadata": {},
     "output_type": "display_data"
    }
   ],
   "source": [
    "# Plastischer Bereich\n",
    "Delta_x_pl_com_A2 = (f_su_com_A - f_sy_com_A) / (4 * tau_b1 / diam_x)\n",
    "\n",
    "# Elastischer Bereich\n",
    "Delta_x_el_com_A2 = s_r / 2 - Delta_x_pl_com_A2\n",
    "\n",
    "put_out(symbolic=True, evaluate=False, rows=1)"
   ]
  },
  {
   "cell_type": "markdown",
   "metadata": {},
   "source": [
    "Die entsprechenden Spannungen und Dehnungen sin die folgenden. Dargestellt sind diese in der @fig-jag_zustand_a2."
   ]
  },
  {
   "cell_type": "code",
   "execution_count": 28,
   "metadata": {},
   "outputs": [
    {
     "data": {
      "text/markdown": [
       "$$\n",
       "\\begin{aligned}\n",
       "\\sigma_{3 s , A2}& = - \\frac{4 \\cdot \\Delta_{x el , A2} \\cdot \\tau_{b0}}{\\oslash_{x}} + f_{sy , A} = 464.49 \\ \\frac{\\mathrm{N}}{\\mathrm{mm}^{2}} \\\\ \n",
       "\\sigma_{2 s , A2}& = f_{sy , A} = 570.0 \\ \\frac{\\mathrm{N}}{\\mathrm{mm}^{2}} \\\\ \n",
       "\\sigma_{1 s , A2}& = \\frac{4 \\cdot \\Delta_{x pl , A2} \\cdot \\tau_{b1}}{\\oslash_{x}} + f_{sy , A} = 600.0 \\ \\frac{\\mathrm{N}}{\\mathrm{mm}^{2}} \\end{aligned}\n",
       "$$"
      ],
      "text/plain": [
       "<IPython.core.display.Markdown object>"
      ]
     },
     "metadata": {},
     "output_type": "display_data"
    }
   ],
   "source": [
    "# Stahlspannungen\n",
    "sigma_3_s_com_A2 = f_sy_com_A - 4 * tau_b0 * Delta_x_el_com_A2 / diam_x\n",
    "sigma_2_s_com_A2 = f_sy_com_A\n",
    "sigma_1_s_com_A2 = f_sy_com_A + 4 * tau_b1 * Delta_x_pl_com_A2 / diam_x\n",
    "\n",
    "put_out(symbolic=True, rows=1)"
   ]
  },
  {
   "cell_type": "markdown",
   "metadata": {},
   "source": [
    "Die folgenden Dehnungen resultieren daraus:"
   ]
  },
  {
   "cell_type": "code",
   "execution_count": 29,
   "metadata": {},
   "outputs": [
    {
     "data": {
      "text/markdown": [
       "$$\n",
       "\\begin{aligned}\n",
       "\\varepsilon_{1 s , A2}& = \\varepsilon_{su , A} = 25 \\ \\mathrm{‰} \\\\ \n",
       "\\varepsilon_{2 s , A2}& = \\varepsilon_{sy , A} = 2.78 \\ \\mathrm{‰} \\\\ \n",
       "\\varepsilon_{3 s , A2}& = \\frac{\\sigma_{3 s , A2}}{E_{s , A}} = 2.27 \\ \\mathrm{‰} \\end{aligned}\n",
       "$$"
      ],
      "text/plain": [
       "<IPython.core.display.Markdown object>"
      ]
     },
     "metadata": {},
     "output_type": "display_data"
    }
   ],
   "source": [
    "\n",
    "# Stahldehnung\n",
    "eps_1_s_com_A2 = eps_su_com_A\n",
    "eps_2_s_com_A2 = eps_sy_com_A\n",
    "eps_3_s_com_A2 = (sigma_3_s_com_A2 / E_s_com_A).to(un.permille)\n",
    "\n",
    "put_out(symbolic=True, rows=1, evaluate=False)"
   ]
  },
  {
   "cell_type": "markdown",
   "metadata": {},
   "source": [
    "Und die mittlere Stahldehnung beträgt dabei:"
   ]
  },
  {
   "cell_type": "code",
   "execution_count": 30,
   "metadata": {},
   "outputs": [
    {
     "data": {
      "text/markdown": [
       "$$\n",
       "\\begin{aligned}\n",
       "\\varepsilon_{m s , A2}& = 6.64 \\ \\mathrm{‰} \\quad &  \\quad &  \n",
       " \\end{aligned}\n",
       "$$"
      ],
      "text/plain": [
       "<IPython.core.display.Markdown object>"
      ]
     },
     "metadata": {},
     "output_type": "display_data"
    }
   ],
   "source": [
    "# Mittlere Stahldehnung\n",
    "eps_m_s_com_A2 = eps_sm_bilinear(\n",
    "    E_s_com_A, E_sh_com_A, s_r, tau_b0, tau_b1, diam_x, f_su_com_A, f_sy_com_A, f_su_com_A, eps_sy_com_A\n",
    ").to(un.permille)\n",
    "\n",
    "put_out()"
   ]
  },
  {
   "cell_type": "code",
   "execution_count": 31,
   "metadata": {},
   "outputs": [],
   "source": [
    "# | echo: false\n",
    "\n",
    "coords_A2_stress = [\n",
    "    (0, 0), \n",
    "    (Delta_x_pl_com_A2.m, 0), \n",
    "    (s_r.m / 2, 0), \n",
    "    (s_r.m / 2, sigma_3_s_com_A2.m), \n",
    "    (Delta_x_pl_com_A2.m, sigma_2_s_com_A2.m),\n",
    "    (0, sigma_1_s_com_A2.m)\n",
    "    ]\n",
    "\n",
    "plot_stress_strain(coords_A2_stress, \"imgs/jag_stress_a2.svg\", stress=True)\n",
    "\n",
    "\n",
    "coords_Z2_strain = [\n",
    "    (0, 0),\n",
    "    (Delta_x_pl_com_A2.m, 0),\n",
    "    (s_r.m / 2, 0),\n",
    "    (s_r.m / 2, eps_3_s_com_A2),\n",
    "    (Delta_x_pl_com_A2.m, eps_2_s_com_A2),\n",
    "    (0, eps_1_s_com_A2),\n",
    "]\n",
    "\n",
    "plot_stress_strain(coords_Z2_strain, \"imgs/jag_strain_a2.svg\", strain=True, strain_mean=eps_m_s_com_A2.m)"
   ]
  },
  {
   "cell_type": "markdown",
   "metadata": {},
   "source": [
    "::: {#fig-jag_zustand_a2 layout-ncol=2}\n",
    "![Spannungsverlauf entlang des Zugglieds auf halbem Rissabstand](../imgs/jag_stress_a2.svg){#fig-jag_stress_a2}\n",
    "\n",
    "![Dehnungsverlauf entlang des Zugglieds auf halbem Rissabstand](../imgs/jag_strain_a2.svg){#fig-jag_strain_a2}\n",
    "\n",
    "Spannungs- und Dehnungsverlauf entlang der Hälfte des Rissabstands für den Zustand $A2$\n",
    ":::"
   ]
  },
  {
   "cell_type": "markdown",
   "metadata": {},
   "source": [
    "#### Zusammenfassung\n",
    "\n",
    "Zusammenfassend sind die Werte erneut aufgezeigt. Fliessen und Erreichen der Zugfestigkeit:"
   ]
  },
  {
   "cell_type": "code",
   "execution_count": 32,
   "metadata": {},
   "outputs": [
    {
     "data": {
      "text/markdown": [
       "$$\n",
       "\\begin{aligned}\n",
       "\\varepsilon_{m s , A1}& = 2.38 \\ \\mathrm{‰} \\quad & m_{y , A}& = 111.13 \\ \\frac{\\mathrm{kNm}}{\\mathrm{m}} \\\\ \n",
       "\\varepsilon_{m s , A2}& = 6.64 \\ \\mathrm{‰} \\quad & m_{u , A}& = 116.98 \\ \\frac{\\mathrm{kNm}}{\\mathrm{m}} \\end{aligned}\n",
       "$$"
      ],
      "text/plain": [
       "<IPython.core.display.Markdown object>"
      ]
     },
     "metadata": {},
     "output_type": "display_data"
    }
   ],
   "source": [
    "eps_m_s_com_A1\n",
    "m_y_com_A\n",
    "eps_m_s_com_A2\n",
    "m_u_com_A\n",
    "\n",
    "\n",
    "put_out(symbolic=False, rows=2)"
   ]
  },
  {
   "cell_type": "markdown",
   "metadata": {},
   "source": [
    "### Systemanalyse \n",
    "\n",
    "Nun wird das System analysiert, sprich der Zweifeldträger.\n",
    "\n",
    "![Definition der plastischen Rotation](../imgs/jag_mechanismus.svg){#fig-jag_mechanismus}\n",
    "\n",
    "\n",
    "![Definition der plastischen Rotation beim Mittelauflager.Links ein Fliessen beim Mittelauflager führt zu keiner plastischen Rotation, in der Mitte die maximale Rotation zum Erreichen der Traglast, und rechts die effektive Traglast mit begrenzter Plastischer Rotation](../imgs/jag_plast_rot_A.svg){#fig-jag_plast_rot_A}"
   ]
  },
  {
   "cell_type": "markdown",
   "metadata": {},
   "source": [
    "#### Fliessen des Mittelauflagers - Zustand $SA1$\n",
    "\n",
    "Zunächst wird sich ein Fliessgelenk beim Mittelauflager ausbilden. Dazu wird nun die zugehörige Streckenlast berechnet und die entsprechende Felddeformation ermittelt."
   ]
  },
  {
   "cell_type": "code",
   "execution_count": 33,
   "metadata": {},
   "outputs": [
    {
     "data": {
      "text/markdown": [
       "$$\n",
       "\\begin{aligned}\n",
       "m_{SA1 , B}& = m_{y , A} = 111.13 \\ \\frac{\\mathrm{kNm}}{\\mathrm{m}} \\\\ \n",
       "q_{SA1}& = \\frac{8 \\cdot b_{w} \\cdot m_{SA1 , B}}{l^{2}} = 13.89 \\ \\frac{\\mathrm{kN}}{\\mathrm{m}} \\\\ \n",
       "w_{SA1}& = \\frac{5 \\cdot l^{4} \\cdot q_{SA1}}{384 \\cdot EI_{II , A}} - \\frac{b_{w} \\cdot l^{2} \\cdot m_{y , A}}{16 \\cdot EI_{II , A}} = 35.97 \\ \\mathrm{mm} \\end{aligned}\n",
       "$$"
      ],
      "text/plain": [
       "<IPython.core.display.Markdown object>"
      ]
     },
     "metadata": {},
     "output_type": "display_data"
    }
   ],
   "source": [
    "m_SA1_com_B = m_y_com_A\n",
    "# Die Streckenlast zum Erreichen des Fliessens bei B\n",
    "q_SA1 = (8 * m_SA1_com_B*b_w / l**2).to(un.kN/un.m)\n",
    "\n",
    "\n",
    "# maximale Verformung im Feld \n",
    "w_SA1 = (5 * q_SA1 * l**4 / (384 * EI_II_com_A) - m_y_com_A*b_w * l**2 / (16 * EI_II_com_A)).to(un.mm)\n",
    "\n",
    "put_out(symbolic=True, evaluate=False, rows=1)"
   ]
  },
  {
   "cell_type": "markdown",
   "metadata": {},
   "source": [
    "#### Fliessbeginn im Feld - Zustand $SA2$\n",
    "\n",
    "Beim Zustand zwei wird das Feldmoment ermittelt. Dabei wird beim Mittelauflager der Biegewiderstand hinterlegt. Im Feld wird das Fliessmoment angenommen.\n",
    "\n",
    "![Fliessen im Feld](../imgs/jag_my_feld_A.svg){#fig-jag_my_feld_A}"
   ]
  },
  {
   "cell_type": "markdown",
   "metadata": {},
   "source": [
    "Daraus lässt sich die entsprechende Streckenlast ermitteln. Dies bedingt eine ausreichende Umlagerung, sprich Rotationsvermögen des Mittelauflagers."
   ]
  },
  {
   "cell_type": "code",
   "execution_count": 34,
   "metadata": {},
   "outputs": [
    {
     "data": {
      "text/markdown": [
       "$$\n",
       "\\begin{aligned}\n",
       "q_{SA2}& = b_{w} \\cdot \\left(\\frac{2 \\cdot m_{u , A} + 4 \\cdot m_{y , A}}{l^{2}} + \\frac{4 \\cdot \\sqrt{m_{u , A} \\cdot m_{y , A} + m_{y , A}^{2}}}{l^{2}}\\right) = 20.55 \\ \\frac{\\mathrm{kN}}{\\mathrm{m}} \\end{aligned}\n",
       "$$"
      ],
      "text/plain": [
       "<IPython.core.display.Markdown object>"
      ]
     },
     "metadata": {},
     "output_type": "display_data"
    }
   ],
   "source": [
    "# Streckenlast beim Fliessbeginn im Feld\n",
    "q_SA2 = (((4 * m_y_com_A + 2 * m_u_com_A) / l**2 + 4 / l**2 * np.sqrt(m_y_com_A**2 + m_y_com_A * m_u_com_A))*b_w).to(un.kN/un.m)\n",
    "\n",
    "put_out(symbolic=True, evaluate=False, rows=1)\n"
   ]
  },
  {
   "cell_type": "markdown",
   "metadata": {},
   "source": [
    "##### Kontrolle der Duktilität\n",
    "\n",
    "Ob das Rotationsvermögen ausreichend ist, wird folglich bestimmt. Der benötigte Rotationswinkel kann mithilfe der Arbeitsgleichung bestimmt werden."
   ]
  },
  {
   "cell_type": "code",
   "execution_count": 35,
   "metadata": {},
   "outputs": [
    {
     "data": {
      "text/markdown": [
       "$$\n",
       "\\begin{aligned}\n",
       "\\alpha_{SA2}& = \\frac{l^{3} \\cdot \\left(- q_{SA1} + q_{SA2}\\right)}{24 \\cdot EI_{II , A}} - \\frac{b_{w} \\cdot l \\cdot \\left(m_{u , A} - m_{y , A}\\right)}{3 \\cdot EI_{II , A}} = 0.88 \\ \\mathrm{°} \\\\ \n",
       "\\Theta_{SA2 , erf}& = 2 \\cdot \\alpha_{SA2} = 1.76 \\ \\mathrm{°} \\end{aligned}\n",
       "$$"
      ],
      "text/plain": [
       "<IPython.core.display.Markdown object>"
      ]
     },
     "metadata": {},
     "output_type": "display_data"
    }
   ],
   "source": [
    "# Rotationswinkel (Verwendung der Arbeitsgleichung)\n",
    "alpha_SA2 = ((q_SA2 - q_SA1) * l**3 / (24 * EI_II_com_A) - (m_u_com_A - m_y_com_A) * b_w * l / (3 * EI_II_com_A)).to(un.deg)\n",
    "\n",
    "# Verformungsbedarf\n",
    "Theta_SA2_com_erf = 2 * alpha_SA2\n",
    "\n",
    "\n",
    "put_out(symbolic=True, evaluate=False, rows=1)"
   ]
  },
  {
   "cell_type": "markdown",
   "metadata": {},
   "source": [
    "\n",
    "\n",
    "Der Plastische Roatationswinkel gibt die Rotation eines plastischen Gelenks voraus. \n",
    "\n",
    "![Modell zur Abschätzung der plastischen Rotation, nachgezeichnet nach @kaufmann_2_2017](../imgs/jag_plast_gelenk.svg){#fig-plast_rot}"
   ]
  },
  {
   "cell_type": "markdown",
   "metadata": {},
   "source": [
    "Dabei wird eine Länge des Gelenks angenommen, hier entspricht diese der doppelten statischen Höhe. Für den Betonstahl B500A gilt daher die folgende maximale plastische Roatation - sprich das Verformungsvermögen:"
   ]
  },
  {
   "cell_type": "code",
   "execution_count": 36,
   "metadata": {},
   "outputs": [
    {
     "data": {
      "text/markdown": [
       "$$\n",
       "\\begin{aligned}\n",
       "l_{pl}& = 2 \\cdot d_{x} = 522.0 \\ \\mathrm{mm} \\\\ \n",
       "\\Theta_{max , A}& = \\frac{l_{pl} \\cdot \\left(- \\varepsilon_{m s , A1} + \\varepsilon_{m s , A2}\\right)}{d_{x} - x_{u , A}} = 0.53 \\ \\mathrm{°} \\end{aligned}\n",
       "$$"
      ],
      "text/plain": [
       "<IPython.core.display.Markdown object>"
      ]
     },
     "metadata": {},
     "output_type": "display_data"
    }
   ],
   "source": [
    "# Annahme für die Länge des Gelenks\n",
    "l_pl = 2 * d_x\n",
    "\n",
    "# Verformungsvermögen\n",
    "Theta_max_com_A = (l_pl * (eps_m_s_com_A2 - eps_m_s_com_A1) / (d_x - x_u_com_A)).to(un.deg)\n",
    "\n",
    "\n",
    "put_out(symbolic=True, rows=1)"
   ]
  },
  {
   "cell_type": "markdown",
   "metadata": {},
   "source": [
    "Das Verformungsvermögen ist nicht ausreichend."
   ]
  },
  {
   "cell_type": "markdown",
   "metadata": {},
   "source": [
    "#### Ermittlung der Traglast - Zustand $SA3$\n",
    "\n",
    "Da das Verformungsvermögen nicht ausreicht, wird mittels dem Verformungsvermögen die Traglast bestimmt. Dabei wird der Rotationswinkel vorgegeben und die daraus resultierende Differenz der Streckenlast zum Zustand $SA1$ ermittelt. Aus der Addition der beiden Zustände folgt die Traglast, welche das Verformungsvermögen einhält."
   ]
  },
  {
   "cell_type": "code",
   "execution_count": 37,
   "metadata": {},
   "outputs": [
    {
     "data": {
      "text/markdown": [
       "$$\n",
       "\\begin{aligned}\n",
       "\\alpha_{SA3}& = \\frac{\\Theta_{max , A}}{2} = 0.26 \\ \\mathrm{°} \\\\ \n",
       "\\Delta_{q , SA3}& = \\left(\\alpha_{SA3} + \\frac{b_{w} \\cdot l \\cdot \\left(m_{u , A} - m_{y , A}\\right)}{3 \\cdot EI_{II , A}}\\right) \\cdot 24 \\cdot EI_{II , A} \\cdot \\frac{1}{l^{3}} = 2.5 \\ \\frac{\\mathrm{kN}}{\\mathrm{m}} \\\\ \n",
       "q_{SA3}& = \\Delta_{q , SA3} + q_{SA1} = 16.39 \\ \\frac{\\mathrm{kN}}{\\mathrm{m}} \\end{aligned}\n",
       "$$"
      ],
      "text/plain": [
       "<IPython.core.display.Markdown object>"
      ]
     },
     "metadata": {},
     "output_type": "display_data"
    }
   ],
   "source": [
    "# maximaler Rotationswinkel\n",
    "alpha_SA3 = Theta_max_com_A / 2\n",
    "\n",
    "# Streckenlast bis zum maximalen Rotationswinkel\n",
    "Delta_q_com_SA3 = ((alpha_SA3 + (m_u_com_A - m_y_com_A) * l * b_w / (3 * EI_II_com_A)) * 24 * EI_II_com_A / l**3).to(un.kN / un.m)\n",
    "\n",
    "# Traglast für B500A\n",
    "q_SA3 = Delta_q_com_SA3 + q_SA1\n",
    "\n",
    "put_out(symbolic=True, evaluate=False, rows=1)"
   ]
  },
  {
   "cell_type": "code",
   "execution_count": 38,
   "metadata": {},
   "outputs": [
    {
     "data": {
      "text/html": [
       "0.004585198100851188 rad"
      ],
      "text/latex": [
       "$0.004585198100851188\\ \\mathrm{rad}$"
      ],
      "text/plain": [
       "<Quantity(0.0045851981, 'radian')>"
      ]
     },
     "execution_count": 38,
     "metadata": {},
     "output_type": "execute_result"
    }
   ],
   "source": [
    "alpha_SA3.to(un.rad)"
   ]
  },
  {
   "cell_type": "markdown",
   "metadata": {},
   "source": [
    "Das Biegemoment im Feld stellt sich ein:"
   ]
  },
  {
   "cell_type": "code",
   "execution_count": 39,
   "metadata": {},
   "outputs": [],
   "source": [
    "expr = sp.sympify('(4* m_u  + 2 *m_u_apos)/l**2 + 4 / l**2 *sqrt(m_u**2+m_u*m_u_apos)-q')\n",
    "\n",
    "m_SA3_analytical = sp.solve(expr, 'm_u')[0]\n"
   ]
  },
  {
   "cell_type": "code",
   "execution_count": 40,
   "metadata": {},
   "outputs": [
    {
     "data": {
      "text/markdown": [
       "$$\n",
       "\\begin{aligned}\n",
       "m_{SA3 , F}& = \\frac{- \\frac{b_{w} \\cdot m_{u , A}}{2} + \\frac{l^{2} \\cdot q_{SA3}}{8} + \\frac{\\left(b_{w} \\cdot m_{u , A}\\right)^{2}}{2 \\cdot l^{2} \\cdot q_{SA3}}}{b_{w}} = 79.18 \\ \\frac{\\mathrm{kNm}}{\\mathrm{m}} \\quad &  \\quad &  \n",
       " \\end{aligned}\n",
       "$$"
      ],
      "text/plain": [
       "<IPython.core.display.Markdown object>"
      ]
     },
     "metadata": {},
     "output_type": "display_data"
    }
   ],
   "source": [
    "\n",
    "m_SA3_com_F = ((l**2*q_SA3 / 8 - m_u_com_A*b_w / 2 + (m_u_com_A*b_w)**2 / (2*l**2*q_SA3))/b_w).to(un.kNm/un.m)\n",
    "\n",
    "put_out(symbolic=True)\n"
   ]
  },
  {
   "cell_type": "markdown",
   "metadata": {},
   "source": [
    "Dazu lässt sich für die Traglast ebenfalls die Felddurchbiegung bestimmen."
   ]
  },
  {
   "cell_type": "code",
   "execution_count": 41,
   "metadata": {},
   "outputs": [
    {
     "data": {
      "text/markdown": [
       "$$\n",
       "\\begin{aligned}\n",
       "w_{SA3}& = \\frac{5 \\cdot l^{4} \\cdot q_{SA3}}{384 \\cdot EI_{II , A}} - \\frac{b_{w} \\cdot l^{2} \\cdot m_{u , A}}{16 \\cdot EI_{II , A}} = 49.33 \\ \\mathrm{mm} \\quad &  \\quad &  \n",
       " \\end{aligned}\n",
       "$$"
      ],
      "text/plain": [
       "<IPython.core.display.Markdown object>"
      ]
     },
     "metadata": {},
     "output_type": "display_data"
    }
   ],
   "source": [
    "# maximale Verformung im Feld\n",
    "w_SA3 = (5 * q_SA3 * l**4 / (384 * EI_II_com_A) - m_u_com_A * b_w * l**2 / (16 * EI_II_com_A)).to(un.mm)\n",
    "\n",
    "put_out(symbolic=True, evaluate=False)"
   ]
  },
  {
   "cell_type": "markdown",
   "metadata": {},
   "source": [
    "#### Zusammenfassung\n",
    "\n",
    "Abschliessend werden die zwei massgebenden Zustände kurz aufgegriffen. Das Fliessen des Mittelauflagers erfolgt bei einer Streckenlast von $q_{SA1}$ und die Traglast entspricht $q_{SA3}$."
   ]
  },
  {
   "cell_type": "code",
   "execution_count": 42,
   "metadata": {},
   "outputs": [
    {
     "data": {
      "text/markdown": [
       "$$\n",
       "\\begin{aligned}\n",
       "q_{SA1}& = 13.89 \\ \\frac{\\mathrm{kN}}{\\mathrm{m}} \\quad & w_{SA1}& = 35.97 \\ \\mathrm{mm} \\quad & m_{SA1 , B}& = 111.13 \\ \\frac{\\mathrm{kNm}}{\\mathrm{m}} \\\\ \n",
       "q_{SA3}& = 16.39 \\ \\frac{\\mathrm{kN}}{\\mathrm{m}} \\quad & w_{SA3}& = 49.33 \\ \\mathrm{mm} \\quad & m_{SA3 , F}& = 79.18 \\ \\frac{\\mathrm{kNm}}{\\mathrm{m}} \\end{aligned}\n",
       "$$"
      ],
      "text/plain": [
       "<IPython.core.display.Markdown object>"
      ]
     },
     "metadata": {},
     "output_type": "display_data"
    }
   ],
   "source": [
    "q_SA1\n",
    "w_SA1\n",
    "m_SA1_com_B\n",
    "\n",
    "q_SA3\n",
    "w_SA3\n",
    "m_SA3_com_F\n",
    "\n",
    "\n",
    "put_out(symbolic=False, rows = 3)"
   ]
  },
  {
   "cell_type": "markdown",
   "metadata": {},
   "source": [
    "### Federmodell\n",
    "\n",
    "Folgend wird das System  mit dem Federmodell nachgerechnet."
   ]
  },
  {
   "cell_type": "markdown",
   "metadata": {},
   "source": [
    "#### Momenten-Krümmungs-Beziehung\n",
    "\n",
    "Dazu wird eine Momenten-Krümmungs-Beziehung benötigt. Dabei wird das Zuggurtmodell nicht berücksichtigt. Die entsprechenden Krümmungen werden folgend berechnet:"
   ]
  },
  {
   "cell_type": "code",
   "execution_count": 43,
   "metadata": {},
   "outputs": [
    {
     "data": {
      "text/markdown": [
       "$$\n",
       "\\begin{aligned}\n",
       "EI_{II , A}& = E_{c} \\cdot I_{II} = 8238.717 \\ \\mathrm{kN} \\cdot \\mathrm{m}^{2} \\\\ \n",
       "\\chi_{y , A}& = \\frac{b_{w} \\cdot m_{y , A}}{EI_{II , A}} = 0.013 \\ \\frac{1}{\\mathrm{m}} \\\\ \n",
       "\\chi_{u , A}& = \\frac{\\varepsilon_{1 s , A2}}{d_{x} - x_{u , A}} = 0.103 \\ \\frac{1}{\\mathrm{m}} \\end{aligned}\n",
       "$$"
      ],
      "text/plain": [
       "<IPython.core.display.Markdown object>"
      ]
     },
     "metadata": {},
     "output_type": "display_data"
    }
   ],
   "source": [
    "EI_II_com_A\n",
    "chi_y_com_A = (m_y_com_A*b_w / EI_II_com_A).to(1/un.m)\n",
    "chi_u_com_A = (eps_1_s_com_A2 / (d_x - x_u_com_A)).to(1/un.m)\n",
    "put_out(symbolic=True, rows = 1, precision=3)"
   ]
  },
  {
   "cell_type": "markdown",
   "metadata": {},
   "source": [
    "Mit den entsprechenden Biegemomenten"
   ]
  },
  {
   "cell_type": "code",
   "execution_count": 44,
   "metadata": {},
   "outputs": [
    {
     "data": {
      "text/markdown": [
       "$$\n",
       "\\begin{aligned}\n",
       "m_{y , A}& = a_{s} \\cdot f_{sy , A} \\cdot z_{, A} = 111.13 \\ \\frac{\\mathrm{kNm}}{\\mathrm{m}} \\\\ \n",
       "m_{u , A}& = a_{s} \\cdot f_{su , A} \\cdot z_{, A} = 116.98 \\ \\frac{\\mathrm{kNm}}{\\mathrm{m}} \\end{aligned}\n",
       "$$"
      ],
      "text/plain": [
       "<IPython.core.display.Markdown object>"
      ]
     },
     "metadata": {},
     "output_type": "display_data"
    }
   ],
   "source": [
    "\n",
    "m_y_com_A\n",
    "m_u_com_A\n",
    "\n",
    "\n",
    "put_out(symbolic=True, rows = 1)"
   ]
  },
  {
   "cell_type": "markdown",
   "metadata": {},
   "source": [
    "Dargestellt ist dies in der @fig-jag_m_chi_b500a"
   ]
  },
  {
   "cell_type": "code",
   "execution_count": 45,
   "metadata": {},
   "outputs": [],
   "source": [
    "momente_b500a = np.array([0, m_y_com_A.m, m_u_com_A.m])\n",
    "\n",
    "chi_b500a = np.array([0, chi_y_com_A.m, chi_u_com_A.m])\n",
    "\n",
    "\n",
    "fig_m_chi_b500a, ax_m_chi_b500a = plt.subplots()\n",
    "\n",
    "\n",
    "ax_m_chi_b500a.plot(chi_b500a, momente_b500a, color='black')\n",
    "\n",
    "# Add labels and show the plot\n",
    "ax_m_chi_b500a.set_ylabel(\"$M$ [kNm]\")\n",
    "ax_m_chi_b500a.set_xlabel(\"$\\chi$ [1/m]\")\n",
    "\n",
    "# Save the plot to the specified file\n",
    "plt.savefig(\"imgs/jag_m_chi_b500a.svg\")\n",
    "plt.close()"
   ]
  },
  {
   "cell_type": "markdown",
   "metadata": {},
   "source": [
    "![Momenten-Krümmungs-Beziehung approximiert mit punktueller Querschnittsanalyse](../imgs/jag_m_chi_b500a.svg){#fig-jag_m_chi_b500a}\n"
   ]
  },
  {
   "cell_type": "markdown",
   "metadata": {},
   "source": [
    "#### Modellierung"
   ]
  },
  {
   "cell_type": "markdown",
   "metadata": {},
   "source": [
    "Die Elementlänge der starren Stäbe im Federmodell:"
   ]
  },
  {
   "cell_type": "code",
   "execution_count": 46,
   "metadata": {},
   "outputs": [
    {
     "data": {
      "text/markdown": [
       "$$\n",
       "\\begin{aligned}\n",
       "l_{El}& = 0.1 \\ \\mathrm{m} \\quad & n_{gelenk}& = 2 \\quad &  \n",
       " \\end{aligned}\n",
       "$$"
      ],
      "text/plain": [
       "<IPython.core.display.Markdown object>"
      ]
     },
     "metadata": {},
     "output_type": "display_data"
    }
   ],
   "source": [
    "l_El = 0.1*un.m\n",
    "n_gelenk = 2\n",
    "put_out()\n"
   ]
  },
  {
   "cell_type": "markdown",
   "metadata": {},
   "source": [
    "Damit lässt sich die Fliessverdrehung und Bruchverdrehung definieren. Da das Rotationsvermögen kleiner als die Rotation beim Erreichen des Biegewiderstands ist, gilt diese Rotation als Abbruchkriterium."
   ]
  },
  {
   "cell_type": "code",
   "execution_count": 47,
   "metadata": {},
   "outputs": [
    {
     "data": {
      "text/markdown": [
       "$$\n",
       "\\begin{aligned}\n",
       "\\Theta_{y , A}& = \\frac{\\chi_{y , A} \\cdot l_{El}}{n_{gelenk}} = 0.00067 \\ \\mathrm{rad} \\\\ \n",
       "\\Theta_{u , A}& = \\frac{\\chi_{u , A} \\cdot l_{El}}{n_{gelenk}} = 0.00515 \\ \\mathrm{rad} \\\\ \n",
       "\\Theta_{max , gelenk , A}& = \\frac{\\Theta_{max , A}}{n_{gelenk}} = 0.00459 \\ \\mathrm{rad} \\end{aligned}\n",
       "$$"
      ],
      "text/plain": [
       "<IPython.core.display.Markdown object>"
      ]
     },
     "metadata": {},
     "output_type": "display_data"
    }
   ],
   "source": [
    "Theta_y_com_A = (chi_y_com_A * l_El/n_gelenk).to(un.rad)\n",
    "Theta_u_com_A = (chi_u_com_A * l_El/n_gelenk).to(un.rad)\n",
    "Theta_max_com_gelenk_com_A  = (Theta_max_com_A/n_gelenk).to(un.rad)\n",
    "put_out(symbolic=True, precision = 5, rows = 1)"
   ]
  },
  {
   "cell_type": "markdown",
   "metadata": {},
   "source": [
    "#### Resultate"
   ]
  },
  {
   "cell_type": "markdown",
   "metadata": {},
   "source": [
    "Abschliessend sind die Rotationen der Gelenke im Modell händisch zu kontrollieren.\n",
    "\n",
    "##### Zustand $SA1$\n",
    "\n"
   ]
  },
  {
   "cell_type": "code",
   "execution_count": 48,
   "metadata": {},
   "outputs": [
    {
     "data": {
      "text/markdown": [
       "$$\n",
       "\\begin{aligned}\n",
       "q_{SA1}& = 13.89 \\ \\frac{\\mathrm{kN}}{\\mathrm{m}} \\quad &  \\quad &  \n",
       " \\end{aligned}\n",
       "$$"
      ],
      "text/plain": [
       "<IPython.core.display.Markdown object>"
      ]
     },
     "metadata": {},
     "output_type": "display_data"
    }
   ],
   "source": [
    "q_SA1\n",
    "put_out()"
   ]
  },
  {
   "cell_type": "markdown",
   "metadata": {},
   "source": [
    "\n",
    "\n",
    "![Verlauf der Biegemomente und Deformationen für den Zustand $SA1$, dazu die Stelle des Rotationswinkels. Numerisch berechnet mit AxisVM Federmodell für den Betonstahl B500A](../imgs/jag_fem_sa1.svg){#fig-jag_fem_sa1}\n",
    "\n"
   ]
  },
  {
   "cell_type": "code",
   "execution_count": 49,
   "metadata": {},
   "outputs": [
    {
     "data": {
      "text/markdown": [
       "$$\n",
       "\\begin{aligned}\n",
       "w_{SA1 , FEM}& = 37.4 \\ \\mathrm{mm} \\quad & w_{SA1}& = 35.97 \\ \\mathrm{mm} \\quad &  \n",
       " \\end{aligned}\n",
       "$$"
      ],
      "text/plain": [
       "<IPython.core.display.Markdown object>"
      ]
     },
     "metadata": {},
     "output_type": "display_data"
    }
   ],
   "source": [
    "\n",
    "w_SA1_com_FEM = 37.4*un.mm\n",
    "w_SA1\n",
    "put_out(precision=4, rows=3)"
   ]
  },
  {
   "cell_type": "markdown",
   "metadata": {},
   "source": [
    "##### Zustand $SA3$\n",
    "\n"
   ]
  },
  {
   "cell_type": "code",
   "execution_count": 50,
   "metadata": {},
   "outputs": [
    {
     "data": {
      "text/markdown": [
       "$$\n",
       "\\begin{aligned}\n",
       "q_{SA3}& = 16.39 \\ \\frac{\\mathrm{kN}}{\\mathrm{m}} \\quad & m_{SA3 , F}& = 79.18 \\ \\frac{\\mathrm{kNm}}{\\mathrm{m}} \\quad &  \n",
       " \\end{aligned}\n",
       "$$"
      ],
      "text/plain": [
       "<IPython.core.display.Markdown object>"
      ]
     },
     "metadata": {},
     "output_type": "display_data"
    }
   ],
   "source": [
    "q_SA3\n",
    "m_SA3_com_F\n",
    "\n",
    "put_out()"
   ]
  },
  {
   "cell_type": "markdown",
   "metadata": {},
   "source": [
    "\n",
    "![Verlauf der Biegemomente und Deformationen für den Zustand $SA3$, dazu die Stelle des Rotationswinkels. Numerisch berechnet mit AxisVM Federmodell für den Betonstahl B500A](../imgs/jag_fem_sa3.svg){#fig-jag_feder_my_SA3}\n"
   ]
  },
  {
   "cell_type": "code",
   "execution_count": 51,
   "metadata": {},
   "outputs": [
    {
     "data": {
      "text/markdown": [
       "$$\n",
       "\\begin{aligned}\n",
       "\\Theta_{SA3 , FEM}& = 0.0099 \\ \\mathrm{rad} \\quad & \\Theta_{SA3}& = 0.0092 \\ \\mathrm{rad} \\\\ \n",
       "w_{SA3 , FEM}& = 50.5 \\ \\mathrm{mm} \\quad & w_{SA3}& = 49.3262 \\ \\mathrm{mm} \\end{aligned}\n",
       "$$"
      ],
      "text/plain": [
       "<IPython.core.display.Markdown object>"
      ]
     },
     "metadata": {},
     "output_type": "display_data"
    }
   ],
   "source": [
    "\n",
    "Theta_SA3_com_FEM = (0.01058*un.rad).to(un.rad) - Theta_y_com_A\n",
    "Theta_SA3 = Theta_max_com_A.to(un.rad) \n",
    "\n",
    "w_SA3_com_FEM = 50.5*un.mm\n",
    "w_SA3\n",
    "\n",
    "put_out(symbolic=False, rows = 2, precision=4)"
   ]
  },
  {
   "cell_type": "markdown",
   "metadata": {},
   "source": [
    "## Naturharter Stahl B500C\n",
    "\n",
    "### Eigenschaften des Betonstahls"
   ]
  },
  {
   "cell_type": "code",
   "execution_count": 52,
   "metadata": {},
   "outputs": [
    {
     "data": {
      "text/markdown": [
       "$$\n",
       "\\begin{aligned}\n",
       "f_{sy , C}& = 500.0 \\ \\frac{\\mathrm{N}}{\\mathrm{mm}^{2}} \\quad & f_{su , C}& = 600.0 \\ \\frac{\\mathrm{N}}{\\mathrm{mm}^{2}} \\quad & \\varepsilon_{sy , C}& = 2.44 \\ \\mathrm{‰} \\\\ \n",
       "\\varepsilon_{sh , C}& = 20 \\ \\mathrm{‰} \\quad & \\varepsilon_{su , C}& = 125 \\ \\mathrm{‰} \\quad & E_{s , C}& = 205.0 \\ \\frac{\\mathrm{kN}}{\\mathrm{mm}^{2}} \\\\ \n",
       "E_{sh , C}& = 952.0 \\ \\frac{\\mathrm{N}}{\\mathrm{mm}^{2}} \\quad &  \\quad &  \n",
       " \\end{aligned}\n",
       "$$"
      ],
      "text/plain": [
       "<IPython.core.display.Markdown object>"
      ]
     },
     "metadata": {},
     "output_type": "display_data"
    }
   ],
   "source": [
    "f_sy_com_C = 500 * un.N / un.mm**2  # Fliessgrenze\n",
    "f_su_com_C = 600 * un.N / un.mm**2  # Zugfestigkeit\n",
    "eps_sy_com_C = 2.439 * un.permille  # Fliessdehnung\n",
    "eps_sh_com_C = 20 * un.permille  # Dehnung bei Verfestigungsbeginn\n",
    "eps_su_com_C = 125 * un.permille  # Bruchdehnung\n",
    "E_s_com_C= 205 * un.kN / un.mm**2  # Elastizitätsmodul\n",
    "E_sh_com_C = 952 * un.N / un.mm**2  # Verfestigungsmodul\n",
    "\n",
    "put_out()"
   ]
  },
  {
   "cell_type": "code",
   "execution_count": 53,
   "metadata": {},
   "outputs": [],
   "source": [
    "# | echo: false\n",
    "\n",
    "stress_C_array = np.array([0, f_sy_com_C.m, f_sy_com_C.m, f_su_com_C.m]) * un.MPa\n",
    "strain_C_array = np.array([0, eps_sy_com_C, eps_sh_com_C, eps_su_com_C])\n",
    "\n",
    "\n",
    "fig_b500c, ax_b500c = plt.subplots()\n",
    "\n",
    "ax_b500c.plot(strain_C_array, stress_C_array.to(un.MPa).m, color=\"k\")\n",
    "\n",
    "\n",
    "# Set axis labels\n",
    "ax_b500c.set_ylabel(r\"$\\sigma$ [N/mm$^2$]\")\n",
    "ax_b500c.set_xlabel(r\"$\\varepsilon_s$ [-]\")\n",
    "\n",
    "# Set limits\n",
    "ax_b500c.set_xlim(xmax=135 / 1000)\n",
    "ax_b500c.set_ylim(ymax=750)\n",
    "\n",
    "# Show the plot\n",
    "# plt.tight_layout()\n",
    "plt.savefig(\"imgs/jag_stress_strain_b500c.svg\")\n",
    "plt.close()"
   ]
  },
  {
   "cell_type": "markdown",
   "metadata": {},
   "source": [
    "![Spannungs-Dehnungs-Beziehung des Betonstahls B500C](../imgs/jag_stress_strain_b500c.svg){#stress_strain_b500c}"
   ]
  },
  {
   "cell_type": "markdown",
   "metadata": {},
   "source": [
    "### Linear elastische - gerissene Biegesteifigkeit\n",
    "\n",
    "Die Querschnittsanalyse wird von der Berechnung des kaltverformten Betonstahls übernommen. Siehe @fig-jag_gerissene_steifigkeit.\n",
    "\n"
   ]
  },
  {
   "cell_type": "code",
   "execution_count": 54,
   "metadata": {},
   "outputs": [
    {
     "data": {
      "text/markdown": [
       "$$\n",
       "\\begin{aligned}\n",
       "EI_{II , C}& = EI_{II , A} = 8238.72 \\ \\mathrm{kN} \\cdot \\mathrm{m}^{2} \\\\ \n",
       "x_{u , C}& = x_{u , A} = 18.11 \\ \\mathrm{mm} \\\\ \n",
       "z_{, C}& = z_{, A} = 253.3 \\ \\mathrm{mm} \\end{aligned}\n",
       "$$"
      ],
      "text/plain": [
       "<IPython.core.display.Markdown object>"
      ]
     },
     "metadata": {},
     "output_type": "display_data"
    }
   ],
   "source": [
    "EI_II_com_C = EI_II_com_A\n",
    "x_u_com_C = x_u_com_A\n",
    "z_com_C = z_com_A\n",
    "\n",
    "put_out(symbolic=True, rows=1)\n"
   ]
  },
  {
   "cell_type": "markdown",
   "metadata": {},
   "source": [
    "### Gernzzustände des Zugglieds"
   ]
  },
  {
   "cell_type": "markdown",
   "metadata": {},
   "source": [
    "#### Risselement bei Fliessbeginn - Zustand $C1$\n",
    "\n",
    "Hier wird ein Zugglied analysiert, bei dem die Bewehrung die Fliessspannung erreicht. Dabei stellen sich folgende Spannungen entlang dem Risselement ein:"
   ]
  },
  {
   "cell_type": "code",
   "execution_count": 55,
   "metadata": {},
   "outputs": [
    {
     "data": {
      "text/markdown": [
       "$$\n",
       "\\begin{aligned}\n",
       "\\sigma_{1 s , C1}& = f_{sy , C} = 500.0 \\ \\frac{\\mathrm{N}}{\\mathrm{mm}^{2}} \\\\ \n",
       "\\sigma_{2 s , C1}& = f_{sy , C} - \\frac{4 \\cdot s_{r} \\cdot \\tau_{b0}}{2 \\cdot \\oslash_{x}} = 334.49 \\ \\frac{\\mathrm{N}}{\\mathrm{mm}^{2}} \\end{aligned}\n",
       "$$"
      ],
      "text/plain": [
       "<IPython.core.display.Markdown object>"
      ]
     },
     "metadata": {},
     "output_type": "display_data"
    }
   ],
   "source": [
    "# Stahlspannungen\n",
    "sigma_1_s_com_C1 = f_sy_com_C\n",
    "sigma_2_s_com_C1 = f_sy_com_C - 4 * tau_b0 * s_r / 2 / diam_x\n",
    "\n",
    "put_out(symbolic=True, rows = 1)"
   ]
  },
  {
   "cell_type": "markdown",
   "metadata": {},
   "source": [
    "Und die folgenden Dehnungen stellen sich ein:"
   ]
  },
  {
   "cell_type": "code",
   "execution_count": 56,
   "metadata": {},
   "outputs": [
    {
     "data": {
      "text/markdown": [
       "$$\n",
       "\\begin{aligned}\n",
       "\\varepsilon_{1 s , C1}& = \\frac{\\sigma_{1 s , C1}}{E_{s , C}} = 2.44 \\ \\mathrm{‰} \\\\ \n",
       "\\varepsilon_{2 s , C1}& = \\frac{\\sigma_{2 s , C1}}{E_{s , C}} = 1.63 \\ \\mathrm{‰} \\end{aligned}\n",
       "$$"
      ],
      "text/plain": [
       "<IPython.core.display.Markdown object>"
      ]
     },
     "metadata": {},
     "output_type": "display_data"
    }
   ],
   "source": [
    "# Stahldehnungen\n",
    "eps_1_s_com_C1 = (sigma_1_s_com_C1 / E_s_com_C).to(un.permille)\n",
    "eps_2_s_com_C1 = (sigma_2_s_com_C1 / E_s_com_C).to(un.permille)\n",
    "\n",
    "put_out(symbolic=True, rows=1)"
   ]
  },
  {
   "cell_type": "markdown",
   "metadata": {},
   "source": [
    "Die Mittlere Dehnung ist die folgende. Diese gilt es nach @alvarez_einfluss_1998 Seite 163 zu bestimmen."
   ]
  },
  {
   "cell_type": "code",
   "execution_count": 57,
   "metadata": {},
   "outputs": [
    {
     "data": {
      "text/markdown": [
       "$$\n",
       "\\begin{aligned}\n",
       "\\varepsilon_{m s , C1}& = 2.04 \\ \\mathrm{‰} \\quad &  \\quad &  \n",
       " \\end{aligned}\n",
       "$$"
      ],
      "text/plain": [
       "<IPython.core.display.Markdown object>"
      ]
     },
     "metadata": {},
     "output_type": "display_data"
    }
   ],
   "source": [
    "# Mittlere Stahldehnung beim Fliessen\n",
    "eps_m_s_com_C1 = (eps_sm_bilinear(E_s_com_C, E_sh_com_C, s_r, tau_b0, tau_b1, diam_x, sigma_1_s_com_C1, f_sy_com_C, f_su_com_C, eps_sy_com_C)).to(un.permille)\n",
    "put_out()"
   ]
  },
  {
   "cell_type": "code",
   "execution_count": 58,
   "metadata": {},
   "outputs": [
    {
     "data": {
      "text/markdown": [
       "$$\n",
       "\\begin{aligned}\n",
       "m_{y , C}& = a_{s} \\cdot f_{sy , C} \\cdot z_{, C} = 97.48 \\ \\frac{\\mathrm{kNm}}{\\mathrm{m}} \\quad &  \\quad &  \n",
       " \\end{aligned}\n",
       "$$"
      ],
      "text/plain": [
       "<IPython.core.display.Markdown object>"
      ]
     },
     "metadata": {},
     "output_type": "display_data"
    }
   ],
   "source": [
    "# Fliessmoment\n",
    "m_y_com_C = (a_s * f_sy_com_C * z_com_C).to(un.kNm/un.m)\n",
    "\n",
    "put_out(symbolic=True)"
   ]
  },
  {
   "cell_type": "code",
   "execution_count": 59,
   "metadata": {},
   "outputs": [],
   "source": [
    "# | echo: false\n",
    "\n",
    "coords_c1_stress = [\n",
    "    (0, 0),\n",
    "    (s_r.m / 2, 0),\n",
    "    (s_r.m / 2, sigma_2_s_com_C1.m),\n",
    "    (0, sigma_1_s_com_C1.m),\n",
    "]\n",
    "\n",
    "plot_stress_strain(coords_c1_stress, \"imgs/jag_stress_c1.svg\", stress=True)\n",
    "\n",
    "\n",
    "coords_c1_strain = [\n",
    "    (0, 0),\n",
    "    (s_r.m / 2, 0),\n",
    "    (s_r.m / 2, eps_2_s_com_C1),\n",
    "    (0, eps_1_s_com_C1),\n",
    "]\n",
    "\n",
    "plot_stress_strain(coords_c1_strain, \"imgs/jag_strain_c1.svg\", strain=True,strain_mean=eps_m_s_com_C1.m)"
   ]
  },
  {
   "cell_type": "markdown",
   "metadata": {},
   "source": [
    "::: {#fig-jag_zustand_c1 layout-ncol=2}\n",
    "![Spannungsverlauf entlang des Zugglieds auf halbem Rissabstand](../imgs/jag_stress_c1.svg){#fig-jag_stress_c1}\n",
    "\n",
    "![Dehnungsverlauf entlang des Zugglieds auf halbem Rissabstand](../imgs/jag_strain_c1.svg){#fig-jag_strain_c1}\n",
    "\n",
    "Spannungs- und Dehnungsverlauf entlang der Hälfte des Rissabstands für den Zustand $C1$\n",
    ":::"
   ]
  },
  {
   "cell_type": "markdown",
   "metadata": {},
   "source": [
    "#### Risselement beim Erreichen der Zugfestigkeit - Zustand $C2$\n",
    "\n",
    "Innerhalb des Risselements befindet sich der Betonstahl über der Fliessgrenze. Dies führt zu den folgenden Spannungs- und Dehnungsverteilungen."
   ]
  },
  {
   "cell_type": "code",
   "execution_count": 60,
   "metadata": {},
   "outputs": [
    {
     "data": {
      "text/markdown": [
       "$$\n",
       "\\begin{aligned}\n",
       "\\sigma_{1 s , C2}& = f_{su , C} = 600.0 \\ \\frac{\\mathrm{N}}{\\mathrm{mm}^{2}} \\\\ \n",
       "\\sigma_{2 s , C2}& = f_{su , C} - \\frac{4 \\cdot s_{r} \\cdot \\tau_{b1}}{2 \\cdot \\oslash_{x}} = 517.24 \\ \\frac{\\mathrm{N}}{\\mathrm{mm}^{2}} \\end{aligned}\n",
       "$$"
      ],
      "text/plain": [
       "<IPython.core.display.Markdown object>"
      ]
     },
     "metadata": {},
     "output_type": "display_data"
    }
   ],
   "source": [
    "# Stahlspannung zwischen den Rissen\n",
    "sigma_1_s_com_C2 = f_su_com_C\n",
    "sigma_2_s_com_C2 = f_su_com_C - 4 * tau_b1 / diam_x * s_r / 2\n",
    "\n",
    "put_out(symbolic=True, rows =1)"
   ]
  },
  {
   "cell_type": "markdown",
   "metadata": {},
   "source": [
    "Die Dehnungen sind die folgenden:"
   ]
  },
  {
   "cell_type": "code",
   "execution_count": 61,
   "metadata": {},
   "outputs": [
    {
     "data": {
      "text/markdown": [
       "$$\n",
       "\\begin{aligned}\n",
       "\\varepsilon_{1 s , C2}& = \\varepsilon_{sh , C} + \\frac{- f_{sy , C} + \\sigma_{2 s , C2}}{E_{sh , C}} = 38.11 \\ \\mathrm{‰} \\\\ \n",
       "\\varepsilon_{2 s , C2}& = \\varepsilon_{su , C} = 125 \\ \\mathrm{‰} \\end{aligned}\n",
       "$$"
      ],
      "text/plain": [
       "<IPython.core.display.Markdown object>"
      ]
     },
     "metadata": {},
     "output_type": "display_data"
    }
   ],
   "source": [
    "\n",
    "# Stahldehnung zwischen den Rissen\n",
    "eps_1_s_com_C2 = ((sigma_2_s_com_C2 - f_sy_com_C) / E_sh_com_C + eps_sh_com_C).to(un.permille)\n",
    "eps_2_s_com_C2 = eps_su_com_C\n",
    "\n",
    "put_out(symbolic=True, rows=1)"
   ]
  },
  {
   "cell_type": "markdown",
   "metadata": {},
   "source": [
    "Und die mittlere Stahldehnung beträgt dabei:"
   ]
  },
  {
   "cell_type": "code",
   "execution_count": 62,
   "metadata": {},
   "outputs": [
    {
     "data": {
      "text/markdown": [
       "$$\n",
       "\\begin{aligned}\n",
       "\\varepsilon_{m s , C2}& = 81.56 \\ \\mathrm{‰} \\quad &  \\quad &  \n",
       " \\end{aligned}\n",
       "$$"
      ],
      "text/plain": [
       "<IPython.core.display.Markdown object>"
      ]
     },
     "metadata": {},
     "output_type": "display_data"
    }
   ],
   "source": [
    "\n",
    "eps_m_s_com_C2 = (eps_1_s_com_C2 + eps_2_s_com_C2) / 2\n",
    "\n",
    "put_out()"
   ]
  },
  {
   "cell_type": "markdown",
   "metadata": {},
   "source": [
    "Kontrolliert wird die Betonstauchung. Es zeigt sich, dass sich ein Betondruckversagen einstellt. Die Betonbruchstauchung basiert auf einem Erfahrungswert."
   ]
  },
  {
   "cell_type": "code",
   "execution_count": 63,
   "metadata": {},
   "outputs": [
    {
     "data": {
      "text/markdown": [
       "$$\n",
       "\\begin{aligned}\n",
       "\\varepsilon_{c , C2}& = 6.08 \\ \\mathrm{‰} \\quad & \\varepsilon_{cu}& = 5 \\ \\mathrm{‰} \\quad &  \n",
       " \\end{aligned}\n",
       "$$"
      ],
      "text/plain": [
       "<IPython.core.display.Markdown object>"
      ]
     },
     "metadata": {},
     "output_type": "display_data"
    }
   ],
   "source": [
    "# Betonstauchung\n",
    "eps_c_com_C2 = eps_m_s_com_C2 / (d_x - x_u_com_A) * x_u_com_A\n",
    "\n",
    "eps_cu\n",
    "\n",
    "put_out()"
   ]
  },
  {
   "cell_type": "markdown",
   "metadata": {},
   "source": [
    "Die zulässige mittlere Stahldehnung beträgt folglich:"
   ]
  },
  {
   "cell_type": "code",
   "execution_count": 64,
   "metadata": {},
   "outputs": [
    {
     "data": {
      "text/markdown": [
       "$$\n",
       "\\begin{aligned}\n",
       "\\varepsilon_{m s , adm}& = \\frac{\\varepsilon_{cu} \\cdot \\left(d_{x} - x_{u , C}\\right)}{x_{u , C}} = 67.06 \\ \\mathrm{‰} \\quad &  \\quad &  \n",
       " \\end{aligned}\n",
       "$$"
      ],
      "text/plain": [
       "<IPython.core.display.Markdown object>"
      ]
     },
     "metadata": {},
     "output_type": "display_data"
    }
   ],
   "source": [
    "eps_m_s_com_adm = eps_cu * (d_x - x_u_com_C)/x_u_com_C\n",
    "put_out(symbolic=True)\n"
   ]
  },
  {
   "cell_type": "markdown",
   "metadata": {},
   "source": [
    "Damit folgen die Dehnungen für diesen Zustand zu:"
   ]
  },
  {
   "cell_type": "code",
   "execution_count": 65,
   "metadata": {},
   "outputs": [
    {
     "data": {
      "text/markdown": [
       "$$\n",
       "\\begin{aligned}\n",
       "\\varepsilon_{1 s , C2}& = \\tau_{b1} \\cdot 4 \\cdot s_{r} \\cdot \\frac{1}{4} \\cdot \\frac{1}{E_{sh , C} \\cdot \\oslash_{x}} + \\varepsilon_{m s , adm} = 110.52 \\ \\mathrm{‰} \\\\ \n",
       "\\varepsilon_{2 s , C2}& = - \\frac{4 \\cdot s_{r} \\cdot \\tau_{b1}}{4 \\cdot E_{sh , C} \\cdot \\oslash_{x}} + \\varepsilon_{m s , adm} = 23.59 \\ \\mathrm{‰} \\end{aligned}\n",
       "$$"
      ],
      "text/plain": [
       "<IPython.core.display.Markdown object>"
      ]
     },
     "metadata": {},
     "output_type": "display_data"
    }
   ],
   "source": [
    "# Stahldehnung zwischen den Rissen\n",
    "eps_1_s_com_C2 = eps_m_s_com_adm + tau_b1 * 4* s_r/4 / (diam_x*E_sh_com_C)\n",
    "eps_2_s_com_C2 = eps_m_s_com_adm - tau_b1 * 4 * s_r/4/ (diam_x*E_sh_com_C)\n",
    "\n",
    "put_out(symbolic=True, rows = 1)"
   ]
  },
  {
   "cell_type": "markdown",
   "metadata": {},
   "source": [
    "Und daraus werden die Spannungen bestimmt:"
   ]
  },
  {
   "cell_type": "code",
   "execution_count": 66,
   "metadata": {},
   "outputs": [
    {
     "data": {
      "text/markdown": [
       "$$\n",
       "\\begin{aligned}\n",
       "\\sigma_{1 s , C2}& = E_{sh , C} \\cdot \\left(\\varepsilon_{1 s , C2} - \\varepsilon_{sh , C}\\right) + f_{sy , C} = 586.18 \\ \\frac{\\mathrm{N}}{\\mathrm{mm}^{2}} \\\\ \n",
       "\\sigma_{2 s , C2}& = E_{sh , C} \\cdot \\left(\\varepsilon_{2 s , C2} - \\varepsilon_{sh , C}\\right) + f_{sy , C} = 503.42 \\ \\frac{\\mathrm{N}}{\\mathrm{mm}^{2}} \\end{aligned}\n",
       "$$"
      ],
      "text/plain": [
       "<IPython.core.display.Markdown object>"
      ]
     },
     "metadata": {},
     "output_type": "display_data"
    }
   ],
   "source": [
    "# Stahlspannung zwischen den Rissen\n",
    "sigma_1_s_com_C2 = f_sy_com_C + (eps_1_s_com_C2 - eps_sh_com_C)*E_sh_com_C\n",
    "sigma_2_s_com_C2 = f_sy_com_C + (eps_2_s_com_C2 - eps_sh_com_C)*E_sh_com_C\n",
    "\n",
    "\n",
    "put_out(symbolic=True, rows=1)"
   ]
  },
  {
   "cell_type": "markdown",
   "metadata": {},
   "source": [
    "Dabei folgt der Biegewiderstand, begrenzt durch ein Betondruckversagen, zu:"
   ]
  },
  {
   "cell_type": "code",
   "execution_count": 67,
   "metadata": {},
   "outputs": [
    {
     "data": {
      "text/markdown": [
       "$$\n",
       "\\begin{aligned}\n",
       "m_{u , C}& = a_{s} \\cdot \\sigma_{1 s , C2} \\cdot z_{, C} = 114.28 \\ \\frac{\\mathrm{kNm}}{\\mathrm{m}} \\quad &  \\quad &  \n",
       " \\end{aligned}\n",
       "$$"
      ],
      "text/plain": [
       "<IPython.core.display.Markdown object>"
      ]
     },
     "metadata": {},
     "output_type": "display_data"
    }
   ],
   "source": [
    "m_u_com_C = (a_s * sigma_1_s_com_C2 * z_com_C).to(un.kNm/un.m)\n",
    "\n",
    "put_out(symbolic=True)"
   ]
  },
  {
   "cell_type": "code",
   "execution_count": 68,
   "metadata": {},
   "outputs": [],
   "source": [
    "# | echo: false\n",
    "\n",
    "coords_c2_stress = [\n",
    "    (0, 0),\n",
    "    (s_r.m / 2, 0),\n",
    "    (s_r.m / 2, sigma_2_s_com_C2.m),\n",
    "    (0, sigma_1_s_com_C2.m),\n",
    "]\n",
    "\n",
    "plot_stress_strain(coords_c2_stress, \"imgs/jag_stress_c2.svg\", stress=True)\n",
    "\n",
    "\n",
    "coords_c2_strain = [\n",
    "    (0, 0),\n",
    "    (s_r.m / 2, 0),\n",
    "    (s_r.m / 2, eps_2_s_com_C2),\n",
    "    (0, eps_1_s_com_C2),\n",
    "]\n",
    "\n",
    "plot_stress_strain(coords_c2_strain, \"imgs/jag_strain_c2.svg\", strain=True,strain_mean=eps_m_s_com_adm.m)"
   ]
  },
  {
   "cell_type": "markdown",
   "metadata": {},
   "source": [
    "::: {#fig-jag_zustand_c2 layout-ncol=2}\n",
    "![Spannungsverlauf entlang des Zugglieds auf halbem Rissabstand](../imgs/jag_stress_c2.svg){#fig-jag_stress_c2}\n",
    "\n",
    "![Dehnungsverlauf entlang des Zugglieds auf halbem Rissabstand](../imgs/jag_strain_c2.svg){#fig-jag_strain_c2}\n",
    "\n",
    "Spannungs- und Dehnungsverlauf entlang der Hälfte des Rissabstands für den Zustand $C2$\n",
    ":::"
   ]
  },
  {
   "cell_type": "markdown",
   "metadata": {},
   "source": [
    "#### Zusammenfassung\n",
    "Zusammenfassend sind die Werte erneut aufgezeigt. Fliessen und Erreichen der Betonbruchstauchung:"
   ]
  },
  {
   "cell_type": "code",
   "execution_count": 69,
   "metadata": {},
   "outputs": [
    {
     "data": {
      "text/markdown": [
       "$$\n",
       "\\begin{aligned}\n",
       "\\varepsilon_{m s , C1}& = 2.04 \\ \\mathrm{‰} \\quad & m_{y , C}& = 97.48 \\ \\frac{\\mathrm{kNm}}{\\mathrm{m}} \\\\ \n",
       "\\varepsilon_{m s , adm}& = 67.06 \\ \\mathrm{‰} \\quad & m_{u , C}& = 114.28 \\ \\frac{\\mathrm{kNm}}{\\mathrm{m}} \\end{aligned}\n",
       "$$"
      ],
      "text/plain": [
       "<IPython.core.display.Markdown object>"
      ]
     },
     "metadata": {},
     "output_type": "display_data"
    }
   ],
   "source": [
    "eps_m_s_com_C1\n",
    "m_y_com_C\n",
    "\n",
    "eps_m_s_com_adm\n",
    "m_u_com_C\n",
    "\n",
    "put_out(rows = 2)\n"
   ]
  },
  {
   "cell_type": "markdown",
   "metadata": {},
   "source": [
    "### Systemanalyse\n",
    "\n",
    "Nun wird das System analysiert, sprich der Zweifeldträger. Siehe @fig-jag_mechanismus und @fig-jag_plast_rot_A."
   ]
  },
  {
   "cell_type": "markdown",
   "metadata": {},
   "source": [
    "#### Fliessen des Mittelauflager - Zustand $SC1$\n",
    "\n",
    "Auch hier stellt sich zunächst ein Fliessgelenk beim Mittelauflager ein. Dazu wird nun diezugehörige Streckenlast berechnet und die entsprechende Felddeformation ermittelt."
   ]
  },
  {
   "cell_type": "code",
   "execution_count": 70,
   "metadata": {},
   "outputs": [
    {
     "data": {
      "text/markdown": [
       "$$\n",
       "\\begin{aligned}\n",
       "m_{SC1 , B}& = m_{y , C} = 97.48 \\ \\frac{\\mathrm{kNm}}{\\mathrm{m}} \\\\ \n",
       "q_{SC1}& = \\frac{8 \\cdot b_{w} \\cdot m_{SC1 , B}}{l^{2}} = 12.19 \\ \\frac{\\mathrm{kN}}{\\mathrm{m}} \\\\ \n",
       "w_{SC1}& = \\frac{5 \\cdot l^{4} \\cdot q_{SC1}}{384 \\cdot EI_{II , C}} - \\frac{b_{w} \\cdot l^{2} \\cdot m_{SC1 , B}}{16 \\cdot EI_{II , C}} = 31.55 \\ \\mathrm{mm} \\end{aligned}\n",
       "$$"
      ],
      "text/plain": [
       "<IPython.core.display.Markdown object>"
      ]
     },
     "metadata": {},
     "output_type": "display_data"
    }
   ],
   "source": [
    "m_SC1_com_B = m_y_com_C\n",
    "\n",
    "# Streckenlast beim Fliessen des Mittelauflagers\n",
    "q_SC1 = (8 * m_SC1_com_B / l**2 * b_w).to(un.kN/un.m)\n",
    "\n",
    "\n",
    "\n",
    "# Verformung beim Fliessen des Mittelauflagers\n",
    "w_SC1 = (5 * q_SC1 * l**4 / (384 * EI_II_com_C) - m_SC1_com_B * b_w * l**2 / (16 * EI_II_com_C)).to(un.mm)\n",
    "\n",
    "put_out(symbolic=True, rows=1)"
   ]
  },
  {
   "cell_type": "code",
   "execution_count": 71,
   "metadata": {},
   "outputs": [
    {
     "data": {
      "text/markdown": [
       "$$\n",
       "\\begin{aligned}\n",
       "\\Theta_{max , C}& = \\frac{l_{pl} \\cdot \\left(- \\varepsilon_{m s , C1} + \\varepsilon_{m s , adm}\\right)}{d_{x} - x_{u , C}} = 8.01 \\ \\mathrm{°} \\quad &  \\quad &  \n",
       " \\end{aligned}\n",
       "$$"
      ],
      "text/plain": [
       "<IPython.core.display.Markdown object>"
      ]
     },
     "metadata": {},
     "output_type": "display_data"
    }
   ],
   "source": [
    "# Plastischer Rotationswinkel, Rotationsbedarf für vollständige Umlagerung.\n",
    "Theta_max_com_C = (l_pl * (eps_m_s_com_adm - eps_m_s_com_C1) / (d_x - x_u_com_C)).to(un.deg)\n",
    "\n",
    "put_out(symbolic=True)"
   ]
  },
  {
   "cell_type": "markdown",
   "metadata": {},
   "source": [
    "#### Fliessbeginn im Feld - Zustand $SC2$\n",
    "\n",
    "Beim Zustand zwei wird das Feldmoment ermittelt. Dabei wird beim Mittelauflager der Biegewiderstand hinterlegt. Dem Feld wird das Fliessmoment vorausgesetzt. Siehe dazu @fig-jag_my_feld_A."
   ]
  },
  {
   "cell_type": "code",
   "execution_count": 72,
   "metadata": {},
   "outputs": [
    {
     "data": {
      "text/markdown": [
       "$$\n",
       "\\begin{aligned}\n",
       "m_{SC2 , F}& = m_{y , C} = 97.48 \\ \\frac{\\mathrm{kNm}}{\\mathrm{m}} \\quad &  \\quad &  \n",
       " \\end{aligned}\n",
       "$$"
      ],
      "text/plain": [
       "<IPython.core.display.Markdown object>"
      ]
     },
     "metadata": {},
     "output_type": "display_data"
    }
   ],
   "source": [
    "m_SC2_com_F = m_y_com_C\n",
    "\n",
    "put_out(symbolic=True)"
   ]
  },
  {
   "cell_type": "markdown",
   "metadata": {},
   "source": [
    "Das Biegemoment im Feld wird anhand der plastischen Rotation bestimmt. Siehe dazu @fig-jag_plast_rot_A. Dabei werden die Spannungen und Dehnungen innerhalb des Zugglieds bestimmt. Dabei betragen die Spannungen:"
   ]
  },
  {
   "cell_type": "code",
   "execution_count": 73,
   "metadata": {},
   "outputs": [
    {
     "data": {
      "text/markdown": [
       "$$\n",
       "\\begin{aligned}\n",
       "\\Delta_{x pl , SC2}& = \\Delta_{x pl , A2} = 36.25 \\ \\mathrm{mm} \\\\ \n",
       "\\Delta_{x el , SC2}& = - \\Delta_{x pl , SC2} + \\frac{s_{r}}{2} = 63.75 \\ \\mathrm{mm} \\end{aligned}\n",
       "$$"
      ],
      "text/plain": [
       "<IPython.core.display.Markdown object>"
      ]
     },
     "metadata": {},
     "output_type": "display_data"
    }
   ],
   "source": [
    "# Fliessspannung wird vorausgesetzt\n",
    "Delta_x_pl_com_SC2 = Delta_x_pl_com_A2\n",
    "Delta_x_el_com_SC2 = s_r / 2 - Delta_x_pl_com_SC2\n",
    "\n",
    "put_out(symbolic=True, rows = 1)\n",
    "\n"
   ]
  },
  {
   "cell_type": "code",
   "execution_count": 74,
   "metadata": {},
   "outputs": [
    {
     "data": {
      "text/markdown": [
       "$$\n",
       "\\begin{aligned}\n",
       "\\sigma_{2 s , SC2}& = 500.0 \\ \\frac{\\mathrm{N}}{\\mathrm{mm}^{2}} \\\\ \n",
       "\\sigma_{1 s , SC2}& = \\frac{4 \\cdot \\Delta_{x pl , SC2} \\cdot \\tau_{b1}}{\\oslash_{x}} + \\sigma_{2 s , SC2} = 530.0 \\ \\frac{\\mathrm{N}}{\\mathrm{mm}^{2}} \\\\ \n",
       "\\sigma_{3 s , SC2}& = - \\frac{4 \\cdot \\Delta_{x el , SC2} \\cdot \\tau_{b0}}{\\oslash_{x}} + \\sigma_{2 s , SC2} = 394.49 \\ \\frac{\\mathrm{N}}{\\mathrm{mm}^{2}} \\end{aligned}\n",
       "$$"
      ],
      "text/plain": [
       "<IPython.core.display.Markdown object>"
      ]
     },
     "metadata": {},
     "output_type": "display_data"
    }
   ],
   "source": [
    "sigma_2_s_com_SC2 = 500 * un.N / un.mm**2\n",
    "sigma_1_s_com_SC2 = sigma_2_s_com_SC2 + 4 * tau_b1 / diam_x * Delta_x_pl_com_SC2\n",
    "sigma_3_s_com_SC2 = sigma_2_s_com_SC2 - 4 * tau_b0 / diam_x * Delta_x_el_com_SC2\n",
    "\n",
    "put_out(symbolic=True, rows=1)"
   ]
  },
  {
   "cell_type": "markdown",
   "metadata": {},
   "source": [
    "Und die Dehnungen definieren sich zu:"
   ]
  },
  {
   "cell_type": "code",
   "execution_count": 75,
   "metadata": {},
   "outputs": [
    {
     "data": {
      "text/markdown": [
       "$$\n",
       "\\begin{aligned}\n",
       "\\varepsilon_{1 s , SC2}& = \\varepsilon_{sh , C} + \\frac{\\sigma_{1 s , SC2} - \\sigma_{2 s , SC2}}{E_{sh , C}} = 51.51 \\ \\mathrm{‰} \\\\ \n",
       "\\varepsilon_{21 s , SC2}& = \\varepsilon_{sh , C} = 20 \\ \\mathrm{‰} \\\\ \n",
       "\\varepsilon_{22 s , SC2}& = \\varepsilon_{sy , A} = 2.78 \\ \\mathrm{‰} \\\\ \n",
       "\\varepsilon_{3 s , SC2}& = \\frac{\\sigma_{3 s , SC2}}{E_{s , A}} = 1.92 \\ \\mathrm{‰} \\end{aligned}\n",
       "$$"
      ],
      "text/plain": [
       "<IPython.core.display.Markdown object>"
      ]
     },
     "metadata": {},
     "output_type": "display_data"
    }
   ],
   "source": [
    "# Dehnungen\n",
    "eps_1_s_com_SC2 = ((sigma_1_s_com_SC2 - sigma_2_s_com_SC2) / E_sh_com_C + eps_sh_com_C).to(un.permille)\n",
    "eps_21_s_com_SC2 = eps_sh_com_C\n",
    "eps_22_s_com_SC2 = eps_sy_com_A\n",
    "eps_3_s_com_SC2 = (sigma_3_s_com_SC2 / E_s_com_A).to(un.permille)\n",
    "\n",
    "put_out(symbolic=True, rows=1)"
   ]
  },
  {
   "cell_type": "markdown",
   "metadata": {},
   "source": [
    "Abschliessend lässt sich für die trilineare Spannungs-Dehnungs-Beziehung die Mittlere Dehnung bestimmen. Diese gilt es nach @alvarez_einfluss_1998 Seite 163 zu bestimmen, wurde in diesem Beispiel jedoch vom Skript @jager_stahlbeton_2009 übernommen."
   ]
  },
  {
   "cell_type": "code",
   "execution_count": 76,
   "metadata": {},
   "outputs": [
    {
     "data": {
      "text/markdown": [
       "$$\n",
       "\\begin{aligned}\n",
       "\\varepsilon_{m s , SC2}& = 14.33 \\ \\mathrm{‰} \\end{aligned}\n",
       "$$"
      ],
      "text/plain": [
       "<IPython.core.display.Markdown object>"
      ]
     },
     "metadata": {},
     "output_type": "display_data"
    }
   ],
   "source": [
    "\n",
    "eps_m_s_com_SC2 = 14.33*un.permille\n",
    "put_out(rows=1)"
   ]
  },
  {
   "cell_type": "markdown",
   "metadata": {},
   "source": [
    "Dargestellt sind die Resultate in der @fig-jag_zustand_sc2."
   ]
  },
  {
   "cell_type": "code",
   "execution_count": 77,
   "metadata": {},
   "outputs": [],
   "source": [
    "# | echo: false\n",
    "\n",
    "coords_SC2_stress = [\n",
    "    (0, 0), \n",
    "    (Delta_x_pl_com_SC2.m, 0), \n",
    "    (s_r.m / 2, 0), \n",
    "    (s_r.m / 2, sigma_3_s_com_SC2.m), \n",
    "    (Delta_x_pl_com_SC2.m, sigma_2_s_com_SC2.m),\n",
    "    (0, sigma_1_s_com_SC2.m)\n",
    "    ]\n",
    "\n",
    "plot_stress_strain(coords_SC2_stress, \"imgs/jag_stress_sc2.svg\", stress=True)\n",
    "\n",
    "\n",
    "coords_SC2_strain = [\n",
    "    (0, 0),\n",
    "    (Delta_x_pl_com_SC2.m, 0),\n",
    "    (s_r.m / 2, 0),\n",
    "    (s_r.m / 2, eps_3_s_com_SC2),\n",
    "    (Delta_x_pl_com_SC2.m, eps_22_s_com_SC2),\n",
    "    (Delta_x_pl_com_SC2.m, eps_21_s_com_SC2),\n",
    "    (0, eps_1_s_com_SC2),\n",
    "]\n",
    "\n",
    "plot_stress_strain(coords_SC2_strain, \"imgs/jag_strain_sc2.svg\", strain=True, strain_mean=eps_m_s_com_SC2.m)"
   ]
  },
  {
   "cell_type": "markdown",
   "metadata": {},
   "source": [
    "::: {#fig-jag_zustand_sc2 layout-ncol=2}\n",
    "![Spannungsverlauf entlang des Zugglieds auf halbem Rissabstand](../imgs/jag_stress_sc2.svg){#fig-jag_stress_sc2}\n",
    "\n",
    "![Dehnungsverlauf entlang des Zugglieds auf halbem Rissabstand](../imgs/jag_strain_sc2.svg){#fig-jag_strain_sc2}\n",
    "\n",
    "Spannungs- und Dehnungsverlauf entlang der Hälfte des Rissabstands für den Zustand $SC2$\n",
    ":::"
   ]
  },
  {
   "cell_type": "markdown",
   "metadata": {},
   "source": [
    "Dabei stellt sich das folgende plastische Rotationsvermögen ein:"
   ]
  },
  {
   "cell_type": "code",
   "execution_count": 78,
   "metadata": {},
   "outputs": [
    {
     "data": {
      "text/markdown": [
       "$$\n",
       "\\begin{aligned}\n",
       "\\Theta_{SC2 , pl}& = \\frac{l_{pl} \\cdot \\left(- \\varepsilon_{m s , C1} + \\varepsilon_{m s , SC2}\\right)}{d_{x} - x_{u , C}} = 1.51 \\ \\mathrm{°} \\quad &  \\quad &  \n",
       " \\end{aligned}\n",
       "$$"
      ],
      "text/plain": [
       "<IPython.core.display.Markdown object>"
      ]
     },
     "metadata": {},
     "output_type": "display_data"
    }
   ],
   "source": [
    "Theta_SC2_com_pl = (l_pl * (eps_m_s_com_SC2 - eps_m_s_com_C1) / (d_x - x_u_com_C)).to(un.deg)\n",
    "\n",
    "put_out(symbolic=True)"
   ]
  },
  {
   "cell_type": "markdown",
   "metadata": {},
   "source": [
    "Anhand dieses Zustands können Streckenlast und Feldmoment bestimmt werden:"
   ]
  },
  {
   "cell_type": "code",
   "execution_count": 79,
   "metadata": {},
   "outputs": [
    {
     "data": {
      "text/markdown": [
       "$$\n",
       "\\begin{aligned}\n",
       "m_{SC2 , B}& = a_{s} \\cdot \\sigma_{1 s , SC2} \\cdot z_{, A} = 103.33 \\ \\frac{\\mathrm{kNm}}{\\mathrm{m}} \\quad &  \\quad &  \n",
       " \\end{aligned}\n",
       "$$"
      ],
      "text/plain": [
       "<IPython.core.display.Markdown object>"
      ]
     },
     "metadata": {},
     "output_type": "display_data"
    }
   ],
   "source": [
    "# Biegemoment resultiert daraus zu\n",
    "m_SC2_com_B = (a_s * sigma_1_s_com_SC2 * z_com_A).to(un.kNm/un.m)\n",
    "\n",
    "\n",
    "put_out(symbolic=True)"
   ]
  },
  {
   "cell_type": "code",
   "execution_count": 80,
   "metadata": {},
   "outputs": [
    {
     "data": {
      "text/markdown": [
       "$$\n",
       "\\begin{aligned}\n",
       "q_{SC2}& = b_{w} \\cdot \\left(\\frac{2 \\cdot m_{SC2 , F} + 4 \\cdot m_{y , C}}{l^{2}} + \\frac{4 \\cdot \\sqrt{m_{SC2 , B} \\cdot m_{SC2 , F} + m_{SC2 , F}^{2}}}{l^{2}}\\right) = 17.88 \\ \\frac{\\mathrm{kN}}{\\mathrm{m}} \\end{aligned}\n",
       "$$"
      ],
      "text/plain": [
       "<IPython.core.display.Markdown object>"
      ]
     },
     "metadata": {},
     "output_type": "display_data"
    }
   ],
   "source": [
    "\n",
    "# Streckenlast Fliessen im Feld, verfestigend über dem Auflager\n",
    "q_SC2 = (((4 * m_y_com_C + 2 * m_SC2_com_F) / l**2 + 4 / l**2 * np.sqrt(m_SC2_com_F**2 + m_SC2_com_F * m_SC2_com_B)) * b_w).to(un.kN/un.m)\n",
    "put_out(symbolic=True, rows=1)"
   ]
  },
  {
   "cell_type": "markdown",
   "metadata": {},
   "source": [
    "Dabei wird nun kontrolliert, ob das Rotationsvermögen ausreichend ist für den Rotationsbedarf. Der Rotationsbedarf beträgt dabei:"
   ]
  },
  {
   "cell_type": "code",
   "execution_count": 81,
   "metadata": {},
   "outputs": [
    {
     "data": {
      "text/markdown": [
       "$$\n",
       "\\begin{aligned}\n",
       "\\alpha_{SC2}& = \\frac{l^{3} \\cdot \\left(- q_{SC1} + q_{SC2}\\right)}{24 \\cdot EI_{II , C}} - \\frac{b_{w} \\cdot l \\cdot \\left(m_{SC2 , B} - m_{SC2 , F}\\right)}{3 \\cdot EI_{II , C}} = 0.74 \\ \\mathrm{°} \\\\ \n",
       "\\Theta_{SC2 , erf}& = 2 \\cdot \\alpha_{SC2} = 1.47 \\ \\mathrm{°} \\\\ \n",
       "\\Delta_{\\Theta SC3}& = \\Theta_{SC2 , erf} - \\Theta_{SC2 , pl} = -0.04 \\ \\mathrm{°} \\end{aligned}\n",
       "$$"
      ],
      "text/plain": [
       "<IPython.core.display.Markdown object>"
      ]
     },
     "metadata": {},
     "output_type": "display_data"
    }
   ],
   "source": [
    "# Kontrolle des Verformungsbedarfs\n",
    "alpha_SC2 = ((q_SC2 - q_SC1) * l**3 / (24 * EI_II_com_C)- (m_SC2_com_B - m_SC2_com_F)  * l*b_w / (3 * EI_II_com_C)).to(un.deg)\n",
    "\n",
    "# Erforderliche Rotation\n",
    "Theta_SC2_com_erf = 2 * alpha_SC2\n",
    "\n",
    "# Kontrolle ob das Verformungsvermögen gleich dem Verformungsbedarf ist\n",
    "Delta_Theta_SC3 = Theta_SC2_com_erf - Theta_SC2_com_pl\n",
    "\n",
    "put_out(symbolic=True, rows=1)"
   ]
  },
  {
   "cell_type": "markdown",
   "metadata": {},
   "source": [
    "Es ist folglich ein gültiger Zustand gefunden worden. Dies ist iterativ zu bestimmen. Die entsprechende Deformation im Feld beträgt dabei:"
   ]
  },
  {
   "cell_type": "code",
   "execution_count": 82,
   "metadata": {},
   "outputs": [
    {
     "data": {
      "text/markdown": [
       "$$\n",
       "\\begin{aligned}\n",
       "w_{SC2}& = \\frac{5 \\cdot l^{4} \\cdot q_{SC2}}{384 \\cdot EI_{II , A}} - \\frac{b_{w} \\cdot l^{2} \\cdot m_{SC2 , B}}{16 \\cdot EI_{II , A}} = 65.6 \\ \\mathrm{mm} \\quad &  \\quad &  \n",
       " \\end{aligned}\n",
       "$$"
      ],
      "text/plain": [
       "<IPython.core.display.Markdown object>"
      ]
     },
     "metadata": {},
     "output_type": "display_data"
    }
   ],
   "source": [
    "# Die Mittendurchbiegung beträgt\n",
    "w_SC2 = (5 * q_SC2 * l**4 / (384 * EI_II_com_A) - m_SC2_com_B * b_w * l**2 / (16 * EI_II_com_A)).to(un.mm)\n",
    "\n",
    "put_out(symbolic=True)"
   ]
  },
  {
   "cell_type": "markdown",
   "metadata": {},
   "source": [
    "#### Ermittlung der Traglast - Zustand $SC3$\n",
    "\n",
    "Da die maximale plastische Rotation noch nicht erreicht worden ist, lässt sich die Last weiter steigern. Dazu wird ein Zustand gesucht, welcher eine Rotation beim Mittelauflager hervorruft, welche der maximalen plastischen Rotation entspricht. Dabei werden folgende Dehnungen im Risselement angenommen:\n",
    "\n"
   ]
  },
  {
   "cell_type": "code",
   "execution_count": 83,
   "metadata": {},
   "outputs": [
    {
     "data": {
      "text/markdown": [
       "$$\n",
       "\\begin{aligned}\n",
       "\\varepsilon_{2 s , SC3}& = \\varepsilon_{sh , C} = 20 \\ \\mathrm{‰} \\\\ \n",
       "\\varepsilon_{1 s , SC3}& = \\frac{4 \\cdot s_{r} \\cdot \\tau_{b1}}{2 \\cdot E_{sh , C} \\cdot \\oslash_{x}} + \\varepsilon_{2 s , SC3} = 106.93 \\ \\mathrm{‰} \\\\ \n",
       "\\varepsilon_{m s , SC3}& = \\frac{\\varepsilon_{1 s , SC3} + \\varepsilon_{2 s , SC3}}{2} = 63.46 \\ \\mathrm{‰} \\end{aligned}\n",
       "$$"
      ],
      "text/plain": [
       "<IPython.core.display.Markdown object>"
      ]
     },
     "metadata": {},
     "output_type": "display_data"
    }
   ],
   "source": [
    "eps_2_s_com_SC3 = eps_sh_com_C\n",
    "eps_1_s_com_SC3 = eps_2_s_com_SC3 + 4 * tau_b1 * s_r / 2 / (diam_x * E_sh_com_C)\n",
    "eps_m_s_com_SC3 = (eps_2_s_com_SC3 + eps_1_s_com_SC3) / 2\n",
    "\n",
    "put_out(symbolic=True, rows=1)"
   ]
  },
  {
   "cell_type": "markdown",
   "metadata": {},
   "source": [
    "Dabei stellen sich folgende Spannungen ein:"
   ]
  },
  {
   "cell_type": "code",
   "execution_count": 84,
   "metadata": {},
   "outputs": [
    {
     "data": {
      "text/markdown": [
       "$$\n",
       "\\begin{aligned}\n",
       "\\sigma_{1 s , SC3}& = E_{sh , C} \\cdot \\left(\\varepsilon_{1 s , SC3} - \\varepsilon_{2 s , SC3}\\right) + f_{sy , C} = 582.76 \\ \\frac{\\mathrm{N}}{\\mathrm{mm}^{2}} \\\\ \n",
       "\\sigma_{2 s , SC3}& = f_{sy , C} = 500.0 \\ \\frac{\\mathrm{N}}{\\mathrm{mm}^{2}} \\end{aligned}\n",
       "$$"
      ],
      "text/plain": [
       "<IPython.core.display.Markdown object>"
      ]
     },
     "metadata": {},
     "output_type": "display_data"
    }
   ],
   "source": [
    "\n",
    "sigma_1_s_com_SC3 = ((eps_1_s_com_SC3 - eps_2_s_com_SC3) * E_sh_com_C + f_sy_com_C).to(un.N/un.mm**2)\n",
    "sigma_2_s_com_SC3 = (f_sy_com_C).to(un.N/un.mm**2)\n",
    "put_out(symbolic=True, rows=1)"
   ]
  },
  {
   "cell_type": "markdown",
   "metadata": {},
   "source": [
    "Dargestellt ist dies in der @fig-jag_zustand_sc3."
   ]
  },
  {
   "cell_type": "code",
   "execution_count": 85,
   "metadata": {},
   "outputs": [],
   "source": [
    "# | echo: false\n",
    "\n",
    "coords_sc3_stress = [\n",
    "    (0, 0),\n",
    "    (s_r.m / 2, 0),\n",
    "    (s_r.m / 2, sigma_2_s_com_SC3.m),\n",
    "    (0, sigma_1_s_com_SC3.m),\n",
    "]\n",
    "\n",
    "plot_stress_strain(coords_sc3_stress, \"imgs/jag_stress_sc3.svg\", stress=True)\n",
    "\n",
    "\n",
    "coords_sc3_strain = [\n",
    "    (0, 0),\n",
    "    (s_r.m / 2, 0),\n",
    "    (s_r.m / 2, eps_2_s_com_SC3),\n",
    "    (0, eps_1_s_com_SC3),\n",
    "]\n",
    "\n",
    "plot_stress_strain(coords_sc3_strain, \"imgs/jag_strain_sc3.svg\", strain=True, strain_mean=eps_m_s_com_SC3.m)"
   ]
  },
  {
   "cell_type": "markdown",
   "metadata": {},
   "source": [
    "::: {#fig-jag_zustand_sc3 layout-ncol=2}\n",
    "![Spannungsverlauf entlang des Zugglieds auf halbem Rissabstand](../imgs/jag_stress_sc3.svg){#fig-jag_stress_sc3}\n",
    "\n",
    "![Dehnungsverlauf entlang des Zugglieds auf halbem Rissabstand](../imgs/jag_strain_sc3.svg){#fig-jag_strain_sc3}\n",
    "\n",
    "Spannungs- und Dehnungsverlauf entlang der Hälfte des Rissabstands für die Traglast\n",
    ":::"
   ]
  },
  {
   "cell_type": "markdown",
   "metadata": {},
   "source": [
    "Mit der gewählten Rotation stellt sich das folgende Feldmoment ein:"
   ]
  },
  {
   "cell_type": "code",
   "execution_count": 86,
   "metadata": {},
   "outputs": [
    {
     "data": {
      "text/markdown": [
       "$$\n",
       "\\begin{aligned}\n",
       "m_{SC3 , F}& = a_{s} \\cdot \\sigma_{1 s , SC3} \\cdot z_{, C} = 113.62 \\ \\frac{\\mathrm{kNm}}{\\mathrm{m}} \\\\ \n",
       "m_{SC3 , B}& = m_{u , C} = 114.28 \\ \\frac{\\mathrm{kNm}}{\\mathrm{m}} \\end{aligned}\n",
       "$$"
      ],
      "text/plain": [
       "<IPython.core.display.Markdown object>"
      ]
     },
     "metadata": {},
     "output_type": "display_data"
    }
   ],
   "source": [
    "m_SC3_com_F = (a_s * sigma_1_s_com_SC3 * z_com_C).to(un.kNm/un.m)\n",
    "\n",
    "m_SC3_com_B = m_u_com_C\n",
    "put_out(symbolic=True, rows = 1)\n"
   ]
  },
  {
   "cell_type": "markdown",
   "metadata": {},
   "source": [
    "Und die dazu entsprechende Streckenlast:"
   ]
  },
  {
   "cell_type": "code",
   "execution_count": 87,
   "metadata": {},
   "outputs": [
    {
     "data": {
      "text/markdown": [
       "$$\n",
       "\\begin{aligned}\n",
       "q_{SC3}& = b_{w} \\cdot \\left(\\frac{4 \\cdot m_{SC3 , F} + 2 \\cdot m_{u , C}}{l^{2}} + \\frac{4 \\cdot \\sqrt{m_{SC3 , F}^{2} + m_{SC3 , F} \\cdot m_{u , C}}}{l^{2}}\\right) = 20.73 \\ \\frac{\\mathrm{kN}}{\\mathrm{m}} \\quad &  \\quad &  \n",
       " \\end{aligned}\n",
       "$$"
      ],
      "text/plain": [
       "<IPython.core.display.Markdown object>"
      ]
     },
     "metadata": {},
     "output_type": "display_data"
    }
   ],
   "source": [
    "\n",
    "# Streckenlast Fliessen im Feld, verfestigend über dem Auflager\n",
    "q_SC3 = (((4 * m_SC3_com_F + 2 * m_u_com_C) / l**2 + 4 / l**2 * np.sqrt(m_SC3_com_F**2 + m_SC3_com_F * m_u_com_C)) * b_w).to(un.kN/un.m)\n",
    "\n",
    "put_out(symbolic=True)\n"
   ]
  },
  {
   "cell_type": "markdown",
   "metadata": {},
   "source": [
    "Dabei ist nun die plastische Rotation im Feld zu kontrollieren. Dabei ist die Lage des Gelenks abzuschätzen. Dabei entspricht $w$ der plastischen Rotation, welche kleiner als das Rotationsvermögen sein muss.\n",
    "\n",
    "![Annahme für die Lage des Gelenks im Feld](../imgs/jag_plast_feld_C.svg){#fig-jag_plast_feld_C}"
   ]
  },
  {
   "cell_type": "markdown",
   "metadata": {},
   "source": [
    "Dabei stellt sich die folgende plastische Rotation im Feld ein:"
   ]
  },
  {
   "cell_type": "code",
   "execution_count": 88,
   "metadata": {},
   "outputs": [
    {
     "data": {
      "text/markdown": [
       "$$\n",
       "\\begin{aligned}\n",
       "\\Theta_{SC3 , F}& = \\frac{l_{pl} \\cdot \\left(- \\varepsilon_{m s , C1} + \\varepsilon_{m s , SC3}\\right)}{d_{x} - x_{u , A}} = 7.56 \\ \\mathrm{°} \\quad &  \\quad &  \n",
       " \\end{aligned}\n",
       "$$"
      ],
      "text/plain": [
       "<IPython.core.display.Markdown object>"
      ]
     },
     "metadata": {},
     "output_type": "display_data"
    }
   ],
   "source": [
    "\n",
    "# Plastische rotation im Feld\n",
    "Theta_SC3_com_F = (l_pl * (eps_m_s_com_SC3 - eps_m_s_com_C1) / (d_x - x_u_com_A)).to(un.deg)\n",
    "\n",
    "put_out(symbolic=True)"
   ]
  },
  {
   "cell_type": "markdown",
   "metadata": {},
   "source": [
    "Und beim Mittelauflager muss die folgende Rotation verfügbar sein:"
   ]
  },
  {
   "cell_type": "code",
   "execution_count": 89,
   "metadata": {},
   "outputs": [
    {
     "data": {
      "text/markdown": [
       "$$\n",
       "\\begin{aligned}\n",
       "\\alpha_{SC3}& = 0.414 \\cdot \\Theta_{SC3 , F} + \\frac{l^{3} \\cdot q_{SC3}}{24 \\cdot EI_{II , A}} - \\frac{b_{w} \\cdot l \\cdot m_{u , C}}{3 \\cdot EI_{II , A}} = 4.09 \\ \\mathrm{°} \\\\ \n",
       "\\Theta_{SC3 , erf}& = 2 \\cdot \\alpha_{SC3} = 8.18 \\ \\mathrm{°} \\end{aligned}\n",
       "$$"
      ],
      "text/plain": [
       "<IPython.core.display.Markdown object>"
      ]
     },
     "metadata": {},
     "output_type": "display_data"
    }
   ],
   "source": [
    "# Kontrolle des Verformungsbedarfs\n",
    "alpha_SC3 = (q_SC3 * l**3 / (24 * EI_II_com_A)- (m_u_com_C) * b_w * l / (3 * EI_II_com_A)+ 0.414 * Theta_SC3_com_F).to(un.deg)\n",
    "\n",
    "# Erforderliche Rotation\n",
    "Theta_SC3_com_erf = 2 * alpha_SC3\n",
    "\n",
    "\n",
    "put_out(symbolic=True, rows = 1)"
   ]
  },
  {
   "cell_type": "markdown",
   "metadata": {},
   "source": [
    "Welche mit der maximalen plastischen Rotation zu vergleichen ist."
   ]
  },
  {
   "cell_type": "code",
   "execution_count": 90,
   "metadata": {},
   "outputs": [
    {
     "data": {
      "text/markdown": [
       "$$\n",
       "\\begin{aligned}\n",
       "\\Theta_{max , C}& = \\frac{l_{pl} \\cdot \\left(- \\varepsilon_{m s , C1} + \\varepsilon_{m s , adm}\\right)}{d_{x} - x_{u , C}} = 8.01 \\ \\mathrm{°} \\\\ \n",
       "\\Delta_{\\Theta SC3}& = \\Theta_{SC3 , erf} - \\Theta_{max , C} = 0.17 \\ \\mathrm{°} \\end{aligned}\n",
       "$$"
      ],
      "text/plain": [
       "<IPython.core.display.Markdown object>"
      ]
     },
     "metadata": {},
     "output_type": "display_data"
    }
   ],
   "source": [
    "# Kontrolle ob das Verformungsvermögen gleich dem Verformungsbedarf ist\n",
    "\n",
    "Theta_max_com_C\n",
    "Delta_Theta_SC3 = Theta_SC3_com_erf - Theta_max_com_C\n",
    "\n",
    "put_out(symbolic=True, rows = 1)"
   ]
  },
  {
   "cell_type": "markdown",
   "metadata": {},
   "source": [
    "Die erforderliche Rotation des Mittelauflagers ist in etwa gleich dem Rotationsvermögen. Abschliessend stellt sich die folgende Feldverformung ein:"
   ]
  },
  {
   "cell_type": "code",
   "execution_count": 91,
   "metadata": {},
   "outputs": [
    {
     "data": {
      "text/markdown": [
       "$$\n",
       "\\begin{aligned}\n",
       "w_{SC3}& = \\frac{0.414 \\cdot \\Theta_{SC3 , F} \\cdot l}{2} + \\frac{5 \\cdot l^{4} \\cdot q_{SC3}}{384 \\cdot EI_{II , C}} - \\frac{b_{w} \\cdot l^{2} \\cdot m_{u , C}}{16 \\cdot EI_{II , A}} = 297.33 \\ \\mathrm{mm} \\quad &  \\quad &  \n",
       " \\end{aligned}\n",
       "$$"
      ],
      "text/plain": [
       "<IPython.core.display.Markdown object>"
      ]
     },
     "metadata": {},
     "output_type": "display_data"
    }
   ],
   "source": [
    "# Die Mittendurchbiegung beträgt\n",
    "w_SC3 = (5 * q_SC3 * l**4 / (384 * EI_II_com_C)- m_u_com_C * b_w * l**2 / (16 * EI_II_com_A)+ 0.414 * Theta_SC3_com_F * l / 2).to(un.mm)\n",
    "\n",
    "put_out(symbolic=True, evaluate=False)"
   ]
  },
  {
   "cell_type": "markdown",
   "metadata": {},
   "source": [
    "#### Zusammenfassung"
   ]
  },
  {
   "cell_type": "code",
   "execution_count": 92,
   "metadata": {},
   "outputs": [
    {
     "data": {
      "text/markdown": [
       "$$\n",
       "\\begin{aligned}\n",
       "q_{SC1}& = 12.19 \\ \\frac{\\mathrm{kN}}{\\mathrm{m}} \\quad & w_{SC1}& = 31.55 \\ \\mathrm{mm} \\quad & m_{SC1 , B}& = 97.48 \\ \\frac{\\mathrm{kNm}}{\\mathrm{m}} \\\\ \n",
       "q_{SC2}& = 17.88 \\ \\frac{\\mathrm{kN}}{\\mathrm{m}} \\quad & w_{SC2}& = 65.6 \\ \\mathrm{mm} \\quad & m_{SC2 , B}& = 103.33 \\ \\frac{\\mathrm{kNm}}{\\mathrm{m}} \\\\ \n",
       "q_{SC3}& = 20.73 \\ \\frac{\\mathrm{kN}}{\\mathrm{m}} \\quad & w_{SC3}& = 297.33 \\ \\mathrm{mm} \\quad & m_{SC3 , F}& = 113.62 \\ \\frac{\\mathrm{kNm}}{\\mathrm{m}} \\end{aligned}\n",
       "$$"
      ],
      "text/plain": [
       "<IPython.core.display.Markdown object>"
      ]
     },
     "metadata": {},
     "output_type": "display_data"
    }
   ],
   "source": [
    "q_SC1\n",
    "w_SC1\n",
    "m_SC1_com_B\n",
    "\n",
    "q_SC2\n",
    "w_SC2\n",
    "m_SC2_com_B\n",
    "\n",
    "\n",
    "q_SC3\n",
    "w_SC3\n",
    "m_SC3_com_F\n",
    "\n",
    "\n",
    "\n",
    "put_out()"
   ]
  },
  {
   "cell_type": "markdown",
   "metadata": {},
   "source": [
    "### Federmodell"
   ]
  },
  {
   "cell_type": "markdown",
   "metadata": {},
   "source": [
    "#### Momenten-Krümmungs-Beziehung"
   ]
  },
  {
   "cell_type": "markdown",
   "metadata": {},
   "source": [
    "Dabei lassen sich die folgenden Krümmungen bestimmen:"
   ]
  },
  {
   "cell_type": "code",
   "execution_count": 93,
   "metadata": {},
   "outputs": [
    {
     "data": {
      "text/markdown": [
       "$$\n",
       "\\begin{aligned}\n",
       "\\chi_{y , C}& = \\frac{b_{w} \\cdot m_{y , C}}{EI_{II , C}} = 0.0118 \\ \\frac{1}{\\mathrm{m}} \\\\ \n",
       "\\chi_{sh , C}& = \\frac{\\varepsilon_{sh , C}}{d_{x} - x_{u , C}} = 0.0823 \\ \\frac{1}{\\mathrm{m}} \\\\ \n",
       "\\chi_{u , C}& = \\frac{\\varepsilon_{1 s , C2}}{d_{x} - x_{u , C}} = 0.455 \\ \\frac{1}{\\mathrm{m}} \\end{aligned}\n",
       "$$"
      ],
      "text/plain": [
       "<IPython.core.display.Markdown object>"
      ]
     },
     "metadata": {},
     "output_type": "display_data"
    }
   ],
   "source": [
    "chi_y_com_C = (m_y_com_C*b_w / EI_II_com_C).to(1/un.m)\n",
    "chi_sh_com_C = (eps_sh_com_C / (d_x - x_u_com_C)).to(1/un.m)\n",
    "chi_u_com_C = (eps_1_s_com_C2 / (d_x - x_u_com_C)).to(1/un.m)\n",
    "\n",
    "put_out(symbolic=True, rows=1, precision=4)"
   ]
  },
  {
   "cell_type": "markdown",
   "metadata": {},
   "source": [
    "Mit den entsprechenden Biegemomenten:"
   ]
  },
  {
   "cell_type": "code",
   "execution_count": 94,
   "metadata": {},
   "outputs": [
    {
     "data": {
      "text/markdown": [
       "$$\n",
       "\\begin{aligned}\n",
       "m_{y , C}& = a_{s} \\cdot f_{sy , C} \\cdot z_{, C} = 97.48 \\ \\frac{\\mathrm{kNm}}{\\mathrm{m}} \\\\ \n",
       "m_{u , C}& = a_{s} \\cdot \\sigma_{1 s , C2} \\cdot z_{, C} = 114.28 \\ \\frac{\\mathrm{kNm}}{\\mathrm{m}} \\end{aligned}\n",
       "$$"
      ],
      "text/plain": [
       "<IPython.core.display.Markdown object>"
      ]
     },
     "metadata": {},
     "output_type": "display_data"
    }
   ],
   "source": [
    "\n",
    "m_y_com_C\n",
    "m_u_com_C\n",
    "\n",
    "put_out(symbolic=True, rows = 1)"
   ]
  },
  {
   "cell_type": "markdown",
   "metadata": {},
   "source": [
    "Aufgezeigt ist die Momenten-Krümmungs-Beziehung in der @fig-jag_m_chi_b500c."
   ]
  },
  {
   "cell_type": "code",
   "execution_count": 95,
   "metadata": {},
   "outputs": [],
   "source": [
    "momente_b500c = np.array([0, m_y_com_C.m, m_y_com_C.m, m_u_com_C.m])\n",
    "\n",
    "chi_b500c = np.array([0, chi_y_com_C.m, chi_sh_com_C.m, chi_u_com_C.m])\n",
    "\n",
    "\n",
    "fig_m_chi_b500c, ax_m_chi_b500c = plt.subplots()\n",
    "\n",
    "\n",
    "ax_m_chi_b500c.plot(chi_b500c, momente_b500c, color='black')\n",
    "\n",
    "# Add labels and show the plot\n",
    "ax_m_chi_b500c.set_ylabel(\"$M$ [kNm]\")\n",
    "ax_m_chi_b500c.set_xlabel(\"$\\chi$ [1/m]\")\n",
    "\n",
    "# Save the plot to the specified file\n",
    "plt.savefig(\"imgs/jag_m_chi_b500c.svg\")\n",
    "plt.close()"
   ]
  },
  {
   "cell_type": "markdown",
   "metadata": {},
   "source": [
    "![Momenten-Krümmungs-Beziehung approximiert mit punktueller Querschnittsanalyse für den Betonstahl B500C](../imgs/jag_m_chi_b500c.svg){#fig-jag_m_chi_b500c}\n"
   ]
  },
  {
   "cell_type": "markdown",
   "metadata": {},
   "source": [
    "#### Modellierung\n",
    "\n",
    "Die Elementlänge der starren Stäbe im Federmodell betragen:"
   ]
  },
  {
   "cell_type": "code",
   "execution_count": 96,
   "metadata": {},
   "outputs": [
    {
     "data": {
      "text/markdown": [
       "$$\n",
       "\\begin{aligned}\n",
       "l_{El}& = 0.1 \\ \\mathrm{m} \\quad & n_{gelenk}& = 2 \\quad &  \n",
       " \\end{aligned}\n",
       "$$"
      ],
      "text/plain": [
       "<IPython.core.display.Markdown object>"
      ]
     },
     "metadata": {},
     "output_type": "display_data"
    }
   ],
   "source": [
    "l_El = 0.1*un.m\n",
    "n_gelenk = 2\n",
    "put_out()\n"
   ]
  },
  {
   "cell_type": "markdown",
   "metadata": {},
   "source": [
    "Damit lassen sich die Grenzpunkte der Krümmung in eine Verdrehung umrechnen:"
   ]
  },
  {
   "cell_type": "code",
   "execution_count": 97,
   "metadata": {},
   "outputs": [
    {
     "data": {
      "text/markdown": [
       "$$\n",
       "\\begin{aligned}\n",
       "\\Theta_{max , C}& = 8.01 \\ \\mathrm{°} \\quad &  \\quad &  \n",
       " \\end{aligned}\n",
       "$$"
      ],
      "text/plain": [
       "<IPython.core.display.Markdown object>"
      ]
     },
     "metadata": {},
     "output_type": "display_data"
    }
   ],
   "source": [
    "Theta_max_com_C\n",
    "\n",
    "put_out()"
   ]
  },
  {
   "cell_type": "code",
   "execution_count": 98,
   "metadata": {},
   "outputs": [
    {
     "data": {
      "text/markdown": [
       "$$\n",
       "\\begin{aligned}\n",
       "\\Theta_{y , C}& = \\frac{\\chi_{y , C} \\cdot l_{El}}{n_{gelenk}} = 0.0005916 \\ \\mathrm{rad} \\\\ \n",
       "\\Theta_{sh , C}& = \\frac{\\chi_{sh , C} \\cdot l_{El}}{n_{gelenk}} = 0.0041171 \\ \\mathrm{rad} \\\\ \n",
       "\\Theta_{u , C}& = \\frac{\\chi_{u , C} \\cdot l_{El}}{n_{gelenk}} = 0.0227516 \\ \\mathrm{rad} \\\\ \n",
       "\\Theta_{max , gelenk , C}& = \\frac{\\Theta_{max , C}}{n_{gelenk}} = 0.0698711 \\ \\mathrm{rad} \\end{aligned}\n",
       "$$"
      ],
      "text/plain": [
       "<IPython.core.display.Markdown object>"
      ]
     },
     "metadata": {},
     "output_type": "display_data"
    }
   ],
   "source": [
    "Theta_y_com_C = (chi_y_com_C * l_El/n_gelenk).to(un.rad)\n",
    "Theta_sh_com_C = (chi_sh_com_C * l_El/n_gelenk).to(un.rad)\n",
    "Theta_u_com_C = (chi_u_com_C * l_El/n_gelenk).to(un.rad)\n",
    "Theta_max_com_gelenk_com_C = Theta_max_com_C.to(un.rad)/n_gelenk\n",
    "\n",
    "put_out(symbolic=True, precision = 7, rows = 1)"
   ]
  },
  {
   "cell_type": "code",
   "execution_count": 99,
   "metadata": {},
   "outputs": [],
   "source": [
    "momente_b500c = np.array([0, m_y_com_C.m, m_y_com_C.m, m_u_com_C.m, m_u_com_C.m])\n",
    "\n",
    "phi_b500c = np.array([0, Theta_y_com_C.m, Theta_sh_com_C.m, Theta_u_com_C.m, Theta_max_com_gelenk_com_C.m])\n",
    "\n",
    "\n",
    "fig_m_phi_b500c, ax_m_phi_b500c = plt.subplots()\n",
    "\n",
    "\n",
    "ax_m_phi_b500c.plot(phi_b500c, momente_b500c, color='black')\n",
    "\n",
    "# Add labels and show the plot\n",
    "ax_m_phi_b500c.set_ylabel(\"$M$ [kNm]\")\n",
    "ax_m_phi_b500c.set_xlabel(\"$\\\\varphi$ [rad]\")\n",
    "\n",
    "# Save the plot to the specified file\n",
    "fig_m_phi_b500c.savefig(\"imgs/jag_m_phi_b500c.svg\")\n",
    "plt.close()"
   ]
  },
  {
   "cell_type": "markdown",
   "metadata": {},
   "source": [
    "![Momenten-Verdrehungs-Beziehung approximiert mit punktueller Querschnittsanalyse für den Betonstahl B500C, mit maximalem Rotationsvermögen erweitert](../imgs/jag_m_phi_b500c.svg){#fig-jag_m_phi_b500c}\n"
   ]
  },
  {
   "cell_type": "markdown",
   "metadata": {},
   "source": [
    "#### Resultate"
   ]
  },
  {
   "cell_type": "markdown",
   "metadata": {},
   "source": [
    "Abschliessend sind die Rotationen der Gelenke im Modell händisch zu kontrollieren.\n",
    "\n",
    "##### Zustand $SC1$\n",
    "\n"
   ]
  },
  {
   "cell_type": "code",
   "execution_count": 100,
   "metadata": {},
   "outputs": [
    {
     "data": {
      "text/markdown": [
       "$$\n",
       "\\begin{aligned}\n",
       "q_{SC1}& = 12.19 \\ \\frac{\\mathrm{kN}}{\\mathrm{m}} \\quad &  \\quad &  \n",
       " \\end{aligned}\n",
       "$$"
      ],
      "text/plain": [
       "<IPython.core.display.Markdown object>"
      ]
     },
     "metadata": {},
     "output_type": "display_data"
    }
   ],
   "source": [
    "q_SC1\n",
    "\n",
    "put_out()"
   ]
  },
  {
   "cell_type": "markdown",
   "metadata": {},
   "source": [
    "\n",
    "![Verlauf der Biegemomente und Deformationen für den Zustand $SA1$, dazu die Stelle des Rotationswinkels. Numerisch berechnet mit AxisVM Federmodell für den Betonstahl PLATZHALTER](../imgs/jag_fem_sa1.svg){#fig-jag_feder_my_SC1}\n",
    "\n"
   ]
  },
  {
   "cell_type": "code",
   "execution_count": 101,
   "metadata": {},
   "outputs": [
    {
     "data": {
      "text/markdown": [
       "$$\n",
       "\\begin{aligned}\n",
       "w_{SC1 , FEM}& = 32.0 \\ \\mathrm{mm} \\quad & w_{SC1}& = 31.55 \\ \\mathrm{mm} \\quad &  \n",
       " \\end{aligned}\n",
       "$$"
      ],
      "text/plain": [
       "<IPython.core.display.Markdown object>"
      ]
     },
     "metadata": {},
     "output_type": "display_data"
    }
   ],
   "source": [
    "w_SC1_com_FEM = 32.*un.mm\n",
    "w_SC1\n",
    "\n",
    "\n",
    "put_out()"
   ]
  },
  {
   "cell_type": "markdown",
   "metadata": {},
   "source": [
    "\n",
    "##### Zustand $SC2$\n"
   ]
  },
  {
   "cell_type": "code",
   "execution_count": 102,
   "metadata": {},
   "outputs": [
    {
     "data": {
      "text/markdown": [
       "$$\n",
       "\\begin{aligned}\n",
       "q_{SC2}& = 17.88 \\ \\frac{\\mathrm{kN}}{\\mathrm{m}} \\quad &  \\quad &  \n",
       " \\end{aligned}\n",
       "$$"
      ],
      "text/plain": [
       "<IPython.core.display.Markdown object>"
      ]
     },
     "metadata": {},
     "output_type": "display_data"
    }
   ],
   "source": [
    "q_SC2\n",
    "\n",
    "put_out()"
   ]
  },
  {
   "cell_type": "markdown",
   "metadata": {},
   "source": [
    "\n",
    "\n",
    "\n",
    "![Verlauf der Biegemomente und Deformationen für den Zustand $SA2$, dazu die Stelle des Rotationswinkels. Numerisch berechnet mit AxisVM Federmodell für den Betonstahl PLATZHALTER](../imgs/jag_fem_sa1.svg){#fig-jag_feder_my_SC2}\n",
    "\n",
    "\n",
    "\n"
   ]
  },
  {
   "cell_type": "code",
   "execution_count": 103,
   "metadata": {},
   "outputs": [
    {
     "data": {
      "text/markdown": [
       "$$\n",
       "\\begin{aligned}\n",
       "w_{SC2 , FEM}& = 60.0 \\ \\mathrm{mm} \\quad & w_{SC2}& = 65.6 \\ \\mathrm{mm} \\quad &  \n",
       " \\end{aligned}\n",
       "$$"
      ],
      "text/plain": [
       "<IPython.core.display.Markdown object>"
      ]
     },
     "metadata": {},
     "output_type": "display_data"
    }
   ],
   "source": [
    "w_SC2_com_FEM = 60.00*un.mm\n",
    "w_SC2\n",
    "put_out()"
   ]
  },
  {
   "cell_type": "markdown",
   "metadata": {},
   "source": [
    "\n",
    "##### Zustand $SC3$\n"
   ]
  },
  {
   "cell_type": "code",
   "execution_count": 104,
   "metadata": {},
   "outputs": [
    {
     "data": {
      "text/markdown": [
       "$$\n",
       "\\begin{aligned}\n",
       "q_{SC3}& = 20.73 \\ \\frac{\\mathrm{kN}}{\\mathrm{m}} \\quad & m_{SC3 , F}& = 113.62 \\ \\frac{\\mathrm{kNm}}{\\mathrm{m}} \\quad & m_{SC3 , B}& = 114.28 \\ \\frac{\\mathrm{kNm}}{\\mathrm{m}} \\end{aligned}\n",
       "$$"
      ],
      "text/plain": [
       "<IPython.core.display.Markdown object>"
      ]
     },
     "metadata": {},
     "output_type": "display_data"
    }
   ],
   "source": [
    "q_SC3\n",
    "m_SC3_com_F\n",
    "m_SC3_com_B\n",
    "put_out()"
   ]
  },
  {
   "cell_type": "markdown",
   "metadata": {},
   "source": [
    "\n",
    "\n",
    "\n",
    "![Verlauf der Biegemomente und Deformationen für den Zustand $SA2$, dazu die Stelle des Rotationswinkels. Numerisch berechnet mit AxisVM Federmodell für den Betonstahl PLATZHALTER](../imgs/jag_fem_sa1.svg){#fig-jag_feder_my_SC2}\n",
    "\n",
    "\n",
    "\n"
   ]
  },
  {
   "cell_type": "markdown",
   "metadata": {},
   "source": [
    "Die Lage des Gelenks:"
   ]
  },
  {
   "cell_type": "code",
   "execution_count": 105,
   "metadata": {},
   "outputs": [
    {
     "data": {
      "text/markdown": [
       "$$\n",
       "\\begin{aligned}\n",
       "x_{Gelenk , FEM}& = 3.3 \\ \\mathrm{m} \\quad & x_{Gelenk}& = 3.31 \\ \\mathrm{m} \\quad &  \n",
       " \\end{aligned}\n",
       "$$"
      ],
      "text/plain": [
       "<IPython.core.display.Markdown object>"
      ]
     },
     "metadata": {},
     "output_type": "display_data"
    }
   ],
   "source": [
    "x_Gelenk_com_FEM = 3.3*un.m\n",
    "x_Gelenk = (1 - 0.586)*l\n",
    "\n",
    "put_out()"
   ]
  },
  {
   "cell_type": "code",
   "execution_count": 106,
   "metadata": {},
   "outputs": [
    {
     "data": {
      "text/markdown": [
       "$$\n",
       "\\begin{aligned}\n",
       "q_{SC3 FEM}& = 18.9 \\ \\frac{\\mathrm{kN}}{\\mathrm{m}} \\quad & w_{SC3 FEM}& = 229.08 \\ \\mathrm{mm} \\quad & w_{SC3}& = 297.33 \\ \\mathrm{mm} \\end{aligned}\n",
       "$$"
      ],
      "text/plain": [
       "<IPython.core.display.Markdown object>"
      ]
     },
     "metadata": {},
     "output_type": "display_data"
    }
   ],
   "source": [
    "q_SC3_FEM = 18.9*un.kN/un.m\n",
    "w_SC3_FEM = 229.08*un.mm\n",
    "w_SC3\n",
    "put_out()"
   ]
  },
  {
   "cell_type": "markdown",
   "metadata": {},
   "source": [
    "## Zusammenfassung der Resultate"
   ]
  },
  {
   "cell_type": "code",
   "execution_count": 107,
   "metadata": {},
   "outputs": [],
   "source": [
    "DF_b500c_res = pd.read_excel('calc/axis_res.xlsx', sheet_name='jag_b500c')\n",
    "\n",
    "DF_b500c_res['Lpa'] = DF_b500c_res['Lpa']*19.25\n",
    "DF_b500c_res['eZ_1 [mm]'] = DF_b500c_res['eZ_1 [mm]']*-1\n",
    "\n",
    "\n",
    "\n",
    "DF_b500a_res = pd.read_excel('calc/axis_res.xlsx', sheet_name='jag_b500a')\n",
    "\n",
    "DF_b500a_res['Lpa'] = DF_b500a_res['Lpa']*16.1\n",
    "DF_b500a_res['eZ_1 [mm]'] = DF_b500a_res['eZ_1 [mm]']*-1\n",
    "\n",
    "\n"
   ]
  },
  {
   "cell_type": "code",
   "execution_count": 108,
   "metadata": {},
   "outputs": [],
   "source": [
    "w_A_array = np.array([0., w_SA1.m, w_SA3.m])\n",
    "q_A_array = np.array([0.,q_SA1.m, q_SA3.m])\n",
    "w_A_FEM_array = np.array([0.,w_SA1_com_FEM.m, w_SA3_com_FEM.m])\n",
    "\n",
    "w_C_array = np.array([0.,w_SC1.m, w_SC2.m, w_SC3.m])\n",
    "q_C_array = np.array([0.,q_SC1.m, q_SC2.m, q_SC3.m])\n",
    "q_C_FEM_array = np.array([0.,q_SC1.m, q_SC2.m, q_SC3_FEM.m])\n",
    "w_C_FEM_array = np.array([0.,w_SC1_com_FEM.m, w_SC2_com_FEM.m, w_SC3_FEM.m])"
   ]
  },
  {
   "cell_type": "code",
   "execution_count": 109,
   "metadata": {},
   "outputs": [
    {
     "data": {
      "image/svg+xml": [
       "<?xml version=\"1.0\" encoding=\"utf-8\" standalone=\"no\"?>\n",
       "<!DOCTYPE svg PUBLIC \"-//W3C//DTD SVG 1.1//EN\"\n",
       "  \"http://www.w3.org/Graphics/SVG/1.1/DTD/svg11.dtd\">\n",
       "<svg xmlns:xlink=\"http://www.w3.org/1999/xlink\" width=\"324.176766pt\" height=\"146.096794pt\" viewBox=\"0 0 324.176766 146.096794\" xmlns=\"http://www.w3.org/2000/svg\" version=\"1.1\">\n",
       " <metadata>\n",
       "  <rdf:RDF xmlns:dc=\"http://purl.org/dc/elements/1.1/\" xmlns:cc=\"http://creativecommons.org/ns#\" xmlns:rdf=\"http://www.w3.org/1999/02/22-rdf-syntax-ns#\">\n",
       "   <cc:Work>\n",
       "    <dc:type rdf:resource=\"http://purl.org/dc/dcmitype/StillImage\"/>\n",
       "    <dc:date>2024-11-26T17:40:32.686449</dc:date>\n",
       "    <dc:format>image/svg+xml</dc:format>\n",
       "    <dc:creator>\n",
       "     <cc:Agent>\n",
       "      <dc:title>Matplotlib v3.9.2, https://matplotlib.org/</dc:title>\n",
       "     </cc:Agent>\n",
       "    </dc:creator>\n",
       "   </cc:Work>\n",
       "  </rdf:RDF>\n",
       " </metadata>\n",
       " <defs>\n",
       "  <style type=\"text/css\">*{stroke-linejoin: round; stroke-linecap: butt}</style>\n",
       " </defs>\n",
       " <g id=\"figure_1\">\n",
       "  <g id=\"patch_1\">\n",
       "   <path d=\"M 0 146.096794 \n",
       "L 324.176766 146.096794 \n",
       "L 324.176766 0 \n",
       "L 0 0 \n",
       "z\n",
       "\" style=\"fill: #ffffff\"/>\n",
       "  </g>\n",
       "  <g id=\"axes_1\">\n",
       "   <g id=\"patch_2\">\n",
       "    <path d=\"M 33.131006 114.349606 \n",
       "L 310.926281 114.349606 \n",
       "L 310.926281 7.2 \n",
       "L 33.131006 7.2 \n",
       "z\n",
       "\" style=\"fill: #ffffff\"/>\n",
       "   </g>\n",
       "   <g id=\"matplotlib.axis_1\">\n",
       "    <g id=\"xtick_1\">\n",
       "     <g id=\"line2d_1\">\n",
       "      <path d=\"M 45.758064 114.349606 \n",
       "L 45.758064 7.2 \n",
       "\" clip-path=\"url(#p2fe15e656d)\" style=\"fill: none; stroke-dasharray: 0.74,0.32; stroke-dashoffset: 0; stroke: #808080; stroke-opacity: 0.7; stroke-width: 0.2\"/>\n",
       "     </g>\n",
       "     <g id=\"line2d_2\">\n",
       "      <defs>\n",
       "       <path id=\"m7d3336e430\" d=\"M 0 0 \n",
       "L 0 -3.5 \n",
       "\" style=\"stroke: #000000; stroke-width: 0.5\"/>\n",
       "      </defs>\n",
       "      <g>\n",
       "       <use xlink:href=\"#m7d3336e430\" x=\"45.758064\" y=\"114.349606\" style=\"stroke: #000000; stroke-width: 0.5\"/>\n",
       "      </g>\n",
       "     </g>\n",
       "     <g id=\"text_1\">\n",
       "      <!-- $\\mathdefault{0}$ -->\n",
       "      <g transform=\"translate(43.640972 123.384408) scale(0.08 -0.08)\">\n",
       "       <defs>\n",
       "        <path id=\"CMR17-30\" d=\"M 2688 2025 \n",
       "C 2688 2416 2682 3080 2413 3591 \n",
       "C 2176 4039 1798 4198 1466 4198 \n",
       "C 1158 4198 768 4058 525 3597 \n",
       "C 269 3118 243 2524 243 2025 \n",
       "C 243 1661 250 1106 448 619 \n",
       "C 723 -39 1216 -128 1466 -128 \n",
       "C 1760 -128 2208 -7 2470 600 \n",
       "C 2662 1042 2688 1559 2688 2025 \n",
       "z\n",
       "M 1466 -26 \n",
       "C 1056 -26 813 325 723 812 \n",
       "C 653 1188 653 1738 653 2096 \n",
       "C 653 2588 653 2997 736 3387 \n",
       "C 858 3929 1216 4096 1466 4096 \n",
       "C 1728 4096 2067 3923 2189 3400 \n",
       "C 2272 3036 2278 2607 2278 2096 \n",
       "C 2278 1680 2278 1169 2202 792 \n",
       "C 2067 95 1690 -26 1466 -26 \n",
       "z\n",
       "\" transform=\"scale(0.015625)\"/>\n",
       "       </defs>\n",
       "       <use xlink:href=\"#CMR17-30\" transform=\"scale(0.996264)\"/>\n",
       "      </g>\n",
       "     </g>\n",
       "    </g>\n",
       "    <g id=\"xtick_2\">\n",
       "     <g id=\"line2d_3\">\n",
       "      <path d=\"M 78.866492 114.349606 \n",
       "L 78.866492 7.2 \n",
       "\" clip-path=\"url(#p2fe15e656d)\" style=\"fill: none; stroke-dasharray: 0.74,0.32; stroke-dashoffset: 0; stroke: #808080; stroke-opacity: 0.7; stroke-width: 0.2\"/>\n",
       "     </g>\n",
       "     <g id=\"line2d_4\">\n",
       "      <g>\n",
       "       <use xlink:href=\"#m7d3336e430\" x=\"78.866492\" y=\"114.349606\" style=\"stroke: #000000; stroke-width: 0.5\"/>\n",
       "      </g>\n",
       "     </g>\n",
       "     <g id=\"text_2\">\n",
       "      <!-- $\\mathdefault{50}$ -->\n",
       "      <g transform=\"translate(74.632309 123.384408) scale(0.08 -0.08)\">\n",
       "       <defs>\n",
       "        <path id=\"CMR17-35\" d=\"M 730 3692 \n",
       "C 794 3666 1056 3584 1325 3584 \n",
       "C 1920 3584 2246 3911 2432 4100 \n",
       "C 2432 4157 2432 4192 2394 4192 \n",
       "C 2387 4192 2374 4192 2323 4163 \n",
       "C 2099 4058 1837 3973 1517 3973 \n",
       "C 1325 3973 1037 3999 723 4139 \n",
       "C 653 4171 640 4171 634 4171 \n",
       "C 602 4171 595 4164 595 4037 \n",
       "L 595 2203 \n",
       "C 595 2089 595 2057 659 2057 \n",
       "C 691 2057 704 2070 736 2114 \n",
       "C 941 2401 1222 2522 1542 2522 \n",
       "C 1766 2522 2246 2382 2246 1289 \n",
       "C 2246 1085 2246 715 2054 421 \n",
       "C 1894 159 1645 25 1370 25 \n",
       "C 947 25 518 320 403 814 \n",
       "C 429 807 480 795 506 795 \n",
       "C 589 795 749 840 749 1038 \n",
       "C 749 1210 627 1280 506 1280 \n",
       "C 358 1280 262 1190 262 1011 \n",
       "C 262 454 704 -128 1382 -128 \n",
       "C 2042 -128 2669 440 2669 1264 \n",
       "C 2669 2030 2170 2624 1549 2624 \n",
       "C 1222 2624 947 2503 730 2274 \n",
       "L 730 3692 \n",
       "z\n",
       "\" transform=\"scale(0.015625)\"/>\n",
       "       </defs>\n",
       "       <use xlink:href=\"#CMR17-35\" transform=\"scale(0.996264)\"/>\n",
       "       <use xlink:href=\"#CMR17-30\" transform=\"translate(45.690477 0) scale(0.996264)\"/>\n",
       "      </g>\n",
       "     </g>\n",
       "    </g>\n",
       "    <g id=\"xtick_3\">\n",
       "     <g id=\"line2d_5\">\n",
       "      <path d=\"M 111.974921 114.349606 \n",
       "L 111.974921 7.2 \n",
       "\" clip-path=\"url(#p2fe15e656d)\" style=\"fill: none; stroke-dasharray: 0.74,0.32; stroke-dashoffset: 0; stroke: #808080; stroke-opacity: 0.7; stroke-width: 0.2\"/>\n",
       "     </g>\n",
       "     <g id=\"line2d_6\">\n",
       "      <g>\n",
       "       <use xlink:href=\"#m7d3336e430\" x=\"111.974921\" y=\"114.349606\" style=\"stroke: #000000; stroke-width: 0.5\"/>\n",
       "      </g>\n",
       "     </g>\n",
       "     <g id=\"text_3\">\n",
       "      <!-- $\\mathdefault{100}$ -->\n",
       "      <g transform=\"translate(105.623646 123.384408) scale(0.08 -0.08)\">\n",
       "       <defs>\n",
       "        <path id=\"CMR17-31\" d=\"M 1702 4058 \n",
       "C 1702 4192 1696 4192 1606 4192 \n",
       "C 1357 3916 979 3827 621 3827 \n",
       "C 602 3827 570 3827 563 3808 \n",
       "C 557 3795 557 3782 557 3648 \n",
       "C 755 3648 1088 3686 1344 3839 \n",
       "L 1344 461 \n",
       "C 1344 236 1331 160 781 160 \n",
       "L 589 160 \n",
       "L 589 0 \n",
       "C 896 0 1216 0 1523 0 \n",
       "C 1830 0 2150 0 2458 0 \n",
       "L 2458 160 \n",
       "L 2266 160 \n",
       "C 1715 160 1702 230 1702 458 \n",
       "L 1702 4058 \n",
       "z\n",
       "\" transform=\"scale(0.015625)\"/>\n",
       "       </defs>\n",
       "       <use xlink:href=\"#CMR17-31\" transform=\"scale(0.996264)\"/>\n",
       "       <use xlink:href=\"#CMR17-30\" transform=\"translate(45.690477 0) scale(0.996264)\"/>\n",
       "       <use xlink:href=\"#CMR17-30\" transform=\"translate(91.380954 0) scale(0.996264)\"/>\n",
       "      </g>\n",
       "     </g>\n",
       "    </g>\n",
       "    <g id=\"xtick_4\">\n",
       "     <g id=\"line2d_7\">\n",
       "      <path d=\"M 145.083349 114.349606 \n",
       "L 145.083349 7.2 \n",
       "\" clip-path=\"url(#p2fe15e656d)\" style=\"fill: none; stroke-dasharray: 0.74,0.32; stroke-dashoffset: 0; stroke: #808080; stroke-opacity: 0.7; stroke-width: 0.2\"/>\n",
       "     </g>\n",
       "     <g id=\"line2d_8\">\n",
       "      <g>\n",
       "       <use xlink:href=\"#m7d3336e430\" x=\"145.083349\" y=\"114.349606\" style=\"stroke: #000000; stroke-width: 0.5\"/>\n",
       "      </g>\n",
       "     </g>\n",
       "     <g id=\"text_4\">\n",
       "      <!-- $\\mathdefault{150}$ -->\n",
       "      <g transform=\"translate(138.732075 123.384408) scale(0.08 -0.08)\">\n",
       "       <use xlink:href=\"#CMR17-31\" transform=\"scale(0.996264)\"/>\n",
       "       <use xlink:href=\"#CMR17-35\" transform=\"translate(45.690477 0) scale(0.996264)\"/>\n",
       "       <use xlink:href=\"#CMR17-30\" transform=\"translate(91.380954 0) scale(0.996264)\"/>\n",
       "      </g>\n",
       "     </g>\n",
       "    </g>\n",
       "    <g id=\"xtick_5\">\n",
       "     <g id=\"line2d_9\">\n",
       "      <path d=\"M 178.191778 114.349606 \n",
       "L 178.191778 7.2 \n",
       "\" clip-path=\"url(#p2fe15e656d)\" style=\"fill: none; stroke-dasharray: 0.74,0.32; stroke-dashoffset: 0; stroke: #808080; stroke-opacity: 0.7; stroke-width: 0.2\"/>\n",
       "     </g>\n",
       "     <g id=\"line2d_10\">\n",
       "      <g>\n",
       "       <use xlink:href=\"#m7d3336e430\" x=\"178.191778\" y=\"114.349606\" style=\"stroke: #000000; stroke-width: 0.5\"/>\n",
       "      </g>\n",
       "     </g>\n",
       "     <g id=\"text_5\">\n",
       "      <!-- $\\mathdefault{200}$ -->\n",
       "      <g transform=\"translate(171.840503 123.384408) scale(0.08 -0.08)\">\n",
       "       <defs>\n",
       "        <path id=\"CMR17-32\" d=\"M 2669 989 \n",
       "L 2554 989 \n",
       "C 2490 536 2438 459 2413 420 \n",
       "C 2381 369 1920 369 1830 369 \n",
       "L 602 369 \n",
       "C 832 619 1280 1072 1824 1597 \n",
       "C 2214 1967 2669 2402 2669 3035 \n",
       "C 2669 3790 2067 4224 1395 4224 \n",
       "C 691 4224 262 3604 262 3030 \n",
       "C 262 2780 448 2748 525 2748 \n",
       "C 589 2748 781 2787 781 3010 \n",
       "C 781 3207 614 3264 525 3264 \n",
       "C 486 3264 448 3258 422 3245 \n",
       "C 544 3790 915 4058 1306 4058 \n",
       "C 1862 4058 2227 3617 2227 3035 \n",
       "C 2227 2479 1901 2000 1536 1584 \n",
       "L 262 146 \n",
       "L 262 0 \n",
       "L 2515 0 \n",
       "L 2669 989 \n",
       "z\n",
       "\" transform=\"scale(0.015625)\"/>\n",
       "       </defs>\n",
       "       <use xlink:href=\"#CMR17-32\" transform=\"scale(0.996264)\"/>\n",
       "       <use xlink:href=\"#CMR17-30\" transform=\"translate(45.690477 0) scale(0.996264)\"/>\n",
       "       <use xlink:href=\"#CMR17-30\" transform=\"translate(91.380954 0) scale(0.996264)\"/>\n",
       "      </g>\n",
       "     </g>\n",
       "    </g>\n",
       "    <g id=\"xtick_6\">\n",
       "     <g id=\"line2d_11\">\n",
       "      <path d=\"M 211.300206 114.349606 \n",
       "L 211.300206 7.2 \n",
       "\" clip-path=\"url(#p2fe15e656d)\" style=\"fill: none; stroke-dasharray: 0.74,0.32; stroke-dashoffset: 0; stroke: #808080; stroke-opacity: 0.7; stroke-width: 0.2\"/>\n",
       "     </g>\n",
       "     <g id=\"line2d_12\">\n",
       "      <g>\n",
       "       <use xlink:href=\"#m7d3336e430\" x=\"211.300206\" y=\"114.349606\" style=\"stroke: #000000; stroke-width: 0.5\"/>\n",
       "      </g>\n",
       "     </g>\n",
       "     <g id=\"text_6\">\n",
       "      <!-- $\\mathdefault{250}$ -->\n",
       "      <g transform=\"translate(204.948932 123.384408) scale(0.08 -0.08)\">\n",
       "       <use xlink:href=\"#CMR17-32\" transform=\"scale(0.996264)\"/>\n",
       "       <use xlink:href=\"#CMR17-35\" transform=\"translate(45.690477 0) scale(0.996264)\"/>\n",
       "       <use xlink:href=\"#CMR17-30\" transform=\"translate(91.380954 0) scale(0.996264)\"/>\n",
       "      </g>\n",
       "     </g>\n",
       "    </g>\n",
       "    <g id=\"xtick_7\">\n",
       "     <g id=\"line2d_13\">\n",
       "      <path d=\"M 244.408634 114.349606 \n",
       "L 244.408634 7.2 \n",
       "\" clip-path=\"url(#p2fe15e656d)\" style=\"fill: none; stroke-dasharray: 0.74,0.32; stroke-dashoffset: 0; stroke: #808080; stroke-opacity: 0.7; stroke-width: 0.2\"/>\n",
       "     </g>\n",
       "     <g id=\"line2d_14\">\n",
       "      <g>\n",
       "       <use xlink:href=\"#m7d3336e430\" x=\"244.408634\" y=\"114.349606\" style=\"stroke: #000000; stroke-width: 0.5\"/>\n",
       "      </g>\n",
       "     </g>\n",
       "     <g id=\"text_7\">\n",
       "      <!-- $\\mathdefault{300}$ -->\n",
       "      <g transform=\"translate(238.05736 123.384408) scale(0.08 -0.08)\">\n",
       "       <defs>\n",
       "        <path id=\"CMR17-33\" d=\"M 1414 2157 \n",
       "C 1984 2157 2234 1662 2234 1090 \n",
       "C 2234 320 1824 25 1453 25 \n",
       "C 1114 25 563 194 390 693 \n",
       "C 422 680 454 680 486 680 \n",
       "C 640 680 755 782 755 948 \n",
       "C 755 1133 614 1216 486 1216 \n",
       "C 378 1216 211 1165 211 926 \n",
       "C 211 335 787 -128 1466 -128 \n",
       "C 2176 -128 2720 430 2720 1085 \n",
       "C 2720 1707 2208 2157 1600 2227 \n",
       "C 2086 2328 2554 2756 2554 3329 \n",
       "C 2554 3820 2048 4179 1472 4179 \n",
       "C 890 4179 378 3829 378 3329 \n",
       "C 378 3110 544 3072 627 3072 \n",
       "C 762 3072 877 3155 877 3321 \n",
       "C 877 3486 762 3569 627 3569 \n",
       "C 602 3569 570 3569 544 3557 \n",
       "C 730 3959 1235 4032 1459 4032 \n",
       "C 1683 4032 2106 3925 2106 3320 \n",
       "C 2106 3143 2080 2828 1862 2550 \n",
       "C 1670 2304 1453 2304 1242 2284 \n",
       "C 1210 2284 1062 2269 1037 2269 \n",
       "C 992 2263 966 2257 966 2208 \n",
       "C 966 2163 973 2157 1101 2157 \n",
       "L 1414 2157 \n",
       "z\n",
       "\" transform=\"scale(0.015625)\"/>\n",
       "       </defs>\n",
       "       <use xlink:href=\"#CMR17-33\" transform=\"scale(0.996264)\"/>\n",
       "       <use xlink:href=\"#CMR17-30\" transform=\"translate(45.690477 0) scale(0.996264)\"/>\n",
       "       <use xlink:href=\"#CMR17-30\" transform=\"translate(91.380954 0) scale(0.996264)\"/>\n",
       "      </g>\n",
       "     </g>\n",
       "    </g>\n",
       "    <g id=\"xtick_8\">\n",
       "     <g id=\"line2d_15\">\n",
       "      <path d=\"M 277.517063 114.349606 \n",
       "L 277.517063 7.2 \n",
       "\" clip-path=\"url(#p2fe15e656d)\" style=\"fill: none; stroke-dasharray: 0.74,0.32; stroke-dashoffset: 0; stroke: #808080; stroke-opacity: 0.7; stroke-width: 0.2\"/>\n",
       "     </g>\n",
       "     <g id=\"line2d_16\">\n",
       "      <g>\n",
       "       <use xlink:href=\"#m7d3336e430\" x=\"277.517063\" y=\"114.349606\" style=\"stroke: #000000; stroke-width: 0.5\"/>\n",
       "      </g>\n",
       "     </g>\n",
       "     <g id=\"text_8\">\n",
       "      <!-- $\\mathdefault{350}$ -->\n",
       "      <g transform=\"translate(271.165789 123.384408) scale(0.08 -0.08)\">\n",
       "       <use xlink:href=\"#CMR17-33\" transform=\"scale(0.996264)\"/>\n",
       "       <use xlink:href=\"#CMR17-35\" transform=\"translate(45.690477 0) scale(0.996264)\"/>\n",
       "       <use xlink:href=\"#CMR17-30\" transform=\"translate(91.380954 0) scale(0.996264)\"/>\n",
       "      </g>\n",
       "     </g>\n",
       "    </g>\n",
       "    <g id=\"xtick_9\">\n",
       "     <g id=\"line2d_17\">\n",
       "      <path d=\"M 310.625491 114.349606 \n",
       "L 310.625491 7.2 \n",
       "\" clip-path=\"url(#p2fe15e656d)\" style=\"fill: none; stroke-dasharray: 0.74,0.32; stroke-dashoffset: 0; stroke: #808080; stroke-opacity: 0.7; stroke-width: 0.2\"/>\n",
       "     </g>\n",
       "     <g id=\"line2d_18\">\n",
       "      <g>\n",
       "       <use xlink:href=\"#m7d3336e430\" x=\"310.625491\" y=\"114.349606\" style=\"stroke: #000000; stroke-width: 0.5\"/>\n",
       "      </g>\n",
       "     </g>\n",
       "     <g id=\"text_9\">\n",
       "      <!-- $\\mathdefault{400}$ -->\n",
       "      <g transform=\"translate(304.274217 123.384408) scale(0.08 -0.08)\">\n",
       "       <defs>\n",
       "        <path id=\"CMR17-34\" d=\"M 2150 4122 \n",
       "C 2150 4256 2144 4256 2029 4256 \n",
       "L 128 1254 \n",
       "L 128 1088 \n",
       "L 1779 1088 \n",
       "L 1779 457 \n",
       "C 1779 224 1766 160 1318 160 \n",
       "L 1197 160 \n",
       "L 1197 0 \n",
       "C 1402 0 1747 0 1965 0 \n",
       "C 2182 0 2528 0 2733 0 \n",
       "L 2733 160 \n",
       "L 2611 160 \n",
       "C 2163 160 2150 224 2150 457 \n",
       "L 2150 1088 \n",
       "L 2803 1088 \n",
       "L 2803 1254 \n",
       "L 2150 1254 \n",
       "L 2150 4122 \n",
       "z\n",
       "M 1798 3703 \n",
       "L 1798 1254 \n",
       "L 256 1254 \n",
       "L 1798 3703 \n",
       "z\n",
       "\" transform=\"scale(0.015625)\"/>\n",
       "       </defs>\n",
       "       <use xlink:href=\"#CMR17-34\" transform=\"scale(0.996264)\"/>\n",
       "       <use xlink:href=\"#CMR17-30\" transform=\"translate(45.690477 0) scale(0.996264)\"/>\n",
       "       <use xlink:href=\"#CMR17-30\" transform=\"translate(91.380954 0) scale(0.996264)\"/>\n",
       "      </g>\n",
       "     </g>\n",
       "    </g>\n",
       "    <g id=\"text_10\">\n",
       "     <!-- $w$ [m] -->\n",
       "     <g transform=\"translate(159.749434 136.406134) scale(0.1 -0.1)\">\n",
       "      <defs>\n",
       "       <path id=\"CMMI12-77\" d=\"M 2202 390 \n",
       "C 2342 6 2739 -64 2982 -64 \n",
       "C 3469 -64 3757 358 3936 798 \n",
       "C 4083 1169 4320 2012 4320 2389 \n",
       "C 4320 2778 4122 2816 4064 2816 \n",
       "C 3910 2816 3770 2663 3770 2535 \n",
       "C 3770 2459 3814 2414 3846 2389 \n",
       "C 3904 2331 4070 2159 4070 1827 \n",
       "C 4070 1609 3891 1009 3757 709 \n",
       "C 3578 319 3341 64 3008 64 \n",
       "C 2650 64 2534 332 2534 626 \n",
       "C 2534 811 2592 1035 2618 1143 \n",
       "L 2886 2216 \n",
       "C 2918 2344 2976 2567 2976 2593 \n",
       "C 2976 2689 2899 2753 2803 2753 \n",
       "C 2618 2753 2573 2593 2534 2440 \n",
       "C 2470 2191 2202 1111 2176 971 \n",
       "C 2150 862 2150 792 2150 651 \n",
       "C 2150 498 1946 255 1939 243 \n",
       "C 1869 172 1766 64 1568 64 \n",
       "C 1062 64 1062 543 1062 651 \n",
       "C 1062 856 1107 1137 1395 1897 \n",
       "C 1472 2095 1504 2178 1504 2305 \n",
       "C 1504 2574 1312 2816 998 2816 \n",
       "C 410 2816 173 1890 173 1839 \n",
       "C 173 1814 198 1782 243 1782 \n",
       "C 301 1782 307 1807 333 1896 \n",
       "C 493 2454 742 2682 979 2682 \n",
       "C 1043 2682 1146 2682 1146 2478 \n",
       "C 1146 2446 1146 2312 1037 2031 \n",
       "C 736 1233 672 971 672 728 \n",
       "C 672 57 1222 -64 1549 -64 \n",
       "C 1658 -64 1946 -64 2202 390 \n",
       "z\n",
       "\" transform=\"scale(0.015625)\"/>\n",
       "       <path id=\"CMR17-5b\" d=\"M 1504 -1600 \n",
       "L 1504 -1377 \n",
       "L 902 -1377 \n",
       "L 902 4544 \n",
       "L 1504 4544 \n",
       "L 1504 4767 \n",
       "L 678 4767 \n",
       "L 678 -1600 \n",
       "L 1504 -1600 \n",
       "z\n",
       "\" transform=\"scale(0.015625)\"/>\n",
       "       <path id=\"CMR17-6d\" d=\"M 4326 1933 \n",
       "C 4326 2252 4269 2790 3507 2790 \n",
       "C 3072 2790 2771 2496 2656 2151 \n",
       "L 2650 2151 \n",
       "C 2573 2676 2195 2790 1837 2790 \n",
       "C 1331 2790 1069 2400 973 2144 \n",
       "L 966 2144 \n",
       "L 966 2790 \n",
       "L 211 2720 \n",
       "L 211 2554 \n",
       "C 589 2554 646 2515 646 2208 \n",
       "L 646 428 \n",
       "C 646 184 621 153 211 153 \n",
       "L 211 -13 \n",
       "C 365 0 646 0 813 0 \n",
       "C 979 0 1267 0 1421 -13 \n",
       "L 1421 153 \n",
       "C 1011 153 986 178 986 428 \n",
       "L 986 1658 \n",
       "C 986 2247 1344 2688 1792 2688 \n",
       "C 2266 2688 2317 2266 2317 1958 \n",
       "L 2317 428 \n",
       "C 2317 184 2291 153 1882 153 \n",
       "L 1882 -13 \n",
       "C 2035 0 2317 0 2483 0 \n",
       "C 2650 0 2938 0 3091 -13 \n",
       "L 3091 153 \n",
       "C 2682 153 2656 178 2656 428 \n",
       "L 2656 1658 \n",
       "C 2656 2247 3014 2688 3462 2688 \n",
       "C 3936 2688 3987 2266 3987 1958 \n",
       "L 3987 428 \n",
       "C 3987 184 3962 153 3552 153 \n",
       "L 3552 -13 \n",
       "C 3706 0 3987 0 4154 0 \n",
       "C 4320 0 4608 0 4762 -13 \n",
       "L 4762 153 \n",
       "C 4352 153 4326 178 4326 428 \n",
       "L 4326 1933 \n",
       "z\n",
       "\" transform=\"scale(0.015625)\"/>\n",
       "       <path id=\"CMR17-5d\" d=\"M 915 4767 \n",
       "L 90 4767 \n",
       "L 90 4544 \n",
       "L 691 4544 \n",
       "L 691 -1377 \n",
       "L 90 -1377 \n",
       "L 90 -1600 \n",
       "L 915 -1600 \n",
       "L 915 4767 \n",
       "z\n",
       "\" transform=\"scale(0.015625)\"/>\n",
       "      </defs>\n",
       "      <use xlink:href=\"#CMMI12-77\" transform=\"scale(0.996264)\"/>\n",
       "      <use xlink:href=\"#CMR17-5b\" transform=\"translate(102.488881 0) scale(0.996264)\"/>\n",
       "      <use xlink:href=\"#CMR17-6d\" transform=\"translate(127.35994 0) scale(0.996264)\"/>\n",
       "      <use xlink:href=\"#CMR17-5d\" transform=\"translate(204.27953 0) scale(0.996264)\"/>\n",
       "     </g>\n",
       "    </g>\n",
       "   </g>\n",
       "   <g id=\"matplotlib.axis_2\">\n",
       "    <g id=\"ytick_1\">\n",
       "     <g id=\"line2d_19\">\n",
       "      <path d=\"M 33.131006 109.47917 \n",
       "L 310.926281 109.47917 \n",
       "\" clip-path=\"url(#p2fe15e656d)\" style=\"fill: none; stroke-dasharray: 0.74,0.32; stroke-dashoffset: 0; stroke: #808080; stroke-opacity: 0.7; stroke-width: 0.2\"/>\n",
       "     </g>\n",
       "     <g id=\"line2d_20\">\n",
       "      <defs>\n",
       "       <path id=\"m569dfed52e\" d=\"M 0 0 \n",
       "L 3.5 0 \n",
       "\" style=\"stroke: #000000; stroke-width: 0.5\"/>\n",
       "      </defs>\n",
       "      <g>\n",
       "       <use xlink:href=\"#m569dfed52e\" x=\"33.131006\" y=\"109.47917\" style=\"stroke: #000000; stroke-width: 0.5\"/>\n",
       "      </g>\n",
       "     </g>\n",
       "     <g id=\"text_11\">\n",
       "      <!-- $\\mathdefault{0}$ -->\n",
       "      <g transform=\"translate(25.396823 112.246571) scale(0.08 -0.08)\">\n",
       "       <use xlink:href=\"#CMR17-30\" transform=\"scale(0.996264)\"/>\n",
       "      </g>\n",
       "     </g>\n",
       "    </g>\n",
       "    <g id=\"ytick_2\">\n",
       "     <g id=\"line2d_21\">\n",
       "      <path d=\"M 33.131006 85.984075 \n",
       "L 310.926281 85.984075 \n",
       "\" clip-path=\"url(#p2fe15e656d)\" style=\"fill: none; stroke-dasharray: 0.74,0.32; stroke-dashoffset: 0; stroke: #808080; stroke-opacity: 0.7; stroke-width: 0.2\"/>\n",
       "     </g>\n",
       "     <g id=\"line2d_22\">\n",
       "      <g>\n",
       "       <use xlink:href=\"#m569dfed52e\" x=\"33.131006\" y=\"85.984075\" style=\"stroke: #000000; stroke-width: 0.5\"/>\n",
       "      </g>\n",
       "     </g>\n",
       "     <g id=\"text_12\">\n",
       "      <!-- $\\mathdefault{5}$ -->\n",
       "      <g transform=\"translate(25.396823 88.751476) scale(0.08 -0.08)\">\n",
       "       <use xlink:href=\"#CMR17-35\" transform=\"scale(0.996264)\"/>\n",
       "      </g>\n",
       "     </g>\n",
       "    </g>\n",
       "    <g id=\"ytick_3\">\n",
       "     <g id=\"line2d_23\">\n",
       "      <path d=\"M 33.131006 62.48898 \n",
       "L 310.926281 62.48898 \n",
       "\" clip-path=\"url(#p2fe15e656d)\" style=\"fill: none; stroke-dasharray: 0.74,0.32; stroke-dashoffset: 0; stroke: #808080; stroke-opacity: 0.7; stroke-width: 0.2\"/>\n",
       "     </g>\n",
       "     <g id=\"line2d_24\">\n",
       "      <g>\n",
       "       <use xlink:href=\"#m569dfed52e\" x=\"33.131006\" y=\"62.48898\" style=\"stroke: #000000; stroke-width: 0.5\"/>\n",
       "      </g>\n",
       "     </g>\n",
       "     <g id=\"text_13\">\n",
       "      <!-- $\\mathdefault{10}$ -->\n",
       "      <g transform=\"translate(21.16264 65.256381) scale(0.08 -0.08)\">\n",
       "       <use xlink:href=\"#CMR17-31\" transform=\"scale(0.996264)\"/>\n",
       "       <use xlink:href=\"#CMR17-30\" transform=\"translate(45.690477 0) scale(0.996264)\"/>\n",
       "      </g>\n",
       "     </g>\n",
       "    </g>\n",
       "    <g id=\"ytick_4\">\n",
       "     <g id=\"line2d_25\">\n",
       "      <path d=\"M 33.131006 38.993886 \n",
       "L 310.926281 38.993886 \n",
       "\" clip-path=\"url(#p2fe15e656d)\" style=\"fill: none; stroke-dasharray: 0.74,0.32; stroke-dashoffset: 0; stroke: #808080; stroke-opacity: 0.7; stroke-width: 0.2\"/>\n",
       "     </g>\n",
       "     <g id=\"line2d_26\">\n",
       "      <g>\n",
       "       <use xlink:href=\"#m569dfed52e\" x=\"33.131006\" y=\"38.993886\" style=\"stroke: #000000; stroke-width: 0.5\"/>\n",
       "      </g>\n",
       "     </g>\n",
       "     <g id=\"text_14\">\n",
       "      <!-- $\\mathdefault{15}$ -->\n",
       "      <g transform=\"translate(21.16264 41.761287) scale(0.08 -0.08)\">\n",
       "       <use xlink:href=\"#CMR17-31\" transform=\"scale(0.996264)\"/>\n",
       "       <use xlink:href=\"#CMR17-35\" transform=\"translate(45.690477 0) scale(0.996264)\"/>\n",
       "      </g>\n",
       "     </g>\n",
       "    </g>\n",
       "    <g id=\"ytick_5\">\n",
       "     <g id=\"line2d_27\">\n",
       "      <path d=\"M 33.131006 15.498791 \n",
       "L 310.926281 15.498791 \n",
       "\" clip-path=\"url(#p2fe15e656d)\" style=\"fill: none; stroke-dasharray: 0.74,0.32; stroke-dashoffset: 0; stroke: #808080; stroke-opacity: 0.7; stroke-width: 0.2\"/>\n",
       "     </g>\n",
       "     <g id=\"line2d_28\">\n",
       "      <g>\n",
       "       <use xlink:href=\"#m569dfed52e\" x=\"33.131006\" y=\"15.498791\" style=\"stroke: #000000; stroke-width: 0.5\"/>\n",
       "      </g>\n",
       "     </g>\n",
       "     <g id=\"text_15\">\n",
       "      <!-- $\\mathdefault{20}$ -->\n",
       "      <g transform=\"translate(21.16264 18.266192) scale(0.08 -0.08)\">\n",
       "       <use xlink:href=\"#CMR17-32\" transform=\"scale(0.996264)\"/>\n",
       "       <use xlink:href=\"#CMR17-30\" transform=\"translate(45.690477 0) scale(0.996264)\"/>\n",
       "      </g>\n",
       "     </g>\n",
       "    </g>\n",
       "    <g id=\"text_16\">\n",
       "     <!-- $q$ [kN/m] -->\n",
       "     <g transform=\"translate(14.67198 80.611913) rotate(-90) scale(0.1 -0.1)\">\n",
       "      <defs>\n",
       "       <path id=\"CMMI12-71\" d=\"M 2822 2759 \n",
       "C 2822 2790 2797 2816 2765 2816 \n",
       "C 2714 2816 2464 2585 2342 2362 \n",
       "C 2227 2646 2029 2816 1754 2816 \n",
       "C 1030 2816 250 1884 250 939 \n",
       "C 250 307 621 -64 1056 -64 \n",
       "C 1395 -64 1677 193 1811 339 \n",
       "L 1818 333 \n",
       "L 1574 -615 \n",
       "L 1517 -842 \n",
       "C 1459 -1031 1363 -1031 1062 -1031 \n",
       "C 992 -1031 928 -1031 928 -1152 \n",
       "C 928 -1197 966 -1216 1011 -1216 \n",
       "C 1101 -1216 1216 -1216 1306 -1216 \n",
       "L 1958 -1216 \n",
       "C 2054 -1216 2163 -1216 2259 -1216 \n",
       "C 2298 -1216 2374 -1216 2374 -1095 \n",
       "C 2374 -1031 2323 -1031 2227 -1031 \n",
       "C 1926 -1031 1907 -986 1907 -935 \n",
       "C 1907 -904 1914 -898 1933 -815 \n",
       "L 2822 2759 \n",
       "z\n",
       "M 1920 762 \n",
       "C 1888 652 1888 640 1798 518 \n",
       "C 1658 339 1376 64 1075 64 \n",
       "C 813 64 666 301 666 678 \n",
       "C 666 1030 864 1747 986 2016 \n",
       "C 1203 2464 1504 2695 1754 2695 \n",
       "C 2176 2695 2259 2170 2259 2119 \n",
       "C 2259 2113 2240 2028 2234 2016 \n",
       "L 1920 762 \n",
       "z\n",
       "\" transform=\"scale(0.015625)\"/>\n",
       "       <path id=\"CMR17-6b\" d=\"M 1670 1673 \n",
       "C 1664 1686 1632 1724 1632 1743 \n",
       "C 1632 1756 2086 2171 2144 2222 \n",
       "C 2509 2528 2739 2560 2906 2560 \n",
       "L 2906 2733 \n",
       "C 2867 2733 2854 2733 2848 2720 \n",
       "L 2534 2720 \n",
       "C 2355 2720 2080 2720 1907 2733 \n",
       "L 1907 2566 \n",
       "C 1997 2559 2061 2508 2061 2419 \n",
       "C 2061 2291 1933 2170 1926 2170 \n",
       "L 960 1289 \n",
       "L 960 4396 \n",
       "L 198 4326 \n",
       "L 198 4160 \n",
       "C 576 4160 634 4122 634 3817 \n",
       "L 634 426 \n",
       "C 634 184 608 153 198 153 \n",
       "L 198 -13 \n",
       "C 352 0 634 0 794 0 \n",
       "C 954 0 1235 0 1389 -13 \n",
       "L 1389 153 \n",
       "C 979 153 954 178 954 428 \n",
       "L 954 1130 \n",
       "L 1395 1532 \n",
       "L 2042 574 \n",
       "C 2118 459 2182 369 2182 286 \n",
       "C 2182 172 2067 153 1990 153 \n",
       "L 1990 -13 \n",
       "C 2144 0 2419 0 2579 0 \n",
       "C 2694 0 2931 0 3040 0 \n",
       "L 3040 153 \n",
       "C 2739 153 2669 210 2477 491 \n",
       "L 1670 1673 \n",
       "z\n",
       "\" transform=\"scale(0.015625)\"/>\n",
       "       <path id=\"CMR17-4e\" d=\"M 1312 4250 \n",
       "C 1267 4320 1261 4320 1139 4320 \n",
       "L 326 4320 \n",
       "L 326 4160 \n",
       "L 448 4160 \n",
       "C 704 4160 819 4129 838 4122 \n",
       "L 838 610 \n",
       "C 838 451 838 153 326 153 \n",
       "L 326 -13 \n",
       "C 474 0 742 0 902 0 \n",
       "C 1062 0 1331 0 1478 -13 \n",
       "L 1478 153 \n",
       "C 966 153 966 451 966 610 \n",
       "L 966 4033 \n",
       "C 1011 3995 1011 3982 1056 3919 \n",
       "L 3430 76 \n",
       "C 3475 0 3494 0 3526 0 \n",
       "C 3590 0 3590 19 3590 139 \n",
       "L 3590 3705 \n",
       "C 3590 3863 3590 4160 4102 4160 \n",
       "L 4102 4326 \n",
       "C 3955 4320 3686 4320 3526 4320 \n",
       "C 3366 4320 3098 4320 2950 4326 \n",
       "L 2950 4160 \n",
       "C 3462 4160 3462 3862 3462 3703 \n",
       "L 3462 763 \n",
       "L 1312 4250 \n",
       "z\n",
       "\" transform=\"scale(0.015625)\"/>\n",
       "       <path id=\"CMR17-2f\" d=\"M 2605 4545 \n",
       "C 2637 4627 2637 4640 2637 4653 \n",
       "C 2637 4729 2579 4768 2528 4768 \n",
       "C 2451 4768 2426 4717 2400 4640 \n",
       "L 326 -1377 \n",
       "C 294 -1460 294 -1473 294 -1486 \n",
       "C 294 -1562 352 -1600 403 -1600 \n",
       "C 480 -1600 506 -1549 531 -1473 \n",
       "L 2605 4545 \n",
       "z\n",
       "\" transform=\"scale(0.015625)\"/>\n",
       "      </defs>\n",
       "      <use xlink:href=\"#CMMI12-71\" transform=\"scale(0.996264)\"/>\n",
       "      <use xlink:href=\"#CMR17-5b\" transform=\"translate(76.90229 0) scale(0.996264)\"/>\n",
       "      <use xlink:href=\"#CMR17-6b\" transform=\"translate(101.773349 0) scale(0.996264)\"/>\n",
       "      <use xlink:href=\"#CMR17-4e\" transform=\"translate(150.066265 0) scale(0.996264)\"/>\n",
       "      <use xlink:href=\"#CMR17-2f\" transform=\"translate(219.138694 0) scale(0.996264)\"/>\n",
       "      <use xlink:href=\"#CMR17-6d\" transform=\"translate(264.829171 0) scale(0.996264)\"/>\n",
       "      <use xlink:href=\"#CMR17-5d\" transform=\"translate(341.748761 0) scale(0.996264)\"/>\n",
       "     </g>\n",
       "    </g>\n",
       "   </g>\n",
       "   <g id=\"line2d_29\">\n",
       "    <path d=\"M 45.758064 109.47917 \n",
       "L 69.576268 44.203923 \n",
       "L 78.420293 32.447563 \n",
       "\" clip-path=\"url(#p2fe15e656d)\" style=\"fill: none; stroke: #000000; stroke-width: 0.7; stroke-linecap: square\"/>\n",
       "   </g>\n",
       "   <g id=\"line2d_30\">\n",
       "    <path d=\"M 45.758064 109.47917 \n",
       "L 56.863293 79.217488 \n",
       "L 58.714054 74.173622 \n",
       "L 60.565477 69.130513 \n",
       "L 62.416238 64.086647 \n",
       "L 64.267 59.042781 \n",
       "L 66.117761 53.999672 \n",
       "L 67.968522 48.955806 \n",
       "L 69.924568 43.91194 \n",
       "L 73.684361 38.868831 \n",
       "L 77.444816 33.824965 \n",
       "\" clip-path=\"url(#p2fe15e656d)\" style=\"fill: none; stroke-dasharray: 2.59,1.12; stroke-dashoffset: 0; stroke: #000000; stroke-width: 0.7\"/>\n",
       "   </g>\n",
       "   <g id=\"line2d_31\">\n",
       "    <path d=\"M 45.758064 109.47917 \n",
       "L 66.651226 52.220181 \n",
       "L 89.196776 25.443874 \n",
       "L 242.640402 12.070437 \n",
       "\" clip-path=\"url(#p2fe15e656d)\" style=\"fill: none; stroke: #808080; stroke-width: 0.7; stroke-linecap: square\"/>\n",
       "   </g>\n",
       "   <g id=\"line2d_32\">\n",
       "    <path d=\"M 45.758064 109.47917 \n",
       "L 58.944489 73.296724 \n",
       "L 59.985418 70.44012 \n",
       "L 61.026347 67.583516 \n",
       "L 62.067938 64.726912 \n",
       "L 63.108867 61.870308 \n",
       "L 64.149796 59.014608 \n",
       "L 65.190725 56.158004 \n",
       "L 66.231654 53.3014 \n",
       "L 68.193659 50.444796 \n",
       "L 70.777441 47.588192 \n",
       "L 73.250641 44.731588 \n",
       "L 75.500027 41.874983 \n",
       "L 77.749414 39.018379 \n",
       "L 79.9988 36.161775 \n",
       "L 82.248187 33.305171 \n",
       "L 84.498236 30.449472 \n",
       "L 86.747623 27.592868 \n",
       "L 88.997009 24.736263 \n",
       "L 150.962082 21.879659 \n",
       "L 298.299223 19.023055 \n",
       "\" clip-path=\"url(#p2fe15e656d)\" style=\"fill: none; stroke-dasharray: 2.59,1.12; stroke-dashoffset: 0; stroke: #808080; stroke-width: 0.7\"/>\n",
       "   </g>\n",
       "   <g id=\"patch_3\">\n",
       "    <path d=\"M 33.131006 114.349606 \n",
       "L 33.131006 7.2 \n",
       "\" style=\"fill: none; stroke: #000000; stroke-width: 0.5; stroke-linejoin: miter; stroke-linecap: square\"/>\n",
       "   </g>\n",
       "   <g id=\"patch_4\">\n",
       "    <path d=\"M 310.926281 114.349606 \n",
       "L 310.926281 7.2 \n",
       "\" style=\"fill: none; stroke: #000000; stroke-width: 0.5; stroke-linejoin: miter; stroke-linecap: square\"/>\n",
       "   </g>\n",
       "   <g id=\"patch_5\">\n",
       "    <path d=\"M 33.131006 114.349606 \n",
       "L 310.926281 114.349606 \n",
       "\" style=\"fill: none; stroke: #000000; stroke-width: 0.5; stroke-linejoin: miter; stroke-linecap: square\"/>\n",
       "   </g>\n",
       "   <g id=\"patch_6\">\n",
       "    <path d=\"M 33.131006 7.2 \n",
       "L 310.926281 7.2 \n",
       "\" style=\"fill: none; stroke: #000000; stroke-width: 0.5; stroke-linejoin: miter; stroke-linecap: square\"/>\n",
       "   </g>\n",
       "   <g id=\"legend_1\">\n",
       "    <g id=\"line2d_33\">\n",
       "     <path d=\"M 216.249929 69.350623 \n",
       "L 224.249929 69.350623 \n",
       "L 232.249929 69.350623 \n",
       "\" style=\"fill: none; stroke: #000000; stroke-width: 0.7; stroke-linecap: square\"/>\n",
       "    </g>\n",
       "    <g id=\"text_17\">\n",
       "     <!-- B500A analytisch -->\n",
       "     <g transform=\"translate(238.649929 72.150623) scale(0.08 -0.08)\">\n",
       "      <defs>\n",
       "       <path id=\"CMR17-42\" d=\"M 333 4352 \n",
       "L 333 4186 \n",
       "C 774 4186 845 4186 845 3900 \n",
       "L 845 452 \n",
       "C 845 166 774 166 333 166 \n",
       "L 333 0 \n",
       "L 2534 0 \n",
       "C 3354 0 3885 583 3885 1164 \n",
       "C 3885 1741 3360 2233 2675 2233 \n",
       "C 3290 2356 3718 2771 3718 3264 \n",
       "C 3718 3802 3194 4352 2368 4352 \n",
       "L 333 4352 \n",
       "z\n",
       "M 1248 2304 \n",
       "L 1248 3937 \n",
       "C 1248 4155 1261 4186 1517 4186 \n",
       "L 2336 4186 \n",
       "C 2970 4186 3251 3674 3251 3277 \n",
       "C 3251 2791 2861 2304 2170 2304 \n",
       "L 1248 2304 \n",
       "z\n",
       "M 1517 166 \n",
       "C 1261 166 1248 197 1248 413 \n",
       "L 1248 2202 \n",
       "L 2432 2202 \n",
       "C 3091 2202 3411 1625 3411 1162 \n",
       "C 3411 699 3046 166 2349 166 \n",
       "L 1517 166 \n",
       "z\n",
       "\" transform=\"scale(0.015625)\"/>\n",
       "       <path id=\"CMR17-41\" d=\"M 2323 4378 \n",
       "C 2291 4461 2278 4480 2214 4480 \n",
       "C 2150 4480 2138 4461 2106 4378 \n",
       "L 749 566 \n",
       "C 627 223 371 153 147 153 \n",
       "L 147 -13 \n",
       "C 262 0 518 0 640 0 \n",
       "C 800 0 1056 0 1210 -13 \n",
       "L 1210 153 \n",
       "C 909 153 864 361 864 439 \n",
       "C 864 497 877 530 890 569 \n",
       "L 1229 1536 \n",
       "L 2906 1536 \n",
       "L 3290 442 \n",
       "C 3322 365 3322 352 3322 327 \n",
       "C 3322 153 3046 153 2925 153 \n",
       "L 2925 0 \n",
       "C 3110 0 3443 0 3642 0 \n",
       "C 3808 0 4128 0 4282 -13 \n",
       "L 4282 153 \n",
       "C 3942 153 3827 153 3744 387 \n",
       "L 2323 4378 \n",
       "z\n",
       "M 2067 3893 \n",
       "L 2848 1702 \n",
       "L 1286 1702 \n",
       "L 2067 3893 \n",
       "z\n",
       "\" transform=\"scale(0.015625)\"/>\n",
       "       <path id=\"CMR17-61\" d=\"M 2304 1653 \n",
       "C 2304 2072 2304 2294 2035 2543 \n",
       "C 1798 2752 1523 2816 1306 2816 \n",
       "C 800 2816 435 2407 435 1971 \n",
       "C 435 1728 627 1728 666 1728 \n",
       "C 749 1728 896 1778 896 1954 \n",
       "C 896 2112 774 2181 666 2181 \n",
       "C 640 2181 608 2174 589 2168 \n",
       "C 723 2592 1069 2714 1293 2714 \n",
       "C 1613 2714 1965 2429 1965 1885 \n",
       "L 1965 1600 \n",
       "C 1587 1600 1133 1549 774 1357 \n",
       "C 371 1133 256 813 256 570 \n",
       "C 256 77 832 -64 1171 -64 \n",
       "C 1523 -64 1850 139 1990 511 \n",
       "C 2003 233 2182 -18 2464 -18 \n",
       "C 2598 -18 2938 70 2938 567 \n",
       "L 2938 920 \n",
       "L 2822 920 \n",
       "L 2822 562 \n",
       "C 2822 178 2650 128 2566 128 \n",
       "C 2304 128 2304 458 2304 738 \n",
       "L 2304 1653 \n",
       "z\n",
       "M 1965 870 \n",
       "C 1965 317 1568 38 1216 38 \n",
       "C 896 38 646 275 646 570 \n",
       "C 646 761 730 1100 1101 1305 \n",
       "C 1408 1478 1760 1504 1965 1504 \n",
       "L 1965 870 \n",
       "z\n",
       "\" transform=\"scale(0.015625)\"/>\n",
       "       <path id=\"CMR17-6e\" d=\"M 2656 1933 \n",
       "C 2656 2259 2592 2790 1837 2790 \n",
       "C 1331 2790 1069 2400 973 2144 \n",
       "L 966 2144 \n",
       "L 966 2790 \n",
       "L 211 2720 \n",
       "L 211 2554 \n",
       "C 589 2554 646 2515 646 2208 \n",
       "L 646 428 \n",
       "C 646 184 621 153 211 153 \n",
       "L 211 -13 \n",
       "C 365 0 646 0 813 0 \n",
       "C 979 0 1267 0 1421 -13 \n",
       "L 1421 153 \n",
       "C 1011 153 986 178 986 428 \n",
       "L 986 1658 \n",
       "C 986 2247 1344 2688 1792 2688 \n",
       "C 2266 2688 2317 2266 2317 1958 \n",
       "L 2317 428 \n",
       "C 2317 184 2291 153 1882 153 \n",
       "L 1882 -13 \n",
       "C 2035 0 2317 0 2483 0 \n",
       "C 2650 0 2938 0 3091 -13 \n",
       "L 3091 153 \n",
       "C 2682 153 2656 178 2656 428 \n",
       "L 2656 1933 \n",
       "z\n",
       "\" transform=\"scale(0.015625)\"/>\n",
       "       <path id=\"CMR17-6c\" d=\"M 979 4396 \n",
       "L 218 4326 \n",
       "L 218 4160 \n",
       "C 595 4160 653 4122 653 3817 \n",
       "L 653 426 \n",
       "C 653 184 627 153 218 153 \n",
       "L 218 -13 \n",
       "C 371 0 653 0 813 0 \n",
       "C 979 0 1261 0 1414 -13 \n",
       "L 1414 153 \n",
       "C 1005 153 979 178 979 426 \n",
       "L 979 4396 \n",
       "z\n",
       "\" transform=\"scale(0.015625)\"/>\n",
       "       <path id=\"CMR17-79\" d=\"M 2496 2197 \n",
       "C 2656 2586 2944 2586 3034 2586 \n",
       "L 3034 2752 \n",
       "C 2912 2752 2752 2752 2630 2752 \n",
       "C 2496 2752 2285 2752 2157 2758 \n",
       "L 2157 2592 \n",
       "C 2400 2573 2406 2394 2406 2343 \n",
       "C 2406 2280 2394 2248 2362 2171 \n",
       "L 1664 449 \n",
       "L 902 2306 \n",
       "C 870 2382 870 2426 870 2433 \n",
       "C 870 2573 1018 2586 1171 2586 \n",
       "L 1171 2758 \n",
       "C 1018 2752 742 2752 582 2752 \n",
       "C 410 2752 205 2752 64 2758 \n",
       "L 64 2586 \n",
       "C 410 2586 448 2554 531 2350 \n",
       "L 1485 15 \n",
       "C 1197 -738 1030 -1178 627 -1178 \n",
       "C 557 -1178 397 -1159 282 -1044 \n",
       "C 429 -1031 493 -942 493 -833 \n",
       "C 493 -725 416 -629 288 -629 \n",
       "C 147 -629 77 -725 77 -840 \n",
       "C 77 -1095 339 -1280 627 -1280 \n",
       "C 998 -1280 1229 -922 1357 -604 \n",
       "L 2496 2197 \n",
       "z\n",
       "\" transform=\"scale(0.015625)\"/>\n",
       "       <path id=\"CMR17-74\" d=\"M 966 2560 \n",
       "L 1862 2560 \n",
       "L 1862 2725 \n",
       "L 966 2725 \n",
       "L 966 3904 \n",
       "L 851 3904 \n",
       "C 838 3245 614 2668 70 2668 \n",
       "L 70 2560 \n",
       "L 627 2560 \n",
       "L 627 771 \n",
       "C 627 650 627 -64 1370 -64 \n",
       "C 1747 -64 1965 306 1965 777 \n",
       "L 1965 1140 \n",
       "L 1850 1140 \n",
       "L 1850 783 \n",
       "C 1850 344 1677 51 1408 51 \n",
       "C 1222 51 966 178 966 758 \n",
       "L 966 2560 \n",
       "z\n",
       "\" transform=\"scale(0.015625)\"/>\n",
       "       <path id=\"CMR17-69\" d=\"M 992 3909 \n",
       "C 992 4049 877 4170 730 4170 \n",
       "C 589 4170 467 4056 467 3909 \n",
       "C 467 3769 582 3648 730 3648 \n",
       "C 870 3648 992 3763 992 3909 \n",
       "z\n",
       "M 243 2706 \n",
       "L 243 2541 \n",
       "C 602 2541 653 2502 653 2197 \n",
       "L 653 427 \n",
       "C 653 184 627 153 218 153 \n",
       "L 218 -13 \n",
       "C 371 0 646 0 806 0 \n",
       "C 960 0 1222 0 1370 -13 \n",
       "L 1370 153 \n",
       "C 992 153 979 191 979 420 \n",
       "L 979 2776 \n",
       "L 243 2706 \n",
       "z\n",
       "\" transform=\"scale(0.015625)\"/>\n",
       "       <path id=\"CMR17-73\" d=\"M 1978 2697 \n",
       "C 1978 2813 1971 2819 1933 2819 \n",
       "C 1907 2819 1901 2813 1824 2717 \n",
       "C 1805 2691 1747 2626 1728 2601 \n",
       "C 1523 2819 1235 2819 1126 2819 \n",
       "C 416 2819 160 2447 160 2076 \n",
       "C 160 1498 813 1365 998 1325 \n",
       "C 1402 1243 1542 1217 1677 1101 \n",
       "C 1760 1025 1901 884 1901 654 \n",
       "C 1901 384 1747 38 1158 38 \n",
       "C 602 38 403 460 288 1021 \n",
       "C 269 1110 269 1117 218 1117 \n",
       "C 166 1117 160 1110 160 983 \n",
       "L 160 63 \n",
       "C 160 -51 166 -58 205 -58 \n",
       "C 237 -58 243 -51 275 0 \n",
       "C 314 57 410 211 448 276 \n",
       "C 576 103 800 -64 1158 -64 \n",
       "C 1792 -64 2131 283 2131 784 \n",
       "C 2131 1112 1958 1285 1875 1362 \n",
       "C 1683 1561 1459 1606 1190 1657 \n",
       "C 838 1735 390 1825 390 2217 \n",
       "C 390 2383 480 2737 1126 2737 \n",
       "C 1811 2737 1850 2094 1862 1888 \n",
       "C 1869 1856 1901 1849 1920 1849 \n",
       "C 1978 1849 1978 1869 1978 1978 \n",
       "L 1978 2697 \n",
       "z\n",
       "\" transform=\"scale(0.015625)\"/>\n",
       "       <path id=\"CMR17-63\" d=\"M 2234 2240 \n",
       "C 2112 2240 1933 2240 1933 2017 \n",
       "C 1933 1838 2080 1787 2163 1787 \n",
       "C 2208 1787 2394 1807 2394 2024 \n",
       "C 2394 2467 1958 2803 1466 2803 \n",
       "C 787 2803 211 2178 211 1363 \n",
       "C 211 516 813 -64 1466 -64 \n",
       "C 2259 -64 2458 677 2458 748 \n",
       "C 2458 774 2451 793 2406 793 \n",
       "C 2362 793 2355 787 2330 703 \n",
       "C 2163 180 1798 51 1523 51 \n",
       "C 1114 51 621 427 621 1369 \n",
       "C 621 2338 1094 2688 1472 2688 \n",
       "C 1722 2688 2093 2573 2234 2240 \n",
       "z\n",
       "\" transform=\"scale(0.015625)\"/>\n",
       "       <path id=\"CMR17-68\" d=\"M 2656 1933 \n",
       "C 2656 2259 2592 2790 1837 2790 \n",
       "C 1312 2790 1056 2368 979 2157 \n",
       "L 973 2157 \n",
       "L 973 4396 \n",
       "L 211 4326 \n",
       "L 211 4160 \n",
       "C 589 4160 646 4122 646 3817 \n",
       "L 646 426 \n",
       "C 646 184 621 153 211 153 \n",
       "L 211 -13 \n",
       "C 365 0 646 0 813 0 \n",
       "C 979 0 1267 0 1421 -13 \n",
       "L 1421 153 \n",
       "C 1011 153 986 178 986 428 \n",
       "L 986 1658 \n",
       "C 986 2247 1344 2688 1792 2688 \n",
       "C 2266 2688 2317 2266 2317 1958 \n",
       "L 2317 428 \n",
       "C 2317 184 2291 153 1882 153 \n",
       "L 1882 -13 \n",
       "C 2035 0 2317 0 2483 0 \n",
       "C 2650 0 2938 0 3091 -13 \n",
       "L 3091 153 \n",
       "C 2682 153 2656 178 2656 428 \n",
       "L 2656 1933 \n",
       "z\n",
       "\" transform=\"scale(0.015625)\"/>\n",
       "      </defs>\n",
       "      <use xlink:href=\"#CMR17-42\" transform=\"scale(0.996264)\"/>\n",
       "      <use xlink:href=\"#CMR17-35\" transform=\"translate(65.188754 0) scale(0.996264)\"/>\n",
       "      <use xlink:href=\"#CMR17-30\" transform=\"translate(110.879232 0) scale(0.996264)\"/>\n",
       "      <use xlink:href=\"#CMR17-30\" transform=\"translate(156.569709 0) scale(0.996264)\"/>\n",
       "      <use xlink:href=\"#CMR17-41\" transform=\"translate(202.260186 0) scale(0.996264)\"/>\n",
       "      <use xlink:href=\"#CMR17-61\" transform=\"translate(301.408582 0) scale(0.996264)\"/>\n",
       "      <use xlink:href=\"#CMR17-6e\" transform=\"translate(347.099059 0) scale(0.996264)\"/>\n",
       "      <use xlink:href=\"#CMR17-61\" transform=\"translate(397.994429 0) scale(0.996264)\"/>\n",
       "      <use xlink:href=\"#CMR17-6c\" transform=\"translate(443.684906 0) scale(0.996264)\"/>\n",
       "      <use xlink:href=\"#CMR17-79\" transform=\"translate(468.555964 0) scale(0.996264)\"/>\n",
       "      <use xlink:href=\"#CMR17-74\" transform=\"translate(516.84888 0) scale(0.996264)\"/>\n",
       "      <use xlink:href=\"#CMR17-69\" transform=\"translate(552.129648 0) scale(0.996264)\"/>\n",
       "      <use xlink:href=\"#CMR17-73\" transform=\"translate(577.000707 0) scale(0.996264)\"/>\n",
       "      <use xlink:href=\"#CMR17-63\" transform=\"translate(612.802044 0) scale(0.996264)\"/>\n",
       "      <use xlink:href=\"#CMR17-68\" transform=\"translate(650.685251 0) scale(0.996264)\"/>\n",
       "     </g>\n",
       "    </g>\n",
       "    <g id=\"line2d_34\">\n",
       "     <path d=\"M 216.249929 80.500369 \n",
       "L 224.249929 80.500369 \n",
       "L 232.249929 80.500369 \n",
       "\" style=\"fill: none; stroke-dasharray: 2.59,1.12; stroke-dashoffset: 0; stroke: #000000; stroke-width: 0.7\"/>\n",
       "    </g>\n",
       "    <g id=\"text_18\">\n",
       "     <!-- B500A FEM -->\n",
       "     <g transform=\"translate(238.649929 83.300369) scale(0.08 -0.08)\">\n",
       "      <defs>\n",
       "       <path id=\"CMR17-46\" d=\"M 3482 4325 \n",
       "L 326 4325 \n",
       "L 326 4160 \n",
       "C 768 4160 838 4160 838 3874 \n",
       "L 838 446 \n",
       "C 838 160 768 160 326 160 \n",
       "L 326 0 \n",
       "C 512 0 870 0 1069 0 \n",
       "C 1331 0 1638 0 1901 0 \n",
       "L 1901 160 \n",
       "L 1760 160 \n",
       "C 1274 160 1261 223 1261 452 \n",
       "L 1261 2075 \n",
       "L 1837 2075 \n",
       "C 2432 2075 2490 1865 2490 1332 \n",
       "L 2605 1332 \n",
       "L 2605 2987 \n",
       "L 2490 2987 \n",
       "C 2490 2450 2432 2240 1837 2240 \n",
       "L 1261 2240 \n",
       "L 1261 3911 \n",
       "C 1261 4128 1274 4160 1530 4160 \n",
       "L 2355 4160 \n",
       "C 3322 4160 3430 3765 3520 2916 \n",
       "L 3635 2916 \n",
       "L 3482 4325 \n",
       "z\n",
       "\" transform=\"scale(0.015625)\"/>\n",
       "       <path id=\"CMR17-45\" d=\"M 3885 1615 \n",
       "L 3770 1615 \n",
       "C 3629 676 3546 166 2419 166 \n",
       "L 1530 166 \n",
       "C 1274 166 1261 197 1261 414 \n",
       "L 1261 2176 \n",
       "L 1862 2176 \n",
       "C 2464 2176 2522 1960 2522 1430 \n",
       "L 2637 1430 \n",
       "L 2637 3081 \n",
       "L 2522 3081 \n",
       "C 2522 2557 2464 2342 1862 2342 \n",
       "L 1261 2342 \n",
       "L 1261 3913 \n",
       "C 1261 4128 1274 4160 1530 4160 \n",
       "L 2406 4160 \n",
       "C 3398 4160 3514 3769 3603 2929 \n",
       "L 3718 2929 \n",
       "L 3565 4325 \n",
       "L 326 4325 \n",
       "L 326 4160 \n",
       "C 768 4160 838 4160 838 3874 \n",
       "L 838 451 \n",
       "C 838 166 768 166 326 166 \n",
       "L 326 0 \n",
       "L 3654 0 \n",
       "L 3885 1615 \n",
       "z\n",
       "\" transform=\"scale(0.015625)\"/>\n",
       "       <path id=\"CMR17-4d\" d=\"M 1338 4224 \n",
       "C 1299 4320 1293 4320 1158 4320 \n",
       "L 339 4320 \n",
       "L 339 4160 \n",
       "C 781 4160 851 4160 851 3875 \n",
       "L 851 610 \n",
       "C 851 451 851 153 339 153 \n",
       "L 339 -13 \n",
       "C 486 0 755 0 915 0 \n",
       "C 1075 0 1344 0 1491 -13 \n",
       "L 1491 153 \n",
       "C 979 153 979 451 979 610 \n",
       "L 979 4135 \n",
       "L 986 4135 \n",
       "L 2490 89 \n",
       "C 2515 25 2528 -13 2579 -13 \n",
       "C 2630 -13 2643 25 2669 89 \n",
       "L 4186 4166 \n",
       "L 4192 4166 \n",
       "L 4192 438 \n",
       "C 4192 153 4122 153 3680 153 \n",
       "L 3680 -13 \n",
       "C 3853 0 4198 0 4384 0 \n",
       "C 4570 0 4922 0 5094 -13 \n",
       "L 5094 153 \n",
       "C 4653 153 4582 153 4582 438 \n",
       "L 4582 3875 \n",
       "C 4582 4160 4653 4160 5094 4160 \n",
       "L 5094 4320 \n",
       "L 4282 4320 \n",
       "C 4147 4320 4141 4314 4102 4218 \n",
       "L 2720 502 \n",
       "L 1338 4224 \n",
       "z\n",
       "\" transform=\"scale(0.015625)\"/>\n",
       "      </defs>\n",
       "      <use xlink:href=\"#CMR17-42\" transform=\"scale(0.996264)\"/>\n",
       "      <use xlink:href=\"#CMR17-35\" transform=\"translate(65.188754 0) scale(0.996264)\"/>\n",
       "      <use xlink:href=\"#CMR17-30\" transform=\"translate(110.879232 0) scale(0.996264)\"/>\n",
       "      <use xlink:href=\"#CMR17-30\" transform=\"translate(156.569709 0) scale(0.996264)\"/>\n",
       "      <use xlink:href=\"#CMR17-41\" transform=\"translate(202.260186 0) scale(0.996264)\"/>\n",
       "      <use xlink:href=\"#CMR17-46\" transform=\"translate(301.408582 0) scale(0.996264)\"/>\n",
       "      <use xlink:href=\"#CMR17-45\" transform=\"translate(361.392429 0) scale(0.996264)\"/>\n",
       "      <use xlink:href=\"#CMR17-4d\" transform=\"translate(423.978729 0) scale(0.996264)\"/>\n",
       "     </g>\n",
       "    </g>\n",
       "    <g id=\"line2d_35\">\n",
       "     <path d=\"M 216.249929 91.650115 \n",
       "L 224.249929 91.650115 \n",
       "L 232.249929 91.650115 \n",
       "\" style=\"fill: none; stroke: #808080; stroke-width: 0.7; stroke-linecap: square\"/>\n",
       "    </g>\n",
       "    <g id=\"text_19\">\n",
       "     <!-- B500C analytisch -->\n",
       "     <g transform=\"translate(238.649929 94.450115) scale(0.08 -0.08)\">\n",
       "      <defs>\n",
       "       <path id=\"CMR17-43\" d=\"M 3974 4289 \n",
       "C 3974 4403 3968 4410 3930 4410 \n",
       "C 3904 4410 3898 4403 3853 4327 \n",
       "L 3571 3792 \n",
       "C 3258 4187 2874 4416 2381 4416 \n",
       "C 1286 4416 294 3456 294 2148 \n",
       "C 294 826 1286 -128 2387 -128 \n",
       "C 3366 -128 3974 730 3974 1461 \n",
       "C 3974 1524 3974 1550 3917 1550 \n",
       "C 3866 1550 3866 1531 3859 1474 \n",
       "C 3808 585 3168 38 2477 38 \n",
       "C 1824 38 781 495 781 2147 \n",
       "C 781 3805 1843 4250 2464 4250 \n",
       "C 3187 4250 3712 3628 3834 2745 \n",
       "C 3846 2668 3846 2655 3904 2655 \n",
       "C 3974 2655 3974 2668 3974 2783 \n",
       "L 3974 4289 \n",
       "z\n",
       "\" transform=\"scale(0.015625)\"/>\n",
       "      </defs>\n",
       "      <use xlink:href=\"#CMR17-42\" transform=\"scale(0.996264)\"/>\n",
       "      <use xlink:href=\"#CMR17-35\" transform=\"translate(65.188754 0) scale(0.996264)\"/>\n",
       "      <use xlink:href=\"#CMR17-30\" transform=\"translate(110.879232 0) scale(0.996264)\"/>\n",
       "      <use xlink:href=\"#CMR17-30\" transform=\"translate(156.569709 0) scale(0.996264)\"/>\n",
       "      <use xlink:href=\"#CMR17-43\" transform=\"translate(202.260186 0) scale(0.996264)\"/>\n",
       "      <use xlink:href=\"#CMR17-61\" transform=\"translate(298.846033 0) scale(0.996264)\"/>\n",
       "      <use xlink:href=\"#CMR17-6e\" transform=\"translate(344.53651 0) scale(0.996264)\"/>\n",
       "      <use xlink:href=\"#CMR17-61\" transform=\"translate(395.43188 0) scale(0.996264)\"/>\n",
       "      <use xlink:href=\"#CMR17-6c\" transform=\"translate(441.122357 0) scale(0.996264)\"/>\n",
       "      <use xlink:href=\"#CMR17-79\" transform=\"translate(465.993415 0) scale(0.996264)\"/>\n",
       "      <use xlink:href=\"#CMR17-74\" transform=\"translate(514.286331 0) scale(0.996264)\"/>\n",
       "      <use xlink:href=\"#CMR17-69\" transform=\"translate(549.567099 0) scale(0.996264)\"/>\n",
       "      <use xlink:href=\"#CMR17-73\" transform=\"translate(574.438157 0) scale(0.996264)\"/>\n",
       "      <use xlink:href=\"#CMR17-63\" transform=\"translate(610.239495 0) scale(0.996264)\"/>\n",
       "      <use xlink:href=\"#CMR17-68\" transform=\"translate(648.122701 0) scale(0.996264)\"/>\n",
       "     </g>\n",
       "    </g>\n",
       "    <g id=\"line2d_36\">\n",
       "     <path d=\"M 216.249929 102.799861 \n",
       "L 224.249929 102.799861 \n",
       "L 232.249929 102.799861 \n",
       "\" style=\"fill: none; stroke-dasharray: 2.59,1.12; stroke-dashoffset: 0; stroke: #808080; stroke-width: 0.7\"/>\n",
       "    </g>\n",
       "    <g id=\"text_20\">\n",
       "     <!-- B500C FEM -->\n",
       "     <g transform=\"translate(238.649929 105.599861) scale(0.08 -0.08)\">\n",
       "      <use xlink:href=\"#CMR17-42\" transform=\"scale(0.996264)\"/>\n",
       "      <use xlink:href=\"#CMR17-35\" transform=\"translate(65.188754 0) scale(0.996264)\"/>\n",
       "      <use xlink:href=\"#CMR17-30\" transform=\"translate(110.879232 0) scale(0.996264)\"/>\n",
       "      <use xlink:href=\"#CMR17-30\" transform=\"translate(156.569709 0) scale(0.996264)\"/>\n",
       "      <use xlink:href=\"#CMR17-43\" transform=\"translate(202.260186 0) scale(0.996264)\"/>\n",
       "      <use xlink:href=\"#CMR17-46\" transform=\"translate(298.846033 0) scale(0.996264)\"/>\n",
       "      <use xlink:href=\"#CMR17-45\" transform=\"translate(358.829879 0) scale(0.996264)\"/>\n",
       "      <use xlink:href=\"#CMR17-4d\" transform=\"translate(421.41618 0) scale(0.996264)\"/>\n",
       "     </g>\n",
       "    </g>\n",
       "   </g>\n",
       "  </g>\n",
       " </g>\n",
       " <defs>\n",
       "  <clipPath id=\"p2fe15e656d\">\n",
       "   <rect x=\"33.131006\" y=\"7.2\" width=\"277.795276\" height=\"107.149606\"/>\n",
       "  </clipPath>\n",
       " </defs>\n",
       "</svg>\n"
      ],
      "text/plain": [
       "<Figure size 551.181x212.598 with 1 Axes>"
      ]
     },
     "metadata": {},
     "output_type": "display_data"
    }
   ],
   "source": [
    "fig_q_w, ax_q_w = plt.subplots(figsize=(14/2.54,5.4/2.54))\n",
    "\n",
    "\n",
    "ax_q_w.plot(w_A_array, q_A_array, color='black', label='B500A analytisch')\n",
    "# ax_q_w.plot(w_A_FEM_array, q_A_array, color='black', linestyle='dashed', label='B500A FEM')\n",
    "ax_q_w.plot(DF_b500a_res['eZ_1 [mm]'], DF_b500a_res['Lpa'], color='black', linestyle='dashed', label='B500A FEM')\n",
    "ax_q_w.plot(w_C_array, q_C_array, color='gray', label='B500C analytisch')\n",
    "# ax_q_w.plot(w_C_FEM_array, q_C_FEM_array, color='gray', linestyle='dashed', label='B500C FEM')\n",
    "ax_q_w.plot(DF_b500c_res['eZ_1 [mm]'], DF_b500c_res['Lpa'], color='gray', linestyle='dashed', label='B500C FEM')\n",
    "\n",
    "# Add labels and show the plot\n",
    "ax_q_w.set_ylabel(\"$q$ [kN/m]\")\n",
    "ax_q_w.set_xlabel(\"$w$ [m]\")\n",
    "\n",
    "plt.legend()\n",
    "# Save the plot to the specified file\n",
    "plt.savefig(\"imgs/jag_q_w.svg\")\n",
    "# plt.close()"
   ]
  },
  {
   "cell_type": "markdown",
   "metadata": {},
   "source": [
    "![Last-Feldmittendurchbiegung-Diagramm für beide Betonstähle, analytisch gelöst und mit der FEM-Lösung nachgerechnet](../imgs/jag_q_w.svg){#fig-jag_q_w}"
   ]
  }
 ],
 "metadata": {
  "kernelspec": {
   "display_name": "calc",
   "language": "python",
   "name": "python3"
  },
  "language_info": {
   "codemirror_mode": {
    "name": "ipython",
    "version": 3
   },
   "file_extension": ".py",
   "mimetype": "text/x-python",
   "name": "python",
   "nbconvert_exporter": "python",
   "pygments_lexer": "ipython3",
   "version": "3.11.9"
  }
 },
 "nbformat": 4,
 "nbformat_minor": 2
}
